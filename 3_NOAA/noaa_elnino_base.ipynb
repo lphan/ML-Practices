{
 "cells": [
  {
   "cell_type": "markdown",
   "metadata": {},
   "source": [
    "## El Nino/Southern Oscillation (ENSO) -  Tropical Atmosphere Ocean (TAO)\n",
    "- How can the data be used to predict weather conditions throughout the world? \n",
    "- How do the variables relate to each other? \n",
    "- Which variables have a greater effect on the climate variations? \n",
    "- Does the amount of movement of the buoy effect the reliability of the data? \n"
   ]
  },
  {
   "cell_type": "code",
   "execution_count": 1,
   "metadata": {
    "collapsed": true
   },
   "outputs": [],
   "source": [
    "from startml import *"
   ]
  },
  {
   "cell_type": "code",
   "execution_count": 2,
   "metadata": {},
   "outputs": [
    {
     "name": "stdout",
     "output_type": "stream",
     "text": [
      "\n",
      "Data Columns: Index(['Observation', 'Year', 'Month', 'Day', 'Date', 'Latitude', 'Longitude',\n",
      "       'Zonal Winds', 'Meridional Winds', 'Humidity', 'Air Temp',\n",
      "       'Sea Surface Temp'],\n",
      "      dtype='object') \n",
      "\n",
      "Missing values in Data: \n",
      "Observation         0\n",
      "Year                0\n",
      "Month               0\n",
      "Day                 0\n",
      "Date                0\n",
      "Latitude            0\n",
      "Longitude           0\n",
      "Zonal Winds         0\n",
      "Meridional Winds    0\n",
      "Humidity            0\n",
      "Air Temp            0\n",
      "Sea Surface Temp    0\n",
      "dtype: int64 \n",
      "\n",
      "data.head(10): \n",
      "   Observation  Year  Month  Day    Date  Latitude  Longitude Zonal Winds  \\\n",
      "0            1    80      3    7  800307     -0.02    -109.46        -6.8   \n",
      "1            2    80      3    8  800308     -0.02    -109.46        -4.9   \n",
      "2            3    80      3    9  800309     -0.02    -109.46        -4.5   \n",
      "3            4    80      3   10  800310     -0.02    -109.46        -3.8   \n",
      "4            5    80      3   11  800311     -0.02    -109.46        -4.2   \n",
      "5            6    80      3   12  800312     -0.02    -109.46        -4.4   \n",
      "6            7    80      3   13  800313     -0.02    -109.46        -3.2   \n",
      "7            8    80      3   14  800314     -0.02    -109.46        -3.1   \n",
      "8            9    80      3   15  800315     -0.02    -109.46          -3   \n",
      "9           10    80      3   16  800316     -0.02    -109.46        -1.2   \n",
      "\n",
      "  Meridional Winds Humidity Air Temp Sea Surface Temp  \n",
      "0              0.7        .    26.14            26.24  \n",
      "1              1.1        .    25.66            25.97  \n",
      "2              2.2        .    25.69            25.28  \n",
      "3              1.9        .    25.57            24.31  \n",
      "4              1.5        .     25.3            23.19  \n",
      "5              0.3        .    24.72            23.64  \n",
      "6              0.1        .    24.66            24.34  \n",
      "7              0.6        .    25.17            24.14  \n",
      "8                1        .    25.59            24.24  \n",
      "9                1        .    26.71            25.94   \n",
      "\n",
      "<class 'pandas.core.frame.DataFrame'>\n",
      "RangeIndex: 178080 entries, 0 to 178079\n",
      "Data columns (total 12 columns):\n",
      "Observation         178080 non-null int64\n",
      "Year                178080 non-null int64\n",
      "Month               178080 non-null int64\n",
      "Day                 178080 non-null int64\n",
      "Date                178080 non-null int64\n",
      "Latitude            178080 non-null float64\n",
      "Longitude           178080 non-null float64\n",
      "Zonal Winds         178080 non-null object\n",
      "Meridional Winds    178080 non-null object\n",
      "Humidity            178080 non-null object\n",
      "Air Temp            178080 non-null object\n",
      "Sea Surface Temp    178080 non-null object\n",
      "dtypes: float64(2), int64(5), object(5)\n",
      "memory usage: 16.3+ MB\n",
      "data.info(): \n",
      "None \n",
      "\n",
      "data.describe(): \n",
      "         Observation           Year          Month            Day  \\\n",
      "count  178080.000000  178080.000000  178080.000000  178080.000000   \n",
      "mean    89040.500000      93.302325       6.504869      15.720536   \n",
      "std     51407.412306       3.393818       3.459657       8.800487   \n",
      "min         1.000000      80.000000       1.000000       1.000000   \n",
      "25%     44520.750000      92.000000       4.000000       8.000000   \n",
      "50%     89040.500000      94.000000       6.000000      16.000000   \n",
      "75%    133560.250000      96.000000      10.000000      23.000000   \n",
      "max    178080.000000      98.000000      12.000000      31.000000   \n",
      "\n",
      "                Date       Latitude      Longitude  \n",
      "count  178080.000000  178080.000000  178080.000000  \n",
      "mean   933689.455374       0.473626     -54.025233  \n",
      "std     33900.474320       4.583041     135.363994  \n",
      "min    800307.000000      -8.810000    -180.000000  \n",
      "25%    920116.000000      -2.010000    -154.950000  \n",
      "50%    940601.000000       0.010000    -111.260000  \n",
      "75%    960617.000000       4.980000     147.010000  \n",
      "max    980623.000000       9.050000     171.080000   \n",
      "\n",
      "Nans_columns: \n",
      "[]\n",
      "Nans_rows: \n",
      "0\n",
      "None\n"
     ]
    }
   ],
   "source": [
    "StartML.summary(train_data)"
   ]
  },
  {
   "cell_type": "code",
   "execution_count": 3,
   "metadata": {},
   "outputs": [
    {
     "data": {
      "text/html": [
       "<div>\n",
       "<style scoped>\n",
       "    .dataframe tbody tr th:only-of-type {\n",
       "        vertical-align: middle;\n",
       "    }\n",
       "\n",
       "    .dataframe tbody tr th {\n",
       "        vertical-align: top;\n",
       "    }\n",
       "\n",
       "    .dataframe thead th {\n",
       "        text-align: right;\n",
       "    }\n",
       "</style>\n",
       "<table border=\"1\" class=\"dataframe\">\n",
       "  <thead>\n",
       "    <tr style=\"text-align: right;\">\n",
       "      <th></th>\n",
       "      <th>Observation</th>\n",
       "      <th>Year</th>\n",
       "      <th>Month</th>\n",
       "      <th>Day</th>\n",
       "      <th>Date</th>\n",
       "      <th>Latitude</th>\n",
       "      <th>Longitude</th>\n",
       "      <th>Zonal Winds</th>\n",
       "      <th>Meridional Winds</th>\n",
       "      <th>Humidity</th>\n",
       "      <th>Air Temp</th>\n",
       "      <th>Sea Surface Temp</th>\n",
       "    </tr>\n",
       "  </thead>\n",
       "  <tbody>\n",
       "    <tr>\n",
       "      <th>0</th>\n",
       "      <td>1</td>\n",
       "      <td>80</td>\n",
       "      <td>3</td>\n",
       "      <td>7</td>\n",
       "      <td>800307</td>\n",
       "      <td>-0.02</td>\n",
       "      <td>-109.46</td>\n",
       "      <td>-6.8</td>\n",
       "      <td>0.7</td>\n",
       "      <td>.</td>\n",
       "      <td>26.14</td>\n",
       "      <td>26.24</td>\n",
       "    </tr>\n",
       "    <tr>\n",
       "      <th>1</th>\n",
       "      <td>2</td>\n",
       "      <td>80</td>\n",
       "      <td>3</td>\n",
       "      <td>8</td>\n",
       "      <td>800308</td>\n",
       "      <td>-0.02</td>\n",
       "      <td>-109.46</td>\n",
       "      <td>-4.9</td>\n",
       "      <td>1.1</td>\n",
       "      <td>.</td>\n",
       "      <td>25.66</td>\n",
       "      <td>25.97</td>\n",
       "    </tr>\n",
       "    <tr>\n",
       "      <th>2</th>\n",
       "      <td>3</td>\n",
       "      <td>80</td>\n",
       "      <td>3</td>\n",
       "      <td>9</td>\n",
       "      <td>800309</td>\n",
       "      <td>-0.02</td>\n",
       "      <td>-109.46</td>\n",
       "      <td>-4.5</td>\n",
       "      <td>2.2</td>\n",
       "      <td>.</td>\n",
       "      <td>25.69</td>\n",
       "      <td>25.28</td>\n",
       "    </tr>\n",
       "    <tr>\n",
       "      <th>3</th>\n",
       "      <td>4</td>\n",
       "      <td>80</td>\n",
       "      <td>3</td>\n",
       "      <td>10</td>\n",
       "      <td>800310</td>\n",
       "      <td>-0.02</td>\n",
       "      <td>-109.46</td>\n",
       "      <td>-3.8</td>\n",
       "      <td>1.9</td>\n",
       "      <td>.</td>\n",
       "      <td>25.57</td>\n",
       "      <td>24.31</td>\n",
       "    </tr>\n",
       "    <tr>\n",
       "      <th>4</th>\n",
       "      <td>5</td>\n",
       "      <td>80</td>\n",
       "      <td>3</td>\n",
       "      <td>11</td>\n",
       "      <td>800311</td>\n",
       "      <td>-0.02</td>\n",
       "      <td>-109.46</td>\n",
       "      <td>-4.2</td>\n",
       "      <td>1.5</td>\n",
       "      <td>.</td>\n",
       "      <td>25.3</td>\n",
       "      <td>23.19</td>\n",
       "    </tr>\n",
       "  </tbody>\n",
       "</table>\n",
       "</div>"
      ],
      "text/plain": [
       "   Observation  Year  Month  Day    Date  Latitude  Longitude Zonal Winds  \\\n",
       "0            1    80      3    7  800307     -0.02    -109.46        -6.8   \n",
       "1            2    80      3    8  800308     -0.02    -109.46        -4.9   \n",
       "2            3    80      3    9  800309     -0.02    -109.46        -4.5   \n",
       "3            4    80      3   10  800310     -0.02    -109.46        -3.8   \n",
       "4            5    80      3   11  800311     -0.02    -109.46        -4.2   \n",
       "\n",
       "  Meridional Winds Humidity Air Temp Sea Surface Temp  \n",
       "0              0.7        .    26.14            26.24  \n",
       "1              1.1        .    25.66            25.97  \n",
       "2              2.2        .    25.69            25.28  \n",
       "3              1.9        .    25.57            24.31  \n",
       "4              1.5        .     25.3            23.19  "
      ]
     },
     "execution_count": 3,
     "metadata": {},
     "output_type": "execute_result"
    }
   ],
   "source": [
    "train_data.head()"
   ]
  },
  {
   "cell_type": "code",
   "execution_count": 4,
   "metadata": {},
   "outputs": [
    {
     "data": {
      "text/plain": [
       "[('Observation', 0, dtype('int64')),\n",
       " ('Year', 1, dtype('int64')),\n",
       " ('Month', 2, dtype('int64')),\n",
       " ('Day', 3, dtype('int64')),\n",
       " ('Date', 4, dtype('int64')),\n",
       " ('Latitude', 5, dtype('float64')),\n",
       " ('Longitude', 6, dtype('float64')),\n",
       " ('Zonal Winds', 7, dtype('O')),\n",
       " ('Meridional Winds', 8, dtype('O')),\n",
       " ('Humidity', 9, dtype('O')),\n",
       " ('Air Temp', 10, dtype('O')),\n",
       " ('Sea Surface Temp', 11, dtype('O'))]"
      ]
     },
     "execution_count": 4,
     "metadata": {},
     "output_type": "execute_result"
    }
   ],
   "source": [
    "StartML.idx_columns(train_data)"
   ]
  },
  {
   "cell_type": "code",
   "execution_count": 5,
   "metadata": {},
   "outputs": [
    {
     "data": {
      "text/plain": [
       "[('Observation', 0, dtype('int64')),\n",
       " ('Year', 1, dtype('int64')),\n",
       " ('Month', 2, dtype('int64')),\n",
       " ('Day', 3, dtype('int64')),\n",
       " ('Date', 4, dtype('int64')),\n",
       " ('Latitude', 5, dtype('float64')),\n",
       " ('Longitude', 6, dtype('float64')),\n",
       " ('Zonal Winds', 7, dtype('float64')),\n",
       " ('Meridional Winds', 8, dtype('float64')),\n",
       " ('Humidity', 9, dtype('float64')),\n",
       " ('Air Temp', 10, dtype('float64')),\n",
       " ('Sea Surface Temp', 11, dtype('float64'))]"
      ]
     },
     "execution_count": 5,
     "metadata": {},
     "output_type": "execute_result"
    }
   ],
   "source": [
    "StartML.obj_num_convert(train_data)\n",
    "StartML.idx_columns(train_data)"
   ]
  },
  {
   "cell_type": "code",
   "execution_count": 6,
   "metadata": {},
   "outputs": [
    {
     "data": {
      "text/plain": [
       "['Zonal Winds', 'Meridional Winds', 'Humidity', 'Air Temp', 'Sea Surface Temp']"
      ]
     },
     "execution_count": 6,
     "metadata": {},
     "output_type": "execute_result"
    }
   ],
   "source": [
    "StartML.nan_columns(train_data)"
   ]
  },
  {
   "cell_type": "code",
   "execution_count": 7,
   "metadata": {},
   "outputs": [
    {
     "data": {
      "text/html": [
       "<div>\n",
       "<style scoped>\n",
       "    .dataframe tbody tr th:only-of-type {\n",
       "        vertical-align: middle;\n",
       "    }\n",
       "\n",
       "    .dataframe tbody tr th {\n",
       "        vertical-align: top;\n",
       "    }\n",
       "\n",
       "    .dataframe thead th {\n",
       "        text-align: right;\n",
       "    }\n",
       "</style>\n",
       "<table border=\"1\" class=\"dataframe\">\n",
       "  <thead>\n",
       "    <tr style=\"text-align: right;\">\n",
       "      <th></th>\n",
       "      <th>Observation</th>\n",
       "      <th>Year</th>\n",
       "      <th>Month</th>\n",
       "      <th>Day</th>\n",
       "      <th>Date</th>\n",
       "      <th>Latitude</th>\n",
       "      <th>Longitude</th>\n",
       "      <th>Zonal Winds</th>\n",
       "      <th>Meridional Winds</th>\n",
       "      <th>Humidity</th>\n",
       "      <th>Air Temp</th>\n",
       "      <th>Sea Surface Temp</th>\n",
       "    </tr>\n",
       "  </thead>\n",
       "  <tbody>\n",
       "    <tr>\n",
       "      <th>0</th>\n",
       "      <td>1</td>\n",
       "      <td>80</td>\n",
       "      <td>3</td>\n",
       "      <td>7</td>\n",
       "      <td>800307</td>\n",
       "      <td>-0.02</td>\n",
       "      <td>-109.46</td>\n",
       "      <td>-6.8</td>\n",
       "      <td>0.7</td>\n",
       "      <td>NaN</td>\n",
       "      <td>26.14</td>\n",
       "      <td>26.24</td>\n",
       "    </tr>\n",
       "    <tr>\n",
       "      <th>1</th>\n",
       "      <td>2</td>\n",
       "      <td>80</td>\n",
       "      <td>3</td>\n",
       "      <td>8</td>\n",
       "      <td>800308</td>\n",
       "      <td>-0.02</td>\n",
       "      <td>-109.46</td>\n",
       "      <td>-4.9</td>\n",
       "      <td>1.1</td>\n",
       "      <td>NaN</td>\n",
       "      <td>25.66</td>\n",
       "      <td>25.97</td>\n",
       "    </tr>\n",
       "    <tr>\n",
       "      <th>2</th>\n",
       "      <td>3</td>\n",
       "      <td>80</td>\n",
       "      <td>3</td>\n",
       "      <td>9</td>\n",
       "      <td>800309</td>\n",
       "      <td>-0.02</td>\n",
       "      <td>-109.46</td>\n",
       "      <td>-4.5</td>\n",
       "      <td>2.2</td>\n",
       "      <td>NaN</td>\n",
       "      <td>25.69</td>\n",
       "      <td>25.28</td>\n",
       "    </tr>\n",
       "    <tr>\n",
       "      <th>3</th>\n",
       "      <td>4</td>\n",
       "      <td>80</td>\n",
       "      <td>3</td>\n",
       "      <td>10</td>\n",
       "      <td>800310</td>\n",
       "      <td>-0.02</td>\n",
       "      <td>-109.46</td>\n",
       "      <td>-3.8</td>\n",
       "      <td>1.9</td>\n",
       "      <td>NaN</td>\n",
       "      <td>25.57</td>\n",
       "      <td>24.31</td>\n",
       "    </tr>\n",
       "    <tr>\n",
       "      <th>4</th>\n",
       "      <td>5</td>\n",
       "      <td>80</td>\n",
       "      <td>3</td>\n",
       "      <td>11</td>\n",
       "      <td>800311</td>\n",
       "      <td>-0.02</td>\n",
       "      <td>-109.46</td>\n",
       "      <td>-4.2</td>\n",
       "      <td>1.5</td>\n",
       "      <td>NaN</td>\n",
       "      <td>25.30</td>\n",
       "      <td>23.19</td>\n",
       "    </tr>\n",
       "  </tbody>\n",
       "</table>\n",
       "</div>"
      ],
      "text/plain": [
       "   Observation  Year  Month  Day    Date  Latitude  Longitude  Zonal Winds  \\\n",
       "0            1    80      3    7  800307     -0.02    -109.46         -6.8   \n",
       "1            2    80      3    8  800308     -0.02    -109.46         -4.9   \n",
       "2            3    80      3    9  800309     -0.02    -109.46         -4.5   \n",
       "3            4    80      3   10  800310     -0.02    -109.46         -3.8   \n",
       "4            5    80      3   11  800311     -0.02    -109.46         -4.2   \n",
       "\n",
       "   Meridional Winds  Humidity  Air Temp  Sea Surface Temp  \n",
       "0               0.7       NaN     26.14             26.24  \n",
       "1               1.1       NaN     25.66             25.97  \n",
       "2               2.2       NaN     25.69             25.28  \n",
       "3               1.9       NaN     25.57             24.31  \n",
       "4               1.5       NaN     25.30             23.19  "
      ]
     },
     "execution_count": 7,
     "metadata": {},
     "output_type": "execute_result"
    }
   ],
   "source": [
    "train_data.head()"
   ]
  },
  {
   "cell_type": "code",
   "execution_count": 8,
   "metadata": {
    "collapsed": true
   },
   "outputs": [],
   "source": [
    "train_data.reset_index(drop=True, inplace=True)"
   ]
  },
  {
   "cell_type": "code",
   "execution_count": 9,
   "metadata": {
    "collapsed": true
   },
   "outputs": [],
   "source": [
    "train_data = StartML.process_nan_columns(train_data)"
   ]
  },
  {
   "cell_type": "code",
   "execution_count": 10,
   "metadata": {},
   "outputs": [
    {
     "data": {
      "text/plain": [
       "[]"
      ]
     },
     "execution_count": 10,
     "metadata": {},
     "output_type": "execute_result"
    }
   ],
   "source": [
    "StartML.nan_columns(train_data)"
   ]
  },
  {
   "cell_type": "code",
   "execution_count": 11,
   "metadata": {
    "collapsed": true
   },
   "outputs": [],
   "source": [
    "train_data.to_csv('nonan_elnino.csv', index=False)"
   ]
  }
 ],
 "metadata": {
  "kernelspec": {
   "display_name": "Python 3",
   "language": "python",
   "name": "python3"
  },
  "language_info": {
   "codemirror_mode": {
    "name": "ipython",
    "version": 3
   },
   "file_extension": ".py",
   "mimetype": "text/x-python",
   "name": "python",
   "nbconvert_exporter": "python",
   "pygments_lexer": "ipython3",
   "version": "3.5.4"
  }
 },
 "nbformat": 4,
 "nbformat_minor": 2
}
