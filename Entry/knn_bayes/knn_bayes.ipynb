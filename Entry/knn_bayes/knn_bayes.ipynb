{
 "cells": [
  {
   "cell_type": "code",
   "execution_count": 1,
   "metadata": {
    "collapsed": true
   },
   "outputs": [],
   "source": [
    "import pandas as pd\n",
    "import numpy as np"
   ]
  },
  {
   "cell_type": "code",
   "execution_count": 2,
   "metadata": {
    "collapsed": true
   },
   "outputs": [],
   "source": [
    "feature_set = pd.read_csv('dataset/features-400.txt', sep='\\s+', names=['Email_ID', 'Word_ID', 'Frequency'])\n",
    "label_set = pd.read_csv('dataset/labels-400.txt', sep='\\s+', names=['labels'])\n"
   ]
  },
  {
   "cell_type": "code",
   "execution_count": 3,
   "metadata": {
    "collapsed": true
   },
   "outputs": [],
   "source": [
    "# initial value of labels \n",
    "feature_set['Label'] = 0\n",
    "\n",
    "# replace label of feature_set by value from label_set\n",
    "idx = 0\n",
    "for i in range(len(feature_set.values)):\n",
    "    if (feature_set.values[i][0] == (idx+1)):\n",
    "        feature_set.values[i][3] = label_set.values[idx][0]        \n",
    "    else:\n",
    "        idx = idx + 1\n",
    "        feature_set.values[i][3] = label_set.values[idx][0]\n",
    "    "
   ]
  },
  {
   "cell_type": "code",
   "execution_count": 4,
   "metadata": {},
   "outputs": [
    {
     "data": {
      "text/plain": [
       "43691"
      ]
     },
     "execution_count": 4,
     "metadata": {},
     "output_type": "execute_result"
    }
   ],
   "source": [
    "len(feature_set.values)\n"
   ]
  },
  {
   "cell_type": "code",
   "execution_count": 5,
   "metadata": {
    "collapsed": true
   },
   "outputs": [],
   "source": [
    "# rename it to data_set\n",
    "data_set = feature_set\n",
    "X = data_set.iloc[:, :-1].values\n",
    "y = data_set.iloc[:, 3].values"
   ]
  },
  {
   "cell_type": "code",
   "execution_count": 6,
   "metadata": {},
   "outputs": [
    {
     "data": {
      "text/plain": [
       "43691"
      ]
     },
     "execution_count": 6,
     "metadata": {},
     "output_type": "execute_result"
    }
   ],
   "source": [
    "len(data_set)"
   ]
  },
  {
   "cell_type": "code",
   "execution_count": 7,
   "metadata": {},
   "outputs": [
    {
     "name": "stdout",
     "output_type": "stream",
     "text": [
      "30583\n",
      "13108\n"
     ]
    }
   ],
   "source": [
    "from sklearn.model_selection import train_test_split\n",
    "email_data_train, email_data_test, email_data_train_target, email_data_test_target = train_test_split(X, y, test_size=0.3, random_state=0)\n",
    "\n",
    "print (len(email_data_train))\n",
    "print (len(email_data_test))"
   ]
  },
  {
   "cell_type": "code",
   "execution_count": 8,
   "metadata": {},
   "outputs": [
    {
     "data": {
      "text/plain": [
       "MultinomialNB(alpha=1.0, class_prior=None, fit_prior=True)"
      ]
     },
     "execution_count": 8,
     "metadata": {},
     "output_type": "execute_result"
    }
   ],
   "source": [
    "# email_data_train = data_train[:, 0:3]\n",
    "# email_data_train_target = data_train[:, 3:4]\n",
    "# convert to numpy array\n",
    "# email_data_train_target = np.array([item[0] for item in email_data_train_target])\n",
    "\n",
    "from sklearn.naive_bayes import MultinomialNB\n",
    "clf = MultinomialNB()\n",
    "clf.fit(email_data_train, email_data_train_target)\n"
   ]
  },
  {
   "cell_type": "code",
   "execution_count": 9,
   "metadata": {},
   "outputs": [
    {
     "data": {
      "text/plain": [
       "72.069450348232678"
      ]
     },
     "execution_count": 9,
     "metadata": {},
     "output_type": "execute_result"
    }
   ],
   "source": [
    "# predict with test_data\n",
    "train_result = clf.predict(email_data_train)\n",
    "\n",
    "z = (train_result == email_data_train_target)\n",
    "\n",
    "# print ((z==True).sum())\n",
    "# print ((z==False).sum())\n",
    "# print (len(z))\n",
    "\n",
    "accuracy_train = ((z==True).sum() / len(z)) * 100\n",
    "\n",
    "accuracy_train"
   ]
  },
  {
   "cell_type": "code",
   "execution_count": 10,
   "metadata": {},
   "outputs": [
    {
     "data": {
      "text/plain": [
       "array([1, 1, 1, ..., 1, 0, 1])"
      ]
     },
     "execution_count": 10,
     "metadata": {},
     "output_type": "execute_result"
    }
   ],
   "source": [
    "# predict with test_data\n",
    "test_result = clf.predict(email_data_test)\n",
    "test_result"
   ]
  },
  {
   "cell_type": "code",
   "execution_count": 11,
   "metadata": {},
   "outputs": [
    {
     "data": {
      "text/plain": [
       "array([1, 1, 1, ..., 1, 0, 1])"
      ]
     },
     "execution_count": 11,
     "metadata": {},
     "output_type": "execute_result"
    }
   ],
   "source": [
    "email_data_test_target"
   ]
  },
  {
   "cell_type": "code",
   "execution_count": 12,
   "metadata": {},
   "outputs": [
    {
     "data": {
      "text/plain": [
       "72.200183094293564"
      ]
     },
     "execution_count": 12,
     "metadata": {},
     "output_type": "execute_result"
    }
   ],
   "source": [
    "z = test_result == email_data_test_target\n",
    "# print ((z == True).sum())\n",
    "# print ((z == False).sum())\n",
    "# print (len(z))\n",
    "accuracy_test = ((z == True).sum() / len(z)) * 100\n",
    "\n",
    "accuracy_test"
   ]
  },
  {
   "cell_type": "code",
   "execution_count": 13,
   "metadata": {},
   "outputs": [
    {
     "data": {
      "text/plain": [
       "KNeighborsClassifier(algorithm='auto', leaf_size=30, metric='minkowski',\n",
       "           metric_params=None, n_jobs=1, n_neighbors=1, p=2,\n",
       "           weights='uniform')"
      ]
     },
     "execution_count": 13,
     "metadata": {},
     "output_type": "execute_result"
    }
   ],
   "source": [
    "from sklearn.neighbors import KNeighborsClassifier \n",
    "\n",
    "# choose k=1 and weights=distance with advantages goes for closer neighbors\n",
    "neigh = KNeighborsClassifier(n_neighbors=1, weights='uniform')\n",
    "\n",
    "# fit the model neigh using email_data_train and email_data_train_target\n",
    "neigh.fit(email_data_train, email_data_train_target.ravel())\n",
    "\n"
   ]
  },
  {
   "cell_type": "markdown",
   "metadata": {},
   "source": [
    "Why choosing weigh = distance/ uniform ?\n",
    "In default, the choice of weigh is uniform.\n",
    "In this case, the choice of weigh does not matter, affect or improve the accuracy. \n",
    "since we tried both weigh-function and compare the results each other. \n",
    "So, we choose the default setting."
   ]
  },
  {
   "cell_type": "code",
   "execution_count": 14,
   "metadata": {},
   "outputs": [
    {
     "data": {
      "text/plain": [
       "100.0"
      ]
     },
     "execution_count": 14,
     "metadata": {},
     "output_type": "execute_result"
    }
   ],
   "source": [
    "neigh_result = neigh.predict(email_data_train)\n",
    "\n",
    "# print (email_data_train_target)\n",
    "\n",
    "accuracy_train = (neigh_result == email_data_train_target).sum()/ (len(neigh_result))  * 100\n",
    "\n",
    "accuracy_train "
   ]
  },
  {
   "cell_type": "code",
   "execution_count": 15,
   "metadata": {},
   "outputs": [
    {
     "data": {
      "text/plain": [
       "99.649069270674389"
      ]
     },
     "execution_count": 15,
     "metadata": {},
     "output_type": "execute_result"
    }
   ],
   "source": [
    "neigh_result = neigh.predict(email_data_test)\n",
    "\n",
    "accuracy_test = (neigh_result == email_data_test_target).sum()/ (len(neigh_result))  * 100\n",
    "\n",
    "accuracy_test\n",
    "\n",
    "# with setting weigh = distance, result will be 99.649069270674389, too.\n"
   ]
  },
  {
   "cell_type": "markdown",
   "metadata": {},
   "source": [
    "For the same test_data, we compare the results from 2 methods:\n",
    "\n",
    "Using kNN"
   ]
  },
  {
   "cell_type": "code",
   "execution_count": 16,
   "metadata": {
    "collapsed": true
   },
   "outputs": [],
   "source": [
    "nospam_0 = [item for item in neigh_result if item==0] \n",
    "spam_1 = [item for item in neigh_result if item==1] "
   ]
  },
  {
   "cell_type": "code",
   "execution_count": 17,
   "metadata": {},
   "outputs": [
    {
     "data": {
      "text/plain": [
       "array([1, 1, 1, ..., 1, 0, 1])"
      ]
     },
     "execution_count": 17,
     "metadata": {},
     "output_type": "execute_result"
    }
   ],
   "source": [
    "neigh_result"
   ]
  },
  {
   "cell_type": "code",
   "execution_count": 18,
   "metadata": {},
   "outputs": [
    {
     "data": {
      "text/plain": [
       "4868"
      ]
     },
     "execution_count": 18,
     "metadata": {},
     "output_type": "execute_result"
    }
   ],
   "source": [
    "len(nospam_0)"
   ]
  },
  {
   "cell_type": "code",
   "execution_count": 19,
   "metadata": {},
   "outputs": [
    {
     "data": {
      "text/plain": [
       "8240"
      ]
     },
     "execution_count": 19,
     "metadata": {},
     "output_type": "execute_result"
    }
   ],
   "source": [
    "len(spam_1)"
   ]
  },
  {
   "cell_type": "markdown",
   "metadata": {},
   "source": [
    "Using Naive Bayes"
   ]
  },
  {
   "cell_type": "code",
   "execution_count": 20,
   "metadata": {
    "collapsed": true
   },
   "outputs": [],
   "source": [
    "nospam_0 = [item for item in test_result if item==0] \n",
    "spam_1 = [item for item in test_result if item==1] "
   ]
  },
  {
   "cell_type": "code",
   "execution_count": 21,
   "metadata": {},
   "outputs": [
    {
     "data": {
      "text/plain": [
       "4588"
      ]
     },
     "execution_count": 21,
     "metadata": {},
     "output_type": "execute_result"
    }
   ],
   "source": [
    "len(nospam_0)"
   ]
  },
  {
   "cell_type": "code",
   "execution_count": 22,
   "metadata": {},
   "outputs": [
    {
     "data": {
      "text/plain": [
       "8520"
      ]
     },
     "execution_count": 22,
     "metadata": {},
     "output_type": "execute_result"
    }
   ],
   "source": [
    "len(spam_1)"
   ]
  },
  {
   "cell_type": "markdown",
   "metadata": {},
   "source": [
    "Conclusion: Naive Bayes detects more spam mail (8520) than kNN (8240)"
   ]
  }
 ],
 "metadata": {
  "kernelspec": {
   "display_name": "Python 3",
   "language": "python",
   "name": "python3"
  },
  "language_info": {
   "codemirror_mode": {
    "name": "ipython",
    "version": 3
   },
   "file_extension": ".py",
   "mimetype": "text/x-python",
   "name": "python",
   "nbconvert_exporter": "python",
   "pygments_lexer": "ipython3",
   "version": "3.5.4"
  }
 },
 "nbformat": 4,
 "nbformat_minor": 2
}
