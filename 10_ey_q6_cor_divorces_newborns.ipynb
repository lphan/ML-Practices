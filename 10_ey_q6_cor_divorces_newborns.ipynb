{
 "cells": [
  {
   "cell_type": "markdown",
   "metadata": {},
   "source": [
    "### Question: does the number of divorces influence the number of newborns?"
   ]
  },
  {
   "cell_type": "code",
   "execution_count": 1,
   "metadata": {},
   "outputs": [
    {
     "name": "stdout",
     "output_type": "stream",
     "text": [
      "local_kwargs {'data_path_1': '10_EY/marriages_1950_2015.csv', 'data_path_2': '10_EY/marriages_groupby_age2015.csv', 'data_path_3': '10_EY/marriages_groupby_de_1994_2015.csv', 'drop_obj_col': False, 'nan_drop_col': False, 'nan_drop_row': False, 'nan_zero': False, 'nan_mean': True, 'nan_mean_neighbors': False}\n"
     ]
    }
   ],
   "source": [
    "from Starts.startmodskl import *\n",
    "from Starts.startvis import *\n",
    "%matplotlib inline\n",
    "rcParams['figure.figsize'] = 15, 6\n",
    "\n",
    "newborn_1950_2015 = pd.read_csv('10_EY/newborn_1950_2015.csv')\n",
    "divorces_1950_2015 = pd.read_csv('10_EY/divorces_1950_2015.csv')\n",
    "\n",
    "newborn_1950_2015.set_index('Jahr', inplace=True)\n",
    "divorces_1950_2015.set_index('Jahr', inplace=True)"
   ]
  },
  {
   "cell_type": "code",
   "execution_count": 2,
   "metadata": {},
   "outputs": [
    {
     "data": {
      "text/html": [
       "<div>\n",
       "<style>\n",
       "    .dataframe thead tr:only-child th {\n",
       "        text-align: right;\n",
       "    }\n",
       "\n",
       "    .dataframe thead th {\n",
       "        text-align: left;\n",
       "    }\n",
       "\n",
       "    .dataframe tbody tr th {\n",
       "        vertical-align: top;\n",
       "    }\n",
       "</style>\n",
       "<table border=\"1\" class=\"dataframe\">\n",
       "  <thead>\n",
       "    <tr style=\"text-align: right;\">\n",
       "      <th></th>\n",
       "      <th>Ehescheidungen</th>\n",
       "    </tr>\n",
       "    <tr>\n",
       "      <th>Jahr</th>\n",
       "      <th></th>\n",
       "    </tr>\n",
       "  </thead>\n",
       "  <tbody>\n",
       "    <tr>\n",
       "      <th>1950</th>\n",
       "      <td>84674</td>\n",
       "    </tr>\n",
       "    <tr>\n",
       "      <th>1951</th>\n",
       "      <td>63973</td>\n",
       "    </tr>\n",
       "    <tr>\n",
       "      <th>1952</th>\n",
       "      <td>57929</td>\n",
       "    </tr>\n",
       "    <tr>\n",
       "      <th>1953</th>\n",
       "      <td>53872</td>\n",
       "    </tr>\n",
       "    <tr>\n",
       "      <th>1954</th>\n",
       "      <td>50665</td>\n",
       "    </tr>\n",
       "  </tbody>\n",
       "</table>\n",
       "</div>"
      ],
      "text/plain": [
       "      Ehescheidungen\n",
       "Jahr                \n",
       "1950           84674\n",
       "1951           63973\n",
       "1952           57929\n",
       "1953           53872\n",
       "1954           50665"
      ]
     },
     "execution_count": 2,
     "metadata": {},
     "output_type": "execute_result"
    }
   ],
   "source": [
    "divorces_1950_2015.head()"
   ]
  },
  {
   "cell_type": "code",
   "execution_count": 3,
   "metadata": {},
   "outputs": [
    {
     "data": {
      "text/html": [
       "<div>\n",
       "<style>\n",
       "    .dataframe thead tr:only-child th {\n",
       "        text-align: right;\n",
       "    }\n",
       "\n",
       "    .dataframe thead th {\n",
       "        text-align: left;\n",
       "    }\n",
       "\n",
       "    .dataframe tbody tr th {\n",
       "        vertical-align: top;\n",
       "    }\n",
       "</style>\n",
       "<table border=\"1\" class=\"dataframe\">\n",
       "  <thead>\n",
       "    <tr style=\"text-align: right;\">\n",
       "      <th></th>\n",
       "      <th>männlich</th>\n",
       "      <th>weiblich</th>\n",
       "      <th>Insgesamt</th>\n",
       "    </tr>\n",
       "    <tr>\n",
       "      <th>Jahr</th>\n",
       "      <th></th>\n",
       "      <th></th>\n",
       "      <th></th>\n",
       "    </tr>\n",
       "  </thead>\n",
       "  <tbody>\n",
       "    <tr>\n",
       "      <th>1950</th>\n",
       "      <td>578191.0</td>\n",
       "      <td>538510.0</td>\n",
       "      <td>1116701.0</td>\n",
       "    </tr>\n",
       "    <tr>\n",
       "      <th>1951</th>\n",
       "      <td>571699.0</td>\n",
       "      <td>534681.0</td>\n",
       "      <td>1106380.0</td>\n",
       "    </tr>\n",
       "    <tr>\n",
       "      <th>1952</th>\n",
       "      <td>571152.0</td>\n",
       "      <td>533932.0</td>\n",
       "      <td>1105084.0</td>\n",
       "    </tr>\n",
       "    <tr>\n",
       "      <th>1953</th>\n",
       "      <td>564929.0</td>\n",
       "      <td>530100.0</td>\n",
       "      <td>1095029.0</td>\n",
       "    </tr>\n",
       "    <tr>\n",
       "      <th>1954</th>\n",
       "      <td>572559.0</td>\n",
       "      <td>537184.0</td>\n",
       "      <td>1109743.0</td>\n",
       "    </tr>\n",
       "  </tbody>\n",
       "</table>\n",
       "</div>"
      ],
      "text/plain": [
       "      männlich  weiblich  Insgesamt\n",
       "Jahr                               \n",
       "1950  578191.0  538510.0  1116701.0\n",
       "1951  571699.0  534681.0  1106380.0\n",
       "1952  571152.0  533932.0  1105084.0\n",
       "1953  564929.0  530100.0  1095029.0\n",
       "1954  572559.0  537184.0  1109743.0"
      ]
     },
     "execution_count": 3,
     "metadata": {},
     "output_type": "execute_result"
    }
   ],
   "source": [
    "newborn_1950_2015.head()"
   ]
  },
  {
   "cell_type": "code",
   "execution_count": 4,
   "metadata": {},
   "outputs": [
    {
     "data": {
      "text/html": [
       "<div>\n",
       "<style>\n",
       "    .dataframe thead tr:only-child th {\n",
       "        text-align: right;\n",
       "    }\n",
       "\n",
       "    .dataframe thead th {\n",
       "        text-align: left;\n",
       "    }\n",
       "\n",
       "    .dataframe tbody tr th {\n",
       "        vertical-align: top;\n",
       "    }\n",
       "</style>\n",
       "<table border=\"1\" class=\"dataframe\">\n",
       "  <thead>\n",
       "    <tr style=\"text-align: right;\">\n",
       "      <th></th>\n",
       "      <th>männlich</th>\n",
       "      <th>weiblich</th>\n",
       "      <th>Insgesamt</th>\n",
       "      <th>Ehescheidungen</th>\n",
       "    </tr>\n",
       "    <tr>\n",
       "      <th>Jahr</th>\n",
       "      <th></th>\n",
       "      <th></th>\n",
       "      <th></th>\n",
       "      <th></th>\n",
       "    </tr>\n",
       "  </thead>\n",
       "  <tbody>\n",
       "    <tr>\n",
       "      <th>1950</th>\n",
       "      <td>578191.0</td>\n",
       "      <td>538510.0</td>\n",
       "      <td>1116701.0</td>\n",
       "      <td>84674</td>\n",
       "    </tr>\n",
       "    <tr>\n",
       "      <th>1951</th>\n",
       "      <td>571699.0</td>\n",
       "      <td>534681.0</td>\n",
       "      <td>1106380.0</td>\n",
       "      <td>63973</td>\n",
       "    </tr>\n",
       "    <tr>\n",
       "      <th>1952</th>\n",
       "      <td>571152.0</td>\n",
       "      <td>533932.0</td>\n",
       "      <td>1105084.0</td>\n",
       "      <td>57929</td>\n",
       "    </tr>\n",
       "    <tr>\n",
       "      <th>1953</th>\n",
       "      <td>564929.0</td>\n",
       "      <td>530100.0</td>\n",
       "      <td>1095029.0</td>\n",
       "      <td>53872</td>\n",
       "    </tr>\n",
       "    <tr>\n",
       "      <th>1954</th>\n",
       "      <td>572559.0</td>\n",
       "      <td>537184.0</td>\n",
       "      <td>1109743.0</td>\n",
       "      <td>50665</td>\n",
       "    </tr>\n",
       "  </tbody>\n",
       "</table>\n",
       "</div>"
      ],
      "text/plain": [
       "      männlich  weiblich  Insgesamt  Ehescheidungen\n",
       "Jahr                                               \n",
       "1950  578191.0  538510.0  1116701.0           84674\n",
       "1951  571699.0  534681.0  1106380.0           63973\n",
       "1952  571152.0  533932.0  1105084.0           57929\n",
       "1953  564929.0  530100.0  1095029.0           53872\n",
       "1954  572559.0  537184.0  1109743.0           50665"
      ]
     },
     "execution_count": 4,
     "metadata": {},
     "output_type": "execute_result"
    }
   ],
   "source": [
    "newborn_divorces_1950_2015 = pd.concat([newborn_1950_2015, divorces_1950_2015], axis=1)\n",
    "newborn_divorces_1950_2015.head()"
   ]
  },
  {
   "cell_type": "code",
   "execution_count": 5,
   "metadata": {},
   "outputs": [
    {
     "data": {
      "text/plain": [
       "<matplotlib.axes._subplots.AxesSubplot at 0x7f07ce8f03c8>"
      ]
     },
     "execution_count": 5,
     "metadata": {},
     "output_type": "execute_result"
    },
    {
     "data": {
      "image/png": "[encoded data removed]",
      "text/plain": [
       "<matplotlib.figure.Figure at 0x7f0814443cf8>"
      ]
     },
     "metadata": {},
     "output_type": "display_data"
    }
   ],
   "source": [
    "newborn_divorces_1950_2015.plot()"
   ]
  },
  {
   "cell_type": "code",
   "execution_count": 6,
   "metadata": {},
   "outputs": [
    {
     "data": {
      "text/html": [
       "<div>\n",
       "<style>\n",
       "    .dataframe thead tr:only-child th {\n",
       "        text-align: right;\n",
       "    }\n",
       "\n",
       "    .dataframe thead th {\n",
       "        text-align: left;\n",
       "    }\n",
       "\n",
       "    .dataframe tbody tr th {\n",
       "        vertical-align: top;\n",
       "    }\n",
       "</style>\n",
       "<table border=\"1\" class=\"dataframe\">\n",
       "  <thead>\n",
       "    <tr style=\"text-align: right;\">\n",
       "      <th></th>\n",
       "      <th>männlich</th>\n",
       "      <th>weiblich</th>\n",
       "      <th>Insgesamt</th>\n",
       "      <th>Ehescheidungen</th>\n",
       "    </tr>\n",
       "  </thead>\n",
       "  <tbody>\n",
       "    <tr>\n",
       "      <th>männlich</th>\n",
       "      <td>1.000000</td>\n",
       "      <td>0.999828</td>\n",
       "      <td>0.999960</td>\n",
       "      <td>-0.841075</td>\n",
       "    </tr>\n",
       "    <tr>\n",
       "      <th>weiblich</th>\n",
       "      <td>0.999828</td>\n",
       "      <td>1.000000</td>\n",
       "      <td>0.999954</td>\n",
       "      <td>-0.838569</td>\n",
       "    </tr>\n",
       "    <tr>\n",
       "      <th>Insgesamt</th>\n",
       "      <td>0.999960</td>\n",
       "      <td>0.999954</td>\n",
       "      <td>1.000000</td>\n",
       "      <td>-0.839901</td>\n",
       "    </tr>\n",
       "    <tr>\n",
       "      <th>Ehescheidungen</th>\n",
       "      <td>-0.841075</td>\n",
       "      <td>-0.838569</td>\n",
       "      <td>-0.839901</td>\n",
       "      <td>1.000000</td>\n",
       "    </tr>\n",
       "  </tbody>\n",
       "</table>\n",
       "</div>"
      ],
      "text/plain": [
       "                männlich  weiblich  Insgesamt  Ehescheidungen\n",
       "männlich        1.000000  0.999828   0.999960       -0.841075\n",
       "weiblich        0.999828  1.000000   0.999954       -0.838569\n",
       "Insgesamt       0.999960  0.999954   1.000000       -0.839901\n",
       "Ehescheidungen -0.841075 -0.838569  -0.839901        1.000000"
      ]
     },
     "execution_count": 6,
     "metadata": {},
     "output_type": "execute_result"
    }
   ],
   "source": [
    "newborn_divorces_1950_2015.corr()"
   ]
  },
  {
   "cell_type": "code",
   "execution_count": 7,
   "metadata": {},
   "outputs": [
    {
     "data": {
      "text/html": [
       "<div>\n",
       "<style>\n",
       "    .dataframe thead tr:only-child th {\n",
       "        text-align: right;\n",
       "    }\n",
       "\n",
       "    .dataframe thead th {\n",
       "        text-align: left;\n",
       "    }\n",
       "\n",
       "    .dataframe tbody tr th {\n",
       "        vertical-align: top;\n",
       "    }\n",
       "</style>\n",
       "<table border=\"1\" class=\"dataframe\">\n",
       "  <thead>\n",
       "    <tr style=\"text-align: right;\">\n",
       "      <th></th>\n",
       "      <th>Insgesamt</th>\n",
       "      <th>Ehescheidungen</th>\n",
       "    </tr>\n",
       "  </thead>\n",
       "  <tbody>\n",
       "    <tr>\n",
       "      <th>Insgesamt</th>\n",
       "      <td>1.000000</td>\n",
       "      <td>-0.839901</td>\n",
       "    </tr>\n",
       "    <tr>\n",
       "      <th>Ehescheidungen</th>\n",
       "      <td>-0.839901</td>\n",
       "      <td>1.000000</td>\n",
       "    </tr>\n",
       "  </tbody>\n",
       "</table>\n",
       "</div>"
      ],
      "text/plain": [
       "                Insgesamt  Ehescheidungen\n",
       "Insgesamt        1.000000       -0.839901\n",
       "Ehescheidungen  -0.839901        1.000000"
      ]
     },
     "execution_count": 7,
     "metadata": {},
     "output_type": "execute_result"
    }
   ],
   "source": [
    "newborn_divorces_1950_2015[['Insgesamt', 'Ehescheidungen']].corr()"
   ]
  },
  {
   "cell_type": "markdown",
   "metadata": {},
   "source": [
    "### Answer: probably, yes. Correlation function bases on Pearson-Correlation, and the result shows the negative Pearson-Correlation -0.84, so the number of newborn is decreasing when number of divorces is increasing."
   ]
  },
  {
   "cell_type": "code",
   "execution_count": null,
   "metadata": {},
   "outputs": [],
   "source": []
  }
 ],
 "metadata": {
  "kernelspec": {
   "display_name": "Python 3",
   "language": "python",
   "name": "python3"
  },
  "language_info": {
   "codemirror_mode": {
    "name": "ipython",
    "version": 3
   },
   "file_extension": ".py",
   "mimetype": "text/x-python",
   "name": "python",
   "nbconvert_exporter": "python",
   "pygments_lexer": "ipython3",
   "version": "3.6.4"
  }
 },
 "nbformat": 4,
 "nbformat_minor": 2
}
