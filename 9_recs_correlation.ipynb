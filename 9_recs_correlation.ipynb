{
 "cells": [
  {
   "cell_type": "code",
   "execution_count": 1,
   "metadata": {},
   "outputs": [
    {
     "name": "stdout",
     "output_type": "stream",
     "text": [
      "local_kwargs {'data_path_1': '9_RECS/rating_final.csv', 'data_path_2': '9_RECS/chefmozcuisine.csv', 'data_path_3': '', 'drop_obj_col': False, 'nan_drop_col': False, 'nan_drop_row': False, 'nan_zero': False, 'nan_mean': True, 'nan_mean_neighbors': False}\n"
     ]
    }
   ],
   "source": [
    "from Starts.startml import *\n",
    "from Starts.startvis import *\n",
    "from Starts.startmodrec import *\n",
    "%matplotlib inline\n",
    "rcParams['figure.figsize'] = 20, 6"
   ]
  },
  {
   "cell_type": "code",
   "execution_count": 2,
   "metadata": {
    "scrolled": true
   },
   "outputs": [
    {
     "data": {
      "text/html": [
       "<div>\n",
       "<style>\n",
       "    .dataframe thead tr:only-child th {\n",
       "        text-align: right;\n",
       "    }\n",
       "\n",
       "    .dataframe thead th {\n",
       "        text-align: left;\n",
       "    }\n",
       "\n",
       "    .dataframe tbody tr th {\n",
       "        vertical-align: top;\n",
       "    }\n",
       "</style>\n",
       "<table border=\"1\" class=\"dataframe\">\n",
       "  <thead>\n",
       "    <tr style=\"text-align: right;\">\n",
       "      <th></th>\n",
       "      <th>userID</th>\n",
       "      <th>placeID</th>\n",
       "      <th>rating</th>\n",
       "      <th>food_rating</th>\n",
       "      <th>service_rating</th>\n",
       "    </tr>\n",
       "  </thead>\n",
       "  <tbody>\n",
       "    <tr>\n",
       "      <th>0</th>\n",
       "      <td>U1077</td>\n",
       "      <td>135085</td>\n",
       "      <td>2</td>\n",
       "      <td>2</td>\n",
       "      <td>2</td>\n",
       "    </tr>\n",
       "    <tr>\n",
       "      <th>1</th>\n",
       "      <td>U1077</td>\n",
       "      <td>135038</td>\n",
       "      <td>2</td>\n",
       "      <td>2</td>\n",
       "      <td>1</td>\n",
       "    </tr>\n",
       "    <tr>\n",
       "      <th>2</th>\n",
       "      <td>U1077</td>\n",
       "      <td>132825</td>\n",
       "      <td>2</td>\n",
       "      <td>2</td>\n",
       "      <td>2</td>\n",
       "    </tr>\n",
       "    <tr>\n",
       "      <th>3</th>\n",
       "      <td>U1077</td>\n",
       "      <td>135060</td>\n",
       "      <td>1</td>\n",
       "      <td>2</td>\n",
       "      <td>2</td>\n",
       "    </tr>\n",
       "    <tr>\n",
       "      <th>4</th>\n",
       "      <td>U1068</td>\n",
       "      <td>135104</td>\n",
       "      <td>1</td>\n",
       "      <td>1</td>\n",
       "      <td>2</td>\n",
       "    </tr>\n",
       "  </tbody>\n",
       "</table>\n",
       "</div>"
      ],
      "text/plain": [
       "  userID  placeID  rating  food_rating  service_rating\n",
       "0  U1077   135085       2            2               2\n",
       "1  U1077   135038       2            2               1\n",
       "2  U1077   132825       2            2               2\n",
       "3  U1077   135060       1            2               2\n",
       "4  U1068   135104       1            1               2"
      ]
     },
     "execution_count": 2,
     "metadata": {},
     "output_type": "execute_result"
    }
   ],
   "source": [
    "rating_final = train_data\n",
    "rating_final.head()"
   ]
  },
  {
   "cell_type": "code",
   "execution_count": 3,
   "metadata": {},
   "outputs": [
    {
     "data": {
      "text/plain": [
       "(138, 'U1077', 'U1068')"
      ]
     },
     "execution_count": 3,
     "metadata": {},
     "output_type": "execute_result"
    }
   ],
   "source": [
    "len(rating_final['userID'].unique()), rating_final['userID'].unique()[0], rating_final['userID'].unique()[1]"
   ]
  },
  {
   "cell_type": "code",
   "execution_count": 4,
   "metadata": {},
   "outputs": [
    {
     "data": {
      "text/html": [
       "<div>\n",
       "<style>\n",
       "    .dataframe thead tr:only-child th {\n",
       "        text-align: right;\n",
       "    }\n",
       "\n",
       "    .dataframe thead th {\n",
       "        text-align: left;\n",
       "    }\n",
       "\n",
       "    .dataframe tbody tr th {\n",
       "        vertical-align: top;\n",
       "    }\n",
       "</style>\n",
       "<table border=\"1\" class=\"dataframe\">\n",
       "  <thead>\n",
       "    <tr style=\"text-align: right;\">\n",
       "      <th></th>\n",
       "      <th>userID</th>\n",
       "      <th>placeID</th>\n",
       "      <th>rating</th>\n",
       "      <th>food_rating</th>\n",
       "      <th>service_rating</th>\n",
       "    </tr>\n",
       "  </thead>\n",
       "  <tbody>\n",
       "    <tr>\n",
       "      <th>0</th>\n",
       "      <td>U1077</td>\n",
       "      <td>135085</td>\n",
       "      <td>2</td>\n",
       "      <td>2</td>\n",
       "      <td>2</td>\n",
       "    </tr>\n",
       "    <tr>\n",
       "      <th>1</th>\n",
       "      <td>U1077</td>\n",
       "      <td>135038</td>\n",
       "      <td>2</td>\n",
       "      <td>2</td>\n",
       "      <td>1</td>\n",
       "    </tr>\n",
       "    <tr>\n",
       "      <th>2</th>\n",
       "      <td>U1077</td>\n",
       "      <td>132825</td>\n",
       "      <td>2</td>\n",
       "      <td>2</td>\n",
       "      <td>2</td>\n",
       "    </tr>\n",
       "    <tr>\n",
       "      <th>3</th>\n",
       "      <td>U1077</td>\n",
       "      <td>135060</td>\n",
       "      <td>1</td>\n",
       "      <td>2</td>\n",
       "      <td>2</td>\n",
       "    </tr>\n",
       "    <tr>\n",
       "      <th>433</th>\n",
       "      <td>U1077</td>\n",
       "      <td>135027</td>\n",
       "      <td>0</td>\n",
       "      <td>1</td>\n",
       "      <td>1</td>\n",
       "    </tr>\n",
       "  </tbody>\n",
       "</table>\n",
       "</div>"
      ],
      "text/plain": [
       "    userID  placeID  rating  food_rating  service_rating\n",
       "0    U1077   135085       2            2               2\n",
       "1    U1077   135038       2            2               1\n",
       "2    U1077   132825       2            2               2\n",
       "3    U1077   135060       1            2               2\n",
       "433  U1077   135027       0            1               1"
      ]
     },
     "execution_count": 4,
     "metadata": {},
     "output_type": "execute_result"
    }
   ],
   "source": [
    "rating_final[rating_final['userID']=='U1077']"
   ]
  },
  {
   "cell_type": "code",
   "execution_count": 5,
   "metadata": {},
   "outputs": [
    {
     "data": {
      "text/html": [
       "<div>\n",
       "<style>\n",
       "    .dataframe thead tr:only-child th {\n",
       "        text-align: right;\n",
       "    }\n",
       "\n",
       "    .dataframe thead th {\n",
       "        text-align: left;\n",
       "    }\n",
       "\n",
       "    .dataframe tbody tr th {\n",
       "        vertical-align: top;\n",
       "    }\n",
       "</style>\n",
       "<table border=\"1\" class=\"dataframe\">\n",
       "  <thead>\n",
       "    <tr style=\"text-align: right;\">\n",
       "      <th></th>\n",
       "      <th>userID</th>\n",
       "      <th>placeID</th>\n",
       "      <th>rating</th>\n",
       "      <th>food_rating</th>\n",
       "      <th>service_rating</th>\n",
       "    </tr>\n",
       "  </thead>\n",
       "  <tbody>\n",
       "    <tr>\n",
       "      <th>4</th>\n",
       "      <td>U1068</td>\n",
       "      <td>135104</td>\n",
       "      <td>1</td>\n",
       "      <td>1</td>\n",
       "      <td>2</td>\n",
       "    </tr>\n",
       "    <tr>\n",
       "      <th>5</th>\n",
       "      <td>U1068</td>\n",
       "      <td>132740</td>\n",
       "      <td>0</td>\n",
       "      <td>0</td>\n",
       "      <td>0</td>\n",
       "    </tr>\n",
       "    <tr>\n",
       "      <th>6</th>\n",
       "      <td>U1068</td>\n",
       "      <td>132663</td>\n",
       "      <td>1</td>\n",
       "      <td>1</td>\n",
       "      <td>1</td>\n",
       "    </tr>\n",
       "    <tr>\n",
       "      <th>7</th>\n",
       "      <td>U1068</td>\n",
       "      <td>132732</td>\n",
       "      <td>0</td>\n",
       "      <td>0</td>\n",
       "      <td>0</td>\n",
       "    </tr>\n",
       "    <tr>\n",
       "      <th>8</th>\n",
       "      <td>U1068</td>\n",
       "      <td>132630</td>\n",
       "      <td>1</td>\n",
       "      <td>1</td>\n",
       "      <td>1</td>\n",
       "    </tr>\n",
       "    <tr>\n",
       "      <th>1158</th>\n",
       "      <td>U1068</td>\n",
       "      <td>132733</td>\n",
       "      <td>1</td>\n",
       "      <td>1</td>\n",
       "      <td>0</td>\n",
       "    </tr>\n",
       "    <tr>\n",
       "      <th>1159</th>\n",
       "      <td>U1068</td>\n",
       "      <td>132594</td>\n",
       "      <td>1</td>\n",
       "      <td>1</td>\n",
       "      <td>1</td>\n",
       "    </tr>\n",
       "    <tr>\n",
       "      <th>1160</th>\n",
       "      <td>U1068</td>\n",
       "      <td>132660</td>\n",
       "      <td>0</td>\n",
       "      <td>0</td>\n",
       "      <td>0</td>\n",
       "    </tr>\n",
       "  </tbody>\n",
       "</table>\n",
       "</div>"
      ],
      "text/plain": [
       "     userID  placeID  rating  food_rating  service_rating\n",
       "4     U1068   135104       1            1               2\n",
       "5     U1068   132740       0            0               0\n",
       "6     U1068   132663       1            1               1\n",
       "7     U1068   132732       0            0               0\n",
       "8     U1068   132630       1            1               1\n",
       "1158  U1068   132733       1            1               0\n",
       "1159  U1068   132594       1            1               1\n",
       "1160  U1068   132660       0            0               0"
      ]
     },
     "execution_count": 5,
     "metadata": {},
     "output_type": "execute_result"
    }
   ],
   "source": [
    "rating_final[rating_final['userID']=='U1068']"
   ]
  },
  {
   "cell_type": "code",
   "execution_count": 6,
   "metadata": {},
   "outputs": [
    {
     "data": {
      "text/plain": [
       "138"
      ]
     },
     "execution_count": 6,
     "metadata": {},
     "output_type": "execute_result"
    }
   ],
   "source": [
    "newlist2 = StartML.groupby_rows(rating_final, 'userID')\n",
    "len(newlist2)"
   ]
  },
  {
   "cell_type": "code",
   "execution_count": 7,
   "metadata": {},
   "outputs": [
    {
     "data": {
      "text/plain": [
       "[('U1077',\n",
       "  {'food_rating': {0: 2, 1: 2, 2: 2, 3: 2, 433: 1},\n",
       "   'placeID': {0: 135085, 1: 135038, 2: 132825, 3: 135060, 433: 135027},\n",
       "   'rating': {0: 2, 1: 2, 2: 2, 3: 1, 433: 0},\n",
       "   'service_rating': {0: 2, 1: 1, 2: 2, 3: 2, 433: 1}}),\n",
       " ('U1068',\n",
       "  {'food_rating': {4: 1, 5: 0, 6: 1, 7: 0, 8: 1, 1158: 1, 1159: 1, 1160: 0},\n",
       "   'placeID': {4: 135104,\n",
       "    5: 132740,\n",
       "    6: 132663,\n",
       "    7: 132732,\n",
       "    8: 132630,\n",
       "    1158: 132733,\n",
       "    1159: 132594,\n",
       "    1160: 132660},\n",
       "   'rating': {4: 1, 5: 0, 6: 1, 7: 0, 8: 1, 1158: 1, 1159: 1, 1160: 0},\n",
       "   'service_rating': {4: 2,\n",
       "    5: 0,\n",
       "    6: 1,\n",
       "    7: 0,\n",
       "    8: 1,\n",
       "    1158: 0,\n",
       "    1159: 1,\n",
       "    1160: 0}}),\n",
       " ('U1067',\n",
       "  {'food_rating': {9: 2, 10: 1, 11: 2, 12: 0, 13: 0, 14: 0},\n",
       "   'placeID': {9: 132584,\n",
       "    10: 132733,\n",
       "    11: 132732,\n",
       "    12: 132630,\n",
       "    13: 135104,\n",
       "    14: 132560},\n",
       "   'rating': {9: 2, 10: 1, 11: 1, 12: 1, 13: 0, 14: 1},\n",
       "   'service_rating': {9: 2, 10: 1, 11: 2, 12: 1, 13: 0, 14: 0}}),\n",
       " ('U1103',\n",
       "  {'food_rating': {15: 2, 16: 0, 17: 2, 18: 2, 19: 2, 20: 2, 21: 0, 22: 2},\n",
       "   'placeID': {15: 132584,\n",
       "    16: 132732,\n",
       "    17: 132630,\n",
       "    18: 132613,\n",
       "    19: 132667,\n",
       "    20: 135104,\n",
       "    21: 132663,\n",
       "    22: 132733},\n",
       "   'rating': {15: 1, 16: 0, 17: 1, 18: 2, 19: 1, 20: 1, 21: 1, 22: 2},\n",
       "   'service_rating': {15: 1,\n",
       "    16: 2,\n",
       "    17: 0,\n",
       "    18: 2,\n",
       "    19: 2,\n",
       "    20: 0,\n",
       "    21: 2,\n",
       "    22: 2}}),\n",
       " ('U1107',\n",
       "  {'food_rating': {23: 2, 24: 2, 25: 2},\n",
       "   'placeID': {23: 132660, 24: 132584, 25: 132733},\n",
       "   'rating': {23: 2, 24: 2, 25: 2},\n",
       "   'service_rating': {23: 1, 24: 2, 25: 2}})]"
      ]
     },
     "execution_count": 7,
     "metadata": {},
     "output_type": "execute_result"
    }
   ],
   "source": [
    "StartML.head_dict(newlist2)"
   ]
  },
  {
   "cell_type": "code",
   "execution_count": 8,
   "metadata": {},
   "outputs": [
    {
     "name": "stdout",
     "output_type": "stream",
     "text": [
      "dict_values([2, 2, 2, 2, 1]) dict_values([2, 1, 2, 2, 1]) dict_values([2, 2, 2, 1, 0])\n",
      "dict_values([1, 0, 1, 0, 1, 1, 1, 0]) dict_values([2, 0, 1, 0, 1, 0, 1, 0]) dict_values([1, 0, 1, 0, 1, 1, 1, 0])\n"
     ]
    }
   ],
   "source": [
    "print(newlist2['U1077']['food_rating'].values(), newlist2['U1077']['service_rating'].values(), newlist2['U1077']['rating'].values())\n",
    "print(newlist2['U1068']['food_rating'].values(), newlist2['U1068']['service_rating'].values(), newlist2['U1068']['rating'].values())"
   ]
  },
  {
   "cell_type": "code",
   "execution_count": 9,
   "metadata": {},
   "outputs": [
    {
     "data": {
      "text/plain": [
       "{215: 132830,\n",
       " 216: 132825,\n",
       " 688: 135085,\n",
       " 689: 135040,\n",
       " 690: 135039,\n",
       " 691: 135045,\n",
       " 692: 135033,\n",
       " 693: 135025,\n",
       " 694: 135051}"
      ]
     },
     "execution_count": 9,
     "metadata": {},
     "output_type": "execute_result"
    }
   ],
   "source": [
    "# Compute correlation between userID\n",
    "# Example: compute correlation of rating between user U1001 and the other users\n",
    "newlist2['U1001']['placeID']"
   ]
  },
  {
   "cell_type": "code",
   "execution_count": 10,
   "metadata": {},
   "outputs": [
    {
     "data": {
      "text/plain": [
       "Index(['rating', 'food_rating', 'service_rating'], dtype='object')"
      ]
     },
     "execution_count": 10,
     "metadata": {},
     "output_type": "execute_result"
    }
   ],
   "source": [
    "# drop columns userID and placeID which are not rating_features\n",
    "column_rating = rating_final.drop(['userID', 'placeID'], axis=1).columns\n",
    "column_rating"
   ]
  },
  {
   "cell_type": "code",
   "execution_count": 11,
   "metadata": {},
   "outputs": [
    {
     "data": {
      "text/plain": [
       "({1152: 2, 1154: 1, 1157: 1}, [1157])"
      ]
     },
     "execution_count": 11,
     "metadata": {},
     "output_type": "execute_result"
    }
   ],
   "source": [
    "newlist2['U1011']['rating'], StartML.getkeyby_value(newlist2['U1011']['placeID'], 132715)"
   ]
  },
  {
   "cell_type": "code",
   "execution_count": 12,
   "metadata": {
    "scrolled": false
   },
   "outputs": [
    {
     "name": "stdout",
     "output_type": "stream",
     "text": [
      "U1021 {56: 132740, 58: 132668, 59: 132715}\n",
      "rating {56: 2, 58: 2, 59: 2}\n",
      "food_rating {56: 2, 58: 2, 59: 2}\n",
      "service_rating {56: 1, 58: 2, 59: 1}\n",
      "\n",
      "\n",
      "U1068 [(5, 132740)]\n",
      "U1068 rating_list:  [0, 0, 0]\n",
      "U1021 rating_user:  [2, 2, 1]\n",
      "   U1021  U1068\n",
      "0      2      0\n",
      "1      2      0\n",
      "2      1      0\n",
      "numerator  0.0\n",
      "denominator  0.0\n",
      "0\n",
      "\n",
      "\n",
      "U1031 [(33, 132668)]\n",
      "U1031 rating_list:  [0, 0, 0]\n",
      "U1021 rating_user:  [2, 2, 2]\n",
      "   U1021  U1031\n",
      "0      2      0\n",
      "1      2      0\n",
      "2      2      0\n",
      "numerator  0.0\n",
      "denominator  0.0\n",
      "0\n",
      "\n",
      "\n",
      "U1023 [(35, 132715), (130, 132740)]\n",
      "U1023 rating_list:  [0, 0, 0, 0, 0, 0]\n",
      "U1021 rating_user:  [2, 2, 1, 2, 2, 1]\n",
      "   U1021  U1023\n",
      "0      2      0\n",
      "1      2      0\n",
      "2      1      0\n",
      "3      2      0\n",
      "4      2      0\n",
      "5      1      0\n",
      "numerator  0.0\n",
      "denominator  0.0\n",
      "0\n",
      "\n",
      "\n",
      "U1060 [(46, 132740)]\n",
      "U1060 rating_list:  [1, 2, 1]\n",
      "U1021 rating_user:  [2, 2, 1]\n",
      "   U1021  U1060\n",
      "0      2      1\n",
      "1      2      2\n",
      "2      1      1\n",
      "numerator  0.333333333333\n",
      "denominator  0.666666666667\n",
      "0.5\n",
      "\n",
      "\n",
      "U1123 [(53, 132740)]\n",
      "U1123 rating_list:  [1, 1, 1]\n",
      "U1021 rating_user:  [2, 2, 1]\n",
      "   U1021  U1123\n",
      "0      2      1\n",
      "1      2      1\n",
      "2      1      1\n",
      "numerator  0.0\n",
      "denominator  0.0\n",
      "0\n",
      "\n",
      "\n",
      "U1080 [(132, 132668), (142, 132715)]\n",
      "U1080 rating_list:  [1, 1, 1, 1, 1, 1]\n",
      "U1021 rating_user:  [2, 2, 2, 2, 2, 1]\n",
      "   U1021  U1080\n",
      "0      2      1\n",
      "1      2      1\n",
      "2      2      1\n",
      "3      2      1\n",
      "4      2      1\n",
      "5      1      1\n",
      "numerator  0.0\n",
      "denominator  0.0\n",
      "0\n",
      "\n",
      "\n",
      "U1028 [(1122, 132740)]\n",
      "U1028 rating_list:  [1, 1, 1]\n",
      "U1021 rating_user:  [2, 2, 1]\n",
      "   U1021  U1028\n",
      "0      2      1\n",
      "1      2      1\n",
      "2      1      1\n",
      "numerator  0.0\n",
      "denominator  0.0\n",
      "0\n",
      "\n",
      "\n",
      "U1050 [(1119, 132740)]\n",
      "U1050 rating_list:  [0, 2, 0]\n",
      "U1021 rating_user:  [2, 2, 1]\n",
      "   U1021  U1050\n",
      "0      2      0\n",
      "1      2      2\n",
      "2      1      0\n",
      "numerator  0.666666666667\n",
      "denominator  1.33333333333\n",
      "0.5\n",
      "\n",
      "\n",
      "U1087 [(1132, 132740)]\n",
      "U1087 rating_list:  [1, 2, 1]\n",
      "U1021 rating_user:  [2, 2, 1]\n",
      "   U1021  U1087\n",
      "0      2      1\n",
      "1      2      2\n",
      "2      1      1\n",
      "numerator  0.333333333333\n",
      "denominator  0.666666666667\n",
      "0.5\n",
      "\n",
      "\n",
      "U1011 [(1157, 132715)]\n",
      "U1011 rating_list:  [1, 1, 0]\n",
      "U1021 rating_user:  [2, 2, 1]\n",
      "   U1021  U1011\n",
      "0      2      1\n",
      "1      2      1\n",
      "2      1      0\n",
      "numerator  0.666666666667\n",
      "denominator  0.666666666667\n",
      "1.0\n",
      "\n",
      "\n"
     ]
    }
   ],
   "source": [
    "# find the most nearest neighbors between userkey and others\n",
    "userkey = 'U1021'\n",
    "print(userkey, newlist2[userkey]['placeID'])\n",
    "for cr in column_rating:\n",
    "    print(cr, newlist2[userkey][cr])\n",
    "print(\"\\n\")\n",
    "\n",
    "rating_user = []\n",
    "rating_list = []\n",
    "correl = []\n",
    "x = list(newlist2.keys())\n",
    "x.remove(userkey)\n",
    "for k1 in x:\n",
    "    # find the common visited placeID between user 'U1011' and others    \n",
    "    inter = StartML.intersect_dict(newlist2[k1]['placeID'], newlist2[userkey]['placeID'])\n",
    "    if len(inter):\n",
    "        print(k1, inter)\n",
    "        for k2 in inter:\n",
    "            for cr in column_rating:                \n",
    "                # print(\"--->\", k2[0], cr, newlist2[k1][cr][k2[0]])                \n",
    "                rating_list.append(newlist2[k1][cr][k2[0]])\n",
    "            \n",
    "            place_key = StartML.getkeyby_value(newlist2[userkey]['placeID'], k2[1])            \n",
    "            for k in place_key:                \n",
    "                rating_user.append(newlist2[userkey]['rating'].get(k))\n",
    "                rating_user.append(newlist2[userkey]['food_rating'].get(k)) \n",
    "                rating_user.append(newlist2[userkey]['service_rating'].get(k))\n",
    "\n",
    "        print(k1, \"rating_list: \", rating_list)                \n",
    "        print(userkey, \"rating_user: \", rating_user)\n",
    "        \n",
    "        # create result as dataframe\n",
    "        if len(rating_user) == len(rating_list):\n",
    "            df = {userkey: rating_user, k1: rating_list}\n",
    "            pdf = pd.DataFrame(df, columns=[userkey, k1])\n",
    "            print(pdf)\n",
    "            # compute Pearson correlation        \n",
    "            r = StartModREC.pearson(pdf)\n",
    "            print(r)\n",
    "            \n",
    "            # add all correlation results into a list\n",
    "            correl.append((k1, r))\n",
    "            rating_user = []\n",
    "            rating_list = []\n",
    "        print(\"\\n\")"
   ]
  },
  {
   "cell_type": "code",
   "execution_count": 13,
   "metadata": {},
   "outputs": [
    {
     "data": {
      "text/plain": [
       "[('U1068', 0),\n",
       " ('U1031', 0),\n",
       " ('U1023', 0),\n",
       " ('U1060', 0.49999999999999956),\n",
       " ('U1123', 0),\n",
       " ('U1080', 0),\n",
       " ('U1028', 0),\n",
       " ('U1050', 0.50000000000000011),\n",
       " ('U1087', 0.49999999999999956),\n",
       " ('U1011', 1.0000000000000002)]"
      ]
     },
     "execution_count": 13,
     "metadata": {},
     "output_type": "execute_result"
    }
   ],
   "source": [
    "correl"
   ]
  },
  {
   "cell_type": "code",
   "execution_count": 14,
   "metadata": {},
   "outputs": [
    {
     "data": {
      "text/plain": [
       "{'U1011': 1.0000000000000002}"
      ]
     },
     "execution_count": 14,
     "metadata": {},
     "output_type": "execute_result"
    }
   ],
   "source": [
    "StartML.findMaxMinValueDict(dict(correl))"
   ]
  },
  {
   "cell_type": "markdown",
   "metadata": {},
   "source": [
    "### Conclusion: we choose the max result in correl_list to see which user_id is the closest one"
   ]
  },
  {
   "cell_type": "code",
   "execution_count": 15,
   "metadata": {},
   "outputs": [],
   "source": [
    "# newlist2['U1011']['food_rating'][1152]\n",
    "# df = {'a':[1,2,3,4], 'b':[0,1,2,3]}\n",
    "# t = pd.DataFrame(df, columns=['a','b'])\n",
    "# len(t)"
   ]
  }
 ],
 "metadata": {
  "kernelspec": {
   "display_name": "Python 3",
   "language": "python",
   "name": "python3"
  },
  "language_info": {
   "codemirror_mode": {
    "name": "ipython",
    "version": 3
   },
   "file_extension": ".py",
   "mimetype": "text/x-python",
   "name": "python",
   "nbconvert_exporter": "python",
   "pygments_lexer": "ipython3",
   "version": "3.6.4"
  }
 },
 "nbformat": 4,
 "nbformat_minor": 2
}
