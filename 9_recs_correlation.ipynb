{
 "cells": [
  {
   "cell_type": "code",
   "execution_count": 1,
   "metadata": {},
   "outputs": [
    {
     "name": "stdout",
     "output_type": "stream",
     "text": [
      "local_kwargs {'data_path_1': '9_RECS/rating_final.csv', 'data_path_2': '9_RECS/chefmozcuisine.csv', 'data_path_3': '', 'drop_obj_col': False, 'nan_drop_col': False, 'nan_drop_row': False, 'nan_zero': False, 'nan_mean': True, 'nan_mean_neighbors': False}\n"
     ]
    }
   ],
   "source": [
    "from Starts.startml import *\n",
    "from Starts.startvis import *\n",
    "from Starts.startmodrec import *\n",
    "%matplotlib inline\n",
    "rcParams['figure.figsize'] = 20, 6"
   ]
  },
  {
   "cell_type": "code",
   "execution_count": 2,
   "metadata": {
    "scrolled": true
   },
   "outputs": [
    {
     "data": {
      "text/html": [
       "<div>\n",
       "<style>\n",
       "    .dataframe thead tr:only-child th {\n",
       "        text-align: right;\n",
       "    }\n",
       "\n",
       "    .dataframe thead th {\n",
       "        text-align: left;\n",
       "    }\n",
       "\n",
       "    .dataframe tbody tr th {\n",
       "        vertical-align: top;\n",
       "    }\n",
       "</style>\n",
       "<table border=\"1\" class=\"dataframe\">\n",
       "  <thead>\n",
       "    <tr style=\"text-align: right;\">\n",
       "      <th></th>\n",
       "      <th>userID</th>\n",
       "      <th>placeID</th>\n",
       "      <th>rating</th>\n",
       "      <th>food_rating</th>\n",
       "      <th>service_rating</th>\n",
       "    </tr>\n",
       "  </thead>\n",
       "  <tbody>\n",
       "    <tr>\n",
       "      <th>0</th>\n",
       "      <td>U1077</td>\n",
       "      <td>135085</td>\n",
       "      <td>2</td>\n",
       "      <td>2</td>\n",
       "      <td>2</td>\n",
       "    </tr>\n",
       "    <tr>\n",
       "      <th>1</th>\n",
       "      <td>U1077</td>\n",
       "      <td>135038</td>\n",
       "      <td>2</td>\n",
       "      <td>2</td>\n",
       "      <td>1</td>\n",
       "    </tr>\n",
       "    <tr>\n",
       "      <th>2</th>\n",
       "      <td>U1077</td>\n",
       "      <td>132825</td>\n",
       "      <td>2</td>\n",
       "      <td>2</td>\n",
       "      <td>2</td>\n",
       "    </tr>\n",
       "    <tr>\n",
       "      <th>3</th>\n",
       "      <td>U1077</td>\n",
       "      <td>135060</td>\n",
       "      <td>1</td>\n",
       "      <td>2</td>\n",
       "      <td>2</td>\n",
       "    </tr>\n",
       "    <tr>\n",
       "      <th>4</th>\n",
       "      <td>U1068</td>\n",
       "      <td>135104</td>\n",
       "      <td>1</td>\n",
       "      <td>1</td>\n",
       "      <td>2</td>\n",
       "    </tr>\n",
       "  </tbody>\n",
       "</table>\n",
       "</div>"
      ],
      "text/plain": [
       "  userID  placeID  rating  food_rating  service_rating\n",
       "0  U1077   135085       2            2               2\n",
       "1  U1077   135038       2            2               1\n",
       "2  U1077   132825       2            2               2\n",
       "3  U1077   135060       1            2               2\n",
       "4  U1068   135104       1            1               2"
      ]
     },
     "execution_count": 2,
     "metadata": {},
     "output_type": "execute_result"
    }
   ],
   "source": [
    "rating_final = train_data\n",
    "rating_final.head()"
   ]
  },
  {
   "cell_type": "code",
   "execution_count": 3,
   "metadata": {},
   "outputs": [
    {
     "data": {
      "text/plain": [
       "(138, 'U1077', 'U1068')"
      ]
     },
     "execution_count": 3,
     "metadata": {},
     "output_type": "execute_result"
    }
   ],
   "source": [
    "len(rating_final['userID'].unique()), rating_final['userID'].unique()[0], rating_final['userID'].unique()[1]"
   ]
  },
  {
   "cell_type": "code",
   "execution_count": 4,
   "metadata": {},
   "outputs": [
    {
     "data": {
      "text/html": [
       "<div>\n",
       "<style>\n",
       "    .dataframe thead tr:only-child th {\n",
       "        text-align: right;\n",
       "    }\n",
       "\n",
       "    .dataframe thead th {\n",
       "        text-align: left;\n",
       "    }\n",
       "\n",
       "    .dataframe tbody tr th {\n",
       "        vertical-align: top;\n",
       "    }\n",
       "</style>\n",
       "<table border=\"1\" class=\"dataframe\">\n",
       "  <thead>\n",
       "    <tr style=\"text-align: right;\">\n",
       "      <th></th>\n",
       "      <th>userID</th>\n",
       "      <th>placeID</th>\n",
       "      <th>rating</th>\n",
       "      <th>food_rating</th>\n",
       "      <th>service_rating</th>\n",
       "    </tr>\n",
       "  </thead>\n",
       "  <tbody>\n",
       "    <tr>\n",
       "      <th>0</th>\n",
       "      <td>U1077</td>\n",
       "      <td>135085</td>\n",
       "      <td>2</td>\n",
       "      <td>2</td>\n",
       "      <td>2</td>\n",
       "    </tr>\n",
       "    <tr>\n",
       "      <th>1</th>\n",
       "      <td>U1077</td>\n",
       "      <td>135038</td>\n",
       "      <td>2</td>\n",
       "      <td>2</td>\n",
       "      <td>1</td>\n",
       "    </tr>\n",
       "    <tr>\n",
       "      <th>2</th>\n",
       "      <td>U1077</td>\n",
       "      <td>132825</td>\n",
       "      <td>2</td>\n",
       "      <td>2</td>\n",
       "      <td>2</td>\n",
       "    </tr>\n",
       "    <tr>\n",
       "      <th>3</th>\n",
       "      <td>U1077</td>\n",
       "      <td>135060</td>\n",
       "      <td>1</td>\n",
       "      <td>2</td>\n",
       "      <td>2</td>\n",
       "    </tr>\n",
       "    <tr>\n",
       "      <th>433</th>\n",
       "      <td>U1077</td>\n",
       "      <td>135027</td>\n",
       "      <td>0</td>\n",
       "      <td>1</td>\n",
       "      <td>1</td>\n",
       "    </tr>\n",
       "  </tbody>\n",
       "</table>\n",
       "</div>"
      ],
      "text/plain": [
       "    userID  placeID  rating  food_rating  service_rating\n",
       "0    U1077   135085       2            2               2\n",
       "1    U1077   135038       2            2               1\n",
       "2    U1077   132825       2            2               2\n",
       "3    U1077   135060       1            2               2\n",
       "433  U1077   135027       0            1               1"
      ]
     },
     "execution_count": 4,
     "metadata": {},
     "output_type": "execute_result"
    }
   ],
   "source": [
    "rating_final[rating_final['userID']=='U1077']"
   ]
  },
  {
   "cell_type": "code",
   "execution_count": 5,
   "metadata": {},
   "outputs": [
    {
     "data": {
      "text/html": [
       "<div>\n",
       "<style>\n",
       "    .dataframe thead tr:only-child th {\n",
       "        text-align: right;\n",
       "    }\n",
       "\n",
       "    .dataframe thead th {\n",
       "        text-align: left;\n",
       "    }\n",
       "\n",
       "    .dataframe tbody tr th {\n",
       "        vertical-align: top;\n",
       "    }\n",
       "</style>\n",
       "<table border=\"1\" class=\"dataframe\">\n",
       "  <thead>\n",
       "    <tr style=\"text-align: right;\">\n",
       "      <th></th>\n",
       "      <th>userID</th>\n",
       "      <th>placeID</th>\n",
       "      <th>rating</th>\n",
       "      <th>food_rating</th>\n",
       "      <th>service_rating</th>\n",
       "    </tr>\n",
       "  </thead>\n",
       "  <tbody>\n",
       "    <tr>\n",
       "      <th>4</th>\n",
       "      <td>U1068</td>\n",
       "      <td>135104</td>\n",
       "      <td>1</td>\n",
       "      <td>1</td>\n",
       "      <td>2</td>\n",
       "    </tr>\n",
       "    <tr>\n",
       "      <th>5</th>\n",
       "      <td>U1068</td>\n",
       "      <td>132740</td>\n",
       "      <td>0</td>\n",
       "      <td>0</td>\n",
       "      <td>0</td>\n",
       "    </tr>\n",
       "    <tr>\n",
       "      <th>6</th>\n",
       "      <td>U1068</td>\n",
       "      <td>132663</td>\n",
       "      <td>1</td>\n",
       "      <td>1</td>\n",
       "      <td>1</td>\n",
       "    </tr>\n",
       "    <tr>\n",
       "      <th>7</th>\n",
       "      <td>U1068</td>\n",
       "      <td>132732</td>\n",
       "      <td>0</td>\n",
       "      <td>0</td>\n",
       "      <td>0</td>\n",
       "    </tr>\n",
       "    <tr>\n",
       "      <th>8</th>\n",
       "      <td>U1068</td>\n",
       "      <td>132630</td>\n",
       "      <td>1</td>\n",
       "      <td>1</td>\n",
       "      <td>1</td>\n",
       "    </tr>\n",
       "    <tr>\n",
       "      <th>1158</th>\n",
       "      <td>U1068</td>\n",
       "      <td>132733</td>\n",
       "      <td>1</td>\n",
       "      <td>1</td>\n",
       "      <td>0</td>\n",
       "    </tr>\n",
       "    <tr>\n",
       "      <th>1159</th>\n",
       "      <td>U1068</td>\n",
       "      <td>132594</td>\n",
       "      <td>1</td>\n",
       "      <td>1</td>\n",
       "      <td>1</td>\n",
       "    </tr>\n",
       "    <tr>\n",
       "      <th>1160</th>\n",
       "      <td>U1068</td>\n",
       "      <td>132660</td>\n",
       "      <td>0</td>\n",
       "      <td>0</td>\n",
       "      <td>0</td>\n",
       "    </tr>\n",
       "  </tbody>\n",
       "</table>\n",
       "</div>"
      ],
      "text/plain": [
       "     userID  placeID  rating  food_rating  service_rating\n",
       "4     U1068   135104       1            1               2\n",
       "5     U1068   132740       0            0               0\n",
       "6     U1068   132663       1            1               1\n",
       "7     U1068   132732       0            0               0\n",
       "8     U1068   132630       1            1               1\n",
       "1158  U1068   132733       1            1               0\n",
       "1159  U1068   132594       1            1               1\n",
       "1160  U1068   132660       0            0               0"
      ]
     },
     "execution_count": 5,
     "metadata": {},
     "output_type": "execute_result"
    }
   ],
   "source": [
    "rating_final[rating_final['userID']=='U1068']"
   ]
  },
  {
   "cell_type": "code",
   "execution_count": 6,
   "metadata": {},
   "outputs": [
    {
     "data": {
      "text/plain": [
       "138"
      ]
     },
     "execution_count": 6,
     "metadata": {},
     "output_type": "execute_result"
    }
   ],
   "source": [
    "newlist2 = StartML.groupby_rows(rating_final, 'userID')\n",
    "len(newlist2)"
   ]
  },
  {
   "cell_type": "code",
   "execution_count": 7,
   "metadata": {},
   "outputs": [
    {
     "data": {
      "text/plain": [
       "[('U1077',\n",
       "  {'food_rating': {0: 2, 1: 2, 2: 2, 3: 2, 433: 1},\n",
       "   'placeID': {0: 135085, 1: 135038, 2: 132825, 3: 135060, 433: 135027},\n",
       "   'rating': {0: 2, 1: 2, 2: 2, 3: 1, 433: 0},\n",
       "   'service_rating': {0: 2, 1: 1, 2: 2, 3: 2, 433: 1}}),\n",
       " ('U1068',\n",
       "  {'food_rating': {4: 1, 5: 0, 6: 1, 7: 0, 8: 1, 1158: 1, 1159: 1, 1160: 0},\n",
       "   'placeID': {4: 135104,\n",
       "    5: 132740,\n",
       "    6: 132663,\n",
       "    7: 132732,\n",
       "    8: 132630,\n",
       "    1158: 132733,\n",
       "    1159: 132594,\n",
       "    1160: 132660},\n",
       "   'rating': {4: 1, 5: 0, 6: 1, 7: 0, 8: 1, 1158: 1, 1159: 1, 1160: 0},\n",
       "   'service_rating': {4: 2,\n",
       "    5: 0,\n",
       "    6: 1,\n",
       "    7: 0,\n",
       "    8: 1,\n",
       "    1158: 0,\n",
       "    1159: 1,\n",
       "    1160: 0}}),\n",
       " ('U1067',\n",
       "  {'food_rating': {9: 2, 10: 1, 11: 2, 12: 0, 13: 0, 14: 0},\n",
       "   'placeID': {9: 132584,\n",
       "    10: 132733,\n",
       "    11: 132732,\n",
       "    12: 132630,\n",
       "    13: 135104,\n",
       "    14: 132560},\n",
       "   'rating': {9: 2, 10: 1, 11: 1, 12: 1, 13: 0, 14: 1},\n",
       "   'service_rating': {9: 2, 10: 1, 11: 2, 12: 1, 13: 0, 14: 0}}),\n",
       " ('U1103',\n",
       "  {'food_rating': {15: 2, 16: 0, 17: 2, 18: 2, 19: 2, 20: 2, 21: 0, 22: 2},\n",
       "   'placeID': {15: 132584,\n",
       "    16: 132732,\n",
       "    17: 132630,\n",
       "    18: 132613,\n",
       "    19: 132667,\n",
       "    20: 135104,\n",
       "    21: 132663,\n",
       "    22: 132733},\n",
       "   'rating': {15: 1, 16: 0, 17: 1, 18: 2, 19: 1, 20: 1, 21: 1, 22: 2},\n",
       "   'service_rating': {15: 1,\n",
       "    16: 2,\n",
       "    17: 0,\n",
       "    18: 2,\n",
       "    19: 2,\n",
       "    20: 0,\n",
       "    21: 2,\n",
       "    22: 2}}),\n",
       " ('U1107',\n",
       "  {'food_rating': {23: 2, 24: 2, 25: 2},\n",
       "   'placeID': {23: 132660, 24: 132584, 25: 132733},\n",
       "   'rating': {23: 2, 24: 2, 25: 2},\n",
       "   'service_rating': {23: 1, 24: 2, 25: 2}})]"
      ]
     },
     "execution_count": 7,
     "metadata": {},
     "output_type": "execute_result"
    }
   ],
   "source": [
    "StartML.head_dict(newlist2)"
   ]
  },
  {
   "cell_type": "code",
   "execution_count": 10,
   "metadata": {},
   "outputs": [
    {
     "name": "stdout",
     "output_type": "stream",
     "text": [
      "dict_values([2, 2, 2, 2, 1]) dict_values([2, 1, 2, 2, 1]) dict_values([2, 2, 2, 1, 0])\n",
      "dict_values([1, 0, 1, 0, 1, 1, 1, 0]) dict_values([2, 0, 1, 0, 1, 0, 1, 0]) dict_values([1, 0, 1, 0, 1, 1, 1, 0])\n"
     ]
    }
   ],
   "source": [
    "print(newlist2['U1077']['food_rating'].values(), newlist2['U1077']['service_rating'].values(), newlist2['U1077']['rating'].values())\n",
    "print(newlist2['U1068']['food_rating'].values(), newlist2['U1068']['service_rating'].values(), newlist2['U1068']['rating'].values())"
   ]
  },
  {
   "cell_type": "code",
   "execution_count": null,
   "metadata": {},
   "outputs": [],
   "source": [
    "# TODO: compute correlation between userID"
   ]
  }
 ],
 "metadata": {
  "kernelspec": {
   "display_name": "Python 3",
   "language": "python",
   "name": "python3"
  },
  "language_info": {
   "codemirror_mode": {
    "name": "ipython",
    "version": 3
   },
   "file_extension": ".py",
   "mimetype": "text/x-python",
   "name": "python",
   "nbconvert_exporter": "python",
   "pygments_lexer": "ipython3",
   "version": "3.6.4"
  }
 },
 "nbformat": 4,
 "nbformat_minor": 2
}
