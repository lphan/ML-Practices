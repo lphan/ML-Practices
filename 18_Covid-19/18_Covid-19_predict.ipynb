{
 "cells": [
  {
   "cell_type": "code",
   "execution_count": 1,
   "metadata": {},
   "outputs": [
    {
     "name": "stderr",
     "output_type": "stream",
     "text": [
      "C:\\Users\\Duc-LongPhan\\Anaconda3\\lib\\site-packages\\sklearn\\externals\\joblib\\__init__.py:15: DeprecationWarning: sklearn.externals.joblib is deprecated in 0.21 and will be removed in 0.23. Please import this functionality directly from joblib, which can be installed with: pip install joblib. If this warning is raised when loading pickled models, you may need to re-serialize those models with scikit-learn 0.21+.\n",
      "  warnings.warn(msg, category=DeprecationWarning)\n",
      "Using TensorFlow backend.\n"
     ]
    },
    {
     "name": "stdout",
     "output_type": "stream",
     "text": [
      "Start importing folder\n",
      "['.gitignore', '01-22-2020.csv', '01-23-2020.csv', '01-24-2020.csv', '01-25-2020.csv', '01-26-2020.csv', '01-27-2020.csv', '01-28-2020.csv', '01-29-2020.csv', '01-30-2020.csv', '01-31-2020.csv', '02-01-2020.csv', '02-02-2020.csv', '02-03-2020.csv', '02-04-2020.csv', '02-05-2020.csv', '02-06-2020.csv', '02-07-2020.csv', '02-08-2020.csv', '02-09-2020.csv', '02-10-2020.csv', '02-11-2020.csv', '02-12-2020.csv', '02-13-2020.csv', '02-14-2020.csv', '02-15-2020.csv', '02-16-2020.csv', '02-17-2020.csv', '02-18-2020.csv', '02-19-2020.csv', '02-20-2020.csv', '02-21-2020.csv', '02-22-2020.csv', '02-23-2020.csv', '02-24-2020.csv', '02-25-2020.csv', '02-26-2020.csv', '02-27-2020.csv', '02-28-2020.csv', '02-29-2020.csv', '03-01-2020.csv', '03-02-2020.csv', '03-03-2020.csv', '03-04-2020.csv', '03-05-2020.csv', '03-06-2020.csv', '03-07-2020.csv', '03-08-2020.csv', '03-09-2020.csv', '03-10-2020.csv', '03-11-2020.csv', '03-12-2020.csv', '03-13-2020.csv', 'README.md']\n",
      "None\n",
      "None\n"
     ]
    }
   ],
   "source": [
    "# Configuration: setup absolute path to location of package Starts and config-file \n",
    "from inspect import getsourcefile\n",
    "import os.path as path, sys\n",
    "current_dir = path.dirname(path.abspath(getsourcefile(lambda:0)))\n",
    "sys.path.insert(0, current_dir[:current_dir.rfind(path.sep)])\n",
    "\n",
    "from Starts.start import *\n",
    "from Starts.startml import *\n",
    "from Starts.startvis import *  \n",
    "%matplotlib inline\n",
    "rcParams['figure.figsize'] = 20, 6\n",
    "\n",
    "import numpy as np\n",
    "from statsmodels.tsa.ar_model import AR\n",
    "from statsmodels.tsa.arima_model import ARMA\n",
    "from statsmodels.tsa.arima_model import ARIMA\n",
    "\n",
    "from covid import *\n"
   ]
  },
  {
   "cell_type": "markdown",
   "metadata": {},
   "source": [
    "### PREDICTION in GERMANY from current day to 15.03\n",
    "\n",
    "### 1. Prediction (calculated: 07.03) \n",
    "####  960. 1092.  1216. 1332. 1441. 1544. 1640.  1730.\n",
    "\n",
    "### 2. Prediction (calculated: 09.03)\n",
    "#### 1325. 1447. 1557. 1655. 1744. 1825. (ARMA)\n",
    "#### 1352. 1510. 1664. 1813. 1959. 2100. (ARIMA)\n",
    "\n",
    "### 3. Prediction (calculated: 10.03)\n",
    "#### 1463. 1588. 1702. 1806. 1902. (ARMA)\n",
    "#### 1472. 1613. 1750. 1883. 2012. (ARIMA)\n",
    "\n",
    "### 4. Prediction (calculated: 11.03)\n",
    "#### 2112. (AR)\n",
    "#### 1739. 1856. 1958. 2048. (ARMA)\n",
    "#### 1786. 1963. 2136. 2305. (ARIMA)\n",
    "\n",
    "### 5. Prediction (calculated: 12.03)\n",
    "#### 1481. (AR) --> wrong, current number is already ~2000.\n",
    "#### 2276. 2417. 2535. (ARMA)\n",
    "#### 2368. 2624. 2875. (ARIMA)\n",
    "\n",
    "### 6. Prediction (calculated: 13.03)\n",
    "#### 1481. (AR) --> wrong, current number is already ~2000.\n",
    "#### 2449. 2595. (ARMA)\n",
    "#### 2495. 2706. (ARIMA)\n",
    "\n",
    "### 7. Prediction (calculated: 14.03)\n",
    "#### 4738. (AR)\n",
    "#### 3908. (ARMA)\n",
    "#### 4317. (ARIMA)"
   ]
  },
  {
   "cell_type": "code",
   "execution_count": 2,
   "metadata": {},
   "outputs": [
    {
     "name": "stdout",
     "output_type": "stream",
     "text": [
      "[0, 0, 0, 0, 0, 0, 4, 4, 4, 5, 8, 10, 12, 12, 12, 12, 13, 13, 14, 14, 16, 16, 16, 16, 16, 16, 16, 16, 16, 16, 16, 16, 16, 16, 17, 27, 46, 48, 79, 130, 159, 196, 262, 482, 670, 799, 1040, 1176, 1457, 1908, 2078, 3675, 3875]\n"
     ]
    }
   ],
   "source": [
    "# ASSUMPTION for TODAY: that there is 150 cases more. \n",
    "# Stand (12.03) changed to 200 cases more.\n",
    "y_dat_de.append(y_dat_de[-1]+200)\n",
    "\n",
    "# calculated up to 7 days to expected date: 14.03 (from 08.03 to 15.03)\n",
    "# Starting Date 07.03: x=0, sum it up to 7 by day\n",
    "x = 7\n",
    "print(y_dat_de)"
   ]
  },
  {
   "cell_type": "code",
   "execution_count": 3,
   "metadata": {},
   "outputs": [
    {
     "name": "stdout",
     "output_type": "stream",
     "text": [
      "[4738.]\n"
     ]
    }
   ],
   "source": [
    "# fit model AR\n",
    "model = AR(y_dat_de)\n",
    "model_fit = model.fit()\n",
    "\n",
    "# make prediction tomorrow\n",
    "yhat = np.round(model_fit.predict(len(y_dat_de), len(y_dat_de)))\n",
    "print(yhat)"
   ]
  },
  {
   "cell_type": "code",
   "execution_count": 4,
   "metadata": {},
   "outputs": [
    {
     "name": "stdout",
     "output_type": "stream",
     "text": [
      "[3908.]\n"
     ]
    }
   ],
   "source": [
    "# fit model ARMA\n",
    "model = ARMA(y_dat_de, order=(2, 0))\n",
    "model_fit = model.fit(disp=False)\n",
    "\n",
    "# make prediction up to 15.03\n",
    "yhat = np.round(model_fit.predict(len(y_dat_de)+7-x, len(y_dat_de)+7-x))\n",
    "print(yhat)"
   ]
  },
  {
   "cell_type": "code",
   "execution_count": 5,
   "metadata": {
    "scrolled": false
   },
   "outputs": [
    {
     "name": "stdout",
     "output_type": "stream",
     "text": [
      "[3908. 3885. 3846. 3801. 3755. 3709. 3664. 3619.]\n"
     ]
    }
   ],
   "source": [
    "# fit model ARMA\n",
    "model = ARMA(y_dat_de, order=(2, 0))\n",
    "model_fit = model.fit(disp=False)\n",
    "\n",
    "# make prediction in two weeks up to 22.03\n",
    "yhat = np.round(model_fit.predict(len(y_dat_de)+14-x, len(y_dat_de)+14-x))\n",
    "print(yhat)"
   ]
  },
  {
   "cell_type": "code",
   "execution_count": 6,
   "metadata": {},
   "outputs": [
    {
     "name": "stdout",
     "output_type": "stream",
     "text": [
      "[4317.]\n"
     ]
    }
   ],
   "source": [
    "# fit model ARIMA\n",
    "model = ARIMA(y_dat_de, order=(1, 1, 1))\n",
    "model_fit = model.fit(disp=False)\n",
    "\n",
    "# make prediction to 15.03\n",
    "pred = np.round(model_fit.predict(len(y_dat_de)+7-x, len(y_dat_de)+7-x, typ='levels'))\n",
    "print(pred)"
   ]
  }
 ],
 "metadata": {
  "kernelspec": {
   "display_name": "Python 3",
   "language": "python",
   "name": "python3"
  },
  "language_info": {
   "codemirror_mode": {
    "name": "ipython",
    "version": 3
   },
   "file_extension": ".py",
   "mimetype": "text/x-python",
   "name": "python",
   "nbconvert_exporter": "python",
   "pygments_lexer": "ipython3",
   "version": "3.7.4"
  }
 },
 "nbformat": 4,
 "nbformat_minor": 2
}
