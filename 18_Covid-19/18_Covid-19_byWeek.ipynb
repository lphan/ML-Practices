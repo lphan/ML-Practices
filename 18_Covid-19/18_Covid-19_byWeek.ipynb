{
 "cells": [
  {
   "cell_type": "markdown",
   "metadata": {},
   "source": [
    "### COVID-19\n",
    "### UPDATE by Weeks \n",
    "#### started from officially Day 1 (Wednesday 22.01.2020) given in data set \n",
    "### Total infected cases, total fatalities, total recovered"
   ]
  },
  {
   "cell_type": "code",
   "execution_count": 1,
   "metadata": {},
   "outputs": [
    {
     "name": "stdout",
     "output_type": "stream",
     "text": [
      "Start importing World-data  ./COVID-19/csse_covid_19_data/csse_covid_19_daily_reports/\n",
      "Start importing USA-data  ./COVID-19/csse_covid_19_data/csse_covid_19_daily_reports_us/\n",
      "Start importing single data  ./COVID-19/csse_covid_19_data/UID_ISO_FIPS_LookUp_Table.csv\n",
      "Start importing single data  ./COVID-19/csse_covid_19_data/csse_covid_19_time_series/time_series_covid19_confirmed_global.csv\n",
      "Start importing single data  ./COVID-19/csse_covid_19_data/csse_covid_19_time_series/time_series_covid19_deaths_global.csv\n",
      "Start importing single data  ./COVID-19/csse_covid_19_data/csse_covid_19_time_series/time_series_covid19_recovered_global.csv\n"
     ]
    },
    {
     "name": "stderr",
     "output_type": "stream",
     "text": [
      "/home/edvs1/lphan/.conda/envs/aic/lib/python3.7/site-packages/pandas/core/strings.py:2001: UserWarning: This pattern has match groups. To actually get the groups, use str.extract.\n",
      "  return func(self, *args, **kwargs)\n"
     ]
    }
   ],
   "source": [
    "from covid_byweek import *\n",
    "%matplotlib inline"
   ]
  },
  {
   "cell_type": "markdown",
   "metadata": {},
   "source": [
    "### Number of covid-19 outbreak days "
   ]
  },
  {
   "cell_type": "code",
   "execution_count": 2,
   "metadata": {},
   "outputs": [
    {
     "data": {
      "text/plain": [
       "393"
      ]
     },
     "execution_count": 2,
     "metadata": {},
     "output_type": "execute_result"
    }
   ],
   "source": [
    "rcParams['figure.figsize'] = 20, 6\n",
    "len(x_dat)"
   ]
  },
  {
   "cell_type": "code",
   "execution_count": 3,
   "metadata": {},
   "outputs": [
    {
     "data": {
      "text/plain": [
       "'02-17-2021'"
      ]
     },
     "execution_count": 3,
     "metadata": {},
     "output_type": "execute_result"
    }
   ],
   "source": [
    "updated_date=files[-1].split('.')[0]\n",
    "updated_date"
   ]
  },
  {
   "cell_type": "markdown",
   "metadata": {},
   "source": [
    "### Total CONFIRMED cases in the World changed by week"
   ]
  },
  {
   "cell_type": "code",
   "execution_count": 4,
   "metadata": {},
   "outputs": [
    {
     "name": "stdout",
     "output_type": "stream",
     "text": [
      "\n",
      "Week: 1 with lowest confirmed cases 2118\n",
      "\n",
      "Week: 47 with highest confirmed cases 5196171\n",
      "\n",
      "Average confirmed by Week until now:  1928120.3333333333\n"
     ]
    },
    {
     "data": {
      "text/html": [
       "<div>\n",
       "<style scoped>\n",
       "    .dataframe tbody tr th:only-of-type {\n",
       "        vertical-align: middle;\n",
       "    }\n",
       "\n",
       "    .dataframe tbody tr th {\n",
       "        vertical-align: top;\n",
       "    }\n",
       "\n",
       "    .dataframe thead th {\n",
       "        text-align: right;\n",
       "    }\n",
       "</style>\n",
       "<table border=\"1\" class=\"dataframe\">\n",
       "  <thead>\n",
       "    <tr style=\"text-align: right;\">\n",
       "      <th></th>\n",
       "      <th>1</th>\n",
       "      <th>2</th>\n",
       "      <th>3</th>\n",
       "      <th>4</th>\n",
       "      <th>5</th>\n",
       "      <th>6</th>\n",
       "      <th>7</th>\n",
       "      <th>8</th>\n",
       "      <th>9</th>\n",
       "      <th>10</th>\n",
       "      <th>...</th>\n",
       "      <th>48</th>\n",
       "      <th>49</th>\n",
       "      <th>50</th>\n",
       "      <th>51</th>\n",
       "      <th>52</th>\n",
       "      <th>53</th>\n",
       "      <th>54</th>\n",
       "      <th>55</th>\n",
       "      <th>56</th>\n",
       "      <th>57</th>\n",
       "    </tr>\n",
       "  </thead>\n",
       "  <tbody>\n",
       "    <tr>\n",
       "      <th>Total Confirmed changed by Week</th>\n",
       "      <td>2118</td>\n",
       "      <td>16787</td>\n",
       "      <td>40151</td>\n",
       "      <td>71226</td>\n",
       "      <td>78985</td>\n",
       "      <td>88368</td>\n",
       "      <td>109820</td>\n",
       "      <td>167408</td>\n",
       "      <td>337867</td>\n",
       "      <td>720010</td>\n",
       "      <td>...</td>\n",
       "      <td>76905041</td>\n",
       "      <td>80879007</td>\n",
       "      <td>85211954</td>\n",
       "      <td>90316738</td>\n",
       "      <td>95074758</td>\n",
       "      <td>99217536</td>\n",
       "      <td>102967087</td>\n",
       "      <td>106162536</td>\n",
       "      <td>108873551</td>\n",
       "      <td>109902859</td>\n",
       "    </tr>\n",
       "    <tr>\n",
       "      <th>Number of Confirmed every Week</th>\n",
       "      <td>2118</td>\n",
       "      <td>14669</td>\n",
       "      <td>23364</td>\n",
       "      <td>31075</td>\n",
       "      <td>7759</td>\n",
       "      <td>9383</td>\n",
       "      <td>21452</td>\n",
       "      <td>57588</td>\n",
       "      <td>170459</td>\n",
       "      <td>382143</td>\n",
       "      <td>...</td>\n",
       "      <td>4495734</td>\n",
       "      <td>3973966</td>\n",
       "      <td>4332947</td>\n",
       "      <td>5104784</td>\n",
       "      <td>4758020</td>\n",
       "      <td>4142778</td>\n",
       "      <td>3749551</td>\n",
       "      <td>3195449</td>\n",
       "      <td>2711015</td>\n",
       "      <td>1029308</td>\n",
       "    </tr>\n",
       "  </tbody>\n",
       "</table>\n",
       "<p>2 rows × 57 columns</p>\n",
       "</div>"
      ],
      "text/plain": [
       "                                   1      2      3      4      5      6   \\\n",
       "Total Confirmed changed by Week  2118  16787  40151  71226  78985  88368   \n",
       "Number of Confirmed every Week   2118  14669  23364  31075   7759   9383   \n",
       "\n",
       "                                     7       8       9       10  ...  \\\n",
       "Total Confirmed changed by Week  109820  167408  337867  720010  ...   \n",
       "Number of Confirmed every Week    21452   57588  170459  382143  ...   \n",
       "\n",
       "                                       48        49        50        51  \\\n",
       "Total Confirmed changed by Week  76905041  80879007  85211954  90316738   \n",
       "Number of Confirmed every Week    4495734   3973966   4332947   5104784   \n",
       "\n",
       "                                       52        53         54         55  \\\n",
       "Total Confirmed changed by Week  95074758  99217536  102967087  106162536   \n",
       "Number of Confirmed every Week    4758020   4142778    3749551    3195449   \n",
       "\n",
       "                                        56         57  \n",
       "Total Confirmed changed by Week  108873551  109902859  \n",
       "Number of Confirmed every Week     2711015    1029308  \n",
       "\n",
       "[2 rows x 57 columns]"
      ]
     },
     "execution_count": 4,
     "metadata": {},
     "output_type": "execute_result"
    },
    {
     "data": {
      "image/png": "[encoded data removed]",
      "text/plain": [
       "<Figure size 1440x432 with 1 Axes>"
      ]
     },
     "metadata": {
      "needs_background": "light"
     },
     "output_type": "display_data"
    },
    {
     "data": {
      "image/png": "[encoded data removed]",
      "text/plain": [
       "<Figure size 1440x432 with 1 Axes>"
      ]
     },
     "metadata": {
      "needs_background": "light"
     },
     "output_type": "display_data"
    }
   ],
   "source": [
    "# convert to DataFrame\n",
    "x_weeks = [week for week, value in confirmedByWeek]\n",
    "y_cases_total = [value for week, value in confirmedByWeek]\n",
    "y_cases_byweek = [confirmedByWeek[0][1]]+[confirmedByWeek[i+1][1]-confirmedByWeek[i][1] for i in range(len(confirmedByWeek)-1)]\n",
    "\n",
    "weeks = np.arange(1, max(x_weeks)+1, 1)\n",
    "confirmedweeks = pd.DataFrame(columns=x_weeks, index=['Total Confirmed changed by Week', 'Number of Confirmed every Week'])\n",
    "for week in weeks:\n",
    "    confirmedweeks[week] = [y_cases_total[week-1], y_cases_byweek[week-1]]\n",
    "\n",
    "# Plot total confirmed\n",
    "plt.figure(1)\n",
    "plt.xticks(np.arange(0, max(x_weeks)+1, 1))\n",
    "plt.bar(x_weeks, y_cases_total, color='Orange')\n",
    "plt.xlabel('Weeks')\n",
    "plt.ylabel('Confirmed')\n",
    "plt.title(\"Total Confirmed by Week\")\n",
    "plt.savefig('output/week_totalconfirmed.jpg')\n",
    "\n",
    "# Plot number of confirmed every week\n",
    "plt.figure(2)\n",
    "plt.xticks(np.arange(0, max(x_weeks)+1, 1))\n",
    "plt.bar(x_weeks, y_cases_byweek, color='Orange')\n",
    "plt.xlabel('Weeks')\n",
    "plt.ylabel('Confirmed')\n",
    "plt.title(\"Total Confirmed daily changed by Week\")\n",
    "plt.savefig('output/week_totalconfirmed_weekly.jpg')\n",
    "\n",
    "print(\"\\nWeek:\", np.argmin(y_cases_byweek)+1, \"with lowest confirmed cases\", y_cases_byweek[np.argmin(y_cases_byweek)])\n",
    "print(\"\\nWeek:\", np.argmax(y_cases_byweek)+1, \"with highest confirmed cases\", y_cases_byweek[np.argmax(y_cases_byweek)])\n",
    "print(\"\\nAverage confirmed by Week until now: \", np.mean(y_cases_byweek))\n",
    "confirmedweeks\n",
    "\n",
    "# note: plot displays data on x-axis start at index 1, and data in Python collected at index 0, that's why +1"
   ]
  },
  {
   "cell_type": "markdown",
   "metadata": {},
   "source": [
    "### Total FATALITIES cases in the World changed by week"
   ]
  },
  {
   "cell_type": "code",
   "execution_count": 5,
   "metadata": {},
   "outputs": [
    {
     "name": "stdout",
     "output_type": "stream",
     "text": [
      "\n",
      "Week: 1 with lowest Fatalities cases 56.0\n",
      "\n",
      "Week: 53 with highest Fatalities cases 98679\n",
      "\n",
      "Average Fatalities by Week until now:  42634.89473684211\n"
     ]
    },
    {
     "data": {
      "text/html": [
       "<div>\n",
       "<style scoped>\n",
       "    .dataframe tbody tr th:only-of-type {\n",
       "        vertical-align: middle;\n",
       "    }\n",
       "\n",
       "    .dataframe tbody tr th {\n",
       "        vertical-align: top;\n",
       "    }\n",
       "\n",
       "    .dataframe thead th {\n",
       "        text-align: right;\n",
       "    }\n",
       "</style>\n",
       "<table border=\"1\" class=\"dataframe\">\n",
       "  <thead>\n",
       "    <tr style=\"text-align: right;\">\n",
       "      <th></th>\n",
       "      <th>1</th>\n",
       "      <th>2</th>\n",
       "      <th>3</th>\n",
       "      <th>4</th>\n",
       "      <th>5</th>\n",
       "      <th>6</th>\n",
       "      <th>7</th>\n",
       "      <th>8</th>\n",
       "      <th>9</th>\n",
       "      <th>10</th>\n",
       "      <th>...</th>\n",
       "      <th>48</th>\n",
       "      <th>49</th>\n",
       "      <th>50</th>\n",
       "      <th>51</th>\n",
       "      <th>52</th>\n",
       "      <th>53</th>\n",
       "      <th>54</th>\n",
       "      <th>55</th>\n",
       "      <th>56</th>\n",
       "      <th>57</th>\n",
       "    </tr>\n",
       "  </thead>\n",
       "  <tbody>\n",
       "    <tr>\n",
       "      <th>Total Fatalities changed by Week</th>\n",
       "      <td>56.0</td>\n",
       "      <td>362.0</td>\n",
       "      <td>906</td>\n",
       "      <td>1770</td>\n",
       "      <td>2469</td>\n",
       "      <td>2996</td>\n",
       "      <td>3803</td>\n",
       "      <td>6440</td>\n",
       "      <td>14623</td>\n",
       "      <td>33947</td>\n",
       "      <td>...</td>\n",
       "      <td>1699497</td>\n",
       "      <td>1772262</td>\n",
       "      <td>1850624</td>\n",
       "      <td>1941806</td>\n",
       "      <td>2037765</td>\n",
       "      <td>2136444</td>\n",
       "      <td>2234394</td>\n",
       "      <td>2321929</td>\n",
       "      <td>2400997</td>\n",
       "      <td>2430189</td>\n",
       "    </tr>\n",
       "    <tr>\n",
       "      <th>Number of Fatalities every Week</th>\n",
       "      <td>56.0</td>\n",
       "      <td>306.0</td>\n",
       "      <td>544</td>\n",
       "      <td>864</td>\n",
       "      <td>699</td>\n",
       "      <td>527</td>\n",
       "      <td>807</td>\n",
       "      <td>2637</td>\n",
       "      <td>8183</td>\n",
       "      <td>19324</td>\n",
       "      <td>...</td>\n",
       "      <td>81692</td>\n",
       "      <td>72765</td>\n",
       "      <td>78362</td>\n",
       "      <td>91182</td>\n",
       "      <td>95959</td>\n",
       "      <td>98679</td>\n",
       "      <td>97950</td>\n",
       "      <td>87535</td>\n",
       "      <td>79068</td>\n",
       "      <td>29192</td>\n",
       "    </tr>\n",
       "  </tbody>\n",
       "</table>\n",
       "<p>2 rows × 57 columns</p>\n",
       "</div>"
      ],
      "text/plain": [
       "                                    1      2    3     4     5     6     7   \\\n",
       "Total Fatalities changed by Week  56.0  362.0  906  1770  2469  2996  3803   \n",
       "Number of Fatalities every Week   56.0  306.0  544   864   699   527   807   \n",
       "\n",
       "                                    8      9      10  ...       48       49  \\\n",
       "Total Fatalities changed by Week  6440  14623  33947  ...  1699497  1772262   \n",
       "Number of Fatalities every Week   2637   8183  19324  ...    81692    72765   \n",
       "\n",
       "                                       50       51       52       53       54  \\\n",
       "Total Fatalities changed by Week  1850624  1941806  2037765  2136444  2234394   \n",
       "Number of Fatalities every Week     78362    91182    95959    98679    97950   \n",
       "\n",
       "                                       55       56       57  \n",
       "Total Fatalities changed by Week  2321929  2400997  2430189  \n",
       "Number of Fatalities every Week     87535    79068    29192  \n",
       "\n",
       "[2 rows x 57 columns]"
      ]
     },
     "execution_count": 5,
     "metadata": {},
     "output_type": "execute_result"
    },
    {
     "data": {
      "image/png": "[encoded data removed]",
      "text/plain": [
       "<Figure size 1440x432 with 1 Axes>"
      ]
     },
     "metadata": {
      "needs_background": "light"
     },
     "output_type": "display_data"
    },
    {
     "data": {
      "image/png": "[encoded data removed]",
      "text/plain": [
       "<Figure size 1440x432 with 1 Axes>"
      ]
     },
     "metadata": {
      "needs_background": "light"
     },
     "output_type": "display_data"
    }
   ],
   "source": [
    "# convert to DataFrame\n",
    "x_weeks = [week for week, value in deathsByWeek]\n",
    "y_cases_total_deaths = [value for week, value in deathsByWeek]\n",
    "y_cases_byweek_deaths = [deathsByWeek[0][1]]+[deathsByWeek[i+1][1]-deathsByWeek[i][1] for i in range(len(deathsByWeek)-1)]\n",
    "\n",
    "weeks = np.arange(1, max(x_weeks)+1, 1)\n",
    "confirmedweeks_deaths = pd.DataFrame(columns=x_weeks, index=['Total Fatalities changed by Week', 'Number of Fatalities every Week'])\n",
    "for week in weeks:\n",
    "    confirmedweeks_deaths[week] = [y_cases_total_deaths[week-1], y_cases_byweek_deaths[week-1]]\n",
    "\n",
    "# Plot total confirmed\n",
    "plt.figure(1)\n",
    "plt.xticks(np.arange(0, max(x_weeks)+1, 1))\n",
    "plt.bar(x_weeks, y_cases_total_deaths, color='Red')\n",
    "plt.xlabel('Weeks')\n",
    "plt.ylabel('Fatalities')\n",
    "plt.title(\"Total Fatalities by Week\")\n",
    "plt.savefig('output/week_totalfatalities.jpg')\n",
    "\n",
    "# Plot number of confirmed every week\n",
    "plt.figure(2)\n",
    "plt.xticks(np.arange(0, max(x_weeks)+1, 1))\n",
    "plt.bar(x_weeks, y_cases_byweek_deaths, color='Red')\n",
    "plt.xlabel('Weeks')\n",
    "plt.ylabel('Fatalities')\n",
    "plt.title(\"Total Fatalities daily changed by Week\")\n",
    "plt.savefig('output/week_totalfatalities_weekly.jpg')\n",
    "\n",
    "print(\"\\nWeek:\", np.argmin(y_cases_byweek_deaths)+1, \"with lowest Fatalities cases\", y_cases_byweek_deaths[np.argmin(y_cases_byweek_deaths)])\n",
    "print(\"\\nWeek:\", np.argmax(y_cases_byweek_deaths)+1, \"with highest Fatalities cases\", y_cases_byweek_deaths[np.argmax(y_cases_byweek_deaths)])\n",
    "print(\"\\nAverage Fatalities by Week until now: \", np.mean(y_cases_byweek_deaths))\n",
    "confirmedweeks_deaths\n",
    "\n",
    "# note: plot displays data on x-axis start at index 1, and data in Python collected at index 0, that's why +1"
   ]
  },
  {
   "cell_type": "markdown",
   "metadata": {},
   "source": [
    "### Total RECOVERED cases in the World changed by week"
   ]
  },
  {
   "cell_type": "code",
   "execution_count": 6,
   "metadata": {},
   "outputs": [
    {
     "name": "stdout",
     "output_type": "stream",
     "text": [
      "\n",
      "Week: 1 with lowest Recovered cases 56.0\n",
      "\n",
      "Week: 47 with highest Recovered cases 4149823.0\n",
      "\n",
      "Average Recovered by Week until now:  1293114.1403508773\n"
     ]
    },
    {
     "data": {
      "text/html": [
       "<div>\n",
       "<style scoped>\n",
       "    .dataframe tbody tr th:only-of-type {\n",
       "        vertical-align: middle;\n",
       "    }\n",
       "\n",
       "    .dataframe tbody tr th {\n",
       "        vertical-align: top;\n",
       "    }\n",
       "\n",
       "    .dataframe thead th {\n",
       "        text-align: right;\n",
       "    }\n",
       "</style>\n",
       "<table border=\"1\" class=\"dataframe\">\n",
       "  <thead>\n",
       "    <tr style=\"text-align: right;\">\n",
       "      <th></th>\n",
       "      <th>1</th>\n",
       "      <th>2</th>\n",
       "      <th>3</th>\n",
       "      <th>4</th>\n",
       "      <th>5</th>\n",
       "      <th>6</th>\n",
       "      <th>7</th>\n",
       "      <th>8</th>\n",
       "      <th>9</th>\n",
       "      <th>10</th>\n",
       "      <th>...</th>\n",
       "      <th>48</th>\n",
       "      <th>49</th>\n",
       "      <th>50</th>\n",
       "      <th>51</th>\n",
       "      <th>52</th>\n",
       "      <th>53</th>\n",
       "      <th>54</th>\n",
       "      <th>55</th>\n",
       "      <th>56</th>\n",
       "      <th>57</th>\n",
       "    </tr>\n",
       "  </thead>\n",
       "  <tbody>\n",
       "    <tr>\n",
       "      <th>Total Recovered changed by Week</th>\n",
       "      <td>56.0</td>\n",
       "      <td>476.0</td>\n",
       "      <td>3245</td>\n",
       "      <td>10866</td>\n",
       "      <td>23394</td>\n",
       "      <td>42717</td>\n",
       "      <td>60695</td>\n",
       "      <td>76033</td>\n",
       "      <td>97225</td>\n",
       "      <td>149062</td>\n",
       "      <td>...</td>\n",
       "      <td>50318680.0</td>\n",
       "      <td>53251325.0</td>\n",
       "      <td>56021603.0</td>\n",
       "      <td>58835435.0</td>\n",
       "      <td>61758414.0</td>\n",
       "      <td>64755909.0</td>\n",
       "      <td>67668562.0</td>\n",
       "      <td>70346228.0</td>\n",
       "      <td>72703614.0</td>\n",
       "      <td>73707506.0</td>\n",
       "    </tr>\n",
       "    <tr>\n",
       "      <th>Number of Recovered every Week</th>\n",
       "      <td>56.0</td>\n",
       "      <td>420.0</td>\n",
       "      <td>2769</td>\n",
       "      <td>7621</td>\n",
       "      <td>12528</td>\n",
       "      <td>19323</td>\n",
       "      <td>17978</td>\n",
       "      <td>15338</td>\n",
       "      <td>21192</td>\n",
       "      <td>51837</td>\n",
       "      <td>...</td>\n",
       "      <td>2987096.0</td>\n",
       "      <td>2932645.0</td>\n",
       "      <td>2770278.0</td>\n",
       "      <td>2813832.0</td>\n",
       "      <td>2922979.0</td>\n",
       "      <td>2997495.0</td>\n",
       "      <td>2912653.0</td>\n",
       "      <td>2677666.0</td>\n",
       "      <td>2357386.0</td>\n",
       "      <td>1003892.0</td>\n",
       "    </tr>\n",
       "  </tbody>\n",
       "</table>\n",
       "<p>2 rows × 57 columns</p>\n",
       "</div>"
      ],
      "text/plain": [
       "                                   1      2     3      4      5      6   \\\n",
       "Total Recovered changed by Week  56.0  476.0  3245  10866  23394  42717   \n",
       "Number of Recovered every Week   56.0  420.0  2769   7621  12528  19323   \n",
       "\n",
       "                                    7      8      9       10  ...          48  \\\n",
       "Total Recovered changed by Week  60695  76033  97225  149062  ...  50318680.0   \n",
       "Number of Recovered every Week   17978  15338  21192   51837  ...   2987096.0   \n",
       "\n",
       "                                         49          50          51  \\\n",
       "Total Recovered changed by Week  53251325.0  56021603.0  58835435.0   \n",
       "Number of Recovered every Week    2932645.0   2770278.0   2813832.0   \n",
       "\n",
       "                                         52          53          54  \\\n",
       "Total Recovered changed by Week  61758414.0  64755909.0  67668562.0   \n",
       "Number of Recovered every Week    2922979.0   2997495.0   2912653.0   \n",
       "\n",
       "                                         55          56          57  \n",
       "Total Recovered changed by Week  70346228.0  72703614.0  73707506.0  \n",
       "Number of Recovered every Week    2677666.0   2357386.0   1003892.0  \n",
       "\n",
       "[2 rows x 57 columns]"
      ]
     },
     "execution_count": 6,
     "metadata": {},
     "output_type": "execute_result"
    },
    {
     "data": {
      "image/png": "[encoded data removed]",
      "text/plain": [
       "<Figure size 1440x432 with 1 Axes>"
      ]
     },
     "metadata": {
      "needs_background": "light"
     },
     "output_type": "display_data"
    },
    {
     "data": {
      "image/png": "[encoded data removed]",
      "text/plain": [
       "<Figure size 1440x432 with 1 Axes>"
      ]
     },
     "metadata": {
      "needs_background": "light"
     },
     "output_type": "display_data"
    }
   ],
   "source": [
    "# convert to DataFrame\n",
    "x_weeks = [week for week, value in recoveredByWeek]\n",
    "y_cases_total_recovered = [value for week, value in recoveredByWeek]\n",
    "y_cases_byweek_recovered = [recoveredByWeek[0][1]]+[recoveredByWeek[i+1][1]-recoveredByWeek[i][1] for i in range(len(recoveredByWeek)-1)]\n",
    "\n",
    "weeks = np.arange(1, max(x_weeks)+1, 1)\n",
    "confirmedweeks_recovered = pd.DataFrame(columns=x_weeks, index=['Total Recovered changed by Week', 'Number of Recovered every Week'])\n",
    "for week in weeks:\n",
    "    confirmedweeks_recovered[week] = [y_cases_total_recovered[week-1], y_cases_byweek_recovered[week-1]]\n",
    "\n",
    "# Plot total recovered\n",
    "plt.figure(1)\n",
    "plt.xticks(np.arange(0, max(x_weeks)+1, 1))\n",
    "plt.bar(x_weeks, y_cases_total_recovered, color='Green')\n",
    "plt.xlabel('Weeks')\n",
    "plt.ylabel('Recovered')\n",
    "plt.title(\"Total Recovered by Week\")\n",
    "plt.savefig('output/week_totalrecovered.jpg')\n",
    "\n",
    "# Plot number of recovered every week\n",
    "plt.figure(2)\n",
    "plt.xticks(np.arange(0, max(x_weeks)+1, 1))\n",
    "plt.bar(x_weeks, y_cases_byweek_recovered, color='Green')\n",
    "plt.xlabel('Weeks')\n",
    "plt.ylabel('Recovered')\n",
    "plt.title(\"Total Recovered daily changed by Week\")\n",
    "plt.savefig('output/week_totalrecovered_weekly.jpg')\n",
    "\n",
    "print(\"\\nWeek:\", np.argmin(y_cases_byweek_recovered)+1, \"with lowest Recovered cases\", y_cases_byweek_recovered[np.argmin(y_cases_byweek_recovered)])\n",
    "print(\"\\nWeek:\", np.argmax(y_cases_byweek_recovered)+1, \"with highest Recovered cases\", y_cases_byweek_recovered[np.argmax(y_cases_byweek_recovered)])\n",
    "print(\"\\nAverage Recovered by Week until now: \", np.mean(y_cases_byweek_recovered))\n",
    "confirmedweeks_recovered\n",
    "\n",
    "# note: plot displays data on x-axis start at index 1, and data in Python collected at index 0, that's why +1"
   ]
  }
 ],
 "metadata": {
  "hide_input": false,
  "kernelspec": {
   "display_name": "aic",
   "language": "python",
   "name": "aic"
  },
  "language_info": {
   "codemirror_mode": {
    "name": "ipython",
    "version": 3
   },
   "file_extension": ".py",
   "mimetype": "text/x-python",
   "name": "python",
   "nbconvert_exporter": "python",
   "pygments_lexer": "ipython3",
   "version": "3.7.8"
  }
 },
 "nbformat": 4,
 "nbformat_minor": 4
}
