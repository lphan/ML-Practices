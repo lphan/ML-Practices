{
 "cells": [
  {
   "cell_type": "markdown",
   "metadata": {},
   "source": [
    "### COVID-19\n",
    "### UPDATE by Weeks \n",
    "#### started from officially Day 1 (Wednesday 22.01.2020) given in data set \n",
    "### Total infected cases, total fatalities, total recovered"
   ]
  },
  {
   "cell_type": "code",
   "execution_count": null,
   "metadata": {},
   "outputs": [],
   "source": [
    "from covid_byweek import *\n",
    "%matplotlib inline"
   ]
  },
  {
   "cell_type": "markdown",
   "metadata": {},
   "source": [
    "### Number of covid-19 outbreak days "
   ]
  },
  {
   "cell_type": "code",
   "execution_count": null,
   "metadata": {},
   "outputs": [],
   "source": [
    "rcParams['figure.figsize'] = 20, 6\n",
    "len(x_dat)"
   ]
  },
  {
   "cell_type": "code",
   "execution_count": null,
   "metadata": {},
   "outputs": [],
   "source": [
    "updated_date=files[-1].split('.')[0]\n",
    "updated_date"
   ]
  },
  {
   "cell_type": "markdown",
   "metadata": {},
   "source": [
    "### Total CONFIRMED cases in the World changed by week"
   ]
  },
  {
   "cell_type": "code",
   "execution_count": null,
   "metadata": {},
   "outputs": [],
   "source": [
    "# convert to DataFrame\n",
    "x_weeks = [week for week, value in confirmedByWeek]\n",
    "y_cases_total = [value for week, value in confirmedByWeek]\n",
    "y_cases_byweek = [confirmedByWeek[0][1]]+[confirmedByWeek[i+1][1]-confirmedByWeek[i][1] for i in range(len(confirmedByWeek)-1)]\n",
    "\n",
    "weeks = np.arange(1, max(x_weeks)+1, 1)\n",
    "confirmedweeks = pd.DataFrame(columns=x_weeks, index=['Total Confirmed changed by Week', 'Number of Confirmed every Week'])\n",
    "for week in weeks:\n",
    "    confirmedweeks[week] = [y_cases_total[week-1], y_cases_byweek[week-1]]\n",
    "\n",
    "# Plot total confirmed\n",
    "plt.figure(1)\n",
    "plt.xticks(np.arange(0, max(x_weeks)+1, 1))\n",
    "plt.bar(x_weeks, y_cases_total, color='Orange')\n",
    "plt.xlabel('Weeks')\n",
    "plt.ylabel('Confirmed')\n",
    "plt.title(\"Total Confirmed by Week (Update day: \"+str(updated_date)+\")\")\n",
    "plt.savefig('output/week_totalconfirmed.jpg')\n",
    "\n",
    "# Plot number of confirmed every week\n",
    "plt.figure(2)\n",
    "plt.xticks(np.arange(0, max(x_weeks)+1, 1))\n",
    "plt.bar(x_weeks, y_cases_byweek, color='Orange')\n",
    "plt.xlabel('Weeks')\n",
    "plt.ylabel('Confirmed')\n",
    "plt.title(\"Total Confirmed daily changed by Week (Update day: \"+str(updated_date)+\")\")\n",
    "plt.savefig('output/week_totalconfirmed_weekly.jpg')\n",
    "\n",
    "print(\"\\nWeek:\", np.argmin(y_cases_byweek)+1, \"with lowest confirmed cases\", y_cases_byweek[np.argmin(y_cases_byweek)])\n",
    "print(\"\\nWeek:\", np.argmax(y_cases_byweek)+1, \"with highest confirmed cases\", y_cases_byweek[np.argmax(y_cases_byweek)])\n",
    "print(\"\\nAverage confirmed by Week until now: \", np.mean(y_cases_byweek))\n",
    "confirmedweeks\n",
    "\n",
    "# note: plot displays data on x-axis start at index 1, and data in Python collected at index 0, that's why +1"
   ]
  },
  {
   "cell_type": "markdown",
   "metadata": {},
   "source": [
    "### Total FATALITIES cases in the World changed by week"
   ]
  },
  {
   "cell_type": "code",
   "execution_count": null,
   "metadata": {},
   "outputs": [],
   "source": [
    "# convert to DataFrame\n",
    "x_weeks = [week for week, value in deathsByWeek]\n",
    "y_cases_total_deaths = [value for week, value in deathsByWeek]\n",
    "y_cases_byweek_deaths = [deathsByWeek[0][1]]+[deathsByWeek[i+1][1]-deathsByWeek[i][1] for i in range(len(deathsByWeek)-1)]\n",
    "\n",
    "weeks = np.arange(1, max(x_weeks)+1, 1)\n",
    "confirmedweeks_deaths = pd.DataFrame(columns=x_weeks, index=['Total Fatalities changed by Week', 'Number of Fatalities every Week'])\n",
    "for week in weeks:\n",
    "    confirmedweeks_deaths[week] = [y_cases_total_deaths[week-1], y_cases_byweek_deaths[week-1]]\n",
    "\n",
    "# Plot total confirmed\n",
    "plt.figure(1)\n",
    "plt.xticks(np.arange(0, max(x_weeks)+1, 1))\n",
    "plt.bar(x_weeks, y_cases_total_deaths, color='Red')\n",
    "plt.xlabel('Weeks')\n",
    "plt.ylabel('Fatalities')\n",
    "plt.title(\"Total Fatalities by Week (Update day: \"+str(updated_date)+\")\")\n",
    "plt.savefig('output/week_totalfatalities.jpg')\n",
    "\n",
    "# Plot number of confirmed every week\n",
    "plt.figure(2)\n",
    "plt.xticks(np.arange(0, max(x_weeks)+1, 1))\n",
    "plt.bar(x_weeks, y_cases_byweek_deaths, color='Red')\n",
    "plt.xlabel('Weeks')\n",
    "plt.ylabel('Fatalities')\n",
    "plt.title(\"Total Fatalities daily changed by Week (Update day: \"+str(updated_date)+\")\")\n",
    "plt.savefig('output/week_totalfatalities_weekly.jpg')\n",
    "\n",
    "print(\"\\nWeek:\", np.argmin(y_cases_byweek_deaths)+1, \"with lowest Fatalities cases\", y_cases_byweek_deaths[np.argmin(y_cases_byweek_deaths)])\n",
    "print(\"\\nWeek:\", np.argmax(y_cases_byweek_deaths)+1, \"with highest Fatalities cases\", y_cases_byweek_deaths[np.argmax(y_cases_byweek_deaths)])\n",
    "print(\"\\nAverage Fatalities by Week until now: \", np.mean(y_cases_byweek_deaths))\n",
    "confirmedweeks_deaths\n",
    "\n",
    "# note: plot displays data on x-axis start at index 1, and data in Python collected at index 0, that's why +1"
   ]
  },
  {
   "cell_type": "markdown",
   "metadata": {},
   "source": [
    "### Total RECOVERED cases in the World changed by week"
   ]
  },
  {
   "cell_type": "code",
   "execution_count": null,
   "metadata": {},
   "outputs": [],
   "source": [
    "# convert to DataFrame\n",
    "x_weeks = [week for week, value in recoveredByWeek]\n",
    "y_cases_total_recovered = [value for week, value in recoveredByWeek]\n",
    "y_cases_byweek_recovered = [recoveredByWeek[0][1]]+[recoveredByWeek[i+1][1]-recoveredByWeek[i][1] for i in range(len(recoveredByWeek)-1)]\n",
    "\n",
    "weeks = np.arange(1, max(x_weeks)+1, 1)\n",
    "confirmedweeks_recovered = pd.DataFrame(columns=x_weeks, index=['Total Recovered changed by Week', 'Number of Recovered every Week'])\n",
    "for week in weeks:\n",
    "    confirmedweeks_recovered[week] = [y_cases_total_recovered[week-1], y_cases_byweek_recovered[week-1]]\n",
    "\n",
    "# Plot total recovered\n",
    "plt.figure(1)\n",
    "plt.xticks(np.arange(0, max(x_weeks)+1, 1))\n",
    "plt.bar(x_weeks, y_cases_total_recovered, color='Green')\n",
    "plt.xlabel('Weeks')\n",
    "plt.ylabel('Recovered')\n",
    "plt.title(\"Total Recovered by Week (Update day: \"+str(updated_date)+\")\")\n",
    "plt.savefig('output/week_totalrecovered.jpg')\n",
    "\n",
    "# Plot number of recovered every week\n",
    "plt.figure(2)\n",
    "plt.xticks(np.arange(0, max(x_weeks)+1, 1))\n",
    "plt.bar(x_weeks, y_cases_byweek_recovered, color='Green')\n",
    "plt.xlabel('Weeks')\n",
    "plt.ylabel('Recovered')\n",
    "plt.title(\"Total Recovered daily changed by Week (Update day: \"+str(updated_date)+\")\")\n",
    "plt.savefig('output/week_totalrecovered_weekly.jpg')\n",
    "\n",
    "print(\"\\nWeek:\", np.argmin(y_cases_byweek_recovered)+1, \"with lowest Recovered cases\", y_cases_byweek_recovered[np.argmin(y_cases_byweek_recovered)])\n",
    "print(\"\\nWeek:\", np.argmax(y_cases_byweek_recovered)+1, \"with highest Recovered cases\", y_cases_byweek_recovered[np.argmax(y_cases_byweek_recovered)])\n",
    "print(\"\\nAverage Recovered by Week until now: \", np.mean(y_cases_byweek_recovered))\n",
    "confirmedweeks_recovered\n",
    "\n",
    "# note: plot displays data on x-axis start at index 1, and data in Python collected at index 0, that's why +1"
   ]
  }
 ],
 "metadata": {
  "hide_input": false,
  "kernelspec": {
   "display_name": "aic",
   "language": "python",
   "name": "aic"
  },
  "language_info": {
   "codemirror_mode": {
    "name": "ipython",
    "version": 3
   },
   "file_extension": ".py",
   "mimetype": "text/x-python",
   "name": "python",
   "nbconvert_exporter": "python",
   "pygments_lexer": "ipython3",
   "version": "3.7.8"
  }
 },
 "nbformat": 4,
 "nbformat_minor": 4
}
