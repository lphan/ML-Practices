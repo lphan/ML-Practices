{
 "cells": [
  {
   "cell_type": "markdown",
   "metadata": {},
   "source": [
    "### COVID-19\n",
    "### UPDATE by Weeks \n",
    "#### started from officially Day 1 (Wednesday 22.01.2020) given in data set and on for every next 7 days)\n",
    "### Total infected cases, total fatalities, total recovered"
   ]
  },
  {
   "cell_type": "code",
   "execution_count": 1,
   "metadata": {},
   "outputs": [
    {
     "name": "stdout",
     "output_type": "stream",
     "text": [
      "Start importing World-data  ./COVID-19/csse_covid_19_data/csse_covid_19_daily_reports/\n",
      "Start importing USA-data  ./COVID-19/csse_covid_19_data/csse_covid_19_daily_reports_us/\n",
      "Start importing single data  ./COVID-19/csse_covid_19_data/UID_ISO_FIPS_LookUp_Table.csv\n",
      "Start importing single data  ./COVID-19/csse_covid_19_data/csse_covid_19_time_series/time_series_covid19_confirmed_global.csv\n",
      "Start importing single data  ./COVID-19/csse_covid_19_data/csse_covid_19_time_series/time_series_covid19_deaths_global.csv\n",
      "Start importing single data  ./COVID-19/csse_covid_19_data/csse_covid_19_time_series/time_series_covid19_recovered_global.csv\n"
     ]
    },
    {
     "name": "stderr",
     "output_type": "stream",
     "text": [
      "/home/edvs1/lphan/.conda/envs/aic/lib/python3.7/site-packages/pandas/core/strings.py:2001: UserWarning: This pattern has match groups. To actually get the groups, use str.extract.\n",
      "  return func(self, *args, **kwargs)\n"
     ]
    }
   ],
   "source": [
    "from covid import *\n",
    "%matplotlib inline"
   ]
  },
  {
   "cell_type": "markdown",
   "metadata": {},
   "source": [
    "### Number of covid-19 outbreak days "
   ]
  },
  {
   "cell_type": "code",
   "execution_count": 2,
   "metadata": {},
   "outputs": [
    {
     "data": {
      "text/plain": [
       "354"
      ]
     },
     "execution_count": 2,
     "metadata": {},
     "output_type": "execute_result"
    }
   ],
   "source": [
    "rcParams['figure.figsize'] = 20, 6\n",
    "len(x_dat)"
   ]
  },
  {
   "cell_type": "code",
   "execution_count": 3,
   "metadata": {},
   "outputs": [
    {
     "data": {
      "text/plain": [
       "'01-09-2021'"
      ]
     },
     "execution_count": 3,
     "metadata": {},
     "output_type": "execute_result"
    }
   ],
   "source": [
    "updated_date=files[-1].split('.')[0]\n",
    "updated_date"
   ]
  },
  {
   "cell_type": "markdown",
   "metadata": {},
   "source": [
    "### Total CONFIRMED cases in the World changed by week"
   ]
  },
  {
   "cell_type": "code",
   "execution_count": 4,
   "metadata": {},
   "outputs": [
    {
     "name": "stdout",
     "output_type": "stream",
     "text": [
      "\n",
      "Week: 1 with lowest confirmed cases 2118\n",
      "\n",
      "Week: 47 with highest confirmed cases 5186161\n",
      "\n",
      "Average confirmed by Week until now:  1757535.6470588236\n"
     ]
    },
    {
     "data": {
      "text/html": [
       "<div>\n",
       "<style scoped>\n",
       "    .dataframe tbody tr th:only-of-type {\n",
       "        vertical-align: middle;\n",
       "    }\n",
       "\n",
       "    .dataframe tbody tr th {\n",
       "        vertical-align: top;\n",
       "    }\n",
       "\n",
       "    .dataframe thead th {\n",
       "        text-align: right;\n",
       "    }\n",
       "</style>\n",
       "<table border=\"1\" class=\"dataframe\">\n",
       "  <thead>\n",
       "    <tr style=\"text-align: right;\">\n",
       "      <th></th>\n",
       "      <th>1</th>\n",
       "      <th>2</th>\n",
       "      <th>3</th>\n",
       "      <th>4</th>\n",
       "      <th>5</th>\n",
       "      <th>6</th>\n",
       "      <th>7</th>\n",
       "      <th>8</th>\n",
       "      <th>9</th>\n",
       "      <th>10</th>\n",
       "      <th>...</th>\n",
       "      <th>42</th>\n",
       "      <th>43</th>\n",
       "      <th>44</th>\n",
       "      <th>45</th>\n",
       "      <th>46</th>\n",
       "      <th>47</th>\n",
       "      <th>48</th>\n",
       "      <th>49</th>\n",
       "      <th>50</th>\n",
       "      <th>51</th>\n",
       "    </tr>\n",
       "  </thead>\n",
       "  <tbody>\n",
       "    <tr>\n",
       "      <th>Total Confirmed changed by Week</th>\n",
       "      <td>2118</td>\n",
       "      <td>16787</td>\n",
       "      <td>40151</td>\n",
       "      <td>71226</td>\n",
       "      <td>78985</td>\n",
       "      <td>88368</td>\n",
       "      <td>109820</td>\n",
       "      <td>167411</td>\n",
       "      <td>337852</td>\n",
       "      <td>719966</td>\n",
       "      <td>...</td>\n",
       "      <td>50550613</td>\n",
       "      <td>54597004</td>\n",
       "      <td>58758377</td>\n",
       "      <td>62845518</td>\n",
       "      <td>67160786</td>\n",
       "      <td>72346947</td>\n",
       "      <td>76834021</td>\n",
       "      <td>80805330</td>\n",
       "      <td>85128646</td>\n",
       "      <td>89634318</td>\n",
       "    </tr>\n",
       "    <tr>\n",
       "      <th>Number of Confirmed every Week</th>\n",
       "      <td>2118</td>\n",
       "      <td>14669</td>\n",
       "      <td>23364</td>\n",
       "      <td>31075</td>\n",
       "      <td>7759</td>\n",
       "      <td>9383</td>\n",
       "      <td>21452</td>\n",
       "      <td>57591</td>\n",
       "      <td>170441</td>\n",
       "      <td>382114</td>\n",
       "      <td>...</td>\n",
       "      <td>3935471</td>\n",
       "      <td>4046391</td>\n",
       "      <td>4161373</td>\n",
       "      <td>4087141</td>\n",
       "      <td>4315268</td>\n",
       "      <td>5186161</td>\n",
       "      <td>4487074</td>\n",
       "      <td>3971309</td>\n",
       "      <td>4323316</td>\n",
       "      <td>4505672</td>\n",
       "    </tr>\n",
       "  </tbody>\n",
       "</table>\n",
       "<p>2 rows × 51 columns</p>\n",
       "</div>"
      ],
      "text/plain": [
       "                                   1      2      3      4      5      6   \\\n",
       "Total Confirmed changed by Week  2118  16787  40151  71226  78985  88368   \n",
       "Number of Confirmed every Week   2118  14669  23364  31075   7759   9383   \n",
       "\n",
       "                                     7       8       9       10  ...  \\\n",
       "Total Confirmed changed by Week  109820  167411  337852  719966  ...   \n",
       "Number of Confirmed every Week    21452   57591  170441  382114  ...   \n",
       "\n",
       "                                       42        43        44        45  \\\n",
       "Total Confirmed changed by Week  50550613  54597004  58758377  62845518   \n",
       "Number of Confirmed every Week    3935471   4046391   4161373   4087141   \n",
       "\n",
       "                                       46        47        48        49  \\\n",
       "Total Confirmed changed by Week  67160786  72346947  76834021  80805330   \n",
       "Number of Confirmed every Week    4315268   5186161   4487074   3971309   \n",
       "\n",
       "                                       50        51  \n",
       "Total Confirmed changed by Week  85128646  89634318  \n",
       "Number of Confirmed every Week    4323316   4505672  \n",
       "\n",
       "[2 rows x 51 columns]"
      ]
     },
     "execution_count": 4,
     "metadata": {},
     "output_type": "execute_result"
    },
    {
     "data": {
      "image/png": "[encoded data removed]",
      "text/plain": [
       "<Figure size 1440x432 with 1 Axes>"
      ]
     },
     "metadata": {
      "needs_background": "light"
     },
     "output_type": "display_data"
    },
    {
     "data": {
      "image/png": "[encoded data removed]",
      "text/plain": [
       "<Figure size 1440x432 with 1 Axes>"
      ]
     },
     "metadata": {
      "needs_background": "light"
     },
     "output_type": "display_data"
    }
   ],
   "source": [
    "# convert to DataFrame\n",
    "x_weeks = [week for week, value in confirmedByWeek]\n",
    "y_cases_total = [value for week, value in confirmedByWeek]\n",
    "y_cases_byweek = [confirmedByWeek[0][1]]+[confirmedByWeek[i+1][1]-confirmedByWeek[i][1] for i in range(len(confirmedByWeek)-1)]\n",
    "\n",
    "weeks = np.arange(1, max(x_weeks)+1, 1)\n",
    "confirmedweeks = pd.DataFrame(columns=x_weeks, index=['Total Confirmed changed by Week', 'Number of Confirmed every Week'])\n",
    "for week in weeks:\n",
    "    confirmedweeks[week] = [y_cases_total[week-1], y_cases_byweek[week-1]]\n",
    "\n",
    "# Plot total confirmed\n",
    "plt.figure(1)\n",
    "plt.xticks(np.arange(0, max(x_weeks)+1, 1))\n",
    "plt.bar(x_weeks, y_cases_total, color='Orange')\n",
    "plt.xlabel('Weeks')\n",
    "plt.ylabel('Confirmed')\n",
    "plt.title(\"Total Confirmed by Week\")\n",
    "plt.savefig('output/week_totalconfirmed.jpg')\n",
    "\n",
    "# Plot number of confirmed every week\n",
    "plt.figure(2)\n",
    "plt.xticks(np.arange(0, max(x_weeks)+1, 1))\n",
    "plt.bar(x_weeks, y_cases_byweek, color='Orange')\n",
    "plt.xlabel('Weeks')\n",
    "plt.ylabel('Confirmed')\n",
    "plt.title(\"Total Confirmed daily changed by Week\")\n",
    "plt.savefig('output/week_totalconfirmed_weekly.jpg')\n",
    "\n",
    "print(\"\\nWeek:\", np.argmin(y_cases_byweek)+1, \"with lowest confirmed cases\", y_cases_byweek[np.argmin(y_cases_byweek)])\n",
    "print(\"\\nWeek:\", np.argmax(y_cases_byweek)+1, \"with highest confirmed cases\", y_cases_byweek[np.argmax(y_cases_byweek)])\n",
    "print(\"\\nAverage confirmed by Week until now: \", np.mean(y_cases_byweek))\n",
    "confirmedweeks\n",
    "\n",
    "# note: plot displays data on x-axis start at index 1, and data in Python collected at index 0, that's why +1"
   ]
  },
  {
   "cell_type": "markdown",
   "metadata": {},
   "source": [
    "### Total FATALITIES cases in the World changed by week"
   ]
  },
  {
   "cell_type": "code",
   "execution_count": 5,
   "metadata": {},
   "outputs": [
    {
     "name": "stdout",
     "output_type": "stream",
     "text": [
      "\n",
      "Week: 1 with lowest Fatalities cases 56.0\n",
      "\n",
      "Week: 51 with highest Fatalities cases 83423\n",
      "\n",
      "Average Fatalities by Week until now:  37776.94117647059\n"
     ]
    },
    {
     "data": {
      "text/html": [
       "<div>\n",
       "<style scoped>\n",
       "    .dataframe tbody tr th:only-of-type {\n",
       "        vertical-align: middle;\n",
       "    }\n",
       "\n",
       "    .dataframe tbody tr th {\n",
       "        vertical-align: top;\n",
       "    }\n",
       "\n",
       "    .dataframe thead th {\n",
       "        text-align: right;\n",
       "    }\n",
       "</style>\n",
       "<table border=\"1\" class=\"dataframe\">\n",
       "  <thead>\n",
       "    <tr style=\"text-align: right;\">\n",
       "      <th></th>\n",
       "      <th>1</th>\n",
       "      <th>2</th>\n",
       "      <th>3</th>\n",
       "      <th>4</th>\n",
       "      <th>5</th>\n",
       "      <th>6</th>\n",
       "      <th>7</th>\n",
       "      <th>8</th>\n",
       "      <th>9</th>\n",
       "      <th>10</th>\n",
       "      <th>...</th>\n",
       "      <th>42</th>\n",
       "      <th>43</th>\n",
       "      <th>44</th>\n",
       "      <th>45</th>\n",
       "      <th>46</th>\n",
       "      <th>47</th>\n",
       "      <th>48</th>\n",
       "      <th>49</th>\n",
       "      <th>50</th>\n",
       "      <th>51</th>\n",
       "    </tr>\n",
       "  </thead>\n",
       "  <tbody>\n",
       "    <tr>\n",
       "      <th>Total Fatalities changed by Week</th>\n",
       "      <td>56.0</td>\n",
       "      <td>362.0</td>\n",
       "      <td>906</td>\n",
       "      <td>1770</td>\n",
       "      <td>2469</td>\n",
       "      <td>2996</td>\n",
       "      <td>3803</td>\n",
       "      <td>6440</td>\n",
       "      <td>14623</td>\n",
       "      <td>33924</td>\n",
       "      <td>...</td>\n",
       "      <td>1257668</td>\n",
       "      <td>1320025</td>\n",
       "      <td>1388916</td>\n",
       "      <td>1460166</td>\n",
       "      <td>1536348</td>\n",
       "      <td>1612724</td>\n",
       "      <td>1693412</td>\n",
       "      <td>1765119</td>\n",
       "      <td>1843201</td>\n",
       "      <td>1926624</td>\n",
       "    </tr>\n",
       "    <tr>\n",
       "      <th>Number of Fatalities every Week</th>\n",
       "      <td>56.0</td>\n",
       "      <td>306.0</td>\n",
       "      <td>544</td>\n",
       "      <td>864</td>\n",
       "      <td>699</td>\n",
       "      <td>527</td>\n",
       "      <td>807</td>\n",
       "      <td>2637</td>\n",
       "      <td>8183</td>\n",
       "      <td>19301</td>\n",
       "      <td>...</td>\n",
       "      <td>56327</td>\n",
       "      <td>62357</td>\n",
       "      <td>68891</td>\n",
       "      <td>71250</td>\n",
       "      <td>76182</td>\n",
       "      <td>76376</td>\n",
       "      <td>80688</td>\n",
       "      <td>71707</td>\n",
       "      <td>78082</td>\n",
       "      <td>83423</td>\n",
       "    </tr>\n",
       "  </tbody>\n",
       "</table>\n",
       "<p>2 rows × 51 columns</p>\n",
       "</div>"
      ],
      "text/plain": [
       "                                    1      2    3     4     5     6     7   \\\n",
       "Total Fatalities changed by Week  56.0  362.0  906  1770  2469  2996  3803   \n",
       "Number of Fatalities every Week   56.0  306.0  544   864   699   527   807   \n",
       "\n",
       "                                    8      9      10  ...       42       43  \\\n",
       "Total Fatalities changed by Week  6440  14623  33924  ...  1257668  1320025   \n",
       "Number of Fatalities every Week   2637   8183  19301  ...    56327    62357   \n",
       "\n",
       "                                       44       45       46       47       48  \\\n",
       "Total Fatalities changed by Week  1388916  1460166  1536348  1612724  1693412   \n",
       "Number of Fatalities every Week     68891    71250    76182    76376    80688   \n",
       "\n",
       "                                       49       50       51  \n",
       "Total Fatalities changed by Week  1765119  1843201  1926624  \n",
       "Number of Fatalities every Week     71707    78082    83423  \n",
       "\n",
       "[2 rows x 51 columns]"
      ]
     },
     "execution_count": 5,
     "metadata": {},
     "output_type": "execute_result"
    },
    {
     "data": {
      "image/png": "[encoded data removed]",
      "text/plain": [
       "<Figure size 1440x432 with 1 Axes>"
      ]
     },
     "metadata": {
      "needs_background": "light"
     },
     "output_type": "display_data"
    },
    {
     "data": {
      "image/png": "[encoded data removed]",
      "text/plain": [
       "<Figure size 1440x432 with 1 Axes>"
      ]
     },
     "metadata": {
      "needs_background": "light"
     },
     "output_type": "display_data"
    }
   ],
   "source": [
    "# convert to DataFrame\n",
    "x_weeks = [week for week, value in deathsByWeek]\n",
    "y_cases_total_deaths = [value for week, value in deathsByWeek]\n",
    "y_cases_byweek_deaths = [deathsByWeek[0][1]]+[deathsByWeek[i+1][1]-deathsByWeek[i][1] for i in range(len(deathsByWeek)-1)]\n",
    "\n",
    "weeks = np.arange(1, max(x_weeks)+1, 1)\n",
    "confirmedweeks_deaths = pd.DataFrame(columns=x_weeks, index=['Total Fatalities changed by Week', 'Number of Fatalities every Week'])\n",
    "for week in weeks:\n",
    "    confirmedweeks_deaths[week] = [y_cases_total_deaths[week-1], y_cases_byweek_deaths[week-1]]\n",
    "\n",
    "# Plot total confirmed\n",
    "plt.figure(1)\n",
    "plt.xticks(np.arange(0, max(x_weeks)+1, 1))\n",
    "plt.bar(x_weeks, y_cases_total_deaths, color='Red')\n",
    "plt.xlabel('Weeks')\n",
    "plt.ylabel('Fatalities')\n",
    "plt.title(\"Total Fatalities by Week\")\n",
    "plt.savefig('output/week_totalfatalities.jpg')\n",
    "\n",
    "# Plot number of confirmed every week\n",
    "plt.figure(2)\n",
    "plt.xticks(np.arange(0, max(x_weeks)+1, 1))\n",
    "plt.bar(x_weeks, y_cases_byweek_deaths, color='Red')\n",
    "plt.xlabel('Weeks')\n",
    "plt.ylabel('Fatalities')\n",
    "plt.title(\"Total Fatalities daily changed by Week\")\n",
    "plt.savefig('output/week_totalfatalities_weekly.jpg')\n",
    "\n",
    "print(\"\\nWeek:\", np.argmin(y_cases_byweek_deaths)+1, \"with lowest Fatalities cases\", y_cases_byweek_deaths[np.argmin(y_cases_byweek_deaths)])\n",
    "print(\"\\nWeek:\", np.argmax(y_cases_byweek_deaths)+1, \"with highest Fatalities cases\", y_cases_byweek_deaths[np.argmax(y_cases_byweek_deaths)])\n",
    "print(\"\\nAverage Fatalities by Week until now: \", np.mean(y_cases_byweek_deaths))\n",
    "confirmedweeks_deaths\n",
    "\n",
    "# note: plot displays data on x-axis start at index 1, and data in Python collected at index 0, that's why +1"
   ]
  },
  {
   "cell_type": "markdown",
   "metadata": {},
   "source": [
    "### Total RECOVERED cases in the World changed by week"
   ]
  },
  {
   "cell_type": "code",
   "execution_count": 6,
   "metadata": {},
   "outputs": [
    {
     "name": "stdout",
     "output_type": "stream",
     "text": [
      "\n",
      "Week: 1 with lowest Recovered cases 52.0\n",
      "\n",
      "Week: 47 with highest Recovered cases 4145513.0\n",
      "\n",
      "Average Recovered by Week until now:  1146980.0588235294\n"
     ]
    },
    {
     "data": {
      "text/html": [
       "<div>\n",
       "<style scoped>\n",
       "    .dataframe tbody tr th:only-of-type {\n",
       "        vertical-align: middle;\n",
       "    }\n",
       "\n",
       "    .dataframe tbody tr th {\n",
       "        vertical-align: top;\n",
       "    }\n",
       "\n",
       "    .dataframe thead th {\n",
       "        text-align: right;\n",
       "    }\n",
       "</style>\n",
       "<table border=\"1\" class=\"dataframe\">\n",
       "  <thead>\n",
       "    <tr style=\"text-align: right;\">\n",
       "      <th></th>\n",
       "      <th>1</th>\n",
       "      <th>2</th>\n",
       "      <th>3</th>\n",
       "      <th>4</th>\n",
       "      <th>5</th>\n",
       "      <th>6</th>\n",
       "      <th>7</th>\n",
       "      <th>8</th>\n",
       "      <th>9</th>\n",
       "      <th>10</th>\n",
       "      <th>...</th>\n",
       "      <th>42</th>\n",
       "      <th>43</th>\n",
       "      <th>44</th>\n",
       "      <th>45</th>\n",
       "      <th>46</th>\n",
       "      <th>47</th>\n",
       "      <th>48</th>\n",
       "      <th>49</th>\n",
       "      <th>50</th>\n",
       "      <th>51</th>\n",
       "    </tr>\n",
       "  </thead>\n",
       "  <tbody>\n",
       "    <tr>\n",
       "      <th>Total Recovered changed by Week</th>\n",
       "      <td>52.0</td>\n",
       "      <td>472.0</td>\n",
       "      <td>3244</td>\n",
       "      <td>10865</td>\n",
       "      <td>23394</td>\n",
       "      <td>42715</td>\n",
       "      <td>60693</td>\n",
       "      <td>76031</td>\n",
       "      <td>97225</td>\n",
       "      <td>149049</td>\n",
       "      <td>...</td>\n",
       "      <td>33060197.0</td>\n",
       "      <td>35000108.0</td>\n",
       "      <td>37516157.0</td>\n",
       "      <td>40157958.0</td>\n",
       "      <td>43174509.0</td>\n",
       "      <td>47320022.0</td>\n",
       "      <td>50302328.0</td>\n",
       "      <td>53228498.0</td>\n",
       "      <td>55995936.0</td>\n",
       "      <td>58495983.0</td>\n",
       "    </tr>\n",
       "    <tr>\n",
       "      <th>Number of Recovered every Week</th>\n",
       "      <td>52.0</td>\n",
       "      <td>420.0</td>\n",
       "      <td>2772</td>\n",
       "      <td>7621</td>\n",
       "      <td>12529</td>\n",
       "      <td>19321</td>\n",
       "      <td>17978</td>\n",
       "      <td>15338</td>\n",
       "      <td>21194</td>\n",
       "      <td>51824</td>\n",
       "      <td>...</td>\n",
       "      <td>1954889.0</td>\n",
       "      <td>1939911.0</td>\n",
       "      <td>2516049.0</td>\n",
       "      <td>2641801.0</td>\n",
       "      <td>3016551.0</td>\n",
       "      <td>4145513.0</td>\n",
       "      <td>2982306.0</td>\n",
       "      <td>2926170.0</td>\n",
       "      <td>2767438.0</td>\n",
       "      <td>2500047.0</td>\n",
       "    </tr>\n",
       "  </tbody>\n",
       "</table>\n",
       "<p>2 rows × 51 columns</p>\n",
       "</div>"
      ],
      "text/plain": [
       "                                   1      2     3      4      5      6   \\\n",
       "Total Recovered changed by Week  52.0  472.0  3244  10865  23394  42715   \n",
       "Number of Recovered every Week   52.0  420.0  2772   7621  12529  19321   \n",
       "\n",
       "                                    7      8      9       10  ...          42  \\\n",
       "Total Recovered changed by Week  60693  76031  97225  149049  ...  33060197.0   \n",
       "Number of Recovered every Week   17978  15338  21194   51824  ...   1954889.0   \n",
       "\n",
       "                                         43          44          45  \\\n",
       "Total Recovered changed by Week  35000108.0  37516157.0  40157958.0   \n",
       "Number of Recovered every Week    1939911.0   2516049.0   2641801.0   \n",
       "\n",
       "                                         46          47          48  \\\n",
       "Total Recovered changed by Week  43174509.0  47320022.0  50302328.0   \n",
       "Number of Recovered every Week    3016551.0   4145513.0   2982306.0   \n",
       "\n",
       "                                         49          50          51  \n",
       "Total Recovered changed by Week  53228498.0  55995936.0  58495983.0  \n",
       "Number of Recovered every Week    2926170.0   2767438.0   2500047.0  \n",
       "\n",
       "[2 rows x 51 columns]"
      ]
     },
     "execution_count": 6,
     "metadata": {},
     "output_type": "execute_result"
    },
    {
     "data": {
      "image/png": "[encoded data removed]",
      "text/plain": [
       "<Figure size 1440x432 with 1 Axes>"
      ]
     },
     "metadata": {
      "needs_background": "light"
     },
     "output_type": "display_data"
    },
    {
     "data": {
      "image/png": "[encoded data removed]",
      "text/plain": [
       "<Figure size 1440x432 with 1 Axes>"
      ]
     },
     "metadata": {
      "needs_background": "light"
     },
     "output_type": "display_data"
    }
   ],
   "source": [
    "# convert to DataFrame\n",
    "x_weeks = [week for week, value in recoveredByWeek]\n",
    "y_cases_total_recovered = [value for week, value in recoveredByWeek]\n",
    "y_cases_byweek_recovered = [recoveredByWeek[0][1]]+[recoveredByWeek[i+1][1]-recoveredByWeek[i][1] for i in range(len(recoveredByWeek)-1)]\n",
    "\n",
    "weeks = np.arange(1, max(x_weeks)+1, 1)\n",
    "confirmedweeks_recovered = pd.DataFrame(columns=x_weeks, index=['Total Recovered changed by Week', 'Number of Recovered every Week'])\n",
    "for week in weeks:\n",
    "    confirmedweeks_recovered[week] = [y_cases_total_recovered[week-1], y_cases_byweek_recovered[week-1]]\n",
    "\n",
    "# Plot total recovered\n",
    "plt.figure(1)\n",
    "plt.xticks(np.arange(0, max(x_weeks)+1, 1))\n",
    "plt.bar(x_weeks, y_cases_total_recovered, color='Green')\n",
    "plt.xlabel('Weeks')\n",
    "plt.ylabel('Recovered')\n",
    "plt.title(\"Total Recovered by Week\")\n",
    "plt.savefig('output/week_totalrecovered.jpg')\n",
    "\n",
    "# Plot number of recovered every week\n",
    "plt.figure(2)\n",
    "plt.xticks(np.arange(0, max(x_weeks)+1, 1))\n",
    "plt.bar(x_weeks, y_cases_byweek_recovered, color='Green')\n",
    "plt.xlabel('Weeks')\n",
    "plt.ylabel('Recovered')\n",
    "plt.title(\"Total Recovered daily changed by Week\")\n",
    "plt.savefig('output/week_totalrecovered_weekly.jpg')\n",
    "\n",
    "print(\"\\nWeek:\", np.argmin(y_cases_byweek_recovered)+1, \"with lowest Recovered cases\", y_cases_byweek_recovered[np.argmin(y_cases_byweek_recovered)])\n",
    "print(\"\\nWeek:\", np.argmax(y_cases_byweek_recovered)+1, \"with highest Recovered cases\", y_cases_byweek_recovered[np.argmax(y_cases_byweek_recovered)])\n",
    "print(\"\\nAverage Recovered by Week until now: \", np.mean(y_cases_byweek_recovered))\n",
    "confirmedweeks_recovered\n",
    "\n",
    "# note: plot displays data on x-axis start at index 1, and data in Python collected at index 0, that's why +1"
   ]
  }
 ],
 "metadata": {
  "hide_input": false,
  "kernelspec": {
   "display_name": "aic",
   "language": "python",
   "name": "aic"
  },
  "language_info": {
   "codemirror_mode": {
    "name": "ipython",
    "version": 3
   },
   "file_extension": ".py",
   "mimetype": "text/x-python",
   "name": "python",
   "nbconvert_exporter": "python",
   "pygments_lexer": "ipython3",
   "version": "3.7.9"
  }
 },
 "nbformat": 4,
 "nbformat_minor": 4
}
