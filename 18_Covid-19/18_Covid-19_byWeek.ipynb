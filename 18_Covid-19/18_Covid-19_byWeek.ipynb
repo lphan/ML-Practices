{
 "cells": [
  {
   "cell_type": "markdown",
   "metadata": {},
   "source": [
    "### COVID-19\n",
    "### UPDATE by Weeks \n",
    "#### started from officially Day 1 (Wednesday 22.01.2020) given in data set \n",
    "### Total infected cases, total fatalities, total recovered"
   ]
  },
  {
   "cell_type": "code",
   "execution_count": 1,
   "metadata": {},
   "outputs": [
    {
     "name": "stdout",
     "output_type": "stream",
     "text": [
      "Start importing World-data  ./COVID-19/csse_covid_19_data/csse_covid_19_daily_reports/\n",
      "Start importing USA-data  ./COVID-19/csse_covid_19_data/csse_covid_19_daily_reports_us/\n",
      "Start importing single data  ./COVID-19/csse_covid_19_data/UID_ISO_FIPS_LookUp_Table.csv\n",
      "Start importing single data  ./COVID-19/csse_covid_19_data/csse_covid_19_time_series/time_series_covid19_confirmed_global.csv\n",
      "Start importing single data  ./COVID-19/csse_covid_19_data/csse_covid_19_time_series/time_series_covid19_deaths_global.csv\n",
      "Start importing single data  ./COVID-19/csse_covid_19_data/csse_covid_19_time_series/time_series_covid19_recovered_global.csv\n"
     ]
    },
    {
     "name": "stderr",
     "output_type": "stream",
     "text": [
      "/home/edvs1/lphan/.conda/envs/aic/lib/python3.7/site-packages/pandas/core/strings.py:2001: UserWarning: This pattern has match groups. To actually get the groups, use str.extract.\n",
      "  return func(self, *args, **kwargs)\n"
     ]
    }
   ],
   "source": [
    "from covid import *\n",
    "%matplotlib inline"
   ]
  },
  {
   "cell_type": "markdown",
   "metadata": {},
   "source": [
    "### Number of covid-19 outbreak days "
   ]
  },
  {
   "cell_type": "code",
   "execution_count": 2,
   "metadata": {},
   "outputs": [
    {
     "data": {
      "text/plain": [
       "373"
      ]
     },
     "execution_count": 2,
     "metadata": {},
     "output_type": "execute_result"
    }
   ],
   "source": [
    "rcParams['figure.figsize'] = 20, 6\n",
    "len(x_dat)"
   ]
  },
  {
   "cell_type": "code",
   "execution_count": 3,
   "metadata": {},
   "outputs": [
    {
     "data": {
      "text/plain": [
       "'01-28-2021'"
      ]
     },
     "execution_count": 3,
     "metadata": {},
     "output_type": "execute_result"
    }
   ],
   "source": [
    "updated_date=files[-1].split('.')[0]\n",
    "updated_date"
   ]
  },
  {
   "cell_type": "markdown",
   "metadata": {},
   "source": [
    "### Total CONFIRMED cases in the World changed by week"
   ]
  },
  {
   "cell_type": "code",
   "execution_count": 4,
   "metadata": {},
   "outputs": [
    {
     "name": "stdout",
     "output_type": "stream",
     "text": [
      "\n",
      "Week: 1 with lowest confirmed cases 2118\n",
      "\n",
      "Week: 47 with highest confirmed cases 5196048\n",
      "\n",
      "Average confirmed by Week until now:  1878843.5555555555\n"
     ]
    },
    {
     "data": {
      "text/html": [
       "<div>\n",
       "<style scoped>\n",
       "    .dataframe tbody tr th:only-of-type {\n",
       "        vertical-align: middle;\n",
       "    }\n",
       "\n",
       "    .dataframe tbody tr th {\n",
       "        vertical-align: top;\n",
       "    }\n",
       "\n",
       "    .dataframe thead th {\n",
       "        text-align: right;\n",
       "    }\n",
       "</style>\n",
       "<table border=\"1\" class=\"dataframe\">\n",
       "  <thead>\n",
       "    <tr style=\"text-align: right;\">\n",
       "      <th></th>\n",
       "      <th>1</th>\n",
       "      <th>2</th>\n",
       "      <th>3</th>\n",
       "      <th>4</th>\n",
       "      <th>5</th>\n",
       "      <th>6</th>\n",
       "      <th>7</th>\n",
       "      <th>8</th>\n",
       "      <th>9</th>\n",
       "      <th>10</th>\n",
       "      <th>...</th>\n",
       "      <th>45</th>\n",
       "      <th>46</th>\n",
       "      <th>47</th>\n",
       "      <th>48</th>\n",
       "      <th>49</th>\n",
       "      <th>50</th>\n",
       "      <th>51</th>\n",
       "      <th>52</th>\n",
       "      <th>53</th>\n",
       "      <th>54</th>\n",
       "    </tr>\n",
       "  </thead>\n",
       "  <tbody>\n",
       "    <tr>\n",
       "      <th>Total Confirmed changed by Week</th>\n",
       "      <td>2118</td>\n",
       "      <td>16787</td>\n",
       "      <td>40151</td>\n",
       "      <td>71226</td>\n",
       "      <td>78985</td>\n",
       "      <td>88368</td>\n",
       "      <td>109820</td>\n",
       "      <td>167411</td>\n",
       "      <td>337899</td>\n",
       "      <td>720092</td>\n",
       "      <td>...</td>\n",
       "      <td>62886931</td>\n",
       "      <td>67213105</td>\n",
       "      <td>72409153</td>\n",
       "      <td>76904488</td>\n",
       "      <td>80878004</td>\n",
       "      <td>85210389</td>\n",
       "      <td>90314669</td>\n",
       "      <td>95072238</td>\n",
       "      <td>99217457</td>\n",
       "      <td>101457552</td>\n",
       "    </tr>\n",
       "    <tr>\n",
       "      <th>Number of Confirmed every Week</th>\n",
       "      <td>2118</td>\n",
       "      <td>14669</td>\n",
       "      <td>23364</td>\n",
       "      <td>31075</td>\n",
       "      <td>7759</td>\n",
       "      <td>9383</td>\n",
       "      <td>21452</td>\n",
       "      <td>57591</td>\n",
       "      <td>170488</td>\n",
       "      <td>382193</td>\n",
       "      <td>...</td>\n",
       "      <td>4092950</td>\n",
       "      <td>4326174</td>\n",
       "      <td>5196048</td>\n",
       "      <td>4495335</td>\n",
       "      <td>3973516</td>\n",
       "      <td>4332385</td>\n",
       "      <td>5104280</td>\n",
       "      <td>4757569</td>\n",
       "      <td>4145219</td>\n",
       "      <td>2240095</td>\n",
       "    </tr>\n",
       "  </tbody>\n",
       "</table>\n",
       "<p>2 rows × 54 columns</p>\n",
       "</div>"
      ],
      "text/plain": [
       "                                   1      2      3      4      5      6   \\\n",
       "Total Confirmed changed by Week  2118  16787  40151  71226  78985  88368   \n",
       "Number of Confirmed every Week   2118  14669  23364  31075   7759   9383   \n",
       "\n",
       "                                     7       8       9       10  ...  \\\n",
       "Total Confirmed changed by Week  109820  167411  337899  720092  ...   \n",
       "Number of Confirmed every Week    21452   57591  170488  382193  ...   \n",
       "\n",
       "                                       45        46        47        48  \\\n",
       "Total Confirmed changed by Week  62886931  67213105  72409153  76904488   \n",
       "Number of Confirmed every Week    4092950   4326174   5196048   4495335   \n",
       "\n",
       "                                       49        50        51        52  \\\n",
       "Total Confirmed changed by Week  80878004  85210389  90314669  95072238   \n",
       "Number of Confirmed every Week    3973516   4332385   5104280   4757569   \n",
       "\n",
       "                                       53         54  \n",
       "Total Confirmed changed by Week  99217457  101457552  \n",
       "Number of Confirmed every Week    4145219    2240095  \n",
       "\n",
       "[2 rows x 54 columns]"
      ]
     },
     "execution_count": 4,
     "metadata": {},
     "output_type": "execute_result"
    },
    {
     "data": {
      "image/png": "[encoded data removed]",
      "text/plain": [
       "<Figure size 1440x432 with 1 Axes>"
      ]
     },
     "metadata": {
      "needs_background": "light"
     },
     "output_type": "display_data"
    },
    {
     "data": {
      "image/png": "[encoded data removed]",
      "text/plain": [
       "<Figure size 1440x432 with 1 Axes>"
      ]
     },
     "metadata": {
      "needs_background": "light"
     },
     "output_type": "display_data"
    }
   ],
   "source": [
    "# convert to DataFrame\n",
    "x_weeks = [week for week, value in confirmedByWeek]\n",
    "y_cases_total = [value for week, value in confirmedByWeek]\n",
    "y_cases_byweek = [confirmedByWeek[0][1]]+[confirmedByWeek[i+1][1]-confirmedByWeek[i][1] for i in range(len(confirmedByWeek)-1)]\n",
    "\n",
    "weeks = np.arange(1, max(x_weeks)+1, 1)\n",
    "confirmedweeks = pd.DataFrame(columns=x_weeks, index=['Total Confirmed changed by Week', 'Number of Confirmed every Week'])\n",
    "for week in weeks:\n",
    "    confirmedweeks[week] = [y_cases_total[week-1], y_cases_byweek[week-1]]\n",
    "\n",
    "# Plot total confirmed\n",
    "plt.figure(1)\n",
    "plt.xticks(np.arange(0, max(x_weeks)+1, 1))\n",
    "plt.bar(x_weeks, y_cases_total, color='Orange')\n",
    "plt.xlabel('Weeks')\n",
    "plt.ylabel('Confirmed')\n",
    "plt.title(\"Total Confirmed by Week\")\n",
    "plt.savefig('output/week_totalconfirmed.jpg')\n",
    "\n",
    "# Plot number of confirmed every week\n",
    "plt.figure(2)\n",
    "plt.xticks(np.arange(0, max(x_weeks)+1, 1))\n",
    "plt.bar(x_weeks, y_cases_byweek, color='Orange')\n",
    "plt.xlabel('Weeks')\n",
    "plt.ylabel('Confirmed')\n",
    "plt.title(\"Total Confirmed daily changed by Week\")\n",
    "plt.savefig('output/week_totalconfirmed_weekly.jpg')\n",
    "\n",
    "print(\"\\nWeek:\", np.argmin(y_cases_byweek)+1, \"with lowest confirmed cases\", y_cases_byweek[np.argmin(y_cases_byweek)])\n",
    "print(\"\\nWeek:\", np.argmax(y_cases_byweek)+1, \"with highest confirmed cases\", y_cases_byweek[np.argmax(y_cases_byweek)])\n",
    "print(\"\\nAverage confirmed by Week until now: \", np.mean(y_cases_byweek))\n",
    "confirmedweeks\n",
    "\n",
    "# note: plot displays data on x-axis start at index 1, and data in Python collected at index 0, that's why +1"
   ]
  },
  {
   "cell_type": "markdown",
   "metadata": {},
   "source": [
    "### Total FATALITIES cases in the World changed by week"
   ]
  },
  {
   "cell_type": "code",
   "execution_count": 5,
   "metadata": {},
   "outputs": [
    {
     "name": "stdout",
     "output_type": "stream",
     "text": [
      "\n",
      "Week: 1 with lowest Fatalities cases 56.0\n",
      "\n",
      "Week: 53 with highest Fatalities cases 98857\n",
      "\n",
      "Average Fatalities by Week until now:  40577.88888888889\n"
     ]
    },
    {
     "data": {
      "text/html": [
       "<div>\n",
       "<style scoped>\n",
       "    .dataframe tbody tr th:only-of-type {\n",
       "        vertical-align: middle;\n",
       "    }\n",
       "\n",
       "    .dataframe tbody tr th {\n",
       "        vertical-align: top;\n",
       "    }\n",
       "\n",
       "    .dataframe thead th {\n",
       "        text-align: right;\n",
       "    }\n",
       "</style>\n",
       "<table border=\"1\" class=\"dataframe\">\n",
       "  <thead>\n",
       "    <tr style=\"text-align: right;\">\n",
       "      <th></th>\n",
       "      <th>1</th>\n",
       "      <th>2</th>\n",
       "      <th>3</th>\n",
       "      <th>4</th>\n",
       "      <th>5</th>\n",
       "      <th>6</th>\n",
       "      <th>7</th>\n",
       "      <th>8</th>\n",
       "      <th>9</th>\n",
       "      <th>10</th>\n",
       "      <th>...</th>\n",
       "      <th>45</th>\n",
       "      <th>46</th>\n",
       "      <th>47</th>\n",
       "      <th>48</th>\n",
       "      <th>49</th>\n",
       "      <th>50</th>\n",
       "      <th>51</th>\n",
       "      <th>52</th>\n",
       "      <th>53</th>\n",
       "      <th>54</th>\n",
       "    </tr>\n",
       "  </thead>\n",
       "  <tbody>\n",
       "    <tr>\n",
       "      <th>Total Fatalities changed by Week</th>\n",
       "      <td>56.0</td>\n",
       "      <td>362.0</td>\n",
       "      <td>906</td>\n",
       "      <td>1770</td>\n",
       "      <td>2469</td>\n",
       "      <td>2996</td>\n",
       "      <td>3803</td>\n",
       "      <td>6440</td>\n",
       "      <td>14624</td>\n",
       "      <td>33956</td>\n",
       "      <td>...</td>\n",
       "      <td>1460239</td>\n",
       "      <td>1536413</td>\n",
       "      <td>1612816</td>\n",
       "      <td>1693543</td>\n",
       "      <td>1765276</td>\n",
       "      <td>1843341</td>\n",
       "      <td>1934935</td>\n",
       "      <td>2030941</td>\n",
       "      <td>2129798</td>\n",
       "      <td>2191206</td>\n",
       "    </tr>\n",
       "    <tr>\n",
       "      <th>Number of Fatalities every Week</th>\n",
       "      <td>56.0</td>\n",
       "      <td>306.0</td>\n",
       "      <td>544</td>\n",
       "      <td>864</td>\n",
       "      <td>699</td>\n",
       "      <td>527</td>\n",
       "      <td>807</td>\n",
       "      <td>2637</td>\n",
       "      <td>8184</td>\n",
       "      <td>19332</td>\n",
       "      <td>...</td>\n",
       "      <td>71251</td>\n",
       "      <td>76174</td>\n",
       "      <td>76403</td>\n",
       "      <td>80727</td>\n",
       "      <td>71733</td>\n",
       "      <td>78065</td>\n",
       "      <td>91594</td>\n",
       "      <td>96006</td>\n",
       "      <td>98857</td>\n",
       "      <td>61408</td>\n",
       "    </tr>\n",
       "  </tbody>\n",
       "</table>\n",
       "<p>2 rows × 54 columns</p>\n",
       "</div>"
      ],
      "text/plain": [
       "                                    1      2    3     4     5     6     7   \\\n",
       "Total Fatalities changed by Week  56.0  362.0  906  1770  2469  2996  3803   \n",
       "Number of Fatalities every Week   56.0  306.0  544   864   699   527   807   \n",
       "\n",
       "                                    8      9      10  ...       45       46  \\\n",
       "Total Fatalities changed by Week  6440  14624  33956  ...  1460239  1536413   \n",
       "Number of Fatalities every Week   2637   8184  19332  ...    71251    76174   \n",
       "\n",
       "                                       47       48       49       50       51  \\\n",
       "Total Fatalities changed by Week  1612816  1693543  1765276  1843341  1934935   \n",
       "Number of Fatalities every Week     76403    80727    71733    78065    91594   \n",
       "\n",
       "                                       52       53       54  \n",
       "Total Fatalities changed by Week  2030941  2129798  2191206  \n",
       "Number of Fatalities every Week     96006    98857    61408  \n",
       "\n",
       "[2 rows x 54 columns]"
      ]
     },
     "execution_count": 5,
     "metadata": {},
     "output_type": "execute_result"
    },
    {
     "data": {
      "image/png": "[encoded data removed]",
      "text/plain": [
       "<Figure size 1440x432 with 1 Axes>"
      ]
     },
     "metadata": {
      "needs_background": "light"
     },
     "output_type": "display_data"
    },
    {
     "data": {
      "image/png": "[encoded data removed]",
      "text/plain": [
       "<Figure size 1440x432 with 1 Axes>"
      ]
     },
     "metadata": {
      "needs_background": "light"
     },
     "output_type": "display_data"
    }
   ],
   "source": [
    "# convert to DataFrame\n",
    "x_weeks = [week for week, value in deathsByWeek]\n",
    "y_cases_total_deaths = [value for week, value in deathsByWeek]\n",
    "y_cases_byweek_deaths = [deathsByWeek[0][1]]+[deathsByWeek[i+1][1]-deathsByWeek[i][1] for i in range(len(deathsByWeek)-1)]\n",
    "\n",
    "weeks = np.arange(1, max(x_weeks)+1, 1)\n",
    "confirmedweeks_deaths = pd.DataFrame(columns=x_weeks, index=['Total Fatalities changed by Week', 'Number of Fatalities every Week'])\n",
    "for week in weeks:\n",
    "    confirmedweeks_deaths[week] = [y_cases_total_deaths[week-1], y_cases_byweek_deaths[week-1]]\n",
    "\n",
    "# Plot total confirmed\n",
    "plt.figure(1)\n",
    "plt.xticks(np.arange(0, max(x_weeks)+1, 1))\n",
    "plt.bar(x_weeks, y_cases_total_deaths, color='Red')\n",
    "plt.xlabel('Weeks')\n",
    "plt.ylabel('Fatalities')\n",
    "plt.title(\"Total Fatalities by Week\")\n",
    "plt.savefig('output/week_totalfatalities.jpg')\n",
    "\n",
    "# Plot number of confirmed every week\n",
    "plt.figure(2)\n",
    "plt.xticks(np.arange(0, max(x_weeks)+1, 1))\n",
    "plt.bar(x_weeks, y_cases_byweek_deaths, color='Red')\n",
    "plt.xlabel('Weeks')\n",
    "plt.ylabel('Fatalities')\n",
    "plt.title(\"Total Fatalities daily changed by Week\")\n",
    "plt.savefig('output/week_totalfatalities_weekly.jpg')\n",
    "\n",
    "print(\"\\nWeek:\", np.argmin(y_cases_byweek_deaths)+1, \"with lowest Fatalities cases\", y_cases_byweek_deaths[np.argmin(y_cases_byweek_deaths)])\n",
    "print(\"\\nWeek:\", np.argmax(y_cases_byweek_deaths)+1, \"with highest Fatalities cases\", y_cases_byweek_deaths[np.argmax(y_cases_byweek_deaths)])\n",
    "print(\"\\nAverage Fatalities by Week until now: \", np.mean(y_cases_byweek_deaths))\n",
    "confirmedweeks_deaths\n",
    "\n",
    "# note: plot displays data on x-axis start at index 1, and data in Python collected at index 0, that's why +1"
   ]
  },
  {
   "cell_type": "markdown",
   "metadata": {},
   "source": [
    "### Total RECOVERED cases in the World changed by week"
   ]
  },
  {
   "cell_type": "code",
   "execution_count": 6,
   "metadata": {},
   "outputs": [
    {
     "name": "stdout",
     "output_type": "stream",
     "text": [
      "\n",
      "Week: 1 with lowest Recovered cases 56.0\n",
      "\n",
      "Week: 47 with highest Recovered cases 4145680.0\n",
      "\n",
      "Average Recovered by Week until now:  1230408.388888889\n"
     ]
    },
    {
     "data": {
      "text/html": [
       "<div>\n",
       "<style scoped>\n",
       "    .dataframe tbody tr th:only-of-type {\n",
       "        vertical-align: middle;\n",
       "    }\n",
       "\n",
       "    .dataframe tbody tr th {\n",
       "        vertical-align: top;\n",
       "    }\n",
       "\n",
       "    .dataframe thead th {\n",
       "        text-align: right;\n",
       "    }\n",
       "</style>\n",
       "<table border=\"1\" class=\"dataframe\">\n",
       "  <thead>\n",
       "    <tr style=\"text-align: right;\">\n",
       "      <th></th>\n",
       "      <th>1</th>\n",
       "      <th>2</th>\n",
       "      <th>3</th>\n",
       "      <th>4</th>\n",
       "      <th>5</th>\n",
       "      <th>6</th>\n",
       "      <th>7</th>\n",
       "      <th>8</th>\n",
       "      <th>9</th>\n",
       "      <th>10</th>\n",
       "      <th>...</th>\n",
       "      <th>45</th>\n",
       "      <th>46</th>\n",
       "      <th>47</th>\n",
       "      <th>48</th>\n",
       "      <th>49</th>\n",
       "      <th>50</th>\n",
       "      <th>51</th>\n",
       "      <th>52</th>\n",
       "      <th>53</th>\n",
       "      <th>54</th>\n",
       "    </tr>\n",
       "  </thead>\n",
       "  <tbody>\n",
       "    <tr>\n",
       "      <th>Total Recovered changed by Week</th>\n",
       "      <td>56.0</td>\n",
       "      <td>476.0</td>\n",
       "      <td>3245</td>\n",
       "      <td>10866</td>\n",
       "      <td>23394</td>\n",
       "      <td>42717</td>\n",
       "      <td>60695</td>\n",
       "      <td>76033</td>\n",
       "      <td>97226</td>\n",
       "      <td>149063</td>\n",
       "      <td>...</td>\n",
       "      <td>40157836.0</td>\n",
       "      <td>43174342.0</td>\n",
       "      <td>47320022.0</td>\n",
       "      <td>50302328.0</td>\n",
       "      <td>53228517.0</td>\n",
       "      <td>55995936.0</td>\n",
       "      <td>58806281.0</td>\n",
       "      <td>61723824.0</td>\n",
       "      <td>64722524.0</td>\n",
       "      <td>66442053.0</td>\n",
       "    </tr>\n",
       "    <tr>\n",
       "      <th>Number of Recovered every Week</th>\n",
       "      <td>56.0</td>\n",
       "      <td>420.0</td>\n",
       "      <td>2769</td>\n",
       "      <td>7621</td>\n",
       "      <td>12528</td>\n",
       "      <td>19323</td>\n",
       "      <td>17978</td>\n",
       "      <td>15338</td>\n",
       "      <td>21193</td>\n",
       "      <td>51837</td>\n",
       "      <td>...</td>\n",
       "      <td>2641749.0</td>\n",
       "      <td>3016506.0</td>\n",
       "      <td>4145680.0</td>\n",
       "      <td>2982306.0</td>\n",
       "      <td>2926189.0</td>\n",
       "      <td>2767419.0</td>\n",
       "      <td>2810345.0</td>\n",
       "      <td>2917543.0</td>\n",
       "      <td>2998700.0</td>\n",
       "      <td>1719529.0</td>\n",
       "    </tr>\n",
       "  </tbody>\n",
       "</table>\n",
       "<p>2 rows × 54 columns</p>\n",
       "</div>"
      ],
      "text/plain": [
       "                                   1      2     3      4      5      6   \\\n",
       "Total Recovered changed by Week  56.0  476.0  3245  10866  23394  42717   \n",
       "Number of Recovered every Week   56.0  420.0  2769   7621  12528  19323   \n",
       "\n",
       "                                    7      8      9       10  ...          45  \\\n",
       "Total Recovered changed by Week  60695  76033  97226  149063  ...  40157836.0   \n",
       "Number of Recovered every Week   17978  15338  21193   51837  ...   2641749.0   \n",
       "\n",
       "                                         46          47          48  \\\n",
       "Total Recovered changed by Week  43174342.0  47320022.0  50302328.0   \n",
       "Number of Recovered every Week    3016506.0   4145680.0   2982306.0   \n",
       "\n",
       "                                         49          50          51  \\\n",
       "Total Recovered changed by Week  53228517.0  55995936.0  58806281.0   \n",
       "Number of Recovered every Week    2926189.0   2767419.0   2810345.0   \n",
       "\n",
       "                                         52          53          54  \n",
       "Total Recovered changed by Week  61723824.0  64722524.0  66442053.0  \n",
       "Number of Recovered every Week    2917543.0   2998700.0   1719529.0  \n",
       "\n",
       "[2 rows x 54 columns]"
      ]
     },
     "execution_count": 6,
     "metadata": {},
     "output_type": "execute_result"
    },
    {
     "data": {
      "image/png": "[encoded data removed]",
      "text/plain": [
       "<Figure size 1440x432 with 1 Axes>"
      ]
     },
     "metadata": {
      "needs_background": "light"
     },
     "output_type": "display_data"
    },
    {
     "data": {
      "image/png": "[encoded data removed]",
      "text/plain": [
       "<Figure size 1440x432 with 1 Axes>"
      ]
     },
     "metadata": {
      "needs_background": "light"
     },
     "output_type": "display_data"
    }
   ],
   "source": [
    "# convert to DataFrame\n",
    "x_weeks = [week for week, value in recoveredByWeek]\n",
    "y_cases_total_recovered = [value for week, value in recoveredByWeek]\n",
    "y_cases_byweek_recovered = [recoveredByWeek[0][1]]+[recoveredByWeek[i+1][1]-recoveredByWeek[i][1] for i in range(len(recoveredByWeek)-1)]\n",
    "\n",
    "weeks = np.arange(1, max(x_weeks)+1, 1)\n",
    "confirmedweeks_recovered = pd.DataFrame(columns=x_weeks, index=['Total Recovered changed by Week', 'Number of Recovered every Week'])\n",
    "for week in weeks:\n",
    "    confirmedweeks_recovered[week] = [y_cases_total_recovered[week-1], y_cases_byweek_recovered[week-1]]\n",
    "\n",
    "# Plot total recovered\n",
    "plt.figure(1)\n",
    "plt.xticks(np.arange(0, max(x_weeks)+1, 1))\n",
    "plt.bar(x_weeks, y_cases_total_recovered, color='Green')\n",
    "plt.xlabel('Weeks')\n",
    "plt.ylabel('Recovered')\n",
    "plt.title(\"Total Recovered by Week\")\n",
    "plt.savefig('output/week_totalrecovered.jpg')\n",
    "\n",
    "# Plot number of recovered every week\n",
    "plt.figure(2)\n",
    "plt.xticks(np.arange(0, max(x_weeks)+1, 1))\n",
    "plt.bar(x_weeks, y_cases_byweek_recovered, color='Green')\n",
    "plt.xlabel('Weeks')\n",
    "plt.ylabel('Recovered')\n",
    "plt.title(\"Total Recovered daily changed by Week\")\n",
    "plt.savefig('output/week_totalrecovered_weekly.jpg')\n",
    "\n",
    "print(\"\\nWeek:\", np.argmin(y_cases_byweek_recovered)+1, \"with lowest Recovered cases\", y_cases_byweek_recovered[np.argmin(y_cases_byweek_recovered)])\n",
    "print(\"\\nWeek:\", np.argmax(y_cases_byweek_recovered)+1, \"with highest Recovered cases\", y_cases_byweek_recovered[np.argmax(y_cases_byweek_recovered)])\n",
    "print(\"\\nAverage Recovered by Week until now: \", np.mean(y_cases_byweek_recovered))\n",
    "confirmedweeks_recovered\n",
    "\n",
    "# note: plot displays data on x-axis start at index 1, and data in Python collected at index 0, that's why +1"
   ]
  }
 ],
 "metadata": {
  "hide_input": false,
  "kernelspec": {
   "display_name": "aic",
   "language": "python",
   "name": "aic"
  },
  "language_info": {
   "codemirror_mode": {
    "name": "ipython",
    "version": 3
   },
   "file_extension": ".py",
   "mimetype": "text/x-python",
   "name": "python",
   "nbconvert_exporter": "python",
   "pygments_lexer": "ipython3",
   "version": "3.7.9"
  }
 },
 "nbformat": 4,
 "nbformat_minor": 4
}
