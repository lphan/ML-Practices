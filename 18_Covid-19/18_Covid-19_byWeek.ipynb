{
 "cells": [
  {
   "cell_type": "markdown",
   "metadata": {},
   "source": [
    "### COVID-19\n",
    "### UPDATE by Weeks \n",
    "#### started from officially Day 1 (Wednesday 22.01.2020) given in data set \n",
    "### Total infected cases, total fatalities, total recovered"
   ]
  },
  {
   "cell_type": "code",
   "execution_count": 1,
   "metadata": {},
   "outputs": [
    {
     "name": "stdout",
     "output_type": "stream",
     "text": [
      "Start importing World-data  ./data/COVID-19/csse_covid_19_data/csse_covid_19_daily_reports/\n",
      "Start importing USA-data  ./data/COVID-19/csse_covid_19_data/csse_covid_19_daily_reports_us/\n",
      "Start importing single data  ./data/COVID-19/csse_covid_19_data/UID_ISO_FIPS_LookUp_Table.csv\n",
      "Start importing single data  ./data/COVID-19/csse_covid_19_data/csse_covid_19_time_series/time_series_covid19_confirmed_global.csv\n",
      "Start importing single data  ./data/COVID-19/csse_covid_19_data/csse_covid_19_time_series/time_series_covid19_deaths_global.csv\n",
      "Start importing single data  ./data/COVID-19/csse_covid_19_data/csse_covid_19_time_series/time_series_covid19_recovered_global.csv\n"
     ]
    }
   ],
   "source": [
    "from covid_byweek import *\n",
    "%matplotlib inline"
   ]
  },
  {
   "cell_type": "markdown",
   "metadata": {},
   "source": [
    "### Number of covid-19 outbreak days "
   ]
  },
  {
   "cell_type": "code",
   "execution_count": 2,
   "metadata": {},
   "outputs": [
    {
     "data": {
      "text/plain": [
       "431"
      ]
     },
     "execution_count": 2,
     "metadata": {},
     "output_type": "execute_result"
    }
   ],
   "source": [
    "rcParams['figure.figsize'] = 20, 6\n",
    "len(x_dat)"
   ]
  },
  {
   "cell_type": "code",
   "execution_count": 3,
   "metadata": {},
   "outputs": [
    {
     "data": {
      "text/plain": [
       "'03-27-2021'"
      ]
     },
     "execution_count": 3,
     "metadata": {},
     "output_type": "execute_result"
    }
   ],
   "source": [
    "updated_date=files[-1].split('.')[0]\n",
    "updated_date"
   ]
  },
  {
   "cell_type": "markdown",
   "metadata": {},
   "source": [
    "### Total CONFIRMED cases in the World changed by week"
   ]
  },
  {
   "cell_type": "code",
   "execution_count": 4,
   "metadata": {},
   "outputs": [
    {
     "name": "stdout",
     "output_type": "stream",
     "text": [
      "\n",
      "Week: 1 with lowest confirmed cases 2118.0\n",
      "\n",
      "Week: 47 with highest confirmed cases 5201477.0\n",
      "\n",
      "Average confirmed by Week until now:  2043978.5806451612\n"
     ]
    },
    {
     "data": {
      "text/html": [
       "<div>\n",
       "<style scoped>\n",
       "    .dataframe tbody tr th:only-of-type {\n",
       "        vertical-align: middle;\n",
       "    }\n",
       "\n",
       "    .dataframe tbody tr th {\n",
       "        vertical-align: top;\n",
       "    }\n",
       "\n",
       "    .dataframe thead th {\n",
       "        text-align: right;\n",
       "    }\n",
       "</style>\n",
       "<table border=\"1\" class=\"dataframe\">\n",
       "  <thead>\n",
       "    <tr style=\"text-align: right;\">\n",
       "      <th></th>\n",
       "      <th>1</th>\n",
       "      <th>2</th>\n",
       "      <th>3</th>\n",
       "      <th>4</th>\n",
       "      <th>5</th>\n",
       "      <th>6</th>\n",
       "      <th>7</th>\n",
       "      <th>8</th>\n",
       "      <th>9</th>\n",
       "      <th>10</th>\n",
       "      <th>...</th>\n",
       "      <th>53</th>\n",
       "      <th>54</th>\n",
       "      <th>55</th>\n",
       "      <th>56</th>\n",
       "      <th>57</th>\n",
       "      <th>58</th>\n",
       "      <th>59</th>\n",
       "      <th>60</th>\n",
       "      <th>61</th>\n",
       "      <th>62</th>\n",
       "    </tr>\n",
       "  </thead>\n",
       "  <tbody>\n",
       "    <tr>\n",
       "      <th>Total Confirmed changed by Week</th>\n",
       "      <td>2118.0</td>\n",
       "      <td>16787.0</td>\n",
       "      <td>40151.0</td>\n",
       "      <td>71226.0</td>\n",
       "      <td>78985.0</td>\n",
       "      <td>88368.0</td>\n",
       "      <td>109820.0</td>\n",
       "      <td>167408.0</td>\n",
       "      <td>337867.0</td>\n",
       "      <td>720010.0</td>\n",
       "      <td>...</td>\n",
       "      <td>99272581.0</td>\n",
       "      <td>103026115.0</td>\n",
       "      <td>106225026.0</td>\n",
       "      <td>108941674.0</td>\n",
       "      <td>111472126.0</td>\n",
       "      <td>114177059.0</td>\n",
       "      <td>116913680.0</td>\n",
       "      <td>119875125.0</td>\n",
       "      <td>123273862.0</td>\n",
       "      <td>126726672.0</td>\n",
       "    </tr>\n",
       "    <tr>\n",
       "      <th>Number of Confirmed every Week</th>\n",
       "      <td>2118.0</td>\n",
       "      <td>14669.0</td>\n",
       "      <td>23364.0</td>\n",
       "      <td>31075.0</td>\n",
       "      <td>7759.0</td>\n",
       "      <td>9383.0</td>\n",
       "      <td>21452.0</td>\n",
       "      <td>57588.0</td>\n",
       "      <td>170459.0</td>\n",
       "      <td>382143.0</td>\n",
       "      <td>...</td>\n",
       "      <td>4145723.0</td>\n",
       "      <td>3753534.0</td>\n",
       "      <td>3198911.0</td>\n",
       "      <td>2716648.0</td>\n",
       "      <td>2530452.0</td>\n",
       "      <td>2704933.0</td>\n",
       "      <td>2736621.0</td>\n",
       "      <td>2961445.0</td>\n",
       "      <td>3398737.0</td>\n",
       "      <td>3452810.0</td>\n",
       "    </tr>\n",
       "  </tbody>\n",
       "</table>\n",
       "<p>2 rows × 62 columns</p>\n",
       "</div>"
      ],
      "text/plain": [
       "                                     1        2        3        4        5   \\\n",
       "Total Confirmed changed by Week  2118.0  16787.0  40151.0  71226.0  78985.0   \n",
       "Number of Confirmed every Week   2118.0  14669.0  23364.0  31075.0   7759.0   \n",
       "\n",
       "                                      6         7         8         9   \\\n",
       "Total Confirmed changed by Week  88368.0  109820.0  167408.0  337867.0   \n",
       "Number of Confirmed every Week    9383.0   21452.0   57588.0  170459.0   \n",
       "\n",
       "                                       10  ...          53           54  \\\n",
       "Total Confirmed changed by Week  720010.0  ...  99272581.0  103026115.0   \n",
       "Number of Confirmed every Week   382143.0  ...   4145723.0    3753534.0   \n",
       "\n",
       "                                          55           56           57  \\\n",
       "Total Confirmed changed by Week  106225026.0  108941674.0  111472126.0   \n",
       "Number of Confirmed every Week     3198911.0    2716648.0    2530452.0   \n",
       "\n",
       "                                          58           59           60  \\\n",
       "Total Confirmed changed by Week  114177059.0  116913680.0  119875125.0   \n",
       "Number of Confirmed every Week     2704933.0    2736621.0    2961445.0   \n",
       "\n",
       "                                          61           62  \n",
       "Total Confirmed changed by Week  123273862.0  126726672.0  \n",
       "Number of Confirmed every Week     3398737.0    3452810.0  \n",
       "\n",
       "[2 rows x 62 columns]"
      ]
     },
     "execution_count": 4,
     "metadata": {},
     "output_type": "execute_result"
    },
    {
     "data": {
      "image/png": "[encoded data removed]",
      "text/plain": [
       "<Figure size 1440x432 with 1 Axes>"
      ]
     },
     "metadata": {
      "needs_background": "light"
     },
     "output_type": "display_data"
    },
    {
     "data": {
      "image/png": "[encoded data removed]",
      "text/plain": [
       "<Figure size 1440x432 with 1 Axes>"
      ]
     },
     "metadata": {
      "needs_background": "light"
     },
     "output_type": "display_data"
    }
   ],
   "source": [
    "# convert to DataFrame\n",
    "x_weeks = [week for week, value in confirmedByWeek]\n",
    "y_cases_total = [value for week, value in confirmedByWeek]\n",
    "y_cases_byweek = [confirmedByWeek[0][1]]+[confirmedByWeek[i+1][1]-confirmedByWeek[i][1] for i in range(len(confirmedByWeek)-1)]\n",
    "\n",
    "weeks = np.arange(1, max(x_weeks)+1, 1)\n",
    "confirmedweeks = pd.DataFrame(columns=x_weeks, index=['Total Confirmed changed by Week', 'Number of Confirmed every Week'])\n",
    "for week in weeks:\n",
    "    confirmedweeks[week] = [y_cases_total[week-1], y_cases_byweek[week-1]]\n",
    "\n",
    "# Plot total confirmed\n",
    "plt.figure(1)\n",
    "plt.xticks(np.arange(0, max(x_weeks)+1, 1))\n",
    "plt.bar(x_weeks, y_cases_total, color='Orange')\n",
    "plt.xlabel('Weeks')\n",
    "plt.ylabel('Confirmed')\n",
    "plt.title(\"Total Confirmed by Week (Update day: \"+str(updated_date)+\")\")\n",
    "plt.savefig('output/week_totalconfirmed.jpg')\n",
    "\n",
    "# Plot number of confirmed every week\n",
    "plt.figure(2)\n",
    "plt.xticks(np.arange(0, max(x_weeks)+1, 1))\n",
    "plt.bar(x_weeks, y_cases_byweek, color='Orange')\n",
    "plt.xlabel('Weeks')\n",
    "plt.ylabel('Confirmed')\n",
    "plt.title(\"Total Confirmed daily changed by Week (Update day: \"+str(updated_date)+\")\")\n",
    "plt.savefig('output/week_totalconfirmed_weekly.jpg')\n",
    "\n",
    "print(\"\\nWeek:\", np.argmin(y_cases_byweek)+1, \"with lowest confirmed cases\", y_cases_byweek[np.argmin(y_cases_byweek)])\n",
    "print(\"\\nWeek:\", np.argmax(y_cases_byweek)+1, \"with highest confirmed cases\", y_cases_byweek[np.argmax(y_cases_byweek)])\n",
    "print(\"\\nAverage confirmed by Week until now: \", np.mean(y_cases_byweek))\n",
    "confirmedweeks\n",
    "\n",
    "# note: plot displays data on x-axis start at index 1, and data in Python collected at index 0, that's why +1"
   ]
  },
  {
   "cell_type": "markdown",
   "metadata": {},
   "source": [
    "### Total FATALITIES cases in the World changed by week"
   ]
  },
  {
   "cell_type": "code",
   "execution_count": 5,
   "metadata": {},
   "outputs": [
    {
     "name": "stdout",
     "output_type": "stream",
     "text": [
      "\n",
      "Week: 1 with lowest Fatalities cases 56.0\n",
      "\n",
      "Week: 53 with highest Fatalities cases 98914.0\n",
      "\n",
      "Average Fatalities by Week until now:  44795.74193548387\n"
     ]
    },
    {
     "data": {
      "text/html": [
       "<div>\n",
       "<style scoped>\n",
       "    .dataframe tbody tr th:only-of-type {\n",
       "        vertical-align: middle;\n",
       "    }\n",
       "\n",
       "    .dataframe tbody tr th {\n",
       "        vertical-align: top;\n",
       "    }\n",
       "\n",
       "    .dataframe thead th {\n",
       "        text-align: right;\n",
       "    }\n",
       "</style>\n",
       "<table border=\"1\" class=\"dataframe\">\n",
       "  <thead>\n",
       "    <tr style=\"text-align: right;\">\n",
       "      <th></th>\n",
       "      <th>1</th>\n",
       "      <th>2</th>\n",
       "      <th>3</th>\n",
       "      <th>4</th>\n",
       "      <th>5</th>\n",
       "      <th>6</th>\n",
       "      <th>7</th>\n",
       "      <th>8</th>\n",
       "      <th>9</th>\n",
       "      <th>10</th>\n",
       "      <th>...</th>\n",
       "      <th>53</th>\n",
       "      <th>54</th>\n",
       "      <th>55</th>\n",
       "      <th>56</th>\n",
       "      <th>57</th>\n",
       "      <th>58</th>\n",
       "      <th>59</th>\n",
       "      <th>60</th>\n",
       "      <th>61</th>\n",
       "      <th>62</th>\n",
       "    </tr>\n",
       "  </thead>\n",
       "  <tbody>\n",
       "    <tr>\n",
       "      <th>Total Fatalities changed by Week</th>\n",
       "      <td>56.0</td>\n",
       "      <td>362.0</td>\n",
       "      <td>906.0</td>\n",
       "      <td>1770.0</td>\n",
       "      <td>2469.0</td>\n",
       "      <td>2996.0</td>\n",
       "      <td>3803.0</td>\n",
       "      <td>6440.0</td>\n",
       "      <td>14632.0</td>\n",
       "      <td>33991.0</td>\n",
       "      <td>...</td>\n",
       "      <td>2137281.0</td>\n",
       "      <td>2235547.0</td>\n",
       "      <td>2323371.0</td>\n",
       "      <td>2402648.0</td>\n",
       "      <td>2468474.0</td>\n",
       "      <td>2532456.0</td>\n",
       "      <td>2594035.0</td>\n",
       "      <td>2654120.0</td>\n",
       "      <td>2715613.0</td>\n",
       "      <td>2777336.0</td>\n",
       "    </tr>\n",
       "    <tr>\n",
       "      <th>Number of Fatalities every Week</th>\n",
       "      <td>56.0</td>\n",
       "      <td>306.0</td>\n",
       "      <td>544.0</td>\n",
       "      <td>864.0</td>\n",
       "      <td>699.0</td>\n",
       "      <td>527.0</td>\n",
       "      <td>807.0</td>\n",
       "      <td>2637.0</td>\n",
       "      <td>8192.0</td>\n",
       "      <td>19359.0</td>\n",
       "      <td>...</td>\n",
       "      <td>98914.0</td>\n",
       "      <td>98266.0</td>\n",
       "      <td>87824.0</td>\n",
       "      <td>79277.0</td>\n",
       "      <td>65826.0</td>\n",
       "      <td>63982.0</td>\n",
       "      <td>61579.0</td>\n",
       "      <td>60085.0</td>\n",
       "      <td>61493.0</td>\n",
       "      <td>61723.0</td>\n",
       "    </tr>\n",
       "  </tbody>\n",
       "</table>\n",
       "<p>2 rows × 62 columns</p>\n",
       "</div>"
      ],
      "text/plain": [
       "                                    1      2      3       4       5       6   \\\n",
       "Total Fatalities changed by Week  56.0  362.0  906.0  1770.0  2469.0  2996.0   \n",
       "Number of Fatalities every Week   56.0  306.0  544.0   864.0   699.0   527.0   \n",
       "\n",
       "                                      7       8        9        10  ...  \\\n",
       "Total Fatalities changed by Week  3803.0  6440.0  14632.0  33991.0  ...   \n",
       "Number of Fatalities every Week    807.0  2637.0   8192.0  19359.0  ...   \n",
       "\n",
       "                                         53         54         55         56  \\\n",
       "Total Fatalities changed by Week  2137281.0  2235547.0  2323371.0  2402648.0   \n",
       "Number of Fatalities every Week     98914.0    98266.0    87824.0    79277.0   \n",
       "\n",
       "                                         57         58         59         60  \\\n",
       "Total Fatalities changed by Week  2468474.0  2532456.0  2594035.0  2654120.0   \n",
       "Number of Fatalities every Week     65826.0    63982.0    61579.0    60085.0   \n",
       "\n",
       "                                         61         62  \n",
       "Total Fatalities changed by Week  2715613.0  2777336.0  \n",
       "Number of Fatalities every Week     61493.0    61723.0  \n",
       "\n",
       "[2 rows x 62 columns]"
      ]
     },
     "execution_count": 5,
     "metadata": {},
     "output_type": "execute_result"
    },
    {
     "data": {
      "image/png": "[encoded data removed]",
      "text/plain": [
       "<Figure size 1440x432 with 1 Axes>"
      ]
     },
     "metadata": {
      "needs_background": "light"
     },
     "output_type": "display_data"
    },
    {
     "data": {
      "image/png": "[encoded data removed]",
      "text/plain": [
       "<Figure size 1440x432 with 1 Axes>"
      ]
     },
     "metadata": {
      "needs_background": "light"
     },
     "output_type": "display_data"
    }
   ],
   "source": [
    "# convert to DataFrame\n",
    "x_weeks = [week for week, value in deathsByWeek]\n",
    "y_cases_total_deaths = [value for week, value in deathsByWeek]\n",
    "y_cases_byweek_deaths = [deathsByWeek[0][1]]+[deathsByWeek[i+1][1]-deathsByWeek[i][1] for i in range(len(deathsByWeek)-1)]\n",
    "\n",
    "weeks = np.arange(1, max(x_weeks)+1, 1)\n",
    "confirmedweeks_deaths = pd.DataFrame(columns=x_weeks, index=['Total Fatalities changed by Week', 'Number of Fatalities every Week'])\n",
    "for week in weeks:\n",
    "    confirmedweeks_deaths[week] = [y_cases_total_deaths[week-1], y_cases_byweek_deaths[week-1]]\n",
    "\n",
    "# Plot total confirmed\n",
    "plt.figure(1)\n",
    "plt.xticks(np.arange(0, max(x_weeks)+1, 1))\n",
    "plt.bar(x_weeks, y_cases_total_deaths, color='Red')\n",
    "plt.xlabel('Weeks')\n",
    "plt.ylabel('Fatalities')\n",
    "plt.title(\"Total Fatalities by Week (Update day: \"+str(updated_date)+\")\")\n",
    "plt.savefig('output/week_totalfatalities.jpg')\n",
    "\n",
    "# Plot number of confirmed every week\n",
    "plt.figure(2)\n",
    "plt.xticks(np.arange(0, max(x_weeks)+1, 1))\n",
    "plt.bar(x_weeks, y_cases_byweek_deaths, color='Red')\n",
    "plt.xlabel('Weeks')\n",
    "plt.ylabel('Fatalities')\n",
    "plt.title(\"Total Fatalities daily changed by Week (Update day: \"+str(updated_date)+\")\")\n",
    "plt.savefig('output/week_totalfatalities_weekly.jpg')\n",
    "\n",
    "print(\"\\nWeek:\", np.argmin(y_cases_byweek_deaths)+1, \"with lowest Fatalities cases\", y_cases_byweek_deaths[np.argmin(y_cases_byweek_deaths)])\n",
    "print(\"\\nWeek:\", np.argmax(y_cases_byweek_deaths)+1, \"with highest Fatalities cases\", y_cases_byweek_deaths[np.argmax(y_cases_byweek_deaths)])\n",
    "print(\"\\nAverage Fatalities by Week until now: \", np.mean(y_cases_byweek_deaths))\n",
    "confirmedweeks_deaths\n",
    "\n",
    "# note: plot displays data on x-axis start at index 1, and data in Python collected at index 0, that's why +1"
   ]
  },
  {
   "cell_type": "markdown",
   "metadata": {},
   "source": [
    "### Total RECOVERED cases in the World changed by week"
   ]
  },
  {
   "cell_type": "code",
   "execution_count": 6,
   "metadata": {},
   "outputs": [
    {
     "name": "stdout",
     "output_type": "stream",
     "text": [
      "\n",
      "Week: 59 with lowest Recovered cases -9051971.0\n",
      "\n",
      "Week: 47 with highest Recovered cases 4149818.0\n",
      "\n",
      "Average Recovered by Week until now:  1157553.5322580645\n"
     ]
    },
    {
     "data": {
      "text/html": [
       "<div>\n",
       "<style scoped>\n",
       "    .dataframe tbody tr th:only-of-type {\n",
       "        vertical-align: middle;\n",
       "    }\n",
       "\n",
       "    .dataframe tbody tr th {\n",
       "        vertical-align: top;\n",
       "    }\n",
       "\n",
       "    .dataframe thead th {\n",
       "        text-align: right;\n",
       "    }\n",
       "</style>\n",
       "<table border=\"1\" class=\"dataframe\">\n",
       "  <thead>\n",
       "    <tr style=\"text-align: right;\">\n",
       "      <th></th>\n",
       "      <th>1</th>\n",
       "      <th>2</th>\n",
       "      <th>3</th>\n",
       "      <th>4</th>\n",
       "      <th>5</th>\n",
       "      <th>6</th>\n",
       "      <th>7</th>\n",
       "      <th>8</th>\n",
       "      <th>9</th>\n",
       "      <th>10</th>\n",
       "      <th>...</th>\n",
       "      <th>53</th>\n",
       "      <th>54</th>\n",
       "      <th>55</th>\n",
       "      <th>56</th>\n",
       "      <th>57</th>\n",
       "      <th>58</th>\n",
       "      <th>59</th>\n",
       "      <th>60</th>\n",
       "      <th>61</th>\n",
       "      <th>62</th>\n",
       "    </tr>\n",
       "  </thead>\n",
       "  <tbody>\n",
       "    <tr>\n",
       "      <th>Total Recovered changed by Week</th>\n",
       "      <td>56.0</td>\n",
       "      <td>476.0</td>\n",
       "      <td>3245.0</td>\n",
       "      <td>10866.0</td>\n",
       "      <td>23394.0</td>\n",
       "      <td>42717.0</td>\n",
       "      <td>60695.0</td>\n",
       "      <td>76033.0</td>\n",
       "      <td>97225.0</td>\n",
       "      <td>149062.0</td>\n",
       "      <td>...</td>\n",
       "      <td>64752673.0</td>\n",
       "      <td>67665310.0</td>\n",
       "      <td>70322973.0</td>\n",
       "      <td>72700356.0</td>\n",
       "      <td>74859907.0</td>\n",
       "      <td>75136334.0</td>\n",
       "      <td>66084363.0</td>\n",
       "      <td>67895903.0</td>\n",
       "      <td>69803250.0</td>\n",
       "      <td>71768319.0</td>\n",
       "    </tr>\n",
       "    <tr>\n",
       "      <th>Number of Recovered every Week</th>\n",
       "      <td>56.0</td>\n",
       "      <td>420.0</td>\n",
       "      <td>2769.0</td>\n",
       "      <td>7621.0</td>\n",
       "      <td>12528.0</td>\n",
       "      <td>19323.0</td>\n",
       "      <td>17978.0</td>\n",
       "      <td>15338.0</td>\n",
       "      <td>21192.0</td>\n",
       "      <td>51837.0</td>\n",
       "      <td>...</td>\n",
       "      <td>2997484.0</td>\n",
       "      <td>2912637.0</td>\n",
       "      <td>2657663.0</td>\n",
       "      <td>2377383.0</td>\n",
       "      <td>2159551.0</td>\n",
       "      <td>276427.0</td>\n",
       "      <td>-9051971.0</td>\n",
       "      <td>1811540.0</td>\n",
       "      <td>1907347.0</td>\n",
       "      <td>1965069.0</td>\n",
       "    </tr>\n",
       "  </tbody>\n",
       "</table>\n",
       "<p>2 rows × 62 columns</p>\n",
       "</div>"
      ],
      "text/plain": [
       "                                   1      2       3        4        5   \\\n",
       "Total Recovered changed by Week  56.0  476.0  3245.0  10866.0  23394.0   \n",
       "Number of Recovered every Week   56.0  420.0  2769.0   7621.0  12528.0   \n",
       "\n",
       "                                      6        7        8        9         10  \\\n",
       "Total Recovered changed by Week  42717.0  60695.0  76033.0  97225.0  149062.0   \n",
       "Number of Recovered every Week   19323.0  17978.0  15338.0  21192.0   51837.0   \n",
       "\n",
       "                                 ...          53          54          55  \\\n",
       "Total Recovered changed by Week  ...  64752673.0  67665310.0  70322973.0   \n",
       "Number of Recovered every Week   ...   2997484.0   2912637.0   2657663.0   \n",
       "\n",
       "                                         56          57          58  \\\n",
       "Total Recovered changed by Week  72700356.0  74859907.0  75136334.0   \n",
       "Number of Recovered every Week    2377383.0   2159551.0    276427.0   \n",
       "\n",
       "                                         59          60          61  \\\n",
       "Total Recovered changed by Week  66084363.0  67895903.0  69803250.0   \n",
       "Number of Recovered every Week   -9051971.0   1811540.0   1907347.0   \n",
       "\n",
       "                                         62  \n",
       "Total Recovered changed by Week  71768319.0  \n",
       "Number of Recovered every Week    1965069.0  \n",
       "\n",
       "[2 rows x 62 columns]"
      ]
     },
     "execution_count": 6,
     "metadata": {},
     "output_type": "execute_result"
    },
    {
     "data": {
      "image/png": "[encoded data removed]",
      "text/plain": [
       "<Figure size 1440x432 with 1 Axes>"
      ]
     },
     "metadata": {
      "needs_background": "light"
     },
     "output_type": "display_data"
    },
    {
     "data": {
      "image/png": "[encoded data removed]",
      "text/plain": [
       "<Figure size 1440x432 with 1 Axes>"
      ]
     },
     "metadata": {
      "needs_background": "light"
     },
     "output_type": "display_data"
    }
   ],
   "source": [
    "# convert to DataFrame\n",
    "x_weeks = [week for week, value in recoveredByWeek]\n",
    "y_cases_total_recovered = [value for week, value in recoveredByWeek]\n",
    "y_cases_byweek_recovered = [recoveredByWeek[0][1]]+[recoveredByWeek[i+1][1]-recoveredByWeek[i][1] for i in range(len(recoveredByWeek)-1)]\n",
    "\n",
    "weeks = np.arange(1, max(x_weeks)+1, 1)\n",
    "confirmedweeks_recovered = pd.DataFrame(columns=x_weeks, index=['Total Recovered changed by Week', 'Number of Recovered every Week'])\n",
    "for week in weeks:\n",
    "    confirmedweeks_recovered[week] = [y_cases_total_recovered[week-1], y_cases_byweek_recovered[week-1]]\n",
    "\n",
    "# Plot total recovered\n",
    "plt.figure(1)\n",
    "plt.xticks(np.arange(0, max(x_weeks)+1, 1))\n",
    "plt.bar(x_weeks, y_cases_total_recovered, color='Green')\n",
    "plt.xlabel('Weeks')\n",
    "plt.ylabel('Recovered')\n",
    "plt.title(\"Total Recovered by Week (Update day: \"+str(updated_date)+\")\")\n",
    "plt.savefig('output/week_totalrecovered.jpg')\n",
    "\n",
    "# Plot number of recovered every week\n",
    "plt.figure(2)\n",
    "plt.xticks(np.arange(0, max(x_weeks)+1, 1))\n",
    "plt.bar(x_weeks, y_cases_byweek_recovered, color='Green')\n",
    "plt.xlabel('Weeks')\n",
    "plt.ylabel('Recovered')\n",
    "plt.title(\"Total Recovered daily changed by Week (Update day: \"+str(updated_date)+\")\")\n",
    "plt.savefig('output/week_totalrecovered_weekly.jpg')\n",
    "\n",
    "print(\"\\nWeek:\", np.argmin(y_cases_byweek_recovered)+1, \"with lowest Recovered cases\", y_cases_byweek_recovered[np.argmin(y_cases_byweek_recovered)])\n",
    "print(\"\\nWeek:\", np.argmax(y_cases_byweek_recovered)+1, \"with highest Recovered cases\", y_cases_byweek_recovered[np.argmax(y_cases_byweek_recovered)])\n",
    "print(\"\\nAverage Recovered by Week until now: \", np.mean(y_cases_byweek_recovered))\n",
    "confirmedweeks_recovered\n",
    "\n",
    "# note: plot displays data on x-axis start at index 1, and data in Python collected at index 0, that's why +1"
   ]
  }
 ],
 "metadata": {
  "hide_input": false,
  "kernelspec": {
   "display_name": "aic",
   "language": "python",
   "name": "aic"
  },
  "language_info": {
   "codemirror_mode": {
    "name": "ipython",
    "version": 3
   },
   "file_extension": ".py",
   "mimetype": "text/x-python",
   "name": "python",
   "nbconvert_exporter": "python",
   "pygments_lexer": "ipython3",
   "version": "3.7.8"
  }
 },
 "nbformat": 4,
 "nbformat_minor": 4
}
