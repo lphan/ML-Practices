{
 "cells": [
  {
   "cell_type": "markdown",
   "metadata": {},
   "source": [
    "###  FIND ALL DATA BIAS"
   ]
  },
  {
   "cell_type": "code",
   "execution_count": 1,
   "metadata": {},
   "outputs": [
    {
     "name": "stdout",
     "output_type": "stream",
     "text": [
      "Start importing files in folder\n",
      "None\n",
      "None\n",
      "Start importing single data  ./COVID-19/csse_covid_19_data/UID_ISO_FIPS_LookUp_Table.csv\n",
      "Start importing USA-data  ./COVID-19/csse_covid_19_data/csse_covid_19_daily_reports_us/\n",
      "None\n",
      "Start importing single data  ./COVID-19/csse_covid_19_data/csse_covid_19_time_series/time_series_covid19_confirmed_global.csv\n",
      "Start importing single data  ./COVID-19/csse_covid_19_data/csse_covid_19_time_series/time_series_covid19_deaths_global.csv\n",
      "Start importing single data  ./COVID-19/csse_covid_19_data/csse_covid_19_time_series/time_series_covid19_recovered_global.csv\n"
     ]
    }
   ],
   "source": [
    "from covid_import import *"
   ]
  },
  {
   "cell_type": "code",
   "execution_count": 2,
   "metadata": {},
   "outputs": [],
   "source": [
    "# from covid import *"
   ]
  },
  {
   "cell_type": "code",
   "execution_count": 3,
   "metadata": {},
   "outputs": [
    {
     "data": {
      "text/plain": [
       "(338, 257)"
      ]
     },
     "execution_count": 3,
     "metadata": {},
     "output_type": "execute_result"
    }
   ],
   "source": [
    "len(data), len(data_us)"
   ]
  },
  {
   "cell_type": "code",
   "execution_count": 17,
   "metadata": {},
   "outputs": [
    {
     "data": {
      "text/plain": [
       "array([ 81,  82,  83,  84,  85,  86,  87,  88,  89,  90,  91,  92,  93,\n",
       "        94,  95,  96,  97,  98,  99, 100, 101, 102, 103, 104, 105, 106,\n",
       "       107, 108, 109, 110, 111, 112, 113, 114, 115, 116, 117, 118, 119,\n",
       "       120, 121, 122, 123, 124, 125, 126, 127, 128, 129, 130, 131, 132,\n",
       "       133, 134, 135, 136, 137, 138, 139, 140, 141, 142, 143, 144, 145,\n",
       "       146, 147, 148, 149, 150, 151, 152, 153, 154, 155, 156, 157, 158,\n",
       "       159, 160, 161, 162, 163, 164, 165, 166, 167, 168, 169, 170, 171,\n",
       "       172, 173, 174, 175, 176, 177, 178, 179, 180, 181, 182, 183, 184,\n",
       "       185, 186, 187, 188, 189, 190, 191, 192, 193, 194, 195, 196, 197,\n",
       "       198, 199, 200, 201, 202, 203, 204, 205, 206, 207, 208, 209, 210,\n",
       "       211, 212, 213, 214, 215, 216, 217, 218, 219, 220, 221, 222, 223,\n",
       "       224, 225, 226, 227, 228, 229, 230, 231, 232, 233, 234, 235, 236,\n",
       "       237, 238, 239, 240, 241, 242, 243, 244, 245, 246, 247, 248, 249,\n",
       "       250, 251, 252, 253, 254, 255, 256, 257, 258, 259, 260, 261, 262,\n",
       "       263, 264, 265, 266, 267, 268, 269, 270, 271, 272, 273, 274, 275,\n",
       "       276, 277, 278, 279, 280, 281, 282, 283, 284, 285, 286, 287, 288,\n",
       "       289, 290, 291, 292, 293, 294, 295, 296, 297, 298, 299, 300, 301,\n",
       "       302, 303, 304, 305, 306, 307, 308, 309, 310, 311, 312, 313, 314,\n",
       "       315, 316, 317, 318, 319, 320, 321, 322, 323, 324, 325, 326, 327,\n",
       "       328, 329, 330, 331, 332, 333, 334, 335, 336, 337])"
      ]
     },
     "execution_count": 17,
     "metadata": {},
     "output_type": "execute_result"
    }
   ],
   "source": [
    "np.arange(len(data)-len(data_us), len(data), 1)"
   ]
  },
  {
   "cell_type": "code",
   "execution_count": 18,
   "metadata": {},
   "outputs": [],
   "source": [
    "totalrecovered_by_day = [sum(data[day]['Recovered']) for day in x_dat]\n",
    "totalrecovered_by_day_us = [sum(data_us[day]['Recovered'].fillna(0)) for day in x_dat_us]\n",
    "\n",
    "# reinitial the number to zero to clean out all previous values\n",
    "keep_values_day = len(data) - len(data_us)\n",
    "\n",
    "for i in np.arange(keep_values_day, len(data), 1):\n",
    "    data[i].loc[data[i]['Country_Region']=='US', 'Recovered']=0\n",
    "    # data[i] = data[i].drop_duplicates()\n",
    "\n",
    "len(totalrecovered_by_day_us), len(totalrecovered_by_day)"
   ]
  },
  {
   "cell_type": "code",
   "execution_count": 12,
   "metadata": {},
   "outputs": [
    {
     "data": {
      "text/html": [
       "<div>\n",
       "<style scoped>\n",
       "    .dataframe tbody tr th:only-of-type {\n",
       "        vertical-align: middle;\n",
       "    }\n",
       "\n",
       "    .dataframe tbody tr th {\n",
       "        vertical-align: top;\n",
       "    }\n",
       "\n",
       "    .dataframe thead th {\n",
       "        text-align: right;\n",
       "    }\n",
       "</style>\n",
       "<table border=\"1\" class=\"dataframe\">\n",
       "  <thead>\n",
       "    <tr style=\"text-align: right;\">\n",
       "      <th></th>\n",
       "      <th>FIPS</th>\n",
       "      <th>Admin2</th>\n",
       "      <th>Province_State</th>\n",
       "      <th>Country_Region</th>\n",
       "      <th>Last_Update</th>\n",
       "      <th>Lat</th>\n",
       "      <th>Long_</th>\n",
       "      <th>Confirmed</th>\n",
       "      <th>Deaths</th>\n",
       "      <th>Recovered</th>\n",
       "      <th>Active</th>\n",
       "      <th>Combined_Key</th>\n",
       "    </tr>\n",
       "  </thead>\n",
       "  <tbody>\n",
       "    <tr>\n",
       "      <th>0</th>\n",
       "      <td>45001.0</td>\n",
       "      <td>Abbeville</td>\n",
       "      <td>South Carolina</td>\n",
       "      <td>US</td>\n",
       "      <td>2020-04-13 23:07:54</td>\n",
       "      <td>34.223334</td>\n",
       "      <td>-82.461707</td>\n",
       "      <td>9</td>\n",
       "      <td>0</td>\n",
       "      <td>0</td>\n",
       "      <td>9</td>\n",
       "      <td>Abbeville, South Carolina, US</td>\n",
       "    </tr>\n",
       "    <tr>\n",
       "      <th>1</th>\n",
       "      <td>22001.0</td>\n",
       "      <td>Acadia</td>\n",
       "      <td>Louisiana</td>\n",
       "      <td>US</td>\n",
       "      <td>2020-04-13 23:07:54</td>\n",
       "      <td>30.295065</td>\n",
       "      <td>-92.414197</td>\n",
       "      <td>101</td>\n",
       "      <td>5</td>\n",
       "      <td>0</td>\n",
       "      <td>96</td>\n",
       "      <td>Acadia, Louisiana, US</td>\n",
       "    </tr>\n",
       "    <tr>\n",
       "      <th>2</th>\n",
       "      <td>51001.0</td>\n",
       "      <td>Accomack</td>\n",
       "      <td>Virginia</td>\n",
       "      <td>US</td>\n",
       "      <td>2020-04-13 23:07:54</td>\n",
       "      <td>37.767072</td>\n",
       "      <td>-75.632346</td>\n",
       "      <td>15</td>\n",
       "      <td>0</td>\n",
       "      <td>0</td>\n",
       "      <td>15</td>\n",
       "      <td>Accomack, Virginia, US</td>\n",
       "    </tr>\n",
       "    <tr>\n",
       "      <th>3</th>\n",
       "      <td>16001.0</td>\n",
       "      <td>Ada</td>\n",
       "      <td>Idaho</td>\n",
       "      <td>US</td>\n",
       "      <td>2020-04-13 23:07:54</td>\n",
       "      <td>43.452658</td>\n",
       "      <td>-116.241552</td>\n",
       "      <td>517</td>\n",
       "      <td>6</td>\n",
       "      <td>0</td>\n",
       "      <td>511</td>\n",
       "      <td>Ada, Idaho, US</td>\n",
       "    </tr>\n",
       "    <tr>\n",
       "      <th>4</th>\n",
       "      <td>19001.0</td>\n",
       "      <td>Adair</td>\n",
       "      <td>Iowa</td>\n",
       "      <td>US</td>\n",
       "      <td>2020-04-13 23:07:54</td>\n",
       "      <td>41.330756</td>\n",
       "      <td>-94.471059</td>\n",
       "      <td>1</td>\n",
       "      <td>0</td>\n",
       "      <td>0</td>\n",
       "      <td>1</td>\n",
       "      <td>Adair, Iowa, US</td>\n",
       "    </tr>\n",
       "    <tr>\n",
       "      <th>...</th>\n",
       "      <td>...</td>\n",
       "      <td>...</td>\n",
       "      <td>...</td>\n",
       "      <td>...</td>\n",
       "      <td>...</td>\n",
       "      <td>...</td>\n",
       "      <td>...</td>\n",
       "      <td>...</td>\n",
       "      <td>...</td>\n",
       "      <td>...</td>\n",
       "      <td>...</td>\n",
       "      <td>...</td>\n",
       "    </tr>\n",
       "    <tr>\n",
       "      <th>2758</th>\n",
       "      <td>66.0</td>\n",
       "      <td>0</td>\n",
       "      <td>Guam</td>\n",
       "      <td>US</td>\n",
       "      <td>2020-04-13 23:07:54</td>\n",
       "      <td>13.444300</td>\n",
       "      <td>144.793700</td>\n",
       "      <td>133</td>\n",
       "      <td>5</td>\n",
       "      <td>0</td>\n",
       "      <td>128</td>\n",
       "      <td>Guam, US</td>\n",
       "    </tr>\n",
       "    <tr>\n",
       "      <th>2785</th>\n",
       "      <td>0.0</td>\n",
       "      <td>0</td>\n",
       "      <td>Northern Mariana Islands</td>\n",
       "      <td>US</td>\n",
       "      <td>2020-04-13 23:07:54</td>\n",
       "      <td>15.097900</td>\n",
       "      <td>145.673900</td>\n",
       "      <td>11</td>\n",
       "      <td>2</td>\n",
       "      <td>0</td>\n",
       "      <td>9</td>\n",
       "      <td>Northern Mariana Islands, US</td>\n",
       "    </tr>\n",
       "    <tr>\n",
       "      <th>2792</th>\n",
       "      <td>72.0</td>\n",
       "      <td>0</td>\n",
       "      <td>Puerto Rico</td>\n",
       "      <td>US</td>\n",
       "      <td>2020-04-13 23:07:54</td>\n",
       "      <td>18.220800</td>\n",
       "      <td>-66.590100</td>\n",
       "      <td>903</td>\n",
       "      <td>45</td>\n",
       "      <td>0</td>\n",
       "      <td>858</td>\n",
       "      <td>Puerto Rico, US</td>\n",
       "    </tr>\n",
       "    <tr>\n",
       "      <th>2797</th>\n",
       "      <td>0.0</td>\n",
       "      <td>0</td>\n",
       "      <td>Recovered</td>\n",
       "      <td>US</td>\n",
       "      <td>2020-04-13 23:07:54</td>\n",
       "      <td>0.000000</td>\n",
       "      <td>0.000000</td>\n",
       "      <td>0</td>\n",
       "      <td>0</td>\n",
       "      <td>0</td>\n",
       "      <td>-43482</td>\n",
       "      <td>Recovered, US</td>\n",
       "    </tr>\n",
       "    <tr>\n",
       "      <th>2815</th>\n",
       "      <td>78.0</td>\n",
       "      <td>0</td>\n",
       "      <td>Virgin Islands</td>\n",
       "      <td>US</td>\n",
       "      <td>2020-04-13 23:07:54</td>\n",
       "      <td>18.335800</td>\n",
       "      <td>-64.896300</td>\n",
       "      <td>51</td>\n",
       "      <td>1</td>\n",
       "      <td>0</td>\n",
       "      <td>50</td>\n",
       "      <td>Virgin Islands, US</td>\n",
       "    </tr>\n",
       "  </tbody>\n",
       "</table>\n",
       "<p>2739 rows × 12 columns</p>\n",
       "</div>"
      ],
      "text/plain": [
       "         FIPS     Admin2            Province_State Country_Region  \\\n",
       "0     45001.0  Abbeville            South Carolina             US   \n",
       "1     22001.0     Acadia                 Louisiana             US   \n",
       "2     51001.0   Accomack                  Virginia             US   \n",
       "3     16001.0        Ada                     Idaho             US   \n",
       "4     19001.0      Adair                      Iowa             US   \n",
       "...       ...        ...                       ...            ...   \n",
       "2758     66.0          0                      Guam             US   \n",
       "2785      0.0          0  Northern Mariana Islands             US   \n",
       "2792     72.0          0               Puerto Rico             US   \n",
       "2797      0.0          0                 Recovered             US   \n",
       "2815     78.0          0            Virgin Islands             US   \n",
       "\n",
       "              Last_Update        Lat       Long_  Confirmed  Deaths  \\\n",
       "0     2020-04-13 23:07:54  34.223334  -82.461707          9       0   \n",
       "1     2020-04-13 23:07:54  30.295065  -92.414197        101       5   \n",
       "2     2020-04-13 23:07:54  37.767072  -75.632346         15       0   \n",
       "3     2020-04-13 23:07:54  43.452658 -116.241552        517       6   \n",
       "4     2020-04-13 23:07:54  41.330756  -94.471059          1       0   \n",
       "...                   ...        ...         ...        ...     ...   \n",
       "2758  2020-04-13 23:07:54  13.444300  144.793700        133       5   \n",
       "2785  2020-04-13 23:07:54  15.097900  145.673900         11       2   \n",
       "2792  2020-04-13 23:07:54  18.220800  -66.590100        903      45   \n",
       "2797  2020-04-13 23:07:54   0.000000    0.000000          0       0   \n",
       "2815  2020-04-13 23:07:54  18.335800  -64.896300         51       1   \n",
       "\n",
       "      Recovered  Active                   Combined_Key  \n",
       "0             0       9  Abbeville, South Carolina, US  \n",
       "1             0      96          Acadia, Louisiana, US  \n",
       "2             0      15         Accomack, Virginia, US  \n",
       "3             0     511                 Ada, Idaho, US  \n",
       "4             0       1                Adair, Iowa, US  \n",
       "...         ...     ...                            ...  \n",
       "2758          0     128                       Guam, US  \n",
       "2785          0       9   Northern Mariana Islands, US  \n",
       "2792          0     858                Puerto Rico, US  \n",
       "2797          0  -43482                  Recovered, US  \n",
       "2815          0      50             Virgin Islands, US  \n",
       "\n",
       "[2739 rows x 12 columns]"
      ]
     },
     "execution_count": 12,
     "metadata": {},
     "output_type": "execute_result"
    }
   ],
   "source": [
    "data[82].loc[data[82]['Country_Region']=='US']"
   ]
  },
  {
   "cell_type": "code",
   "execution_count": 13,
   "metadata": {},
   "outputs": [
    {
     "data": {
      "text/html": [
       "<div>\n",
       "<style scoped>\n",
       "    .dataframe tbody tr th:only-of-type {\n",
       "        vertical-align: middle;\n",
       "    }\n",
       "\n",
       "    .dataframe tbody tr th {\n",
       "        vertical-align: top;\n",
       "    }\n",
       "\n",
       "    .dataframe thead th {\n",
       "        text-align: right;\n",
       "    }\n",
       "</style>\n",
       "<table border=\"1\" class=\"dataframe\">\n",
       "  <thead>\n",
       "    <tr style=\"text-align: right;\">\n",
       "      <th></th>\n",
       "      <th>FIPS</th>\n",
       "      <th>Admin2</th>\n",
       "      <th>Province_State</th>\n",
       "      <th>Country_Region</th>\n",
       "      <th>Last_Update</th>\n",
       "      <th>Lat</th>\n",
       "      <th>Long_</th>\n",
       "      <th>Confirmed</th>\n",
       "      <th>Deaths</th>\n",
       "      <th>Recovered</th>\n",
       "      <th>Active</th>\n",
       "      <th>Combined_Key</th>\n",
       "    </tr>\n",
       "  </thead>\n",
       "  <tbody>\n",
       "    <tr>\n",
       "      <th>0</th>\n",
       "      <td>45001.0</td>\n",
       "      <td>Abbeville</td>\n",
       "      <td>South Carolina</td>\n",
       "      <td>US</td>\n",
       "      <td>2020-04-11 22:45:33</td>\n",
       "      <td>34.223334</td>\n",
       "      <td>-82.461707</td>\n",
       "      <td>9</td>\n",
       "      <td>0</td>\n",
       "      <td>0</td>\n",
       "      <td>0</td>\n",
       "      <td>Abbeville, South Carolina, US</td>\n",
       "    </tr>\n",
       "    <tr>\n",
       "      <th>1</th>\n",
       "      <td>22001.0</td>\n",
       "      <td>Acadia</td>\n",
       "      <td>Louisiana</td>\n",
       "      <td>US</td>\n",
       "      <td>2020-04-11 22:45:33</td>\n",
       "      <td>30.295065</td>\n",
       "      <td>-92.414197</td>\n",
       "      <td>98</td>\n",
       "      <td>4</td>\n",
       "      <td>0</td>\n",
       "      <td>0</td>\n",
       "      <td>Acadia, Louisiana, US</td>\n",
       "    </tr>\n",
       "    <tr>\n",
       "      <th>2</th>\n",
       "      <td>51001.0</td>\n",
       "      <td>Accomack</td>\n",
       "      <td>Virginia</td>\n",
       "      <td>US</td>\n",
       "      <td>2020-04-11 22:45:33</td>\n",
       "      <td>37.767072</td>\n",
       "      <td>-75.632346</td>\n",
       "      <td>15</td>\n",
       "      <td>0</td>\n",
       "      <td>0</td>\n",
       "      <td>0</td>\n",
       "      <td>Accomack, Virginia, US</td>\n",
       "    </tr>\n",
       "    <tr>\n",
       "      <th>3</th>\n",
       "      <td>16001.0</td>\n",
       "      <td>Ada</td>\n",
       "      <td>Idaho</td>\n",
       "      <td>US</td>\n",
       "      <td>2020-04-11 22:45:33</td>\n",
       "      <td>43.452658</td>\n",
       "      <td>-116.241552</td>\n",
       "      <td>513</td>\n",
       "      <td>6</td>\n",
       "      <td>0</td>\n",
       "      <td>0</td>\n",
       "      <td>Ada, Idaho, US</td>\n",
       "    </tr>\n",
       "    <tr>\n",
       "      <th>4</th>\n",
       "      <td>19001.0</td>\n",
       "      <td>Adair</td>\n",
       "      <td>Iowa</td>\n",
       "      <td>US</td>\n",
       "      <td>2020-04-11 22:45:33</td>\n",
       "      <td>41.330756</td>\n",
       "      <td>-94.471059</td>\n",
       "      <td>1</td>\n",
       "      <td>0</td>\n",
       "      <td>0</td>\n",
       "      <td>0</td>\n",
       "      <td>Adair, Iowa, US</td>\n",
       "    </tr>\n",
       "    <tr>\n",
       "      <th>...</th>\n",
       "      <td>...</td>\n",
       "      <td>...</td>\n",
       "      <td>...</td>\n",
       "      <td>...</td>\n",
       "      <td>...</td>\n",
       "      <td>...</td>\n",
       "      <td>...</td>\n",
       "      <td>...</td>\n",
       "      <td>...</td>\n",
       "      <td>...</td>\n",
       "      <td>...</td>\n",
       "      <td>...</td>\n",
       "    </tr>\n",
       "    <tr>\n",
       "      <th>2748</th>\n",
       "      <td>0.0</td>\n",
       "      <td>0</td>\n",
       "      <td>Northern Mariana Islands</td>\n",
       "      <td>US</td>\n",
       "      <td>2020-04-11 22:45:33</td>\n",
       "      <td>15.097900</td>\n",
       "      <td>145.673900</td>\n",
       "      <td>11</td>\n",
       "      <td>2</td>\n",
       "      <td>0</td>\n",
       "      <td>0</td>\n",
       "      <td>,Northern Mariana Islands,US</td>\n",
       "    </tr>\n",
       "    <tr>\n",
       "      <th>2755</th>\n",
       "      <td>72.0</td>\n",
       "      <td>0</td>\n",
       "      <td>Puerto Rico</td>\n",
       "      <td>US</td>\n",
       "      <td>2020-04-11 22:45:33</td>\n",
       "      <td>18.220800</td>\n",
       "      <td>-66.590100</td>\n",
       "      <td>788</td>\n",
       "      <td>42</td>\n",
       "      <td>0</td>\n",
       "      <td>0</td>\n",
       "      <td>Puerto Rico, US</td>\n",
       "    </tr>\n",
       "    <tr>\n",
       "      <th>2760</th>\n",
       "      <td>0.0</td>\n",
       "      <td>0</td>\n",
       "      <td>Recovered</td>\n",
       "      <td>US</td>\n",
       "      <td>2020-04-11 22:45:33</td>\n",
       "      <td>0.000000</td>\n",
       "      <td>0.000000</td>\n",
       "      <td>0</td>\n",
       "      <td>0</td>\n",
       "      <td>31270</td>\n",
       "      <td>0</td>\n",
       "      <td>Recovered, US</td>\n",
       "    </tr>\n",
       "    <tr>\n",
       "      <th>2778</th>\n",
       "      <td>78.0</td>\n",
       "      <td>0</td>\n",
       "      <td>Virgin Islands</td>\n",
       "      <td>US</td>\n",
       "      <td>2020-04-11 22:45:33</td>\n",
       "      <td>18.335800</td>\n",
       "      <td>-64.896300</td>\n",
       "      <td>51</td>\n",
       "      <td>1</td>\n",
       "      <td>0</td>\n",
       "      <td>0</td>\n",
       "      <td>,Virgin Islands,US</td>\n",
       "    </tr>\n",
       "    <tr>\n",
       "      <th>2965</th>\n",
       "      <td>0.0</td>\n",
       "      <td>unassigned</td>\n",
       "      <td>Utah</td>\n",
       "      <td>US</td>\n",
       "      <td>2020-04-11 22:45:33</td>\n",
       "      <td>0.000000</td>\n",
       "      <td>0.000000</td>\n",
       "      <td>0</td>\n",
       "      <td>5</td>\n",
       "      <td>0</td>\n",
       "      <td>0</td>\n",
       "      <td>unassigned, Utah, US</td>\n",
       "    </tr>\n",
       "  </tbody>\n",
       "</table>\n",
       "<p>2702 rows × 12 columns</p>\n",
       "</div>"
      ],
      "text/plain": [
       "         FIPS      Admin2            Province_State Country_Region  \\\n",
       "0     45001.0   Abbeville            South Carolina             US   \n",
       "1     22001.0      Acadia                 Louisiana             US   \n",
       "2     51001.0    Accomack                  Virginia             US   \n",
       "3     16001.0         Ada                     Idaho             US   \n",
       "4     19001.0       Adair                      Iowa             US   \n",
       "...       ...         ...                       ...            ...   \n",
       "2748      0.0           0  Northern Mariana Islands             US   \n",
       "2755     72.0           0               Puerto Rico             US   \n",
       "2760      0.0           0                 Recovered             US   \n",
       "2778     78.0           0            Virgin Islands             US   \n",
       "2965      0.0  unassigned                      Utah             US   \n",
       "\n",
       "              Last_Update        Lat       Long_  Confirmed  Deaths  \\\n",
       "0     2020-04-11 22:45:33  34.223334  -82.461707          9       0   \n",
       "1     2020-04-11 22:45:33  30.295065  -92.414197         98       4   \n",
       "2     2020-04-11 22:45:33  37.767072  -75.632346         15       0   \n",
       "3     2020-04-11 22:45:33  43.452658 -116.241552        513       6   \n",
       "4     2020-04-11 22:45:33  41.330756  -94.471059          1       0   \n",
       "...                   ...        ...         ...        ...     ...   \n",
       "2748  2020-04-11 22:45:33  15.097900  145.673900         11       2   \n",
       "2755  2020-04-11 22:45:33  18.220800  -66.590100        788      42   \n",
       "2760  2020-04-11 22:45:33   0.000000    0.000000          0       0   \n",
       "2778  2020-04-11 22:45:33  18.335800  -64.896300         51       1   \n",
       "2965  2020-04-11 22:45:33   0.000000    0.000000          0       5   \n",
       "\n",
       "      Recovered  Active                   Combined_Key  \n",
       "0             0       0  Abbeville, South Carolina, US  \n",
       "1             0       0          Acadia, Louisiana, US  \n",
       "2             0       0         Accomack, Virginia, US  \n",
       "3             0       0                 Ada, Idaho, US  \n",
       "4             0       0                Adair, Iowa, US  \n",
       "...         ...     ...                            ...  \n",
       "2748          0       0   ,Northern Mariana Islands,US  \n",
       "2755          0       0                Puerto Rico, US  \n",
       "2760      31270       0                  Recovered, US  \n",
       "2778          0       0             ,Virgin Islands,US  \n",
       "2965          0       0           unassigned, Utah, US  \n",
       "\n",
       "[2702 rows x 12 columns]"
      ]
     },
     "execution_count": 13,
     "metadata": {},
     "output_type": "execute_result"
    }
   ],
   "source": [
    "data[80].loc[data[80]['Country_Region']=='US']"
   ]
  },
  {
   "cell_type": "code",
   "execution_count": 14,
   "metadata": {},
   "outputs": [
    {
     "data": {
      "text/plain": [
       "(44711767, 7337694.0)"
      ]
     },
     "execution_count": 14,
     "metadata": {},
     "output_type": "execute_result"
    },
    {
     "data": {
      "image/png": "[encoded data removed]",
      "text/plain": [
       "<Figure size 1440x432 with 1 Axes>"
      ]
     },
     "metadata": {
      "needs_background": "light"
     },
     "output_type": "display_data"
    },
    {
     "data": {
      "image/png": "[encoded data removed]",
      "text/plain": [
       "<Figure size 1440x432 with 1 Axes>"
      ]
     },
     "metadata": {
      "needs_background": "light"
     },
     "output_type": "display_data"
    }
   ],
   "source": [
    "plt.figure(1)\n",
    "plt.bar(np.arange(len(data)), totalrecovered_by_day)\n",
    "\n",
    "plt.figure(2)\n",
    "plt.bar(np.arange(len(data_us)), totalrecovered_by_day_us)\n",
    "\n",
    "totalrecovered_by_day[-1],  totalrecovered_by_day_us[-1]"
   ]
  },
  {
   "cell_type": "code",
   "execution_count": 15,
   "metadata": {},
   "outputs": [
    {
     "data": {
      "text/html": [
       "<div>\n",
       "<style scoped>\n",
       "    .dataframe tbody tr th:only-of-type {\n",
       "        vertical-align: middle;\n",
       "    }\n",
       "\n",
       "    .dataframe tbody tr th {\n",
       "        vertical-align: top;\n",
       "    }\n",
       "\n",
       "    .dataframe thead th {\n",
       "        text-align: right;\n",
       "    }\n",
       "</style>\n",
       "<table border=\"1\" class=\"dataframe\">\n",
       "  <thead>\n",
       "    <tr style=\"text-align: right;\">\n",
       "      <th></th>\n",
       "      <th>FIPS</th>\n",
       "      <th>Admin2</th>\n",
       "      <th>Province_State</th>\n",
       "      <th>Country_Region</th>\n",
       "      <th>Last_Update</th>\n",
       "      <th>Lat</th>\n",
       "      <th>Long_</th>\n",
       "      <th>Confirmed</th>\n",
       "      <th>Deaths</th>\n",
       "      <th>Recovered</th>\n",
       "      <th>Active</th>\n",
       "      <th>Combined_Key</th>\n",
       "    </tr>\n",
       "  </thead>\n",
       "  <tbody>\n",
       "    <tr>\n",
       "      <th>0</th>\n",
       "      <td>45001.0</td>\n",
       "      <td>Abbeville</td>\n",
       "      <td>South Carolina</td>\n",
       "      <td>US</td>\n",
       "      <td>2020-04-12 23:18:00</td>\n",
       "      <td>34.223334</td>\n",
       "      <td>-82.461707</td>\n",
       "      <td>9</td>\n",
       "      <td>0</td>\n",
       "      <td>0</td>\n",
       "      <td>9</td>\n",
       "      <td>Abbeville, South Carolina, US</td>\n",
       "    </tr>\n",
       "    <tr>\n",
       "      <th>1</th>\n",
       "      <td>22001.0</td>\n",
       "      <td>Acadia</td>\n",
       "      <td>Louisiana</td>\n",
       "      <td>US</td>\n",
       "      <td>2020-04-12 23:18:00</td>\n",
       "      <td>30.295065</td>\n",
       "      <td>-92.414197</td>\n",
       "      <td>99</td>\n",
       "      <td>5</td>\n",
       "      <td>0</td>\n",
       "      <td>94</td>\n",
       "      <td>Acadia, Louisiana, US</td>\n",
       "    </tr>\n",
       "    <tr>\n",
       "      <th>2</th>\n",
       "      <td>51001.0</td>\n",
       "      <td>Accomack</td>\n",
       "      <td>Virginia</td>\n",
       "      <td>US</td>\n",
       "      <td>2020-04-12 23:18:00</td>\n",
       "      <td>37.767072</td>\n",
       "      <td>-75.632346</td>\n",
       "      <td>15</td>\n",
       "      <td>0</td>\n",
       "      <td>0</td>\n",
       "      <td>15</td>\n",
       "      <td>Accomack, Virginia, US</td>\n",
       "    </tr>\n",
       "    <tr>\n",
       "      <th>3</th>\n",
       "      <td>16001.0</td>\n",
       "      <td>Ada</td>\n",
       "      <td>Idaho</td>\n",
       "      <td>US</td>\n",
       "      <td>2020-04-12 23:18:00</td>\n",
       "      <td>43.452658</td>\n",
       "      <td>-116.241552</td>\n",
       "      <td>517</td>\n",
       "      <td>6</td>\n",
       "      <td>0</td>\n",
       "      <td>511</td>\n",
       "      <td>Ada, Idaho, US</td>\n",
       "    </tr>\n",
       "    <tr>\n",
       "      <th>4</th>\n",
       "      <td>19001.0</td>\n",
       "      <td>Adair</td>\n",
       "      <td>Iowa</td>\n",
       "      <td>US</td>\n",
       "      <td>2020-04-12 23:18:00</td>\n",
       "      <td>41.330756</td>\n",
       "      <td>-94.471059</td>\n",
       "      <td>1</td>\n",
       "      <td>0</td>\n",
       "      <td>0</td>\n",
       "      <td>1</td>\n",
       "      <td>Adair, Iowa, US</td>\n",
       "    </tr>\n",
       "    <tr>\n",
       "      <th>...</th>\n",
       "      <td>...</td>\n",
       "      <td>...</td>\n",
       "      <td>...</td>\n",
       "      <td>...</td>\n",
       "      <td>...</td>\n",
       "      <td>...</td>\n",
       "      <td>...</td>\n",
       "      <td>...</td>\n",
       "      <td>...</td>\n",
       "      <td>...</td>\n",
       "      <td>...</td>\n",
       "      <td>...</td>\n",
       "    </tr>\n",
       "    <tr>\n",
       "      <th>2771</th>\n",
       "      <td>0.0</td>\n",
       "      <td>0</td>\n",
       "      <td>Northern Mariana Islands</td>\n",
       "      <td>US</td>\n",
       "      <td>2020-04-12 23:18:00</td>\n",
       "      <td>15.097900</td>\n",
       "      <td>145.673900</td>\n",
       "      <td>11</td>\n",
       "      <td>2</td>\n",
       "      <td>0</td>\n",
       "      <td>9</td>\n",
       "      <td>Northern Mariana Islands, US</td>\n",
       "    </tr>\n",
       "    <tr>\n",
       "      <th>2778</th>\n",
       "      <td>72.0</td>\n",
       "      <td>0</td>\n",
       "      <td>Puerto Rico</td>\n",
       "      <td>US</td>\n",
       "      <td>2020-04-12 23:18:00</td>\n",
       "      <td>18.220800</td>\n",
       "      <td>-66.590100</td>\n",
       "      <td>897</td>\n",
       "      <td>44</td>\n",
       "      <td>0</td>\n",
       "      <td>853</td>\n",
       "      <td>Puerto Rico, US</td>\n",
       "    </tr>\n",
       "    <tr>\n",
       "      <th>2783</th>\n",
       "      <td>0.0</td>\n",
       "      <td>0</td>\n",
       "      <td>Recovered</td>\n",
       "      <td>US</td>\n",
       "      <td>2020-04-12 23:18:00</td>\n",
       "      <td>0.000000</td>\n",
       "      <td>0.000000</td>\n",
       "      <td>0</td>\n",
       "      <td>0</td>\n",
       "      <td>0</td>\n",
       "      <td>-32988</td>\n",
       "      <td>Recovered, US</td>\n",
       "    </tr>\n",
       "    <tr>\n",
       "      <th>2801</th>\n",
       "      <td>78.0</td>\n",
       "      <td>0</td>\n",
       "      <td>Virgin Islands</td>\n",
       "      <td>US</td>\n",
       "      <td>2020-04-12 23:18:00</td>\n",
       "      <td>18.335800</td>\n",
       "      <td>-64.896300</td>\n",
       "      <td>51</td>\n",
       "      <td>1</td>\n",
       "      <td>0</td>\n",
       "      <td>50</td>\n",
       "      <td>Virgin Islands, US</td>\n",
       "    </tr>\n",
       "    <tr>\n",
       "      <th>2988</th>\n",
       "      <td>0.0</td>\n",
       "      <td>unassigned</td>\n",
       "      <td>Utah</td>\n",
       "      <td>US</td>\n",
       "      <td>2020-04-12 23:18:00</td>\n",
       "      <td>0.000000</td>\n",
       "      <td>0.000000</td>\n",
       "      <td>4</td>\n",
       "      <td>5</td>\n",
       "      <td>0</td>\n",
       "      <td>-1</td>\n",
       "      <td>unassigned, Utah, US</td>\n",
       "    </tr>\n",
       "  </tbody>\n",
       "</table>\n",
       "<p>2726 rows × 12 columns</p>\n",
       "</div>"
      ],
      "text/plain": [
       "         FIPS      Admin2            Province_State Country_Region  \\\n",
       "0     45001.0   Abbeville            South Carolina             US   \n",
       "1     22001.0      Acadia                 Louisiana             US   \n",
       "2     51001.0    Accomack                  Virginia             US   \n",
       "3     16001.0         Ada                     Idaho             US   \n",
       "4     19001.0       Adair                      Iowa             US   \n",
       "...       ...         ...                       ...            ...   \n",
       "2771      0.0           0  Northern Mariana Islands             US   \n",
       "2778     72.0           0               Puerto Rico             US   \n",
       "2783      0.0           0                 Recovered             US   \n",
       "2801     78.0           0            Virgin Islands             US   \n",
       "2988      0.0  unassigned                      Utah             US   \n",
       "\n",
       "              Last_Update        Lat       Long_  Confirmed  Deaths  \\\n",
       "0     2020-04-12 23:18:00  34.223334  -82.461707          9       0   \n",
       "1     2020-04-12 23:18:00  30.295065  -92.414197         99       5   \n",
       "2     2020-04-12 23:18:00  37.767072  -75.632346         15       0   \n",
       "3     2020-04-12 23:18:00  43.452658 -116.241552        517       6   \n",
       "4     2020-04-12 23:18:00  41.330756  -94.471059          1       0   \n",
       "...                   ...        ...         ...        ...     ...   \n",
       "2771  2020-04-12 23:18:00  15.097900  145.673900         11       2   \n",
       "2778  2020-04-12 23:18:00  18.220800  -66.590100        897      44   \n",
       "2783  2020-04-12 23:18:00   0.000000    0.000000          0       0   \n",
       "2801  2020-04-12 23:18:00  18.335800  -64.896300         51       1   \n",
       "2988  2020-04-12 23:18:00   0.000000    0.000000          4       5   \n",
       "\n",
       "      Recovered  Active                   Combined_Key  \n",
       "0             0       9  Abbeville, South Carolina, US  \n",
       "1             0      94          Acadia, Louisiana, US  \n",
       "2             0      15         Accomack, Virginia, US  \n",
       "3             0     511                 Ada, Idaho, US  \n",
       "4             0       1                Adair, Iowa, US  \n",
       "...         ...     ...                            ...  \n",
       "2771          0       9   Northern Mariana Islands, US  \n",
       "2778          0     853                Puerto Rico, US  \n",
       "2783          0  -32988                  Recovered, US  \n",
       "2801          0      50             Virgin Islands, US  \n",
       "2988          0      -1           unassigned, Utah, US  \n",
       "\n",
       "[2726 rows x 12 columns]"
      ]
     },
     "execution_count": 15,
     "metadata": {},
     "output_type": "execute_result"
    }
   ],
   "source": [
    "data[81].loc[data[81]['Country_Region']=='US']"
   ]
  },
  {
   "cell_type": "code",
   "execution_count": 19,
   "metadata": {},
   "outputs": [
    {
     "name": "stdout",
     "output_type": "stream",
     "text": [
      "old (without USA)  44711767\n",
      "updated (with USA)  52049461.0\n"
     ]
    },
    {
     "data": {
      "text/plain": [
       "(257, 338, 81, 257, 338, 81, 257, 257, 257)"
      ]
     },
     "execution_count": 19,
     "metadata": {},
     "output_type": "execute_result"
    },
    {
     "data": {
      "image/png": "[encoded data removed]",
      "text/plain": [
       "<Figure size 1440x432 with 1 Axes>"
      ]
     },
     "metadata": {
      "needs_background": "light"
     },
     "output_type": "display_data"
    }
   ],
   "source": [
    "# Init a list of all zero values\n",
    "update_part = [0 for i in range(len(totalrecovered_by_day_us))]\n",
    "\n",
    "j = 0\n",
    "\n",
    "# get Sum of total values without US and values with US\n",
    "for i in np.arange(len(data)-len(data_us), len(data), 1):    \n",
    "    update_part[j] = totalrecovered_by_day[i] + totalrecovered_by_day_us[j]\n",
    "    # print(i, j, totalrecovered_by_day[i], totalrecovered_by_day_us[j], update_part[j])\n",
    "    j = j+1\n",
    "\n",
    "totalrecovered = totalrecovered_by_day[0:keep_values_day]  + update_part\n",
    "\n",
    "plt.bar(np.arange(len(totalrecovered)), totalrecovered)\n",
    "print(\"old (without USA) \", totalrecovered_by_day[-1]) \n",
    "print(\"updated (with USA) \", totalrecovered[-1]) \n",
    "\n",
    "len(update_part), len(totalrecovered), len(totalrecovered_by_day[0:keep_values_day]), len(totalrecovered_by_day_us), len(data), keep_values_day, len(data_us), len(totalrecovered_by_day_us), len(data)-keep_values_day"
   ]
  },
  {
   "cell_type": "code",
   "execution_count": 22,
   "metadata": {},
   "outputs": [],
   "source": [
    "# # create dict for date (key as index, value as date)\n",
    "data_date = dict([(i, files[i]) for i in range(len(files))]) \n",
    "# data_date"
   ]
  },
  {
   "cell_type": "code",
   "execution_count": 23,
   "metadata": {},
   "outputs": [
    {
     "name": "stdout",
     "output_type": "stream",
     "text": [
      "Total days passed:  337\n"
     ]
    }
   ],
   "source": [
    "print(\"Total days passed: \", len(data))"
   ]
  },
  {
   "cell_type": "code",
   "execution_count": 24,
   "metadata": {},
   "outputs": [
    {
     "name": "stdout",
     "output_type": "stream",
     "text": [
      "FILE TO CHECK: PREVIOUS_DAY 08-15-2020.csv and DAY 08-16-2020.csv \n"
     ]
    }
   ],
   "source": [
    "# Error with data on day 208, 207\n",
    "day = 208\n",
    "previous_day = 207\n",
    "key = 'Deaths'\n",
    "errors = data[day][key]-data[previous_day][key]\n",
    "\n",
    "print(\"FILE TO CHECK: PREVIOUS_DAY {} and DAY {} \".format(data_date[previous_day], data_date[day]))\n",
    "# print()\n",
    "# print([(num_idx, diff) for num_idx, diff in enumerate(errors) if diff<0])"
   ]
  },
  {
   "cell_type": "code",
   "execution_count": 25,
   "metadata": {},
   "outputs": [
    {
     "data": {
      "text/plain": [
       "FIPS                                     0\n",
       "Admin2                                   0\n",
       "Province_State                           0\n",
       "Country_Region                 Afghanistan\n",
       "Last_Update            2020-08-18 04:27:56\n",
       "Lat                                33.9391\n",
       "Long_                                67.71\n",
       "Confirmed                            37667\n",
       "Deaths                                1378\n",
       "Recovered                            27166\n",
       "Active                                9058\n",
       "Combined_Key                   Afghanistan\n",
       "Incidence_Rate                     96.5852\n",
       "Case-Fatality_Ratio                3.65701\n",
       "Name: 0, dtype: object"
      ]
     },
     "execution_count": 25,
     "metadata": {},
     "output_type": "execute_result"
    }
   ],
   "source": [
    "# data[previous_day].iloc[3942], data[day].iloc[3942] # Example\n",
    "# sum(data[day][key])-sum(data[previous_day][key])\n",
    "data[day].iloc[0]"
   ]
  },
  {
   "cell_type": "code",
   "execution_count": 26,
   "metadata": {},
   "outputs": [],
   "source": [
    "# for i in range(len(data[previous_day])):\n",
    "#     if (data[day].iloc[i].Country_Region == data[previous_day].iloc[i].Country_Region and data[day].iloc[i].Deaths < data[previous_day].iloc[i].Deaths):\n",
    "#         print(i, data[previous_day].iloc[i].Country_Region, data[previous_day].iloc[i].Deaths, data[day].iloc[i].Deaths)"
   ]
  },
  {
   "cell_type": "code",
   "execution_count": 27,
   "metadata": {},
   "outputs": [
    {
     "data": {
      "text/plain": [
       "(FIPS                                         0\n",
       " Admin2                                       0\n",
       " Province_State                         Unknown\n",
       " Country_Region                  United Kingdom\n",
       " Last_Update                2020-08-17 04:27:20\n",
       " Lat                                          0\n",
       " Long_                                        0\n",
       " Confirmed                                    0\n",
       " Deaths                                       0\n",
       " Recovered                                    0\n",
       " Active                                       0\n",
       " Combined_Key           Unknown, United Kingdom\n",
       " Incidence_Rate                               0\n",
       " Case-Fatality_Ratio                          0\n",
       " Name: 3936, dtype: object,\n",
       " FIPS                                          0\n",
       " Admin2                                        0\n",
       " Province_State                         Scotland\n",
       " Country_Region                   United Kingdom\n",
       " Last_Update                 2020-08-18 04:27:56\n",
       " Lat                                     56.4907\n",
       " Long_                                   -4.2026\n",
       " Confirmed                                 19358\n",
       " Deaths                                     2491\n",
       " Recovered                                     0\n",
       " Active                                    16867\n",
       " Combined_Key           Scotland, United Kingdom\n",
       " Incidence_Rate                          354.328\n",
       " Case-Fatality_Ratio                     12.8681\n",
       " Name: 3936, dtype: object)"
      ]
     },
     "execution_count": 27,
     "metadata": {},
     "output_type": "execute_result"
    }
   ],
   "source": [
    "data[previous_day].iloc[3936], data[day].iloc[3936]"
   ]
  },
  {
   "cell_type": "code",
   "execution_count": 28,
   "metadata": {},
   "outputs": [
    {
     "name": "stdout",
     "output_type": "stream",
     "text": [
      "FILE TO CHECK: PREVIOUS_DAY 10-28-2020.csv and DAY 10-29-2020.csv \n",
      "\n",
      "[(97, -1), (162, -862879), (391, -19), (401, -1)]\n"
     ]
    }
   ],
   "source": [
    "day = 282\n",
    "previous_day = 281\n",
    "key = 'Recovered'\n",
    "errors = data[day][key]-data[previous_day][key]\n",
    "\n",
    "print(\"FILE TO CHECK: PREVIOUS_DAY {} and DAY {} \".format(data_date[previous_day], data_date[day]))\n",
    "print()\n",
    "print([(num_idx, diff) for num_idx, diff in enumerate(errors) if diff<0])"
   ]
  },
  {
   "cell_type": "code",
   "execution_count": 29,
   "metadata": {},
   "outputs": [
    {
     "data": {
      "text/plain": [
       "(FIPS                                     0\n",
       " Admin2                                   0\n",
       " Province_State                     Unknown\n",
       " Country_Region                    Colombia\n",
       " Last_Update            2020-10-30 04:24:49\n",
       " Lat                                      0\n",
       " Long_                                    0\n",
       " Confirmed                                0\n",
       " Deaths                                 173\n",
       " Recovered                             8474\n",
       " Active                               -8647\n",
       " Combined_Key             Unknown, Colombia\n",
       " Incidence_Rate                           0\n",
       " Case-Fatality_Ratio                      0\n",
       " Name: 162, dtype: object,\n",
       " FIPS                                     0\n",
       " Admin2                                   0\n",
       " Province_State                     Unknown\n",
       " Country_Region                    Colombia\n",
       " Last_Update            2020-10-31 04:24:44\n",
       " Lat                                      0\n",
       " Long_                                    0\n",
       " Confirmed                                0\n",
       " Deaths                                 505\n",
       " Recovered                          -854405\n",
       " Active                              853900\n",
       " Combined_Key             Unknown, Colombia\n",
       " Incidence_Rate                           0\n",
       " Case-Fatality_Ratio                      0\n",
       " Name: 162, dtype: object)"
      ]
     },
     "execution_count": 29,
     "metadata": {},
     "output_type": "execute_result"
    }
   ],
   "source": [
    "data[previous_day].iloc[162], data[day].iloc[162]  # Example to check iloc at index 401"
   ]
  },
  {
   "cell_type": "code",
   "execution_count": 30,
   "metadata": {},
   "outputs": [],
   "source": [
    "# data_date.keys()\n",
    "# for day in data_date.keys():    \n",
    "#     for idx in range(len(data[day])-1):\n",
    "        # print(day, idx)\n",
    "#         if (data[day].loc[idx, 'Confirmed'] < 0):\n",
    "#             print(day, data_date[day], 'Confirmed', idx, data[day].iloc[idx].Confirmed, data[day].iloc[idx].Country_Region)\n",
    "# data[0][data[0] <0] = 0\n",
    "# df = pd.DataFrame({'a': [0, -1, 2], 'b': [-3, 2, 1]})\n",
    "# df"
   ]
  },
  {
   "cell_type": "code",
   "execution_count": 31,
   "metadata": {},
   "outputs": [],
   "source": [
    "# df.where(df>=0, 0)  # keep all values >0, and replace all negative values with 0"
   ]
  },
  {
   "cell_type": "code",
   "execution_count": 32,
   "metadata": {},
   "outputs": [],
   "source": [
    "# df.mask(df<0,0)  # replace all negative values with 0"
   ]
  },
  {
   "cell_type": "code",
   "execution_count": 33,
   "metadata": {},
   "outputs": [
    {
     "data": {
      "text/plain": [
       "'.gitignore'"
      ]
     },
     "execution_count": 33,
     "metadata": {},
     "output_type": "execute_result"
    }
   ],
   "source": [
    "# list(data_date.keys())\n",
    "# list(data_date.keys())[:-1]\n",
    "# data[336]\n",
    "data_date.pop(0)"
   ]
  },
  {
   "cell_type": "code",
   "execution_count": 34,
   "metadata": {},
   "outputs": [
    {
     "data": {
      "text/plain": [
       "array([  0,   1,   2,   3,   4,   5,   6,   7,   8,   9,  10,  11,  12,\n",
       "        13,  14,  15,  16,  17,  18,  19,  20,  21,  22,  23,  24,  25,\n",
       "        26,  27,  28,  29,  30,  31,  32,  33,  34,  35,  36,  37,  38,\n",
       "        39,  40,  41,  42,  43,  44,  45,  46,  47,  48,  49,  50,  51,\n",
       "        52,  53,  54,  55,  56,  57,  58,  59,  60,  61,  62,  63,  64,\n",
       "        65,  66,  67,  68,  69,  70,  71,  72,  73,  74,  75,  76,  77,\n",
       "        78,  79,  80,  81,  82,  83,  84,  85,  86,  87,  88,  89,  90,\n",
       "        91,  92,  93,  94,  95,  96,  97,  98,  99, 100, 101, 102, 103,\n",
       "       104, 105, 106, 107, 108, 109, 110, 111, 112, 113, 114, 115, 116,\n",
       "       117, 118, 119, 120, 121, 122, 123, 124, 125, 126, 127, 128, 129,\n",
       "       130, 131, 132, 133, 134, 135, 136, 137, 138, 139, 140, 141, 142,\n",
       "       143, 144, 145, 146, 147, 148, 149, 150, 151, 152, 153, 154, 155,\n",
       "       156, 157, 158, 159, 160, 161, 162, 163, 164, 165, 166, 167, 168,\n",
       "       169, 170, 171, 172, 173, 174, 175, 176, 177, 178, 179, 180, 181,\n",
       "       182, 183, 184, 185, 186, 187, 188, 189, 190, 191, 192, 193, 194,\n",
       "       195, 196, 197, 198, 199, 200, 201, 202, 203, 204, 205, 206, 207,\n",
       "       208, 209, 210, 211, 212, 213, 214, 215, 216, 217, 218, 219, 220,\n",
       "       221, 222, 223, 224, 225, 226, 227, 228, 229, 230, 231, 232, 233,\n",
       "       234, 235, 236, 237, 238, 239, 240, 241, 242, 243, 244, 245, 246,\n",
       "       247, 248, 249, 250, 251, 252, 253, 254, 255, 256, 257, 258, 259,\n",
       "       260, 261, 262, 263, 264, 265, 266, 267, 268, 269, 270, 271, 272,\n",
       "       273, 274, 275, 276, 277, 278, 279, 280, 281, 282, 283, 284, 285,\n",
       "       286, 287, 288, 289, 290, 291, 292, 293, 294, 295, 296, 297, 298,\n",
       "       299, 300, 301, 302, 303, 304, 305, 306, 307, 308, 309, 310, 311,\n",
       "       312, 313, 314, 315, 316, 317, 318, 319, 320, 321, 322, 323, 324,\n",
       "       325, 326, 327, 328, 329, 330, 331, 332, 333, 334, 335, 336])"
      ]
     },
     "execution_count": 34,
     "metadata": {},
     "output_type": "execute_result"
    }
   ],
   "source": [
    "new_list = np.arange(0, len(list(data_date.keys())[:-1]),1)\n",
    "new_list"
   ]
  },
  {
   "cell_type": "code",
   "execution_count": 35,
   "metadata": {},
   "outputs": [],
   "source": [
    "for day in new_list:\n",
    "    data[day].fillna(0)\n",
    "    data[day][['Confirmed','Deaths','Recovered']] = data[day][['Confirmed','Deaths','Recovered']].mask(data[day][['Confirmed','Deaths','Recovered']]<0, 0)\n",
    "    # data[day][['Confirmed','Deaths','Recovered']].where(data[day][['Confirmed','Deaths','Recovered']]>=0, 0)"
   ]
  },
  {
   "cell_type": "code",
   "execution_count": 36,
   "metadata": {},
   "outputs": [],
   "source": [
    "# data[0][['Confirmed','Deaths','Recovered']].where(data[0][['Confirmed','Deaths','Recovered']]>=0, 0)"
   ]
  },
  {
   "cell_type": "code",
   "execution_count": 37,
   "metadata": {},
   "outputs": [],
   "source": [
    " #data[0][['Confirmed','Deaths','Recovered']]"
   ]
  },
  {
   "cell_type": "code",
   "execution_count": 38,
   "metadata": {},
   "outputs": [],
   "source": [
    "# for day in data_date.keys():    \n",
    "#     for idx in range(len(data[day])-1):\n",
    "#         # print(day, idx)\n",
    "#         if (data[day].loc[idx, 'Confirmed'] < 0):\n",
    "#             print(day, data_date[day], 'Confirmed', idx, data[day].iloc[idx].Confirmed, data[day].iloc[idx].Country_Region)\n",
    "            \n",
    "#         if (data[day].iloc[idx].Deaths < 0):\n",
    "#             print(day, data_date[day], 'Deaths', idx, data[day].iloc[idx].Deaths, data[day].iloc[idx].Country_Region)\n",
    "            \n",
    "#         if (data[day].iloc[idx].Recovered < 0):\n",
    "#             print(day, data_date[day], 'Recovered', idx, data[day].iloc[idx].Recovered, data[day].iloc[idx].Country_Region)"
   ]
  },
  {
   "cell_type": "code",
   "execution_count": 1,
   "metadata": {},
   "outputs": [],
   "source": [
    "# data[285].loc[data[285]['Country_Region'] == 'Colombia']"
   ]
  },
  {
   "cell_type": "code",
   "execution_count": null,
   "metadata": {},
   "outputs": [],
   "source": [
    "# Error: since 22.03.2020 use Country_Region, before that use Country/Region"
   ]
  }
 ],
 "metadata": {
  "kernelspec": {
   "display_name": "Python [conda env:.conda-aic]",
   "language": "python",
   "name": "conda-env-.conda-aic-py"
  },
  "language_info": {
   "codemirror_mode": {
    "name": "ipython",
    "version": 3
   },
   "file_extension": ".py",
   "mimetype": "text/x-python",
   "name": "python",
   "nbconvert_exporter": "python",
   "pygments_lexer": "ipython3",
   "version": "3.7.9"
  }
 },
 "nbformat": 4,
 "nbformat_minor": 4
}
