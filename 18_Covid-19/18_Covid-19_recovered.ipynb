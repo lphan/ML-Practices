{
 "cells": [
  {
   "cell_type": "markdown",
   "metadata": {},
   "source": [
    "### COVID-19 \n",
    "### Number of RECOVERED updated by DAY\n",
    "### in the countries: 'China', 'Germany', 'Italy', 'Korea, South', 'Japan', 'US', 'Australia', 'Luxembourg', 'United Kingdom', 'Canada', 'Vietnam', 'Israel\n",
    "### This notebook is no longer relevant since the recovered data is no longer updated."
   ]
  },
  {
   "cell_type": "code",
   "execution_count": 1,
   "metadata": {},
   "outputs": [
    {
     "name": "stdout",
     "output_type": "stream",
     "text": [
      "Start importing World-data  ./data/COVID-19/csse_covid_19_data/csse_covid_19_daily_reports/\n",
      "Start importing USA-data  ./data/COVID-19/csse_covid_19_data/csse_covid_19_daily_reports_us/\n",
      "Start importing single data  ./data/COVID-19/csse_covid_19_data/UID_ISO_FIPS_LookUp_Table.csv\n",
      "Start importing single data  ./data/COVID-19/csse_covid_19_data/csse_covid_19_time_series/time_series_covid19_confirmed_global.csv\n",
      "Start importing single data  ./data/COVID-19/csse_covid_19_data/csse_covid_19_time_series/time_series_covid19_deaths_global.csv\n",
      "Start importing single data  ./data/COVID-19/csse_covid_19_data/csse_covid_19_time_series/time_series_covid19_recovered_global.csv\n"
     ]
    }
   ],
   "source": [
    "from covid_top import *\n",
    "%matplotlib inline"
   ]
  },
  {
   "cell_type": "markdown",
   "metadata": {},
   "source": [
    "### Number of covid-19 outbreak days "
   ]
  },
  {
   "cell_type": "code",
   "execution_count": 2,
   "metadata": {},
   "outputs": [
    {
     "data": {
      "text/plain": [
       "592"
      ]
     },
     "execution_count": 2,
     "metadata": {},
     "output_type": "execute_result"
    }
   ],
   "source": [
    "rcParams['figure.figsize'] = 20, 6\n",
    "len(data)"
   ]
  },
  {
   "cell_type": "code",
   "execution_count": 3,
   "metadata": {},
   "outputs": [
    {
     "data": {
      "text/plain": [
       "'09-04-2021'"
      ]
     },
     "execution_count": 3,
     "metadata": {},
     "output_type": "execute_result"
    }
   ],
   "source": [
    "updated_date=files[-1].split('.')[0]\n",
    "updated_date"
   ]
  },
  {
   "cell_type": "code",
   "execution_count": 4,
   "metadata": {},
   "outputs": [
    {
     "name": "stdout",
     "output_type": "stream",
     "text": [
      "Total recovered first day:  30.0\n",
      "Total recovered last day:  0.0\n"
     ]
    }
   ],
   "source": [
    "print(\"Total recovered first day: \", totalrecovered_by_day[0])\n",
    "print(\"Total recovered last day: \", totalrecovered_by_day[-1])"
   ]
  },
  {
   "cell_type": "markdown",
   "metadata": {},
   "source": [
    "### New Recovered in the World changed by day"
   ]
  },
  {
   "cell_type": "code",
   "execution_count": 5,
   "metadata": {},
   "outputs": [],
   "source": [
    "# plt.figure(1)\n",
    "# plt.xticks(np.arange(0, max(x_dat)+1, 10))\n",
    "# plt.bar(x_dat, newRecoveredByDay, color='green', label=\"New Recovered by day\")\n",
    "# plt.xlabel('Days')\n",
    "# plt.ylabel('New Recovered cases')\n",
    "# plt.title(\"New Recovered cases by day in the WORLD\")\n",
    "# plt.legend(loc='upper left')\n",
    "\n",
    "# plt.figure(2)\n",
    "# plt.xticks(np.arange(0, max(x_dat)+1, 10))\n",
    "# plt.plot(x_dat, np.log(newRecoveredByDay), color='green', label=\"New Recovered by day\")\n",
    "# plt.xlabel('Days')\n",
    "# plt.ylabel('New Recovered cases')\n",
    "# plt.title(\"New Recovered cases by day in the WORLD in Log-form\")\n",
    "# plt.legend(loc='upper left')\n",
    "\n",
    "# ('Last day Increasing', totalrecovered_by_day[-1]-totalrecovered_by_day[-2])"
   ]
  },
  {
   "cell_type": "markdown",
   "metadata": {},
   "source": [
    "##### NOTE: THERE IS DATA BIAS AT DAYS with negative values"
   ]
  },
  {
   "cell_type": "markdown",
   "metadata": {},
   "source": [
    "### Number of RECOVERED in the World from day 0 to latest day"
   ]
  },
  {
   "cell_type": "code",
   "execution_count": 6,
   "metadata": {},
   "outputs": [],
   "source": [
    "# plt.figure(1)\n",
    "# plt.xticks(np.arange(0, max(x_dat)+1, 10))\n",
    "# plt.bar(x_dat, totalrecovered_by_day, color='green', label='Total recovered cases in the World')\n",
    "# plt.xlabel('Days')\n",
    "# plt.ylabel('Recovered cases')\n",
    "# ax = sns.regplot(x=x_dat, y=totalrecovered_by_day, ci=95, label=\"regplot linear regression line\", color=\"blue\")\n",
    "# ax.legend(loc=\"upper left\")\n",
    "# plt.title(\"Total RECOVERED in the WORLD\")\n",
    "\n",
    "# plt.figure(2)\n",
    "# plt.plot(x_dat, np.log(totalrecovered_by_day), color='green', label='recovered cases in the World')\n",
    "# plt.xlabel('Days')\n",
    "# plt.ylabel('Recovered cases')\n",
    "# plt.legend(loc=\"upper left\")\n",
    "# plt.title(\"Total RECOVERED in the WORLD in Log-form\")\n",
    "\n",
    "# plt.figure(3)\n",
    "# plt.plot(x_dat, ratioRecByDay, color='green', label='Ratio Recovered over Confirmed by day')\n",
    "# plt.xlabel('Days')\n",
    "# plt.ylabel('Ratio (%)')\n",
    "# plt.title(\"Ratio Recovered over Confirmed changed by day in the WORLD\")\n",
    "# plt.legend(loc='upper left')\n",
    "\n",
    "# print(\"Ratio recovered over Confirmed in last day (%): \", ratioRecByDay[-1])\n",
    "# print('Highest Ratio until now (%): ', np.max(ratioRecByDay))\n",
    "# ('Total Recovered until now: ', totalrecovered_by_day[-1])"
   ]
  },
  {
   "cell_type": "code",
   "execution_count": 7,
   "metadata": {},
   "outputs": [],
   "source": [
    "# countries = ['China', 'Germany', 'Italy', 'Korea, South', 'Japan', 'Australia', 'Luxembourg', 'United Kingdom', 'Canada', 'Vietnam', 'Israel']\n",
    "\n",
    "# rcParams['figure.figsize'] = 20, 20\n",
    "# countries_recovered[countries].plot(subplots=True, legend=True, color='green')\n",
    "# countries_recovered[countries]"
   ]
  },
  {
   "cell_type": "code",
   "execution_count": 8,
   "metadata": {},
   "outputs": [],
   "source": [
    "# # time slot 7 days\n",
    "# window_slot = 7\n",
    "\n",
    "# countriesdf = pd.DataFrame(columns=countries, index=['Last day Increasing', 'Total Recovered until yesterday', 'Highest Number'])\n",
    "\n",
    "# for country in countries:\n",
    "#     countriesdf[country] = [countries_recovered_by_day[country].iloc[-1], countries_recovered[country].iloc[-1], \n",
    "#                             countries_recovered_by_day[country].max()]\n",
    "\n",
    "# # Mitigate the negative values by converting all negative values to 0\n",
    "# countriesdf.mask(countriesdf<0, 0, inplace=True) \n",
    "# countries_recovered_by_day.mask(countries_recovered_by_day<0, 0, inplace=True) \n",
    "\n",
    "# figure = 1\n",
    "# rcParams['figure.figsize'] = 20, 6\n",
    "\n",
    "# for country in countries:    \n",
    "#     plt.figure(figure)\n",
    "#     countries_recovered_by_day[country].plot(color='green', label=country)\n",
    "    \n",
    "#     roll = countries_recovered_by_day[country].rolling(window = window_slot)\n",
    "#     roll.mean().plot(label='Mean by window '+str(window_slot), color='orange')\n",
    "    \n",
    "#     plt.title(\"Number of Recovered cases changed by day\")\n",
    "#     plt.legend(loc='upper left')\n",
    "#     figure = figure+1\n",
    "\n",
    "# countriesdf"
   ]
  },
  {
   "cell_type": "markdown",
   "metadata": {},
   "source": [
    "#### There are bias data found at the days when you see the scattered plot shows the negative values (<0)."
   ]
  }
 ],
 "metadata": {
  "hide_input": false,
  "kernelspec": {
   "display_name": "rapids-0.19",
   "language": "python",
   "name": "rapids-0.19"
  },
  "language_info": {
   "codemirror_mode": {
    "name": "ipython",
    "version": 3
   },
   "file_extension": ".py",
   "mimetype": "text/x-python",
   "name": "python",
   "nbconvert_exporter": "python",
   "pygments_lexer": "ipython3",
   "version": "3.7.11"
  }
 },
 "nbformat": 4,
 "nbformat_minor": 4
}
