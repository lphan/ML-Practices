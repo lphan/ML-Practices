{
 "cells": [
  {
   "cell_type": "markdown",
   "metadata": {},
   "source": [
    "### COVID-19 \n",
    "### Number of RECOVERED updated by DAY\n",
    "### in the countries: CHINA, GERMANY, ITALY, SOUTH KOREA, JAPAN, USA, AUSTRALIA"
   ]
  },
  {
   "cell_type": "code",
   "execution_count": null,
   "metadata": {},
   "outputs": [],
   "source": [
    "# Configuration: setup absolute path to location of package Starts and config-file \n",
    "from inspect import getsourcefile\n",
    "import os.path as path, sys\n",
    "current_dir = path.dirname(path.abspath(getsourcefile(lambda:0)))\n",
    "sys.path.insert(0, current_dir[:current_dir.rfind(path.sep)])\n",
    "\n",
    "from Starts.start import *\n",
    "from Starts.startml import *\n",
    "from Starts.startvis import *  \n",
    "%matplotlib inline\n",
    "rcParams['figure.figsize'] = 20, 6\n"
   ]
  },
  {
   "cell_type": "markdown",
   "metadata": {},
   "source": [
    "### Number of covid-19 outbreak days "
   ]
  },
  {
   "cell_type": "code",
   "execution_count": null,
   "metadata": {},
   "outputs": [],
   "source": [
    "from covid import *\n",
    "len(data)"
   ]
  },
  {
   "cell_type": "markdown",
   "metadata": {},
   "source": [
    "### Number of RECOVERED in the first outbreak day"
   ]
  },
  {
   "cell_type": "code",
   "execution_count": null,
   "metadata": {},
   "outputs": [],
   "source": [
    "y_dat_all_recovered[0]"
   ]
  },
  {
   "cell_type": "markdown",
   "metadata": {},
   "source": [
    "### Number of RECOVERED in the latest outbreak day"
   ]
  },
  {
   "cell_type": "code",
   "execution_count": null,
   "metadata": {},
   "outputs": [],
   "source": [
    "y_dat_all_recovered[-1]"
   ]
  },
  {
   "cell_type": "markdown",
   "metadata": {},
   "source": [
    "### New Recovered in the World changed by day"
   ]
  },
  {
   "cell_type": "code",
   "execution_count": null,
   "metadata": {},
   "outputs": [],
   "source": [
    "plt.xticks(np.arange(0, max(x_dat)+1, 5))\n",
    "plt.bar(x_dat, newRecoveredByDay, color='green', label=\"New Recovered by day\")\n",
    "plt.xlabel('Days')\n",
    "plt.ylabel('New Recovered cases')\n",
    "plt.legend()\n",
    "('Last day Increasing', y_dat_all_recovered[-1]-y_dat_all_recovered[-2])"
   ]
  },
  {
   "cell_type": "code",
   "execution_count": null,
   "metadata": {},
   "outputs": [],
   "source": [
    "plt.plot(x_dat, np.log(newRecoveredByDay), color='green')\n",
    "plt.xlabel('Days')\n",
    "plt.ylabel('New Recovered cases in log_values')"
   ]
  },
  {
   "cell_type": "code",
   "execution_count": null,
   "metadata": {},
   "outputs": [],
   "source": [
    "plt.plot(x_dat, ratioRecByDay, color='green', label='Ratio Recovered over Confirmed by day')\n",
    "plt.xlabel('Days')\n",
    "plt.ylabel('Ratio (%)')\n",
    "plt.legend()\n",
    "print(\"Last day (%): \", ratioRecByDay[-1])\n",
    "print('Highest Ratio until now (%): ', np.max(ratioRecByDay))"
   ]
  },
  {
   "cell_type": "markdown",
   "metadata": {},
   "source": [
    "### Number of RECOVERED in the World from day 0 to latest day"
   ]
  },
  {
   "cell_type": "code",
   "execution_count": null,
   "metadata": {},
   "outputs": [],
   "source": [
    "plt.xticks(np.arange(0, max(x_dat)+1, 5))\n",
    "plt.bar(x_dat, y_dat_all_recovered, color='green', label='recovered cases in the World')\n",
    "plt.xlabel('Days')\n",
    "plt.ylabel('Recovered cases')\n",
    "plt.legend()\n",
    "('Total Confirmed', y_dat_all_recovered[-1])\n",
    "ax = sns.regplot(x=x_dat, y=y_dat_all_recovered, ci=95, label=\"regplot linear regression line\", color=\"blue\")\n",
    "ax.legend(loc=\"best\")"
   ]
  },
  {
   "cell_type": "code",
   "execution_count": null,
   "metadata": {},
   "outputs": [],
   "source": [
    "plt.plot(x_dat, np.log(y_dat_all_recovered), color='green', label='recovered cases in the World in log_values')\n",
    "plt.xlabel('Days')\n",
    "plt.ylabel('Recovered cases in log_values')\n",
    "plt.legend()"
   ]
  },
  {
   "cell_type": "markdown",
   "metadata": {},
   "source": [
    "### Number of RECOVERED in CHINA from day 0 to latest day "
   ]
  },
  {
   "cell_type": "code",
   "execution_count": null,
   "metadata": {},
   "outputs": [],
   "source": [
    "plt.xticks(np.arange(0, max(x_dat)+1, 5))\n",
    "plt.bar(x_dat, y_dat_recovered['China'], color='green')\n",
    "plt.legend([\"China\"])\n",
    "\n",
    "plt.xlabel('Days')\n",
    "plt.ylabel('Recovered cases')\n",
    "('Last day Increasing', y_dat_recovered['China'][-1]-y_dat_recovered['China'][-2]), ('Total Confirmed', y_dat_recovered['China'][-1])"
   ]
  },
  {
   "cell_type": "markdown",
   "metadata": {},
   "source": [
    "#### Notes: it seems there were bias at day 84 and day 85"
   ]
  },
  {
   "cell_type": "markdown",
   "metadata": {},
   "source": [
    "### Number of RECOVERED in GERMANY from day 0 to latest day "
   ]
  },
  {
   "cell_type": "code",
   "execution_count": null,
   "metadata": {},
   "outputs": [],
   "source": [
    "plt.bar(x_dat, y_dat_recovered['Germany'], color='green')\n",
    "plt.legend([\"GERMANY\"])\n",
    "\n",
    "plt.xticks(np.arange(0, max(x_dat)+1, 5))\n",
    "plt.xlabel('Days')\n",
    "plt.ylabel('Recovered cases')\n",
    "('Last day Increasing', y_dat_recovered['Germany'][-1]-y_dat_recovered['Germany'][-2]), ('Total Confirmed', y_dat_recovered['Germany'][-1])"
   ]
  },
  {
   "cell_type": "markdown",
   "metadata": {},
   "source": [
    "### Number of RECOVERED in ITALY from day 0 to latest day"
   ]
  },
  {
   "cell_type": "code",
   "execution_count": null,
   "metadata": {},
   "outputs": [],
   "source": [
    "plt.bar(x_dat, y_dat_recovered['Italy'], color='green')\n",
    "plt.legend([\"ITALY\"])\n",
    "\n",
    "plt.xticks(np.arange(0, max(x_dat)+1, 5))\n",
    "plt.xlabel('Days')\n",
    "plt.ylabel('Recovered cases')\n",
    "('Last day Increasing', y_dat_recovered['Italy'][-1]-y_dat_recovered['Italy'][-2]), ('Total Confirmed', y_dat_recovered['Italy'][-1])"
   ]
  },
  {
   "cell_type": "markdown",
   "metadata": {},
   "source": [
    "### Number of RECOVERED in SOUTH KOREA from day 0 to latest day "
   ]
  },
  {
   "cell_type": "code",
   "execution_count": null,
   "metadata": {},
   "outputs": [],
   "source": [
    "plt.bar(x_dat, y_dat_recovered['Korea, South'], color='green')\n",
    "plt.legend([\"SOUTH KOREA\"])\n",
    "\n",
    "plt.xticks(np.arange(0, max(x_dat)+1, 5))\n",
    "plt.xlabel('Days')\n",
    "plt.ylabel('Recovered cases')\n",
    "('Last day Increasing', y_dat_recovered['Korea, South'][-1]-y_dat_recovered['Korea, South'][-2]), ('Total Confirmed', y_dat_recovered['Korea, South'][-1])"
   ]
  },
  {
   "cell_type": "markdown",
   "metadata": {},
   "source": [
    "#### In above chart, it seems there was data bias at days 44 and 45 in Korea because at day 46 the total number of recovered has been adjusted lower. \n"
   ]
  },
  {
   "cell_type": "markdown",
   "metadata": {},
   "source": [
    "### Number of RECOVERED in JAPAN from day 0 to latest day "
   ]
  },
  {
   "cell_type": "code",
   "execution_count": null,
   "metadata": {},
   "outputs": [],
   "source": [
    "plt.bar(x_dat, y_dat_recovered['Japan'], color='green')\n",
    "plt.legend([\"JAPAN\"])\n",
    "\n",
    "plt.xticks(np.arange(0, max(x_dat)+1, 5))\n",
    "plt.xlabel('Days')\n",
    "plt.ylabel('Recovered cases')\n",
    "('Last day Increasing', y_dat_recovered['Japan'][-1]-y_dat_recovered['Japan'][-2]), ('Total Confirmed', y_dat_recovered['Japan'][-1])"
   ]
  },
  {
   "cell_type": "markdown",
   "metadata": {},
   "source": [
    "### Number of RECOVERED in the USA from day 0 to latest day "
   ]
  },
  {
   "cell_type": "code",
   "execution_count": null,
   "metadata": {},
   "outputs": [],
   "source": [
    "plt.bar(x_dat, y_dat_recovered['US'], color='green')\n",
    "plt.legend([\"USA\"])\n",
    "\n",
    "plt.xticks(np.arange(0, max(x_dat)+1, 5))\n",
    "plt.xlabel('Days')\n",
    "plt.ylabel('Recovered cases')\n",
    "('Last day Increasing', y_dat_recovered['US'][-1]-y_dat_recovered['US'][-2]), ('Total Confirmed', y_dat_recovered['US'][-1])"
   ]
  },
  {
   "cell_type": "markdown",
   "metadata": {},
   "source": [
    "#### Note: bias at days 61, 62 no data is given (Stand: 25.03.2020)"
   ]
  },
  {
   "cell_type": "markdown",
   "metadata": {},
   "source": [
    "### Number of RECOVERED in the Australia from day 0 to latest day "
   ]
  },
  {
   "cell_type": "code",
   "execution_count": null,
   "metadata": {},
   "outputs": [],
   "source": [
    "plt.bar(x_dat, y_dat_recovered['Australia'], color='green')\n",
    "plt.legend([\"Australia\"])\n",
    "\n",
    "plt.xticks(np.arange(0, max(x_dat)+1, 5))\n",
    "# plt.yticks(np.arange(0, max(y_dat_recovered_au)+1, 2))\n",
    "plt.xlabel('Days')\n",
    "plt.ylabel('Recovered cases')\n",
    "('Last day Increasing', y_dat_recovered['Australia'][-1]-y_dat_recovered['Australia'][-2]), ('Total Confirmed', y_dat_recovered['Australia'][-1])"
   ]
  }
 ],
 "metadata": {
  "hide_input": false,
  "kernelspec": {
   "display_name": "Python [conda env:.conda-aic]",
   "language": "python",
   "name": "conda-env-.conda-aic-py"
  },
  "language_info": {
   "codemirror_mode": {
    "name": "ipython",
    "version": 3
   },
   "file_extension": ".py",
   "mimetype": "text/x-python",
   "name": "python",
   "nbconvert_exporter": "python",
   "pygments_lexer": "ipython3",
   "version": "3.7.6"
  }
 },
 "nbformat": 4,
 "nbformat_minor": 4
}
