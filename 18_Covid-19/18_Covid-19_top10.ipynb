{
 "cells": [
  {
   "cell_type": "markdown",
   "metadata": {},
   "source": [
    "### COVID-19 \n",
    "### UPDATE by DAY \n",
    "### TOP 10 countries increasing new cases last day (CONFIRMED, FATALITIES, RECOVERED)"
   ]
  },
  {
   "cell_type": "code",
   "execution_count": null,
   "metadata": {},
   "outputs": [],
   "source": [
    "# Configuration: setup absolute path to location of package Starts and config-file \n",
    "from inspect import getsourcefile\n",
    "import os.path as path, sys\n",
    "current_dir = path.dirname(path.abspath(getsourcefile(lambda:0)))\n",
    "sys.path.insert(0, current_dir[:current_dir.rfind(path.sep)])\n",
    "\n",
    "from Starts.start import *\n",
    "from Starts.startml import *\n",
    "from Starts.startvis import *  \n",
    "%matplotlib inline\n",
    "rcParams['figure.figsize'] = 20, 6"
   ]
  },
  {
   "cell_type": "markdown",
   "metadata": {},
   "source": [
    "### Number of covid-19 outbreak days"
   ]
  },
  {
   "cell_type": "code",
   "execution_count": null,
   "metadata": {},
   "outputs": [],
   "source": [
    "from covid import *\n",
    "len(data)"
   ]
  },
  {
   "cell_type": "markdown",
   "metadata": {},
   "source": [
    "### 1. Top 10 countries with highest new CONFIRMED increasing last day"
   ]
  },
  {
   "cell_type": "code",
   "execution_count": null,
   "metadata": {},
   "outputs": [],
   "source": [
    "plt.bar(*zip(*countries_highestConfByDay[0:10]), color=(0.8, 0.7, 0.6, 0.5), edgecolor='orange')\n",
    "countries_highestConfByDay[0:10]"
   ]
  },
  {
   "cell_type": "markdown",
   "metadata": {},
   "source": [
    "### 1.1 More about the ratio of new Confirmed last day/ Population of above countries (%)"
   ]
  },
  {
   "cell_type": "code",
   "execution_count": null,
   "metadata": {},
   "outputs": [],
   "source": [
    "plt.title(\"Ratio new CONFIRMED last day/ Country's population\")\n",
    "plt.bar(*zip(*topConfLastDayRatioPop), color=(0.4, 0.3, 0.2, 0.1), edgecolor='orange')\n",
    "print(\"Country -- Ratio New Confirmed last day over population -- Population of 10 countries\")\n",
    "topConfPopulation"
   ]
  },
  {
   "cell_type": "markdown",
   "metadata": {},
   "source": [
    "### 1.2 More about the ratio of total Confirmed/ Population of above countries (%)"
   ]
  },
  {
   "cell_type": "code",
   "execution_count": null,
   "metadata": {},
   "outputs": [],
   "source": [
    "plt.title(\"Ratio of total CONFIRMED/ Population\")\n",
    "topRatioTotalConfPop = [(country[0], round(y_dat_ratioConfPop[country[0]], 3)) for country in topConfCountryPop]\n",
    "plt.bar(*zip(*topRatioTotalConfPop), color=(0.4, 0.3, 0.2, 0.1), edgecolor='orange')\n",
    "topRatioTotalConfPop"
   ]
  },
  {
   "cell_type": "markdown",
   "metadata": {},
   "source": [
    "### 2. Top 10 countries with highest new FATALITIES increasing by day"
   ]
  },
  {
   "cell_type": "code",
   "execution_count": null,
   "metadata": {},
   "outputs": [],
   "source": [
    "plt.bar(*zip(*countries_highestFatalByDay[0:10]), color=(0.9, 0.8, 0.7, 0.6), edgecolor='red')\n",
    "countries_highestFatalByDay[0:10]"
   ]
  },
  {
   "cell_type": "markdown",
   "metadata": {},
   "source": [
    "### 2.1 More about the ratio of new FATALITIES last day/ Population of above countries (%)"
   ]
  },
  {
   "cell_type": "code",
   "execution_count": null,
   "metadata": {},
   "outputs": [],
   "source": [
    "plt.title(\"Ratio new CONFIRMED last day/ population\")\n",
    "plt.bar(*zip(*topFatalLastDayRatioPop), color=(0.9, 0.8, 0.7, 0.6), edgecolor='red')\n",
    "print(\"Country -- Ratio New Fatalities last day over population -- Population of 10 countries\")\n",
    "topFatalPopulation"
   ]
  },
  {
   "cell_type": "markdown",
   "metadata": {},
   "source": [
    "### 2.2 More about the ratio of total Fatals/ Population of above countries (%)"
   ]
  },
  {
   "cell_type": "code",
   "execution_count": null,
   "metadata": {},
   "outputs": [],
   "source": [
    "plt.title(\"Ratio of Total Fatals/ Population\")\n",
    "topFatalsPopRatio = [(country[0], round(y_dat_ratioDeathPop[country[0]], 3)) for country in topFatalCountryPop]\n",
    "plt.bar(*zip(*topFatalsPopRatio), color=(0.9, 0.8, 0.7, 0.6), edgecolor='red')\n",
    "topFatalsPopRatio"
   ]
  },
  {
   "cell_type": "markdown",
   "metadata": {},
   "source": [
    "### 2.3 More about the ratio of Total Fatals/ Total Confirmed of above countries (%)"
   ]
  },
  {
   "cell_type": "code",
   "execution_count": null,
   "metadata": {},
   "outputs": [],
   "source": [
    "print(\"Ratio of Total Fatals/ Total Confirmed\")\n",
    "topFatalConfirmRatio = [(country[0], round(y_dat_ratioDeathConf[country[0]], 3)) for country in topFatalCountryPop]\n",
    "plt.title(\"Ratio of Total Fatals/ Total Confirmed\")\n",
    "plt.bar(*zip(*topFatalConfirmRatio), color=(0.9, 0.8, 0.7, 0.6), edgecolor='red')\n",
    "topFatalConfirmRatio"
   ]
  },
  {
   "cell_type": "markdown",
   "metadata": {},
   "source": [
    "### 3. Top 10 countries with highest new RECOVERED increasing last day"
   ]
  },
  {
   "cell_type": "code",
   "execution_count": null,
   "metadata": {},
   "outputs": [],
   "source": [
    "plt.bar(*zip(*countries_highestRecByDay[0:10]), color=(0.4, 0.3, 0.2, 0.1), edgecolor='green')\n",
    "countries_highestRecByDay[0:10]"
   ]
  },
  {
   "cell_type": "markdown",
   "metadata": {},
   "source": [
    "### 3.1 More about the ratio of new Recovered last day/ Population of above top 10 countries (%)"
   ]
  },
  {
   "cell_type": "code",
   "execution_count": null,
   "metadata": {},
   "outputs": [],
   "source": [
    "plt.title(\"Ratio new RECOVERED last day/ population\")\n",
    "plt.bar(*zip(*topRecLastDayRatioPop), color=(0.4, 0.3, 0.2, 0.1), edgecolor='green')\n",
    "print(\"Country -- Ratio New Recovered last day over population -- Population of 10 countries\")\n",
    "topRecPopulation"
   ]
  },
  {
   "cell_type": "markdown",
   "metadata": {},
   "source": [
    "### 3.2 More about the ratio of total Recovered/ Population of above countries (%)"
   ]
  },
  {
   "cell_type": "code",
   "execution_count": null,
   "metadata": {},
   "outputs": [],
   "source": [
    "plt.title(\"Ratio of Total Recovered/ Population\")\n",
    "topRecPopRatio = [(country[0], round(y_dat_ratioRecPop[country[0]], 3)) for country in topRecCountryPop]\n",
    "plt.bar(*zip(*topRecPopRatio), color=(0.4, 0.3, 0.2, 0.1), edgecolor='green')\n",
    "topRecPopRatio"
   ]
  },
  {
   "cell_type": "markdown",
   "metadata": {},
   "source": [
    "### 3.3 More about the ratio of total Recovered/ Total Confirmed of above top 10 countries (%)"
   ]
  },
  {
   "cell_type": "code",
   "execution_count": null,
   "metadata": {},
   "outputs": [],
   "source": [
    "plt.title(\"Ratio of Total RECOVERED/ Total Confirmed\")\n",
    "topRecConfirmRatio = [(country[0], round(y_dat_ratioRecConf[country[0]], 2)) for country in countries_highestRecByDay[0:10]]\n",
    "plt.bar(*zip(*topRecConfirmRatio), color=(0.4, 0.3, 0.2, 0.1), edgecolor='green')\n",
    "topRecConfirmRatio"
   ]
  }
 ],
 "metadata": {
  "hide_input": false,
  "kernelspec": {
   "display_name": "Python [conda env:.conda-aic]",
   "language": "python",
   "name": "conda-env-.conda-aic-py"
  },
  "language_info": {
   "codemirror_mode": {
    "name": "ipython",
    "version": 3
   },
   "file_extension": ".py",
   "mimetype": "text/x-python",
   "name": "python",
   "nbconvert_exporter": "python",
   "pygments_lexer": "ipython3",
   "version": "3.7.6"
  }
 },
 "nbformat": 4,
 "nbformat_minor": 4
}
