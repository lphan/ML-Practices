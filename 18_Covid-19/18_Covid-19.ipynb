{
 "cells": [
  {
   "cell_type": "markdown",
   "metadata": {},
   "source": [
    "### COVID-19 \n",
    "### UPDATE by DAY in the countries: CHINA, GERMANY, ITALY, KOREA, JAPAN, USA, AUSTRALIA\n",
    "#### (Start recorded day: 22.01.2020)"
   ]
  },
  {
   "cell_type": "code",
   "execution_count": null,
   "metadata": {},
   "outputs": [],
   "source": [
    "# Configuration: setup absolute path to location of package Starts and config-file \n",
    "from inspect import getsourcefile\n",
    "import os.path as path, sys\n",
    "current_dir = path.dirname(path.abspath(getsourcefile(lambda:0)))\n",
    "sys.path.insert(0, current_dir[:current_dir.rfind(path.sep)])\n",
    "\n",
    "from Starts.start import *\n",
    "from Starts.startml import *\n",
    "from Starts.startvis import *  \n",
    "%matplotlib inline\n",
    "rcParams['figure.figsize'] = 20, 6"
   ]
  },
  {
   "cell_type": "markdown",
   "metadata": {},
   "source": [
    "### Number of covid-19 outbreak days "
   ]
  },
  {
   "cell_type": "code",
   "execution_count": null,
   "metadata": {},
   "outputs": [],
   "source": [
    "from covid import *\n",
    "len(data)"
   ]
  },
  {
   "cell_type": "markdown",
   "metadata": {},
   "source": [
    "### Number of the infected countries in the first outbreak day"
   ]
  },
  {
   "cell_type": "code",
   "execution_count": null,
   "metadata": {},
   "outputs": [],
   "source": [
    "infected_countries_earliest, num_infected_countries[0]"
   ]
  },
  {
   "cell_type": "markdown",
   "metadata": {},
   "source": [
    "### Number of the infected countries in the latest outbreak day"
   ]
  },
  {
   "cell_type": "code",
   "execution_count": null,
   "metadata": {},
   "outputs": [],
   "source": [
    "infected_countries_latest, num_infected_countries[-1]"
   ]
  },
  {
   "cell_type": "markdown",
   "metadata": {},
   "source": [
    "### Number of the infected countries changed by day"
   ]
  },
  {
   "cell_type": "code",
   "execution_count": null,
   "metadata": {},
   "outputs": [],
   "source": [
    "plt.xticks(np.arange(0, max(x_dat)+1, 5))\n",
    "plt.bar(x_dat, num_infected_countries, color='orange')\n",
    "plt.xlabel('Days')\n",
    "plt.ylabel('Number of countries')\n",
    "('Increasing', num_infected_countries[-1]-num_infected_countries[-2])"
   ]
  },
  {
   "cell_type": "code",
   "execution_count": null,
   "metadata": {},
   "outputs": [],
   "source": [
    "plt.plot(x_dat, np.log(num_infected_countries), color='orange', label=\"New Cases by day in log_values\")\n",
    "plt.xlabel('Days')\n",
    "plt.ylabel('Number of countries in log_values')"
   ]
  },
  {
   "cell_type": "markdown",
   "metadata": {},
   "source": [
    "### New cases in the World changed by day"
   ]
  },
  {
   "cell_type": "code",
   "execution_count": null,
   "metadata": {},
   "outputs": [],
   "source": [
    "plt.xticks(np.arange(0, max(x_dat)+1, 5))\n",
    "plt.bar(x_dat, newCasesByDay, color='orange', label='confirmed cases')\n",
    "plt.xlabel('Days')\n",
    "plt.ylabel('New Infected cases')\n",
    "plt.legend()\n",
    "print('Last day Increasing', totalconfirmed_by_day[-1]-totalconfirmed_by_day[-2])\n",
    "ax = sns.regplot(x=x_dat, y=newCasesByDay, ci=95, label=\"regplot linear regression line\", color='red')\n",
    "ax.legend(loc=\"best\")"
   ]
  },
  {
   "cell_type": "code",
   "execution_count": null,
   "metadata": {},
   "outputs": [],
   "source": [
    "plt.plot(x_dat, np.log(newCasesByDay), color='orange', label='confirmed cases in log_Values')\n",
    "plt.xlabel('Days')\n",
    "plt.ylabel('New Infected cases')\n",
    "plt.legend()"
   ]
  },
  {
   "cell_type": "markdown",
   "metadata": {},
   "source": [
    "### Total CONFIRMED_vs_RECOVERED_vs_FATALITIES cases in the World changed by day"
   ]
  },
  {
   "cell_type": "code",
   "execution_count": null,
   "metadata": {},
   "outputs": [],
   "source": [
    "plt.xticks(np.arange(0, max(x_dat)+1, 5))\n",
    "plt.bar(x_dat, totalconfirmed_by_day, color='orange', label='Confirmed')\n",
    "plt.bar(x_dat, totalrecovered_by_day, color='green', label='Recovered')\n",
    "plt.bar(x_dat, totalfatalities_by_day, color='red', label='Fatality')\n",
    "plt.xlabel('Days')\n",
    "plt.ylabel('Infected cases')\n",
    "plt.legend()\n",
    "('Total Confirmed', totalconfirmed_by_day[-1]), ('Total Recovered', totalrecovered_by_day[-1]), ('Total Fatalities', totalfatalities_by_day[-1]), ('Remaining', totalconfirmed_by_day[-1]-totalrecovered_by_day[-1]-totalfatalities_by_day[-1])"
   ]
  },
  {
   "cell_type": "code",
   "execution_count": null,
   "metadata": {},
   "outputs": [],
   "source": [
    "plt.plot(x_dat, np.log(totalconfirmed_by_day), color='orange', label='Confirmed in log_Values')\n",
    "plt.xlabel('Days')\n",
    "plt.ylabel('Infected cases')\n",
    "plt.legend()"
   ]
  },
  {
   "cell_type": "markdown",
   "metadata": {},
   "source": [
    "### Number of infected cases changed by day in the countries\n",
    "### China, Germany, Italy, South Korea, Japan, US, Australia"
   ]
  },
  {
   "cell_type": "code",
   "execution_count": null,
   "metadata": {},
   "outputs": [],
   "source": [
    "# y_dat = [y_dat_cn, y_dat_de, y_dat_it, y_dat_kr, y_dat_jp, y_dat_us, y_dat_au]\n",
    "y_dat = [y_dat_confirmed['China'], y_dat_confirmed['Germany'], y_dat_confirmed['Italy'], y_dat_confirmed['Korea, South'], \n",
    "         y_dat_confirmed['Japan'], y_dat_confirmed['US'], y_dat_confirmed['Australia'], y_dat_confirmed['Vietnam']]\n",
    "\n",
    "for y in y_dat:\n",
    "    plt.plot(x_dat, y)\n",
    "\n",
    "plt.xticks(np.arange(0, max(x_dat)+1, 5))\n",
    "plt.xlabel('Days')\n",
    "plt.ylabel('Infected cases')\n",
    "plt.legend([\"China\", \"Germany\", \"Italy\", \"Korea\", \"Japan\", \"US\", \"Australia\", \"Vietnam\"])\n",
    "\n",
    "print(\"NUMBER OF INFECTED CASES IN THE FIRST DAY in the following countries: \\n\")\n",
    "print(\"China: \", StartML.searchByValue(data[0], try_keys=['Country_Region', 'Country/Region'], value='China').shape[0])\n",
    "print(\"Germany: \", StartML.searchByValue(data[0], try_keys=['Country_Region', 'Country/Region'], value='Germany').shape[0])\n",
    "print(\"Italy: \", StartML.searchByValue(data[0], try_keys=['Country_Region', 'Country/Region'], value='Italy').shape[0])\n",
    "print(\"Korea: \", StartML.searchByValue(data[0], try_keys=['Country_Region', 'Country/Region'], value='Korea').shape[0])\n",
    "print(\"Japan: \", StartML.searchByValue(data[0], try_keys=['Country_Region', 'Country/Region'], value='Japan').shape[0])\n",
    "print(\"USA: \", StartML.searchByValue(data[0], try_keys=['Country_Region', 'Country/Region'], value='US').shape[0])\n",
    "print(\"Australia: \", StartML.searchByValue(data[0], try_keys=['Country_Region', 'Country/Region'], value='Australia').shape[0])\n",
    "print(\"Vietnam: \", StartML.searchByValue(data[0], try_keys=['Country_Region', 'Country/Region'], value='Vietnam').shape[0])"
   ]
  },
  {
   "cell_type": "markdown",
   "metadata": {},
   "source": [
    "### Number of CONFIRMED_vs_RECOVERED cases changed by day in China"
   ]
  },
  {
   "cell_type": "code",
   "execution_count": null,
   "metadata": {},
   "outputs": [],
   "source": [
    "country = 'China'\n",
    "plt.xticks(np.arange(0, max(x_dat)+1, 5))\n",
    "plt.bar(x_dat, y_dat_confirmed[country], color='orange', label='Confirmed')\n",
    "plt.bar(x_dat, y_dat_recovered[country], color='green', label='Recovered')\n",
    "plt.bar(x_dat, y_dat_deaths[country], color='red', label='Fatality')\n",
    "plt.legend()\n",
    "('Last day Increasing', y_dat_confirmed[country][-1]-y_dat_confirmed[country][-2]), ('Confirmed', y_dat_confirmed[country][-1]), ('Recovered', y_dat_recovered[country][-1]), ('Fatalities', y_dat_deaths[country][-1]), ('Remaining', y_dat_confirmed[country][-1]-y_dat_recovered[country][-1]-y_dat_deaths[country][-1])"
   ]
  },
  {
   "cell_type": "markdown",
   "metadata": {},
   "source": [
    "### Number of CONFIRMED_vs_RECOVERED cases changed by day in Germany"
   ]
  },
  {
   "cell_type": "code",
   "execution_count": null,
   "metadata": {},
   "outputs": [],
   "source": [
    "country = 'Germany'\n",
    "plt.xticks(np.arange(0, max(x_dat)+1, 5))\n",
    "plt.bar(x_dat, y_dat_confirmed[country], color='orange', label='Confirmed')\n",
    "plt.bar(x_dat, y_dat_recovered[country], color='green', label='Recovered')\n",
    "plt.bar(x_dat, y_dat_deaths[country], color='red', label='Fatality')\n",
    "plt.legend()\n",
    "('Last day Increasing', y_dat_confirmed[country][-1]-y_dat_confirmed[country][-2]), ('Confirmed', y_dat_confirmed[country][-1]), ('Recovered', y_dat_recovered[country][-1]), ('Fatalities', y_dat_deaths[country][-1]), ('Remaining', y_dat_confirmed[country][-1]-y_dat_recovered[country][-1]-y_dat_deaths[country][-1])"
   ]
  },
  {
   "cell_type": "markdown",
   "metadata": {},
   "source": [
    "### Number of CONFIRMED_vs_RECOVERED cases changed by day in Italy"
   ]
  },
  {
   "cell_type": "code",
   "execution_count": null,
   "metadata": {},
   "outputs": [],
   "source": [
    "country = 'Italy'\n",
    "plt.xticks(np.arange(0, max(x_dat)+1, 5))\n",
    "plt.bar(x_dat, y_dat_confirmed[country], color='orange', label='Confirmed')\n",
    "plt.bar(x_dat, y_dat_recovered[country], color='green', label='Recovered')\n",
    "plt.bar(x_dat, y_dat_deaths[country], color='red', label='Fatality')\n",
    "plt.legend()\n",
    "('Last day Increasing', y_dat_confirmed[country][-1]-y_dat_confirmed[country][-2]), ('Confirmed', y_dat_confirmed[country][-1]), ('Recovered', y_dat_recovered[country][-1]), ('Fatalities', y_dat_deaths[country][-1]), ('Remaining', y_dat_confirmed[country][-1]-y_dat_recovered[country][-1]-y_dat_deaths[country][-1])"
   ]
  },
  {
   "cell_type": "markdown",
   "metadata": {},
   "source": [
    "### Number of CONFIRMED_vs_RECOVERED cases changed by day in South Korea"
   ]
  },
  {
   "cell_type": "code",
   "execution_count": null,
   "metadata": {},
   "outputs": [],
   "source": [
    "country = 'Korea, South'\n",
    "plt.xticks(np.arange(0, max(x_dat)+1, 5))\n",
    "plt.bar(x_dat, y_dat_confirmed[country], color='orange', label='Confirmed')\n",
    "plt.bar(x_dat, y_dat_recovered[country], color='green', label='Recovered')\n",
    "plt.bar(x_dat, y_dat_deaths[country], color='red', label='Fatality')\n",
    "plt.legend()\n",
    "('Last day Increasing', y_dat_confirmed[country][-1]-y_dat_confirmed[country][-2]), ('Confirmed', y_dat_confirmed[country][-1]), ('Recovered', y_dat_recovered[country][-1]), ('Fatalities', y_dat_deaths[country][-1]), ('Remaining', y_dat_confirmed[country][-1]-y_dat_recovered[country][-1]-y_dat_deaths[country][-1])"
   ]
  },
  {
   "cell_type": "markdown",
   "metadata": {},
   "source": [
    "### Number of CONFIRMED_vs_RECOVERED cases changed by day in Japan"
   ]
  },
  {
   "cell_type": "code",
   "execution_count": null,
   "metadata": {},
   "outputs": [],
   "source": [
    "country = 'Japan'\n",
    "plt.xticks(np.arange(0, max(x_dat)+1, 5))\n",
    "plt.bar(x_dat, y_dat_confirmed[country], color='orange', label='Confirmed')\n",
    "plt.bar(x_dat, y_dat_recovered[country], color='green', label='Recovered')\n",
    "plt.bar(x_dat, y_dat_deaths[country], color='red', label='Fatality')\n",
    "plt.legend()\n",
    "('Last day Increasing', y_dat_confirmed[country][-1]-y_dat_confirmed[country][-2]), ('Confirmed', y_dat_confirmed[country][-1]), ('Recovered', y_dat_recovered[country][-1]), ('Fatalities', y_dat_deaths[country][-1]), ('Remaining', y_dat_confirmed[country][-1]-y_dat_recovered[country][-1]-y_dat_deaths[country][-1])"
   ]
  },
  {
   "cell_type": "markdown",
   "metadata": {},
   "source": [
    "### Number of CONFIRMED_vs_RECOVERED cases changed by day in the USA"
   ]
  },
  {
   "cell_type": "code",
   "execution_count": null,
   "metadata": {},
   "outputs": [],
   "source": [
    "country = 'US'\n",
    "plt.xticks(np.arange(0, max(x_dat)+1, 5))\n",
    "plt.bar(x_dat, y_dat_confirmed[country], color='orange', label='Confirmed')\n",
    "plt.bar(x_dat, y_dat_recovered[country], color='green', label='Recovered')\n",
    "plt.bar(x_dat, y_dat_deaths[country], color='red', label='Fatality')\n",
    "plt.legend()\n",
    "('Last day Increasing', y_dat_confirmed[country][-1]-y_dat_confirmed[country][-2]), ('Confirmed', y_dat_confirmed[country][-1]), ('Recovered', y_dat_recovered[country][-1]), ('Fatalities', y_dat_deaths[country][-1]), ('Remaining', y_dat_confirmed[country][-1]-y_dat_recovered[country][-1]-y_dat_deaths[country][-1])"
   ]
  },
  {
   "cell_type": "markdown",
   "metadata": {},
   "source": [
    "### Number of CONFIRMED_vs_RECOVERED cases changed by day in the Australia"
   ]
  },
  {
   "cell_type": "code",
   "execution_count": null,
   "metadata": {},
   "outputs": [],
   "source": [
    "country = 'Australia'\n",
    "plt.xticks(np.arange(0, max(x_dat)+1, 5))\n",
    "plt.bar(x_dat, y_dat_confirmed[country], color='orange', label='Confirmed')\n",
    "plt.bar(x_dat, y_dat_recovered[country], color='green', label='Recovered')\n",
    "plt.bar(x_dat, y_dat_deaths[country], color='red', label='Fatality')\n",
    "plt.legend()\n",
    "('Last day Increasing', y_dat_confirmed[country][-1]-y_dat_confirmed[country][-2]), ('Confirmed', y_dat_confirmed[country][-1]), ('Recovered', y_dat_recovered[country][-1]), ('Fatalities', y_dat_deaths[country][-1]), ('Remaining', y_dat_confirmed[country][-1]-y_dat_recovered[country][-1]-y_dat_deaths[country][-1])"
   ]
  },
  {
   "cell_type": "code",
   "execution_count": null,
   "metadata": {},
   "outputs": [],
   "source": [
    "country = 'Luxembourg'\n",
    "plt.xticks(np.arange(0, max(x_dat)+1, 5))\n",
    "plt.bar(x_dat, y_dat_confirmed[country], color='orange', label='Confirmed')\n",
    "plt.bar(x_dat, y_dat_recovered[country], color='green', label='Recovered')\n",
    "plt.bar(x_dat, y_dat_deaths[country], color='red', label='Fatality')\n",
    "plt.legend()\n",
    "('Last day Increasing', y_dat_confirmed[country][-1]-y_dat_confirmed[country][-2]), ('Confirmed', y_dat_confirmed[country][-1]), ('Recovered', y_dat_recovered[country][-1]), ('Fatalities', y_dat_deaths[country][-1]), ('Remaining', y_dat_confirmed[country][-1]-y_dat_recovered[country][-1]-y_dat_deaths[country][-1])"
   ]
  },
  {
   "cell_type": "code",
   "execution_count": null,
   "metadata": {},
   "outputs": [],
   "source": [
    "country = 'Vietnam'\n",
    "plt.xticks(np.arange(0, max(x_dat)+1, 5))\n",
    "plt.bar(x_dat, y_dat_confirmed[country], color='orange', label='Confirmed')\n",
    "plt.bar(x_dat, y_dat_recovered[country], color='green', label='Recovered')\n",
    "plt.bar(x_dat, y_dat_deaths[country], color='red', label='Fatality')\n",
    "plt.legend()\n",
    "('Last day Increasing', y_dat_confirmed[country][-1]-y_dat_confirmed[country][-2]), ('Confirmed', y_dat_confirmed[country][-1]), ('Recovered', y_dat_recovered[country][-1]), ('Fatalities', y_dat_deaths[country][-1]), ('Remaining', y_dat_confirmed[country][-1]-y_dat_recovered[country][-1]-y_dat_deaths[country][-1])"
   ]
  },
  {
   "cell_type": "markdown",
   "metadata": {},
   "source": [
    "### By observing the above information and the charts, there are some highlights\n",
    "#### - Day 0 (22.01.2020): there were only 8 countries involved, and after 38 days, this number is increasing up to 63 countries (stand: 29.02.2020)\n",
    "#### - Day 20 (10.02.2020): there was an increasing change in China,\n",
    "#### - Day 24-25 (15.02.2020): there were increasing changes in Japan, 5 days later (day 30) (20.02.2020) the similar increasing changes in South Korea and in Italy, and 5 days later (day 35) (25.02.2020) in Germany.\n"
   ]
  }
 ],
 "metadata": {
  "hide_input": false,
  "kernelspec": {
   "display_name": "Python [conda env:.conda-aic]",
   "language": "python",
   "name": "conda-env-.conda-aic-py"
  },
  "language_info": {
   "codemirror_mode": {
    "name": "ipython",
    "version": 3
   },
   "file_extension": ".py",
   "mimetype": "text/x-python",
   "name": "python",
   "nbconvert_exporter": "python",
   "pygments_lexer": "ipython3",
   "version": "3.7.6"
  }
 },
 "nbformat": 4,
 "nbformat_minor": 4
}
