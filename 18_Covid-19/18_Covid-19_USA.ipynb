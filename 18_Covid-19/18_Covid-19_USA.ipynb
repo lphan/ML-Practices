{
 "cells": [
  {
   "cell_type": "code",
   "execution_count": 1,
   "metadata": {},
   "outputs": [
    {
     "name": "stdout",
     "output_type": "stream",
     "text": [
      "Start importing World-data  ./COVID-19/csse_covid_19_data/csse_covid_19_daily_reports/\n",
      "Start importing USA-data  ./COVID-19/csse_covid_19_data/csse_covid_19_daily_reports_us/\n",
      "Start importing single data  ./COVID-19/csse_covid_19_data/UID_ISO_FIPS_LookUp_Table.csv\n",
      "Start importing single data  ./COVID-19/csse_covid_19_data/csse_covid_19_time_series/time_series_covid19_confirmed_global.csv\n",
      "Start importing single data  ./COVID-19/csse_covid_19_data/csse_covid_19_time_series/time_series_covid19_deaths_global.csv\n",
      "Start importing single data  ./COVID-19/csse_covid_19_data/csse_covid_19_time_series/time_series_covid19_recovered_global.csv\n"
     ]
    }
   ],
   "source": [
    "from covid_import import *\n",
    "%matplotlib inline"
   ]
  },
  {
   "cell_type": "code",
   "execution_count": 16,
   "metadata": {},
   "outputs": [
    {
     "data": {
      "text/plain": [
       "272"
      ]
     },
     "execution_count": 16,
     "metadata": {},
     "output_type": "execute_result"
    }
   ],
   "source": [
    "rcParams['figure.figsize'] = 20, 6\n",
    "len(data_us)"
   ]
  },
  {
   "cell_type": "markdown",
   "metadata": {},
   "source": [
    "### Update Data in USA changed from 12.04.2020"
   ]
  },
  {
   "cell_type": "code",
   "execution_count": 5,
   "metadata": {},
   "outputs": [
    {
     "data": {
      "text/plain": [
       "'2021-01-09 05:30:45'"
      ]
     },
     "execution_count": 5,
     "metadata": {},
     "output_type": "execute_result"
    }
   ],
   "source": [
    "# data = [data_us[i].fillna(0) for i in range(len(data_us))]\n",
    "data_date = np.unique(data_us[-1]['Last_Update'])[0]\n",
    "data_date"
   ]
  },
  {
   "cell_type": "code",
   "execution_count": 9,
   "metadata": {},
   "outputs": [
    {
     "name": "stdout",
     "output_type": "stream",
     "text": [
      "Total Confirmed:  21862773\n",
      "Total Fatalities:  368773\n",
      "Total Recovered:  8662589.0\n",
      "Remaining:  12831411.0\n"
     ]
    },
    {
     "data": {
      "image/png": "[encoded data removed]",
      "text/plain": [
       "<Figure size 1440x432 with 1 Axes>"
      ]
     },
     "metadata": {
      "needs_background": "light"
     },
     "output_type": "display_data"
    }
   ],
   "source": [
    "total_confirmed_us = [sum(data_us[i]['Confirmed']) for i in range(len(data_us))]\n",
    "total_fatalities_us = [sum(data_us[i]['Deaths']) for i in range(len(data_us))]\n",
    "total_recovered_us = [sum(data_us[i]['Recovered']) for i in range(len(data_us))]\n",
    "\n",
    "plt.bar(np.arange(len(data_us)), total_confirmed_us, color='orange')\n",
    "plt.bar(np.arange(len(data_us)), total_fatalities_us, color='red')\n",
    "plt.bar(np.arange(len(data_us)), total_recovered_us, color='green')\n",
    "plt.title(\"Total Confirmed/Deaths/Recovered cases at day %s \"% data_date)\n",
    "plt.xlabel(\"Day 0 start at day %s\"%files_us[0])\n",
    "plt.ylabel(\"Total Number of Confirmed/ Deaths/ Recovered Cases by day\")\n",
    "\n",
    "print(\"Total Confirmed: \", total_confirmed_us[-1])\n",
    "print(\"Total Fatalities: \", total_fatalities_us[-1])\n",
    "print(\"Total Recovered: \", total_recovered_us[-1])\n",
    "print(\"Remaining: \", total_confirmed_us[-1]-total_fatalities_us[-1]-total_recovered_us[-1])"
   ]
  },
  {
   "cell_type": "code",
   "execution_count": 10,
   "metadata": {},
   "outputs": [
    {
     "data": {
      "text/html": [
       "<div>\n",
       "<style scoped>\n",
       "    .dataframe tbody tr th:only-of-type {\n",
       "        vertical-align: middle;\n",
       "    }\n",
       "\n",
       "    .dataframe tbody tr th {\n",
       "        vertical-align: top;\n",
       "    }\n",
       "\n",
       "    .dataframe thead th {\n",
       "        text-align: right;\n",
       "    }\n",
       "</style>\n",
       "<table border=\"1\" class=\"dataframe\">\n",
       "  <thead>\n",
       "    <tr style=\"text-align: right;\">\n",
       "      <th></th>\n",
       "      <th>Province_State</th>\n",
       "      <th>Country_Region</th>\n",
       "      <th>Last_Update</th>\n",
       "      <th>Lat</th>\n",
       "      <th>Long_</th>\n",
       "      <th>Confirmed</th>\n",
       "      <th>Deaths</th>\n",
       "      <th>Recovered</th>\n",
       "      <th>Active</th>\n",
       "      <th>FIPS</th>\n",
       "      <th>Incident_Rate</th>\n",
       "      <th>Total_Test_Results</th>\n",
       "      <th>People_Hospitalized</th>\n",
       "      <th>Case_Fatality_Ratio</th>\n",
       "      <th>UID</th>\n",
       "      <th>ISO3</th>\n",
       "      <th>Testing_Rate</th>\n",
       "      <th>Hospitalization_Rate</th>\n",
       "    </tr>\n",
       "  </thead>\n",
       "  <tbody>\n",
       "    <tr>\n",
       "      <th>0</th>\n",
       "      <td>Alabama</td>\n",
       "      <td>US</td>\n",
       "      <td>2021-01-09 05:30:45</td>\n",
       "      <td>32.3182</td>\n",
       "      <td>-86.9023</td>\n",
       "      <td>394287</td>\n",
       "      <td>5191</td>\n",
       "      <td>211684.0</td>\n",
       "      <td>177412.0</td>\n",
       "      <td>1.0</td>\n",
       "      <td>8041.446529</td>\n",
       "      <td>1944233.0</td>\n",
       "      <td>0.0</td>\n",
       "      <td>1.316554</td>\n",
       "      <td>84000001.0</td>\n",
       "      <td>USA</td>\n",
       "      <td>39652.450397</td>\n",
       "      <td>0.0</td>\n",
       "    </tr>\n",
       "    <tr>\n",
       "      <th>1</th>\n",
       "      <td>Alaska</td>\n",
       "      <td>US</td>\n",
       "      <td>2021-01-09 05:30:45</td>\n",
       "      <td>61.3707</td>\n",
       "      <td>-152.4044</td>\n",
       "      <td>49639</td>\n",
       "      <td>223</td>\n",
       "      <td>7165.0</td>\n",
       "      <td>42251.0</td>\n",
       "      <td>2.0</td>\n",
       "      <td>6785.501917</td>\n",
       "      <td>1337749.0</td>\n",
       "      <td>0.0</td>\n",
       "      <td>0.449244</td>\n",
       "      <td>84000002.0</td>\n",
       "      <td>USA</td>\n",
       "      <td>182866.262499</td>\n",
       "      <td>0.0</td>\n",
       "    </tr>\n",
       "    <tr>\n",
       "      <th>2</th>\n",
       "      <td>American Samoa</td>\n",
       "      <td>US</td>\n",
       "      <td>2021-01-09 05:30:45</td>\n",
       "      <td>-14.2710</td>\n",
       "      <td>-170.1320</td>\n",
       "      <td>0</td>\n",
       "      <td>0</td>\n",
       "      <td>0.0</td>\n",
       "      <td>0.0</td>\n",
       "      <td>60.0</td>\n",
       "      <td>0.000000</td>\n",
       "      <td>2140.0</td>\n",
       "      <td>0.0</td>\n",
       "      <td>0.000000</td>\n",
       "      <td>16.0</td>\n",
       "      <td>ASM</td>\n",
       "      <td>3846.084722</td>\n",
       "      <td>0.0</td>\n",
       "    </tr>\n",
       "    <tr>\n",
       "      <th>3</th>\n",
       "      <td>Arizona</td>\n",
       "      <td>US</td>\n",
       "      <td>2021-01-09 05:30:45</td>\n",
       "      <td>33.7298</td>\n",
       "      <td>-111.4312</td>\n",
       "      <td>596251</td>\n",
       "      <td>9938</td>\n",
       "      <td>83095.0</td>\n",
       "      <td>503218.0</td>\n",
       "      <td>4.0</td>\n",
       "      <td>8191.704664</td>\n",
       "      <td>3017154.0</td>\n",
       "      <td>0.0</td>\n",
       "      <td>1.666748</td>\n",
       "      <td>84000004.0</td>\n",
       "      <td>USA</td>\n",
       "      <td>41451.728375</td>\n",
       "      <td>0.0</td>\n",
       "    </tr>\n",
       "    <tr>\n",
       "      <th>4</th>\n",
       "      <td>Arkansas</td>\n",
       "      <td>US</td>\n",
       "      <td>2021-01-09 05:30:45</td>\n",
       "      <td>34.9697</td>\n",
       "      <td>-92.3731</td>\n",
       "      <td>248860</td>\n",
       "      <td>3966</td>\n",
       "      <td>217578.0</td>\n",
       "      <td>27316.0</td>\n",
       "      <td>5.0</td>\n",
       "      <td>8246.393735</td>\n",
       "      <td>2142739.0</td>\n",
       "      <td>0.0</td>\n",
       "      <td>1.593667</td>\n",
       "      <td>84000005.0</td>\n",
       "      <td>USA</td>\n",
       "      <td>71003.252696</td>\n",
       "      <td>0.0</td>\n",
       "    </tr>\n",
       "  </tbody>\n",
       "</table>\n",
       "</div>"
      ],
      "text/plain": [
       "   Province_State Country_Region          Last_Update      Lat     Long_  \\\n",
       "0         Alabama             US  2021-01-09 05:30:45  32.3182  -86.9023   \n",
       "1          Alaska             US  2021-01-09 05:30:45  61.3707 -152.4044   \n",
       "2  American Samoa             US  2021-01-09 05:30:45 -14.2710 -170.1320   \n",
       "3         Arizona             US  2021-01-09 05:30:45  33.7298 -111.4312   \n",
       "4        Arkansas             US  2021-01-09 05:30:45  34.9697  -92.3731   \n",
       "\n",
       "   Confirmed  Deaths  Recovered    Active  FIPS  Incident_Rate  \\\n",
       "0     394287    5191   211684.0  177412.0   1.0    8041.446529   \n",
       "1      49639     223     7165.0   42251.0   2.0    6785.501917   \n",
       "2          0       0        0.0       0.0  60.0       0.000000   \n",
       "3     596251    9938    83095.0  503218.0   4.0    8191.704664   \n",
       "4     248860    3966   217578.0   27316.0   5.0    8246.393735   \n",
       "\n",
       "   Total_Test_Results  People_Hospitalized  Case_Fatality_Ratio         UID  \\\n",
       "0           1944233.0                  0.0             1.316554  84000001.0   \n",
       "1           1337749.0                  0.0             0.449244  84000002.0   \n",
       "2              2140.0                  0.0             0.000000        16.0   \n",
       "3           3017154.0                  0.0             1.666748  84000004.0   \n",
       "4           2142739.0                  0.0             1.593667  84000005.0   \n",
       "\n",
       "  ISO3   Testing_Rate  Hospitalization_Rate  \n",
       "0  USA   39652.450397                   0.0  \n",
       "1  USA  182866.262499                   0.0  \n",
       "2  ASM    3846.084722                   0.0  \n",
       "3  USA   41451.728375                   0.0  \n",
       "4  USA   71003.252696                   0.0  "
      ]
     },
     "execution_count": 10,
     "metadata": {},
     "output_type": "execute_result"
    }
   ],
   "source": [
    "data_us[-1].head()"
   ]
  },
  {
   "cell_type": "code",
   "execution_count": 12,
   "metadata": {},
   "outputs": [
    {
     "data": {
      "text/html": [
       "<div>\n",
       "<style scoped>\n",
       "    .dataframe tbody tr th:only-of-type {\n",
       "        vertical-align: middle;\n",
       "    }\n",
       "\n",
       "    .dataframe tbody tr th {\n",
       "        vertical-align: top;\n",
       "    }\n",
       "\n",
       "    .dataframe thead th {\n",
       "        text-align: right;\n",
       "    }\n",
       "</style>\n",
       "<table border=\"1\" class=\"dataframe\">\n",
       "  <thead>\n",
       "    <tr style=\"text-align: right;\">\n",
       "      <th></th>\n",
       "      <th>Confirmed</th>\n",
       "    </tr>\n",
       "    <tr>\n",
       "      <th>Province_State</th>\n",
       "      <th></th>\n",
       "    </tr>\n",
       "  </thead>\n",
       "  <tbody>\n",
       "    <tr>\n",
       "      <th>California</th>\n",
       "      <td>2619829</td>\n",
       "    </tr>\n",
       "    <tr>\n",
       "      <th>Texas</th>\n",
       "      <td>1923399</td>\n",
       "    </tr>\n",
       "    <tr>\n",
       "      <th>Florida</th>\n",
       "      <td>1449252</td>\n",
       "    </tr>\n",
       "    <tr>\n",
       "      <th>New York</th>\n",
       "      <td>1101445</td>\n",
       "    </tr>\n",
       "    <tr>\n",
       "      <th>Illinois</th>\n",
       "      <td>1017322</td>\n",
       "    </tr>\n",
       "    <tr>\n",
       "      <th>Ohio</th>\n",
       "      <td>762603</td>\n",
       "    </tr>\n",
       "    <tr>\n",
       "      <th>Georgia</th>\n",
       "      <td>736926</td>\n",
       "    </tr>\n",
       "    <tr>\n",
       "      <th>Pennsylvania</th>\n",
       "      <td>708221</td>\n",
       "    </tr>\n",
       "    <tr>\n",
       "      <th>Tennessee</th>\n",
       "      <td>640606</td>\n",
       "    </tr>\n",
       "    <tr>\n",
       "      <th>North Carolina</th>\n",
       "      <td>602774</td>\n",
       "    </tr>\n",
       "  </tbody>\n",
       "</table>\n",
       "</div>"
      ],
      "text/plain": [
       "                Confirmed\n",
       "Province_State           \n",
       "California        2619829\n",
       "Texas             1923399\n",
       "Florida           1449252\n",
       "New York          1101445\n",
       "Illinois          1017322\n",
       "Ohio               762603\n",
       "Georgia            736926\n",
       "Pennsylvania       708221\n",
       "Tennessee          640606\n",
       "North Carolina     602774"
      ]
     },
     "execution_count": 12,
     "metadata": {},
     "output_type": "execute_result"
    },
    {
     "data": {
      "image/png": "[encoded data removed]",
      "text/plain": [
       "<Figure size 1440x432 with 1 Axes>"
      ]
     },
     "metadata": {
      "needs_background": "light"
     },
     "output_type": "display_data"
    }
   ],
   "source": [
    "# Confirmed\n",
    "data_us[-1].sort_values('Confirmed', ascending=False).head(10)[['Province_State', 'Confirmed']].set_index(keys=['Province_State']).plot(kind='bar', color='orange', rot=0)\n",
    "data_us[-1].sort_values('Confirmed', ascending=False).head(10)[['Province_State', 'Confirmed']].set_index(keys=['Province_State'])"
   ]
  },
  {
   "cell_type": "code",
   "execution_count": 13,
   "metadata": {},
   "outputs": [
    {
     "data": {
      "text/html": [
       "<div>\n",
       "<style scoped>\n",
       "    .dataframe tbody tr th:only-of-type {\n",
       "        vertical-align: middle;\n",
       "    }\n",
       "\n",
       "    .dataframe tbody tr th {\n",
       "        vertical-align: top;\n",
       "    }\n",
       "\n",
       "    .dataframe thead th {\n",
       "        text-align: right;\n",
       "    }\n",
       "</style>\n",
       "<table border=\"1\" class=\"dataframe\">\n",
       "  <thead>\n",
       "    <tr style=\"text-align: right;\">\n",
       "      <th></th>\n",
       "      <th>Deaths</th>\n",
       "    </tr>\n",
       "    <tr>\n",
       "      <th>Province_State</th>\n",
       "      <th></th>\n",
       "    </tr>\n",
       "  </thead>\n",
       "  <tbody>\n",
       "    <tr>\n",
       "      <th>New York</th>\n",
       "      <td>39282</td>\n",
       "    </tr>\n",
       "    <tr>\n",
       "      <th>Texas</th>\n",
       "      <td>29645</td>\n",
       "    </tr>\n",
       "    <tr>\n",
       "      <th>California</th>\n",
       "      <td>29106</td>\n",
       "    </tr>\n",
       "    <tr>\n",
       "      <th>Florida</th>\n",
       "      <td>22666</td>\n",
       "    </tr>\n",
       "    <tr>\n",
       "      <th>New Jersey</th>\n",
       "      <td>19756</td>\n",
       "    </tr>\n",
       "    <tr>\n",
       "      <th>Illinois</th>\n",
       "      <td>19108</td>\n",
       "    </tr>\n",
       "    <tr>\n",
       "      <th>Pennsylvania</th>\n",
       "      <td>17376</td>\n",
       "    </tr>\n",
       "    <tr>\n",
       "      <th>Michigan</th>\n",
       "      <td>13913</td>\n",
       "    </tr>\n",
       "    <tr>\n",
       "      <th>Massachusetts</th>\n",
       "      <td>12985</td>\n",
       "    </tr>\n",
       "    <tr>\n",
       "      <th>Georgia</th>\n",
       "      <td>11314</td>\n",
       "    </tr>\n",
       "  </tbody>\n",
       "</table>\n",
       "</div>"
      ],
      "text/plain": [
       "                Deaths\n",
       "Province_State        \n",
       "New York         39282\n",
       "Texas            29645\n",
       "California       29106\n",
       "Florida          22666\n",
       "New Jersey       19756\n",
       "Illinois         19108\n",
       "Pennsylvania     17376\n",
       "Michigan         13913\n",
       "Massachusetts    12985\n",
       "Georgia          11314"
      ]
     },
     "execution_count": 13,
     "metadata": {},
     "output_type": "execute_result"
    },
    {
     "data": {
      "image/png": "[encoded data removed]",
      "text/plain": [
       "<Figure size 1440x432 with 1 Axes>"
      ]
     },
     "metadata": {
      "needs_background": "light"
     },
     "output_type": "display_data"
    }
   ],
   "source": [
    "# Fatalities\n",
    "data_us[-1].sort_values('Deaths', ascending=False).head(10)[['Province_State', 'Deaths']].set_index(keys=['Province_State']).plot(kind='bar', color='red', rot=0)\n",
    "data_us[-1].sort_values('Deaths', ascending=False).head(10)[['Province_State', 'Deaths']].set_index(keys=['Province_State'])"
   ]
  },
  {
   "cell_type": "code",
   "execution_count": 14,
   "metadata": {},
   "outputs": [
    {
     "data": {
      "text/html": [
       "<div>\n",
       "<style scoped>\n",
       "    .dataframe tbody tr th:only-of-type {\n",
       "        vertical-align: middle;\n",
       "    }\n",
       "\n",
       "    .dataframe tbody tr th {\n",
       "        vertical-align: top;\n",
       "    }\n",
       "\n",
       "    .dataframe thead th {\n",
       "        text-align: right;\n",
       "    }\n",
       "</style>\n",
       "<table border=\"1\" class=\"dataframe\">\n",
       "  <thead>\n",
       "    <tr style=\"text-align: right;\">\n",
       "      <th></th>\n",
       "      <th>Case_Fatality_Ratio</th>\n",
       "    </tr>\n",
       "    <tr>\n",
       "      <th>Province_State</th>\n",
       "      <th></th>\n",
       "    </tr>\n",
       "  </thead>\n",
       "  <tbody>\n",
       "    <tr>\n",
       "      <th>New Jersey</th>\n",
       "      <td>3.824176</td>\n",
       "    </tr>\n",
       "    <tr>\n",
       "      <th>New York</th>\n",
       "      <td>3.566406</td>\n",
       "    </tr>\n",
       "    <tr>\n",
       "      <th>Massachusetts</th>\n",
       "      <td>3.093722</td>\n",
       "    </tr>\n",
       "    <tr>\n",
       "      <th>Connecticut</th>\n",
       "      <td>3.069992</td>\n",
       "    </tr>\n",
       "    <tr>\n",
       "      <th>Grand Princess</th>\n",
       "      <td>2.912621</td>\n",
       "    </tr>\n",
       "    <tr>\n",
       "      <th>District of Columbia</th>\n",
       "      <td>2.600701</td>\n",
       "    </tr>\n",
       "    <tr>\n",
       "      <th>Michigan</th>\n",
       "      <td>2.485996</td>\n",
       "    </tr>\n",
       "    <tr>\n",
       "      <th>Pennsylvania</th>\n",
       "      <td>2.453471</td>\n",
       "    </tr>\n",
       "    <tr>\n",
       "      <th>Louisiana</th>\n",
       "      <td>2.294168</td>\n",
       "    </tr>\n",
       "    <tr>\n",
       "      <th>Mississippi</th>\n",
       "      <td>2.183040</td>\n",
       "    </tr>\n",
       "  </tbody>\n",
       "</table>\n",
       "</div>"
      ],
      "text/plain": [
       "                      Case_Fatality_Ratio\n",
       "Province_State                           \n",
       "New Jersey                       3.824176\n",
       "New York                         3.566406\n",
       "Massachusetts                    3.093722\n",
       "Connecticut                      3.069992\n",
       "Grand Princess                   2.912621\n",
       "District of Columbia             2.600701\n",
       "Michigan                         2.485996\n",
       "Pennsylvania                     2.453471\n",
       "Louisiana                        2.294168\n",
       "Mississippi                      2.183040"
      ]
     },
     "execution_count": 14,
     "metadata": {},
     "output_type": "execute_result"
    },
    {
     "data": {
      "image/png": "[encoded data removed]",
      "text/plain": [
       "<Figure size 1440x432 with 1 Axes>"
      ]
     },
     "metadata": {
      "needs_background": "light"
     },
     "output_type": "display_data"
    }
   ],
   "source": [
    "data_us[-1].sort_values('Case_Fatality_Ratio', ascending=False).head(10)[['Province_State', 'Case_Fatality_Ratio']].set_index(keys=['Province_State']).plot(kind='bar', color='red', rot=0)\n",
    "data_us[-1].sort_values('Case_Fatality_Ratio', ascending=False).head(10)[['Province_State', 'Case_Fatality_Ratio']].set_index(keys=['Province_State'])"
   ]
  },
  {
   "cell_type": "code",
   "execution_count": 15,
   "metadata": {},
   "outputs": [
    {
     "data": {
      "text/html": [
       "<div>\n",
       "<style scoped>\n",
       "    .dataframe tbody tr th:only-of-type {\n",
       "        vertical-align: middle;\n",
       "    }\n",
       "\n",
       "    .dataframe tbody tr th {\n",
       "        vertical-align: top;\n",
       "    }\n",
       "\n",
       "    .dataframe thead th {\n",
       "        text-align: right;\n",
       "    }\n",
       "</style>\n",
       "<table border=\"1\" class=\"dataframe\">\n",
       "  <thead>\n",
       "    <tr style=\"text-align: right;\">\n",
       "      <th></th>\n",
       "      <th>Recovered</th>\n",
       "    </tr>\n",
       "    <tr>\n",
       "      <th>Province_State</th>\n",
       "      <th></th>\n",
       "    </tr>\n",
       "  </thead>\n",
       "  <tbody>\n",
       "    <tr>\n",
       "      <th>Texas</th>\n",
       "      <td>1536690.0</td>\n",
       "    </tr>\n",
       "    <tr>\n",
       "      <th>Ohio</th>\n",
       "      <td>621185.0</td>\n",
       "    </tr>\n",
       "    <tr>\n",
       "      <th>Tennessee</th>\n",
       "      <td>559625.0</td>\n",
       "    </tr>\n",
       "    <tr>\n",
       "      <th>Pennsylvania</th>\n",
       "      <td>513383.0</td>\n",
       "    </tr>\n",
       "    <tr>\n",
       "      <th>North Carolina</th>\n",
       "      <td>487090.0</td>\n",
       "    </tr>\n",
       "    <tr>\n",
       "      <th>Wisconsin</th>\n",
       "      <td>467069.0</td>\n",
       "    </tr>\n",
       "    <tr>\n",
       "      <th>Minnesota</th>\n",
       "      <td>409727.0</td>\n",
       "    </tr>\n",
       "    <tr>\n",
       "      <th>Michigan</th>\n",
       "      <td>363611.0</td>\n",
       "    </tr>\n",
       "    <tr>\n",
       "      <th>Indiana</th>\n",
       "      <td>362458.0</td>\n",
       "    </tr>\n",
       "    <tr>\n",
       "      <th>Massachusetts</th>\n",
       "      <td>293522.0</td>\n",
       "    </tr>\n",
       "  </tbody>\n",
       "</table>\n",
       "</div>"
      ],
      "text/plain": [
       "                Recovered\n",
       "Province_State           \n",
       "Texas           1536690.0\n",
       "Ohio             621185.0\n",
       "Tennessee        559625.0\n",
       "Pennsylvania     513383.0\n",
       "North Carolina   487090.0\n",
       "Wisconsin        467069.0\n",
       "Minnesota        409727.0\n",
       "Michigan         363611.0\n",
       "Indiana          362458.0\n",
       "Massachusetts    293522.0"
      ]
     },
     "execution_count": 15,
     "metadata": {},
     "output_type": "execute_result"
    },
    {
     "data": {
      "image/png": "[encoded data removed]",
      "text/plain": [
       "<Figure size 1440x432 with 1 Axes>"
      ]
     },
     "metadata": {
      "needs_background": "light"
     },
     "output_type": "display_data"
    }
   ],
   "source": [
    "# Recovered\n",
    "data_us[-1].sort_values('Recovered', ascending=False).head(10)[['Province_State', 'Recovered']].set_index(keys=['Province_State']).plot(kind='bar', color='green', rot=0)\n",
    "data_us[-1].sort_values('Recovered', ascending=False).head(10)[['Province_State', 'Recovered']].set_index(keys=['Province_State'])"
   ]
  }
 ],
 "metadata": {
  "kernelspec": {
   "display_name": "aic",
   "language": "python",
   "name": "aic"
  },
  "language_info": {
   "codemirror_mode": {
    "name": "ipython",
    "version": 3
   },
   "file_extension": ".py",
   "mimetype": "text/x-python",
   "name": "python",
   "nbconvert_exporter": "python",
   "pygments_lexer": "ipython3",
   "version": "3.7.9"
  }
 },
 "nbformat": 4,
 "nbformat_minor": 4
}
