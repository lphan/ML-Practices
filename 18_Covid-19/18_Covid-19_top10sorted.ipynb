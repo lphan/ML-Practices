{
 "cells": [
  {
   "cell_type": "markdown",
   "metadata": {},
   "source": [
    "### COVID-19 \n",
    "### UPDATE by DAY \n",
    "### TOP 10 (highest sorted) countries with TOTAL cases (CONFIRMED, FATALITIES, RECOVERED) last day "
   ]
  },
  {
   "cell_type": "code",
   "execution_count": 1,
   "metadata": {},
   "outputs": [
    {
     "name": "stdout",
     "output_type": "stream",
     "text": [
      "Start importing files in folder\n",
      "['.gitignore', '01-22-2020.csv', '01-23-2020.csv', '01-24-2020.csv', '01-25-2020.csv', '01-26-2020.csv', '01-27-2020.csv', '01-28-2020.csv', '01-29-2020.csv', '01-30-2020.csv', '01-31-2020.csv', '02-01-2020.csv', '02-02-2020.csv', '02-03-2020.csv', '02-04-2020.csv', '02-05-2020.csv', '02-06-2020.csv', '02-07-2020.csv', '02-08-2020.csv', '02-09-2020.csv', '02-10-2020.csv', '02-11-2020.csv', '02-12-2020.csv', '02-13-2020.csv', '02-14-2020.csv', '02-15-2020.csv', '02-16-2020.csv', '02-17-2020.csv', '02-18-2020.csv', '02-19-2020.csv', '02-20-2020.csv', '02-21-2020.csv', '02-22-2020.csv', '02-23-2020.csv', '02-24-2020.csv', '02-25-2020.csv', '02-26-2020.csv', '02-27-2020.csv', '02-28-2020.csv', '02-29-2020.csv', '03-01-2020.csv', '03-02-2020.csv', '03-03-2020.csv', '03-04-2020.csv', '03-05-2020.csv', '03-06-2020.csv', '03-07-2020.csv', '03-08-2020.csv', '03-09-2020.csv', '03-10-2020.csv', '03-11-2020.csv', '03-12-2020.csv', '03-13-2020.csv', '03-14-2020.csv', '03-15-2020.csv', '03-16-2020.csv', '03-17-2020.csv', '03-18-2020.csv', '03-19-2020.csv', '03-20-2020.csv', '03-21-2020.csv', '03-22-2020.csv', '03-23-2020.csv', '03-24-2020.csv', '03-25-2020.csv', '03-26-2020.csv', '03-27-2020.csv', '03-28-2020.csv', '03-29-2020.csv', '03-30-2020.csv', '03-31-2020.csv', '04-01-2020.csv', '04-02-2020.csv', '04-03-2020.csv', '04-04-2020.csv', '04-05-2020.csv', '04-06-2020.csv', '04-07-2020.csv', '04-08-2020.csv', '04-09-2020.csv', '04-10-2020.csv', '04-11-2020.csv', '04-12-2020.csv', '04-13-2020.csv', '04-14-2020.csv', '04-15-2020.csv', '04-16-2020.csv', '04-17-2020.csv', '04-18-2020.csv', '04-19-2020.csv', '04-20-2020.csv', '04-21-2020.csv', '04-22-2020.csv', '04-23-2020.csv', '04-24-2020.csv', '04-25-2020.csv', '04-26-2020.csv', '04-27-2020.csv', '04-28-2020.csv', '04-29-2020.csv', '04-30-2020.csv', '05-01-2020.csv', '05-02-2020.csv', '05-03-2020.csv', '05-04-2020.csv', '05-05-2020.csv', '05-06-2020.csv', '05-07-2020.csv', '05-08-2020.csv', '05-09-2020.csv', '05-10-2020.csv', '05-11-2020.csv', '05-12-2020.csv', '05-13-2020.csv', '05-14-2020.csv', '05-15-2020.csv', '05-16-2020.csv', '05-17-2020.csv', '05-18-2020.csv', '05-19-2020.csv', '05-20-2020.csv', '05-21-2020.csv', '05-22-2020.csv', '05-23-2020.csv', '05-24-2020.csv', '05-25-2020.csv', '05-26-2020.csv', '05-27-2020.csv', '05-28-2020.csv', '05-29-2020.csv', '05-30-2020.csv', '05-31-2020.csv', '06-01-2020.csv', '06-02-2020.csv', '06-03-2020.csv', '06-04-2020.csv', '06-05-2020.csv', '06-06-2020.csv', '06-07-2020.csv', '06-08-2020.csv', '06-09-2020.csv', '06-10-2020.csv', '06-11-2020.csv', '06-12-2020.csv', '06-13-2020.csv', '06-14-2020.csv', '06-15-2020.csv', '06-16-2020.csv', '06-17-2020.csv', '06-18-2020.csv', '06-19-2020.csv', '06-20-2020.csv', '06-21-2020.csv', '06-22-2020.csv', '06-23-2020.csv', '06-24-2020.csv', '06-25-2020.csv', '06-26-2020.csv', '06-27-2020.csv', '06-28-2020.csv', '06-29-2020.csv', '06-30-2020.csv', '07-01-2020.csv', '07-02-2020.csv', '07-03-2020.csv', '07-04-2020.csv', '07-05-2020.csv', '07-06-2020.csv', '07-07-2020.csv', '07-08-2020.csv', '07-09-2020.csv', '07-10-2020.csv', '07-11-2020.csv', '07-12-2020.csv', '07-13-2020.csv', '07-14-2020.csv', '07-15-2020.csv', '07-16-2020.csv', '07-17-2020.csv', '07-18-2020.csv', '07-19-2020.csv', '07-20-2020.csv', '07-21-2020.csv', '07-22-2020.csv', '07-23-2020.csv', '07-24-2020.csv', '07-25-2020.csv', '07-26-2020.csv', '07-27-2020.csv', '07-28-2020.csv', '07-29-2020.csv', '07-30-2020.csv', '07-31-2020.csv', '08-01-2020.csv', '08-02-2020.csv', '08-03-2020.csv', '08-04-2020.csv', '08-05-2020.csv', '08-06-2020.csv', '08-07-2020.csv', '08-08-2020.csv', '08-09-2020.csv', '08-10-2020.csv', '08-11-2020.csv', '08-12-2020.csv', '08-13-2020.csv', '08-14-2020.csv', '08-15-2020.csv', '08-16-2020.csv', '08-17-2020.csv', '08-18-2020.csv', '08-19-2020.csv', '08-20-2020.csv', '08-21-2020.csv', '08-22-2020.csv', '08-23-2020.csv', '08-24-2020.csv', '08-25-2020.csv', '08-26-2020.csv', '08-27-2020.csv', '08-28-2020.csv', '08-29-2020.csv', '08-30-2020.csv', '08-31-2020.csv', '09-01-2020.csv', '09-02-2020.csv', '09-03-2020.csv', '09-04-2020.csv', '09-05-2020.csv', '09-06-2020.csv', '09-07-2020.csv', '09-08-2020.csv', '09-09-2020.csv', '09-10-2020.csv', '09-11-2020.csv', '09-12-2020.csv', '09-13-2020.csv', '09-14-2020.csv', '09-15-2020.csv', '09-16-2020.csv', '09-17-2020.csv', '09-18-2020.csv', '09-19-2020.csv', '09-20-2020.csv', '09-21-2020.csv', '09-22-2020.csv', '09-23-2020.csv', '09-24-2020.csv', '09-25-2020.csv', '09-26-2020.csv', '09-27-2020.csv', '09-28-2020.csv', '09-29-2020.csv', '09-30-2020.csv', '10-01-2020.csv', '10-02-2020.csv', '10-03-2020.csv', '10-04-2020.csv', '10-05-2020.csv', '10-06-2020.csv', '10-07-2020.csv', '10-08-2020.csv', '10-09-2020.csv', '10-10-2020.csv', '10-11-2020.csv', '10-12-2020.csv', '10-13-2020.csv', '10-14-2020.csv', '10-15-2020.csv', '10-16-2020.csv', '10-17-2020.csv', '10-18-2020.csv', '10-19-2020.csv', '10-20-2020.csv', '10-21-2020.csv', '10-22-2020.csv', '10-23-2020.csv', '10-24-2020.csv', '10-25-2020.csv', '10-26-2020.csv', '10-27-2020.csv', '10-28-2020.csv', 'README.md']\n",
      "None\n",
      "None\n",
      "Start importing single data  ./COVID-19/csse_covid_19_data/UID_ISO_FIPS_LookUp_Table.csv\n"
     ]
    }
   ],
   "source": [
    "# Configuration: setup absolute path to location of package Starts and config-file \n",
    "from inspect import getsourcefile\n",
    "import os.path as path, sys\n",
    "current_dir = path.dirname(path.abspath(getsourcefile(lambda:0)))\n",
    "sys.path.insert(0, current_dir[:current_dir.rfind(path.sep)])\n",
    "\n",
    "from Starts.start import *\n",
    "from Starts.startml import *\n",
    "from Starts.startvis import *  \n",
    "%matplotlib inline\n",
    "rcParams['figure.figsize'] = 20, 6"
   ]
  },
  {
   "cell_type": "markdown",
   "metadata": {},
   "source": [
    "### Number of covid-19 outbreak days"
   ]
  },
  {
   "cell_type": "code",
   "execution_count": 2,
   "metadata": {},
   "outputs": [
    {
     "data": {
      "text/plain": [
       "281"
      ]
     },
     "execution_count": 2,
     "metadata": {},
     "output_type": "execute_result"
    }
   ],
   "source": [
    "from covidpd import *\n",
    "len(data)"
   ]
  },
  {
   "cell_type": "code",
   "execution_count": 3,
   "metadata": {},
   "outputs": [
    {
     "name": "stdout",
     "output_type": "stream",
     "text": [
      "Ratio total fatalities/ total confirmed:  2.64 %\n",
      "Ratio total recovered/ total confirmed: 67.56 %\n",
      "Remaining: 29.80 %\n"
     ]
    }
   ],
   "source": [
    "tftc = totalFatal/totalConfirmed*100\n",
    "trtc = totalRecovered/totalConfirmed*100\n",
    "re = 100-tftc-trtc\n",
    "print(\"Ratio total fatalities/ total confirmed: %5.2f %%\" % tftc)\n",
    "print(\"Ratio total recovered/ total confirmed: %5.2f %%\" % trtc)\n",
    "print(\"Remaining: %5.2f %%\" % re)"
   ]
  },
  {
   "cell_type": "markdown",
   "metadata": {},
   "source": [
    "### TOP 10 (highest sorted) countries with TOTAL CONFIRMED"
   ]
  },
  {
   "cell_type": "code",
   "execution_count": 4,
   "metadata": {},
   "outputs": [
    {
     "name": "stdout",
     "output_type": "stream",
     "text": [
      "Total Confirmed:  44481667.0\n",
      "Total percentage of 10 countries:  68.25 %\n"
     ]
    },
    {
     "data": {
      "text/html": [
       "<div>\n",
       "<style scoped>\n",
       "    .dataframe tbody tr th:only-of-type {\n",
       "        vertical-align: middle;\n",
       "    }\n",
       "\n",
       "    .dataframe tbody tr th {\n",
       "        vertical-align: top;\n",
       "    }\n",
       "\n",
       "    .dataframe thead th {\n",
       "        text-align: right;\n",
       "    }\n",
       "</style>\n",
       "<table border=\"1\" class=\"dataframe\">\n",
       "  <thead>\n",
       "    <tr style=\"text-align: right;\">\n",
       "      <th></th>\n",
       "      <th>280</th>\n",
       "      <th>RatioByTotal_in_%</th>\n",
       "    </tr>\n",
       "  </thead>\n",
       "  <tbody>\n",
       "    <tr>\n",
       "      <th>US</th>\n",
       "      <td>8856413.0</td>\n",
       "      <td>19.9103</td>\n",
       "    </tr>\n",
       "    <tr>\n",
       "      <th>India</th>\n",
       "      <td>8040203.0</td>\n",
       "      <td>18.0753</td>\n",
       "    </tr>\n",
       "    <tr>\n",
       "      <th>Brazil</th>\n",
       "      <td>5468270.0</td>\n",
       "      <td>12.2933</td>\n",
       "    </tr>\n",
       "    <tr>\n",
       "      <th>Russia</th>\n",
       "      <td>1553028.0</td>\n",
       "      <td>3.4914</td>\n",
       "    </tr>\n",
       "    <tr>\n",
       "      <th>France</th>\n",
       "      <td>1280215.0</td>\n",
       "      <td>2.8781</td>\n",
       "    </tr>\n",
       "    <tr>\n",
       "      <th>Spain</th>\n",
       "      <td>1136503.0</td>\n",
       "      <td>2.5550</td>\n",
       "    </tr>\n",
       "    <tr>\n",
       "      <th>Argentina</th>\n",
       "      <td>1130533.0</td>\n",
       "      <td>2.5416</td>\n",
       "    </tr>\n",
       "    <tr>\n",
       "      <th>Colombia</th>\n",
       "      <td>1041936.0</td>\n",
       "      <td>2.3424</td>\n",
       "    </tr>\n",
       "    <tr>\n",
       "      <th>United Kingdom</th>\n",
       "      <td>945378.0</td>\n",
       "      <td>2.1253</td>\n",
       "    </tr>\n",
       "    <tr>\n",
       "      <th>Mexico</th>\n",
       "      <td>906863.0</td>\n",
       "      <td>2.0387</td>\n",
       "    </tr>\n",
       "  </tbody>\n",
       "</table>\n",
       "</div>"
      ],
      "text/plain": [
       "                      280  RatioByTotal_in_%\n",
       "US              8856413.0            19.9103\n",
       "India           8040203.0            18.0753\n",
       "Brazil          5468270.0            12.2933\n",
       "Russia          1553028.0             3.4914\n",
       "France          1280215.0             2.8781\n",
       "Spain           1136503.0             2.5550\n",
       "Argentina       1130533.0             2.5416\n",
       "Colombia        1041936.0             2.3424\n",
       "United Kingdom   945378.0             2.1253\n",
       "Mexico           906863.0             2.0387"
      ]
     },
     "execution_count": 4,
     "metadata": {},
     "output_type": "execute_result"
    },
    {
     "data": {
      "image/png": "[encoded data removed]",
      "text/plain": [
       "<Figure size 1440x432 with 1 Axes>"
      ]
     },
     "metadata": {
      "needs_background": "light"
     },
     "output_type": "display_data"
    }
   ],
   "source": [
    "top10confirmed[lastday].plot.bar(color='orange')\n",
    "plt.title('Top 10 countries with total highest confirmed until last day %i' %lastday)\n",
    "plt.xticks(rotation=0)\n",
    "print(\"Total Confirmed: \", totalConfirmed)\n",
    "print(\"Total percentage of 10 countries: %6.2f %%\" % sum(top10confirmed['RatioByTotal_in_%'].values))\n",
    "top10confirmed"
   ]
  },
  {
   "cell_type": "markdown",
   "metadata": {},
   "source": [
    "### TOP 10 (highest sorted) countries with TOTAL FATALITIES"
   ]
  },
  {
   "cell_type": "code",
   "execution_count": 5,
   "metadata": {},
   "outputs": [
    {
     "name": "stdout",
     "output_type": "stream",
     "text": [
      "Total Fatalities:  1174007.0\n",
      "Total percentage of 10 countries:  69.84 %\n"
     ]
    },
    {
     "data": {
      "text/html": [
       "<div>\n",
       "<style scoped>\n",
       "    .dataframe tbody tr th:only-of-type {\n",
       "        vertical-align: middle;\n",
       "    }\n",
       "\n",
       "    .dataframe tbody tr th {\n",
       "        vertical-align: top;\n",
       "    }\n",
       "\n",
       "    .dataframe thead th {\n",
       "        text-align: right;\n",
       "    }\n",
       "</style>\n",
       "<table border=\"1\" class=\"dataframe\">\n",
       "  <thead>\n",
       "    <tr style=\"text-align: right;\">\n",
       "      <th></th>\n",
       "      <th>280</th>\n",
       "      <th>RatioByTotal_in_%</th>\n",
       "    </tr>\n",
       "  </thead>\n",
       "  <tbody>\n",
       "    <tr>\n",
       "      <th>US</th>\n",
       "      <td>227685.0</td>\n",
       "      <td>19.3938</td>\n",
       "    </tr>\n",
       "    <tr>\n",
       "      <th>Brazil</th>\n",
       "      <td>158456.0</td>\n",
       "      <td>13.4970</td>\n",
       "    </tr>\n",
       "    <tr>\n",
       "      <th>India</th>\n",
       "      <td>120527.0</td>\n",
       "      <td>10.2663</td>\n",
       "    </tr>\n",
       "    <tr>\n",
       "      <th>Mexico</th>\n",
       "      <td>90309.0</td>\n",
       "      <td>7.6924</td>\n",
       "    </tr>\n",
       "    <tr>\n",
       "      <th>United Kingdom</th>\n",
       "      <td>45765.0</td>\n",
       "      <td>3.8982</td>\n",
       "    </tr>\n",
       "    <tr>\n",
       "      <th>Italy</th>\n",
       "      <td>37905.0</td>\n",
       "      <td>3.2287</td>\n",
       "    </tr>\n",
       "    <tr>\n",
       "      <th>France</th>\n",
       "      <td>35823.0</td>\n",
       "      <td>3.0513</td>\n",
       "    </tr>\n",
       "    <tr>\n",
       "      <th>Spain</th>\n",
       "      <td>35466.0</td>\n",
       "      <td>3.0209</td>\n",
       "    </tr>\n",
       "    <tr>\n",
       "      <th>Peru</th>\n",
       "      <td>34257.0</td>\n",
       "      <td>2.9180</td>\n",
       "    </tr>\n",
       "    <tr>\n",
       "      <th>Iran</th>\n",
       "      <td>33714.0</td>\n",
       "      <td>2.8717</td>\n",
       "    </tr>\n",
       "  </tbody>\n",
       "</table>\n",
       "</div>"
      ],
      "text/plain": [
       "                     280  RatioByTotal_in_%\n",
       "US              227685.0            19.3938\n",
       "Brazil          158456.0            13.4970\n",
       "India           120527.0            10.2663\n",
       "Mexico           90309.0             7.6924\n",
       "United Kingdom   45765.0             3.8982\n",
       "Italy            37905.0             3.2287\n",
       "France           35823.0             3.0513\n",
       "Spain            35466.0             3.0209\n",
       "Peru             34257.0             2.9180\n",
       "Iran             33714.0             2.8717"
      ]
     },
     "execution_count": 5,
     "metadata": {},
     "output_type": "execute_result"
    },
    {
     "data": {
      "image/png": "[encoded data removed]",
      "text/plain": [
       "<Figure size 1440x432 with 1 Axes>"
      ]
     },
     "metadata": {
      "needs_background": "light"
     },
     "output_type": "display_data"
    }
   ],
   "source": [
    "top10fatal[lastday].plot.bar(color='red')\n",
    "plt.title('Top 10 countries with total highest fatalities until last day %i' %lastday)\n",
    "plt.xticks(rotation=0)\n",
    "print(\"Total Fatalities: \", totalFatal)\n",
    "print(\"Total percentage of 10 countries: %6.2f %%\" % sum(top10fatal['RatioByTotal_in_%'].values))\n",
    "top10fatal "
   ]
  },
  {
   "cell_type": "markdown",
   "metadata": {},
   "source": [
    "### TOP 10 (highest sorted) countries with TOTAL RECOVERED"
   ]
  },
  {
   "cell_type": "code",
   "execution_count": 6,
   "metadata": {},
   "outputs": [
    {
     "name": "stdout",
     "output_type": "stream",
     "text": [
      "Total Recovered:  30052209.0\n",
      "Total percentage of 10 countries:  71.65 %\n"
     ]
    },
    {
     "data": {
      "text/html": [
       "<div>\n",
       "<style scoped>\n",
       "    .dataframe tbody tr th:only-of-type {\n",
       "        vertical-align: middle;\n",
       "    }\n",
       "\n",
       "    .dataframe tbody tr th {\n",
       "        vertical-align: top;\n",
       "    }\n",
       "\n",
       "    .dataframe thead th {\n",
       "        text-align: right;\n",
       "    }\n",
       "</style>\n",
       "<table border=\"1\" class=\"dataframe\">\n",
       "  <thead>\n",
       "    <tr style=\"text-align: right;\">\n",
       "      <th></th>\n",
       "      <th>280</th>\n",
       "      <th>RatioByTotal_in_%</th>\n",
       "    </tr>\n",
       "  </thead>\n",
       "  <tbody>\n",
       "    <tr>\n",
       "      <th>India</th>\n",
       "      <td>7315989.0</td>\n",
       "      <td>24.3443</td>\n",
       "    </tr>\n",
       "    <tr>\n",
       "      <th>Brazil</th>\n",
       "      <td>4947777.0</td>\n",
       "      <td>16.4639</td>\n",
       "    </tr>\n",
       "    <tr>\n",
       "      <th>US</th>\n",
       "      <td>3518140.0</td>\n",
       "      <td>11.7068</td>\n",
       "    </tr>\n",
       "    <tr>\n",
       "      <th>Russia</th>\n",
       "      <td>1164915.0</td>\n",
       "      <td>3.8763</td>\n",
       "    </tr>\n",
       "    <tr>\n",
       "      <th>Colombia</th>\n",
       "      <td>941874.0</td>\n",
       "      <td>3.1341</td>\n",
       "    </tr>\n",
       "    <tr>\n",
       "      <th>Argentina</th>\n",
       "      <td>931147.0</td>\n",
       "      <td>3.0984</td>\n",
       "    </tr>\n",
       "    <tr>\n",
       "      <th>Peru</th>\n",
       "      <td>816688.0</td>\n",
       "      <td>2.7176</td>\n",
       "    </tr>\n",
       "    <tr>\n",
       "      <th>Mexico</th>\n",
       "      <td>765128.0</td>\n",
       "      <td>2.5460</td>\n",
       "    </tr>\n",
       "    <tr>\n",
       "      <th>South Africa</th>\n",
       "      <td>648654.0</td>\n",
       "      <td>2.1584</td>\n",
       "    </tr>\n",
       "    <tr>\n",
       "      <th>Chile</th>\n",
       "      <td>482906.0</td>\n",
       "      <td>1.6069</td>\n",
       "    </tr>\n",
       "  </tbody>\n",
       "</table>\n",
       "</div>"
      ],
      "text/plain": [
       "                    280  RatioByTotal_in_%\n",
       "India         7315989.0            24.3443\n",
       "Brazil        4947777.0            16.4639\n",
       "US            3518140.0            11.7068\n",
       "Russia        1164915.0             3.8763\n",
       "Colombia       941874.0             3.1341\n",
       "Argentina      931147.0             3.0984\n",
       "Peru           816688.0             2.7176\n",
       "Mexico         765128.0             2.5460\n",
       "South Africa   648654.0             2.1584\n",
       "Chile          482906.0             1.6069"
      ]
     },
     "execution_count": 6,
     "metadata": {},
     "output_type": "execute_result"
    },
    {
     "data": {
      "image/png": "[encoded data removed]",
      "text/plain": [
       "<Figure size 1440x432 with 1 Axes>"
      ]
     },
     "metadata": {
      "needs_background": "light"
     },
     "output_type": "display_data"
    }
   ],
   "source": [
    "top10recovered[lastday].plot.bar(color='green')\n",
    "plt.title('Top 10 countries with total highest recovered until last day %i' %lastday)\n",
    "plt.xticks(rotation=0)\n",
    "print(\"Total Recovered: \", totalRecovered)\n",
    "print(\"Total percentage of 10 countries: %6.2f %%\" % sum(top10recovered['RatioByTotal_in_%'].values))\n",
    "top10recovered"
   ]
  },
  {
   "cell_type": "markdown",
   "metadata": {},
   "source": [
    "### TOP 10 countries with the lowest/ highest ratio TOTAL cases (CONFIRMED) over country population and (FATALITIES, RECOVERED) over CONFIRMED"
   ]
  },
  {
   "cell_type": "code",
   "execution_count": 7,
   "metadata": {},
   "outputs": [
    {
     "data": {
      "text/html": [
       "<div>\n",
       "<style scoped>\n",
       "    .dataframe tbody tr th:only-of-type {\n",
       "        vertical-align: middle;\n",
       "    }\n",
       "\n",
       "    .dataframe tbody tr th {\n",
       "        vertical-align: top;\n",
       "    }\n",
       "\n",
       "    .dataframe thead th {\n",
       "        text-align: right;\n",
       "    }\n",
       "</style>\n",
       "<table border=\"1\" class=\"dataframe\">\n",
       "  <thead>\n",
       "    <tr style=\"text-align: right;\">\n",
       "      <th></th>\n",
       "      <th>280</th>\n",
       "      <th>RatioConfirmedByPopulation_in_%</th>\n",
       "      <th>population</th>\n",
       "    </tr>\n",
       "  </thead>\n",
       "  <tbody>\n",
       "    <tr>\n",
       "      <th>Laos</th>\n",
       "      <td>24.0</td>\n",
       "      <td>0.0003</td>\n",
       "      <td>7275556.0</td>\n",
       "    </tr>\n",
       "    <tr>\n",
       "      <th>Tanzania</th>\n",
       "      <td>509.0</td>\n",
       "      <td>0.0009</td>\n",
       "      <td>59734213.0</td>\n",
       "    </tr>\n",
       "    <tr>\n",
       "      <th>Solomon Islands</th>\n",
       "      <td>8.0</td>\n",
       "      <td>0.0012</td>\n",
       "      <td>652858.0</td>\n",
       "    </tr>\n",
       "    <tr>\n",
       "      <th>Vietnam</th>\n",
       "      <td>1173.0</td>\n",
       "      <td>0.0012</td>\n",
       "      <td>97338583.0</td>\n",
       "    </tr>\n",
       "    <tr>\n",
       "      <th>Western Sahara</th>\n",
       "      <td>10.0</td>\n",
       "      <td>0.0017</td>\n",
       "      <td>597330.0</td>\n",
       "    </tr>\n",
       "    <tr>\n",
       "      <th>Cambodia</th>\n",
       "      <td>290.0</td>\n",
       "      <td>0.0017</td>\n",
       "      <td>16718971.0</td>\n",
       "    </tr>\n",
       "    <tr>\n",
       "      <th>Taiwan*</th>\n",
       "      <td>550.0</td>\n",
       "      <td>0.0023</td>\n",
       "      <td>23816775.0</td>\n",
       "    </tr>\n",
       "    <tr>\n",
       "      <th>Timor-Leste</th>\n",
       "      <td>30.0</td>\n",
       "      <td>0.0023</td>\n",
       "      <td>1318442.0</td>\n",
       "    </tr>\n",
       "    <tr>\n",
       "      <th>Marshall Islands</th>\n",
       "      <td>2.0</td>\n",
       "      <td>0.0034</td>\n",
       "      <td>58413.0</td>\n",
       "    </tr>\n",
       "    <tr>\n",
       "      <th>Fiji</th>\n",
       "      <td>33.0</td>\n",
       "      <td>0.0037</td>\n",
       "      <td>896444.0</td>\n",
       "    </tr>\n",
       "  </tbody>\n",
       "</table>\n",
       "</div>"
      ],
      "text/plain": [
       "                     280  RatioConfirmedByPopulation_in_%  population\n",
       "Laos                24.0                           0.0003   7275556.0\n",
       "Tanzania           509.0                           0.0009  59734213.0\n",
       "Solomon Islands      8.0                           0.0012    652858.0\n",
       "Vietnam           1173.0                           0.0012  97338583.0\n",
       "Western Sahara      10.0                           0.0017    597330.0\n",
       "Cambodia           290.0                           0.0017  16718971.0\n",
       "Taiwan*            550.0                           0.0023  23816775.0\n",
       "Timor-Leste         30.0                           0.0023   1318442.0\n",
       "Marshall Islands     2.0                           0.0034     58413.0\n",
       "Fiji                33.0                           0.0037    896444.0"
      ]
     },
     "execution_count": 7,
     "metadata": {},
     "output_type": "execute_result"
    },
    {
     "data": {
      "image/png": "[encoded data removed]",
      "text/plain": [
       "<Figure size 1440x432 with 1 Axes>"
      ]
     },
     "metadata": {
      "needs_background": "light"
     },
     "output_type": "display_data"
    }
   ],
   "source": [
    "top10confirmed_lowest.sort_values(by=['RatioConfirmedByPopulation_in_%']).head(10)['RatioConfirmedByPopulation_in_%'].plot.bar(color='orange')\n",
    "plt.xticks(rotation=0)\n",
    "plt.title(\"Top 10 countries/ locations with lowest ratio Total cases over country population on Day \"+str(lastday))\n",
    "top10confirmed_lowest.sort_values(by=['RatioConfirmedByPopulation_in_%']).head(10)"
   ]
  },
  {
   "cell_type": "code",
   "execution_count": 8,
   "metadata": {},
   "outputs": [
    {
     "data": {
      "text/html": [
       "<div>\n",
       "<style scoped>\n",
       "    .dataframe tbody tr th:only-of-type {\n",
       "        vertical-align: middle;\n",
       "    }\n",
       "\n",
       "    .dataframe tbody tr th {\n",
       "        vertical-align: top;\n",
       "    }\n",
       "\n",
       "    .dataframe thead th {\n",
       "        text-align: right;\n",
       "    }\n",
       "</style>\n",
       "<table border=\"1\" class=\"dataframe\">\n",
       "  <thead>\n",
       "    <tr style=\"text-align: right;\">\n",
       "      <th></th>\n",
       "      <th>280</th>\n",
       "      <th>RatioConfirmedByPopulation_in_%</th>\n",
       "      <th>population</th>\n",
       "    </tr>\n",
       "  </thead>\n",
       "  <tbody>\n",
       "    <tr>\n",
       "      <th>Kuwait</th>\n",
       "      <td>123906.0</td>\n",
       "      <td>2.9014</td>\n",
       "      <td>4270563.0</td>\n",
       "    </tr>\n",
       "    <tr>\n",
       "      <th>Panama</th>\n",
       "      <td>131247.0</td>\n",
       "      <td>3.0418</td>\n",
       "      <td>4314768.0</td>\n",
       "    </tr>\n",
       "    <tr>\n",
       "      <th>Belgium</th>\n",
       "      <td>368337.0</td>\n",
       "      <td>3.1782</td>\n",
       "      <td>11589616.0</td>\n",
       "    </tr>\n",
       "    <tr>\n",
       "      <th>Holy See</th>\n",
       "      <td>27.0</td>\n",
       "      <td>3.3375</td>\n",
       "      <td>809.0</td>\n",
       "    </tr>\n",
       "    <tr>\n",
       "      <th>Israel</th>\n",
       "      <td>312550.0</td>\n",
       "      <td>3.6110</td>\n",
       "      <td>8655541.0</td>\n",
       "    </tr>\n",
       "    <tr>\n",
       "      <th>Qatar</th>\n",
       "      <td>131939.0</td>\n",
       "      <td>4.5795</td>\n",
       "      <td>2881060.0</td>\n",
       "    </tr>\n",
       "    <tr>\n",
       "      <th>Bahrain</th>\n",
       "      <td>81022.0</td>\n",
       "      <td>4.7616</td>\n",
       "      <td>1701583.0</td>\n",
       "    </tr>\n",
       "    <tr>\n",
       "      <th>Andorra</th>\n",
       "      <td>4517.0</td>\n",
       "      <td>5.8461</td>\n",
       "      <td>77265.0</td>\n",
       "    </tr>\n",
       "    <tr>\n",
       "      <th>MS Zaandam</th>\n",
       "      <td>9.0</td>\n",
       "      <td>NaN</td>\n",
       "      <td>NaN</td>\n",
       "    </tr>\n",
       "    <tr>\n",
       "      <th>Diamond Princess</th>\n",
       "      <td>712.0</td>\n",
       "      <td>NaN</td>\n",
       "      <td>NaN</td>\n",
       "    </tr>\n",
       "  </tbody>\n",
       "</table>\n",
       "</div>"
      ],
      "text/plain": [
       "                       280  RatioConfirmedByPopulation_in_%  population\n",
       "Kuwait            123906.0                           2.9014   4270563.0\n",
       "Panama            131247.0                           3.0418   4314768.0\n",
       "Belgium           368337.0                           3.1782  11589616.0\n",
       "Holy See              27.0                           3.3375       809.0\n",
       "Israel            312550.0                           3.6110   8655541.0\n",
       "Qatar             131939.0                           4.5795   2881060.0\n",
       "Bahrain            81022.0                           4.7616   1701583.0\n",
       "Andorra             4517.0                           5.8461     77265.0\n",
       "MS Zaandam             9.0                              NaN         NaN\n",
       "Diamond Princess     712.0                              NaN         NaN"
      ]
     },
     "execution_count": 8,
     "metadata": {},
     "output_type": "execute_result"
    },
    {
     "data": {
      "image/png": "[encoded data removed]",
      "text/plain": [
       "<Figure size 1440x432 with 1 Axes>"
      ]
     },
     "metadata": {
      "needs_background": "light"
     },
     "output_type": "display_data"
    }
   ],
   "source": [
    "top10confirmed_lowest.sort_values(by=['RatioConfirmedByPopulation_in_%']).tail(10)['RatioConfirmedByPopulation_in_%'].plot.bar(color='orange')\n",
    "plt.xticks(rotation=0)\n",
    "plt.title(\"Top 10 countries/ locations with highest ratio Total cases over country population on Day \"+str(lastday))\n",
    "top10confirmed_lowest.sort_values(by=['RatioConfirmedByPopulation_in_%']).tail(10)"
   ]
  },
  {
   "cell_type": "code",
   "execution_count": 9,
   "metadata": {},
   "outputs": [
    {
     "data": {
      "text/html": [
       "<div>\n",
       "<style scoped>\n",
       "    .dataframe tbody tr th:only-of-type {\n",
       "        vertical-align: middle;\n",
       "    }\n",
       "\n",
       "    .dataframe tbody tr th {\n",
       "        vertical-align: top;\n",
       "    }\n",
       "\n",
       "    .dataframe thead th {\n",
       "        text-align: right;\n",
       "    }\n",
       "</style>\n",
       "<table border=\"1\" class=\"dataframe\">\n",
       "  <thead>\n",
       "    <tr style=\"text-align: right;\">\n",
       "      <th></th>\n",
       "      <th>280</th>\n",
       "      <th>RatioFatalByConfirmed_in_%</th>\n",
       "      <th>Confirmed</th>\n",
       "    </tr>\n",
       "  </thead>\n",
       "  <tbody>\n",
       "    <tr>\n",
       "      <th>Saint Vincent and the Grenadines</th>\n",
       "      <td>0.0</td>\n",
       "      <td>0.0</td>\n",
       "      <td>74.0</td>\n",
       "    </tr>\n",
       "    <tr>\n",
       "      <th>Eritrea</th>\n",
       "      <td>0.0</td>\n",
       "      <td>0.0</td>\n",
       "      <td>461.0</td>\n",
       "    </tr>\n",
       "    <tr>\n",
       "      <th>Saint Lucia</th>\n",
       "      <td>0.0</td>\n",
       "      <td>0.0</td>\n",
       "      <td>67.0</td>\n",
       "    </tr>\n",
       "    <tr>\n",
       "      <th>Marshall Islands</th>\n",
       "      <td>0.0</td>\n",
       "      <td>0.0</td>\n",
       "      <td>2.0</td>\n",
       "    </tr>\n",
       "    <tr>\n",
       "      <th>Timor-Leste</th>\n",
       "      <td>0.0</td>\n",
       "      <td>0.0</td>\n",
       "      <td>30.0</td>\n",
       "    </tr>\n",
       "    <tr>\n",
       "      <th>Saint Kitts and Nevis</th>\n",
       "      <td>0.0</td>\n",
       "      <td>0.0</td>\n",
       "      <td>19.0</td>\n",
       "    </tr>\n",
       "    <tr>\n",
       "      <th>Seychelles</th>\n",
       "      <td>0.0</td>\n",
       "      <td>0.0</td>\n",
       "      <td>153.0</td>\n",
       "    </tr>\n",
       "    <tr>\n",
       "      <th>Laos</th>\n",
       "      <td>0.0</td>\n",
       "      <td>0.0</td>\n",
       "      <td>24.0</td>\n",
       "    </tr>\n",
       "    <tr>\n",
       "      <th>Cambodia</th>\n",
       "      <td>0.0</td>\n",
       "      <td>0.0</td>\n",
       "      <td>290.0</td>\n",
       "    </tr>\n",
       "    <tr>\n",
       "      <th>Mongolia</th>\n",
       "      <td>0.0</td>\n",
       "      <td>0.0</td>\n",
       "      <td>340.0</td>\n",
       "    </tr>\n",
       "  </tbody>\n",
       "</table>\n",
       "</div>"
      ],
      "text/plain": [
       "                                  280  RatioFatalByConfirmed_in_%  Confirmed\n",
       "Saint Vincent and the Grenadines  0.0                         0.0       74.0\n",
       "Eritrea                           0.0                         0.0      461.0\n",
       "Saint Lucia                       0.0                         0.0       67.0\n",
       "Marshall Islands                  0.0                         0.0        2.0\n",
       "Timor-Leste                       0.0                         0.0       30.0\n",
       "Saint Kitts and Nevis             0.0                         0.0       19.0\n",
       "Seychelles                        0.0                         0.0      153.0\n",
       "Laos                              0.0                         0.0       24.0\n",
       "Cambodia                          0.0                         0.0      290.0\n",
       "Mongolia                          0.0                         0.0      340.0"
      ]
     },
     "execution_count": 9,
     "metadata": {},
     "output_type": "execute_result"
    },
    {
     "data": {
      "image/png": "[encoded data removed]",
      "text/plain": [
       "<Figure size 1440x432 with 1 Axes>"
      ]
     },
     "metadata": {
      "needs_background": "light"
     },
     "output_type": "display_data"
    }
   ],
   "source": [
    "top10fatal_lowest.sort_values(by=['RatioFatalByConfirmed_in_%']).head(10)['RatioFatalByConfirmed_in_%'].plot.bar(color='red')\n",
    "plt.xticks(rotation=0)\n",
    "plt.title(\"Top 10 countries/ locations with lowest ratio Total fatalities over Confirmed case on Day \"+str(lastday))\n",
    "\n",
    "top10fatal_lowest.sort_values(by=['RatioFatalByConfirmed_in_%']).head(10)"
   ]
  },
  {
   "cell_type": "code",
   "execution_count": 10,
   "metadata": {},
   "outputs": [
    {
     "data": {
      "text/html": [
       "<div>\n",
       "<style scoped>\n",
       "    .dataframe tbody tr th:only-of-type {\n",
       "        vertical-align: middle;\n",
       "    }\n",
       "\n",
       "    .dataframe tbody tr th {\n",
       "        vertical-align: top;\n",
       "    }\n",
       "\n",
       "    .dataframe thead th {\n",
       "        text-align: right;\n",
       "    }\n",
       "</style>\n",
       "<table border=\"1\" class=\"dataframe\">\n",
       "  <thead>\n",
       "    <tr style=\"text-align: right;\">\n",
       "      <th></th>\n",
       "      <th>280</th>\n",
       "      <th>RatioFatalByConfirmed_in_%</th>\n",
       "      <th>Confirmed</th>\n",
       "    </tr>\n",
       "  </thead>\n",
       "  <tbody>\n",
       "    <tr>\n",
       "      <th>Fiji</th>\n",
       "      <td>2.0</td>\n",
       "      <td>6.0606</td>\n",
       "      <td>33.0</td>\n",
       "    </tr>\n",
       "    <tr>\n",
       "      <th>Sudan</th>\n",
       "      <td>837.0</td>\n",
       "      <td>6.0806</td>\n",
       "      <td>13765.0</td>\n",
       "    </tr>\n",
       "    <tr>\n",
       "      <th>Bolivia</th>\n",
       "      <td>8694.0</td>\n",
       "      <td>6.1520</td>\n",
       "      <td>141321.0</td>\n",
       "    </tr>\n",
       "    <tr>\n",
       "      <th>Italy</th>\n",
       "      <td>37905.0</td>\n",
       "      <td>6.4271</td>\n",
       "      <td>589766.0</td>\n",
       "    </tr>\n",
       "    <tr>\n",
       "      <th>Chad</th>\n",
       "      <td>97.0</td>\n",
       "      <td>6.6076</td>\n",
       "      <td>1468.0</td>\n",
       "    </tr>\n",
       "    <tr>\n",
       "      <th>Ecuador</th>\n",
       "      <td>12608.0</td>\n",
       "      <td>7.6455</td>\n",
       "      <td>164908.0</td>\n",
       "    </tr>\n",
       "    <tr>\n",
       "      <th>Mexico</th>\n",
       "      <td>90309.0</td>\n",
       "      <td>9.9584</td>\n",
       "      <td>906863.0</td>\n",
       "    </tr>\n",
       "    <tr>\n",
       "      <th>Western Sahara</th>\n",
       "      <td>1.0</td>\n",
       "      <td>10.0000</td>\n",
       "      <td>10.0</td>\n",
       "    </tr>\n",
       "    <tr>\n",
       "      <th>MS Zaandam</th>\n",
       "      <td>2.0</td>\n",
       "      <td>22.2222</td>\n",
       "      <td>9.0</td>\n",
       "    </tr>\n",
       "    <tr>\n",
       "      <th>Yemen</th>\n",
       "      <td>599.0</td>\n",
       "      <td>29.0636</td>\n",
       "      <td>2061.0</td>\n",
       "    </tr>\n",
       "  </tbody>\n",
       "</table>\n",
       "</div>"
      ],
      "text/plain": [
       "                    280  RatioFatalByConfirmed_in_%  Confirmed\n",
       "Fiji                2.0                      6.0606       33.0\n",
       "Sudan             837.0                      6.0806    13765.0\n",
       "Bolivia          8694.0                      6.1520   141321.0\n",
       "Italy           37905.0                      6.4271   589766.0\n",
       "Chad               97.0                      6.6076     1468.0\n",
       "Ecuador         12608.0                      7.6455   164908.0\n",
       "Mexico          90309.0                      9.9584   906863.0\n",
       "Western Sahara      1.0                     10.0000       10.0\n",
       "MS Zaandam          2.0                     22.2222        9.0\n",
       "Yemen             599.0                     29.0636     2061.0"
      ]
     },
     "execution_count": 10,
     "metadata": {},
     "output_type": "execute_result"
    },
    {
     "data": {
      "image/png": "[encoded data removed]",
      "text/plain": [
       "<Figure size 1440x432 with 1 Axes>"
      ]
     },
     "metadata": {
      "needs_background": "light"
     },
     "output_type": "display_data"
    }
   ],
   "source": [
    "top10fatal_lowest.sort_values(by=['RatioFatalByConfirmed_in_%']).tail(10)['RatioFatalByConfirmed_in_%'].plot.bar(color='red')\n",
    "plt.xticks(rotation=0)\n",
    "plt.title(\"Top 10 countries/ locations with highest ratio Total fatalities over Confirmed case on Day \"+str(lastday))\n",
    "\n",
    "top10fatal_lowest.sort_values(by=['RatioFatalByConfirmed_in_%']).tail(10)"
   ]
  },
  {
   "cell_type": "code",
   "execution_count": 11,
   "metadata": {},
   "outputs": [
    {
     "data": {
      "text/plain": [
       "Index(['Saint Vincent and the Grenadines', 'Dominica', 'Holy See',\n",
       "       'Solomon Islands', 'Grenada', 'Mongolia', 'Cambodia', 'Bhutan',\n",
       "       'Seychelles', 'Saint Kitts and Nevis',\n",
       "       ...\n",
       "       'Iran', 'Peru', 'Spain', 'France', 'Italy', 'United Kingdom', 'Mexico',\n",
       "       'India', 'Brazil', 'US'],\n",
       "      dtype='object', length=190)"
      ]
     },
     "execution_count": 11,
     "metadata": {},
     "output_type": "execute_result"
    }
   ],
   "source": [
    "top10fatal_lowest.index"
   ]
  },
  {
   "cell_type": "code",
   "execution_count": 12,
   "metadata": {},
   "outputs": [
    {
     "data": {
      "text/html": [
       "<div>\n",
       "<style scoped>\n",
       "    .dataframe tbody tr th:only-of-type {\n",
       "        vertical-align: middle;\n",
       "    }\n",
       "\n",
       "    .dataframe tbody tr th {\n",
       "        vertical-align: top;\n",
       "    }\n",
       "\n",
       "    .dataframe thead th {\n",
       "        text-align: right;\n",
       "    }\n",
       "</style>\n",
       "<table border=\"1\" class=\"dataframe\">\n",
       "  <thead>\n",
       "    <tr style=\"text-align: right;\">\n",
       "      <th></th>\n",
       "      <th>280</th>\n",
       "      <th>RatioRecoveredByConfirmed_in_%</th>\n",
       "      <th>Confirmed</th>\n",
       "    </tr>\n",
       "  </thead>\n",
       "  <tbody>\n",
       "    <tr>\n",
       "      <th>MS Zaandam</th>\n",
       "      <td>0.0</td>\n",
       "      <td>0.0000</td>\n",
       "      <td>9.0</td>\n",
       "    </tr>\n",
       "    <tr>\n",
       "      <th>Serbia</th>\n",
       "      <td>0.0</td>\n",
       "      <td>0.0000</td>\n",
       "      <td>42208.0</td>\n",
       "    </tr>\n",
       "    <tr>\n",
       "      <th>Sweden</th>\n",
       "      <td>0.0</td>\n",
       "      <td>0.0000</td>\n",
       "      <td>117913.0</td>\n",
       "    </tr>\n",
       "    <tr>\n",
       "      <th>Marshall Islands</th>\n",
       "      <td>0.0</td>\n",
       "      <td>0.0000</td>\n",
       "      <td>2.0</td>\n",
       "    </tr>\n",
       "    <tr>\n",
       "      <th>United Kingdom</th>\n",
       "      <td>2773.0</td>\n",
       "      <td>0.2933</td>\n",
       "      <td>945378.0</td>\n",
       "    </tr>\n",
       "    <tr>\n",
       "      <th>Netherlands</th>\n",
       "      <td>5738.0</td>\n",
       "      <td>1.7585</td>\n",
       "      <td>326308.0</td>\n",
       "    </tr>\n",
       "    <tr>\n",
       "      <th>Greece</th>\n",
       "      <td>1347.0</td>\n",
       "      <td>3.9272</td>\n",
       "      <td>34299.0</td>\n",
       "    </tr>\n",
       "    <tr>\n",
       "      <th>Belgium</th>\n",
       "      <td>23969.0</td>\n",
       "      <td>6.5074</td>\n",
       "      <td>368337.0</td>\n",
       "    </tr>\n",
       "    <tr>\n",
       "      <th>Tunisia</th>\n",
       "      <td>5032.0</td>\n",
       "      <td>9.2708</td>\n",
       "      <td>54278.0</td>\n",
       "    </tr>\n",
       "    <tr>\n",
       "      <th>France</th>\n",
       "      <td>119413.0</td>\n",
       "      <td>9.3276</td>\n",
       "      <td>1280215.0</td>\n",
       "    </tr>\n",
       "  </tbody>\n",
       "</table>\n",
       "</div>"
      ],
      "text/plain": [
       "                       280  RatioRecoveredByConfirmed_in_%  Confirmed\n",
       "MS Zaandam             0.0                          0.0000        9.0\n",
       "Serbia                 0.0                          0.0000    42208.0\n",
       "Sweden                 0.0                          0.0000   117913.0\n",
       "Marshall Islands       0.0                          0.0000        2.0\n",
       "United Kingdom      2773.0                          0.2933   945378.0\n",
       "Netherlands         5738.0                          1.7585   326308.0\n",
       "Greece              1347.0                          3.9272    34299.0\n",
       "Belgium            23969.0                          6.5074   368337.0\n",
       "Tunisia             5032.0                          9.2708    54278.0\n",
       "France            119413.0                          9.3276  1280215.0"
      ]
     },
     "execution_count": 12,
     "metadata": {},
     "output_type": "execute_result"
    },
    {
     "data": {
      "image/png": "[encoded data removed]",
      "text/plain": [
       "<Figure size 1440x432 with 1 Axes>"
      ]
     },
     "metadata": {
      "needs_background": "light"
     },
     "output_type": "display_data"
    }
   ],
   "source": [
    "top10recovered_lowest.sort_values(by=['RatioRecoveredByConfirmed_in_%']).head(10)['RatioRecoveredByConfirmed_in_%'].plot.bar(color='green')\n",
    "plt.xticks(rotation=0)\n",
    "plt.title(\"Top 10 countries/ locations with lowest ratio Total recovered over Confirmed case on Day \"+str(lastday))\n",
    "\n",
    "top10recovered_lowest.sort_values(by=['RatioRecoveredByConfirmed_in_%']).head(10)"
   ]
  },
  {
   "cell_type": "code",
   "execution_count": 13,
   "metadata": {},
   "outputs": [
    {
     "data": {
      "text/html": [
       "<div>\n",
       "<style scoped>\n",
       "    .dataframe tbody tr th:only-of-type {\n",
       "        vertical-align: middle;\n",
       "    }\n",
       "\n",
       "    .dataframe tbody tr th {\n",
       "        vertical-align: top;\n",
       "    }\n",
       "\n",
       "    .dataframe thead th {\n",
       "        text-align: right;\n",
       "    }\n",
       "</style>\n",
       "<table border=\"1\" class=\"dataframe\">\n",
       "  <thead>\n",
       "    <tr style=\"text-align: right;\">\n",
       "      <th></th>\n",
       "      <th>280</th>\n",
       "      <th>RatioRecoveredByConfirmed_in_%</th>\n",
       "      <th>Confirmed</th>\n",
       "    </tr>\n",
       "  </thead>\n",
       "  <tbody>\n",
       "    <tr>\n",
       "      <th>Suriname</th>\n",
       "      <td>5046.0</td>\n",
       "      <td>97.1880</td>\n",
       "      <td>5192.0</td>\n",
       "    </tr>\n",
       "    <tr>\n",
       "      <th>Seychelles</th>\n",
       "      <td>149.0</td>\n",
       "      <td>97.3856</td>\n",
       "      <td>153.0</td>\n",
       "    </tr>\n",
       "    <tr>\n",
       "      <th>Cambodia</th>\n",
       "      <td>283.0</td>\n",
       "      <td>97.5862</td>\n",
       "      <td>290.0</td>\n",
       "    </tr>\n",
       "    <tr>\n",
       "      <th>Equatorial Guinea</th>\n",
       "      <td>4964.0</td>\n",
       "      <td>97.6589</td>\n",
       "      <td>5083.0</td>\n",
       "    </tr>\n",
       "    <tr>\n",
       "      <th>Qatar</th>\n",
       "      <td>128884.0</td>\n",
       "      <td>97.6845</td>\n",
       "      <td>131939.0</td>\n",
       "    </tr>\n",
       "    <tr>\n",
       "      <th>Djibouti</th>\n",
       "      <td>5427.0</td>\n",
       "      <td>97.6958</td>\n",
       "      <td>5555.0</td>\n",
       "    </tr>\n",
       "    <tr>\n",
       "      <th>Ghana</th>\n",
       "      <td>46971.0</td>\n",
       "      <td>98.3171</td>\n",
       "      <td>47775.0</td>\n",
       "    </tr>\n",
       "    <tr>\n",
       "      <th>Cote d'Ivoire</th>\n",
       "      <td>20241.0</td>\n",
       "      <td>98.4724</td>\n",
       "      <td>20555.0</td>\n",
       "    </tr>\n",
       "    <tr>\n",
       "      <th>Singapore</th>\n",
       "      <td>57890.0</td>\n",
       "      <td>99.8327</td>\n",
       "      <td>57987.0</td>\n",
       "    </tr>\n",
       "    <tr>\n",
       "      <th>Saint Kitts and Nevis</th>\n",
       "      <td>19.0</td>\n",
       "      <td>100.0000</td>\n",
       "      <td>19.0</td>\n",
       "    </tr>\n",
       "  </tbody>\n",
       "</table>\n",
       "</div>"
      ],
      "text/plain": [
       "                            280  RatioRecoveredByConfirmed_in_%  Confirmed\n",
       "Suriname                 5046.0                         97.1880     5192.0\n",
       "Seychelles                149.0                         97.3856      153.0\n",
       "Cambodia                  283.0                         97.5862      290.0\n",
       "Equatorial Guinea        4964.0                         97.6589     5083.0\n",
       "Qatar                  128884.0                         97.6845   131939.0\n",
       "Djibouti                 5427.0                         97.6958     5555.0\n",
       "Ghana                   46971.0                         98.3171    47775.0\n",
       "Cote d'Ivoire           20241.0                         98.4724    20555.0\n",
       "Singapore               57890.0                         99.8327    57987.0\n",
       "Saint Kitts and Nevis      19.0                        100.0000       19.0"
      ]
     },
     "execution_count": 13,
     "metadata": {},
     "output_type": "execute_result"
    },
    {
     "data": {
      "image/png": "[encoded data removed]",
      "text/plain": [
       "<Figure size 1440x432 with 1 Axes>"
      ]
     },
     "metadata": {
      "needs_background": "light"
     },
     "output_type": "display_data"
    }
   ],
   "source": [
    "top10recovered_lowest.sort_values(by=['RatioRecoveredByConfirmed_in_%']).tail(10)['RatioRecoveredByConfirmed_in_%'].plot.bar(color='green')\n",
    "plt.xticks(rotation=0)\n",
    "plt.title(\"Top 10 countries/ locations with highest ratio Total recovered over Confirmed case on Day \"+str(lastday))\n",
    "\n",
    "top10recovered_lowest.sort_values(by=['RatioRecoveredByConfirmed_in_%']).tail(10)"
   ]
  }
 ],
 "metadata": {
  "kernelspec": {
   "display_name": "Python [conda env:.conda-aic]",
   "language": "python",
   "name": "conda-env-.conda-aic-py"
  },
  "language_info": {
   "codemirror_mode": {
    "name": "ipython",
    "version": 3
   },
   "file_extension": ".py",
   "mimetype": "text/x-python",
   "name": "python",
   "nbconvert_exporter": "python",
   "pygments_lexer": "ipython3",
   "version": "3.7.6"
  }
 },
 "nbformat": 4,
 "nbformat_minor": 4
}
