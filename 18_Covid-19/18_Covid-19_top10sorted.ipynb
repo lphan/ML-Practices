{
 "cells": [
  {
   "cell_type": "markdown",
   "metadata": {},
   "source": [
    "### COVID-19 \n",
    "### UPDATE by DAY \n",
    "### TOP 10 (highest sorted) countries with TOTAL cases (CONFIRMED, FATALITIES, RECOVERED) last day "
   ]
  },
  {
   "cell_type": "code",
   "execution_count": 1,
   "metadata": {},
   "outputs": [
    {
     "name": "stdout",
     "output_type": "stream",
     "text": [
      "Start importing files in folder\n",
      "['.gitignore', '01-22-2020.csv', '01-23-2020.csv', '01-24-2020.csv', '01-25-2020.csv', '01-26-2020.csv', '01-27-2020.csv', '01-28-2020.csv', '01-29-2020.csv', '01-30-2020.csv', '01-31-2020.csv', '02-01-2020.csv', '02-02-2020.csv', '02-03-2020.csv', '02-04-2020.csv', '02-05-2020.csv', '02-06-2020.csv', '02-07-2020.csv', '02-08-2020.csv', '02-09-2020.csv', '02-10-2020.csv', '02-11-2020.csv', '02-12-2020.csv', '02-13-2020.csv', '02-14-2020.csv', '02-15-2020.csv', '02-16-2020.csv', '02-17-2020.csv', '02-18-2020.csv', '02-19-2020.csv', '02-20-2020.csv', '02-21-2020.csv', '02-22-2020.csv', '02-23-2020.csv', '02-24-2020.csv', '02-25-2020.csv', '02-26-2020.csv', '02-27-2020.csv', '02-28-2020.csv', '02-29-2020.csv', '03-01-2020.csv', '03-02-2020.csv', '03-03-2020.csv', '03-04-2020.csv', '03-05-2020.csv', '03-06-2020.csv', '03-07-2020.csv', '03-08-2020.csv', '03-09-2020.csv', '03-10-2020.csv', '03-11-2020.csv', '03-12-2020.csv', '03-13-2020.csv', '03-14-2020.csv', '03-15-2020.csv', '03-16-2020.csv', '03-17-2020.csv', '03-18-2020.csv', '03-19-2020.csv', '03-20-2020.csv', '03-21-2020.csv', '03-22-2020.csv', '03-23-2020.csv', '03-24-2020.csv', '03-25-2020.csv', '03-26-2020.csv', '03-27-2020.csv', '03-28-2020.csv', '03-29-2020.csv', '03-30-2020.csv', '03-31-2020.csv', '04-01-2020.csv', '04-02-2020.csv', '04-03-2020.csv', '04-04-2020.csv', '04-05-2020.csv', '04-06-2020.csv', '04-07-2020.csv', '04-08-2020.csv', '04-09-2020.csv', '04-10-2020.csv', '04-11-2020.csv', '04-12-2020.csv', '04-13-2020.csv', '04-14-2020.csv', '04-15-2020.csv', '04-16-2020.csv', '04-17-2020.csv', '04-18-2020.csv', '04-19-2020.csv', '04-20-2020.csv', '04-21-2020.csv', '04-22-2020.csv', '04-23-2020.csv', '04-24-2020.csv', '04-25-2020.csv', '04-26-2020.csv', '04-27-2020.csv', '04-28-2020.csv', '04-29-2020.csv', '04-30-2020.csv', '05-01-2020.csv', '05-02-2020.csv', '05-03-2020.csv', '05-04-2020.csv', '05-05-2020.csv', '05-06-2020.csv', '05-07-2020.csv', '05-08-2020.csv', '05-09-2020.csv', '05-10-2020.csv', '05-11-2020.csv', '05-12-2020.csv', '05-13-2020.csv', '05-14-2020.csv', '05-15-2020.csv', '05-16-2020.csv', '05-17-2020.csv', '05-18-2020.csv', '05-19-2020.csv', '05-20-2020.csv', '05-21-2020.csv', '05-22-2020.csv', '05-23-2020.csv', '05-24-2020.csv', '05-25-2020.csv', '05-26-2020.csv', '05-27-2020.csv', '05-28-2020.csv', '05-29-2020.csv', '05-30-2020.csv', '05-31-2020.csv', '06-01-2020.csv', '06-02-2020.csv', '06-03-2020.csv', '06-04-2020.csv', '06-05-2020.csv', '06-06-2020.csv', '06-07-2020.csv', '06-08-2020.csv', '06-09-2020.csv', '06-10-2020.csv', '06-11-2020.csv', '06-12-2020.csv', '06-13-2020.csv', '06-14-2020.csv', '06-15-2020.csv', '06-16-2020.csv', '06-17-2020.csv', '06-18-2020.csv', '06-19-2020.csv', '06-20-2020.csv', '06-21-2020.csv', '06-22-2020.csv', '06-23-2020.csv', '06-24-2020.csv', '06-25-2020.csv', '06-26-2020.csv', '06-27-2020.csv', '06-28-2020.csv', '06-29-2020.csv', '06-30-2020.csv', '07-01-2020.csv', '07-02-2020.csv', '07-03-2020.csv', '07-04-2020.csv', '07-05-2020.csv', '07-06-2020.csv', '07-07-2020.csv', '07-08-2020.csv', '07-09-2020.csv', '07-10-2020.csv', '07-11-2020.csv', '07-12-2020.csv', '07-13-2020.csv', '07-14-2020.csv', '07-15-2020.csv', '07-16-2020.csv', '07-17-2020.csv', '07-18-2020.csv', '07-19-2020.csv', '07-20-2020.csv', '07-21-2020.csv', '07-22-2020.csv', '07-23-2020.csv', '07-24-2020.csv', '07-25-2020.csv', '07-26-2020.csv', '07-27-2020.csv', '07-28-2020.csv', '07-29-2020.csv', '07-30-2020.csv', '07-31-2020.csv', '08-01-2020.csv', '08-02-2020.csv', '08-03-2020.csv', '08-04-2020.csv', '08-05-2020.csv', '08-06-2020.csv', '08-07-2020.csv', '08-08-2020.csv', '08-09-2020.csv', '08-10-2020.csv', '08-11-2020.csv', '08-12-2020.csv', '08-13-2020.csv', '08-14-2020.csv', '08-15-2020.csv', '08-16-2020.csv', '08-17-2020.csv', '08-18-2020.csv', '08-19-2020.csv', '08-20-2020.csv', '08-21-2020.csv', '08-22-2020.csv', '08-23-2020.csv', '08-24-2020.csv', '08-25-2020.csv', '08-26-2020.csv', '08-27-2020.csv', '08-28-2020.csv', '08-29-2020.csv', '08-30-2020.csv', '08-31-2020.csv', '09-01-2020.csv', '09-02-2020.csv', '09-03-2020.csv', '09-04-2020.csv', '09-05-2020.csv', '09-06-2020.csv', '09-07-2020.csv', '09-08-2020.csv', '09-09-2020.csv', '09-10-2020.csv', '09-11-2020.csv', '09-12-2020.csv', '09-13-2020.csv', '09-14-2020.csv', '09-15-2020.csv', '09-16-2020.csv', '09-17-2020.csv', '09-18-2020.csv', '09-19-2020.csv', '09-20-2020.csv', '09-21-2020.csv', '09-22-2020.csv', '09-23-2020.csv', '09-24-2020.csv', '09-25-2020.csv', '09-26-2020.csv', '09-27-2020.csv', '09-28-2020.csv', '09-29-2020.csv', '09-30-2020.csv', '10-01-2020.csv', '10-02-2020.csv', '10-03-2020.csv', '10-04-2020.csv', '10-05-2020.csv', '10-06-2020.csv', '10-07-2020.csv', '10-08-2020.csv', '10-09-2020.csv', '10-10-2020.csv', '10-11-2020.csv', '10-12-2020.csv', '10-13-2020.csv', '10-14-2020.csv', '10-15-2020.csv', '10-16-2020.csv', '10-17-2020.csv', '10-18-2020.csv', '10-19-2020.csv', '10-20-2020.csv', '10-21-2020.csv', '10-22-2020.csv', '10-23-2020.csv', '10-24-2020.csv', '10-25-2020.csv', '10-26-2020.csv', '10-27-2020.csv', '10-28-2020.csv', '10-29-2020.csv', '10-30-2020.csv', '10-31-2020.csv', '11-01-2020.csv', '11-02-2020.csv', '11-03-2020.csv', '11-04-2020.csv', '11-05-2020.csv', '11-06-2020.csv', '11-07-2020.csv', '11-08-2020.csv', '11-09-2020.csv', '11-10-2020.csv', '11-11-2020.csv', '11-12-2020.csv', '11-13-2020.csv', '11-14-2020.csv', '11-15-2020.csv', '11-16-2020.csv', '11-17-2020.csv', '11-18-2020.csv', '11-19-2020.csv', '11-20-2020.csv', '11-21-2020.csv', '11-22-2020.csv', '11-23-2020.csv', '11-24-2020.csv', '11-25-2020.csv', '11-26-2020.csv', '11-27-2020.csv', '11-28-2020.csv', '11-29-2020.csv', '11-30-2020.csv', '12-01-2020.csv', '12-02-2020.csv', '12-03-2020.csv', '12-04-2020.csv', '12-05-2020.csv', '12-06-2020.csv', '12-07-2020.csv', '12-08-2020.csv', '12-09-2020.csv', '12-10-2020.csv', 'README.md']\n",
      "None\n",
      "None\n",
      "Start importing single data  ./COVID-19/csse_covid_19_data/UID_ISO_FIPS_LookUp_Table.csv\n"
     ]
    }
   ],
   "source": [
    "# Configuration: setup absolute path to location of package Starts and config-file \n",
    "from inspect import getsourcefile\n",
    "import os.path as path, sys\n",
    "current_dir = path.dirname(path.abspath(getsourcefile(lambda:0)))\n",
    "sys.path.insert(0, current_dir[:current_dir.rfind(path.sep)])\n",
    "\n",
    "from Starts.start import *\n",
    "from Starts.startml import *\n",
    "from Starts.startvis import *  \n",
    "%matplotlib inline\n",
    "rcParams['figure.figsize'] = 20, 6"
   ]
  },
  {
   "cell_type": "markdown",
   "metadata": {},
   "source": [
    "### Number of covid-19 outbreak days"
   ]
  },
  {
   "cell_type": "code",
   "execution_count": 2,
   "metadata": {},
   "outputs": [
    {
     "data": {
      "text/plain": [
       "324"
      ]
     },
     "execution_count": 2,
     "metadata": {},
     "output_type": "execute_result"
    }
   ],
   "source": [
    "from covidpd import *\n",
    "len(data)"
   ]
  },
  {
   "cell_type": "code",
   "execution_count": 3,
   "metadata": {},
   "outputs": [
    {
     "name": "stdout",
     "output_type": "stream",
     "text": [
      "Ratio total fatalities/ total confirmed:  2.27 %\n",
      "Ratio total recovered/ total confirmed: 64.48 %\n",
      "Remaining: 33.25 %\n"
     ]
    }
   ],
   "source": [
    "tftc = totalFatal/totalConfirmed*100\n",
    "trtc = totalRecovered/totalConfirmed*100\n",
    "re = 100-tftc-trtc\n",
    "print(\"Ratio total fatalities/ total confirmed: %5.2f %%\" % tftc)\n",
    "print(\"Ratio total recovered/ total confirmed: %5.2f %%\" % trtc)\n",
    "print(\"Remaining: %5.2f %%\" % re)"
   ]
  },
  {
   "cell_type": "markdown",
   "metadata": {},
   "source": [
    "### TOP 10 (highest sorted) countries with TOTAL CONFIRMED"
   ]
  },
  {
   "cell_type": "code",
   "execution_count": 4,
   "metadata": {},
   "outputs": [
    {
     "name": "stdout",
     "output_type": "stream",
     "text": [
      "Total Confirmed:  69592554.0\n",
      "Total percentage of 10 countries:  65.11 %\n"
     ]
    },
    {
     "data": {
      "text/html": [
       "<div>\n",
       "<style scoped>\n",
       "    .dataframe tbody tr th:only-of-type {\n",
       "        vertical-align: middle;\n",
       "    }\n",
       "\n",
       "    .dataframe tbody tr th {\n",
       "        vertical-align: top;\n",
       "    }\n",
       "\n",
       "    .dataframe thead th {\n",
       "        text-align: right;\n",
       "    }\n",
       "</style>\n",
       "<table border=\"1\" class=\"dataframe\">\n",
       "  <thead>\n",
       "    <tr style=\"text-align: right;\">\n",
       "      <th></th>\n",
       "      <th>323</th>\n",
       "      <th>RatioByTotal_in_%</th>\n",
       "    </tr>\n",
       "  </thead>\n",
       "  <tbody>\n",
       "    <tr>\n",
       "      <th>US</th>\n",
       "      <td>15611014.0</td>\n",
       "      <td>22.4320</td>\n",
       "    </tr>\n",
       "    <tr>\n",
       "      <th>India</th>\n",
       "      <td>9796744.0</td>\n",
       "      <td>14.0773</td>\n",
       "    </tr>\n",
       "    <tr>\n",
       "      <th>Brazil</th>\n",
       "      <td>6781799.0</td>\n",
       "      <td>9.7450</td>\n",
       "    </tr>\n",
       "    <tr>\n",
       "      <th>Russia</th>\n",
       "      <td>2546113.0</td>\n",
       "      <td>3.6586</td>\n",
       "    </tr>\n",
       "    <tr>\n",
       "      <th>France</th>\n",
       "      <td>2391643.0</td>\n",
       "      <td>3.4366</td>\n",
       "    </tr>\n",
       "    <tr>\n",
       "      <th>United Kingdom</th>\n",
       "      <td>1792611.0</td>\n",
       "      <td>2.5759</td>\n",
       "    </tr>\n",
       "    <tr>\n",
       "      <th>Italy</th>\n",
       "      <td>1787147.0</td>\n",
       "      <td>2.5680</td>\n",
       "    </tr>\n",
       "    <tr>\n",
       "      <th>Spain</th>\n",
       "      <td>1720056.0</td>\n",
       "      <td>2.4716</td>\n",
       "    </tr>\n",
       "    <tr>\n",
       "      <th>Argentina</th>\n",
       "      <td>1482216.0</td>\n",
       "      <td>2.1298</td>\n",
       "    </tr>\n",
       "    <tr>\n",
       "      <th>Colombia</th>\n",
       "      <td>1399911.0</td>\n",
       "      <td>2.0116</td>\n",
       "    </tr>\n",
       "  </tbody>\n",
       "</table>\n",
       "</div>"
      ],
      "text/plain": [
       "                       323  RatioByTotal_in_%\n",
       "US              15611014.0            22.4320\n",
       "India            9796744.0            14.0773\n",
       "Brazil           6781799.0             9.7450\n",
       "Russia           2546113.0             3.6586\n",
       "France           2391643.0             3.4366\n",
       "United Kingdom   1792611.0             2.5759\n",
       "Italy            1787147.0             2.5680\n",
       "Spain            1720056.0             2.4716\n",
       "Argentina        1482216.0             2.1298\n",
       "Colombia         1399911.0             2.0116"
      ]
     },
     "execution_count": 4,
     "metadata": {},
     "output_type": "execute_result"
    },
    {
     "data": {
      "image/png": "[encoded data removed]",
      "text/plain": [
       "<Figure size 1440x432 with 1 Axes>"
      ]
     },
     "metadata": {
      "needs_background": "light"
     },
     "output_type": "display_data"
    }
   ],
   "source": [
    "top10confirmed[lastday].plot.bar(color='orange')\n",
    "plt.title('Top 10 countries with total HIGHEST confirmed until last day %i' %lastday)\n",
    "plt.xticks(rotation=0)\n",
    "print(\"Total Confirmed: \", totalConfirmed)\n",
    "print(\"Total percentage of 10 countries: %6.2f %%\" % sum(top10confirmed['RatioByTotal_in_%'].values))\n",
    "for idx in range(10):\n",
    "    plt.text(idx, top10confirmed[lastday][idx], str(top10confirmed['RatioByTotal_in_%'][idx])+'%', horizontalalignment='center', fontweight='bold')\n",
    "top10confirmed"
   ]
  },
  {
   "cell_type": "markdown",
   "metadata": {},
   "source": [
    "### TOP 10 (highest sorted) countries with TOTAL FATALITIES"
   ]
  },
  {
   "cell_type": "code",
   "execution_count": 5,
   "metadata": {},
   "outputs": [
    {
     "name": "stdout",
     "output_type": "stream",
     "text": [
      "Total Fatalities:  1581856.0\n",
      "Total percentage of 10 countries:  66.56 %\n"
     ]
    },
    {
     "data": {
      "text/html": [
       "<div>\n",
       "<style scoped>\n",
       "    .dataframe tbody tr th:only-of-type {\n",
       "        vertical-align: middle;\n",
       "    }\n",
       "\n",
       "    .dataframe tbody tr th {\n",
       "        vertical-align: top;\n",
       "    }\n",
       "\n",
       "    .dataframe thead th {\n",
       "        text-align: right;\n",
       "    }\n",
       "</style>\n",
       "<table border=\"1\" class=\"dataframe\">\n",
       "  <thead>\n",
       "    <tr style=\"text-align: right;\">\n",
       "      <th></th>\n",
       "      <th>323</th>\n",
       "      <th>RatioByTotal_in_%</th>\n",
       "    </tr>\n",
       "  </thead>\n",
       "  <tbody>\n",
       "    <tr>\n",
       "      <th>US</th>\n",
       "      <td>292141.0</td>\n",
       "      <td>18.4682</td>\n",
       "    </tr>\n",
       "    <tr>\n",
       "      <th>Brazil</th>\n",
       "      <td>179765.0</td>\n",
       "      <td>11.3642</td>\n",
       "    </tr>\n",
       "    <tr>\n",
       "      <th>India</th>\n",
       "      <td>142185.0</td>\n",
       "      <td>8.9885</td>\n",
       "    </tr>\n",
       "    <tr>\n",
       "      <th>Mexico</th>\n",
       "      <td>112326.0</td>\n",
       "      <td>7.1009</td>\n",
       "    </tr>\n",
       "    <tr>\n",
       "      <th>United Kingdom</th>\n",
       "      <td>63179.0</td>\n",
       "      <td>3.9940</td>\n",
       "    </tr>\n",
       "    <tr>\n",
       "      <th>Italy</th>\n",
       "      <td>62626.0</td>\n",
       "      <td>3.9590</td>\n",
       "    </tr>\n",
       "    <tr>\n",
       "      <th>France</th>\n",
       "      <td>57044.0</td>\n",
       "      <td>3.6061</td>\n",
       "    </tr>\n",
       "    <tr>\n",
       "      <th>Iran</th>\n",
       "      <td>51496.0</td>\n",
       "      <td>3.2554</td>\n",
       "    </tr>\n",
       "    <tr>\n",
       "      <th>Spain</th>\n",
       "      <td>47344.0</td>\n",
       "      <td>2.9929</td>\n",
       "    </tr>\n",
       "    <tr>\n",
       "      <th>Russia</th>\n",
       "      <td>44769.0</td>\n",
       "      <td>2.8302</td>\n",
       "    </tr>\n",
       "  </tbody>\n",
       "</table>\n",
       "</div>"
      ],
      "text/plain": [
       "                     323  RatioByTotal_in_%\n",
       "US              292141.0            18.4682\n",
       "Brazil          179765.0            11.3642\n",
       "India           142185.0             8.9885\n",
       "Mexico          112326.0             7.1009\n",
       "United Kingdom   63179.0             3.9940\n",
       "Italy            62626.0             3.9590\n",
       "France           57044.0             3.6061\n",
       "Iran             51496.0             3.2554\n",
       "Spain            47344.0             2.9929\n",
       "Russia           44769.0             2.8302"
      ]
     },
     "execution_count": 5,
     "metadata": {},
     "output_type": "execute_result"
    },
    {
     "data": {
      "image/png": "[encoded data removed]",
      "text/plain": [
       "<Figure size 1440x432 with 1 Axes>"
      ]
     },
     "metadata": {
      "needs_background": "light"
     },
     "output_type": "display_data"
    }
   ],
   "source": [
    "top10fatal[lastday].plot.bar(color='red')\n",
    "plt.title('Top 10 countries with total HIGHEST fatalities until last day %i' %lastday)\n",
    "plt.xticks(rotation=0)\n",
    "print(\"Total Fatalities: \", totalFatal)\n",
    "print(\"Total percentage of 10 countries: %6.2f %%\" % sum(top10fatal['RatioByTotal_in_%'].values))\n",
    "for idx in range(10):\n",
    "    plt.text(idx, top10fatal[lastday][idx], str(top10fatal['RatioByTotal_in_%'][idx])+'%', horizontalalignment='center', fontweight='bold')\n",
    "top10fatal"
   ]
  },
  {
   "cell_type": "markdown",
   "metadata": {},
   "source": [
    "### TOP 10 (highest sorted) countries with TOTAL RECOVERED"
   ]
  },
  {
   "cell_type": "code",
   "execution_count": 6,
   "metadata": {},
   "outputs": [
    {
     "name": "stdout",
     "output_type": "stream",
     "text": [
      "Total Recovered:  44871360.0\n",
      "Total percentage of 10 countries:  66.27 %\n"
     ]
    },
    {
     "data": {
      "text/html": [
       "<div>\n",
       "<style scoped>\n",
       "    .dataframe tbody tr th:only-of-type {\n",
       "        vertical-align: middle;\n",
       "    }\n",
       "\n",
       "    .dataframe tbody tr th {\n",
       "        vertical-align: top;\n",
       "    }\n",
       "\n",
       "    .dataframe thead th {\n",
       "        text-align: right;\n",
       "    }\n",
       "</style>\n",
       "<table border=\"1\" class=\"dataframe\">\n",
       "  <thead>\n",
       "    <tr style=\"text-align: right;\">\n",
       "      <th></th>\n",
       "      <th>323</th>\n",
       "      <th>RatioByTotal_in_%</th>\n",
       "    </tr>\n",
       "  </thead>\n",
       "  <tbody>\n",
       "    <tr>\n",
       "      <th>India</th>\n",
       "      <td>9290809.0</td>\n",
       "      <td>20.7054</td>\n",
       "    </tr>\n",
       "    <tr>\n",
       "      <th>Brazil</th>\n",
       "      <td>6043219.0</td>\n",
       "      <td>13.4679</td>\n",
       "    </tr>\n",
       "    <tr>\n",
       "      <th>US</th>\n",
       "      <td>5985047.0</td>\n",
       "      <td>13.3382</td>\n",
       "    </tr>\n",
       "    <tr>\n",
       "      <th>Russia</th>\n",
       "      <td>2015137.0</td>\n",
       "      <td>4.4909</td>\n",
       "    </tr>\n",
       "    <tr>\n",
       "      <th>Argentina</th>\n",
       "      <td>1318187.0</td>\n",
       "      <td>2.9377</td>\n",
       "    </tr>\n",
       "    <tr>\n",
       "      <th>Colombia</th>\n",
       "      <td>1296420.0</td>\n",
       "      <td>2.8892</td>\n",
       "    </tr>\n",
       "    <tr>\n",
       "      <th>Italy</th>\n",
       "      <td>1027994.0</td>\n",
       "      <td>2.2910</td>\n",
       "    </tr>\n",
       "    <tr>\n",
       "      <th>Germany</th>\n",
       "      <td>949913.0</td>\n",
       "      <td>2.1170</td>\n",
       "    </tr>\n",
       "    <tr>\n",
       "      <th>Peru</th>\n",
       "      <td>912501.0</td>\n",
       "      <td>2.0336</td>\n",
       "    </tr>\n",
       "    <tr>\n",
       "      <th>Mexico</th>\n",
       "      <td>896130.0</td>\n",
       "      <td>1.9971</td>\n",
       "    </tr>\n",
       "  </tbody>\n",
       "</table>\n",
       "</div>"
      ],
      "text/plain": [
       "                 323  RatioByTotal_in_%\n",
       "India      9290809.0            20.7054\n",
       "Brazil     6043219.0            13.4679\n",
       "US         5985047.0            13.3382\n",
       "Russia     2015137.0             4.4909\n",
       "Argentina  1318187.0             2.9377\n",
       "Colombia   1296420.0             2.8892\n",
       "Italy      1027994.0             2.2910\n",
       "Germany     949913.0             2.1170\n",
       "Peru        912501.0             2.0336\n",
       "Mexico      896130.0             1.9971"
      ]
     },
     "execution_count": 6,
     "metadata": {},
     "output_type": "execute_result"
    },
    {
     "data": {
      "image/png": "[encoded data removed]",
      "text/plain": [
       "<Figure size 1440x432 with 1 Axes>"
      ]
     },
     "metadata": {
      "needs_background": "light"
     },
     "output_type": "display_data"
    }
   ],
   "source": [
    "top10recovered[lastday].plot.bar(color='green')\n",
    "plt.title('Top 10 countries with total HIGHEST recovered until last day %i' %lastday)\n",
    "plt.xticks(rotation=0)\n",
    "print(\"Total Recovered: \", totalRecovered)\n",
    "print(\"Total percentage of 10 countries: %6.2f %%\" % sum(top10recovered['RatioByTotal_in_%'].values))\n",
    "for idx in range(10):\n",
    "    plt.text(idx, top10recovered[lastday][idx], str(top10recovered['RatioByTotal_in_%'][idx])+'%', horizontalalignment='center', fontweight='bold')\n",
    "top10recovered"
   ]
  },
  {
   "cell_type": "markdown",
   "metadata": {},
   "source": [
    "### TOP 10 countries with the lowest/ highest ratio TOTAL cases (CONFIRMED) over country population and (FATALITIES, RECOVERED) over CONFIRMED"
   ]
  },
  {
   "cell_type": "code",
   "execution_count": 7,
   "metadata": {},
   "outputs": [
    {
     "data": {
      "text/html": [
       "<div>\n",
       "<style scoped>\n",
       "    .dataframe tbody tr th:only-of-type {\n",
       "        vertical-align: middle;\n",
       "    }\n",
       "\n",
       "    .dataframe tbody tr th {\n",
       "        vertical-align: top;\n",
       "    }\n",
       "\n",
       "    .dataframe thead th {\n",
       "        text-align: right;\n",
       "    }\n",
       "</style>\n",
       "<table border=\"1\" class=\"dataframe\">\n",
       "  <thead>\n",
       "    <tr style=\"text-align: right;\">\n",
       "      <th></th>\n",
       "      <th>323</th>\n",
       "      <th>RatioConfirmedByPopulation_in_%</th>\n",
       "      <th>population</th>\n",
       "    </tr>\n",
       "  </thead>\n",
       "  <tbody>\n",
       "    <tr>\n",
       "      <th>Vanuatu</th>\n",
       "      <td>1.0</td>\n",
       "      <td>0.0003</td>\n",
       "      <td>292680.0</td>\n",
       "    </tr>\n",
       "    <tr>\n",
       "      <th>Laos</th>\n",
       "      <td>41.0</td>\n",
       "      <td>0.0006</td>\n",
       "      <td>7275556.0</td>\n",
       "    </tr>\n",
       "    <tr>\n",
       "      <th>Tanzania</th>\n",
       "      <td>509.0</td>\n",
       "      <td>0.0009</td>\n",
       "      <td>59734213.0</td>\n",
       "    </tr>\n",
       "    <tr>\n",
       "      <th>Samoa</th>\n",
       "      <td>2.0</td>\n",
       "      <td>0.0010</td>\n",
       "      <td>196130.0</td>\n",
       "    </tr>\n",
       "    <tr>\n",
       "      <th>Vietnam</th>\n",
       "      <td>1385.0</td>\n",
       "      <td>0.0014</td>\n",
       "      <td>97338583.0</td>\n",
       "    </tr>\n",
       "    <tr>\n",
       "      <th>Cambodia</th>\n",
       "      <td>357.0</td>\n",
       "      <td>0.0021</td>\n",
       "      <td>16718971.0</td>\n",
       "    </tr>\n",
       "    <tr>\n",
       "      <th>Timor-Leste</th>\n",
       "      <td>31.0</td>\n",
       "      <td>0.0024</td>\n",
       "      <td>1318442.0</td>\n",
       "    </tr>\n",
       "    <tr>\n",
       "      <th>Solomon Islands</th>\n",
       "      <td>17.0</td>\n",
       "      <td>0.0026</td>\n",
       "      <td>652858.0</td>\n",
       "    </tr>\n",
       "    <tr>\n",
       "      <th>Taiwan*</th>\n",
       "      <td>724.0</td>\n",
       "      <td>0.0030</td>\n",
       "      <td>23816775.0</td>\n",
       "    </tr>\n",
       "    <tr>\n",
       "      <th>Fiji</th>\n",
       "      <td>44.0</td>\n",
       "      <td>0.0049</td>\n",
       "      <td>896444.0</td>\n",
       "    </tr>\n",
       "  </tbody>\n",
       "</table>\n",
       "</div>"
      ],
      "text/plain": [
       "                    323  RatioConfirmedByPopulation_in_%  population\n",
       "Vanuatu             1.0                           0.0003    292680.0\n",
       "Laos               41.0                           0.0006   7275556.0\n",
       "Tanzania          509.0                           0.0009  59734213.0\n",
       "Samoa               2.0                           0.0010    196130.0\n",
       "Vietnam          1385.0                           0.0014  97338583.0\n",
       "Cambodia          357.0                           0.0021  16718971.0\n",
       "Timor-Leste        31.0                           0.0024   1318442.0\n",
       "Solomon Islands    17.0                           0.0026    652858.0\n",
       "Taiwan*           724.0                           0.0030  23816775.0\n",
       "Fiji               44.0                           0.0049    896444.0"
      ]
     },
     "execution_count": 7,
     "metadata": {},
     "output_type": "execute_result"
    },
    {
     "data": {
      "image/png": "[encoded data removed]",
      "text/plain": [
       "<Figure size 1440x432 with 1 Axes>"
      ]
     },
     "metadata": {
      "needs_background": "light"
     },
     "output_type": "display_data"
    }
   ],
   "source": [
    "top10confirmed_lowest.sort_values(by=['RatioConfirmedByPopulation_in_%']).head(10)['RatioConfirmedByPopulation_in_%'].plot.bar(color='orange')\n",
    "plt.xticks(rotation=0)\n",
    "plt.title(\"Top 10 countries/ locations with LOWEST ratio Total cases over country population on Day \"+str(lastday))\n",
    "\n",
    "top10confirmed_lowest.sort_values(by=['RatioConfirmedByPopulation_in_%']).head(10)"
   ]
  },
  {
   "cell_type": "code",
   "execution_count": 8,
   "metadata": {},
   "outputs": [
    {
     "data": {
      "text/html": [
       "<div>\n",
       "<style scoped>\n",
       "    .dataframe tbody tr th:only-of-type {\n",
       "        vertical-align: middle;\n",
       "    }\n",
       "\n",
       "    .dataframe tbody tr th {\n",
       "        vertical-align: top;\n",
       "    }\n",
       "\n",
       "    .dataframe thead th {\n",
       "        text-align: right;\n",
       "    }\n",
       "</style>\n",
       "<table border=\"1\" class=\"dataframe\">\n",
       "  <thead>\n",
       "    <tr style=\"text-align: right;\">\n",
       "      <th></th>\n",
       "      <th>323</th>\n",
       "      <th>RatioConfirmedByPopulation_in_%</th>\n",
       "      <th>population</th>\n",
       "    </tr>\n",
       "  </thead>\n",
       "  <tbody>\n",
       "    <tr>\n",
       "      <th>Armenia</th>\n",
       "      <td>145240.0</td>\n",
       "      <td>4.9014</td>\n",
       "      <td>2963234.0</td>\n",
       "    </tr>\n",
       "    <tr>\n",
       "      <th>Belgium</th>\n",
       "      <td>600397.0</td>\n",
       "      <td>5.1805</td>\n",
       "      <td>11589616.0</td>\n",
       "    </tr>\n",
       "    <tr>\n",
       "      <th>Bahrain</th>\n",
       "      <td>88632.0</td>\n",
       "      <td>5.2088</td>\n",
       "      <td>1701583.0</td>\n",
       "    </tr>\n",
       "    <tr>\n",
       "      <th>Czechia</th>\n",
       "      <td>563333.0</td>\n",
       "      <td>5.2604</td>\n",
       "      <td>10708982.0</td>\n",
       "    </tr>\n",
       "    <tr>\n",
       "      <th>San Marino</th>\n",
       "      <td>1868.0</td>\n",
       "      <td>5.5042</td>\n",
       "      <td>33938.0</td>\n",
       "    </tr>\n",
       "    <tr>\n",
       "      <th>Montenegro</th>\n",
       "      <td>40165.0</td>\n",
       "      <td>6.3951</td>\n",
       "      <td>628062.0</td>\n",
       "    </tr>\n",
       "    <tr>\n",
       "      <th>Luxembourg</th>\n",
       "      <td>40037.0</td>\n",
       "      <td>6.3959</td>\n",
       "      <td>625976.0</td>\n",
       "    </tr>\n",
       "    <tr>\n",
       "      <th>Andorra</th>\n",
       "      <td>7190.0</td>\n",
       "      <td>9.3056</td>\n",
       "      <td>77265.0</td>\n",
       "    </tr>\n",
       "    <tr>\n",
       "      <th>MS Zaandam</th>\n",
       "      <td>9.0</td>\n",
       "      <td>NaN</td>\n",
       "      <td>NaN</td>\n",
       "    </tr>\n",
       "    <tr>\n",
       "      <th>Diamond Princess</th>\n",
       "      <td>712.0</td>\n",
       "      <td>NaN</td>\n",
       "      <td>NaN</td>\n",
       "    </tr>\n",
       "  </tbody>\n",
       "</table>\n",
       "</div>"
      ],
      "text/plain": [
       "                       323  RatioConfirmedByPopulation_in_%  population\n",
       "Armenia           145240.0                           4.9014   2963234.0\n",
       "Belgium           600397.0                           5.1805  11589616.0\n",
       "Bahrain            88632.0                           5.2088   1701583.0\n",
       "Czechia           563333.0                           5.2604  10708982.0\n",
       "San Marino          1868.0                           5.5042     33938.0\n",
       "Montenegro         40165.0                           6.3951    628062.0\n",
       "Luxembourg         40037.0                           6.3959    625976.0\n",
       "Andorra             7190.0                           9.3056     77265.0\n",
       "MS Zaandam             9.0                              NaN         NaN\n",
       "Diamond Princess     712.0                              NaN         NaN"
      ]
     },
     "execution_count": 8,
     "metadata": {},
     "output_type": "execute_result"
    },
    {
     "data": {
      "image/png": "[encoded data removed]",
      "text/plain": [
       "<Figure size 1440x432 with 1 Axes>"
      ]
     },
     "metadata": {
      "needs_background": "light"
     },
     "output_type": "display_data"
    }
   ],
   "source": [
    "top10confirmed_lowest.sort_values(by=['RatioConfirmedByPopulation_in_%']).tail(10)['RatioConfirmedByPopulation_in_%'].plot.bar(color='orange')\n",
    "plt.xticks(rotation=0)\n",
    "plt.title(\"Top 10 countries/ locations with HIGHEST ratio Total cases over country population on Day \"+str(lastday))\n",
    "top10confirmed_lowest.sort_values(by=['RatioConfirmedByPopulation_in_%']).tail(10)"
   ]
  },
  {
   "cell_type": "code",
   "execution_count": 9,
   "metadata": {},
   "outputs": [
    {
     "data": {
      "text/html": [
       "<div>\n",
       "<style scoped>\n",
       "    .dataframe tbody tr th:only-of-type {\n",
       "        vertical-align: middle;\n",
       "    }\n",
       "\n",
       "    .dataframe tbody tr th {\n",
       "        vertical-align: top;\n",
       "    }\n",
       "\n",
       "    .dataframe thead th {\n",
       "        text-align: right;\n",
       "    }\n",
       "</style>\n",
       "<table border=\"1\" class=\"dataframe\">\n",
       "  <thead>\n",
       "    <tr style=\"text-align: right;\">\n",
       "      <th></th>\n",
       "      <th>323</th>\n",
       "      <th>RatioFatalByConfirmed_in_%</th>\n",
       "      <th>Confirmed</th>\n",
       "    </tr>\n",
       "  </thead>\n",
       "  <tbody>\n",
       "    <tr>\n",
       "      <th>Laos</th>\n",
       "      <td>0.0</td>\n",
       "      <td>0.0</td>\n",
       "      <td>41.0</td>\n",
       "    </tr>\n",
       "    <tr>\n",
       "      <th>Timor-Leste</th>\n",
       "      <td>0.0</td>\n",
       "      <td>0.0</td>\n",
       "      <td>31.0</td>\n",
       "    </tr>\n",
       "    <tr>\n",
       "      <th>Vanuatu</th>\n",
       "      <td>0.0</td>\n",
       "      <td>0.0</td>\n",
       "      <td>1.0</td>\n",
       "    </tr>\n",
       "    <tr>\n",
       "      <th>Bhutan</th>\n",
       "      <td>0.0</td>\n",
       "      <td>0.0</td>\n",
       "      <td>434.0</td>\n",
       "    </tr>\n",
       "    <tr>\n",
       "      <th>Solomon Islands</th>\n",
       "      <td>0.0</td>\n",
       "      <td>0.0</td>\n",
       "      <td>17.0</td>\n",
       "    </tr>\n",
       "    <tr>\n",
       "      <th>Cambodia</th>\n",
       "      <td>0.0</td>\n",
       "      <td>0.0</td>\n",
       "      <td>357.0</td>\n",
       "    </tr>\n",
       "    <tr>\n",
       "      <th>Seychelles</th>\n",
       "      <td>0.0</td>\n",
       "      <td>0.0</td>\n",
       "      <td>184.0</td>\n",
       "    </tr>\n",
       "    <tr>\n",
       "      <th>Samoa</th>\n",
       "      <td>0.0</td>\n",
       "      <td>0.0</td>\n",
       "      <td>2.0</td>\n",
       "    </tr>\n",
       "    <tr>\n",
       "      <th>Saint Kitts and Nevis</th>\n",
       "      <td>0.0</td>\n",
       "      <td>0.0</td>\n",
       "      <td>26.0</td>\n",
       "    </tr>\n",
       "    <tr>\n",
       "      <th>Dominica</th>\n",
       "      <td>0.0</td>\n",
       "      <td>0.0</td>\n",
       "      <td>85.0</td>\n",
       "    </tr>\n",
       "  </tbody>\n",
       "</table>\n",
       "</div>"
      ],
      "text/plain": [
       "                       323  RatioFatalByConfirmed_in_%  Confirmed\n",
       "Laos                   0.0                         0.0       41.0\n",
       "Timor-Leste            0.0                         0.0       31.0\n",
       "Vanuatu                0.0                         0.0        1.0\n",
       "Bhutan                 0.0                         0.0      434.0\n",
       "Solomon Islands        0.0                         0.0       17.0\n",
       "Cambodia               0.0                         0.0      357.0\n",
       "Seychelles             0.0                         0.0      184.0\n",
       "Samoa                  0.0                         0.0        2.0\n",
       "Saint Kitts and Nevis  0.0                         0.0       26.0\n",
       "Dominica               0.0                         0.0       85.0"
      ]
     },
     "execution_count": 9,
     "metadata": {},
     "output_type": "execute_result"
    },
    {
     "data": {
      "image/png": "[encoded data removed]",
      "text/plain": [
       "<Figure size 1440x432 with 1 Axes>"
      ]
     },
     "metadata": {
      "needs_background": "light"
     },
     "output_type": "display_data"
    }
   ],
   "source": [
    "top10fatal_lowest.sort_values(by=['RatioFatalByConfirmed_in_%']).head(10)['RatioFatalByConfirmed_in_%'].plot.bar(color='red')\n",
    "plt.xticks(rotation=45)\n",
    "plt.title(\"Top 10 countries/ locations with LOWEST ratio Total fatalities over Confirmed case on Day \"+str(lastday))\n",
    "\n",
    "top10fatal_lowest.sort_values(by=['RatioFatalByConfirmed_in_%']).head(10)"
   ]
  },
  {
   "cell_type": "code",
   "execution_count": 10,
   "metadata": {},
   "outputs": [
    {
     "data": {
      "text/html": [
       "<div>\n",
       "<style scoped>\n",
       "    .dataframe tbody tr th:only-of-type {\n",
       "        vertical-align: middle;\n",
       "    }\n",
       "\n",
       "    .dataframe tbody tr th {\n",
       "        vertical-align: top;\n",
       "    }\n",
       "\n",
       "    .dataframe thead th {\n",
       "        text-align: right;\n",
       "    }\n",
       "</style>\n",
       "<table border=\"1\" class=\"dataframe\">\n",
       "  <thead>\n",
       "    <tr style=\"text-align: right;\">\n",
       "      <th></th>\n",
       "      <th>323</th>\n",
       "      <th>RatioFatalByConfirmed_in_%</th>\n",
       "      <th>Confirmed</th>\n",
       "    </tr>\n",
       "  </thead>\n",
       "  <tbody>\n",
       "    <tr>\n",
       "      <th>China</th>\n",
       "      <td>4748.0</td>\n",
       "      <td>5.0497</td>\n",
       "      <td>94025.0</td>\n",
       "    </tr>\n",
       "    <tr>\n",
       "      <th>Syria</th>\n",
       "      <td>476.0</td>\n",
       "      <td>5.4171</td>\n",
       "      <td>8787.0</td>\n",
       "    </tr>\n",
       "    <tr>\n",
       "      <th>Egypt</th>\n",
       "      <td>6854.0</td>\n",
       "      <td>5.7047</td>\n",
       "      <td>120147.0</td>\n",
       "    </tr>\n",
       "    <tr>\n",
       "      <th>Chad</th>\n",
       "      <td>102.0</td>\n",
       "      <td>5.8654</td>\n",
       "      <td>1739.0</td>\n",
       "    </tr>\n",
       "    <tr>\n",
       "      <th>Bolivia</th>\n",
       "      <td>9008.0</td>\n",
       "      <td>6.1536</td>\n",
       "      <td>146385.0</td>\n",
       "    </tr>\n",
       "    <tr>\n",
       "      <th>Sudan</th>\n",
       "      <td>1319.0</td>\n",
       "      <td>6.4442</td>\n",
       "      <td>20468.0</td>\n",
       "    </tr>\n",
       "    <tr>\n",
       "      <th>Ecuador</th>\n",
       "      <td>13850.0</td>\n",
       "      <td>6.9119</td>\n",
       "      <td>200379.0</td>\n",
       "    </tr>\n",
       "    <tr>\n",
       "      <th>Mexico</th>\n",
       "      <td>112326.0</td>\n",
       "      <td>9.2288</td>\n",
       "      <td>1217126.0</td>\n",
       "    </tr>\n",
       "    <tr>\n",
       "      <th>MS Zaandam</th>\n",
       "      <td>2.0</td>\n",
       "      <td>22.2222</td>\n",
       "      <td>9.0</td>\n",
       "    </tr>\n",
       "    <tr>\n",
       "      <th>Yemen</th>\n",
       "      <td>606.0</td>\n",
       "      <td>29.1206</td>\n",
       "      <td>2081.0</td>\n",
       "    </tr>\n",
       "  </tbody>\n",
       "</table>\n",
       "</div>"
      ],
      "text/plain": [
       "                 323  RatioFatalByConfirmed_in_%  Confirmed\n",
       "China         4748.0                      5.0497    94025.0\n",
       "Syria          476.0                      5.4171     8787.0\n",
       "Egypt         6854.0                      5.7047   120147.0\n",
       "Chad           102.0                      5.8654     1739.0\n",
       "Bolivia       9008.0                      6.1536   146385.0\n",
       "Sudan         1319.0                      6.4442    20468.0\n",
       "Ecuador      13850.0                      6.9119   200379.0\n",
       "Mexico      112326.0                      9.2288  1217126.0\n",
       "MS Zaandam       2.0                     22.2222        9.0\n",
       "Yemen          606.0                     29.1206     2081.0"
      ]
     },
     "execution_count": 10,
     "metadata": {},
     "output_type": "execute_result"
    },
    {
     "data": {
      "image/png": "[encoded data removed]",
      "text/plain": [
       "<Figure size 1440x432 with 1 Axes>"
      ]
     },
     "metadata": {
      "needs_background": "light"
     },
     "output_type": "display_data"
    }
   ],
   "source": [
    "top10fatal_lowest.sort_values(by=['RatioFatalByConfirmed_in_%']).tail(10)['RatioFatalByConfirmed_in_%'].plot.bar(color='red')\n",
    "plt.xticks(rotation=0)\n",
    "plt.title(\"Top 10 countries/ locations with HIGHEST ratio Total fatalities over Confirmed case on Day \"+str(lastday))\n",
    "\n",
    "top10fatal_lowest.sort_values(by=['RatioFatalByConfirmed_in_%']).tail(10)"
   ]
  },
  {
   "cell_type": "code",
   "execution_count": 11,
   "metadata": {},
   "outputs": [
    {
     "data": {
      "text/plain": [
       "Index(['Laos', 'Holy See', 'Grenada', 'Marshall Islands', 'Mongolia',\n",
       "       'Eritrea', 'Dominica', 'Saint Vincent and the Grenadines', 'Samoa',\n",
       "       'Seychelles',\n",
       "       ...\n",
       "       'Russia', 'Spain', 'Iran', 'France', 'Italy', 'United Kingdom',\n",
       "       'Mexico', 'India', 'Brazil', 'US'],\n",
       "      dtype='object', length=191)"
      ]
     },
     "execution_count": 11,
     "metadata": {},
     "output_type": "execute_result"
    }
   ],
   "source": [
    "top10fatal_lowest.index"
   ]
  },
  {
   "cell_type": "code",
   "execution_count": 12,
   "metadata": {},
   "outputs": [
    {
     "data": {
      "text/html": [
       "<div>\n",
       "<style scoped>\n",
       "    .dataframe tbody tr th:only-of-type {\n",
       "        vertical-align: middle;\n",
       "    }\n",
       "\n",
       "    .dataframe tbody tr th {\n",
       "        vertical-align: top;\n",
       "    }\n",
       "\n",
       "    .dataframe thead th {\n",
       "        text-align: right;\n",
       "    }\n",
       "</style>\n",
       "<table border=\"1\" class=\"dataframe\">\n",
       "  <thead>\n",
       "    <tr style=\"text-align: right;\">\n",
       "      <th></th>\n",
       "      <th>323</th>\n",
       "      <th>RatioRecoveredByConfirmed_in_%</th>\n",
       "      <th>Confirmed</th>\n",
       "    </tr>\n",
       "  </thead>\n",
       "  <tbody>\n",
       "    <tr>\n",
       "      <th>Serbia</th>\n",
       "      <td>0.0</td>\n",
       "      <td>0.0000</td>\n",
       "      <td>249224.0</td>\n",
       "    </tr>\n",
       "    <tr>\n",
       "      <th>Sweden</th>\n",
       "      <td>0.0</td>\n",
       "      <td>0.0000</td>\n",
       "      <td>312728.0</td>\n",
       "    </tr>\n",
       "    <tr>\n",
       "      <th>Belgium</th>\n",
       "      <td>0.0</td>\n",
       "      <td>0.0000</td>\n",
       "      <td>600397.0</td>\n",
       "    </tr>\n",
       "    <tr>\n",
       "      <th>United Kingdom</th>\n",
       "      <td>3787.0</td>\n",
       "      <td>0.2113</td>\n",
       "      <td>1792611.0</td>\n",
       "    </tr>\n",
       "    <tr>\n",
       "      <th>Netherlands</th>\n",
       "      <td>7651.0</td>\n",
       "      <td>1.2849</td>\n",
       "      <td>595473.0</td>\n",
       "    </tr>\n",
       "    <tr>\n",
       "      <th>France</th>\n",
       "      <td>180348.0</td>\n",
       "      <td>7.5408</td>\n",
       "      <td>2391643.0</td>\n",
       "    </tr>\n",
       "    <tr>\n",
       "      <th>Latvia</th>\n",
       "      <td>1866.0</td>\n",
       "      <td>7.8714</td>\n",
       "      <td>23706.0</td>\n",
       "    </tr>\n",
       "    <tr>\n",
       "      <th>Spain</th>\n",
       "      <td>150376.0</td>\n",
       "      <td>8.7425</td>\n",
       "      <td>1720056.0</td>\n",
       "    </tr>\n",
       "    <tr>\n",
       "      <th>Cyprus</th>\n",
       "      <td>2057.0</td>\n",
       "      <td>15.0707</td>\n",
       "      <td>13649.0</td>\n",
       "    </tr>\n",
       "    <tr>\n",
       "      <th>Greece</th>\n",
       "      <td>23074.0</td>\n",
       "      <td>19.0296</td>\n",
       "      <td>121253.0</td>\n",
       "    </tr>\n",
       "  </tbody>\n",
       "</table>\n",
       "</div>"
      ],
      "text/plain": [
       "                     323  RatioRecoveredByConfirmed_in_%  Confirmed\n",
       "Serbia               0.0                          0.0000   249224.0\n",
       "Sweden               0.0                          0.0000   312728.0\n",
       "Belgium              0.0                          0.0000   600397.0\n",
       "United Kingdom    3787.0                          0.2113  1792611.0\n",
       "Netherlands       7651.0                          1.2849   595473.0\n",
       "France          180348.0                          7.5408  2391643.0\n",
       "Latvia            1866.0                          7.8714    23706.0\n",
       "Spain           150376.0                          8.7425  1720056.0\n",
       "Cyprus            2057.0                         15.0707    13649.0\n",
       "Greece           23074.0                         19.0296   121253.0"
      ]
     },
     "execution_count": 12,
     "metadata": {},
     "output_type": "execute_result"
    },
    {
     "data": {
      "image/png": "[encoded data removed]",
      "text/plain": [
       "<Figure size 1440x432 with 1 Axes>"
      ]
     },
     "metadata": {
      "needs_background": "light"
     },
     "output_type": "display_data"
    }
   ],
   "source": [
    "top10recovered_lowest.sort_values(by=['RatioRecoveredByConfirmed_in_%']).head(10)['RatioRecoveredByConfirmed_in_%'].plot.bar(color='green')\n",
    "plt.xticks(rotation=0)\n",
    "plt.title(\"Top 10 countries/ locations with LOWEST ratio Total recovered over Confirmed case on Day \"+str(lastday))\n",
    "\n",
    "top10recovered_lowest.sort_values(by=['RatioRecoveredByConfirmed_in_%']).head(10)"
   ]
  },
  {
   "cell_type": "code",
   "execution_count": 13,
   "metadata": {},
   "outputs": [
    {
     "data": {
      "text/html": [
       "<div>\n",
       "<style scoped>\n",
       "    .dataframe tbody tr th:only-of-type {\n",
       "        vertical-align: middle;\n",
       "    }\n",
       "\n",
       "    .dataframe tbody tr th {\n",
       "        vertical-align: top;\n",
       "    }\n",
       "\n",
       "    .dataframe thead th {\n",
       "        text-align: right;\n",
       "    }\n",
       "</style>\n",
       "<table border=\"1\" class=\"dataframe\">\n",
       "  <thead>\n",
       "    <tr style=\"text-align: right;\">\n",
       "      <th></th>\n",
       "      <th>323</th>\n",
       "      <th>RatioRecoveredByConfirmed_in_%</th>\n",
       "      <th>Confirmed</th>\n",
       "    </tr>\n",
       "  </thead>\n",
       "  <tbody>\n",
       "    <tr>\n",
       "      <th>Djibouti</th>\n",
       "      <td>5605.0</td>\n",
       "      <td>98.0409</td>\n",
       "      <td>5717.0</td>\n",
       "    </tr>\n",
       "    <tr>\n",
       "      <th>Comoros</th>\n",
       "      <td>605.0</td>\n",
       "      <td>98.0551</td>\n",
       "      <td>617.0</td>\n",
       "    </tr>\n",
       "    <tr>\n",
       "      <th>Diamond Princess</th>\n",
       "      <td>699.0</td>\n",
       "      <td>98.1742</td>\n",
       "      <td>712.0</td>\n",
       "    </tr>\n",
       "    <tr>\n",
       "      <th>Cote d'Ivoire</th>\n",
       "      <td>21203.0</td>\n",
       "      <td>98.2075</td>\n",
       "      <td>21590.0</td>\n",
       "    </tr>\n",
       "    <tr>\n",
       "      <th>Qatar</th>\n",
       "      <td>138033.0</td>\n",
       "      <td>98.2329</td>\n",
       "      <td>140516.0</td>\n",
       "    </tr>\n",
       "    <tr>\n",
       "      <th>Gabon</th>\n",
       "      <td>9155.0</td>\n",
       "      <td>98.4409</td>\n",
       "      <td>9300.0</td>\n",
       "    </tr>\n",
       "    <tr>\n",
       "      <th>Singapore</th>\n",
       "      <td>58188.0</td>\n",
       "      <td>99.8130</td>\n",
       "      <td>58297.0</td>\n",
       "    </tr>\n",
       "    <tr>\n",
       "      <th>Marshall Islands</th>\n",
       "      <td>4.0</td>\n",
       "      <td>100.0000</td>\n",
       "      <td>4.0</td>\n",
       "    </tr>\n",
       "    <tr>\n",
       "      <th>Samoa</th>\n",
       "      <td>2.0</td>\n",
       "      <td>100.0000</td>\n",
       "      <td>2.0</td>\n",
       "    </tr>\n",
       "    <tr>\n",
       "      <th>Vanuatu</th>\n",
       "      <td>1.0</td>\n",
       "      <td>100.0000</td>\n",
       "      <td>1.0</td>\n",
       "    </tr>\n",
       "  </tbody>\n",
       "</table>\n",
       "</div>"
      ],
      "text/plain": [
       "                       323  RatioRecoveredByConfirmed_in_%  Confirmed\n",
       "Djibouti            5605.0                         98.0409     5717.0\n",
       "Comoros              605.0                         98.0551      617.0\n",
       "Diamond Princess     699.0                         98.1742      712.0\n",
       "Cote d'Ivoire      21203.0                         98.2075    21590.0\n",
       "Qatar             138033.0                         98.2329   140516.0\n",
       "Gabon               9155.0                         98.4409     9300.0\n",
       "Singapore          58188.0                         99.8130    58297.0\n",
       "Marshall Islands       4.0                        100.0000        4.0\n",
       "Samoa                  2.0                        100.0000        2.0\n",
       "Vanuatu                1.0                        100.0000        1.0"
      ]
     },
     "execution_count": 13,
     "metadata": {},
     "output_type": "execute_result"
    },
    {
     "data": {
      "image/png": "[encoded data removed]",
      "text/plain": [
       "<Figure size 1440x432 with 1 Axes>"
      ]
     },
     "metadata": {
      "needs_background": "light"
     },
     "output_type": "display_data"
    }
   ],
   "source": [
    "top10recovered_lowest.sort_values(by=['RatioRecoveredByConfirmed_in_%']).tail(10)['RatioRecoveredByConfirmed_in_%'].plot.bar(color='green')\n",
    "plt.xticks(rotation=0)\n",
    "plt.title(\"Top 10 countries/ locations with HIGHEST ratio Total recovered over Confirmed case on Day \"+str(lastday))\n",
    "\n",
    "top10recovered_lowest.sort_values(by=['RatioRecoveredByConfirmed_in_%']).tail(10)"
   ]
  }
 ],
 "metadata": {
  "kernelspec": {
   "display_name": "Python [conda env:.conda-aic]",
   "language": "python",
   "name": "conda-env-.conda-aic-py"
  },
  "language_info": {
   "codemirror_mode": {
    "name": "ipython",
    "version": 3
   },
   "file_extension": ".py",
   "mimetype": "text/x-python",
   "name": "python",
   "nbconvert_exporter": "python",
   "pygments_lexer": "ipython3",
   "version": "3.7.9"
  }
 },
 "nbformat": 4,
 "nbformat_minor": 4
}
