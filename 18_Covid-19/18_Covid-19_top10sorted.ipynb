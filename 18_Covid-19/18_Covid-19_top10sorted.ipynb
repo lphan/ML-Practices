{
 "cells": [
  {
   "cell_type": "markdown",
   "metadata": {},
   "source": [
    "### COVID-19 \n",
    "### UPDATE by DAY \n",
    "### TOP 10 (highest sorted) countries with TOTAL cases (CONFIRMED, FATALITIES, RECOVERED) last day "
   ]
  },
  {
   "cell_type": "markdown",
   "metadata": {},
   "source": [
    "### Number of covid-19 outbreak days"
   ]
  },
  {
   "cell_type": "code",
   "execution_count": 1,
   "metadata": {},
   "outputs": [
    {
     "name": "stdout",
     "output_type": "stream",
     "text": [
      "Start importing World-data  ./COVID-19/csse_covid_19_data/csse_covid_19_daily_reports/\n",
      "Start importing USA-data  ./COVID-19/csse_covid_19_data/csse_covid_19_daily_reports_us/\n",
      "Start importing single data  ./COVID-19/csse_covid_19_data/UID_ISO_FIPS_LookUp_Table.csv\n",
      "Start importing single data  ./COVID-19/csse_covid_19_data/csse_covid_19_time_series/time_series_covid19_confirmed_global.csv\n",
      "Start importing single data  ./COVID-19/csse_covid_19_data/csse_covid_19_time_series/time_series_covid19_deaths_global.csv\n",
      "Start importing single data  ./COVID-19/csse_covid_19_data/csse_covid_19_time_series/time_series_covid19_recovered_global.csv\n"
     ]
    },
    {
     "name": "stderr",
     "output_type": "stream",
     "text": [
      "/home/edvs1/lphan/.conda/envs/aic/lib/python3.7/site-packages/pandas/core/strings.py:2001: UserWarning: This pattern has match groups. To actually get the groups, use str.extract.\n",
      "  return func(self, *args, **kwargs)\n"
     ]
    },
    {
     "data": {
      "text/plain": [
       "354"
      ]
     },
     "execution_count": 1,
     "metadata": {},
     "output_type": "execute_result"
    }
   ],
   "source": [
    "from covid import *\n",
    "rcParams['figure.figsize'] = 20, 6\n",
    "len(data)"
   ]
  },
  {
   "cell_type": "code",
   "execution_count": 13,
   "metadata": {},
   "outputs": [
    {
     "data": {
      "text/plain": [
       "'01-09-2021'"
      ]
     },
     "execution_count": 13,
     "metadata": {},
     "output_type": "execute_result"
    }
   ],
   "source": [
    "updated_date=files[-1].split('.')[0]\n",
    "updated_date"
   ]
  },
  {
   "cell_type": "code",
   "execution_count": 14,
   "metadata": {},
   "outputs": [
    {
     "name": "stdout",
     "output_type": "stream",
     "text": [
      "Ratio total fatalities/ total confirmed:  2.15 %\n",
      "Ratio total recovered/ total confirmed: 65.30 %\n",
      "Remaining: 32.55 %\n"
     ]
    }
   ],
   "source": [
    "tftc = totalFatal/totalConfirmed*100\n",
    "trtc = totalRecovered/totalConfirmed*100\n",
    "re = 100-tftc-trtc\n",
    "print(\"Ratio total fatalities/ total confirmed: %5.2f %%\" % tftc)\n",
    "print(\"Ratio total recovered/ total confirmed: %5.2f %%\" % trtc)\n",
    "print(\"Remaining: %5.2f %%\" % re)"
   ]
  },
  {
   "cell_type": "markdown",
   "metadata": {},
   "source": [
    "### TOP 10 (highest sorted) countries with TOTAL CONFIRMED"
   ]
  },
  {
   "cell_type": "code",
   "execution_count": 15,
   "metadata": {},
   "outputs": [
    {
     "name": "stdout",
     "output_type": "stream",
     "text": [
      "Total Confirmed:  89899883.0\n",
      "Total percentage of 10 countries:  64.97 %\n"
     ]
    },
    {
     "data": {
      "text/html": [
       "<div>\n",
       "<style scoped>\n",
       "    .dataframe tbody tr th:only-of-type {\n",
       "        vertical-align: middle;\n",
       "    }\n",
       "\n",
       "    .dataframe tbody tr th {\n",
       "        vertical-align: top;\n",
       "    }\n",
       "\n",
       "    .dataframe thead th {\n",
       "        text-align: right;\n",
       "    }\n",
       "</style>\n",
       "<table border=\"1\" class=\"dataframe\">\n",
       "  <thead>\n",
       "    <tr style=\"text-align: right;\">\n",
       "      <th></th>\n",
       "      <th>353</th>\n",
       "      <th>RatioByTotal_in_%</th>\n",
       "    </tr>\n",
       "  </thead>\n",
       "  <tbody>\n",
       "    <tr>\n",
       "      <th>US</th>\n",
       "      <td>22136627.0</td>\n",
       "      <td>24.6236</td>\n",
       "    </tr>\n",
       "    <tr>\n",
       "      <th>India</th>\n",
       "      <td>10450284.0</td>\n",
       "      <td>11.6244</td>\n",
       "    </tr>\n",
       "    <tr>\n",
       "      <th>Brazil</th>\n",
       "      <td>8075998.0</td>\n",
       "      <td>8.9833</td>\n",
       "    </tr>\n",
       "    <tr>\n",
       "      <th>Russia</th>\n",
       "      <td>3344175.0</td>\n",
       "      <td>3.7199</td>\n",
       "    </tr>\n",
       "    <tr>\n",
       "      <th>United Kingdom</th>\n",
       "      <td>3026342.0</td>\n",
       "      <td>3.3663</td>\n",
       "    </tr>\n",
       "    <tr>\n",
       "      <th>France</th>\n",
       "      <td>2824920.0</td>\n",
       "      <td>3.1423</td>\n",
       "    </tr>\n",
       "    <tr>\n",
       "      <th>Turkey</th>\n",
       "      <td>2317118.0</td>\n",
       "      <td>2.5774</td>\n",
       "    </tr>\n",
       "    <tr>\n",
       "      <th>Italy</th>\n",
       "      <td>2257866.0</td>\n",
       "      <td>2.5115</td>\n",
       "    </tr>\n",
       "    <tr>\n",
       "      <th>Spain</th>\n",
       "      <td>2050360.0</td>\n",
       "      <td>2.2807</td>\n",
       "    </tr>\n",
       "    <tr>\n",
       "      <th>Germany</th>\n",
       "      <td>1928462.0</td>\n",
       "      <td>2.1451</td>\n",
       "    </tr>\n",
       "  </tbody>\n",
       "</table>\n",
       "</div>"
      ],
      "text/plain": [
       "                       353  RatioByTotal_in_%\n",
       "US              22136627.0            24.6236\n",
       "India           10450284.0            11.6244\n",
       "Brazil           8075998.0             8.9833\n",
       "Russia           3344175.0             3.7199\n",
       "United Kingdom   3026342.0             3.3663\n",
       "France           2824920.0             3.1423\n",
       "Turkey           2317118.0             2.5774\n",
       "Italy            2257866.0             2.5115\n",
       "Spain            2050360.0             2.2807\n",
       "Germany          1928462.0             2.1451"
      ]
     },
     "execution_count": 15,
     "metadata": {},
     "output_type": "execute_result"
    },
    {
     "data": {
      "image/png": "[encoded data removed]",
      "text/plain": [
       "<Figure size 1440x432 with 1 Axes>"
      ]
     },
     "metadata": {
      "needs_background": "light"
     },
     "output_type": "display_data"
    }
   ],
   "source": [
    "top10confirmed[lastday].plot.bar(color='orange')\n",
    "plt.title('Top 10 countries with total HIGHEST confirmed until last day %i' %lastday)\n",
    "plt.xticks(rotation=0)\n",
    "print(\"Total Confirmed: \", totalConfirmed)\n",
    "print(\"Total percentage of 10 countries: %6.2f %%\" % sum(top10confirmed['RatioByTotal_in_%'].values))\n",
    "for idx in range(10):\n",
    "    plt.text(idx, top10confirmed[lastday][idx], str(top10confirmed['RatioByTotal_in_%'][idx])+'%', horizontalalignment='center', fontweight='bold')\n",
    "top10confirmed"
   ]
  },
  {
   "cell_type": "markdown",
   "metadata": {},
   "source": [
    "### TOP 10 (highest sorted) countries with TOTAL FATALITIES"
   ]
  },
  {
   "cell_type": "code",
   "execution_count": 16,
   "metadata": {},
   "outputs": [
    {
     "name": "stdout",
     "output_type": "stream",
     "text": [
      "Total Fatalities:  1929882.0\n",
      "Total percentage of 10 countries:  65.03 %\n"
     ]
    },
    {
     "data": {
      "text/html": [
       "<div>\n",
       "<style scoped>\n",
       "    .dataframe tbody tr th:only-of-type {\n",
       "        vertical-align: middle;\n",
       "    }\n",
       "\n",
       "    .dataframe tbody tr th {\n",
       "        vertical-align: top;\n",
       "    }\n",
       "\n",
       "    .dataframe thead th {\n",
       "        text-align: right;\n",
       "    }\n",
       "</style>\n",
       "<table border=\"1\" class=\"dataframe\">\n",
       "  <thead>\n",
       "    <tr style=\"text-align: right;\">\n",
       "      <th></th>\n",
       "      <th>353</th>\n",
       "      <th>RatioByTotal_in_%</th>\n",
       "    </tr>\n",
       "  </thead>\n",
       "  <tbody>\n",
       "    <tr>\n",
       "      <th>US</th>\n",
       "      <td>372508.0</td>\n",
       "      <td>19.3021</td>\n",
       "    </tr>\n",
       "    <tr>\n",
       "      <th>Brazil</th>\n",
       "      <td>202631.0</td>\n",
       "      <td>10.4997</td>\n",
       "    </tr>\n",
       "    <tr>\n",
       "      <th>India</th>\n",
       "      <td>150999.0</td>\n",
       "      <td>7.8243</td>\n",
       "    </tr>\n",
       "    <tr>\n",
       "      <th>Mexico</th>\n",
       "      <td>133204.0</td>\n",
       "      <td>6.9022</td>\n",
       "    </tr>\n",
       "    <tr>\n",
       "      <th>United Kingdom</th>\n",
       "      <td>81000.0</td>\n",
       "      <td>4.1971</td>\n",
       "    </tr>\n",
       "    <tr>\n",
       "      <th>Italy</th>\n",
       "      <td>78394.0</td>\n",
       "      <td>4.0621</td>\n",
       "    </tr>\n",
       "    <tr>\n",
       "      <th>France</th>\n",
       "      <td>67734.0</td>\n",
       "      <td>3.5097</td>\n",
       "    </tr>\n",
       "    <tr>\n",
       "      <th>Russia</th>\n",
       "      <td>60523.0</td>\n",
       "      <td>3.1361</td>\n",
       "    </tr>\n",
       "    <tr>\n",
       "      <th>Iran</th>\n",
       "      <td>56100.0</td>\n",
       "      <td>2.9069</td>\n",
       "    </tr>\n",
       "    <tr>\n",
       "      <th>Spain</th>\n",
       "      <td>51874.0</td>\n",
       "      <td>2.6879</td>\n",
       "    </tr>\n",
       "  </tbody>\n",
       "</table>\n",
       "</div>"
      ],
      "text/plain": [
       "                     353  RatioByTotal_in_%\n",
       "US              372508.0            19.3021\n",
       "Brazil          202631.0            10.4997\n",
       "India           150999.0             7.8243\n",
       "Mexico          133204.0             6.9022\n",
       "United Kingdom   81000.0             4.1971\n",
       "Italy            78394.0             4.0621\n",
       "France           67734.0             3.5097\n",
       "Russia           60523.0             3.1361\n",
       "Iran             56100.0             2.9069\n",
       "Spain            51874.0             2.6879"
      ]
     },
     "execution_count": 16,
     "metadata": {},
     "output_type": "execute_result"
    },
    {
     "data": {
      "image/png": "[encoded data removed]",
      "text/plain": [
       "<Figure size 1440x432 with 1 Axes>"
      ]
     },
     "metadata": {
      "needs_background": "light"
     },
     "output_type": "display_data"
    }
   ],
   "source": [
    "top10fatal[lastday].plot.bar(color='red')\n",
    "plt.title('Top 10 countries with total HIGHEST fatalities until last day %i' %lastday)\n",
    "plt.xticks(rotation=0)\n",
    "print(\"Total Fatalities: \", totalFatal)\n",
    "print(\"Total percentage of 10 countries: %6.2f %%\" % sum(top10fatal['RatioByTotal_in_%'].values))\n",
    "for idx in range(10):\n",
    "    plt.text(idx, top10fatal[lastday][idx], str(top10fatal['RatioByTotal_in_%'][idx])+'%', horizontalalignment='center', fontweight='bold')\n",
    "top10fatal"
   ]
  },
  {
   "cell_type": "markdown",
   "metadata": {},
   "source": [
    "### TOP 10 (highest sorted) countries with TOTAL RECOVERED"
   ]
  },
  {
   "cell_type": "code",
   "execution_count": 17,
   "metadata": {},
   "outputs": [
    {
     "name": "stdout",
     "output_type": "stream",
     "text": [
      "Total Recovered:  58703347.0\n",
      "Total percentage of 10 countries:  65.37 %\n"
     ]
    },
    {
     "data": {
      "text/html": [
       "<div>\n",
       "<style scoped>\n",
       "    .dataframe tbody tr th:only-of-type {\n",
       "        vertical-align: middle;\n",
       "    }\n",
       "\n",
       "    .dataframe tbody tr th {\n",
       "        vertical-align: top;\n",
       "    }\n",
       "\n",
       "    .dataframe thead th {\n",
       "        text-align: right;\n",
       "    }\n",
       "</style>\n",
       "<table border=\"1\" class=\"dataframe\">\n",
       "  <thead>\n",
       "    <tr style=\"text-align: right;\">\n",
       "      <th></th>\n",
       "      <th>353</th>\n",
       "      <th>RatioByTotal_in_%</th>\n",
       "    </tr>\n",
       "  </thead>\n",
       "  <tbody>\n",
       "    <tr>\n",
       "      <th>India</th>\n",
       "      <td>10075950.0</td>\n",
       "      <td>17.1642</td>\n",
       "    </tr>\n",
       "    <tr>\n",
       "      <th>US</th>\n",
       "      <td>8766538.0</td>\n",
       "      <td>14.9336</td>\n",
       "    </tr>\n",
       "    <tr>\n",
       "      <th>Brazil</th>\n",
       "      <td>7205410.0</td>\n",
       "      <td>12.2743</td>\n",
       "    </tr>\n",
       "    <tr>\n",
       "      <th>Russia</th>\n",
       "      <td>2726336.0</td>\n",
       "      <td>4.6443</td>\n",
       "    </tr>\n",
       "    <tr>\n",
       "      <th>Turkey</th>\n",
       "      <td>2190047.0</td>\n",
       "      <td>3.7307</td>\n",
       "    </tr>\n",
       "    <tr>\n",
       "      <th>Colombia</th>\n",
       "      <td>1609564.0</td>\n",
       "      <td>2.7419</td>\n",
       "    </tr>\n",
       "    <tr>\n",
       "      <th>Italy</th>\n",
       "      <td>1606630.0</td>\n",
       "      <td>2.7369</td>\n",
       "    </tr>\n",
       "    <tr>\n",
       "      <th>Germany</th>\n",
       "      <td>1546206.0</td>\n",
       "      <td>2.6339</td>\n",
       "    </tr>\n",
       "    <tr>\n",
       "      <th>Argentina</th>\n",
       "      <td>1504330.0</td>\n",
       "      <td>2.5626</td>\n",
       "    </tr>\n",
       "    <tr>\n",
       "      <th>Mexico</th>\n",
       "      <td>1143254.0</td>\n",
       "      <td>1.9475</td>\n",
       "    </tr>\n",
       "  </tbody>\n",
       "</table>\n",
       "</div>"
      ],
      "text/plain": [
       "                  353  RatioByTotal_in_%\n",
       "India      10075950.0            17.1642\n",
       "US          8766538.0            14.9336\n",
       "Brazil      7205410.0            12.2743\n",
       "Russia      2726336.0             4.6443\n",
       "Turkey      2190047.0             3.7307\n",
       "Colombia    1609564.0             2.7419\n",
       "Italy       1606630.0             2.7369\n",
       "Germany     1546206.0             2.6339\n",
       "Argentina   1504330.0             2.5626\n",
       "Mexico      1143254.0             1.9475"
      ]
     },
     "execution_count": 17,
     "metadata": {},
     "output_type": "execute_result"
    },
    {
     "data": {
      "image/png": "[encoded data removed]",
      "text/plain": [
       "<Figure size 1440x432 with 1 Axes>"
      ]
     },
     "metadata": {
      "needs_background": "light"
     },
     "output_type": "display_data"
    }
   ],
   "source": [
    "top10recovered[lastday].plot.bar(color='green')\n",
    "plt.title('Top 10 countries with total HIGHEST recovered until last day %i' %lastday)\n",
    "plt.xticks(rotation=0)\n",
    "print(\"Total Recovered: \", totalRecovered)\n",
    "print(\"Total percentage of 10 countries: %6.2f %%\" % sum(top10recovered['RatioByTotal_in_%'].values))\n",
    "for idx in range(10):\n",
    "    plt.text(idx, top10recovered[lastday][idx], str(top10recovered['RatioByTotal_in_%'][idx])+'%', horizontalalignment='center', fontweight='bold')\n",
    "top10recovered"
   ]
  },
  {
   "cell_type": "markdown",
   "metadata": {},
   "source": [
    "### TOP 10 countries with the lowest/ highest ratio TOTAL cases (CONFIRMED) over country population and (FATALITIES, RECOVERED) over CONFIRMED"
   ]
  },
  {
   "cell_type": "code",
   "execution_count": 18,
   "metadata": {},
   "outputs": [
    {
     "data": {
      "text/html": [
       "<div>\n",
       "<style scoped>\n",
       "    .dataframe tbody tr th:only-of-type {\n",
       "        vertical-align: middle;\n",
       "    }\n",
       "\n",
       "    .dataframe tbody tr th {\n",
       "        vertical-align: top;\n",
       "    }\n",
       "\n",
       "    .dataframe thead th {\n",
       "        text-align: right;\n",
       "    }\n",
       "</style>\n",
       "<table border=\"1\" class=\"dataframe\">\n",
       "  <thead>\n",
       "    <tr style=\"text-align: right;\">\n",
       "      <th></th>\n",
       "      <th>353</th>\n",
       "      <th>RatioConfirmedByPopulation_in_%</th>\n",
       "      <th>population</th>\n",
       "    </tr>\n",
       "  </thead>\n",
       "  <tbody>\n",
       "    <tr>\n",
       "      <th>Congo (Brazzaville)</th>\n",
       "      <td>0.0</td>\n",
       "      <td>0.0000</td>\n",
       "      <td>5518092.0</td>\n",
       "    </tr>\n",
       "    <tr>\n",
       "      <th>Congo (Kinshasa)</th>\n",
       "      <td>0.0</td>\n",
       "      <td>0.0000</td>\n",
       "      <td>89561404.0</td>\n",
       "    </tr>\n",
       "    <tr>\n",
       "      <th>Diamond Princess</th>\n",
       "      <td>712.0</td>\n",
       "      <td>0.0000</td>\n",
       "      <td>NaN</td>\n",
       "    </tr>\n",
       "    <tr>\n",
       "      <th>MS Zaandam</th>\n",
       "      <td>9.0</td>\n",
       "      <td>0.0000</td>\n",
       "      <td>NaN</td>\n",
       "    </tr>\n",
       "    <tr>\n",
       "      <th>Vanuatu</th>\n",
       "      <td>1.0</td>\n",
       "      <td>0.0003</td>\n",
       "      <td>292680.0</td>\n",
       "    </tr>\n",
       "    <tr>\n",
       "      <th>Laos</th>\n",
       "      <td>41.0</td>\n",
       "      <td>0.0006</td>\n",
       "      <td>7275556.0</td>\n",
       "    </tr>\n",
       "    <tr>\n",
       "      <th>Tanzania</th>\n",
       "      <td>509.0</td>\n",
       "      <td>0.0009</td>\n",
       "      <td>59734213.0</td>\n",
       "    </tr>\n",
       "    <tr>\n",
       "      <th>Samoa</th>\n",
       "      <td>2.0</td>\n",
       "      <td>0.0010</td>\n",
       "      <td>196130.0</td>\n",
       "    </tr>\n",
       "    <tr>\n",
       "      <th>Vietnam</th>\n",
       "      <td>1513.0</td>\n",
       "      <td>0.0016</td>\n",
       "      <td>97338583.0</td>\n",
       "    </tr>\n",
       "    <tr>\n",
       "      <th>Cambodia</th>\n",
       "      <td>391.0</td>\n",
       "      <td>0.0023</td>\n",
       "      <td>16718971.0</td>\n",
       "    </tr>\n",
       "  </tbody>\n",
       "</table>\n",
       "</div>"
      ],
      "text/plain": [
       "                        353  RatioConfirmedByPopulation_in_%  population\n",
       "Congo (Brazzaville)     0.0                           0.0000   5518092.0\n",
       "Congo (Kinshasa)        0.0                           0.0000  89561404.0\n",
       "Diamond Princess      712.0                           0.0000         NaN\n",
       "MS Zaandam              9.0                           0.0000         NaN\n",
       "Vanuatu                 1.0                           0.0003    292680.0\n",
       "Laos                   41.0                           0.0006   7275556.0\n",
       "Tanzania              509.0                           0.0009  59734213.0\n",
       "Samoa                   2.0                           0.0010    196130.0\n",
       "Vietnam              1513.0                           0.0016  97338583.0\n",
       "Cambodia              391.0                           0.0023  16718971.0"
      ]
     },
     "execution_count": 18,
     "metadata": {},
     "output_type": "execute_result"
    },
    {
     "data": {
      "image/png": "[encoded data removed]",
      "text/plain": [
       "<Figure size 1440x432 with 1 Axes>"
      ]
     },
     "metadata": {
      "needs_background": "light"
     },
     "output_type": "display_data"
    }
   ],
   "source": [
    "top10confirmed_lowest.sort_values(by=['RatioConfirmedByPopulation_in_%']).head(10)['RatioConfirmedByPopulation_in_%'].plot.bar(color='orange')\n",
    "plt.xticks(rotation=0)\n",
    "plt.title(\"Top 10 countries/ locations with LOWEST ratio Total cases over country population on Day \"+str(lastday))\n",
    "\n",
    "top10confirmed_lowest.sort_values(by=['RatioConfirmedByPopulation_in_%']).head(10)"
   ]
  },
  {
   "cell_type": "code",
   "execution_count": 19,
   "metadata": {},
   "outputs": [
    {
     "data": {
      "text/html": [
       "<div>\n",
       "<style scoped>\n",
       "    .dataframe tbody tr th:only-of-type {\n",
       "        vertical-align: middle;\n",
       "    }\n",
       "\n",
       "    .dataframe tbody tr th {\n",
       "        vertical-align: top;\n",
       "    }\n",
       "\n",
       "    .dataframe thead th {\n",
       "        text-align: right;\n",
       "    }\n",
       "</style>\n",
       "<table border=\"1\" class=\"dataframe\">\n",
       "  <thead>\n",
       "    <tr style=\"text-align: right;\">\n",
       "      <th></th>\n",
       "      <th>353</th>\n",
       "      <th>RatioConfirmedByPopulation_in_%</th>\n",
       "      <th>population</th>\n",
       "    </tr>\n",
       "  </thead>\n",
       "  <tbody>\n",
       "    <tr>\n",
       "      <th>Liechtenstein</th>\n",
       "      <td>2329.0</td>\n",
       "      <td>6.1069</td>\n",
       "      <td>38137.0</td>\n",
       "    </tr>\n",
       "    <tr>\n",
       "      <th>Panama</th>\n",
       "      <td>276772.0</td>\n",
       "      <td>6.4145</td>\n",
       "      <td>4314768.0</td>\n",
       "    </tr>\n",
       "    <tr>\n",
       "      <th>Slovenia</th>\n",
       "      <td>138518.0</td>\n",
       "      <td>6.6629</td>\n",
       "      <td>2078932.0</td>\n",
       "    </tr>\n",
       "    <tr>\n",
       "      <th>US</th>\n",
       "      <td>22136627.0</td>\n",
       "      <td>6.7189</td>\n",
       "      <td>329466283.0</td>\n",
       "    </tr>\n",
       "    <tr>\n",
       "      <th>Luxembourg</th>\n",
       "      <td>47744.0</td>\n",
       "      <td>7.6271</td>\n",
       "      <td>625976.0</td>\n",
       "    </tr>\n",
       "    <tr>\n",
       "      <th>Czechia</th>\n",
       "      <td>822716.0</td>\n",
       "      <td>7.6825</td>\n",
       "      <td>10708982.0</td>\n",
       "    </tr>\n",
       "    <tr>\n",
       "      <th>San Marino</th>\n",
       "      <td>2628.0</td>\n",
       "      <td>7.7435</td>\n",
       "      <td>33938.0</td>\n",
       "    </tr>\n",
       "    <tr>\n",
       "      <th>Montenegro</th>\n",
       "      <td>51999.0</td>\n",
       "      <td>8.2793</td>\n",
       "      <td>628062.0</td>\n",
       "    </tr>\n",
       "    <tr>\n",
       "      <th>Andorra</th>\n",
       "      <td>8586.0</td>\n",
       "      <td>11.1124</td>\n",
       "      <td>77265.0</td>\n",
       "    </tr>\n",
       "    <tr>\n",
       "      <th>Dominica</th>\n",
       "      <td>180750.0</td>\n",
       "      <td>251.0731</td>\n",
       "      <td>71991.0</td>\n",
       "    </tr>\n",
       "  </tbody>\n",
       "</table>\n",
       "</div>"
      ],
      "text/plain": [
       "                      353  RatioConfirmedByPopulation_in_%   population\n",
       "Liechtenstein      2329.0                           6.1069      38137.0\n",
       "Panama           276772.0                           6.4145    4314768.0\n",
       "Slovenia         138518.0                           6.6629    2078932.0\n",
       "US             22136627.0                           6.7189  329466283.0\n",
       "Luxembourg        47744.0                           7.6271     625976.0\n",
       "Czechia          822716.0                           7.6825   10708982.0\n",
       "San Marino         2628.0                           7.7435      33938.0\n",
       "Montenegro        51999.0                           8.2793     628062.0\n",
       "Andorra            8586.0                          11.1124      77265.0\n",
       "Dominica         180750.0                         251.0731      71991.0"
      ]
     },
     "execution_count": 19,
     "metadata": {},
     "output_type": "execute_result"
    },
    {
     "data": {
      "image/png": "[encoded data removed]",
      "text/plain": [
       "<Figure size 1440x432 with 1 Axes>"
      ]
     },
     "metadata": {
      "needs_background": "light"
     },
     "output_type": "display_data"
    }
   ],
   "source": [
    "top10confirmed_lowest.sort_values(by=['RatioConfirmedByPopulation_in_%']).tail(10)['RatioConfirmedByPopulation_in_%'].plot.bar(color='orange')\n",
    "plt.xticks(rotation=0)\n",
    "plt.title(\"Top 10 countries/ locations with HIGHEST ratio Total cases over country population on Day \"+str(lastday))\n",
    "top10confirmed_lowest.sort_values(by=['RatioConfirmedByPopulation_in_%']).tail(10)"
   ]
  },
  {
   "cell_type": "code",
   "execution_count": 20,
   "metadata": {},
   "outputs": [
    {
     "data": {
      "text/html": [
       "<div>\n",
       "<style scoped>\n",
       "    .dataframe tbody tr th:only-of-type {\n",
       "        vertical-align: middle;\n",
       "    }\n",
       "\n",
       "    .dataframe tbody tr th {\n",
       "        vertical-align: top;\n",
       "    }\n",
       "\n",
       "    .dataframe thead th {\n",
       "        text-align: right;\n",
       "    }\n",
       "</style>\n",
       "<table border=\"1\" class=\"dataframe\">\n",
       "  <thead>\n",
       "    <tr style=\"text-align: right;\">\n",
       "      <th></th>\n",
       "      <th>353</th>\n",
       "      <th>RatioFatalByConfirmed_in_%</th>\n",
       "      <th>Confirmed</th>\n",
       "    </tr>\n",
       "  </thead>\n",
       "  <tbody>\n",
       "    <tr>\n",
       "      <th>Laos</th>\n",
       "      <td>0.0</td>\n",
       "      <td>0.0</td>\n",
       "      <td>41.0</td>\n",
       "    </tr>\n",
       "    <tr>\n",
       "      <th>Vanuatu</th>\n",
       "      <td>0.0</td>\n",
       "      <td>0.0</td>\n",
       "      <td>1.0</td>\n",
       "    </tr>\n",
       "    <tr>\n",
       "      <th>Grenada</th>\n",
       "      <td>0.0</td>\n",
       "      <td>0.0</td>\n",
       "      <td>127.0</td>\n",
       "    </tr>\n",
       "    <tr>\n",
       "      <th>Saint Kitts and Nevis</th>\n",
       "      <td>0.0</td>\n",
       "      <td>0.0</td>\n",
       "      <td>34.0</td>\n",
       "    </tr>\n",
       "    <tr>\n",
       "      <th>Saint Vincent and the Grenadines</th>\n",
       "      <td>0.0</td>\n",
       "      <td>0.0</td>\n",
       "      <td>149.0</td>\n",
       "    </tr>\n",
       "    <tr>\n",
       "      <th>Timor-Leste</th>\n",
       "      <td>0.0</td>\n",
       "      <td>0.0</td>\n",
       "      <td>49.0</td>\n",
       "    </tr>\n",
       "    <tr>\n",
       "      <th>Bhutan</th>\n",
       "      <td>0.0</td>\n",
       "      <td>0.0</td>\n",
       "      <td>767.0</td>\n",
       "    </tr>\n",
       "    <tr>\n",
       "      <th>Samoa</th>\n",
       "      <td>0.0</td>\n",
       "      <td>0.0</td>\n",
       "      <td>2.0</td>\n",
       "    </tr>\n",
       "    <tr>\n",
       "      <th>Marshall Islands</th>\n",
       "      <td>0.0</td>\n",
       "      <td>0.0</td>\n",
       "      <td>4.0</td>\n",
       "    </tr>\n",
       "    <tr>\n",
       "      <th>Congo (Kinshasa)</th>\n",
       "      <td>0.0</td>\n",
       "      <td>0.0</td>\n",
       "      <td>0.0</td>\n",
       "    </tr>\n",
       "  </tbody>\n",
       "</table>\n",
       "</div>"
      ],
      "text/plain": [
       "                                  353  RatioFatalByConfirmed_in_%  Confirmed\n",
       "Laos                              0.0                         0.0       41.0\n",
       "Vanuatu                           0.0                         0.0        1.0\n",
       "Grenada                           0.0                         0.0      127.0\n",
       "Saint Kitts and Nevis             0.0                         0.0       34.0\n",
       "Saint Vincent and the Grenadines  0.0                         0.0      149.0\n",
       "Timor-Leste                       0.0                         0.0       49.0\n",
       "Bhutan                            0.0                         0.0      767.0\n",
       "Samoa                             0.0                         0.0        2.0\n",
       "Marshall Islands                  0.0                         0.0        4.0\n",
       "Congo (Kinshasa)                  0.0                         0.0        0.0"
      ]
     },
     "execution_count": 20,
     "metadata": {},
     "output_type": "execute_result"
    },
    {
     "data": {
      "image/png": "[encoded data removed]",
      "text/plain": [
       "<Figure size 1440x432 with 1 Axes>"
      ]
     },
     "metadata": {
      "needs_background": "light"
     },
     "output_type": "display_data"
    }
   ],
   "source": [
    "top10fatal_lowest.sort_values(by=['RatioFatalByConfirmed_in_%']).head(10)['RatioFatalByConfirmed_in_%'].plot.bar(color='red')\n",
    "plt.xticks(rotation=45)\n",
    "plt.title(\"Top 10 countries/ locations with LOWEST ratio Total fatalities over Confirmed case on Day \"+str(lastday))\n",
    "\n",
    "top10fatal_lowest.sort_values(by=['RatioFatalByConfirmed_in_%']).head(10)"
   ]
  },
  {
   "cell_type": "code",
   "execution_count": 21,
   "metadata": {},
   "outputs": [
    {
     "data": {
      "text/html": [
       "<div>\n",
       "<style scoped>\n",
       "    .dataframe tbody tr th:only-of-type {\n",
       "        vertical-align: middle;\n",
       "    }\n",
       "\n",
       "    .dataframe tbody tr th {\n",
       "        vertical-align: top;\n",
       "    }\n",
       "\n",
       "    .dataframe thead th {\n",
       "        text-align: right;\n",
       "    }\n",
       "</style>\n",
       "<table border=\"1\" class=\"dataframe\">\n",
       "  <thead>\n",
       "    <tr style=\"text-align: right;\">\n",
       "      <th></th>\n",
       "      <th>353</th>\n",
       "      <th>RatioFatalByConfirmed_in_%</th>\n",
       "      <th>Confirmed</th>\n",
       "    </tr>\n",
       "  </thead>\n",
       "  <tbody>\n",
       "    <tr>\n",
       "      <th>Liberia</th>\n",
       "      <td>83.0</td>\n",
       "      <td>4.6655</td>\n",
       "      <td>1779.0</td>\n",
       "    </tr>\n",
       "    <tr>\n",
       "      <th>China</th>\n",
       "      <td>4791.0</td>\n",
       "      <td>4.9550</td>\n",
       "      <td>96690.0</td>\n",
       "    </tr>\n",
       "    <tr>\n",
       "      <th>Bolivia</th>\n",
       "      <td>9351.0</td>\n",
       "      <td>5.4115</td>\n",
       "      <td>172798.0</td>\n",
       "    </tr>\n",
       "    <tr>\n",
       "      <th>Egypt</th>\n",
       "      <td>8142.0</td>\n",
       "      <td>5.4718</td>\n",
       "      <td>148799.0</td>\n",
       "    </tr>\n",
       "    <tr>\n",
       "      <th>Sudan</th>\n",
       "      <td>1531.0</td>\n",
       "      <td>5.6904</td>\n",
       "      <td>26905.0</td>\n",
       "    </tr>\n",
       "    <tr>\n",
       "      <th>Syria</th>\n",
       "      <td>768.0</td>\n",
       "      <td>6.2571</td>\n",
       "      <td>12274.0</td>\n",
       "    </tr>\n",
       "    <tr>\n",
       "      <th>Ecuador</th>\n",
       "      <td>14177.0</td>\n",
       "      <td>6.4339</td>\n",
       "      <td>220349.0</td>\n",
       "    </tr>\n",
       "    <tr>\n",
       "      <th>Mexico</th>\n",
       "      <td>133204.0</td>\n",
       "      <td>8.7402</td>\n",
       "      <td>1524036.0</td>\n",
       "    </tr>\n",
       "    <tr>\n",
       "      <th>MS Zaandam</th>\n",
       "      <td>2.0</td>\n",
       "      <td>22.2222</td>\n",
       "      <td>9.0</td>\n",
       "    </tr>\n",
       "    <tr>\n",
       "      <th>Yemen</th>\n",
       "      <td>610.0</td>\n",
       "      <td>28.9924</td>\n",
       "      <td>2104.0</td>\n",
       "    </tr>\n",
       "  </tbody>\n",
       "</table>\n",
       "</div>"
      ],
      "text/plain": [
       "                 353  RatioFatalByConfirmed_in_%  Confirmed\n",
       "Liberia         83.0                      4.6655     1779.0\n",
       "China         4791.0                      4.9550    96690.0\n",
       "Bolivia       9351.0                      5.4115   172798.0\n",
       "Egypt         8142.0                      5.4718   148799.0\n",
       "Sudan         1531.0                      5.6904    26905.0\n",
       "Syria          768.0                      6.2571    12274.0\n",
       "Ecuador      14177.0                      6.4339   220349.0\n",
       "Mexico      133204.0                      8.7402  1524036.0\n",
       "MS Zaandam       2.0                     22.2222        9.0\n",
       "Yemen          610.0                     28.9924     2104.0"
      ]
     },
     "execution_count": 21,
     "metadata": {},
     "output_type": "execute_result"
    },
    {
     "data": {
      "image/png": "[encoded data removed]",
      "text/plain": [
       "<Figure size 1440x432 with 1 Axes>"
      ]
     },
     "metadata": {
      "needs_background": "light"
     },
     "output_type": "display_data"
    }
   ],
   "source": [
    "top10fatal_lowest.sort_values(by=['RatioFatalByConfirmed_in_%']).tail(10)['RatioFatalByConfirmed_in_%'].plot.bar(color='red')\n",
    "plt.xticks(rotation=0)\n",
    "plt.title(\"Top 10 countries/ locations with HIGHEST ratio Total fatalities over Confirmed case on Day \"+str(lastday))\n",
    "\n",
    "top10fatal_lowest.sort_values(by=['RatioFatalByConfirmed_in_%']).tail(10)"
   ]
  },
  {
   "cell_type": "code",
   "execution_count": 22,
   "metadata": {},
   "outputs": [
    {
     "data": {
      "text/html": [
       "<div>\n",
       "<style scoped>\n",
       "    .dataframe tbody tr th:only-of-type {\n",
       "        vertical-align: middle;\n",
       "    }\n",
       "\n",
       "    .dataframe tbody tr th {\n",
       "        vertical-align: top;\n",
       "    }\n",
       "\n",
       "    .dataframe thead th {\n",
       "        text-align: right;\n",
       "    }\n",
       "</style>\n",
       "<table border=\"1\" class=\"dataframe\">\n",
       "  <thead>\n",
       "    <tr style=\"text-align: right;\">\n",
       "      <th></th>\n",
       "      <th>353</th>\n",
       "      <th>RatioRecoveredByConfirmed_in_%</th>\n",
       "      <th>Confirmed</th>\n",
       "    </tr>\n",
       "  </thead>\n",
       "  <tbody>\n",
       "    <tr>\n",
       "      <th>Sweden</th>\n",
       "      <td>0.0</td>\n",
       "      <td>0.0000</td>\n",
       "      <td>489471.0</td>\n",
       "    </tr>\n",
       "    <tr>\n",
       "      <th>Belgium</th>\n",
       "      <td>0.0</td>\n",
       "      <td>0.0000</td>\n",
       "      <td>662694.0</td>\n",
       "    </tr>\n",
       "    <tr>\n",
       "      <th>Congo (Kinshasa)</th>\n",
       "      <td>0.0</td>\n",
       "      <td>0.0000</td>\n",
       "      <td>0.0</td>\n",
       "    </tr>\n",
       "    <tr>\n",
       "      <th>Serbia</th>\n",
       "      <td>0.0</td>\n",
       "      <td>0.0000</td>\n",
       "      <td>356125.0</td>\n",
       "    </tr>\n",
       "    <tr>\n",
       "      <th>Congo (Brazzaville)</th>\n",
       "      <td>0.0</td>\n",
       "      <td>0.0000</td>\n",
       "      <td>0.0</td>\n",
       "    </tr>\n",
       "    <tr>\n",
       "      <th>United Kingdom</th>\n",
       "      <td>6851.0</td>\n",
       "      <td>0.2264</td>\n",
       "      <td>3026342.0</td>\n",
       "    </tr>\n",
       "    <tr>\n",
       "      <th>Netherlands</th>\n",
       "      <td>10716.0</td>\n",
       "      <td>1.2199</td>\n",
       "      <td>878443.0</td>\n",
       "    </tr>\n",
       "    <tr>\n",
       "      <th>Spain</th>\n",
       "      <td>150376.0</td>\n",
       "      <td>7.3341</td>\n",
       "      <td>2050360.0</td>\n",
       "    </tr>\n",
       "    <tr>\n",
       "      <th>France</th>\n",
       "      <td>208090.0</td>\n",
       "      <td>7.3662</td>\n",
       "      <td>2824920.0</td>\n",
       "    </tr>\n",
       "    <tr>\n",
       "      <th>Cyprus</th>\n",
       "      <td>2057.0</td>\n",
       "      <td>7.6154</td>\n",
       "      <td>27011.0</td>\n",
       "    </tr>\n",
       "  </tbody>\n",
       "</table>\n",
       "</div>"
      ],
      "text/plain": [
       "                          353  RatioRecoveredByConfirmed_in_%  Confirmed\n",
       "Sweden                    0.0                          0.0000   489471.0\n",
       "Belgium                   0.0                          0.0000   662694.0\n",
       "Congo (Kinshasa)          0.0                          0.0000        0.0\n",
       "Serbia                    0.0                          0.0000   356125.0\n",
       "Congo (Brazzaville)       0.0                          0.0000        0.0\n",
       "United Kingdom         6851.0                          0.2264  3026342.0\n",
       "Netherlands           10716.0                          1.2199   878443.0\n",
       "Spain                150376.0                          7.3341  2050360.0\n",
       "France               208090.0                          7.3662  2824920.0\n",
       "Cyprus                 2057.0                          7.6154    27011.0"
      ]
     },
     "execution_count": 22,
     "metadata": {},
     "output_type": "execute_result"
    },
    {
     "data": {
      "image/png": "[encoded data removed]",
      "text/plain": [
       "<Figure size 1440x432 with 1 Axes>"
      ]
     },
     "metadata": {
      "needs_background": "light"
     },
     "output_type": "display_data"
    }
   ],
   "source": [
    "top10recovered_lowest.sort_values(by=['RatioRecoveredByConfirmed_in_%']).head(10)['RatioRecoveredByConfirmed_in_%'].plot.bar(color='green')\n",
    "plt.xticks(rotation=0)\n",
    "plt.title(\"Top 10 countries/ locations with LOWEST ratio Total recovered over Confirmed case on Day \"+str(lastday))\n",
    "\n",
    "top10recovered_lowest.sort_values(by=['RatioRecoveredByConfirmed_in_%']).head(10)"
   ]
  },
  {
   "cell_type": "code",
   "execution_count": 23,
   "metadata": {},
   "outputs": [
    {
     "data": {
      "text/html": [
       "<div>\n",
       "<style scoped>\n",
       "    .dataframe tbody tr th:only-of-type {\n",
       "        vertical-align: middle;\n",
       "    }\n",
       "\n",
       "    .dataframe tbody tr th {\n",
       "        vertical-align: top;\n",
       "    }\n",
       "\n",
       "    .dataframe thead th {\n",
       "        text-align: right;\n",
       "    }\n",
       "</style>\n",
       "<table border=\"1\" class=\"dataframe\">\n",
       "  <thead>\n",
       "    <tr style=\"text-align: right;\">\n",
       "      <th></th>\n",
       "      <th>353</th>\n",
       "      <th>RatioRecoveredByConfirmed_in_%</th>\n",
       "      <th>Confirmed</th>\n",
       "    </tr>\n",
       "  </thead>\n",
       "  <tbody>\n",
       "    <tr>\n",
       "      <th>Uzbekistan</th>\n",
       "      <td>75947.0</td>\n",
       "      <td>97.9582</td>\n",
       "      <td>77530.0</td>\n",
       "    </tr>\n",
       "    <tr>\n",
       "      <th>Gabon</th>\n",
       "      <td>9498.0</td>\n",
       "      <td>97.9781</td>\n",
       "      <td>9694.0</td>\n",
       "    </tr>\n",
       "    <tr>\n",
       "      <th>Diamond Princess</th>\n",
       "      <td>699.0</td>\n",
       "      <td>98.1742</td>\n",
       "      <td>712.0</td>\n",
       "    </tr>\n",
       "    <tr>\n",
       "      <th>Central African Republic</th>\n",
       "      <td>4885.0</td>\n",
       "      <td>98.3095</td>\n",
       "      <td>4969.0</td>\n",
       "    </tr>\n",
       "    <tr>\n",
       "      <th>Djibouti</th>\n",
       "      <td>5774.0</td>\n",
       "      <td>98.4316</td>\n",
       "      <td>5866.0</td>\n",
       "    </tr>\n",
       "    <tr>\n",
       "      <th>Tajikistan</th>\n",
       "      <td>13215.0</td>\n",
       "      <td>99.3236</td>\n",
       "      <td>13305.0</td>\n",
       "    </tr>\n",
       "    <tr>\n",
       "      <th>Singapore</th>\n",
       "      <td>58611.0</td>\n",
       "      <td>99.5685</td>\n",
       "      <td>58865.0</td>\n",
       "    </tr>\n",
       "    <tr>\n",
       "      <th>Marshall Islands</th>\n",
       "      <td>4.0</td>\n",
       "      <td>100.0000</td>\n",
       "      <td>4.0</td>\n",
       "    </tr>\n",
       "    <tr>\n",
       "      <th>Samoa</th>\n",
       "      <td>2.0</td>\n",
       "      <td>100.0000</td>\n",
       "      <td>2.0</td>\n",
       "    </tr>\n",
       "    <tr>\n",
       "      <th>Vanuatu</th>\n",
       "      <td>1.0</td>\n",
       "      <td>100.0000</td>\n",
       "      <td>1.0</td>\n",
       "    </tr>\n",
       "  </tbody>\n",
       "</table>\n",
       "</div>"
      ],
      "text/plain": [
       "                              353  RatioRecoveredByConfirmed_in_%  Confirmed\n",
       "Uzbekistan                75947.0                         97.9582    77530.0\n",
       "Gabon                      9498.0                         97.9781     9694.0\n",
       "Diamond Princess            699.0                         98.1742      712.0\n",
       "Central African Republic   4885.0                         98.3095     4969.0\n",
       "Djibouti                   5774.0                         98.4316     5866.0\n",
       "Tajikistan                13215.0                         99.3236    13305.0\n",
       "Singapore                 58611.0                         99.5685    58865.0\n",
       "Marshall Islands              4.0                        100.0000        4.0\n",
       "Samoa                         2.0                        100.0000        2.0\n",
       "Vanuatu                       1.0                        100.0000        1.0"
      ]
     },
     "execution_count": 23,
     "metadata": {},
     "output_type": "execute_result"
    },
    {
     "data": {
      "image/png": "[encoded data removed]",
      "text/plain": [
       "<Figure size 1440x432 with 1 Axes>"
      ]
     },
     "metadata": {
      "needs_background": "light"
     },
     "output_type": "display_data"
    }
   ],
   "source": [
    "top10recovered_lowest.sort_values(by=['RatioRecoveredByConfirmed_in_%']).tail(10)['RatioRecoveredByConfirmed_in_%'].plot.bar(color='green')\n",
    "plt.xticks(rotation=0)\n",
    "plt.title(\"Top 10 countries/ locations with HIGHEST ratio Total recovered over Confirmed case on Day \"+str(lastday))\n",
    "\n",
    "top10recovered_lowest.sort_values(by=['RatioRecoveredByConfirmed_in_%']).tail(10)"
   ]
  }
 ],
 "metadata": {
  "kernelspec": {
   "display_name": "aic",
   "language": "python",
   "name": "aic"
  },
  "language_info": {
   "codemirror_mode": {
    "name": "ipython",
    "version": 3
   },
   "file_extension": ".py",
   "mimetype": "text/x-python",
   "name": "python",
   "nbconvert_exporter": "python",
   "pygments_lexer": "ipython3",
   "version": "3.7.9"
  }
 },
 "nbformat": 4,
 "nbformat_minor": 4
}
