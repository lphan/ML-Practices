{
 "cells": [
  {
   "cell_type": "markdown",
   "metadata": {},
   "source": [
    "### COVID-19 \n",
    "### UPDATE by DAY \n",
    "### TOP 10 (highest sorted) countries with TOTAL cases (CONFIRMED, FATALITIES, RECOVERED) last day "
   ]
  },
  {
   "cell_type": "code",
   "execution_count": 1,
   "metadata": {},
   "outputs": [
    {
     "name": "stdout",
     "output_type": "stream",
     "text": [
      "Start importing files in folder\n",
      "['.gitignore', '01-22-2020.csv', '01-23-2020.csv', '01-24-2020.csv', '01-25-2020.csv', '01-26-2020.csv', '01-27-2020.csv', '01-28-2020.csv', '01-29-2020.csv', '01-30-2020.csv', '01-31-2020.csv', '02-01-2020.csv', '02-02-2020.csv', '02-03-2020.csv', '02-04-2020.csv', '02-05-2020.csv', '02-06-2020.csv', '02-07-2020.csv', '02-08-2020.csv', '02-09-2020.csv', '02-10-2020.csv', '02-11-2020.csv', '02-12-2020.csv', '02-13-2020.csv', '02-14-2020.csv', '02-15-2020.csv', '02-16-2020.csv', '02-17-2020.csv', '02-18-2020.csv', '02-19-2020.csv', '02-20-2020.csv', '02-21-2020.csv', '02-22-2020.csv', '02-23-2020.csv', '02-24-2020.csv', '02-25-2020.csv', '02-26-2020.csv', '02-27-2020.csv', '02-28-2020.csv', '02-29-2020.csv', '03-01-2020.csv', '03-02-2020.csv', '03-03-2020.csv', '03-04-2020.csv', '03-05-2020.csv', '03-06-2020.csv', '03-07-2020.csv', '03-08-2020.csv', '03-09-2020.csv', '03-10-2020.csv', '03-11-2020.csv', '03-12-2020.csv', '03-13-2020.csv', '03-14-2020.csv', '03-15-2020.csv', '03-16-2020.csv', '03-17-2020.csv', '03-18-2020.csv', '03-19-2020.csv', '03-20-2020.csv', '03-21-2020.csv', '03-22-2020.csv', '03-23-2020.csv', '03-24-2020.csv', '03-25-2020.csv', '03-26-2020.csv', '03-27-2020.csv', '03-28-2020.csv', '03-29-2020.csv', '03-30-2020.csv', '03-31-2020.csv', '04-01-2020.csv', '04-02-2020.csv', '04-03-2020.csv', '04-04-2020.csv', '04-05-2020.csv', '04-06-2020.csv', '04-07-2020.csv', '04-08-2020.csv', '04-09-2020.csv', '04-10-2020.csv', '04-11-2020.csv', '04-12-2020.csv', '04-13-2020.csv', '04-14-2020.csv', '04-15-2020.csv', '04-16-2020.csv', '04-17-2020.csv', '04-18-2020.csv', '04-19-2020.csv', '04-20-2020.csv', '04-21-2020.csv', '04-22-2020.csv', '04-23-2020.csv', '04-24-2020.csv', '04-25-2020.csv', '04-26-2020.csv', '04-27-2020.csv', '04-28-2020.csv', '04-29-2020.csv', '04-30-2020.csv', '05-01-2020.csv', '05-02-2020.csv', '05-03-2020.csv', '05-04-2020.csv', '05-05-2020.csv', '05-06-2020.csv', '05-07-2020.csv', '05-08-2020.csv', '05-09-2020.csv', '05-10-2020.csv', '05-11-2020.csv', '05-12-2020.csv', '05-13-2020.csv', '05-14-2020.csv', '05-15-2020.csv', '05-16-2020.csv', '05-17-2020.csv', '05-18-2020.csv', '05-19-2020.csv', '05-20-2020.csv', '05-21-2020.csv', '05-22-2020.csv', '05-23-2020.csv', '05-24-2020.csv', '05-25-2020.csv', '05-26-2020.csv', '05-27-2020.csv', '05-28-2020.csv', '05-29-2020.csv', '05-30-2020.csv', '05-31-2020.csv', '06-01-2020.csv', '06-02-2020.csv', '06-03-2020.csv', '06-04-2020.csv', '06-05-2020.csv', '06-06-2020.csv', '06-07-2020.csv', '06-08-2020.csv', '06-09-2020.csv', '06-10-2020.csv', '06-11-2020.csv', '06-12-2020.csv', '06-13-2020.csv', '06-14-2020.csv', '06-15-2020.csv', '06-16-2020.csv', '06-17-2020.csv', '06-18-2020.csv', '06-19-2020.csv', '06-20-2020.csv', '06-21-2020.csv', '06-22-2020.csv', '06-23-2020.csv', '06-24-2020.csv', '06-25-2020.csv', '06-26-2020.csv', '06-27-2020.csv', '06-28-2020.csv', '06-29-2020.csv', '06-30-2020.csv', '07-01-2020.csv', '07-02-2020.csv', '07-03-2020.csv', '07-04-2020.csv', '07-05-2020.csv', '07-06-2020.csv', '07-07-2020.csv', '07-08-2020.csv', '07-09-2020.csv', '07-10-2020.csv', '07-11-2020.csv', '07-12-2020.csv', '07-13-2020.csv', '07-14-2020.csv', '07-15-2020.csv', '07-16-2020.csv', '07-17-2020.csv', '07-18-2020.csv', '07-19-2020.csv', '07-20-2020.csv', '07-21-2020.csv', '07-22-2020.csv', '07-23-2020.csv', '07-24-2020.csv', '07-25-2020.csv', '07-26-2020.csv', '07-27-2020.csv', '07-28-2020.csv', '07-29-2020.csv', '07-30-2020.csv', '07-31-2020.csv', '08-01-2020.csv', '08-02-2020.csv', '08-03-2020.csv', '08-04-2020.csv', '08-05-2020.csv', '08-06-2020.csv', '08-07-2020.csv', '08-08-2020.csv', '08-09-2020.csv', '08-10-2020.csv', '08-11-2020.csv', '08-12-2020.csv', '08-13-2020.csv', '08-14-2020.csv', '08-15-2020.csv', '08-16-2020.csv', '08-17-2020.csv', '08-18-2020.csv', '08-19-2020.csv', '08-20-2020.csv', '08-21-2020.csv', '08-22-2020.csv', '08-23-2020.csv', '08-24-2020.csv', '08-25-2020.csv', '08-26-2020.csv', '08-27-2020.csv', '08-28-2020.csv', '08-29-2020.csv', '08-30-2020.csv', '08-31-2020.csv', '09-01-2020.csv', '09-02-2020.csv', '09-03-2020.csv', '09-04-2020.csv', '09-05-2020.csv', '09-06-2020.csv', '09-07-2020.csv', '09-08-2020.csv', '09-09-2020.csv', '09-10-2020.csv', '09-11-2020.csv', '09-12-2020.csv', '09-13-2020.csv', '09-14-2020.csv', '09-15-2020.csv', '09-16-2020.csv', '09-17-2020.csv', '09-18-2020.csv', '09-19-2020.csv', '09-20-2020.csv', '09-21-2020.csv', '09-22-2020.csv', '09-23-2020.csv', '09-24-2020.csv', '09-25-2020.csv', '09-26-2020.csv', '09-27-2020.csv', '09-28-2020.csv', '09-29-2020.csv', '09-30-2020.csv', '10-01-2020.csv', '10-02-2020.csv', '10-03-2020.csv', '10-04-2020.csv', '10-05-2020.csv', '10-06-2020.csv', '10-07-2020.csv', '10-08-2020.csv', '10-09-2020.csv', '10-10-2020.csv', '10-11-2020.csv', '10-12-2020.csv', '10-13-2020.csv', '10-14-2020.csv', '10-15-2020.csv', '10-16-2020.csv', '10-17-2020.csv', '10-18-2020.csv', '10-19-2020.csv', 'README.md']\n",
      "None\n",
      "None\n",
      "Start importing single data  ./COVID-19/csse_covid_19_data/UID_ISO_FIPS_LookUp_Table.csv\n"
     ]
    }
   ],
   "source": [
    "# Configuration: setup absolute path to location of package Starts and config-file \n",
    "from inspect import getsourcefile\n",
    "import os.path as path, sys\n",
    "current_dir = path.dirname(path.abspath(getsourcefile(lambda:0)))\n",
    "sys.path.insert(0, current_dir[:current_dir.rfind(path.sep)])\n",
    "\n",
    "from Starts.start import *\n",
    "from Starts.startml import *\n",
    "from Starts.startvis import *  \n",
    "%matplotlib inline\n",
    "rcParams['figure.figsize'] = 20, 6"
   ]
  },
  {
   "cell_type": "markdown",
   "metadata": {},
   "source": [
    "### Number of covid-19 outbreak days"
   ]
  },
  {
   "cell_type": "code",
   "execution_count": 2,
   "metadata": {},
   "outputs": [
    {
     "data": {
      "text/plain": [
       "272"
      ]
     },
     "execution_count": 2,
     "metadata": {},
     "output_type": "execute_result"
    }
   ],
   "source": [
    "from covidpd import *\n",
    "len(data)"
   ]
  },
  {
   "cell_type": "code",
   "execution_count": 3,
   "metadata": {},
   "outputs": [
    {
     "name": "stdout",
     "output_type": "stream",
     "text": [
      "Ratio total fatalities/ total confirmed:  2.77 %\n",
      "Ratio total recovered/ total confirmed: 68.57 %\n",
      "Remaining: 28.67 %\n"
     ]
    }
   ],
   "source": [
    "tftc = totalFatal/totalConfirmed*100\n",
    "trtc = totalRecovered/totalConfirmed*100\n",
    "re = 100-tftc-trtc\n",
    "print(\"Ratio total fatalities/ total confirmed: %5.2f %%\" % tftc)\n",
    "print(\"Ratio total recovered/ total confirmed: %5.2f %%\" % trtc)\n",
    "print(\"Remaining: %5.2f %%\" % re)"
   ]
  },
  {
   "cell_type": "markdown",
   "metadata": {},
   "source": [
    "### TOP 10 (highest sorted) countries with TOTAL CONFIRMED"
   ]
  },
  {
   "cell_type": "code",
   "execution_count": 4,
   "metadata": {},
   "outputs": [
    {
     "name": "stdout",
     "output_type": "stream",
     "text": [
      "Total Confirmed:  40395527.0\n",
      "Total percentage of 10 countries:  69.53 %\n"
     ]
    },
    {
     "data": {
      "text/html": [
       "<div>\n",
       "<style scoped>\n",
       "    .dataframe tbody tr th:only-of-type {\n",
       "        vertical-align: middle;\n",
       "    }\n",
       "\n",
       "    .dataframe tbody tr th {\n",
       "        vertical-align: top;\n",
       "    }\n",
       "\n",
       "    .dataframe thead th {\n",
       "        text-align: right;\n",
       "    }\n",
       "</style>\n",
       "<table border=\"1\" class=\"dataframe\">\n",
       "  <thead>\n",
       "    <tr style=\"text-align: right;\">\n",
       "      <th></th>\n",
       "      <th>271</th>\n",
       "      <th>RatioByTotal_in_%</th>\n",
       "    </tr>\n",
       "  </thead>\n",
       "  <tbody>\n",
       "    <tr>\n",
       "      <th>US</th>\n",
       "      <td>8212981.0</td>\n",
       "      <td>20.33</td>\n",
       "    </tr>\n",
       "    <tr>\n",
       "      <th>India</th>\n",
       "      <td>7597063.0</td>\n",
       "      <td>18.81</td>\n",
       "    </tr>\n",
       "    <tr>\n",
       "      <th>Brazil</th>\n",
       "      <td>5250727.0</td>\n",
       "      <td>13.00</td>\n",
       "    </tr>\n",
       "    <tr>\n",
       "      <th>Russia</th>\n",
       "      <td>1406667.0</td>\n",
       "      <td>3.48</td>\n",
       "    </tr>\n",
       "    <tr>\n",
       "      <th>Argentina</th>\n",
       "      <td>1002662.0</td>\n",
       "      <td>2.48</td>\n",
       "    </tr>\n",
       "    <tr>\n",
       "      <th>Spain</th>\n",
       "      <td>974449.0</td>\n",
       "      <td>2.41</td>\n",
       "    </tr>\n",
       "    <tr>\n",
       "      <th>Colombia</th>\n",
       "      <td>965883.0</td>\n",
       "      <td>2.39</td>\n",
       "    </tr>\n",
       "    <tr>\n",
       "      <th>France</th>\n",
       "      <td>952600.0</td>\n",
       "      <td>2.36</td>\n",
       "    </tr>\n",
       "    <tr>\n",
       "      <th>Peru</th>\n",
       "      <td>868675.0</td>\n",
       "      <td>2.15</td>\n",
       "    </tr>\n",
       "    <tr>\n",
       "      <th>Mexico</th>\n",
       "      <td>854926.0</td>\n",
       "      <td>2.12</td>\n",
       "    </tr>\n",
       "  </tbody>\n",
       "</table>\n",
       "</div>"
      ],
      "text/plain": [
       "                 271  RatioByTotal_in_%\n",
       "US         8212981.0              20.33\n",
       "India      7597063.0              18.81\n",
       "Brazil     5250727.0              13.00\n",
       "Russia     1406667.0               3.48\n",
       "Argentina  1002662.0               2.48\n",
       "Spain       974449.0               2.41\n",
       "Colombia    965883.0               2.39\n",
       "France      952600.0               2.36\n",
       "Peru        868675.0               2.15\n",
       "Mexico      854926.0               2.12"
      ]
     },
     "execution_count": 4,
     "metadata": {},
     "output_type": "execute_result"
    },
    {
     "data": {
      "image/png": "[encoded data removed]",
      "text/plain": [
       "<Figure size 1440x432 with 1 Axes>"
      ]
     },
     "metadata": {
      "needs_background": "light"
     },
     "output_type": "display_data"
    }
   ],
   "source": [
    "top10confirmed[lastday].plot.bar(color='orange')\n",
    "plt.title('Top 10 countries with total highest confirmed until last day %i' %lastday)\n",
    "plt.xticks(rotation=0)\n",
    "print(\"Total Confirmed: \", totalConfirmed)\n",
    "print(\"Total percentage of 10 countries: %6.2f %%\" % sum(top10confirmed['RatioByTotal_in_%'].values))\n",
    "top10confirmed"
   ]
  },
  {
   "cell_type": "markdown",
   "metadata": {},
   "source": [
    "### TOP 10 (highest sorted) countries with TOTAL FATALITIES"
   ]
  },
  {
   "cell_type": "code",
   "execution_count": 5,
   "metadata": {},
   "outputs": [
    {
     "name": "stdout",
     "output_type": "stream",
     "text": [
      "Total Fatalities:  1118159.0\n",
      "Total percentage of 10 countries:  70.51 %\n"
     ]
    },
    {
     "data": {
      "text/html": [
       "<div>\n",
       "<style scoped>\n",
       "    .dataframe tbody tr th:only-of-type {\n",
       "        vertical-align: middle;\n",
       "    }\n",
       "\n",
       "    .dataframe tbody tr th {\n",
       "        vertical-align: top;\n",
       "    }\n",
       "\n",
       "    .dataframe thead th {\n",
       "        text-align: right;\n",
       "    }\n",
       "</style>\n",
       "<table border=\"1\" class=\"dataframe\">\n",
       "  <thead>\n",
       "    <tr style=\"text-align: right;\">\n",
       "      <th></th>\n",
       "      <th>271</th>\n",
       "      <th>RatioByTotal_in_%</th>\n",
       "    </tr>\n",
       "  </thead>\n",
       "  <tbody>\n",
       "    <tr>\n",
       "      <th>US</th>\n",
       "      <td>220119.0</td>\n",
       "      <td>19.69</td>\n",
       "    </tr>\n",
       "    <tr>\n",
       "      <th>Brazil</th>\n",
       "      <td>154176.0</td>\n",
       "      <td>13.79</td>\n",
       "    </tr>\n",
       "    <tr>\n",
       "      <th>India</th>\n",
       "      <td>115197.0</td>\n",
       "      <td>10.30</td>\n",
       "    </tr>\n",
       "    <tr>\n",
       "      <th>Mexico</th>\n",
       "      <td>86338.0</td>\n",
       "      <td>7.72</td>\n",
       "    </tr>\n",
       "    <tr>\n",
       "      <th>United Kingdom</th>\n",
       "      <td>43816.0</td>\n",
       "      <td>3.92</td>\n",
       "    </tr>\n",
       "    <tr>\n",
       "      <th>Italy</th>\n",
       "      <td>36616.0</td>\n",
       "      <td>3.27</td>\n",
       "    </tr>\n",
       "    <tr>\n",
       "      <th>Spain</th>\n",
       "      <td>33992.0</td>\n",
       "      <td>3.04</td>\n",
       "    </tr>\n",
       "    <tr>\n",
       "      <th>Peru</th>\n",
       "      <td>33759.0</td>\n",
       "      <td>3.02</td>\n",
       "    </tr>\n",
       "    <tr>\n",
       "      <th>France</th>\n",
       "      <td>33647.0</td>\n",
       "      <td>3.01</td>\n",
       "    </tr>\n",
       "    <tr>\n",
       "      <th>Iran</th>\n",
       "      <td>30712.0</td>\n",
       "      <td>2.75</td>\n",
       "    </tr>\n",
       "  </tbody>\n",
       "</table>\n",
       "</div>"
      ],
      "text/plain": [
       "                     271  RatioByTotal_in_%\n",
       "US              220119.0              19.69\n",
       "Brazil          154176.0              13.79\n",
       "India           115197.0              10.30\n",
       "Mexico           86338.0               7.72\n",
       "United Kingdom   43816.0               3.92\n",
       "Italy            36616.0               3.27\n",
       "Spain            33992.0               3.04\n",
       "Peru             33759.0               3.02\n",
       "France           33647.0               3.01\n",
       "Iran             30712.0               2.75"
      ]
     },
     "execution_count": 5,
     "metadata": {},
     "output_type": "execute_result"
    },
    {
     "data": {
      "image/png": "[encoded data removed]",
      "text/plain": [
       "<Figure size 1440x432 with 1 Axes>"
      ]
     },
     "metadata": {
      "needs_background": "light"
     },
     "output_type": "display_data"
    }
   ],
   "source": [
    "top10fatal[lastday].plot.bar(color='red')\n",
    "plt.title('Top 10 countries with total highest fatalities until last day %i' %lastday)\n",
    "plt.xticks(rotation=0)\n",
    "print(\"Total Fatalities: \", totalFatal)\n",
    "print(\"Total percentage of 10 countries: %6.2f %%\" % sum(top10fatal['RatioByTotal_in_%'].values))\n",
    "top10fatal "
   ]
  },
  {
   "cell_type": "markdown",
   "metadata": {},
   "source": [
    "### TOP 10 (highest sorted) countries with TOTAL RECOVERED"
   ]
  },
  {
   "cell_type": "code",
   "execution_count": 6,
   "metadata": {},
   "outputs": [
    {
     "name": "stdout",
     "output_type": "stream",
     "text": [
      "Total Recovered:  27697918.0\n",
      "Total percentage of 10 countries:  71.80 %\n"
     ]
    },
    {
     "data": {
      "text/html": [
       "<div>\n",
       "<style scoped>\n",
       "    .dataframe tbody tr th:only-of-type {\n",
       "        vertical-align: middle;\n",
       "    }\n",
       "\n",
       "    .dataframe tbody tr th {\n",
       "        vertical-align: top;\n",
       "    }\n",
       "\n",
       "    .dataframe thead th {\n",
       "        text-align: right;\n",
       "    }\n",
       "</style>\n",
       "<table border=\"1\" class=\"dataframe\">\n",
       "  <thead>\n",
       "    <tr style=\"text-align: right;\">\n",
       "      <th></th>\n",
       "      <th>271</th>\n",
       "      <th>RatioByTotal_in_%</th>\n",
       "    </tr>\n",
       "  </thead>\n",
       "  <tbody>\n",
       "    <tr>\n",
       "      <th>India</th>\n",
       "      <td>6733328.0</td>\n",
       "      <td>24.31</td>\n",
       "    </tr>\n",
       "    <tr>\n",
       "      <th>Brazil</th>\n",
       "      <td>4526393.0</td>\n",
       "      <td>16.34</td>\n",
       "    </tr>\n",
       "    <tr>\n",
       "      <th>US</th>\n",
       "      <td>3272603.0</td>\n",
       "      <td>11.82</td>\n",
       "    </tr>\n",
       "    <tr>\n",
       "      <th>Russia</th>\n",
       "      <td>1070920.0</td>\n",
       "      <td>3.87</td>\n",
       "    </tr>\n",
       "    <tr>\n",
       "      <th>Colombia</th>\n",
       "      <td>867961.0</td>\n",
       "      <td>3.13</td>\n",
       "    </tr>\n",
       "    <tr>\n",
       "      <th>Argentina</th>\n",
       "      <td>803965.0</td>\n",
       "      <td>2.90</td>\n",
       "    </tr>\n",
       "    <tr>\n",
       "      <th>Peru</th>\n",
       "      <td>784056.0</td>\n",
       "      <td>2.83</td>\n",
       "    </tr>\n",
       "    <tr>\n",
       "      <th>Mexico</th>\n",
       "      <td>727759.0</td>\n",
       "      <td>2.63</td>\n",
       "    </tr>\n",
       "    <tr>\n",
       "      <th>South Africa</th>\n",
       "      <td>635257.0</td>\n",
       "      <td>2.29</td>\n",
       "    </tr>\n",
       "    <tr>\n",
       "      <th>Chile</th>\n",
       "      <td>465021.0</td>\n",
       "      <td>1.68</td>\n",
       "    </tr>\n",
       "  </tbody>\n",
       "</table>\n",
       "</div>"
      ],
      "text/plain": [
       "                    271  RatioByTotal_in_%\n",
       "India         6733328.0              24.31\n",
       "Brazil        4526393.0              16.34\n",
       "US            3272603.0              11.82\n",
       "Russia        1070920.0               3.87\n",
       "Colombia       867961.0               3.13\n",
       "Argentina      803965.0               2.90\n",
       "Peru           784056.0               2.83\n",
       "Mexico         727759.0               2.63\n",
       "South Africa   635257.0               2.29\n",
       "Chile          465021.0               1.68"
      ]
     },
     "execution_count": 6,
     "metadata": {},
     "output_type": "execute_result"
    },
    {
     "data": {
      "image/png": "[encoded data removed]",
      "text/plain": [
       "<Figure size 1440x432 with 1 Axes>"
      ]
     },
     "metadata": {
      "needs_background": "light"
     },
     "output_type": "display_data"
    }
   ],
   "source": [
    "top10recovered[lastday].plot.bar(color='green')\n",
    "plt.title('Top 10 countries with total highest recovered until last day %i' %lastday)\n",
    "plt.xticks(rotation=0)\n",
    "print(\"Total Recovered: \", totalRecovered)\n",
    "print(\"Total percentage of 10 countries: %6.2f %%\" % sum(top10recovered['RatioByTotal_in_%'].values))\n",
    "top10recovered"
   ]
  }
 ],
 "metadata": {
  "kernelspec": {
   "display_name": "Python [conda env:.conda-aic]",
   "language": "python",
   "name": "conda-env-.conda-aic-py"
  },
  "language_info": {
   "codemirror_mode": {
    "name": "ipython",
    "version": 3
   },
   "file_extension": ".py",
   "mimetype": "text/x-python",
   "name": "python",
   "nbconvert_exporter": "python",
   "pygments_lexer": "ipython3",
   "version": "3.7.6"
  }
 },
 "nbformat": 4,
 "nbformat_minor": 4
}
