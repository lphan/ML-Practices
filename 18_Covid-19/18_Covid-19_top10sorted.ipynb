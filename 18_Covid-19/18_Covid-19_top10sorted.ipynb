{
 "cells": [
  {
   "cell_type": "markdown",
   "metadata": {},
   "source": [
    "### COVID-19 \n",
    "### UPDATE by DAY \n",
    "### TOP 10 (highest sorted) countries with TOTAL cases (CONFIRMED, FATALITIES, RECOVERED) last day "
   ]
  },
  {
   "cell_type": "markdown",
   "metadata": {},
   "source": [
    "### Number of covid-19 outbreak days"
   ]
  },
  {
   "cell_type": "code",
   "execution_count": 1,
   "metadata": {},
   "outputs": [
    {
     "name": "stdout",
     "output_type": "stream",
     "text": [
      "Start importing World-data  ./COVID-19/csse_covid_19_data/csse_covid_19_daily_reports/\n",
      "Start importing USA-data  ./COVID-19/csse_covid_19_data/csse_covid_19_daily_reports_us/\n",
      "Start importing single data  ./COVID-19/csse_covid_19_data/UID_ISO_FIPS_LookUp_Table.csv\n",
      "Start importing single data  ./COVID-19/csse_covid_19_data/csse_covid_19_time_series/time_series_covid19_confirmed_global.csv\n",
      "Start importing single data  ./COVID-19/csse_covid_19_data/csse_covid_19_time_series/time_series_covid19_deaths_global.csv\n",
      "Start importing single data  ./COVID-19/csse_covid_19_data/csse_covid_19_time_series/time_series_covid19_recovered_global.csv\n"
     ]
    },
    {
     "name": "stderr",
     "output_type": "stream",
     "text": [
      "/home/edvs1/lphan/.conda/envs/aic/lib/python3.7/site-packages/pandas/core/strings.py:2001: UserWarning: This pattern has match groups. To actually get the groups, use str.extract.\n",
      "  return func(self, *args, **kwargs)\n"
     ]
    },
    {
     "data": {
      "text/plain": [
       "396"
      ]
     },
     "execution_count": 1,
     "metadata": {},
     "output_type": "execute_result"
    }
   ],
   "source": [
    "from covid_top import *\n",
    "rcParams['figure.figsize'] = 20, 6\n",
    "len(data)"
   ]
  },
  {
   "cell_type": "code",
   "execution_count": 2,
   "metadata": {},
   "outputs": [
    {
     "data": {
      "text/plain": [
       "'02-20-2021'"
      ]
     },
     "execution_count": 2,
     "metadata": {},
     "output_type": "execute_result"
    }
   ],
   "source": [
    "updated_date=files[-1].split('.')[0]\n",
    "updated_date"
   ]
  },
  {
   "cell_type": "code",
   "execution_count": 3,
   "metadata": {},
   "outputs": [
    {
     "name": "stdout",
     "output_type": "stream",
     "text": [
      "Ratio total fatalities/ total confirmed:  2.21 %\n",
      "Ratio total recovered/ total confirmed: 67.23 %\n",
      "Remaining: 30.56 %\n"
     ]
    }
   ],
   "source": [
    "tftc = totalFatal/totalConfirmed*100\n",
    "trtc = totalRecovered/totalConfirmed*100\n",
    "re = 100-tftc-trtc\n",
    "print(\"Ratio total fatalities/ total confirmed: %5.2f %%\" % tftc)\n",
    "print(\"Ratio total recovered/ total confirmed: %5.2f %%\" % trtc)\n",
    "print(\"Remaining: %5.2f %%\" % re)"
   ]
  },
  {
   "cell_type": "markdown",
   "metadata": {},
   "source": [
    "### TOP 10 (highest sorted) countries with TOTAL CONFIRMED"
   ]
  },
  {
   "cell_type": "code",
   "execution_count": 4,
   "metadata": {},
   "outputs": [
    {
     "name": "stdout",
     "output_type": "stream",
     "text": [
      "Total Confirmed:  111442696.0\n",
      "Total percentage of 10 countries:  64.59 %\n"
     ]
    },
    {
     "data": {
      "text/html": [
       "<div>\n",
       "<style scoped>\n",
       "    .dataframe tbody tr th:only-of-type {\n",
       "        vertical-align: middle;\n",
       "    }\n",
       "\n",
       "    .dataframe tbody tr th {\n",
       "        vertical-align: top;\n",
       "    }\n",
       "\n",
       "    .dataframe thead th {\n",
       "        text-align: right;\n",
       "    }\n",
       "</style>\n",
       "<table border=\"1\" class=\"dataframe\">\n",
       "  <thead>\n",
       "    <tr style=\"text-align: right;\">\n",
       "      <th></th>\n",
       "      <th>395</th>\n",
       "      <th>RatioByTotal_in_%</th>\n",
       "    </tr>\n",
       "  </thead>\n",
       "  <tbody>\n",
       "    <tr>\n",
       "      <th>US</th>\n",
       "      <td>28077620.0</td>\n",
       "      <td>25.1947</td>\n",
       "    </tr>\n",
       "    <tr>\n",
       "      <th>India</th>\n",
       "      <td>10991651.0</td>\n",
       "      <td>9.8631</td>\n",
       "    </tr>\n",
       "    <tr>\n",
       "      <th>Brazil</th>\n",
       "      <td>10139148.0</td>\n",
       "      <td>9.0981</td>\n",
       "    </tr>\n",
       "    <tr>\n",
       "      <th>United Kingdom</th>\n",
       "      <td>4117739.0</td>\n",
       "      <td>3.6949</td>\n",
       "    </tr>\n",
       "    <tr>\n",
       "      <th>Russia</th>\n",
       "      <td>4105424.0</td>\n",
       "      <td>3.6839</td>\n",
       "    </tr>\n",
       "    <tr>\n",
       "      <th>France</th>\n",
       "      <td>3597113.0</td>\n",
       "      <td>3.2278</td>\n",
       "    </tr>\n",
       "    <tr>\n",
       "      <th>Spain</th>\n",
       "      <td>3133122.0</td>\n",
       "      <td>2.8114</td>\n",
       "    </tr>\n",
       "    <tr>\n",
       "      <th>Italy</th>\n",
       "      <td>2795796.0</td>\n",
       "      <td>2.5087</td>\n",
       "    </tr>\n",
       "    <tr>\n",
       "      <th>Turkey</th>\n",
       "      <td>2631876.0</td>\n",
       "      <td>2.3616</td>\n",
       "    </tr>\n",
       "    <tr>\n",
       "      <th>Germany</th>\n",
       "      <td>2388421.0</td>\n",
       "      <td>2.1432</td>\n",
       "    </tr>\n",
       "  </tbody>\n",
       "</table>\n",
       "</div>"
      ],
      "text/plain": [
       "                       395  RatioByTotal_in_%\n",
       "US              28077620.0            25.1947\n",
       "India           10991651.0             9.8631\n",
       "Brazil          10139148.0             9.0981\n",
       "United Kingdom   4117739.0             3.6949\n",
       "Russia           4105424.0             3.6839\n",
       "France           3597113.0             3.2278\n",
       "Spain            3133122.0             2.8114\n",
       "Italy            2795796.0             2.5087\n",
       "Turkey           2631876.0             2.3616\n",
       "Germany          2388421.0             2.1432"
      ]
     },
     "execution_count": 4,
     "metadata": {},
     "output_type": "execute_result"
    },
    {
     "data": {
      "image/png": "[encoded data removed]",
      "text/plain": [
       "<Figure size 1440x432 with 1 Axes>"
      ]
     },
     "metadata": {
      "needs_background": "light"
     },
     "output_type": "display_data"
    }
   ],
   "source": [
    "top10confirmed[lastday].plot.bar(color='orange')\n",
    "plt.title('Top 10 countries with total HIGHEST confirmed until last day %i' %lastday)\n",
    "plt.xticks(rotation=0)\n",
    "print(\"Total Confirmed: \", totalConfirmed)\n",
    "print(\"Total percentage of 10 countries: %6.2f %%\" % sum(top10confirmed['RatioByTotal_in_%'].values))\n",
    "for idx in range(10):\n",
    "    plt.text(idx, top10confirmed[lastday][idx], str(top10confirmed['RatioByTotal_in_%'][idx])+'%', horizontalalignment='center', fontweight='bold')\n",
    "top10confirmed"
   ]
  },
  {
   "cell_type": "markdown",
   "metadata": {},
   "source": [
    "### TOP 10 (highest sorted) countries with TOTAL FATALITIES"
   ]
  },
  {
   "cell_type": "code",
   "execution_count": 5,
   "metadata": {},
   "outputs": [
    {
     "name": "stdout",
     "output_type": "stream",
     "text": [
      "Total Fatalities:  2464800.0\n",
      "Total percentage of 10 countries:  64.75 %\n"
     ]
    },
    {
     "data": {
      "text/html": [
       "<div>\n",
       "<style scoped>\n",
       "    .dataframe tbody tr th:only-of-type {\n",
       "        vertical-align: middle;\n",
       "    }\n",
       "\n",
       "    .dataframe tbody tr th {\n",
       "        vertical-align: top;\n",
       "    }\n",
       "\n",
       "    .dataframe thead th {\n",
       "        text-align: right;\n",
       "    }\n",
       "</style>\n",
       "<table border=\"1\" class=\"dataframe\">\n",
       "  <thead>\n",
       "    <tr style=\"text-align: right;\">\n",
       "      <th></th>\n",
       "      <th>395</th>\n",
       "      <th>RatioByTotal_in_%</th>\n",
       "    </tr>\n",
       "  </thead>\n",
       "  <tbody>\n",
       "    <tr>\n",
       "      <th>US</th>\n",
       "      <td>497648.0</td>\n",
       "      <td>20.1902</td>\n",
       "    </tr>\n",
       "    <tr>\n",
       "      <th>Brazil</th>\n",
       "      <td>245977.0</td>\n",
       "      <td>9.9796</td>\n",
       "    </tr>\n",
       "    <tr>\n",
       "      <th>Mexico</th>\n",
       "      <td>179797.0</td>\n",
       "      <td>7.2946</td>\n",
       "    </tr>\n",
       "    <tr>\n",
       "      <th>India</th>\n",
       "      <td>156302.0</td>\n",
       "      <td>6.3414</td>\n",
       "    </tr>\n",
       "    <tr>\n",
       "      <th>United Kingdom</th>\n",
       "      <td>120593.0</td>\n",
       "      <td>4.8926</td>\n",
       "    </tr>\n",
       "    <tr>\n",
       "      <th>Italy</th>\n",
       "      <td>95486.0</td>\n",
       "      <td>3.8740</td>\n",
       "    </tr>\n",
       "    <tr>\n",
       "      <th>France</th>\n",
       "      <td>83546.0</td>\n",
       "      <td>3.3896</td>\n",
       "    </tr>\n",
       "    <tr>\n",
       "      <th>Russia</th>\n",
       "      <td>81517.0</td>\n",
       "      <td>3.3072</td>\n",
       "    </tr>\n",
       "    <tr>\n",
       "      <th>Germany</th>\n",
       "      <td>67883.0</td>\n",
       "      <td>2.7541</td>\n",
       "    </tr>\n",
       "    <tr>\n",
       "      <th>Spain</th>\n",
       "      <td>67101.0</td>\n",
       "      <td>2.7224</td>\n",
       "    </tr>\n",
       "  </tbody>\n",
       "</table>\n",
       "</div>"
      ],
      "text/plain": [
       "                     395  RatioByTotal_in_%\n",
       "US              497648.0            20.1902\n",
       "Brazil          245977.0             9.9796\n",
       "Mexico          179797.0             7.2946\n",
       "India           156302.0             6.3414\n",
       "United Kingdom  120593.0             4.8926\n",
       "Italy            95486.0             3.8740\n",
       "France           83546.0             3.3896\n",
       "Russia           81517.0             3.3072\n",
       "Germany          67883.0             2.7541\n",
       "Spain            67101.0             2.7224"
      ]
     },
     "execution_count": 5,
     "metadata": {},
     "output_type": "execute_result"
    },
    {
     "data": {
      "image/png": "[encoded data removed]",
      "text/plain": [
       "<Figure size 1440x432 with 1 Axes>"
      ]
     },
     "metadata": {
      "needs_background": "light"
     },
     "output_type": "display_data"
    }
   ],
   "source": [
    "top10fatal[lastday].plot.bar(color='red')\n",
    "plt.title('Top 10 countries with total HIGHEST fatalities until last day %i' %lastday)\n",
    "plt.xticks(rotation=0)\n",
    "print(\"Total Fatalities: \", totalFatal)\n",
    "print(\"Total percentage of 10 countries: %6.2f %%\" % sum(top10fatal['RatioByTotal_in_%'].values))\n",
    "for idx in range(10):\n",
    "    plt.text(idx, top10fatal[lastday][idx], str(top10fatal['RatioByTotal_in_%'][idx])+'%', horizontalalignment='center', fontweight='bold')\n",
    "top10fatal"
   ]
  },
  {
   "cell_type": "markdown",
   "metadata": {},
   "source": [
    "### TOP 10 (highest sorted) countries with TOTAL RECOVERED"
   ]
  },
  {
   "cell_type": "code",
   "execution_count": 6,
   "metadata": {},
   "outputs": [
    {
     "name": "stdout",
     "output_type": "stream",
     "text": [
      "Total Recovered:  74922165.0\n",
      "Total percentage of 10 countries:  64.09 %\n"
     ]
    },
    {
     "data": {
      "text/html": [
       "<div>\n",
       "<style scoped>\n",
       "    .dataframe tbody tr th:only-of-type {\n",
       "        vertical-align: middle;\n",
       "    }\n",
       "\n",
       "    .dataframe tbody tr th {\n",
       "        vertical-align: top;\n",
       "    }\n",
       "\n",
       "    .dataframe thead th {\n",
       "        text-align: right;\n",
       "    }\n",
       "</style>\n",
       "<table border=\"1\" class=\"dataframe\">\n",
       "  <thead>\n",
       "    <tr style=\"text-align: right;\">\n",
       "      <th></th>\n",
       "      <th>395</th>\n",
       "      <th>RatioByTotal_in_%</th>\n",
       "    </tr>\n",
       "  </thead>\n",
       "  <tbody>\n",
       "    <tr>\n",
       "      <th>US</th>\n",
       "      <td>12004063.0</td>\n",
       "      <td>16.0220</td>\n",
       "    </tr>\n",
       "    <tr>\n",
       "      <th>India</th>\n",
       "      <td>10689715.0</td>\n",
       "      <td>14.2678</td>\n",
       "    </tr>\n",
       "    <tr>\n",
       "      <th>Brazil</th>\n",
       "      <td>9070505.0</td>\n",
       "      <td>12.1066</td>\n",
       "    </tr>\n",
       "    <tr>\n",
       "      <th>Russia</th>\n",
       "      <td>3656314.0</td>\n",
       "      <td>4.8801</td>\n",
       "    </tr>\n",
       "    <tr>\n",
       "      <th>Turkey</th>\n",
       "      <td>2518758.0</td>\n",
       "      <td>3.3618</td>\n",
       "    </tr>\n",
       "    <tr>\n",
       "      <th>Italy</th>\n",
       "      <td>2315687.0</td>\n",
       "      <td>3.0908</td>\n",
       "    </tr>\n",
       "    <tr>\n",
       "      <th>Germany</th>\n",
       "      <td>2197065.0</td>\n",
       "      <td>2.9325</td>\n",
       "    </tr>\n",
       "    <tr>\n",
       "      <th>Colombia</th>\n",
       "      <td>2115470.0</td>\n",
       "      <td>2.8236</td>\n",
       "    </tr>\n",
       "    <tr>\n",
       "      <th>Argentina</th>\n",
       "      <td>1861433.0</td>\n",
       "      <td>2.4845</td>\n",
       "    </tr>\n",
       "    <tr>\n",
       "      <th>Mexico</th>\n",
       "      <td>1590696.0</td>\n",
       "      <td>2.1231</td>\n",
       "    </tr>\n",
       "  </tbody>\n",
       "</table>\n",
       "</div>"
      ],
      "text/plain": [
       "                  395  RatioByTotal_in_%\n",
       "US         12004063.0            16.0220\n",
       "India      10689715.0            14.2678\n",
       "Brazil      9070505.0            12.1066\n",
       "Russia      3656314.0             4.8801\n",
       "Turkey      2518758.0             3.3618\n",
       "Italy       2315687.0             3.0908\n",
       "Germany     2197065.0             2.9325\n",
       "Colombia    2115470.0             2.8236\n",
       "Argentina   1861433.0             2.4845\n",
       "Mexico      1590696.0             2.1231"
      ]
     },
     "execution_count": 6,
     "metadata": {},
     "output_type": "execute_result"
    },
    {
     "data": {
      "image/png": "[encoded data removed]",
      "text/plain": [
       "<Figure size 1440x432 with 1 Axes>"
      ]
     },
     "metadata": {
      "needs_background": "light"
     },
     "output_type": "display_data"
    }
   ],
   "source": [
    "top10recovered[lastday].plot.bar(color='green')\n",
    "plt.title('Top 10 countries with total HIGHEST recovered until last day %i' %lastday)\n",
    "plt.xticks(rotation=0)\n",
    "print(\"Total Recovered: \", totalRecovered)\n",
    "print(\"Total percentage of 10 countries: %6.2f %%\" % sum(top10recovered['RatioByTotal_in_%'].values))\n",
    "for idx in range(10):\n",
    "    plt.text(idx, top10recovered[lastday][idx], str(top10recovered['RatioByTotal_in_%'][idx])+'%', horizontalalignment='center', fontweight='bold')\n",
    "top10recovered"
   ]
  },
  {
   "cell_type": "markdown",
   "metadata": {},
   "source": [
    "### TOP 10 countries with the lowest/ highest ratio TOTAL cases (CONFIRMED) over country population and (FATALITIES, RECOVERED) over CONFIRMED"
   ]
  },
  {
   "cell_type": "code",
   "execution_count": 7,
   "metadata": {},
   "outputs": [
    {
     "data": {
      "text/html": [
       "<div>\n",
       "<style scoped>\n",
       "    .dataframe tbody tr th:only-of-type {\n",
       "        vertical-align: middle;\n",
       "    }\n",
       "\n",
       "    .dataframe tbody tr th {\n",
       "        vertical-align: top;\n",
       "    }\n",
       "\n",
       "    .dataframe thead th {\n",
       "        text-align: right;\n",
       "    }\n",
       "</style>\n",
       "<table border=\"1\" class=\"dataframe\">\n",
       "  <thead>\n",
       "    <tr style=\"text-align: right;\">\n",
       "      <th></th>\n",
       "      <th>395</th>\n",
       "      <th>RatioConfirmedByPopulation_in_%</th>\n",
       "      <th>population</th>\n",
       "    </tr>\n",
       "  </thead>\n",
       "  <tbody>\n",
       "    <tr>\n",
       "      <th>Congo (Kinshasa)</th>\n",
       "      <td>0.0</td>\n",
       "      <td>0.0000</td>\n",
       "      <td>89561404.0</td>\n",
       "    </tr>\n",
       "    <tr>\n",
       "      <th>Congo (Brazzaville)</th>\n",
       "      <td>0.0</td>\n",
       "      <td>0.0000</td>\n",
       "      <td>5518092.0</td>\n",
       "    </tr>\n",
       "    <tr>\n",
       "      <th>Diamond Princess</th>\n",
       "      <td>712.0</td>\n",
       "      <td>0.0000</td>\n",
       "      <td>NaN</td>\n",
       "    </tr>\n",
       "    <tr>\n",
       "      <th>MS Zaandam</th>\n",
       "      <td>9.0</td>\n",
       "      <td>0.0000</td>\n",
       "      <td>NaN</td>\n",
       "    </tr>\n",
       "    <tr>\n",
       "      <th>Vanuatu</th>\n",
       "      <td>1.0</td>\n",
       "      <td>0.0003</td>\n",
       "      <td>292680.0</td>\n",
       "    </tr>\n",
       "    <tr>\n",
       "      <th>Laos</th>\n",
       "      <td>45.0</td>\n",
       "      <td>0.0006</td>\n",
       "      <td>7275556.0</td>\n",
       "    </tr>\n",
       "    <tr>\n",
       "      <th>Micronesia</th>\n",
       "      <td>1.0</td>\n",
       "      <td>0.0009</td>\n",
       "      <td>113815.0</td>\n",
       "    </tr>\n",
       "    <tr>\n",
       "      <th>Tanzania</th>\n",
       "      <td>509.0</td>\n",
       "      <td>0.0009</td>\n",
       "      <td>59734213.0</td>\n",
       "    </tr>\n",
       "    <tr>\n",
       "      <th>Samoa</th>\n",
       "      <td>3.0</td>\n",
       "      <td>0.0015</td>\n",
       "      <td>196130.0</td>\n",
       "    </tr>\n",
       "    <tr>\n",
       "      <th>Vietnam</th>\n",
       "      <td>2368.0</td>\n",
       "      <td>0.0024</td>\n",
       "      <td>97338583.0</td>\n",
       "    </tr>\n",
       "  </tbody>\n",
       "</table>\n",
       "</div>"
      ],
      "text/plain": [
       "                        395  RatioConfirmedByPopulation_in_%  population\n",
       "Congo (Kinshasa)        0.0                           0.0000  89561404.0\n",
       "Congo (Brazzaville)     0.0                           0.0000   5518092.0\n",
       "Diamond Princess      712.0                           0.0000         NaN\n",
       "MS Zaandam              9.0                           0.0000         NaN\n",
       "Vanuatu                 1.0                           0.0003    292680.0\n",
       "Laos                   45.0                           0.0006   7275556.0\n",
       "Micronesia              1.0                           0.0009    113815.0\n",
       "Tanzania              509.0                           0.0009  59734213.0\n",
       "Samoa                   3.0                           0.0015    196130.0\n",
       "Vietnam              2368.0                           0.0024  97338583.0"
      ]
     },
     "execution_count": 7,
     "metadata": {},
     "output_type": "execute_result"
    },
    {
     "data": {
      "image/png": "[encoded data removed]",
      "text/plain": [
       "<Figure size 1440x432 with 1 Axes>"
      ]
     },
     "metadata": {
      "needs_background": "light"
     },
     "output_type": "display_data"
    }
   ],
   "source": [
    "top10confirmed_lowest.sort_values(by=['RatioConfirmedByPopulation_in_%']).head(10)['RatioConfirmedByPopulation_in_%'].plot.bar(color='orange')\n",
    "plt.xticks(rotation=0)\n",
    "plt.title(\"Top 10 countries/ locations with LOWEST ratio Total cases over country population on Day \"+str(lastday))\n",
    "top10confirmed_lowest.sort_values(by=['RatioConfirmedByPopulation_in_%']).head(10)"
   ]
  },
  {
   "cell_type": "code",
   "execution_count": 8,
   "metadata": {},
   "outputs": [
    {
     "data": {
      "text/html": [
       "<div>\n",
       "<style scoped>\n",
       "    .dataframe tbody tr th:only-of-type {\n",
       "        vertical-align: middle;\n",
       "    }\n",
       "\n",
       "    .dataframe tbody tr th {\n",
       "        vertical-align: top;\n",
       "    }\n",
       "\n",
       "    .dataframe thead th {\n",
       "        text-align: right;\n",
       "    }\n",
       "</style>\n",
       "<table border=\"1\" class=\"dataframe\">\n",
       "  <thead>\n",
       "    <tr style=\"text-align: right;\">\n",
       "      <th></th>\n",
       "      <th>395</th>\n",
       "      <th>RatioConfirmedByPopulation_in_%</th>\n",
       "      <th>population</th>\n",
       "    </tr>\n",
       "  </thead>\n",
       "  <tbody>\n",
       "    <tr>\n",
       "      <th>Portugal</th>\n",
       "      <td>796339.0</td>\n",
       "      <td>7.8098</td>\n",
       "      <td>10196707.0</td>\n",
       "    </tr>\n",
       "    <tr>\n",
       "      <th>US</th>\n",
       "      <td>28077620.0</td>\n",
       "      <td>8.5222</td>\n",
       "      <td>329466283.0</td>\n",
       "    </tr>\n",
       "    <tr>\n",
       "      <th>Luxembourg</th>\n",
       "      <td>53782.0</td>\n",
       "      <td>8.5917</td>\n",
       "      <td>625976.0</td>\n",
       "    </tr>\n",
       "    <tr>\n",
       "      <th>Israel</th>\n",
       "      <td>744513.0</td>\n",
       "      <td>8.6016</td>\n",
       "      <td>8655541.0</td>\n",
       "    </tr>\n",
       "    <tr>\n",
       "      <th>Slovenia</th>\n",
       "      <td>184352.0</td>\n",
       "      <td>8.8676</td>\n",
       "      <td>2078932.0</td>\n",
       "    </tr>\n",
       "    <tr>\n",
       "      <th>San Marino</th>\n",
       "      <td>3472.0</td>\n",
       "      <td>10.2304</td>\n",
       "      <td>33938.0</td>\n",
       "    </tr>\n",
       "    <tr>\n",
       "      <th>Czechia</th>\n",
       "      <td>1146321.0</td>\n",
       "      <td>10.7043</td>\n",
       "      <td>10708982.0</td>\n",
       "    </tr>\n",
       "    <tr>\n",
       "      <th>Montenegro</th>\n",
       "      <td>71593.0</td>\n",
       "      <td>11.3990</td>\n",
       "      <td>628062.0</td>\n",
       "    </tr>\n",
       "    <tr>\n",
       "      <th>Andorra</th>\n",
       "      <td>10672.0</td>\n",
       "      <td>13.8122</td>\n",
       "      <td>77265.0</td>\n",
       "    </tr>\n",
       "    <tr>\n",
       "      <th>Dominica</th>\n",
       "      <td>234636.0</td>\n",
       "      <td>325.9241</td>\n",
       "      <td>71991.0</td>\n",
       "    </tr>\n",
       "  </tbody>\n",
       "</table>\n",
       "</div>"
      ],
      "text/plain": [
       "                   395  RatioConfirmedByPopulation_in_%   population\n",
       "Portugal      796339.0                           7.8098   10196707.0\n",
       "US          28077620.0                           8.5222  329466283.0\n",
       "Luxembourg     53782.0                           8.5917     625976.0\n",
       "Israel        744513.0                           8.6016    8655541.0\n",
       "Slovenia      184352.0                           8.8676    2078932.0\n",
       "San Marino      3472.0                          10.2304      33938.0\n",
       "Czechia      1146321.0                          10.7043   10708982.0\n",
       "Montenegro     71593.0                          11.3990     628062.0\n",
       "Andorra        10672.0                          13.8122      77265.0\n",
       "Dominica      234636.0                         325.9241      71991.0"
      ]
     },
     "execution_count": 8,
     "metadata": {},
     "output_type": "execute_result"
    },
    {
     "data": {
      "image/png": "[encoded data removed]",
      "text/plain": [
       "<Figure size 1440x432 with 1 Axes>"
      ]
     },
     "metadata": {
      "needs_background": "light"
     },
     "output_type": "display_data"
    }
   ],
   "source": [
    "top10confirmed_lowest.sort_values(by=['RatioConfirmedByPopulation_in_%']).tail(10)['RatioConfirmedByPopulation_in_%'].plot.bar(color='orange')\n",
    "plt.xticks(rotation=0)\n",
    "plt.title(\"Top 10 countries/ locations with HIGHEST ratio Total cases over country population on Day \"+str(lastday))\n",
    "top10confirmed_lowest.sort_values(by=['RatioConfirmedByPopulation_in_%']).tail(10)"
   ]
  },
  {
   "cell_type": "code",
   "execution_count": 9,
   "metadata": {},
   "outputs": [
    {
     "data": {
      "text/html": [
       "<div>\n",
       "<style scoped>\n",
       "    .dataframe tbody tr th:only-of-type {\n",
       "        vertical-align: middle;\n",
       "    }\n",
       "\n",
       "    .dataframe tbody tr th {\n",
       "        vertical-align: top;\n",
       "    }\n",
       "\n",
       "    .dataframe thead th {\n",
       "        text-align: right;\n",
       "    }\n",
       "</style>\n",
       "<table border=\"1\" class=\"dataframe\">\n",
       "  <thead>\n",
       "    <tr style=\"text-align: right;\">\n",
       "      <th></th>\n",
       "      <th>395</th>\n",
       "      <th>RatioFatalByConfirmed_in_%</th>\n",
       "      <th>Confirmed</th>\n",
       "    </tr>\n",
       "  </thead>\n",
       "  <tbody>\n",
       "    <tr>\n",
       "      <th>Laos</th>\n",
       "      <td>0.0</td>\n",
       "      <td>0.0</td>\n",
       "      <td>45.0</td>\n",
       "    </tr>\n",
       "    <tr>\n",
       "      <th>Solomon Islands</th>\n",
       "      <td>0.0</td>\n",
       "      <td>0.0</td>\n",
       "      <td>18.0</td>\n",
       "    </tr>\n",
       "    <tr>\n",
       "      <th>Samoa</th>\n",
       "      <td>0.0</td>\n",
       "      <td>0.0</td>\n",
       "      <td>3.0</td>\n",
       "    </tr>\n",
       "    <tr>\n",
       "      <th>Congo (Brazzaville)</th>\n",
       "      <td>0.0</td>\n",
       "      <td>0.0</td>\n",
       "      <td>0.0</td>\n",
       "    </tr>\n",
       "    <tr>\n",
       "      <th>Saint Kitts and Nevis</th>\n",
       "      <td>0.0</td>\n",
       "      <td>0.0</td>\n",
       "      <td>41.0</td>\n",
       "    </tr>\n",
       "    <tr>\n",
       "      <th>Vanuatu</th>\n",
       "      <td>0.0</td>\n",
       "      <td>0.0</td>\n",
       "      <td>1.0</td>\n",
       "    </tr>\n",
       "    <tr>\n",
       "      <th>Congo (Kinshasa)</th>\n",
       "      <td>0.0</td>\n",
       "      <td>0.0</td>\n",
       "      <td>0.0</td>\n",
       "    </tr>\n",
       "    <tr>\n",
       "      <th>Cambodia</th>\n",
       "      <td>0.0</td>\n",
       "      <td>0.0</td>\n",
       "      <td>533.0</td>\n",
       "    </tr>\n",
       "    <tr>\n",
       "      <th>Micronesia</th>\n",
       "      <td>0.0</td>\n",
       "      <td>0.0</td>\n",
       "      <td>1.0</td>\n",
       "    </tr>\n",
       "    <tr>\n",
       "      <th>Timor-Leste</th>\n",
       "      <td>0.0</td>\n",
       "      <td>0.0</td>\n",
       "      <td>103.0</td>\n",
       "    </tr>\n",
       "  </tbody>\n",
       "</table>\n",
       "</div>"
      ],
      "text/plain": [
       "                       395  RatioFatalByConfirmed_in_%  Confirmed\n",
       "Laos                   0.0                         0.0       45.0\n",
       "Solomon Islands        0.0                         0.0       18.0\n",
       "Samoa                  0.0                         0.0        3.0\n",
       "Congo (Brazzaville)    0.0                         0.0        0.0\n",
       "Saint Kitts and Nevis  0.0                         0.0       41.0\n",
       "Vanuatu                0.0                         0.0        1.0\n",
       "Congo (Kinshasa)       0.0                         0.0        0.0\n",
       "Cambodia               0.0                         0.0      533.0\n",
       "Micronesia             0.0                         0.0        1.0\n",
       "Timor-Leste            0.0                         0.0      103.0"
      ]
     },
     "execution_count": 9,
     "metadata": {},
     "output_type": "execute_result"
    },
    {
     "data": {
      "image/png": "[encoded data removed]",
      "text/plain": [
       "<Figure size 1440x432 with 1 Axes>"
      ]
     },
     "metadata": {
      "needs_background": "light"
     },
     "output_type": "display_data"
    }
   ],
   "source": [
    "top10fatal_lowest.sort_values(by=['RatioFatalByConfirmed_in_%']).head(10)['RatioFatalByConfirmed_in_%'].plot.bar(color='red')\n",
    "plt.xticks(rotation=45)\n",
    "plt.title(\"Top 10 countries/ locations with LOWEST ratio Total fatalities over Confirmed case on Day \"+str(lastday))\n",
    "\n",
    "top10fatal_lowest.sort_values(by=['RatioFatalByConfirmed_in_%']).head(10)"
   ]
  },
  {
   "cell_type": "code",
   "execution_count": 10,
   "metadata": {},
   "outputs": [
    {
     "data": {
      "text/html": [
       "<div>\n",
       "<style scoped>\n",
       "    .dataframe tbody tr th:only-of-type {\n",
       "        vertical-align: middle;\n",
       "    }\n",
       "\n",
       "    .dataframe tbody tr th {\n",
       "        vertical-align: top;\n",
       "    }\n",
       "\n",
       "    .dataframe thead th {\n",
       "        text-align: right;\n",
       "    }\n",
       "</style>\n",
       "<table border=\"1\" class=\"dataframe\">\n",
       "  <thead>\n",
       "    <tr style=\"text-align: right;\">\n",
       "      <th></th>\n",
       "      <th>395</th>\n",
       "      <th>RatioFatalByConfirmed_in_%</th>\n",
       "      <th>Confirmed</th>\n",
       "    </tr>\n",
       "  </thead>\n",
       "  <tbody>\n",
       "    <tr>\n",
       "      <th>Afghanistan</th>\n",
       "      <td>2430.0</td>\n",
       "      <td>4.3721</td>\n",
       "      <td>55580.0</td>\n",
       "    </tr>\n",
       "    <tr>\n",
       "      <th>Bolivia</th>\n",
       "      <td>11417.0</td>\n",
       "      <td>4.7222</td>\n",
       "      <td>241771.0</td>\n",
       "    </tr>\n",
       "    <tr>\n",
       "      <th>China</th>\n",
       "      <td>4833.0</td>\n",
       "      <td>4.7981</td>\n",
       "      <td>100727.0</td>\n",
       "    </tr>\n",
       "    <tr>\n",
       "      <th>Sudan</th>\n",
       "      <td>1949.0</td>\n",
       "      <td>5.3332</td>\n",
       "      <td>36545.0</td>\n",
       "    </tr>\n",
       "    <tr>\n",
       "      <th>Ecuador</th>\n",
       "      <td>15513.0</td>\n",
       "      <td>5.6804</td>\n",
       "      <td>273097.0</td>\n",
       "    </tr>\n",
       "    <tr>\n",
       "      <th>Egypt</th>\n",
       "      <td>10298.0</td>\n",
       "      <td>5.8003</td>\n",
       "      <td>177543.0</td>\n",
       "    </tr>\n",
       "    <tr>\n",
       "      <th>Syria</th>\n",
       "      <td>996.0</td>\n",
       "      <td>6.5773</td>\n",
       "      <td>15143.0</td>\n",
       "    </tr>\n",
       "    <tr>\n",
       "      <th>Mexico</th>\n",
       "      <td>179797.0</td>\n",
       "      <td>8.8210</td>\n",
       "      <td>2038276.0</td>\n",
       "    </tr>\n",
       "    <tr>\n",
       "      <th>MS Zaandam</th>\n",
       "      <td>2.0</td>\n",
       "      <td>22.2222</td>\n",
       "      <td>9.0</td>\n",
       "    </tr>\n",
       "    <tr>\n",
       "      <th>Yemen</th>\n",
       "      <td>618.0</td>\n",
       "      <td>28.6509</td>\n",
       "      <td>2157.0</td>\n",
       "    </tr>\n",
       "  </tbody>\n",
       "</table>\n",
       "</div>"
      ],
      "text/plain": [
       "                  395  RatioFatalByConfirmed_in_%  Confirmed\n",
       "Afghanistan    2430.0                      4.3721    55580.0\n",
       "Bolivia       11417.0                      4.7222   241771.0\n",
       "China          4833.0                      4.7981   100727.0\n",
       "Sudan          1949.0                      5.3332    36545.0\n",
       "Ecuador       15513.0                      5.6804   273097.0\n",
       "Egypt         10298.0                      5.8003   177543.0\n",
       "Syria           996.0                      6.5773    15143.0\n",
       "Mexico       179797.0                      8.8210  2038276.0\n",
       "MS Zaandam        2.0                     22.2222        9.0\n",
       "Yemen           618.0                     28.6509     2157.0"
      ]
     },
     "execution_count": 10,
     "metadata": {},
     "output_type": "execute_result"
    },
    {
     "data": {
      "image/png": "[encoded data removed]",
      "text/plain": [
       "<Figure size 1440x432 with 1 Axes>"
      ]
     },
     "metadata": {
      "needs_background": "light"
     },
     "output_type": "display_data"
    }
   ],
   "source": [
    "top10fatal_lowest.sort_values(by=['RatioFatalByConfirmed_in_%']).tail(10)['RatioFatalByConfirmed_in_%'].plot.bar(color='red')\n",
    "plt.xticks(rotation=0)\n",
    "plt.title(\"Top 10 countries/ locations with HIGHEST ratio Total fatalities over Confirmed case on Day \"+str(lastday))\n",
    "\n",
    "top10fatal_lowest.sort_values(by=['RatioFatalByConfirmed_in_%']).tail(10)"
   ]
  },
  {
   "cell_type": "code",
   "execution_count": 11,
   "metadata": {},
   "outputs": [
    {
     "data": {
      "text/html": [
       "<div>\n",
       "<style scoped>\n",
       "    .dataframe tbody tr th:only-of-type {\n",
       "        vertical-align: middle;\n",
       "    }\n",
       "\n",
       "    .dataframe tbody tr th {\n",
       "        vertical-align: top;\n",
       "    }\n",
       "\n",
       "    .dataframe thead th {\n",
       "        text-align: right;\n",
       "    }\n",
       "</style>\n",
       "<table border=\"1\" class=\"dataframe\">\n",
       "  <thead>\n",
       "    <tr style=\"text-align: right;\">\n",
       "      <th></th>\n",
       "      <th>395</th>\n",
       "      <th>RatioRecoveredByConfirmed_in_%</th>\n",
       "      <th>Confirmed</th>\n",
       "    </tr>\n",
       "  </thead>\n",
       "  <tbody>\n",
       "    <tr>\n",
       "      <th>Congo (Brazzaville)</th>\n",
       "      <td>0.0</td>\n",
       "      <td>0.0000</td>\n",
       "      <td>0.0</td>\n",
       "    </tr>\n",
       "    <tr>\n",
       "      <th>Serbia</th>\n",
       "      <td>0.0</td>\n",
       "      <td>0.0000</td>\n",
       "      <td>434122.0</td>\n",
       "    </tr>\n",
       "    <tr>\n",
       "      <th>Sweden</th>\n",
       "      <td>0.0</td>\n",
       "      <td>0.0000</td>\n",
       "      <td>631166.0</td>\n",
       "    </tr>\n",
       "    <tr>\n",
       "      <th>Congo (Kinshasa)</th>\n",
       "      <td>0.0</td>\n",
       "      <td>0.0000</td>\n",
       "      <td>0.0</td>\n",
       "    </tr>\n",
       "    <tr>\n",
       "      <th>Belgium</th>\n",
       "      <td>0.0</td>\n",
       "      <td>0.0000</td>\n",
       "      <td>752379.0</td>\n",
       "    </tr>\n",
       "    <tr>\n",
       "      <th>United Kingdom</th>\n",
       "      <td>11293.0</td>\n",
       "      <td>0.2743</td>\n",
       "      <td>4117739.0</td>\n",
       "    </tr>\n",
       "    <tr>\n",
       "      <th>Netherlands</th>\n",
       "      <td>14029.0</td>\n",
       "      <td>1.3154</td>\n",
       "      <td>1066522.0</td>\n",
       "    </tr>\n",
       "    <tr>\n",
       "      <th>Spain</th>\n",
       "      <td>150376.0</td>\n",
       "      <td>4.7996</td>\n",
       "      <td>3133122.0</td>\n",
       "    </tr>\n",
       "    <tr>\n",
       "      <th>Cyprus</th>\n",
       "      <td>2057.0</td>\n",
       "      <td>6.2046</td>\n",
       "      <td>33153.0</td>\n",
       "    </tr>\n",
       "    <tr>\n",
       "      <th>France</th>\n",
       "      <td>253337.0</td>\n",
       "      <td>7.0428</td>\n",
       "      <td>3597113.0</td>\n",
       "    </tr>\n",
       "  </tbody>\n",
       "</table>\n",
       "</div>"
      ],
      "text/plain": [
       "                          395  RatioRecoveredByConfirmed_in_%  Confirmed\n",
       "Congo (Brazzaville)       0.0                          0.0000        0.0\n",
       "Serbia                    0.0                          0.0000   434122.0\n",
       "Sweden                    0.0                          0.0000   631166.0\n",
       "Congo (Kinshasa)          0.0                          0.0000        0.0\n",
       "Belgium                   0.0                          0.0000   752379.0\n",
       "United Kingdom        11293.0                          0.2743  4117739.0\n",
       "Netherlands           14029.0                          1.3154  1066522.0\n",
       "Spain                150376.0                          4.7996  3133122.0\n",
       "Cyprus                 2057.0                          6.2046    33153.0\n",
       "France               253337.0                          7.0428  3597113.0"
      ]
     },
     "execution_count": 11,
     "metadata": {},
     "output_type": "execute_result"
    },
    {
     "data": {
      "image/png": "[encoded data removed]",
      "text/plain": [
       "<Figure size 1440x432 with 1 Axes>"
      ]
     },
     "metadata": {
      "needs_background": "light"
     },
     "output_type": "display_data"
    }
   ],
   "source": [
    "top10recovered_lowest.sort_values(by=['RatioRecoveredByConfirmed_in_%']).head(10)['RatioRecoveredByConfirmed_in_%'].plot.bar(color='green')\n",
    "plt.xticks(rotation=0)\n",
    "plt.title(\"Top 10 countries/ locations with LOWEST ratio Total recovered over Confirmed case on Day \"+str(lastday))\n",
    "\n",
    "top10recovered_lowest.sort_values(by=['RatioRecoveredByConfirmed_in_%']).head(10)"
   ]
  },
  {
   "cell_type": "code",
   "execution_count": 12,
   "metadata": {},
   "outputs": [
    {
     "data": {
      "text/html": [
       "<div>\n",
       "<style scoped>\n",
       "    .dataframe tbody tr th:only-of-type {\n",
       "        vertical-align: middle;\n",
       "    }\n",
       "\n",
       "    .dataframe tbody tr th {\n",
       "        vertical-align: top;\n",
       "    }\n",
       "\n",
       "    .dataframe thead th {\n",
       "        text-align: right;\n",
       "    }\n",
       "</style>\n",
       "<table border=\"1\" class=\"dataframe\">\n",
       "  <thead>\n",
       "    <tr style=\"text-align: right;\">\n",
       "      <th></th>\n",
       "      <th>395</th>\n",
       "      <th>RatioRecoveredByConfirmed_in_%</th>\n",
       "      <th>Confirmed</th>\n",
       "    </tr>\n",
       "  </thead>\n",
       "  <tbody>\n",
       "    <tr>\n",
       "      <th>Central African Republic</th>\n",
       "      <td>4920.0</td>\n",
       "      <td>98.3803</td>\n",
       "      <td>5001.0</td>\n",
       "    </tr>\n",
       "    <tr>\n",
       "      <th>Grenada</th>\n",
       "      <td>146.0</td>\n",
       "      <td>98.6486</td>\n",
       "      <td>148.0</td>\n",
       "    </tr>\n",
       "    <tr>\n",
       "      <th>Nepal</th>\n",
       "      <td>269755.0</td>\n",
       "      <td>98.6845</td>\n",
       "      <td>273351.0</td>\n",
       "    </tr>\n",
       "    <tr>\n",
       "      <th>Bhutan</th>\n",
       "      <td>857.0</td>\n",
       "      <td>98.9607</td>\n",
       "      <td>866.0</td>\n",
       "    </tr>\n",
       "    <tr>\n",
       "      <th>Iceland</th>\n",
       "      <td>5989.0</td>\n",
       "      <td>99.0736</td>\n",
       "      <td>6045.0</td>\n",
       "    </tr>\n",
       "    <tr>\n",
       "      <th>Tajikistan</th>\n",
       "      <td>13218.0</td>\n",
       "      <td>99.3237</td>\n",
       "      <td>13308.0</td>\n",
       "    </tr>\n",
       "    <tr>\n",
       "      <th>Singapore</th>\n",
       "      <td>59719.0</td>\n",
       "      <td>99.7678</td>\n",
       "      <td>59858.0</td>\n",
       "    </tr>\n",
       "    <tr>\n",
       "      <th>Vanuatu</th>\n",
       "      <td>1.0</td>\n",
       "      <td>100.0000</td>\n",
       "      <td>1.0</td>\n",
       "    </tr>\n",
       "    <tr>\n",
       "      <th>Micronesia</th>\n",
       "      <td>1.0</td>\n",
       "      <td>100.0000</td>\n",
       "      <td>1.0</td>\n",
       "    </tr>\n",
       "    <tr>\n",
       "      <th>Marshall Islands</th>\n",
       "      <td>4.0</td>\n",
       "      <td>100.0000</td>\n",
       "      <td>4.0</td>\n",
       "    </tr>\n",
       "  </tbody>\n",
       "</table>\n",
       "</div>"
      ],
      "text/plain": [
       "                               395  RatioRecoveredByConfirmed_in_%  Confirmed\n",
       "Central African Republic    4920.0                         98.3803     5001.0\n",
       "Grenada                      146.0                         98.6486      148.0\n",
       "Nepal                     269755.0                         98.6845   273351.0\n",
       "Bhutan                       857.0                         98.9607      866.0\n",
       "Iceland                     5989.0                         99.0736     6045.0\n",
       "Tajikistan                 13218.0                         99.3237    13308.0\n",
       "Singapore                  59719.0                         99.7678    59858.0\n",
       "Vanuatu                        1.0                        100.0000        1.0\n",
       "Micronesia                     1.0                        100.0000        1.0\n",
       "Marshall Islands               4.0                        100.0000        4.0"
      ]
     },
     "execution_count": 12,
     "metadata": {},
     "output_type": "execute_result"
    },
    {
     "data": {
      "image/png": "[encoded data removed]",
      "text/plain": [
       "<Figure size 1440x432 with 1 Axes>"
      ]
     },
     "metadata": {
      "needs_background": "light"
     },
     "output_type": "display_data"
    }
   ],
   "source": [
    "top10recovered_lowest.sort_values(by=['RatioRecoveredByConfirmed_in_%']).tail(10)['RatioRecoveredByConfirmed_in_%'].plot.bar(color='green')\n",
    "plt.xticks(rotation=0)\n",
    "plt.title(\"Top 10 countries/ locations with HIGHEST ratio Total recovered over Confirmed case on Day \"+str(lastday))\n",
    "\n",
    "top10recovered_lowest.sort_values(by=['RatioRecoveredByConfirmed_in_%']).tail(10)"
   ]
  }
 ],
 "metadata": {
  "kernelspec": {
   "display_name": "aic",
   "language": "python",
   "name": "aic"
  },
  "language_info": {
   "codemirror_mode": {
    "name": "ipython",
    "version": 3
   },
   "file_extension": ".py",
   "mimetype": "text/x-python",
   "name": "python",
   "nbconvert_exporter": "python",
   "pygments_lexer": "ipython3",
   "version": "3.7.8"
  }
 },
 "nbformat": 4,
 "nbformat_minor": 4
}
