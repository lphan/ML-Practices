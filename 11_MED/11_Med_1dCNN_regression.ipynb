{
 "cells": [
  {
   "cell_type": "markdown",
   "metadata": {},
   "source": [
    "### Analyse digital signal using 1D CNN"
   ]
  },
  {
   "cell_type": "code",
   "execution_count": 1,
   "metadata": {},
   "outputs": [
    {
     "name": "stdout",
     "output_type": "stream",
     "text": [
      "local_kwargs {'data_path': './data/digital_signal.csv', 'drop_obj_col': False, 'nan_drop_col': False, 'nan_drop_row': False, 'nan_zero': False, 'nan_mean': True, 'nan_mean_neighbors': False}\n"
     ]
    },
    {
     "name": "stderr",
     "output_type": "stream",
     "text": [
      "Using TensorFlow backend.\n"
     ]
    },
    {
     "data": {
      "text/html": [
       "<div>\n",
       "<style>\n",
       "    .dataframe thead tr:only-child th {\n",
       "        text-align: right;\n",
       "    }\n",
       "\n",
       "    .dataframe thead th {\n",
       "        text-align: left;\n",
       "    }\n",
       "\n",
       "    .dataframe tbody tr th {\n",
       "        vertical-align: top;\n",
       "    }\n",
       "</style>\n",
       "<table border=\"1\" class=\"dataframe\">\n",
       "  <thead>\n",
       "    <tr style=\"text-align: right;\">\n",
       "      <th></th>\n",
       "      <th>0</th>\n",
       "      <th>1</th>\n",
       "      <th>2</th>\n",
       "      <th>3</th>\n",
       "      <th>4</th>\n",
       "      <th>5</th>\n",
       "      <th>6</th>\n",
       "      <th>7</th>\n",
       "      <th>8</th>\n",
       "      <th>9</th>\n",
       "      <th>...</th>\n",
       "      <th>993</th>\n",
       "      <th>994</th>\n",
       "      <th>995</th>\n",
       "      <th>996</th>\n",
       "      <th>997</th>\n",
       "      <th>998</th>\n",
       "      <th>999</th>\n",
       "      <th>1000</th>\n",
       "      <th>1001</th>\n",
       "      <th>1002</th>\n",
       "    </tr>\n",
       "  </thead>\n",
       "  <tbody>\n",
       "    <tr>\n",
       "      <th>0</th>\n",
       "      <td>1.15</td>\n",
       "      <td>1.76</td>\n",
       "      <td>3.30</td>\n",
       "      <td>0.053353</td>\n",
       "      <td>0.052205</td>\n",
       "      <td>0.055634</td>\n",
       "      <td>0.067048</td>\n",
       "      <td>0.086576</td>\n",
       "      <td>0.111853</td>\n",
       "      <td>0.140554</td>\n",
       "      <td>...</td>\n",
       "      <td>0.306864</td>\n",
       "      <td>0.315905</td>\n",
       "      <td>0.325406</td>\n",
       "      <td>0.335135</td>\n",
       "      <td>0.344773</td>\n",
       "      <td>0.353994</td>\n",
       "      <td>0.362396</td>\n",
       "      <td>0.369342</td>\n",
       "      <td>0.373981</td>\n",
       "      <td>0.375535</td>\n",
       "    </tr>\n",
       "    <tr>\n",
       "      <th>1</th>\n",
       "      <td>1.17</td>\n",
       "      <td>1.74</td>\n",
       "      <td>3.40</td>\n",
       "      <td>0.453297</td>\n",
       "      <td>0.427421</td>\n",
       "      <td>0.394495</td>\n",
       "      <td>0.362371</td>\n",
       "      <td>0.334807</td>\n",
       "      <td>0.311793</td>\n",
       "      <td>0.292468</td>\n",
       "      <td>...</td>\n",
       "      <td>-0.041243</td>\n",
       "      <td>-0.046814</td>\n",
       "      <td>-0.051548</td>\n",
       "      <td>-0.055335</td>\n",
       "      <td>-0.058006</td>\n",
       "      <td>-0.059414</td>\n",
       "      <td>-0.059606</td>\n",
       "      <td>-0.058971</td>\n",
       "      <td>-0.058172</td>\n",
       "      <td>-0.057842</td>\n",
       "    </tr>\n",
       "    <tr>\n",
       "      <th>2</th>\n",
       "      <td>-1.00</td>\n",
       "      <td>1.83</td>\n",
       "      <td>2.65</td>\n",
       "      <td>-1.587962</td>\n",
       "      <td>-1.641788</td>\n",
       "      <td>-1.704360</td>\n",
       "      <td>-1.750264</td>\n",
       "      <td>-1.760649</td>\n",
       "      <td>-1.726626</td>\n",
       "      <td>-1.647636</td>\n",
       "      <td>...</td>\n",
       "      <td>0.551023</td>\n",
       "      <td>0.550246</td>\n",
       "      <td>0.548295</td>\n",
       "      <td>0.546575</td>\n",
       "      <td>0.545950</td>\n",
       "      <td>0.546594</td>\n",
       "      <td>0.548123</td>\n",
       "      <td>0.549880</td>\n",
       "      <td>0.551216</td>\n",
       "      <td>0.551684</td>\n",
       "    </tr>\n",
       "    <tr>\n",
       "      <th>3</th>\n",
       "      <td>1.13</td>\n",
       "      <td>1.80</td>\n",
       "      <td>3.42</td>\n",
       "      <td>0.045770</td>\n",
       "      <td>0.028587</td>\n",
       "      <td>0.012289</td>\n",
       "      <td>0.007296</td>\n",
       "      <td>0.019246</td>\n",
       "      <td>0.047922</td>\n",
       "      <td>0.089389</td>\n",
       "      <td>...</td>\n",
       "      <td>0.274071</td>\n",
       "      <td>0.271366</td>\n",
       "      <td>0.268214</td>\n",
       "      <td>0.264893</td>\n",
       "      <td>0.261571</td>\n",
       "      <td>0.258323</td>\n",
       "      <td>0.255252</td>\n",
       "      <td>0.252612</td>\n",
       "      <td>0.250798</td>\n",
       "      <td>0.250181</td>\n",
       "    </tr>\n",
       "    <tr>\n",
       "      <th>4</th>\n",
       "      <td>1.17</td>\n",
       "      <td>1.79</td>\n",
       "      <td>3.47</td>\n",
       "      <td>0.257473</td>\n",
       "      <td>0.247620</td>\n",
       "      <td>0.238914</td>\n",
       "      <td>0.237917</td>\n",
       "      <td>0.248194</td>\n",
       "      <td>0.269635</td>\n",
       "      <td>0.299925</td>\n",
       "      <td>...</td>\n",
       "      <td>0.610546</td>\n",
       "      <td>0.610244</td>\n",
       "      <td>0.609855</td>\n",
       "      <td>0.609638</td>\n",
       "      <td>0.609874</td>\n",
       "      <td>0.610760</td>\n",
       "      <td>0.612257</td>\n",
       "      <td>0.614007</td>\n",
       "      <td>0.615414</td>\n",
       "      <td>0.615925</td>\n",
       "    </tr>\n",
       "  </tbody>\n",
       "</table>\n",
       "<p>5 rows × 1003 columns</p>\n",
       "</div>"
      ],
      "text/plain": [
       "   0     1     2         3         4         5         6         7     \\\n",
       "0  1.15  1.76  3.30  0.053353  0.052205  0.055634  0.067048  0.086576   \n",
       "1  1.17  1.74  3.40  0.453297  0.427421  0.394495  0.362371  0.334807   \n",
       "2 -1.00  1.83  2.65 -1.587962 -1.641788 -1.704360 -1.750264 -1.760649   \n",
       "3  1.13  1.80  3.42  0.045770  0.028587  0.012289  0.007296  0.019246   \n",
       "4  1.17  1.79  3.47  0.257473  0.247620  0.238914  0.237917  0.248194   \n",
       "\n",
       "       8         9       ...         993       994       995       996   \\\n",
       "0  0.111853  0.140554    ...     0.306864  0.315905  0.325406  0.335135   \n",
       "1  0.311793  0.292468    ...    -0.041243 -0.046814 -0.051548 -0.055335   \n",
       "2 -1.726626 -1.647636    ...     0.551023  0.550246  0.548295  0.546575   \n",
       "3  0.047922  0.089389    ...     0.274071  0.271366  0.268214  0.264893   \n",
       "4  0.269635  0.299925    ...     0.610546  0.610244  0.609855  0.609638   \n",
       "\n",
       "       997       998       999       1000      1001      1002  \n",
       "0  0.344773  0.353994  0.362396  0.369342  0.373981  0.375535  \n",
       "1 -0.058006 -0.059414 -0.059606 -0.058971 -0.058172 -0.057842  \n",
       "2  0.545950  0.546594  0.548123  0.549880  0.551216  0.551684  \n",
       "3  0.261571  0.258323  0.255252  0.252612  0.250798  0.250181  \n",
       "4  0.609874  0.610760  0.612257  0.614007  0.615414  0.615925  \n",
       "\n",
       "[5 rows x 1003 columns]"
      ]
     },
     "execution_count": 1,
     "metadata": {},
     "output_type": "execute_result"
    }
   ],
   "source": [
    "# setup absolute path to location of package Starts and config-file \n",
    "from inspect import getsourcefile\n",
    "import os.path as path, sys\n",
    "current_dir = path.dirname(path.abspath(getsourcefile(lambda:0)))\n",
    "sys.path.insert(0, current_dir[:current_dir.rfind(path.sep)])\n",
    "\n",
    "from Starts.startml import *\n",
    "from Starts.startmodtf import *\n",
    "import matplotlib as plt\n",
    "%matplotlib inline\n",
    "\n",
    "from sklearn.preprocessing import MinMaxScaler\n",
    "from keras.models import Sequential\n",
    "from keras.layers import Dense, Flatten, Conv1D, Dropout\n",
    "from keras.optimizers import SGD\n",
    "from keras.initializers import random_uniform\n",
    "\n",
    "data = pd.read_csv('./data/digital_signal.csv', header=None)\n",
    "data.head()"
   ]
  },
  {
   "cell_type": "code",
   "execution_count": 2,
   "metadata": {},
   "outputs": [
    {
     "name": "stderr",
     "output_type": "stream",
     "text": [
      "/usr/lib/python3.6/site-packages/ipykernel_launcher.py:2: SettingWithCopyWarning: \n",
      "A value is trying to be set on a copy of a slice from a DataFrame\n",
      "\n",
      "See the caveats in the documentation: http://pandas.pydata.org/pandas-docs/stable/indexing.html#indexing-view-versus-copy\n",
      "  \n"
     ]
    },
    {
     "data": {
      "text/html": [
       "<div>\n",
       "<style>\n",
       "    .dataframe thead tr:only-child th {\n",
       "        text-align: right;\n",
       "    }\n",
       "\n",
       "    .dataframe thead th {\n",
       "        text-align: left;\n",
       "    }\n",
       "\n",
       "    .dataframe tbody tr th {\n",
       "        vertical-align: top;\n",
       "    }\n",
       "</style>\n",
       "<table border=\"1\" class=\"dataframe\">\n",
       "  <thead>\n",
       "    <tr style=\"text-align: right;\">\n",
       "      <th></th>\n",
       "      <th>0</th>\n",
       "      <th>1</th>\n",
       "      <th>2</th>\n",
       "    </tr>\n",
       "  </thead>\n",
       "  <tbody>\n",
       "    <tr>\n",
       "      <th>0</th>\n",
       "      <td>1.15</td>\n",
       "      <td>1.76</td>\n",
       "      <td>3.30</td>\n",
       "    </tr>\n",
       "    <tr>\n",
       "      <th>1</th>\n",
       "      <td>1.17</td>\n",
       "      <td>1.74</td>\n",
       "      <td>3.40</td>\n",
       "    </tr>\n",
       "    <tr>\n",
       "      <th>2</th>\n",
       "      <td>0.00</td>\n",
       "      <td>1.83</td>\n",
       "      <td>2.65</td>\n",
       "    </tr>\n",
       "    <tr>\n",
       "      <th>3</th>\n",
       "      <td>1.13</td>\n",
       "      <td>1.80</td>\n",
       "      <td>3.42</td>\n",
       "    </tr>\n",
       "    <tr>\n",
       "      <th>4</th>\n",
       "      <td>1.17</td>\n",
       "      <td>1.79</td>\n",
       "      <td>3.47</td>\n",
       "    </tr>\n",
       "  </tbody>\n",
       "</table>\n",
       "</div>"
      ],
      "text/plain": [
       "      0     1     2\n",
       "0  1.15  1.76  3.30\n",
       "1  1.17  1.74  3.40\n",
       "2  0.00  1.83  2.65\n",
       "3  1.13  1.80  3.42\n",
       "4  1.17  1.79  3.47"
      ]
     },
     "execution_count": 2,
     "metadata": {},
     "output_type": "execute_result"
    }
   ],
   "source": [
    "# replace all rows with values -1 in the first 3 columns (target_values)\n",
    "data.iloc[:, 0:3].replace(to_replace=-1, value=0, inplace=True)\n",
    "data[[0,1,2]].head()"
   ]
  },
  {
   "cell_type": "code",
   "execution_count": 3,
   "metadata": {},
   "outputs": [],
   "source": [
    "len(np.unique(data[0])), len(np.unique(data[1])), len(np.unique(data[2]))\n",
    "target_classes = len(np.unique(data[2]))"
   ]
  },
  {
   "cell_type": "code",
   "execution_count": 4,
   "metadata": {},
   "outputs": [
    {
     "data": {
      "text/plain": [
       "{'activation_fn': 'relu',\n",
       " 'batch_size': 10,\n",
       " 'bias_initializer': 'random_uniform',\n",
       " 'depth_wise_initializer': 'random_uniform',\n",
       " 'drop_out': 0.2,\n",
       " 'feature_scl': False,\n",
       " 'filter_size': 1,\n",
       " 'hidden_units': [10, 10],\n",
       " 'input_units': 1,\n",
       " 'kernel_size': 1,\n",
       " 'learning_rate': 0.001,\n",
       " 'loss_fn': 'mean_squared_error',\n",
       " 'momentum': 0.2,\n",
       " 'n_filters': 1,\n",
       " 'n_padding': 1,\n",
       " 'n_strides': 1,\n",
       " 'num_epochs': 1,\n",
       " 'optimizer': 'Adagrad',\n",
       " 'output_units': 1,\n",
       " 'rec_drop_out': 0.2,\n",
       " 'seed': 10,\n",
       " 'steps': 1000}"
      ]
     },
     "execution_count": 4,
     "metadata": {},
     "output_type": "execute_result"
    }
   ],
   "source": [
    "stf = StartModTFCNN(n_classes=target_classes, dependent_label=[0,1,2])\n",
    "stf._get_attributes()"
   ]
  },
  {
   "cell_type": "code",
   "execution_count": 5,
   "metadata": {},
   "outputs": [
    {
     "name": "stdout",
     "output_type": "stream",
     "text": [
      "\n",
      "Input_units: 1 \n",
      "\n",
      "Hidden_units: [10, 10] \n",
      "\n",
      "Output_units: 1 \n",
      "\n",
      "Optimizer: Adagrad \n",
      "\n",
      "Activation_function: relu \n",
      "\n",
      "Learning_Rate: 0.001 \n",
      "\n",
      "Training_Steps: 1000 \n",
      "\n",
      "Batch_Size: 10 \n",
      "\n",
      "Number_of_epochs: 1 \n",
      "\n",
      "Feature_Scaling: False \n",
      "\n",
      "Loss_function: mean_squared_error \n",
      "\n",
      "Drop_out: 0.2 \n",
      "\n",
      "Recurrent_drop_out: 0.2 \n",
      "\n",
      "Bias_Initializer: random_uniform \n",
      "\n",
      "Depth_wise_Initializer: random_uniform \n",
      "\n",
      "Seed: 10 \n",
      "\n",
      "Kernel_size: 1 \n",
      "\n",
      "Filter_size: [3, 3] \n",
      "\n",
      "n_filters: 1 \n",
      "\n",
      "n_padding: 1 \n",
      "\n",
      "n_strides: 1 \n",
      "\n",
      "momentum: 0.2 \n",
      "\n"
     ]
    }
   ],
   "source": [
    "stf.info_parameters()"
   ]
  },
  {
   "cell_type": "code",
   "execution_count": 6,
   "metadata": {},
   "outputs": [
    {
     "name": "stdout",
     "output_type": "stream",
     "text": [
      "\n",
      "Input_units: 1000 \n",
      "\n",
      "Hidden_units: [1000, 500, 250] \n",
      "\n",
      "Output_units: 3 \n",
      "\n",
      "Optimizer: Adam \n",
      "\n",
      "Activation_function: relu \n",
      "\n",
      "Learning_Rate: 0.0025 \n",
      "\n",
      "Training_Steps: 5000 \n",
      "\n",
      "Batch_Size: 10 \n",
      "\n",
      "Number_of_epochs: 20 \n",
      "\n",
      "Feature_Scaling: True \n",
      "\n",
      "Loss_function: mean_squared_error \n",
      "\n",
      "Drop_out: 0.2 \n",
      "\n",
      "Recurrent_drop_out: 0.6 \n",
      "\n",
      "Bias_Initializer: random_uniform \n",
      "\n",
      "Depth_wise_Initializer: random_uniform \n",
      "\n",
      "Seed: 10 \n",
      "\n",
      "Kernel_size: 1 \n",
      "\n",
      "Filter_size: 1 \n",
      "\n",
      "n_filters: 32 \n",
      "\n",
      "n_padding: 1 \n",
      "\n",
      "n_strides: 1 \n",
      "\n",
      "momentum: 0.2 \n",
      "\n"
     ]
    }
   ],
   "source": [
    "# Update parameters \n",
    "new_param={'input_units': 1000, 'hidden_units': [1000, 500, 250], 'output_units': 3, 'optimizer':'Adam', \n",
    "           'activation_fn': 'relu', 'learning_rate': 0.0025,\n",
    "           'steps': 5000, 'batch_size': 10, 'num_epochs': 20, 'feature_scl': True, \n",
    "           'loss_fn': 'mean_squared_error', 'drop_out': 0.2, 'rec_drop_out': 0.6,\n",
    "           'bias_initializer': 'random_uniform', 'depth_wise_initializer': 'random_uniform', 'seed': 10, \n",
    "           'kernel_size': 1, 'filter_size': 1, 'momentum': 0.2, 'n_filters': 32, 'n_padding': 1, 'n_strides': 1}\n",
    "\n",
    "stf.update_parameters=new_param\n",
    "stf.info_parameters()"
   ]
  },
  {
   "cell_type": "code",
   "execution_count": 7,
   "metadata": {
    "scrolled": false
   },
   "outputs": [
    {
     "name": "stdout",
     "output_type": "stream",
     "text": [
      "Epoch 1/20\n",
      "115/115 [==============================] - 5s 43ms/step - loss: 4.5029 - acc: 0.7217\n",
      "Epoch 2/20\n",
      "115/115 [==============================] - 5s 45ms/step - loss: 3.1461 - acc: 0.8087\n",
      "Epoch 3/20\n",
      "115/115 [==============================] - 6s 52ms/step - loss: 1.1490 - acc: 0.8087\n",
      "Epoch 4/20\n",
      "115/115 [==============================] - 5s 41ms/step - loss: 1.0803 - acc: 0.8087\n",
      "Epoch 5/20\n",
      "115/115 [==============================] - 6s 51ms/step - loss: 1.0415 - acc: 0.8087\n",
      "Epoch 6/20\n",
      "115/115 [==============================] - 4s 37ms/step - loss: 1.0502 - acc: 0.8087\n",
      "Epoch 7/20\n",
      "115/115 [==============================] - 5s 40ms/step - loss: 1.0341 - acc: 0.8087\n",
      "Epoch 8/20\n",
      "115/115 [==============================] - 4s 37ms/step - loss: 1.0206 - acc: 0.8087\n",
      "Epoch 9/20\n",
      "115/115 [==============================] - 4s 34ms/step - loss: 1.0190 - acc: 0.8087\n",
      "Epoch 10/20\n",
      "115/115 [==============================] - 4s 34ms/step - loss: 1.0391 - acc: 0.8087\n",
      "Epoch 11/20\n",
      "115/115 [==============================] - 4s 34ms/step - loss: 1.0227 - acc: 0.8087\n",
      "Epoch 12/20\n",
      "115/115 [==============================] - 4s 34ms/step - loss: 1.0525 - acc: 0.8087\n",
      "Epoch 13/20\n",
      "115/115 [==============================] - 4s 35ms/step - loss: 1.0303 - acc: 0.8087\n",
      "Epoch 14/20\n",
      "115/115 [==============================] - 4s 34ms/step - loss: 1.0060 - acc: 0.8087\n",
      "Epoch 15/20\n",
      "115/115 [==============================] - 4s 34ms/step - loss: 1.0485 - acc: 0.8087\n",
      "Epoch 16/20\n",
      "115/115 [==============================] - 4s 36ms/step - loss: 1.0412 - acc: 0.8087\n",
      "Epoch 17/20\n",
      "115/115 [==============================] - 4s 34ms/step - loss: 1.0345 - acc: 0.8087\n",
      "Epoch 18/20\n",
      "115/115 [==============================] - 4s 35ms/step - loss: 1.0509 - acc: 0.8087\n",
      "Epoch 19/20\n",
      "115/115 [==============================] - 4s 34ms/step - loss: 1.0286 - acc: 0.8087\n",
      "Epoch 20/20\n",
      "115/115 [==============================] - 4s 34ms/step - loss: 1.0322 - acc: 0.8087\n",
      "115/115 [==============================] - 0s 4ms/step\n",
      "\n",
      "acc: 80.87%\n"
     ]
    },
    {
     "data": {
      "text/plain": [
       "<keras.models.Sequential at 0x7fc3d6a8a2b0>"
      ]
     },
     "execution_count": 7,
     "metadata": {},
     "output_type": "execute_result"
    }
   ],
   "source": [
    "# the first 3 columns 0, 1, 2 are chosen as target_labels\n",
    "# Build and evaluate model\n",
    "model, y_eval, y_pred = stf.keras_cnn_1d(data)\n",
    "model"
   ]
  },
  {
   "cell_type": "code",
   "execution_count": 8,
   "metadata": {},
   "outputs": [
    {
     "name": "stdout",
     "output_type": "stream",
     "text": [
      "_________________________________________________________________\n",
      "Layer (type)                 Output Shape              Param #   \n",
      "=================================================================\n",
      "conv1d_1 (Conv1D)            (None, 1000, 32)          64        \n",
      "_________________________________________________________________\n",
      "conv1d_2 (Conv1D)            (None, 1000, 32)          1056      \n",
      "_________________________________________________________________\n",
      "flatten_1 (Flatten)          (None, 32000)             0         \n",
      "_________________________________________________________________\n",
      "dropout_1 (Dropout)          (None, 32000)             0         \n",
      "_________________________________________________________________\n",
      "dense_1 (Dense)              (None, 1000)              32001000  \n",
      "_________________________________________________________________\n",
      "dense_2 (Dense)              (None, 1000)              1001000   \n",
      "_________________________________________________________________\n",
      "dense_3 (Dense)              (None, 500)               500500    \n",
      "_________________________________________________________________\n",
      "dense_4 (Dense)              (None, 250)               125250    \n",
      "_________________________________________________________________\n",
      "dense_5 (Dense)              (None, 3)                 753       \n",
      "=================================================================\n",
      "Total params: 33,629,623\n",
      "Trainable params: 33,629,623\n",
      "Non-trainable params: 0\n",
      "_________________________________________________________________\n"
     ]
    }
   ],
   "source": [
    "model.summary()"
   ]
  },
  {
   "cell_type": "code",
   "execution_count": 9,
   "metadata": {},
   "outputs": [
    {
     "data": {
      "text/html": [
       "<div>\n",
       "<style>\n",
       "    .dataframe thead tr:only-child th {\n",
       "        text-align: right;\n",
       "    }\n",
       "\n",
       "    .dataframe thead th {\n",
       "        text-align: left;\n",
       "    }\n",
       "\n",
       "    .dataframe tbody tr th {\n",
       "        vertical-align: top;\n",
       "    }\n",
       "</style>\n",
       "<table border=\"1\" class=\"dataframe\">\n",
       "  <thead>\n",
       "    <tr style=\"text-align: right;\">\n",
       "      <th></th>\n",
       "      <th>0</th>\n",
       "      <th>1</th>\n",
       "      <th>2</th>\n",
       "    </tr>\n",
       "  </thead>\n",
       "  <tbody>\n",
       "    <tr>\n",
       "      <th>0</th>\n",
       "      <td>1.32</td>\n",
       "      <td>2.07</td>\n",
       "      <td>3.67</td>\n",
       "    </tr>\n",
       "    <tr>\n",
       "      <th>1</th>\n",
       "      <td>1.03</td>\n",
       "      <td>2.18</td>\n",
       "      <td>4.60</td>\n",
       "    </tr>\n",
       "    <tr>\n",
       "      <th>2</th>\n",
       "      <td>1.22</td>\n",
       "      <td>1.83</td>\n",
       "      <td>3.45</td>\n",
       "    </tr>\n",
       "    <tr>\n",
       "      <th>3</th>\n",
       "      <td>1.35</td>\n",
       "      <td>1.90</td>\n",
       "      <td>3.46</td>\n",
       "    </tr>\n",
       "    <tr>\n",
       "      <th>4</th>\n",
       "      <td>1.00</td>\n",
       "      <td>1.73</td>\n",
       "      <td>3.23</td>\n",
       "    </tr>\n",
       "  </tbody>\n",
       "</table>\n",
       "</div>"
      ],
      "text/plain": [
       "      0     1     2\n",
       "0  1.32  2.07  3.67\n",
       "1  1.03  2.18  4.60\n",
       "2  1.22  1.83  3.45\n",
       "3  1.35  1.90  3.46\n",
       "4  1.00  1.73  3.23"
      ]
     },
     "execution_count": 9,
     "metadata": {},
     "output_type": "execute_result"
    }
   ],
   "source": [
    "# Reset index of y_eval\n",
    "StartML.idx_reset(y_eval)\n",
    "y_eval.head()"
   ]
  },
  {
   "cell_type": "code",
   "execution_count": 10,
   "metadata": {},
   "outputs": [
    {
     "data": {
      "text/html": [
       "<div>\n",
       "<style>\n",
       "    .dataframe thead tr:only-child th {\n",
       "        text-align: right;\n",
       "    }\n",
       "\n",
       "    .dataframe thead th {\n",
       "        text-align: left;\n",
       "    }\n",
       "\n",
       "    .dataframe tbody tr th {\n",
       "        vertical-align: top;\n",
       "    }\n",
       "</style>\n",
       "<table border=\"1\" class=\"dataframe\">\n",
       "  <thead>\n",
       "    <tr style=\"text-align: right;\">\n",
       "      <th></th>\n",
       "      <th>0</th>\n",
       "      <th>1</th>\n",
       "      <th>2</th>\n",
       "    </tr>\n",
       "  </thead>\n",
       "  <tbody>\n",
       "    <tr>\n",
       "      <th>0</th>\n",
       "      <td>0.603557</td>\n",
       "      <td>1.494963</td>\n",
       "      <td>3.059283</td>\n",
       "    </tr>\n",
       "    <tr>\n",
       "      <th>1</th>\n",
       "      <td>0.478673</td>\n",
       "      <td>1.183464</td>\n",
       "      <td>2.425808</td>\n",
       "    </tr>\n",
       "    <tr>\n",
       "      <th>2</th>\n",
       "      <td>0.528922</td>\n",
       "      <td>1.303961</td>\n",
       "      <td>2.671909</td>\n",
       "    </tr>\n",
       "    <tr>\n",
       "      <th>3</th>\n",
       "      <td>0.616293</td>\n",
       "      <td>1.514707</td>\n",
       "      <td>3.108151</td>\n",
       "    </tr>\n",
       "    <tr>\n",
       "      <th>4</th>\n",
       "      <td>0.562867</td>\n",
       "      <td>1.390464</td>\n",
       "      <td>2.858161</td>\n",
       "    </tr>\n",
       "  </tbody>\n",
       "</table>\n",
       "</div>"
      ],
      "text/plain": [
       "          0         1         2\n",
       "0  0.603557  1.494963  3.059283\n",
       "1  0.478673  1.183464  2.425808\n",
       "2  0.528922  1.303961  2.671909\n",
       "3  0.616293  1.514707  3.108151\n",
       "4  0.562867  1.390464  2.858161"
      ]
     },
     "execution_count": 10,
     "metadata": {},
     "output_type": "execute_result"
    }
   ],
   "source": [
    "y_pred.head()"
   ]
  },
  {
   "cell_type": "code",
   "execution_count": 11,
   "metadata": {},
   "outputs": [
    {
     "data": {
      "text/plain": [
       "<matplotlib.axes._subplots.AxesSubplot at 0x7fc3d4374390>"
      ]
     },
     "execution_count": 11,
     "metadata": {},
     "output_type": "execute_result"
    },
    {
     "data": {
      "image/png": "[encoded data removed]",
      "text/plain": [
       "<matplotlib.figure.Figure at 0x7fc3d6959ac8>"
      ]
     },
     "metadata": {},
     "output_type": "display_data"
    }
   ],
   "source": [
    "# compare the plot between first reponse of the predicted value and true value\n",
    "y_eval[0].plot()\n",
    "y_pred[0].plot()"
   ]
  },
  {
   "cell_type": "code",
   "execution_count": 12,
   "metadata": {},
   "outputs": [
    {
     "data": {
      "text/plain": [
       "<matplotlib.axes._subplots.AxesSubplot at 0x7fc3d42ba710>"
      ]
     },
     "execution_count": 12,
     "metadata": {},
     "output_type": "execute_result"
    },
    {
     "data": {
      "image/png": "[encoded data removed]",
      "text/plain": [
       "<matplotlib.figure.Figure at 0x7fc3d4280438>"
      ]
     },
     "metadata": {},
     "output_type": "display_data"
    }
   ],
   "source": [
    "# compare the plot between second reponse of the predicted value and true value\n",
    "y_eval[1].plot()\n",
    "y_pred[1].plot()"
   ]
  },
  {
   "cell_type": "code",
   "execution_count": 13,
   "metadata": {},
   "outputs": [
    {
     "data": {
      "text/plain": [
       "<matplotlib.axes._subplots.AxesSubplot at 0x7fc3d424bcf8>"
      ]
     },
     "execution_count": 13,
     "metadata": {},
     "output_type": "execute_result"
    },
    {
     "data": {
      "image/png": "[encoded data removed]",
      "text/plain": [
       "<matplotlib.figure.Figure at 0x7fc3d422d0f0>"
      ]
     },
     "metadata": {},
     "output_type": "display_data"
    }
   ],
   "source": [
    "# compare the plot between third reponse of the predicted value and true value\n",
    "y_eval[2].plot()\n",
    "y_pred[2].plot()"
   ]
  },
  {
   "cell_type": "code",
   "execution_count": null,
   "metadata": {},
   "outputs": [],
   "source": []
  }
 ],
 "metadata": {
  "kernelspec": {
   "display_name": "Python 3",
   "language": "python",
   "name": "python3"
  },
  "language_info": {
   "codemirror_mode": {
    "name": "ipython",
    "version": 3
   },
   "file_extension": ".py",
   "mimetype": "text/x-python",
   "name": "python",
   "nbconvert_exporter": "python",
   "pygments_lexer": "ipython3",
   "version": "3.6.5"
  }
 },
 "nbformat": 4,
 "nbformat_minor": 2
}
