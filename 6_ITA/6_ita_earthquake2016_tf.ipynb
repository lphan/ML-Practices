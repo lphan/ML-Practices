{
 "cells": [
  {
   "cell_type": "code",
   "execution_count": 1,
   "metadata": {},
   "outputs": [
    {
     "name": "stdout",
     "output_type": "stream",
     "text": [
      "local_kwargs {'data_path_1': './data/italy_earthquakes_from_2016-08-24_to_2016-11-30.csv', 'data_path_2': './data/clustered_italy_earthquakes_from_2016-08-24_to_2016-11-30.csv', 'data_path_3': '', 'drop_obj_col': False, 'nan_drop_col': False, 'nan_drop_row': False, 'nan_zero': False, 'nan_mean': True, 'nan_mean_neighbors': False}\n"
     ]
    },
    {
     "name": "stderr",
     "output_type": "stream",
     "text": [
      "Using TensorFlow backend.\n"
     ]
    }
   ],
   "source": [
    "# setup absolute path to location of package Starts and config-file \n",
    "from inspect import getsourcefile\n",
    "import os.path as path, sys\n",
    "current_dir = path.dirname(path.abspath(getsourcefile(lambda:0)))\n",
    "sys.path.insert(0, current_dir[:current_dir.rfind(path.sep)])\n",
    "\n",
    "# import package Starts\n",
    "from Starts.startvis import *\n",
    "from Starts.startmodskl import *\n",
    "from Starts.startvis import *\n",
    "from Starts.startmodtf import *\n",
    "%matplotlib inline\n"
   ]
  },
  {
   "cell_type": "code",
   "execution_count": 2,
   "metadata": {},
   "outputs": [
    {
     "data": {
      "text/html": [
       "<div>\n",
       "<style>\n",
       "    .dataframe thead tr:only-child th {\n",
       "        text-align: right;\n",
       "    }\n",
       "\n",
       "    .dataframe thead th {\n",
       "        text-align: left;\n",
       "    }\n",
       "\n",
       "    .dataframe tbody tr th {\n",
       "        vertical-align: top;\n",
       "    }\n",
       "</style>\n",
       "<table border=\"1\" class=\"dataframe\">\n",
       "  <thead>\n",
       "    <tr style=\"text-align: right;\">\n",
       "      <th></th>\n",
       "      <th>Latitude</th>\n",
       "      <th>Longitude</th>\n",
       "      <th>Depth/Km</th>\n",
       "      <th>Magnitude</th>\n",
       "      <th>Clusters</th>\n",
       "    </tr>\n",
       "  </thead>\n",
       "  <tbody>\n",
       "    <tr>\n",
       "      <th>0</th>\n",
       "      <td>42.6983</td>\n",
       "      <td>13.2335</td>\n",
       "      <td>8.1</td>\n",
       "      <td>6.0</td>\n",
       "      <td>3</td>\n",
       "    </tr>\n",
       "    <tr>\n",
       "      <th>1</th>\n",
       "      <td>42.7123</td>\n",
       "      <td>13.2533</td>\n",
       "      <td>9.0</td>\n",
       "      <td>4.5</td>\n",
       "      <td>3</td>\n",
       "    </tr>\n",
       "    <tr>\n",
       "      <th>2</th>\n",
       "      <td>42.7647</td>\n",
       "      <td>13.1723</td>\n",
       "      <td>9.7</td>\n",
       "      <td>3.8</td>\n",
       "      <td>3</td>\n",
       "    </tr>\n",
       "    <tr>\n",
       "      <th>3</th>\n",
       "      <td>42.7803</td>\n",
       "      <td>13.1683</td>\n",
       "      <td>9.7</td>\n",
       "      <td>3.9</td>\n",
       "      <td>3</td>\n",
       "    </tr>\n",
       "    <tr>\n",
       "      <th>4</th>\n",
       "      <td>42.7798</td>\n",
       "      <td>13.1575</td>\n",
       "      <td>9.7</td>\n",
       "      <td>3.6</td>\n",
       "      <td>3</td>\n",
       "    </tr>\n",
       "  </tbody>\n",
       "</table>\n",
       "</div>"
      ],
      "text/plain": [
       "   Latitude  Longitude  Depth/Km  Magnitude  Clusters\n",
       "0   42.6983    13.2335       8.1        6.0         3\n",
       "1   42.7123    13.2533       9.0        4.5         3\n",
       "2   42.7647    13.1723       9.7        3.8         3\n",
       "3   42.7803    13.1683       9.7        3.9         3\n",
       "4   42.7798    13.1575       9.7        3.6         3"
      ]
     },
     "execution_count": 2,
     "metadata": {},
     "output_type": "execute_result"
    }
   ],
   "source": [
    "# test_data = StartML.convert_time_series(test_data, 'Time')\n",
    "data = nonan_data.drop(['Time'], axis=1)\n",
    "data.head()"
   ]
  },
  {
   "cell_type": "code",
   "execution_count": 3,
   "metadata": {},
   "outputs": [
    {
     "data": {
      "text/plain": [
       "<Starts.startmodtf.StartModTF at 0x7f763c5777b8>"
      ]
     },
     "execution_count": 3,
     "metadata": {},
     "output_type": "execute_result"
    }
   ],
   "source": [
    "# init data with target_label = Clusters\n",
    "stf = StartModTF(data, label='Clusters')\n",
    "stf"
   ]
  },
  {
   "cell_type": "code",
   "execution_count": 4,
   "metadata": {},
   "outputs": [
    {
     "name": "stdout",
     "output_type": "stream",
     "text": [
      "\n",
      "Hidden_units: [10, 10] \n",
      "\n",
      "Optimizer: Adagrad \n",
      "\n",
      "Activation_function: relu \n",
      "\n",
      "Learning_Rate: 0.001 \n",
      "\n",
      "Training_Steps: 1000 \n",
      "\n",
      "Batch_Size: 10 \n",
      "\n",
      "Number_of_epochs: relu \n",
      "\n",
      "Feature_Scaling: False \n",
      "\n"
     ]
    }
   ],
   "source": [
    "stf.info_parameters()"
   ]
  },
  {
   "cell_type": "code",
   "execution_count": 5,
   "metadata": {
    "scrolled": false
   },
   "outputs": [
    {
     "name": "stdout",
     "output_type": "stream",
     "text": [
      "INFO:tensorflow:Using default config.\n",
      "WARNING:tensorflow:Using temporary folder as model directory: /tmp/tmpmd0bdiic\n",
      "INFO:tensorflow:Using config: {'_model_dir': '/tmp/tmpmd0bdiic', '_tf_random_seed': None, '_save_summary_steps': 100, '_save_checkpoints_steps': None, '_save_checkpoints_secs': 600, '_session_config': None, '_keep_checkpoint_max': 5, '_keep_checkpoint_every_n_hours': 10000, '_log_step_count_steps': 100, '_train_distribute': None, '_service': None, '_cluster_spec': <tensorflow.python.training.server_lib.ClusterSpec object at 0x7f766d647be0>, '_task_type': 'worker', '_task_id': 0, '_global_id_in_cluster': 0, '_master': '', '_evaluation_master': '', '_is_chief': True, '_num_ps_replicas': 0, '_num_worker_replicas': 1}\n",
      "INFO:tensorflow:Calling model_fn.\n",
      "INFO:tensorflow:Done calling model_fn.\n",
      "INFO:tensorflow:Create CheckpointSaverHook.\n",
      "INFO:tensorflow:Graph was finalized.\n",
      "INFO:tensorflow:Running local_init_op.\n",
      "INFO:tensorflow:Done running local_init_op.\n",
      "INFO:tensorflow:Saving checkpoints for 1 into /tmp/tmpmd0bdiic/model.ckpt.\n",
      "INFO:tensorflow:loss = 13.8629, step = 1\n",
      "INFO:tensorflow:global_step/sec: 363.01\n",
      "INFO:tensorflow:loss = 7.49689, step = 101 (0.285 sec)\n",
      "INFO:tensorflow:global_step/sec: 413.569\n",
      "INFO:tensorflow:loss = 3.85607, step = 201 (0.260 sec)\n",
      "INFO:tensorflow:global_step/sec: 407.085\n",
      "INFO:tensorflow:loss = 0.947906, step = 301 (0.223 sec)\n",
      "INFO:tensorflow:global_step/sec: 258.069\n",
      "INFO:tensorflow:loss = 3.86541, step = 401 (0.382 sec)\n",
      "INFO:tensorflow:global_step/sec: 436.383\n",
      "INFO:tensorflow:loss = 1.96443, step = 501 (0.231 sec)\n",
      "INFO:tensorflow:global_step/sec: 395.789\n",
      "INFO:tensorflow:loss = 2.17524, step = 601 (0.250 sec)\n",
      "INFO:tensorflow:Saving checkpoints for 647 into /tmp/tmpmd0bdiic/model.ckpt.\n",
      "INFO:tensorflow:Loss for final step: 2.17006.\n",
      "INFO:tensorflow:Calling model_fn.\n",
      "INFO:tensorflow:Done calling model_fn.\n",
      "INFO:tensorflow:Starting evaluation at 2018-05-27-07:58:41\n",
      "INFO:tensorflow:Graph was finalized.\n",
      "INFO:tensorflow:Restoring parameters from /tmp/tmpmd0bdiic/model.ckpt-647\n",
      "INFO:tensorflow:Running local_init_op.\n",
      "INFO:tensorflow:Done running local_init_op.\n",
      "INFO:tensorflow:Finished evaluation at 2018-05-27-07:58:43\n",
      "INFO:tensorflow:Saving dict for global step 647: accuracy = 0.980674, average_loss = 0.209871, global_step = 647, loss = 2.09806\n",
      "\n",
      " {'accuracy': 0.98067409, 'average_loss': 0.20987092, 'loss': 2.0980604, 'global_step': 647}\n",
      "...----> <class 'generator'>\n"
     ]
    }
   ],
   "source": [
    "# classify data based on label = 'Clusters' and save the results into y_pred and compute accuracy of model\n",
    "classifier, y_true, y_pred = stf.classifier_estimator(model_lin=True)"
   ]
  },
  {
   "cell_type": "code",
   "execution_count": 6,
   "metadata": {},
   "outputs": [
    {
     "data": {
      "text/plain": [
       "<tensorflow.python.estimator.canned.linear.LinearClassifier at 0x7f769970e4a8>"
      ]
     },
     "execution_count": 6,
     "metadata": {},
     "output_type": "execute_result"
    }
   ],
   "source": [
    "classifier"
   ]
  },
  {
   "cell_type": "code",
   "execution_count": 7,
   "metadata": {},
   "outputs": [
    {
     "name": "stdout",
     "output_type": "stream",
     "text": [
      "INFO:tensorflow:Calling model_fn.\n",
      "INFO:tensorflow:Done calling model_fn.\n",
      "INFO:tensorflow:Graph was finalized.\n",
      "INFO:tensorflow:Restoring parameters from /tmp/tmpmd0bdiic/model.ckpt-647\n",
      "INFO:tensorflow:Running local_init_op.\n",
      "INFO:tensorflow:Done running local_init_op.\n",
      "Classification Report: \n",
      "              precision    recall  f1-score   support\n",
      "\n",
      "          0       1.00      1.00      1.00       764\n",
      "          1       1.00      1.00      1.00       253\n",
      "          2       0.94      1.00      0.97       518\n",
      "          3       1.00      0.59      0.74        83\n",
      "\n",
      "avg / total       0.98      0.98      0.98      1618\n",
      "\n",
      "Confusion Matrix: \n",
      " [[764   0   0   0]\n",
      " [  0 253   0   0]\n",
      " [  0   0 518   0]\n",
      " [  0   0  34  49]]\n",
      "\n",
      "Accuracy: \n",
      " 0.978986402967\n",
      "\n",
      "Mean_Squared_Error: \n",
      " 0.0210135970334\n"
     ]
    }
   ],
   "source": [
    "# Convert the predicted value y_pred and show the metrics_report\n",
    "final_pred = [pred['class_ids'][0] for pred in list(y_pred)]\n",
    "StartMod.metrics_report(y_true, final_pred)"
   ]
  },
  {
   "cell_type": "code",
   "execution_count": 8,
   "metadata": {},
   "outputs": [],
   "source": [
    "# Predict on new_data 'new_x_true'\n",
    "# pred_input_func = StartModTF.pred_input_fn(test_features=new_x_true, batch_size=len(new_x_true))\n",
    "# y_predict = classifier.predict(input_fn=pred_input_func)"
   ]
  },
  {
   "cell_type": "code",
   "execution_count": 9,
   "metadata": {},
   "outputs": [
    {
     "name": "stdout",
     "output_type": "stream",
     "text": [
      "\n",
      "Hidden_units: [10, 10, 10] \n",
      "\n",
      "Optimizer: Adam \n",
      "\n",
      "Activation_function: sigmoid \n",
      "\n",
      "Learning_Rate: 0.0001 \n",
      "\n",
      "Training_Steps: 5000 \n",
      "\n",
      "Batch_Size: 10 \n",
      "\n",
      "Number_of_epochs: sigmoid \n",
      "\n",
      "Feature_Scaling: True \n",
      "\n"
     ]
    }
   ],
   "source": [
    "# Update parameters \n",
    "new_param={'hidden_units':[10,10,10], 'optimizer':'Adam', 'activation_fn':'sigmoid', 'learning_rate': 0.0001,\n",
    "           'steps':5000, 'batch_size':10, 'num_epochs':10, 'feature_scl':True}\n",
    "stf.update_parameters=new_param\n",
    "stf.info_parameters()"
   ]
  },
  {
   "cell_type": "code",
   "execution_count": 10,
   "metadata": {
    "scrolled": false
   },
   "outputs": [
    {
     "name": "stderr",
     "output_type": "stream",
     "text": [
      "/usr/lib64/python3.6/site-packages/pandas/core/frame.py:2450: SettingWithCopyWarning: \n",
      "A value is trying to be set on a copy of a slice from a DataFrame.\n",
      "Try using .loc[row_indexer,col_indexer] = value instead\n",
      "\n",
      "See the caveats in the documentation: http://pandas.pydata.org/pandas-docs/stable/indexing.html#indexing-view-versus-copy\n",
      "  self[k1] = value[k2]\n"
     ]
    },
    {
     "name": "stdout",
     "output_type": "stream",
     "text": [
      "INFO:tensorflow:Using default config.\n",
      "WARNING:tensorflow:Using temporary folder as model directory: /tmp/tmpkdortwad\n",
      "INFO:tensorflow:Using config: {'_model_dir': '/tmp/tmpkdortwad', '_tf_random_seed': None, '_save_summary_steps': 100, '_save_checkpoints_steps': None, '_save_checkpoints_secs': 600, '_session_config': None, '_keep_checkpoint_max': 5, '_keep_checkpoint_every_n_hours': 10000, '_log_step_count_steps': 100, '_train_distribute': None, '_service': None, '_cluster_spec': <tensorflow.python.training.server_lib.ClusterSpec object at 0x7f763b9f1160>, '_task_type': 'worker', '_task_id': 0, '_global_id_in_cluster': 0, '_master': '', '_evaluation_master': '', '_is_chief': True, '_num_ps_replicas': 0, '_num_worker_replicas': 1}\n",
      "INFO:tensorflow:Calling model_fn.\n",
      "INFO:tensorflow:Done calling model_fn.\n",
      "INFO:tensorflow:Create CheckpointSaverHook.\n",
      "INFO:tensorflow:Graph was finalized.\n",
      "INFO:tensorflow:Running local_init_op.\n",
      "INFO:tensorflow:Done running local_init_op.\n",
      "INFO:tensorflow:Saving checkpoints for 1 into /tmp/tmpkdortwad/model.ckpt.\n",
      "INFO:tensorflow:loss = 13.8629, step = 1\n",
      "INFO:tensorflow:global_step/sec: 373.48\n",
      "INFO:tensorflow:loss = 9.80017, step = 101 (0.283 sec)\n",
      "INFO:tensorflow:global_step/sec: 447.908\n",
      "INFO:tensorflow:loss = 6.90853, step = 201 (0.209 sec)\n",
      "INFO:tensorflow:global_step/sec: 396.386\n",
      "INFO:tensorflow:loss = 7.70432, step = 301 (0.255 sec)\n",
      "INFO:tensorflow:global_step/sec: 222.687\n",
      "INFO:tensorflow:loss = 5.2626, step = 401 (0.447 sec)\n",
      "INFO:tensorflow:global_step/sec: 366.413\n",
      "INFO:tensorflow:loss = 4.0041, step = 501 (0.275 sec)\n",
      "INFO:tensorflow:global_step/sec: 389.383\n",
      "INFO:tensorflow:loss = 3.99397, step = 601 (0.267 sec)\n",
      "INFO:tensorflow:global_step/sec: 376.891\n",
      "INFO:tensorflow:loss = 2.24851, step = 701 (0.261 sec)\n",
      "INFO:tensorflow:global_step/sec: 375.292\n",
      "INFO:tensorflow:loss = 1.93229, step = 801 (0.262 sec)\n",
      "INFO:tensorflow:global_step/sec: 382.41\n",
      "INFO:tensorflow:loss = 3.5168, step = 901 (0.270 sec)\n",
      "INFO:tensorflow:global_step/sec: 372.617\n",
      "INFO:tensorflow:loss = 2.26093, step = 1001 (0.257 sec)\n",
      "INFO:tensorflow:global_step/sec: 396.106\n",
      "INFO:tensorflow:loss = 1.972, step = 1101 (0.252 sec)\n",
      "INFO:tensorflow:global_step/sec: 382.651\n",
      "INFO:tensorflow:loss = 2.19114, step = 1201 (0.261 sec)\n",
      "INFO:tensorflow:global_step/sec: 418.847\n",
      "INFO:tensorflow:loss = 2.31456, step = 1301 (0.239 sec)\n",
      "INFO:tensorflow:global_step/sec: 368.13\n",
      "INFO:tensorflow:loss = 1.42922, step = 1401 (0.285 sec)\n",
      "INFO:tensorflow:global_step/sec: 389.839\n",
      "INFO:tensorflow:loss = 1.62288, step = 1501 (0.243 sec)\n",
      "INFO:tensorflow:global_step/sec: 323.937\n",
      "INFO:tensorflow:loss = 1.24023, step = 1601 (0.311 sec)\n",
      "INFO:tensorflow:global_step/sec: 239.263\n",
      "INFO:tensorflow:loss = 2.00338, step = 1701 (0.423 sec)\n",
      "INFO:tensorflow:global_step/sec: 304.888\n",
      "INFO:tensorflow:loss = 1.68269, step = 1801 (0.322 sec)\n",
      "INFO:tensorflow:global_step/sec: 413.882\n",
      "INFO:tensorflow:loss = 2.06524, step = 1901 (0.240 sec)\n",
      "INFO:tensorflow:global_step/sec: 405.905\n",
      "INFO:tensorflow:loss = 2.00903, step = 2001 (0.266 sec)\n",
      "INFO:tensorflow:global_step/sec: 354.885\n",
      "INFO:tensorflow:loss = 1.62735, step = 2101 (0.280 sec)\n",
      "INFO:tensorflow:global_step/sec: 404.874\n",
      "INFO:tensorflow:loss = 1.15653, step = 2201 (0.241 sec)\n",
      "INFO:tensorflow:global_step/sec: 381.663\n",
      "INFO:tensorflow:loss = 0.957978, step = 2301 (0.262 sec)\n",
      "INFO:tensorflow:global_step/sec: 382.228\n",
      "INFO:tensorflow:loss = 2.25454, step = 2401 (0.260 sec)\n",
      "INFO:tensorflow:global_step/sec: 464.589\n",
      "INFO:tensorflow:loss = 1.3778, step = 2501 (0.217 sec)\n",
      "INFO:tensorflow:global_step/sec: 457.308\n",
      "INFO:tensorflow:loss = 1.82028, step = 2601 (0.208 sec)\n",
      "INFO:tensorflow:global_step/sec: 402.629\n",
      "INFO:tensorflow:loss = 1.50768, step = 2701 (0.252 sec)\n",
      "INFO:tensorflow:global_step/sec: 451.362\n",
      "INFO:tensorflow:loss = 1.96771, step = 2801 (0.222 sec)\n",
      "INFO:tensorflow:global_step/sec: 315.889\n",
      "INFO:tensorflow:loss = 1.40953, step = 2901 (0.319 sec)\n",
      "INFO:tensorflow:global_step/sec: 246.878\n",
      "INFO:tensorflow:loss = 0.808618, step = 3001 (0.402 sec)\n",
      "INFO:tensorflow:global_step/sec: 257.006\n",
      "INFO:tensorflow:loss = 1.43627, step = 3101 (0.387 sec)\n",
      "INFO:tensorflow:global_step/sec: 296.218\n",
      "INFO:tensorflow:loss = 1.12853, step = 3201 (0.335 sec)\n",
      "INFO:tensorflow:global_step/sec: 380.55\n",
      "INFO:tensorflow:loss = 1.99139, step = 3301 (0.282 sec)\n",
      "INFO:tensorflow:global_step/sec: 417.655\n",
      "INFO:tensorflow:loss = 1.45535, step = 3401 (0.224 sec)\n",
      "INFO:tensorflow:global_step/sec: 441.63\n",
      "INFO:tensorflow:loss = 1.4437, step = 3501 (0.226 sec)\n",
      "INFO:tensorflow:global_step/sec: 430.968\n",
      "INFO:tensorflow:loss = 0.868031, step = 3601 (0.230 sec)\n",
      "INFO:tensorflow:global_step/sec: 421.673\n",
      "INFO:tensorflow:loss = 1.11599, step = 3701 (0.236 sec)\n",
      "INFO:tensorflow:global_step/sec: 384.659\n",
      "INFO:tensorflow:loss = 0.816279, step = 3801 (0.262 sec)\n",
      "INFO:tensorflow:global_step/sec: 439.466\n",
      "INFO:tensorflow:loss = 0.870851, step = 3901 (0.227 sec)\n",
      "INFO:tensorflow:global_step/sec: 358.235\n",
      "INFO:tensorflow:loss = 0.830163, step = 4001 (0.279 sec)\n",
      "INFO:tensorflow:global_step/sec: 467.106\n",
      "INFO:tensorflow:loss = 1.41704, step = 4101 (0.223 sec)\n",
      "INFO:tensorflow:global_step/sec: 399.554\n",
      "INFO:tensorflow:loss = 0.781409, step = 4201 (0.258 sec)\n",
      "INFO:tensorflow:global_step/sec: 401.335\n",
      "INFO:tensorflow:loss = 1.01222, step = 4301 (0.233 sec)\n",
      "INFO:tensorflow:global_step/sec: 342.493\n",
      "INFO:tensorflow:loss = 1.17625, step = 4401 (0.292 sec)\n",
      "INFO:tensorflow:global_step/sec: 285.916\n",
      "INFO:tensorflow:loss = 1.05257, step = 4501 (0.350 sec)\n",
      "INFO:tensorflow:global_step/sec: 253.313\n",
      "INFO:tensorflow:loss = 0.714475, step = 4601 (0.396 sec)\n",
      "INFO:tensorflow:global_step/sec: 265.251\n",
      "INFO:tensorflow:loss = 1.11528, step = 4701 (0.378 sec)\n",
      "INFO:tensorflow:global_step/sec: 396.268\n",
      "INFO:tensorflow:loss = 1.26324, step = 4801 (0.256 sec)\n",
      "INFO:tensorflow:global_step/sec: 363.03\n",
      "INFO:tensorflow:loss = 1.01056, step = 4901 (0.269 sec)\n",
      "INFO:tensorflow:Saving checkpoints for 5000 into /tmp/tmpkdortwad/model.ckpt.\n",
      "INFO:tensorflow:Loss for final step: 0.652934.\n",
      "INFO:tensorflow:Calling model_fn.\n",
      "INFO:tensorflow:Done calling model_fn.\n",
      "INFO:tensorflow:Starting evaluation at 2018-05-27-07:59:00\n",
      "INFO:tensorflow:Graph was finalized.\n",
      "INFO:tensorflow:Restoring parameters from /tmp/tmpkdortwad/model.ckpt-5000\n",
      "INFO:tensorflow:Running local_init_op.\n",
      "INFO:tensorflow:Done running local_init_op.\n",
      "INFO:tensorflow:Finished evaluation at 2018-05-27-07:59:12\n",
      "INFO:tensorflow:Saving dict for global step 5000: accuracy = 0.999845, average_loss = 0.0916419, global_step = 5000, loss = 0.91642\n",
      "\n",
      " {'accuracy': 0.99984539, 'average_loss': 0.091641948, 'loss': 0.91641951, 'global_step': 5000}\n",
      "...----> <class 'generator'>\n"
     ]
    }
   ],
   "source": [
    "# and train model again\n",
    "classifier, y_true, y_pred = stf.classifier_estimator(model_lin=True)"
   ]
  },
  {
   "cell_type": "markdown",
   "metadata": {},
   "source": [
    "### By changing (increasing parameters) the accuracy has been improved from 0.980840543881 to 0.99984539"
   ]
  },
  {
   "cell_type": "code",
   "execution_count": 17,
   "metadata": {},
   "outputs": [
    {
     "data": {
      "text/plain": [
       "Index(['Latitude', 'Longitude', 'Depth/Km', 'Magnitude', 'Clusters'], dtype='object')"
      ]
     },
     "execution_count": 17,
     "metadata": {},
     "output_type": "execute_result"
    }
   ],
   "source": [
    "# TODO: plot y_true and y_pred and comment\n",
    "# y_true.plot()\n",
    "type(y_true), type(y_pred)\n",
    "type(stf.data)\n",
    "stf.data.columns"
   ]
  }
 ],
 "metadata": {
  "kernelspec": {
   "display_name": "Python 3",
   "language": "python",
   "name": "python3"
  },
  "language_info": {
   "codemirror_mode": {
    "name": "ipython",
    "version": 3
   },
   "file_extension": ".py",
   "mimetype": "text/x-python",
   "name": "python",
   "nbconvert_exporter": "python",
   "pygments_lexer": "ipython3",
   "version": "3.6.5"
  }
 },
 "nbformat": 4,
 "nbformat_minor": 2
}
