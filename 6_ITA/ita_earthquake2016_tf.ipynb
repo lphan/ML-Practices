{
 "cells": [
  {
   "cell_type": "code",
   "execution_count": 1,
   "metadata": {},
   "outputs": [
    {
     "name": "stderr",
     "output_type": "stream",
     "text": [
      "Using TensorFlow backend.\n"
     ]
    }
   ],
   "source": [
    "from startmodtf import *"
   ]
  },
  {
   "cell_type": "code",
   "execution_count": 2,
   "metadata": {},
   "outputs": [
    {
     "data": {
      "text/html": [
       "<div>\n",
       "<style scoped>\n",
       "    .dataframe tbody tr th:only-of-type {\n",
       "        vertical-align: middle;\n",
       "    }\n",
       "\n",
       "    .dataframe tbody tr th {\n",
       "        vertical-align: top;\n",
       "    }\n",
       "\n",
       "    .dataframe thead th {\n",
       "        text-align: right;\n",
       "    }\n",
       "</style>\n",
       "<table border=\"1\" class=\"dataframe\">\n",
       "  <thead>\n",
       "    <tr style=\"text-align: right;\">\n",
       "      <th></th>\n",
       "      <th>Latitude</th>\n",
       "      <th>Longitude</th>\n",
       "      <th>Depth/Km</th>\n",
       "      <th>Magnitude</th>\n",
       "      <th>Clusters</th>\n",
       "    </tr>\n",
       "  </thead>\n",
       "  <tbody>\n",
       "    <tr>\n",
       "      <th>0</th>\n",
       "      <td>42.6983</td>\n",
       "      <td>13.2335</td>\n",
       "      <td>8.1</td>\n",
       "      <td>6.0</td>\n",
       "      <td>3</td>\n",
       "    </tr>\n",
       "    <tr>\n",
       "      <th>1</th>\n",
       "      <td>42.7123</td>\n",
       "      <td>13.2533</td>\n",
       "      <td>9.0</td>\n",
       "      <td>4.5</td>\n",
       "      <td>3</td>\n",
       "    </tr>\n",
       "    <tr>\n",
       "      <th>2</th>\n",
       "      <td>42.7647</td>\n",
       "      <td>13.1723</td>\n",
       "      <td>9.7</td>\n",
       "      <td>3.8</td>\n",
       "      <td>3</td>\n",
       "    </tr>\n",
       "    <tr>\n",
       "      <th>3</th>\n",
       "      <td>42.7803</td>\n",
       "      <td>13.1683</td>\n",
       "      <td>9.7</td>\n",
       "      <td>3.9</td>\n",
       "      <td>3</td>\n",
       "    </tr>\n",
       "    <tr>\n",
       "      <th>4</th>\n",
       "      <td>42.7798</td>\n",
       "      <td>13.1575</td>\n",
       "      <td>9.7</td>\n",
       "      <td>3.6</td>\n",
       "      <td>3</td>\n",
       "    </tr>\n",
       "  </tbody>\n",
       "</table>\n",
       "</div>"
      ],
      "text/plain": [
       "   Latitude  Longitude  Depth/Km  Magnitude  Clusters\n",
       "0   42.6983    13.2335       8.1        6.0         3\n",
       "1   42.7123    13.2533       9.0        4.5         3\n",
       "2   42.7647    13.1723       9.7        3.8         3\n",
       "3   42.7803    13.1683       9.7        3.9         3\n",
       "4   42.7798    13.1575       9.7        3.6         3"
      ]
     },
     "execution_count": 2,
     "metadata": {},
     "output_type": "execute_result"
    }
   ],
   "source": [
    "# test_data = StartML.convert_time_series(test_data, 'Time')\n",
    "data = test_data.drop(['Time'], axis=1)\n",
    "data.head()"
   ]
  },
  {
   "cell_type": "code",
   "execution_count": 3,
   "metadata": {},
   "outputs": [
    {
     "data": {
      "text/plain": [
       "<startmodtf.StartModTF at 0x7fcc26912eb8>"
      ]
     },
     "execution_count": 3,
     "metadata": {},
     "output_type": "execute_result"
    }
   ],
   "source": [
    "stf = StartModTF(data, label='Clusters')\n",
    "stf"
   ]
  },
  {
   "cell_type": "code",
   "execution_count": 4,
   "metadata": {},
   "outputs": [
    {
     "name": "stdout",
     "output_type": "stream",
     "text": [
      "\n",
      "Hidden_units: [10, 10] \n",
      "\n",
      "Optimizer: Adagrad \n",
      "\n",
      "Activation_function: relu \n",
      "\n",
      "Learning_Rate: 0.001 \n",
      "\n",
      "Training_Steps: 1000 \n",
      "\n",
      "Batch_Size: 10 \n",
      "\n",
      "Number_of_epochs: relu \n",
      "\n",
      "Feature_Scaling: False \n",
      "\n"
     ]
    }
   ],
   "source": [
    "stf.info_parameters()"
   ]
  },
  {
   "cell_type": "code",
   "execution_count": 5,
   "metadata": {
    "scrolled": false
   },
   "outputs": [
    {
     "name": "stdout",
     "output_type": "stream",
     "text": [
      "INFO:tensorflow:Using default config.\n",
      "WARNING:tensorflow:Using temporary folder as model directory: /tmp/tmpf7567nk8\n",
      "INFO:tensorflow:Using config: {'_log_step_count_steps': 100, '_keep_checkpoint_max': 5, '_save_summary_steps': 100, '_task_type': 'worker', '_session_config': None, '_save_checkpoints_steps': None, '_model_dir': '/tmp/tmpf7567nk8', '_service': None, '_tf_random_seed': None, '_task_id': 0, '_save_checkpoints_secs': 600, '_master': '', '_keep_checkpoint_every_n_hours': 10000, '_is_chief': True, '_cluster_spec': <tensorflow.python.training.server_lib.ClusterSpec object at 0x7fcc2692b2e8>, '_num_ps_replicas': 0, '_num_worker_replicas': 1}\n",
      "INFO:tensorflow:Create CheckpointSaverHook.\n",
      "INFO:tensorflow:Saving checkpoints for 1 into /tmp/tmpf7567nk8/model.ckpt.\n",
      "INFO:tensorflow:loss = 13.862944, step = 1\n",
      "INFO:tensorflow:global_step/sec: 394.712\n",
      "INFO:tensorflow:loss = 5.0818753, step = 101 (0.263 sec)\n",
      "INFO:tensorflow:global_step/sec: 350.053\n",
      "INFO:tensorflow:loss = 7.1687403, step = 201 (0.276 sec)\n",
      "INFO:tensorflow:global_step/sec: 387.141\n",
      "INFO:tensorflow:loss = 4.737889, step = 301 (0.258 sec)\n",
      "INFO:tensorflow:global_step/sec: 432.559\n",
      "INFO:tensorflow:loss = 2.58145, step = 401 (0.235 sec)\n",
      "INFO:tensorflow:global_step/sec: 459.837\n",
      "INFO:tensorflow:loss = 1.8969129, step = 501 (0.222 sec)\n",
      "INFO:tensorflow:global_step/sec: 465.695\n",
      "INFO:tensorflow:loss = 3.969434, step = 601 (0.209 sec)\n",
      "INFO:tensorflow:Saving checkpoints for 647 into /tmp/tmpf7567nk8/model.ckpt.\n",
      "INFO:tensorflow:Loss for final step: 1.5217736.\n",
      "INFO:tensorflow:Starting evaluation at 2018-02-19-16:03:50\n",
      "INFO:tensorflow:Restoring parameters from /tmp/tmpf7567nk8/model.ckpt-647\n",
      "INFO:tensorflow:Finished evaluation at 2018-02-19-16:03:51\n",
      "INFO:tensorflow:Saving dict for global step 647: accuracy = 0.99489796, average_loss = 0.19398202, global_step = 647, loss = 1.9392205\n",
      "\n",
      " {'loss': 1.9392205, 'accuracy': 0.99489796, 'average_loss': 0.19398202, 'global_step': 647}\n"
     ]
    }
   ],
   "source": [
    "classifier, y_true, y_pred = stf.classifier_estimator(model_lin=True)"
   ]
  },
  {
   "cell_type": "code",
   "execution_count": 6,
   "metadata": {},
   "outputs": [
    {
     "data": {
      "text/plain": [
       "<tensorflow.python.estimator.canned.linear.LinearClassifier at 0x7fcc26912c50>"
      ]
     },
     "execution_count": 6,
     "metadata": {},
     "output_type": "execute_result"
    }
   ],
   "source": [
    "classifier"
   ]
  },
  {
   "cell_type": "code",
   "execution_count": 7,
   "metadata": {},
   "outputs": [
    {
     "name": "stdout",
     "output_type": "stream",
     "text": [
      "INFO:tensorflow:Restoring parameters from /tmp/tmpf7567nk8/model.ckpt-647\n",
      "Classification Report: \n",
      "              precision    recall  f1-score   support\n",
      "\n",
      "          0       1.00      1.00      1.00       764\n",
      "          1       1.00      1.00      1.00       256\n",
      "          2       0.99      1.00      0.99       515\n",
      "          3       1.00      0.93      0.96        83\n",
      "\n",
      "avg / total       1.00      1.00      1.00      1618\n",
      "\n",
      "Confusion Matrix: \n",
      " [[764   0   0   0]\n",
      " [  0 256   0   0]\n",
      " [  0   0 515   0]\n",
      " [  0   0   6  77]]\n"
     ]
    }
   ],
   "source": [
    "final_pred = [pred['class_ids'][0] for pred in list(y_pred)]\n",
    "StartMod.metrics_report(y_true, final_pred)"
   ]
  },
  {
   "cell_type": "code",
   "execution_count": 8,
   "metadata": {
    "collapsed": true
   },
   "outputs": [],
   "source": [
    "# Predict on new_data 'new_x_true'\n",
    "# pred_input_func = StartModTF.pred_input_fn(test_features=new_x_true, batch_size=len(new_x_true))\n",
    "# y_predict = classifier.predict(input_fn=pred_input_func)"
   ]
  },
  {
   "cell_type": "code",
   "execution_count": 9,
   "metadata": {},
   "outputs": [
    {
     "name": "stdout",
     "output_type": "stream",
     "text": [
      "\n",
      "Hidden_units: [10, 10, 10] \n",
      "\n",
      "Optimizer: Adam \n",
      "\n",
      "Activation_function: sigmoid \n",
      "\n",
      "Learning_Rate: 0.0001 \n",
      "\n",
      "Training_Steps: 5000 \n",
      "\n",
      "Batch_Size: 10 \n",
      "\n",
      "Number_of_epochs: sigmoid \n",
      "\n",
      "Feature_Scaling: True \n",
      "\n"
     ]
    }
   ],
   "source": [
    "# Update parameters \n",
    "new_param={'hidden_units':[10,10,10], 'optimizer':'Adam', 'activation_fn':'sigmoid', 'learning_rate': 0.0001,\n",
    "           'steps':5000, 'batch_size':10, 'num_epochs':10, 'feature_scl':True}\n",
    "stf.update_parameters=new_param\n",
    "stf.info_parameters()"
   ]
  },
  {
   "cell_type": "code",
   "execution_count": 10,
   "metadata": {},
   "outputs": [
    {
     "name": "stderr",
     "output_type": "stream",
     "text": [
      "/usr/lib64/python3.5/site-packages/pandas/core/frame.py:2540: SettingWithCopyWarning: \n",
      "A value is trying to be set on a copy of a slice from a DataFrame.\n",
      "Try using .loc[row_indexer,col_indexer] = value instead\n",
      "\n",
      "See the caveats in the documentation: http://pandas.pydata.org/pandas-docs/stable/indexing.html#indexing-view-versus-copy\n",
      "  self[k1] = value[k2]\n"
     ]
    },
    {
     "name": "stdout",
     "output_type": "stream",
     "text": [
      "INFO:tensorflow:Using default config.\n",
      "WARNING:tensorflow:Using temporary folder as model directory: /tmp/tmpgys5z1bn\n",
      "INFO:tensorflow:Using config: {'_log_step_count_steps': 100, '_keep_checkpoint_max': 5, '_save_summary_steps': 100, '_task_type': 'worker', '_session_config': None, '_save_checkpoints_steps': None, '_model_dir': '/tmp/tmpgys5z1bn', '_service': None, '_tf_random_seed': None, '_task_id': 0, '_save_checkpoints_secs': 600, '_master': '', '_keep_checkpoint_every_n_hours': 10000, '_is_chief': True, '_cluster_spec': <tensorflow.python.training.server_lib.ClusterSpec object at 0x7fcc176b8048>, '_num_ps_replicas': 0, '_num_worker_replicas': 1}\n",
      "INFO:tensorflow:Create CheckpointSaverHook.\n",
      "INFO:tensorflow:Saving checkpoints for 1 into /tmp/tmpgys5z1bn/model.ckpt.\n",
      "INFO:tensorflow:loss = 13.862944, step = 1\n",
      "INFO:tensorflow:global_step/sec: 257.834\n",
      "INFO:tensorflow:loss = 8.062078, step = 101 (0.394 sec)\n",
      "INFO:tensorflow:global_step/sec: 277.019\n",
      "INFO:tensorflow:loss = 4.288229, step = 201 (0.364 sec)\n",
      "INFO:tensorflow:global_step/sec: 534.05\n",
      "INFO:tensorflow:loss = 4.4077997, step = 301 (0.181 sec)\n",
      "INFO:tensorflow:global_step/sec: 216.846\n",
      "INFO:tensorflow:loss = 2.0101604, step = 401 (0.474 sec)\n",
      "INFO:tensorflow:global_step/sec: 287.732\n",
      "INFO:tensorflow:loss = 2.576669, step = 501 (0.333 sec)\n",
      "INFO:tensorflow:global_step/sec: 198.18\n",
      "INFO:tensorflow:loss = 3.8170044, step = 601 (0.511 sec)\n",
      "INFO:tensorflow:global_step/sec: 242.07\n",
      "INFO:tensorflow:loss = 3.3826697, step = 701 (0.410 sec)\n",
      "INFO:tensorflow:global_step/sec: 348.841\n",
      "INFO:tensorflow:loss = 3.8174963, step = 801 (0.298 sec)\n",
      "INFO:tensorflow:global_step/sec: 185.911\n",
      "INFO:tensorflow:loss = 1.7655486, step = 901 (0.542 sec)\n",
      "INFO:tensorflow:global_step/sec: 192.664\n",
      "INFO:tensorflow:loss = 1.2564851, step = 1001 (0.520 sec)\n",
      "INFO:tensorflow:global_step/sec: 401.936\n",
      "INFO:tensorflow:loss = 3.7073395, step = 1101 (0.228 sec)\n",
      "INFO:tensorflow:global_step/sec: 411.828\n",
      "INFO:tensorflow:loss = 2.0722315, step = 1201 (0.246 sec)\n",
      "INFO:tensorflow:global_step/sec: 439.053\n",
      "INFO:tensorflow:loss = 2.2455235, step = 1301 (0.229 sec)\n",
      "INFO:tensorflow:global_step/sec: 372.527\n",
      "INFO:tensorflow:loss = 2.0946426, step = 1401 (0.266 sec)\n",
      "INFO:tensorflow:global_step/sec: 369.243\n",
      "INFO:tensorflow:loss = 2.2746446, step = 1501 (0.277 sec)\n",
      "INFO:tensorflow:global_step/sec: 419.647\n",
      "INFO:tensorflow:loss = 1.8552736, step = 1601 (0.231 sec)\n",
      "INFO:tensorflow:global_step/sec: 449.142\n",
      "INFO:tensorflow:loss = 2.8007178, step = 1701 (0.224 sec)\n",
      "INFO:tensorflow:global_step/sec: 435.39\n",
      "INFO:tensorflow:loss = 1.099203, step = 1801 (0.260 sec)\n",
      "INFO:tensorflow:global_step/sec: 401.805\n",
      "INFO:tensorflow:loss = 1.8501722, step = 1901 (0.231 sec)\n",
      "INFO:tensorflow:global_step/sec: 484.272\n",
      "INFO:tensorflow:loss = 1.2290571, step = 2001 (0.203 sec)\n",
      "INFO:tensorflow:global_step/sec: 322.905\n",
      "INFO:tensorflow:loss = 2.235254, step = 2101 (0.315 sec)\n",
      "INFO:tensorflow:global_step/sec: 328.444\n",
      "INFO:tensorflow:loss = 1.1481873, step = 2201 (0.296 sec)\n",
      "INFO:tensorflow:global_step/sec: 374.778\n",
      "INFO:tensorflow:loss = 1.1051053, step = 2301 (0.260 sec)\n",
      "INFO:tensorflow:global_step/sec: 319.247\n",
      "INFO:tensorflow:loss = 1.3939005, step = 2401 (0.318 sec)\n",
      "INFO:tensorflow:global_step/sec: 490.379\n",
      "INFO:tensorflow:loss = 2.0595517, step = 2501 (0.202 sec)\n",
      "INFO:tensorflow:global_step/sec: 457.035\n",
      "INFO:tensorflow:loss = 0.8336723, step = 2601 (0.224 sec)\n",
      "INFO:tensorflow:global_step/sec: 348.551\n",
      "INFO:tensorflow:loss = 1.2610039, step = 2701 (0.281 sec)\n",
      "INFO:tensorflow:global_step/sec: 414.591\n",
      "INFO:tensorflow:loss = 1.7338431, step = 2801 (0.250 sec)\n",
      "INFO:tensorflow:global_step/sec: 333.778\n",
      "INFO:tensorflow:loss = 1.3047761, step = 2901 (0.291 sec)\n",
      "INFO:tensorflow:global_step/sec: 349.552\n",
      "INFO:tensorflow:loss = 1.2607696, step = 3001 (0.286 sec)\n",
      "INFO:tensorflow:global_step/sec: 358.995\n",
      "INFO:tensorflow:loss = 1.0415531, step = 3101 (0.276 sec)\n",
      "INFO:tensorflow:global_step/sec: 232.602\n",
      "INFO:tensorflow:loss = 1.2025125, step = 3201 (0.437 sec)\n",
      "INFO:tensorflow:global_step/sec: 360.98\n",
      "INFO:tensorflow:loss = 1.0387404, step = 3301 (0.275 sec)\n",
      "INFO:tensorflow:global_step/sec: 393.469\n",
      "INFO:tensorflow:loss = 1.218837, step = 3401 (0.254 sec)\n",
      "INFO:tensorflow:global_step/sec: 490.609\n",
      "INFO:tensorflow:loss = 0.7139394, step = 3501 (0.202 sec)\n",
      "INFO:tensorflow:global_step/sec: 471.039\n",
      "INFO:tensorflow:loss = 1.488394, step = 3601 (0.217 sec)\n",
      "INFO:tensorflow:global_step/sec: 266.797\n",
      "INFO:tensorflow:loss = 1.3079554, step = 3701 (0.381 sec)\n",
      "INFO:tensorflow:global_step/sec: 319.879\n",
      "INFO:tensorflow:loss = 2.1351244, step = 3801 (0.299 sec)\n",
      "INFO:tensorflow:global_step/sec: 385.996\n",
      "INFO:tensorflow:loss = 1.431826, step = 3901 (0.267 sec)\n",
      "INFO:tensorflow:global_step/sec: 372.222\n",
      "INFO:tensorflow:loss = 1.4037554, step = 4001 (0.277 sec)\n",
      "INFO:tensorflow:global_step/sec: 441.208\n",
      "INFO:tensorflow:loss = 1.2386533, step = 4101 (0.211 sec)\n",
      "INFO:tensorflow:global_step/sec: 206.469\n",
      "INFO:tensorflow:loss = 0.9138205, step = 4201 (0.488 sec)\n",
      "INFO:tensorflow:global_step/sec: 260.032\n",
      "INFO:tensorflow:loss = 0.9297847, step = 4301 (0.384 sec)\n",
      "INFO:tensorflow:global_step/sec: 287.45\n",
      "INFO:tensorflow:loss = 0.8927097, step = 4401 (0.347 sec)\n",
      "INFO:tensorflow:global_step/sec: 397.823\n",
      "INFO:tensorflow:loss = 1.2125714, step = 4501 (0.249 sec)\n",
      "INFO:tensorflow:global_step/sec: 407.36\n",
      "INFO:tensorflow:loss = 0.94466245, step = 4601 (0.251 sec)\n",
      "INFO:tensorflow:global_step/sec: 432.084\n",
      "INFO:tensorflow:loss = 0.52814245, step = 4701 (0.226 sec)\n",
      "INFO:tensorflow:global_step/sec: 462.593\n",
      "INFO:tensorflow:loss = 0.757046, step = 4801 (0.220 sec)\n",
      "INFO:tensorflow:global_step/sec: 294.51\n",
      "INFO:tensorflow:loss = 1.0975544, step = 4901 (0.341 sec)\n",
      "INFO:tensorflow:Saving checkpoints for 5000 into /tmp/tmpgys5z1bn/model.ckpt.\n",
      "INFO:tensorflow:Loss for final step: 1.031977.\n",
      "INFO:tensorflow:Starting evaluation at 2018-02-19-16:04:09\n",
      "INFO:tensorflow:Restoring parameters from /tmp/tmpgys5z1bn/model.ckpt-5000\n",
      "INFO:tensorflow:Finished evaluation at 2018-02-19-16:04:25\n",
      "INFO:tensorflow:Saving dict for global step 5000: accuracy = 0.9998454, average_loss = 0.09264161, global_step = 5000, loss = 0.92641604\n",
      "\n",
      " {'loss': 0.92641604, 'accuracy': 0.9998454, 'average_loss': 0.09264161, 'global_step': 5000}\n"
     ]
    }
   ],
   "source": [
    "# and train model again\n",
    "classifier, y_true, y_pred = stf.classifier_estimator(model_lin=True)"
   ]
  },
  {
   "cell_type": "markdown",
   "metadata": {},
   "source": [
    "### By changing (increasing parameters) the accuracy has been improved from 0.99489796 to 0.9998454"
   ]
  },
  {
   "cell_type": "code",
   "execution_count": null,
   "metadata": {
    "collapsed": true
   },
   "outputs": [],
   "source": []
  }
 ],
 "metadata": {
  "kernelspec": {
   "display_name": "Python 3",
   "language": "python",
   "name": "python3"
  },
  "language_info": {
   "codemirror_mode": {
    "name": "ipython",
    "version": 3
   },
   "file_extension": ".py",
   "mimetype": "text/x-python",
   "name": "python",
   "nbconvert_exporter": "python",
   "pygments_lexer": "ipython3",
   "version": "3.5.4"
  }
 },
 "nbformat": 4,
 "nbformat_minor": 2
}
