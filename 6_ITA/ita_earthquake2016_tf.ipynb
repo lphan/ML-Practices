{
 "cells": [
  {
   "cell_type": "code",
   "execution_count": 1,
   "metadata": {},
   "outputs": [
    {
     "name": "stderr",
     "output_type": "stream",
     "text": [
      "Using TensorFlow backend.\n"
     ]
    }
   ],
   "source": [
    "from startmodtf import *"
   ]
  },
  {
   "cell_type": "code",
   "execution_count": 2,
   "metadata": {},
   "outputs": [
    {
     "data": {
      "text/html": [
       "<div>\n",
       "<style scoped>\n",
       "    .dataframe tbody tr th:only-of-type {\n",
       "        vertical-align: middle;\n",
       "    }\n",
       "\n",
       "    .dataframe tbody tr th {\n",
       "        vertical-align: top;\n",
       "    }\n",
       "\n",
       "    .dataframe thead th {\n",
       "        text-align: right;\n",
       "    }\n",
       "</style>\n",
       "<table border=\"1\" class=\"dataframe\">\n",
       "  <thead>\n",
       "    <tr style=\"text-align: right;\">\n",
       "      <th></th>\n",
       "      <th>Latitude</th>\n",
       "      <th>Longitude</th>\n",
       "      <th>Depth/Km</th>\n",
       "      <th>Magnitude</th>\n",
       "      <th>Clusters</th>\n",
       "    </tr>\n",
       "  </thead>\n",
       "  <tbody>\n",
       "    <tr>\n",
       "      <th>0</th>\n",
       "      <td>42.6983</td>\n",
       "      <td>13.2335</td>\n",
       "      <td>8.1</td>\n",
       "      <td>6.0</td>\n",
       "      <td>3</td>\n",
       "    </tr>\n",
       "    <tr>\n",
       "      <th>1</th>\n",
       "      <td>42.7123</td>\n",
       "      <td>13.2533</td>\n",
       "      <td>9.0</td>\n",
       "      <td>4.5</td>\n",
       "      <td>3</td>\n",
       "    </tr>\n",
       "    <tr>\n",
       "      <th>2</th>\n",
       "      <td>42.7647</td>\n",
       "      <td>13.1723</td>\n",
       "      <td>9.7</td>\n",
       "      <td>3.8</td>\n",
       "      <td>3</td>\n",
       "    </tr>\n",
       "    <tr>\n",
       "      <th>3</th>\n",
       "      <td>42.7803</td>\n",
       "      <td>13.1683</td>\n",
       "      <td>9.7</td>\n",
       "      <td>3.9</td>\n",
       "      <td>3</td>\n",
       "    </tr>\n",
       "    <tr>\n",
       "      <th>4</th>\n",
       "      <td>42.7798</td>\n",
       "      <td>13.1575</td>\n",
       "      <td>9.7</td>\n",
       "      <td>3.6</td>\n",
       "      <td>3</td>\n",
       "    </tr>\n",
       "  </tbody>\n",
       "</table>\n",
       "</div>"
      ],
      "text/plain": [
       "   Latitude  Longitude  Depth/Km  Magnitude  Clusters\n",
       "0   42.6983    13.2335       8.1        6.0         3\n",
       "1   42.7123    13.2533       9.0        4.5         3\n",
       "2   42.7647    13.1723       9.7        3.8         3\n",
       "3   42.7803    13.1683       9.7        3.9         3\n",
       "4   42.7798    13.1575       9.7        3.6         3"
      ]
     },
     "execution_count": 2,
     "metadata": {},
     "output_type": "execute_result"
    }
   ],
   "source": [
    "# test_data = StartML.convert_time_series(test_data, 'Time')\n",
    "data = nonan_data.drop(['Time'], axis=1)\n",
    "data.head()"
   ]
  },
  {
   "cell_type": "code",
   "execution_count": 3,
   "metadata": {},
   "outputs": [
    {
     "data": {
      "text/plain": [
       "<startmodtf.StartModTF at 0x7fae6867cf98>"
      ]
     },
     "execution_count": 3,
     "metadata": {},
     "output_type": "execute_result"
    }
   ],
   "source": [
    "stf = StartModTF(data, label='Clusters')\n",
    "stf"
   ]
  },
  {
   "cell_type": "code",
   "execution_count": 4,
   "metadata": {},
   "outputs": [
    {
     "name": "stdout",
     "output_type": "stream",
     "text": [
      "\n",
      "Hidden_units: [10, 10] \n",
      "\n",
      "Optimizer: Adagrad \n",
      "\n",
      "Activation_function: relu \n",
      "\n",
      "Learning_Rate: 0.001 \n",
      "\n",
      "Training_Steps: 1000 \n",
      "\n",
      "Batch_Size: 10 \n",
      "\n",
      "Number_of_epochs: relu \n",
      "\n",
      "Feature_Scaling: False \n",
      "\n"
     ]
    }
   ],
   "source": [
    "stf.info_parameters()"
   ]
  },
  {
   "cell_type": "code",
   "execution_count": 5,
   "metadata": {
    "scrolled": false
   },
   "outputs": [
    {
     "name": "stdout",
     "output_type": "stream",
     "text": [
      "INFO:tensorflow:Using default config.\n",
      "WARNING:tensorflow:Using temporary folder as model directory: /tmp/tmp0xto0nys\n",
      "INFO:tensorflow:Using config: {'_task_id': 0, '_is_chief': True, '_service': None, '_master': '', '_save_summary_steps': 100, '_cluster_spec': <tensorflow.python.training.server_lib.ClusterSpec object at 0x7fae68634cc0>, '_save_checkpoints_secs': 600, '_session_config': None, '_task_type': 'worker', '_keep_checkpoint_max': 5, '_keep_checkpoint_every_n_hours': 10000, '_log_step_count_steps': 100, '_save_checkpoints_steps': None, '_model_dir': '/tmp/tmp0xto0nys', '_num_ps_replicas': 0, '_tf_random_seed': None, '_num_worker_replicas': 1}\n",
      "INFO:tensorflow:Create CheckpointSaverHook.\n",
      "INFO:tensorflow:Saving checkpoints for 1 into /tmp/tmp0xto0nys/model.ckpt.\n",
      "INFO:tensorflow:loss = 13.862944, step = 1\n",
      "INFO:tensorflow:global_step/sec: 370.692\n",
      "INFO:tensorflow:loss = 7.829073, step = 101 (0.302 sec)\n",
      "INFO:tensorflow:global_step/sec: 395.029\n",
      "INFO:tensorflow:loss = 2.171271, step = 201 (0.228 sec)\n",
      "INFO:tensorflow:global_step/sec: 224.411\n",
      "INFO:tensorflow:loss = 2.8495657, step = 301 (0.440 sec)\n",
      "INFO:tensorflow:global_step/sec: 461.721\n",
      "INFO:tensorflow:loss = 1.9690568, step = 401 (0.220 sec)\n",
      "INFO:tensorflow:global_step/sec: 485.025\n",
      "INFO:tensorflow:loss = 1.9634172, step = 501 (0.203 sec)\n",
      "INFO:tensorflow:global_step/sec: 510.625\n",
      "INFO:tensorflow:loss = 5.0436063, step = 601 (0.196 sec)\n",
      "INFO:tensorflow:Saving checkpoints for 647 into /tmp/tmp0xto0nys/model.ckpt.\n",
      "INFO:tensorflow:Loss for final step: 2.291329.\n",
      "INFO:tensorflow:Starting evaluation at 2018-02-20-19:24:13\n",
      "INFO:tensorflow:Restoring parameters from /tmp/tmp0xto0nys/model.ckpt-647\n",
      "INFO:tensorflow:Finished evaluation at 2018-02-20-19:24:14\n",
      "INFO:tensorflow:Saving dict for global step 647: accuracy = 0.9591837, average_loss = 0.20876764, global_step = 647, loss = 2.0870311\n",
      "\n",
      " {'average_loss': 0.20876764, 'accuracy': 0.9591837, 'global_step': 647, 'loss': 2.0870311}\n"
     ]
    }
   ],
   "source": [
    "classifier, y_true, y_pred = stf.classifier_estimator(model_lin=True)"
   ]
  },
  {
   "cell_type": "code",
   "execution_count": 6,
   "metadata": {},
   "outputs": [
    {
     "data": {
      "text/plain": [
       "<tensorflow.python.estimator.canned.linear.LinearClassifier at 0x7fae68634048>"
      ]
     },
     "execution_count": 6,
     "metadata": {},
     "output_type": "execute_result"
    }
   ],
   "source": [
    "classifier"
   ]
  },
  {
   "cell_type": "code",
   "execution_count": 7,
   "metadata": {},
   "outputs": [
    {
     "name": "stdout",
     "output_type": "stream",
     "text": [
      "INFO:tensorflow:Restoring parameters from /tmp/tmp0xto0nys/model.ckpt-647\n",
      "Classification Report: \n",
      "              precision    recall  f1-score   support\n",
      "\n",
      "          0       1.00      1.00      1.00       764\n",
      "          1       1.00      1.00      1.00       256\n",
      "          2       0.90      1.00      0.95       515\n",
      "          3       1.00      0.30      0.46        83\n",
      "\n",
      "avg / total       0.97      0.96      0.95      1618\n",
      "\n",
      "Confusion Matrix: \n",
      " [[764   0   0   0]\n",
      " [  0 255   1   0]\n",
      " [  0   0 515   0]\n",
      " [  0   0  58  25]]\n"
     ]
    }
   ],
   "source": [
    "final_pred = [pred['class_ids'][0] for pred in list(y_pred)]\n",
    "StartMod.metrics_report(y_true, final_pred)"
   ]
  },
  {
   "cell_type": "code",
   "execution_count": 8,
   "metadata": {
    "collapsed": true
   },
   "outputs": [],
   "source": [
    "# Predict on new_data 'new_x_true'\n",
    "# pred_input_func = StartModTF.pred_input_fn(test_features=new_x_true, batch_size=len(new_x_true))\n",
    "# y_predict = classifier.predict(input_fn=pred_input_func)"
   ]
  },
  {
   "cell_type": "code",
   "execution_count": 9,
   "metadata": {},
   "outputs": [
    {
     "name": "stdout",
     "output_type": "stream",
     "text": [
      "\n",
      "Hidden_units: [10, 10, 10] \n",
      "\n",
      "Optimizer: Adam \n",
      "\n",
      "Activation_function: sigmoid \n",
      "\n",
      "Learning_Rate: 0.0001 \n",
      "\n",
      "Training_Steps: 5000 \n",
      "\n",
      "Batch_Size: 10 \n",
      "\n",
      "Number_of_epochs: sigmoid \n",
      "\n",
      "Feature_Scaling: True \n",
      "\n"
     ]
    }
   ],
   "source": [
    "# Update parameters \n",
    "new_param={'hidden_units':[10,10,10], 'optimizer':'Adam', 'activation_fn':'sigmoid', 'learning_rate': 0.0001,\n",
    "           'steps':5000, 'batch_size':10, 'num_epochs':10, 'feature_scl':True}\n",
    "stf.update_parameters=new_param\n",
    "stf.info_parameters()"
   ]
  },
  {
   "cell_type": "code",
   "execution_count": 10,
   "metadata": {},
   "outputs": [
    {
     "name": "stderr",
     "output_type": "stream",
     "text": [
      "/usr/lib64/python3.5/site-packages/pandas/core/frame.py:2540: SettingWithCopyWarning: \n",
      "A value is trying to be set on a copy of a slice from a DataFrame.\n",
      "Try using .loc[row_indexer,col_indexer] = value instead\n",
      "\n",
      "See the caveats in the documentation: http://pandas.pydata.org/pandas-docs/stable/indexing.html#indexing-view-versus-copy\n",
      "  self[k1] = value[k2]\n"
     ]
    },
    {
     "name": "stdout",
     "output_type": "stream",
     "text": [
      "INFO:tensorflow:Using default config.\n",
      "WARNING:tensorflow:Using temporary folder as model directory: /tmp/tmpgge9dvfo\n",
      "INFO:tensorflow:Using config: {'_task_id': 0, '_is_chief': True, '_service': None, '_master': '', '_save_summary_steps': 100, '_cluster_spec': <tensorflow.python.training.server_lib.ClusterSpec object at 0x7fae68368550>, '_save_checkpoints_secs': 600, '_session_config': None, '_task_type': 'worker', '_keep_checkpoint_max': 5, '_keep_checkpoint_every_n_hours': 10000, '_log_step_count_steps': 100, '_save_checkpoints_steps': None, '_model_dir': '/tmp/tmpgge9dvfo', '_num_ps_replicas': 0, '_tf_random_seed': None, '_num_worker_replicas': 1}\n",
      "INFO:tensorflow:Create CheckpointSaverHook.\n",
      "INFO:tensorflow:Saving checkpoints for 1 into /tmp/tmpgge9dvfo/model.ckpt.\n",
      "INFO:tensorflow:loss = 13.862944, step = 1\n",
      "INFO:tensorflow:global_step/sec: 254.151\n",
      "INFO:tensorflow:loss = 4.8848677, step = 101 (0.398 sec)\n",
      "INFO:tensorflow:global_step/sec: 408.749\n",
      "INFO:tensorflow:loss = 4.7366977, step = 201 (0.262 sec)\n",
      "INFO:tensorflow:global_step/sec: 373.701\n",
      "INFO:tensorflow:loss = 4.6064253, step = 301 (0.253 sec)\n",
      "INFO:tensorflow:global_step/sec: 433.251\n",
      "INFO:tensorflow:loss = 3.54044, step = 401 (0.232 sec)\n",
      "INFO:tensorflow:global_step/sec: 287.397\n",
      "INFO:tensorflow:loss = 3.1480513, step = 501 (0.361 sec)\n",
      "INFO:tensorflow:global_step/sec: 387.432\n",
      "INFO:tensorflow:loss = 3.3675401, step = 601 (0.254 sec)\n",
      "INFO:tensorflow:global_step/sec: 443.383\n",
      "INFO:tensorflow:loss = 3.1709743, step = 701 (0.215 sec)\n",
      "INFO:tensorflow:global_step/sec: 450.524\n",
      "INFO:tensorflow:loss = 2.8587325, step = 801 (0.222 sec)\n",
      "INFO:tensorflow:global_step/sec: 451.034\n",
      "INFO:tensorflow:loss = 2.898033, step = 901 (0.229 sec)\n",
      "INFO:tensorflow:global_step/sec: 402.265\n",
      "INFO:tensorflow:loss = 1.1426332, step = 1001 (0.250 sec)\n",
      "INFO:tensorflow:global_step/sec: 450.178\n",
      "INFO:tensorflow:loss = 2.7067428, step = 1101 (0.207 sec)\n",
      "INFO:tensorflow:global_step/sec: 466.756\n",
      "INFO:tensorflow:loss = 3.0513282, step = 1201 (0.235 sec)\n",
      "INFO:tensorflow:global_step/sec: 370.62\n",
      "INFO:tensorflow:loss = 1.8572462, step = 1301 (0.251 sec)\n",
      "INFO:tensorflow:global_step/sec: 481.592\n",
      "INFO:tensorflow:loss = 2.1542788, step = 1401 (0.225 sec)\n",
      "INFO:tensorflow:global_step/sec: 237.057\n",
      "INFO:tensorflow:loss = 1.6371858, step = 1501 (0.433 sec)\n",
      "INFO:tensorflow:global_step/sec: 395.089\n",
      "INFO:tensorflow:loss = 0.8813485, step = 1601 (0.228 sec)\n",
      "INFO:tensorflow:global_step/sec: 440.9\n",
      "INFO:tensorflow:loss = 1.6467454, step = 1701 (0.221 sec)\n",
      "INFO:tensorflow:global_step/sec: 486.988\n",
      "INFO:tensorflow:loss = 1.9816263, step = 1801 (0.213 sec)\n",
      "INFO:tensorflow:global_step/sec: 366.618\n",
      "INFO:tensorflow:loss = 1.2775619, step = 1901 (0.267 sec)\n",
      "INFO:tensorflow:global_step/sec: 398.263\n",
      "INFO:tensorflow:loss = 1.6770381, step = 2001 (0.256 sec)\n",
      "INFO:tensorflow:global_step/sec: 424.214\n",
      "INFO:tensorflow:loss = 0.9395244, step = 2101 (0.245 sec)\n",
      "INFO:tensorflow:global_step/sec: 476.469\n",
      "INFO:tensorflow:loss = 1.0975938, step = 2201 (0.195 sec)\n",
      "INFO:tensorflow:global_step/sec: 330.544\n",
      "INFO:tensorflow:loss = 1.6777422, step = 2301 (0.311 sec)\n",
      "INFO:tensorflow:global_step/sec: 255.88\n",
      "INFO:tensorflow:loss = 0.94683754, step = 2401 (0.389 sec)\n",
      "INFO:tensorflow:global_step/sec: 424.642\n",
      "INFO:tensorflow:loss = 0.70477235, step = 2501 (0.230 sec)\n",
      "INFO:tensorflow:global_step/sec: 431.771\n",
      "INFO:tensorflow:loss = 1.1336514, step = 2601 (0.234 sec)\n",
      "INFO:tensorflow:global_step/sec: 428.068\n",
      "INFO:tensorflow:loss = 0.68577397, step = 2701 (0.236 sec)\n",
      "INFO:tensorflow:global_step/sec: 492.342\n",
      "INFO:tensorflow:loss = 0.74340576, step = 2801 (0.198 sec)\n",
      "INFO:tensorflow:global_step/sec: 388.696\n",
      "INFO:tensorflow:loss = 1.8029643, step = 2901 (0.271 sec)\n",
      "INFO:tensorflow:global_step/sec: 422.184\n",
      "INFO:tensorflow:loss = 2.2093508, step = 3001 (0.229 sec)\n",
      "INFO:tensorflow:global_step/sec: 269.903\n",
      "INFO:tensorflow:loss = 0.45072, step = 3101 (0.367 sec)\n",
      "INFO:tensorflow:global_step/sec: 472.147\n",
      "INFO:tensorflow:loss = 1.4528728, step = 3201 (0.213 sec)\n",
      "INFO:tensorflow:global_step/sec: 480.768\n",
      "INFO:tensorflow:loss = 1.4543341, step = 3301 (0.204 sec)\n",
      "INFO:tensorflow:global_step/sec: 477.963\n",
      "INFO:tensorflow:loss = 1.5802531, step = 3401 (0.220 sec)\n",
      "INFO:tensorflow:global_step/sec: 415.117\n",
      "INFO:tensorflow:loss = 1.224384, step = 3501 (0.233 sec)\n",
      "INFO:tensorflow:global_step/sec: 232.682\n",
      "INFO:tensorflow:loss = 0.87814385, step = 3601 (0.432 sec)\n",
      "INFO:tensorflow:global_step/sec: 383.637\n",
      "INFO:tensorflow:loss = 0.5917716, step = 3701 (0.270 sec)\n",
      "INFO:tensorflow:global_step/sec: 415.765\n",
      "INFO:tensorflow:loss = 0.8284304, step = 3801 (0.232 sec)\n",
      "INFO:tensorflow:global_step/sec: 426.022\n",
      "INFO:tensorflow:loss = 0.7834712, step = 3901 (0.239 sec)\n",
      "INFO:tensorflow:global_step/sec: 424.45\n",
      "INFO:tensorflow:loss = 1.480941, step = 4001 (0.234 sec)\n",
      "INFO:tensorflow:global_step/sec: 455.365\n",
      "INFO:tensorflow:loss = 1.2417386, step = 4101 (0.211 sec)\n",
      "INFO:tensorflow:global_step/sec: 511.941\n",
      "INFO:tensorflow:loss = 0.95320565, step = 4201 (0.210 sec)\n",
      "INFO:tensorflow:global_step/sec: 417.571\n",
      "INFO:tensorflow:loss = 0.9019646, step = 4301 (0.231 sec)\n",
      "INFO:tensorflow:global_step/sec: 415.597\n",
      "INFO:tensorflow:loss = 1.2429008, step = 4401 (0.248 sec)\n",
      "INFO:tensorflow:global_step/sec: 210.948\n",
      "INFO:tensorflow:loss = 0.95409715, step = 4501 (0.463 sec)\n",
      "INFO:tensorflow:global_step/sec: 458.976\n",
      "INFO:tensorflow:loss = 0.7753151, step = 4601 (0.216 sec)\n",
      "INFO:tensorflow:global_step/sec: 448.884\n",
      "INFO:tensorflow:loss = 1.4100405, step = 4701 (0.232 sec)\n",
      "INFO:tensorflow:global_step/sec: 405.078\n",
      "INFO:tensorflow:loss = 0.7404591, step = 4801 (0.243 sec)\n",
      "INFO:tensorflow:global_step/sec: 493.207\n",
      "INFO:tensorflow:loss = 1.0843841, step = 4901 (0.198 sec)\n",
      "INFO:tensorflow:Saving checkpoints for 5000 into /tmp/tmpgge9dvfo/model.ckpt.\n",
      "INFO:tensorflow:Loss for final step: 0.4759305.\n",
      "INFO:tensorflow:Starting evaluation at 2018-02-20-19:25:06\n",
      "INFO:tensorflow:Restoring parameters from /tmp/tmpgge9dvfo/model.ckpt-5000\n",
      "INFO:tensorflow:Finished evaluation at 2018-02-20-19:25:20\n",
      "INFO:tensorflow:Saving dict for global step 5000: accuracy = 0.9998454, average_loss = 0.09217399, global_step = 5000, loss = 0.92173994\n",
      "\n",
      " {'average_loss': 0.09217399, 'accuracy': 0.9998454, 'global_step': 5000, 'loss': 0.92173994}\n"
     ]
    }
   ],
   "source": [
    "# and train model again\n",
    "classifier, y_true, y_pred = stf.classifier_estimator(model_lin=True)"
   ]
  },
  {
   "cell_type": "markdown",
   "metadata": {},
   "source": [
    "### By changing (increasing parameters) the accuracy has been improved from 0.9591837 to 0.9998454"
   ]
  },
  {
   "cell_type": "code",
   "execution_count": null,
   "metadata": {
    "collapsed": true
   },
   "outputs": [],
   "source": []
  }
 ],
 "metadata": {
  "kernelspec": {
   "display_name": "Python 3",
   "language": "python",
   "name": "python3"
  },
  "language_info": {
   "codemirror_mode": {
    "name": "ipython",
    "version": 3
   },
   "file_extension": ".py",
   "mimetype": "text/x-python",
   "name": "python",
   "nbconvert_exporter": "python",
   "pygments_lexer": "ipython3",
   "version": "3.5.4"
  }
 },
 "nbformat": 4,
 "nbformat_minor": 2
}
