{
 "cells": [
  {
   "cell_type": "code",
   "execution_count": 1,
   "metadata": {},
   "outputs": [
    {
     "name": "stderr",
     "output_type": "stream",
     "text": [
      "Using TensorFlow backend.\n"
     ]
    },
    {
     "name": "stdout",
     "output_type": "stream",
     "text": [
      "local_kwargs {'data_path_3': '', 'nan_mean': True, 'drop_obj_col': False, 'data_path_2': '6_ITA/data/clustered_italy_earthquakes_from_2016-08-24_to_2016-11-30.csv', 'nan_drop_col': False, 'nan_mean_neighbors': False, 'data_path_1': '6_ITA/data/italy_earthquakes_from_2016-08-24_to_2016-11-30.csv', 'nan_zero': False, 'nan_drop_row': False}\n"
     ]
    }
   ],
   "source": [
    "from Starts.startmodtf import *"
   ]
  },
  {
   "cell_type": "code",
   "execution_count": 2,
   "metadata": {},
   "outputs": [
    {
     "data": {
      "text/html": [
       "<div>\n",
       "<style scoped>\n",
       "    .dataframe tbody tr th:only-of-type {\n",
       "        vertical-align: middle;\n",
       "    }\n",
       "\n",
       "    .dataframe tbody tr th {\n",
       "        vertical-align: top;\n",
       "    }\n",
       "\n",
       "    .dataframe thead th {\n",
       "        text-align: right;\n",
       "    }\n",
       "</style>\n",
       "<table border=\"1\" class=\"dataframe\">\n",
       "  <thead>\n",
       "    <tr style=\"text-align: right;\">\n",
       "      <th></th>\n",
       "      <th>Latitude</th>\n",
       "      <th>Longitude</th>\n",
       "      <th>Depth/Km</th>\n",
       "      <th>Magnitude</th>\n",
       "      <th>Clusters</th>\n",
       "    </tr>\n",
       "  </thead>\n",
       "  <tbody>\n",
       "    <tr>\n",
       "      <th>0</th>\n",
       "      <td>42.6983</td>\n",
       "      <td>13.2335</td>\n",
       "      <td>8.1</td>\n",
       "      <td>6.0</td>\n",
       "      <td>3</td>\n",
       "    </tr>\n",
       "    <tr>\n",
       "      <th>1</th>\n",
       "      <td>42.7123</td>\n",
       "      <td>13.2533</td>\n",
       "      <td>9.0</td>\n",
       "      <td>4.5</td>\n",
       "      <td>3</td>\n",
       "    </tr>\n",
       "    <tr>\n",
       "      <th>2</th>\n",
       "      <td>42.7647</td>\n",
       "      <td>13.1723</td>\n",
       "      <td>9.7</td>\n",
       "      <td>3.8</td>\n",
       "      <td>3</td>\n",
       "    </tr>\n",
       "    <tr>\n",
       "      <th>3</th>\n",
       "      <td>42.7803</td>\n",
       "      <td>13.1683</td>\n",
       "      <td>9.7</td>\n",
       "      <td>3.9</td>\n",
       "      <td>3</td>\n",
       "    </tr>\n",
       "    <tr>\n",
       "      <th>4</th>\n",
       "      <td>42.7798</td>\n",
       "      <td>13.1575</td>\n",
       "      <td>9.7</td>\n",
       "      <td>3.6</td>\n",
       "      <td>3</td>\n",
       "    </tr>\n",
       "  </tbody>\n",
       "</table>\n",
       "</div>"
      ],
      "text/plain": [
       "   Latitude  Longitude  Depth/Km  Magnitude  Clusters\n",
       "0   42.6983    13.2335       8.1        6.0         3\n",
       "1   42.7123    13.2533       9.0        4.5         3\n",
       "2   42.7647    13.1723       9.7        3.8         3\n",
       "3   42.7803    13.1683       9.7        3.9         3\n",
       "4   42.7798    13.1575       9.7        3.6         3"
      ]
     },
     "execution_count": 2,
     "metadata": {},
     "output_type": "execute_result"
    }
   ],
   "source": [
    "# test_data = StartML.convert_time_series(test_data, 'Time')\n",
    "data = nonan_data.drop(['Time'], axis=1)\n",
    "data.head()"
   ]
  },
  {
   "cell_type": "code",
   "execution_count": 3,
   "metadata": {},
   "outputs": [
    {
     "data": {
      "text/plain": [
       "<Starts.startmodtf.StartModTF at 0x7f0e46fcee10>"
      ]
     },
     "execution_count": 3,
     "metadata": {},
     "output_type": "execute_result"
    }
   ],
   "source": [
    "stf = StartModTF(data, label='Clusters')\n",
    "stf"
   ]
  },
  {
   "cell_type": "code",
   "execution_count": 4,
   "metadata": {},
   "outputs": [
    {
     "name": "stdout",
     "output_type": "stream",
     "text": [
      "\n",
      "Hidden_units: [10, 10] \n",
      "\n",
      "Optimizer: Adagrad \n",
      "\n",
      "Activation_function: relu \n",
      "\n",
      "Learning_Rate: 0.001 \n",
      "\n",
      "Training_Steps: 1000 \n",
      "\n",
      "Batch_Size: 10 \n",
      "\n",
      "Number_of_epochs: relu \n",
      "\n",
      "Feature_Scaling: False \n",
      "\n"
     ]
    }
   ],
   "source": [
    "stf.info_parameters()"
   ]
  },
  {
   "cell_type": "code",
   "execution_count": 5,
   "metadata": {
    "scrolled": false
   },
   "outputs": [
    {
     "name": "stdout",
     "output_type": "stream",
     "text": [
      "INFO:tensorflow:Using default config.\n",
      "WARNING:tensorflow:Using temporary folder as model directory: /tmp/tmpo6dos2yd\n",
      "INFO:tensorflow:Using config: {'_session_config': None, '_keep_checkpoint_every_n_hours': 10000, '_service': None, '_save_checkpoints_secs': 600, '_num_ps_replicas': 0, '_log_step_count_steps': 100, '_save_checkpoints_steps': None, '_num_worker_replicas': 1, '_task_id': 0, '_tf_random_seed': None, '_master': '', '_keep_checkpoint_max': 5, '_is_chief': True, '_model_dir': '/tmp/tmpo6dos2yd', '_task_type': 'worker', '_cluster_spec': <tensorflow.python.training.server_lib.ClusterSpec object at 0x7f0e46f8f240>, '_save_summary_steps': 100}\n",
      "INFO:tensorflow:Create CheckpointSaverHook.\n",
      "INFO:tensorflow:Saving checkpoints for 1 into /tmp/tmpo6dos2yd/model.ckpt.\n",
      "INFO:tensorflow:loss = 13.862944, step = 1\n",
      "INFO:tensorflow:global_step/sec: 230.583\n",
      "INFO:tensorflow:loss = 5.3717604, step = 101 (0.437 sec)\n",
      "INFO:tensorflow:global_step/sec: 450.799\n",
      "INFO:tensorflow:loss = 4.3659916, step = 201 (0.219 sec)\n",
      "INFO:tensorflow:global_step/sec: 481.699\n",
      "INFO:tensorflow:loss = 2.0306695, step = 301 (0.212 sec)\n",
      "INFO:tensorflow:global_step/sec: 231.942\n",
      "INFO:tensorflow:loss = 2.4783604, step = 401 (0.433 sec)\n",
      "INFO:tensorflow:global_step/sec: 267.507\n",
      "INFO:tensorflow:loss = 2.1648889, step = 501 (0.379 sec)\n",
      "INFO:tensorflow:global_step/sec: 218.212\n",
      "INFO:tensorflow:loss = 1.4139596, step = 601 (0.457 sec)\n",
      "INFO:tensorflow:Saving checkpoints for 647 into /tmp/tmpo6dos2yd/model.ckpt.\n",
      "INFO:tensorflow:Loss for final step: 2.3115678.\n",
      "INFO:tensorflow:Starting evaluation at 2018-02-21-15:48:22\n",
      "INFO:tensorflow:Restoring parameters from /tmp/tmpo6dos2yd/model.ckpt-647\n",
      "INFO:tensorflow:Finished evaluation at 2018-02-21-15:48:24\n",
      "INFO:tensorflow:Saving dict for global step 647: accuracy = 0.99799013, average_loss = 0.19367105, global_step = 647, loss = 1.9361118\n",
      "\n",
      " {'accuracy': 0.99799013, 'loss': 1.9361118, 'average_loss': 0.19367105, 'global_step': 647}\n"
     ]
    }
   ],
   "source": [
    "classifier, y_true, y_pred = stf.classifier_estimator(model_lin=True)"
   ]
  },
  {
   "cell_type": "code",
   "execution_count": 6,
   "metadata": {},
   "outputs": [
    {
     "data": {
      "text/plain": [
       "<tensorflow.python.estimator.canned.linear.LinearClassifier at 0x7f0e584c2978>"
      ]
     },
     "execution_count": 6,
     "metadata": {},
     "output_type": "execute_result"
    }
   ],
   "source": [
    "classifier"
   ]
  },
  {
   "cell_type": "code",
   "execution_count": 7,
   "metadata": {},
   "outputs": [
    {
     "name": "stdout",
     "output_type": "stream",
     "text": [
      "INFO:tensorflow:Restoring parameters from /tmp/tmpo6dos2yd/model.ckpt-647\n",
      "Classification Report: \n",
      "              precision    recall  f1-score   support\n",
      "\n",
      "          0       1.00      1.00      1.00       764\n",
      "          1       1.00      1.00      1.00       256\n",
      "          2       0.99      1.00      1.00       515\n",
      "          3       1.00      0.95      0.98        83\n",
      "\n",
      "avg / total       1.00      1.00      1.00      1618\n",
      "\n",
      "Confusion Matrix: \n",
      " [[764   0   0   0]\n",
      " [  0 256   0   0]\n",
      " [  0   0 515   0]\n",
      " [  0   0   4  79]]\n"
     ]
    }
   ],
   "source": [
    "final_pred = [pred['class_ids'][0] for pred in list(y_pred)]\n",
    "StartMod.metrics_report(y_true, final_pred)"
   ]
  },
  {
   "cell_type": "code",
   "execution_count": 8,
   "metadata": {
    "collapsed": true
   },
   "outputs": [],
   "source": [
    "# Predict on new_data 'new_x_true'\n",
    "# pred_input_func = StartModTF.pred_input_fn(test_features=new_x_true, batch_size=len(new_x_true))\n",
    "# y_predict = classifier.predict(input_fn=pred_input_func)"
   ]
  },
  {
   "cell_type": "code",
   "execution_count": 9,
   "metadata": {},
   "outputs": [
    {
     "name": "stdout",
     "output_type": "stream",
     "text": [
      "\n",
      "Hidden_units: [10, 10, 10] \n",
      "\n",
      "Optimizer: Adam \n",
      "\n",
      "Activation_function: sigmoid \n",
      "\n",
      "Learning_Rate: 0.0001 \n",
      "\n",
      "Training_Steps: 5000 \n",
      "\n",
      "Batch_Size: 10 \n",
      "\n",
      "Number_of_epochs: sigmoid \n",
      "\n",
      "Feature_Scaling: True \n",
      "\n"
     ]
    }
   ],
   "source": [
    "# Update parameters \n",
    "new_param={'hidden_units':[10,10,10], 'optimizer':'Adam', 'activation_fn':'sigmoid', 'learning_rate': 0.0001,\n",
    "           'steps':5000, 'batch_size':10, 'num_epochs':10, 'feature_scl':True}\n",
    "stf.update_parameters=new_param\n",
    "stf.info_parameters()"
   ]
  },
  {
   "cell_type": "code",
   "execution_count": 10,
   "metadata": {},
   "outputs": [
    {
     "name": "stderr",
     "output_type": "stream",
     "text": [
      "/usr/lib64/python3.5/site-packages/pandas/core/frame.py:2540: SettingWithCopyWarning: \n",
      "A value is trying to be set on a copy of a slice from a DataFrame.\n",
      "Try using .loc[row_indexer,col_indexer] = value instead\n",
      "\n",
      "See the caveats in the documentation: http://pandas.pydata.org/pandas-docs/stable/indexing.html#indexing-view-versus-copy\n",
      "  self[k1] = value[k2]\n"
     ]
    },
    {
     "name": "stdout",
     "output_type": "stream",
     "text": [
      "INFO:tensorflow:Using default config.\n",
      "WARNING:tensorflow:Using temporary folder as model directory: /tmp/tmpyk3_b55g\n",
      "INFO:tensorflow:Using config: {'_session_config': None, '_keep_checkpoint_every_n_hours': 10000, '_service': None, '_save_checkpoints_secs': 600, '_num_ps_replicas': 0, '_log_step_count_steps': 100, '_save_checkpoints_steps': None, '_num_worker_replicas': 1, '_task_id': 0, '_tf_random_seed': None, '_master': '', '_keep_checkpoint_max': 5, '_is_chief': True, '_model_dir': '/tmp/tmpyk3_b55g', '_task_type': 'worker', '_cluster_spec': <tensorflow.python.training.server_lib.ClusterSpec object at 0x7f0e46c9edd8>, '_save_summary_steps': 100}\n",
      "INFO:tensorflow:Create CheckpointSaverHook.\n",
      "INFO:tensorflow:Saving checkpoints for 1 into /tmp/tmpyk3_b55g/model.ckpt.\n",
      "INFO:tensorflow:loss = 13.862944, step = 1\n",
      "INFO:tensorflow:global_step/sec: 453.768\n",
      "INFO:tensorflow:loss = 6.3821273, step = 101 (0.226 sec)\n",
      "INFO:tensorflow:global_step/sec: 456.742\n",
      "INFO:tensorflow:loss = 3.923281, step = 201 (0.215 sec)\n",
      "INFO:tensorflow:global_step/sec: 447\n",
      "INFO:tensorflow:loss = 3.235016, step = 301 (0.227 sec)\n",
      "INFO:tensorflow:global_step/sec: 391.733\n",
      "INFO:tensorflow:loss = 3.1680517, step = 401 (0.253 sec)\n",
      "INFO:tensorflow:global_step/sec: 477.125\n",
      "INFO:tensorflow:loss = 4.573857, step = 501 (0.210 sec)\n",
      "INFO:tensorflow:global_step/sec: 435.137\n",
      "INFO:tensorflow:loss = 3.0282931, step = 601 (0.230 sec)\n",
      "INFO:tensorflow:global_step/sec: 475.653\n",
      "INFO:tensorflow:loss = 5.2247057, step = 701 (0.212 sec)\n",
      "INFO:tensorflow:global_step/sec: 269.13\n",
      "INFO:tensorflow:loss = 3.2093902, step = 801 (0.382 sec)\n",
      "INFO:tensorflow:global_step/sec: 262.775\n",
      "INFO:tensorflow:loss = 2.4072502, step = 901 (0.369 sec)\n",
      "INFO:tensorflow:global_step/sec: 397.278\n",
      "INFO:tensorflow:loss = 2.7824485, step = 1001 (0.255 sec)\n",
      "INFO:tensorflow:global_step/sec: 333.861\n",
      "INFO:tensorflow:loss = 2.0488358, step = 1101 (0.312 sec)\n",
      "INFO:tensorflow:global_step/sec: 354.413\n",
      "INFO:tensorflow:loss = 2.251161, step = 1201 (0.271 sec)\n",
      "INFO:tensorflow:global_step/sec: 423.866\n",
      "INFO:tensorflow:loss = 1.9354393, step = 1301 (0.240 sec)\n",
      "INFO:tensorflow:global_step/sec: 366.818\n",
      "INFO:tensorflow:loss = 1.903538, step = 1401 (0.264 sec)\n",
      "INFO:tensorflow:global_step/sec: 452.205\n",
      "INFO:tensorflow:loss = 2.943754, step = 1501 (0.218 sec)\n",
      "INFO:tensorflow:global_step/sec: 404.612\n",
      "INFO:tensorflow:loss = 1.3714858, step = 1601 (0.259 sec)\n",
      "INFO:tensorflow:global_step/sec: 226.558\n",
      "INFO:tensorflow:loss = 0.5373641, step = 1701 (0.437 sec)\n",
      "INFO:tensorflow:global_step/sec: 219.729\n",
      "INFO:tensorflow:loss = 1.2283655, step = 1801 (0.457 sec)\n",
      "INFO:tensorflow:global_step/sec: 222.272\n",
      "INFO:tensorflow:loss = 2.3787906, step = 1901 (0.470 sec)\n",
      "INFO:tensorflow:global_step/sec: 194.518\n",
      "INFO:tensorflow:loss = 0.835814, step = 2001 (0.487 sec)\n",
      "INFO:tensorflow:global_step/sec: 258.525\n",
      "INFO:tensorflow:loss = 1.2517456, step = 2101 (0.393 sec)\n",
      "INFO:tensorflow:global_step/sec: 199.168\n",
      "INFO:tensorflow:loss = 3.0987937, step = 2201 (0.517 sec)\n",
      "INFO:tensorflow:global_step/sec: 236.808\n",
      "INFO:tensorflow:loss = 0.8033011, step = 2301 (0.407 sec)\n",
      "INFO:tensorflow:global_step/sec: 511.13\n",
      "INFO:tensorflow:loss = 0.9441497, step = 2401 (0.193 sec)\n",
      "INFO:tensorflow:global_step/sec: 444.645\n",
      "INFO:tensorflow:loss = 2.0989723, step = 2501 (0.220 sec)\n",
      "INFO:tensorflow:global_step/sec: 445.502\n",
      "INFO:tensorflow:loss = 1.5515757, step = 2601 (0.233 sec)\n",
      "INFO:tensorflow:global_step/sec: 387.142\n",
      "INFO:tensorflow:loss = 1.9504983, step = 2701 (0.255 sec)\n",
      "INFO:tensorflow:global_step/sec: 406.695\n",
      "INFO:tensorflow:loss = 1.5951825, step = 2801 (0.255 sec)\n",
      "INFO:tensorflow:global_step/sec: 343.33\n",
      "INFO:tensorflow:loss = 1.1800758, step = 2901 (0.280 sec)\n",
      "INFO:tensorflow:global_step/sec: 440.601\n",
      "INFO:tensorflow:loss = 2.2246253, step = 3001 (0.226 sec)\n",
      "INFO:tensorflow:global_step/sec: 289.029\n",
      "INFO:tensorflow:loss = 1.1403967, step = 3101 (0.355 sec)\n",
      "INFO:tensorflow:global_step/sec: 420.732\n",
      "INFO:tensorflow:loss = 1.4263179, step = 3201 (0.229 sec)\n",
      "INFO:tensorflow:global_step/sec: 430.039\n",
      "INFO:tensorflow:loss = 1.0463045, step = 3301 (0.243 sec)\n",
      "INFO:tensorflow:global_step/sec: 386.789\n",
      "INFO:tensorflow:loss = 0.9320463, step = 3401 (0.263 sec)\n",
      "INFO:tensorflow:global_step/sec: 387.318\n",
      "INFO:tensorflow:loss = 1.6662846, step = 3501 (0.244 sec)\n",
      "INFO:tensorflow:global_step/sec: 439.694\n",
      "INFO:tensorflow:loss = 0.6587399, step = 3601 (0.233 sec)\n",
      "INFO:tensorflow:global_step/sec: 364.83\n",
      "INFO:tensorflow:loss = 1.0311464, step = 3701 (0.270 sec)\n",
      "INFO:tensorflow:global_step/sec: 282.976\n",
      "INFO:tensorflow:loss = 1.0385745, step = 3801 (0.358 sec)\n",
      "INFO:tensorflow:global_step/sec: 373.652\n",
      "INFO:tensorflow:loss = 1.1542978, step = 3901 (0.261 sec)\n",
      "INFO:tensorflow:global_step/sec: 388.38\n",
      "INFO:tensorflow:loss = 0.61746, step = 4001 (0.256 sec)\n",
      "INFO:tensorflow:global_step/sec: 524.422\n",
      "INFO:tensorflow:loss = 1.0729487, step = 4101 (0.191 sec)\n",
      "INFO:tensorflow:global_step/sec: 547.284\n",
      "INFO:tensorflow:loss = 1.7582965, step = 4201 (0.188 sec)\n",
      "INFO:tensorflow:global_step/sec: 397.578\n",
      "INFO:tensorflow:loss = 0.52981067, step = 4301 (0.248 sec)\n",
      "INFO:tensorflow:global_step/sec: 402.954\n",
      "INFO:tensorflow:loss = 1.2645305, step = 4401 (0.255 sec)\n",
      "INFO:tensorflow:global_step/sec: 427.403\n",
      "INFO:tensorflow:loss = 0.8534982, step = 4501 (0.225 sec)\n",
      "INFO:tensorflow:global_step/sec: 493.757\n",
      "INFO:tensorflow:loss = 1.3042842, step = 4601 (0.208 sec)\n",
      "INFO:tensorflow:global_step/sec: 504.37\n",
      "INFO:tensorflow:loss = 1.2513133, step = 4701 (0.203 sec)\n",
      "INFO:tensorflow:global_step/sec: 463.192\n",
      "INFO:tensorflow:loss = 0.7071289, step = 4801 (0.205 sec)\n",
      "INFO:tensorflow:global_step/sec: 475.823\n",
      "INFO:tensorflow:loss = 1.0667112, step = 4901 (0.211 sec)\n",
      "INFO:tensorflow:Saving checkpoints for 5000 into /tmp/tmpyk3_b55g/model.ckpt.\n",
      "INFO:tensorflow:Loss for final step: 0.8515514.\n",
      "INFO:tensorflow:Starting evaluation at 2018-02-21-15:48:40\n",
      "INFO:tensorflow:Restoring parameters from /tmp/tmpyk3_b55g/model.ckpt-5000\n",
      "INFO:tensorflow:Finished evaluation at 2018-02-21-15:48:55\n",
      "INFO:tensorflow:Saving dict for global step 5000: accuracy = 0.9998454, average_loss = 0.09196999, global_step = 5000, loss = 0.9196999\n",
      "\n",
      " {'accuracy': 0.9998454, 'loss': 0.9196999, 'average_loss': 0.09196999, 'global_step': 5000}\n"
     ]
    }
   ],
   "source": [
    "# and train model again\n",
    "classifier, y_true, y_pred = stf.classifier_estimator(model_lin=True)"
   ]
  },
  {
   "cell_type": "markdown",
   "metadata": {},
   "source": [
    "### By changing (increasing parameters) the accuracy has been improved from 0.99799013 to 0.9998454"
   ]
  },
  {
   "cell_type": "code",
   "execution_count": null,
   "metadata": {
    "collapsed": true
   },
   "outputs": [],
   "source": []
  }
 ],
 "metadata": {
  "kernelspec": {
   "display_name": "Python 3",
   "language": "python",
   "name": "python3"
  },
  "language_info": {
   "codemirror_mode": {
    "name": "ipython",
    "version": 3
   },
   "file_extension": ".py",
   "mimetype": "text/x-python",
   "name": "python",
   "nbconvert_exporter": "python",
   "pygments_lexer": "ipython3",
   "version": "3.5.4"
  }
 },
 "nbformat": 4,
 "nbformat_minor": 2
}
