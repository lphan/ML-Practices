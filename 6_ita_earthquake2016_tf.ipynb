{
 "cells": [
  {
   "cell_type": "code",
   "execution_count": 1,
   "metadata": {},
   "outputs": [
    {
     "name": "stderr",
     "output_type": "stream",
     "text": [
      "Using TensorFlow backend.\n"
     ]
    },
    {
     "name": "stdout",
     "output_type": "stream",
     "text": [
      "local_kwargs {'nan_mean': True, 'nan_drop_col': False, 'data_path_2': '6_ITA/data/clustered_italy_earthquakes_from_2016-08-24_to_2016-11-30.csv', 'data_path_1': '6_ITA/data/italy_earthquakes_from_2016-08-24_to_2016-11-30.csv', 'drop_obj_col': False, 'data_path_3': '', 'nan_drop_row': False, 'nan_mean_neighbors': False, 'nan_zero': False}\n"
     ]
    }
   ],
   "source": [
    "from Starts.startmodtf import *"
   ]
  },
  {
   "cell_type": "code",
   "execution_count": 2,
   "metadata": {},
   "outputs": [
    {
     "data": {
      "text/html": [
       "<div>\n",
       "<style scoped>\n",
       "    .dataframe tbody tr th:only-of-type {\n",
       "        vertical-align: middle;\n",
       "    }\n",
       "\n",
       "    .dataframe tbody tr th {\n",
       "        vertical-align: top;\n",
       "    }\n",
       "\n",
       "    .dataframe thead th {\n",
       "        text-align: right;\n",
       "    }\n",
       "</style>\n",
       "<table border=\"1\" class=\"dataframe\">\n",
       "  <thead>\n",
       "    <tr style=\"text-align: right;\">\n",
       "      <th></th>\n",
       "      <th>Latitude</th>\n",
       "      <th>Longitude</th>\n",
       "      <th>Depth/Km</th>\n",
       "      <th>Magnitude</th>\n",
       "      <th>Clusters</th>\n",
       "    </tr>\n",
       "  </thead>\n",
       "  <tbody>\n",
       "    <tr>\n",
       "      <th>0</th>\n",
       "      <td>42.6983</td>\n",
       "      <td>13.2335</td>\n",
       "      <td>8.1</td>\n",
       "      <td>6.0</td>\n",
       "      <td>3</td>\n",
       "    </tr>\n",
       "    <tr>\n",
       "      <th>1</th>\n",
       "      <td>42.7123</td>\n",
       "      <td>13.2533</td>\n",
       "      <td>9.0</td>\n",
       "      <td>4.5</td>\n",
       "      <td>3</td>\n",
       "    </tr>\n",
       "    <tr>\n",
       "      <th>2</th>\n",
       "      <td>42.7647</td>\n",
       "      <td>13.1723</td>\n",
       "      <td>9.7</td>\n",
       "      <td>3.8</td>\n",
       "      <td>3</td>\n",
       "    </tr>\n",
       "    <tr>\n",
       "      <th>3</th>\n",
       "      <td>42.7803</td>\n",
       "      <td>13.1683</td>\n",
       "      <td>9.7</td>\n",
       "      <td>3.9</td>\n",
       "      <td>3</td>\n",
       "    </tr>\n",
       "    <tr>\n",
       "      <th>4</th>\n",
       "      <td>42.7798</td>\n",
       "      <td>13.1575</td>\n",
       "      <td>9.7</td>\n",
       "      <td>3.6</td>\n",
       "      <td>3</td>\n",
       "    </tr>\n",
       "  </tbody>\n",
       "</table>\n",
       "</div>"
      ],
      "text/plain": [
       "   Latitude  Longitude  Depth/Km  Magnitude  Clusters\n",
       "0   42.6983    13.2335       8.1        6.0         3\n",
       "1   42.7123    13.2533       9.0        4.5         3\n",
       "2   42.7647    13.1723       9.7        3.8         3\n",
       "3   42.7803    13.1683       9.7        3.9         3\n",
       "4   42.7798    13.1575       9.7        3.6         3"
      ]
     },
     "execution_count": 2,
     "metadata": {},
     "output_type": "execute_result"
    }
   ],
   "source": [
    "# test_data = StartML.convert_time_series(test_data, 'Time')\n",
    "data = nonan_data.drop(['Time'], axis=1)\n",
    "data.head()"
   ]
  },
  {
   "cell_type": "code",
   "execution_count": 3,
   "metadata": {},
   "outputs": [
    {
     "data": {
      "text/plain": [
       "<Starts.startmodtf.StartModTF at 0x7f38237a2470>"
      ]
     },
     "execution_count": 3,
     "metadata": {},
     "output_type": "execute_result"
    }
   ],
   "source": [
    "stf = StartModTF(data, label='Clusters')\n",
    "stf"
   ]
  },
  {
   "cell_type": "code",
   "execution_count": 4,
   "metadata": {},
   "outputs": [
    {
     "name": "stdout",
     "output_type": "stream",
     "text": [
      "\n",
      "Hidden_units: [10, 10] \n",
      "\n",
      "Optimizer: Adagrad \n",
      "\n",
      "Activation_function: relu \n",
      "\n",
      "Learning_Rate: 0.001 \n",
      "\n",
      "Training_Steps: 1000 \n",
      "\n",
      "Batch_Size: 10 \n",
      "\n",
      "Number_of_epochs: relu \n",
      "\n",
      "Feature_Scaling: False \n",
      "\n"
     ]
    }
   ],
   "source": [
    "stf.info_parameters()"
   ]
  },
  {
   "cell_type": "code",
   "execution_count": 5,
   "metadata": {
    "scrolled": false
   },
   "outputs": [
    {
     "name": "stdout",
     "output_type": "stream",
     "text": [
      "INFO:tensorflow:Using default config.\n",
      "WARNING:tensorflow:Using temporary folder as model directory: /tmp/tmpitfa1vd3\n",
      "INFO:tensorflow:Using config: {'_log_step_count_steps': 100, '_save_summary_steps': 100, '_task_type': 'worker', '_session_config': None, '_save_checkpoints_steps': None, '_is_chief': True, '_num_worker_replicas': 1, '_keep_checkpoint_every_n_hours': 10000, '_task_id': 0, '_save_checkpoints_secs': 600, '_service': None, '_tf_random_seed': None, '_keep_checkpoint_max': 5, '_model_dir': '/tmp/tmpitfa1vd3', '_cluster_spec': <tensorflow.python.training.server_lib.ClusterSpec object at 0x7f38235471d0>, '_master': '', '_num_ps_replicas': 0}\n",
      "INFO:tensorflow:Create CheckpointSaverHook.\n",
      "INFO:tensorflow:Saving checkpoints for 1 into /tmp/tmpitfa1vd3/model.ckpt.\n",
      "INFO:tensorflow:loss = 13.862944, step = 1\n",
      "INFO:tensorflow:global_step/sec: 375.321\n",
      "INFO:tensorflow:loss = 5.0459914, step = 101 (0.270 sec)\n",
      "INFO:tensorflow:global_step/sec: 407.695\n",
      "INFO:tensorflow:loss = 2.1830885, step = 201 (0.249 sec)\n",
      "INFO:tensorflow:global_step/sec: 424.061\n",
      "INFO:tensorflow:loss = 2.6859236, step = 301 (0.226 sec)\n",
      "INFO:tensorflow:global_step/sec: 439.685\n",
      "INFO:tensorflow:loss = 2.952706, step = 401 (0.233 sec)\n",
      "INFO:tensorflow:global_step/sec: 494.786\n",
      "INFO:tensorflow:loss = 4.6083107, step = 501 (0.198 sec)\n",
      "INFO:tensorflow:global_step/sec: 582.493\n",
      "INFO:tensorflow:loss = 1.5642941, step = 601 (0.175 sec)\n",
      "INFO:tensorflow:Saving checkpoints for 647 into /tmp/tmpitfa1vd3/model.ckpt.\n",
      "INFO:tensorflow:Loss for final step: 1.6679745.\n",
      "INFO:tensorflow:Starting evaluation at 2018-03-02-16:28:51\n",
      "INFO:tensorflow:Restoring parameters from /tmp/tmpitfa1vd3/model.ckpt-647\n",
      "INFO:tensorflow:Finished evaluation at 2018-03-02-16:28:53\n",
      "INFO:tensorflow:Saving dict for global step 647: accuracy = 0.97727275, average_loss = 0.20183164, global_step = 647, loss = 2.0176926\n",
      "\n",
      " {'accuracy': 0.97727275, 'global_step': 647, 'loss': 2.0176926, 'average_loss': 0.20183164}\n"
     ]
    }
   ],
   "source": [
    "classifier, y_true, y_pred = stf.classifier_estimator(model_lin=True)"
   ]
  },
  {
   "cell_type": "code",
   "execution_count": 6,
   "metadata": {},
   "outputs": [
    {
     "data": {
      "text/plain": [
       "<tensorflow.python.estimator.canned.linear.LinearClassifier at 0x7f386172f1d0>"
      ]
     },
     "execution_count": 6,
     "metadata": {},
     "output_type": "execute_result"
    }
   ],
   "source": [
    "classifier"
   ]
  },
  {
   "cell_type": "code",
   "execution_count": 7,
   "metadata": {},
   "outputs": [
    {
     "name": "stdout",
     "output_type": "stream",
     "text": [
      "INFO:tensorflow:Restoring parameters from /tmp/tmpitfa1vd3/model.ckpt-647\n",
      "Classification Report: \n",
      "              precision    recall  f1-score   support\n",
      "\n",
      "          0       1.00      1.00      1.00       764\n",
      "          1       1.00      1.00      1.00       256\n",
      "          2       0.93      1.00      0.97       515\n",
      "          3       1.00      0.57      0.72        83\n",
      "\n",
      "avg / total       0.98      0.98      0.98      1618\n",
      "\n",
      "Confusion Matrix: \n",
      " [[764   0   0   0]\n",
      " [  0 256   0   0]\n",
      " [  0   0 515   0]\n",
      " [  0   0  36  47]]\n",
      "\n",
      "Accuracy: \n",
      " 0.9777503090234858\n"
     ]
    }
   ],
   "source": [
    "final_pred = [pred['class_ids'][0] for pred in list(y_pred)]\n",
    "StartMod.metrics_report(y_true, final_pred)"
   ]
  },
  {
   "cell_type": "code",
   "execution_count": 8,
   "metadata": {
    "collapsed": true
   },
   "outputs": [],
   "source": [
    "# Predict on new_data 'new_x_true'\n",
    "# pred_input_func = StartModTF.pred_input_fn(test_features=new_x_true, batch_size=len(new_x_true))\n",
    "# y_predict = classifier.predict(input_fn=pred_input_func)"
   ]
  },
  {
   "cell_type": "code",
   "execution_count": 9,
   "metadata": {},
   "outputs": [
    {
     "name": "stdout",
     "output_type": "stream",
     "text": [
      "\n",
      "Hidden_units: [10, 10, 10] \n",
      "\n",
      "Optimizer: Adam \n",
      "\n",
      "Activation_function: sigmoid \n",
      "\n",
      "Learning_Rate: 0.0001 \n",
      "\n",
      "Training_Steps: 5000 \n",
      "\n",
      "Batch_Size: 10 \n",
      "\n",
      "Number_of_epochs: sigmoid \n",
      "\n",
      "Feature_Scaling: True \n",
      "\n"
     ]
    }
   ],
   "source": [
    "# Update parameters \n",
    "new_param={'hidden_units':[10,10,10], 'optimizer':'Adam', 'activation_fn':'sigmoid', 'learning_rate': 0.0001,\n",
    "           'steps':5000, 'batch_size':10, 'num_epochs':10, 'feature_scl':True}\n",
    "stf.update_parameters=new_param\n",
    "stf.info_parameters()"
   ]
  },
  {
   "cell_type": "code",
   "execution_count": 10,
   "metadata": {
    "scrolled": false
   },
   "outputs": [
    {
     "name": "stderr",
     "output_type": "stream",
     "text": [
      "/usr/lib64/python3.5/site-packages/pandas/core/frame.py:2540: SettingWithCopyWarning: \n",
      "A value is trying to be set on a copy of a slice from a DataFrame.\n",
      "Try using .loc[row_indexer,col_indexer] = value instead\n",
      "\n",
      "See the caveats in the documentation: http://pandas.pydata.org/pandas-docs/stable/indexing.html#indexing-view-versus-copy\n",
      "  self[k1] = value[k2]\n"
     ]
    },
    {
     "name": "stdout",
     "output_type": "stream",
     "text": [
      "INFO:tensorflow:Using default config.\n",
      "WARNING:tensorflow:Using temporary folder as model directory: /tmp/tmp82cam76c\n",
      "INFO:tensorflow:Using config: {'_log_step_count_steps': 100, '_save_summary_steps': 100, '_task_type': 'worker', '_session_config': None, '_save_checkpoints_steps': None, '_is_chief': True, '_num_worker_replicas': 1, '_keep_checkpoint_every_n_hours': 10000, '_task_id': 0, '_save_checkpoints_secs': 600, '_service': None, '_tf_random_seed': None, '_keep_checkpoint_max': 5, '_model_dir': '/tmp/tmp82cam76c', '_cluster_spec': <tensorflow.python.training.server_lib.ClusterSpec object at 0x7f3820500b70>, '_master': '', '_num_ps_replicas': 0}\n",
      "INFO:tensorflow:Create CheckpointSaverHook.\n",
      "INFO:tensorflow:Saving checkpoints for 1 into /tmp/tmp82cam76c/model.ckpt.\n",
      "INFO:tensorflow:loss = 13.862944, step = 1\n",
      "INFO:tensorflow:global_step/sec: 370.736\n",
      "INFO:tensorflow:loss = 6.571292, step = 101 (0.271 sec)\n",
      "INFO:tensorflow:global_step/sec: 404.522\n",
      "INFO:tensorflow:loss = 5.286613, step = 201 (0.247 sec)\n",
      "INFO:tensorflow:global_step/sec: 465.559\n",
      "INFO:tensorflow:loss = 4.44819, step = 301 (0.218 sec)\n",
      "INFO:tensorflow:global_step/sec: 472.174\n",
      "INFO:tensorflow:loss = 2.6495628, step = 401 (0.217 sec)\n",
      "INFO:tensorflow:global_step/sec: 438.799\n",
      "INFO:tensorflow:loss = 1.3902621, step = 501 (0.229 sec)\n",
      "INFO:tensorflow:global_step/sec: 234.428\n",
      "INFO:tensorflow:loss = 3.065021, step = 601 (0.424 sec)\n",
      "INFO:tensorflow:global_step/sec: 333.591\n",
      "INFO:tensorflow:loss = 1.6922083, step = 701 (0.298 sec)\n",
      "INFO:tensorflow:global_step/sec: 331.388\n",
      "INFO:tensorflow:loss = 1.8399746, step = 801 (0.305 sec)\n",
      "INFO:tensorflow:global_step/sec: 444.084\n",
      "INFO:tensorflow:loss = 3.991525, step = 901 (0.221 sec)\n",
      "INFO:tensorflow:global_step/sec: 563.92\n",
      "INFO:tensorflow:loss = 1.5572876, step = 1001 (0.184 sec)\n",
      "INFO:tensorflow:global_step/sec: 426.41\n",
      "INFO:tensorflow:loss = 2.722335, step = 1101 (0.226 sec)\n",
      "INFO:tensorflow:global_step/sec: 444.491\n",
      "INFO:tensorflow:loss = 3.2704394, step = 1201 (0.226 sec)\n",
      "INFO:tensorflow:global_step/sec: 424.449\n",
      "INFO:tensorflow:loss = 1.029597, step = 1301 (0.237 sec)\n",
      "INFO:tensorflow:global_step/sec: 508.54\n",
      "INFO:tensorflow:loss = 1.5894092, step = 1401 (0.199 sec)\n",
      "INFO:tensorflow:global_step/sec: 519.152\n",
      "INFO:tensorflow:loss = 2.4063087, step = 1501 (0.197 sec)\n",
      "INFO:tensorflow:global_step/sec: 411.054\n",
      "INFO:tensorflow:loss = 2.6170874, step = 1601 (0.239 sec)\n",
      "INFO:tensorflow:global_step/sec: 525.678\n",
      "INFO:tensorflow:loss = 2.601171, step = 1701 (0.187 sec)\n",
      "INFO:tensorflow:global_step/sec: 426.471\n",
      "INFO:tensorflow:loss = 1.4234776, step = 1801 (0.234 sec)\n",
      "INFO:tensorflow:global_step/sec: 477.311\n",
      "INFO:tensorflow:loss = 1.9337559, step = 1901 (0.209 sec)\n",
      "INFO:tensorflow:global_step/sec: 459.223\n",
      "INFO:tensorflow:loss = 1.5288851, step = 2001 (0.220 sec)\n",
      "INFO:tensorflow:global_step/sec: 501.82\n",
      "INFO:tensorflow:loss = 2.6038451, step = 2101 (0.198 sec)\n",
      "INFO:tensorflow:global_step/sec: 537.195\n",
      "INFO:tensorflow:loss = 2.3922012, step = 2201 (0.186 sec)\n",
      "INFO:tensorflow:global_step/sec: 212.562\n",
      "INFO:tensorflow:loss = 1.6939809, step = 2301 (0.470 sec)\n",
      "INFO:tensorflow:global_step/sec: 161.035\n",
      "INFO:tensorflow:loss = 1.1093874, step = 2401 (0.620 sec)\n",
      "INFO:tensorflow:global_step/sec: 208.57\n",
      "INFO:tensorflow:loss = 2.0918763, step = 2501 (0.484 sec)\n",
      "INFO:tensorflow:global_step/sec: 429.103\n",
      "INFO:tensorflow:loss = 1.4272361, step = 2601 (0.235 sec)\n",
      "INFO:tensorflow:global_step/sec: 435.843\n",
      "INFO:tensorflow:loss = 1.0970819, step = 2701 (0.223 sec)\n",
      "INFO:tensorflow:global_step/sec: 487.264\n",
      "INFO:tensorflow:loss = 1.4654137, step = 2801 (0.205 sec)\n",
      "INFO:tensorflow:global_step/sec: 452.475\n",
      "INFO:tensorflow:loss = 1.1980443, step = 2901 (0.227 sec)\n",
      "INFO:tensorflow:global_step/sec: 447.817\n",
      "INFO:tensorflow:loss = 0.77638865, step = 3001 (0.224 sec)\n",
      "INFO:tensorflow:global_step/sec: 417.054\n",
      "INFO:tensorflow:loss = 1.3249774, step = 3101 (0.240 sec)\n",
      "INFO:tensorflow:global_step/sec: 395.448\n",
      "INFO:tensorflow:loss = 1.0641346, step = 3201 (0.251 sec)\n",
      "INFO:tensorflow:global_step/sec: 442.06\n",
      "INFO:tensorflow:loss = 1.0670514, step = 3301 (0.220 sec)\n",
      "INFO:tensorflow:global_step/sec: 430.042\n",
      "INFO:tensorflow:loss = 2.1356933, step = 3401 (0.241 sec)\n",
      "INFO:tensorflow:global_step/sec: 436.566\n",
      "INFO:tensorflow:loss = 1.4351003, step = 3501 (0.231 sec)\n",
      "INFO:tensorflow:global_step/sec: 205.038\n",
      "INFO:tensorflow:loss = 1.0697663, step = 3601 (0.480 sec)\n",
      "INFO:tensorflow:global_step/sec: 342.538\n",
      "INFO:tensorflow:loss = 0.73574936, step = 3701 (0.300 sec)\n",
      "INFO:tensorflow:global_step/sec: 228.469\n",
      "INFO:tensorflow:loss = 1.0797439, step = 3801 (0.438 sec)\n",
      "INFO:tensorflow:global_step/sec: 184.802\n",
      "INFO:tensorflow:loss = 1.0202432, step = 3901 (0.548 sec)\n",
      "INFO:tensorflow:global_step/sec: 193.774\n",
      "INFO:tensorflow:loss = 0.9164609, step = 4001 (0.509 sec)\n",
      "INFO:tensorflow:global_step/sec: 458.805\n",
      "INFO:tensorflow:loss = 0.9974188, step = 4101 (0.211 sec)\n",
      "INFO:tensorflow:global_step/sec: 356.027\n",
      "INFO:tensorflow:loss = 0.3755206, step = 4201 (0.282 sec)\n",
      "INFO:tensorflow:global_step/sec: 472.775\n",
      "INFO:tensorflow:loss = 2.1233416, step = 4301 (0.210 sec)\n",
      "INFO:tensorflow:global_step/sec: 472.382\n",
      "INFO:tensorflow:loss = 0.89758486, step = 4401 (0.213 sec)\n",
      "INFO:tensorflow:global_step/sec: 516.137\n",
      "INFO:tensorflow:loss = 1.019458, step = 4501 (0.194 sec)\n",
      "INFO:tensorflow:global_step/sec: 451.083\n",
      "INFO:tensorflow:loss = 1.1330242, step = 4601 (0.219 sec)\n",
      "INFO:tensorflow:global_step/sec: 507.116\n",
      "INFO:tensorflow:loss = 0.6580532, step = 4701 (0.198 sec)\n",
      "INFO:tensorflow:global_step/sec: 495.761\n",
      "INFO:tensorflow:loss = 0.7636253, step = 4801 (0.200 sec)\n",
      "INFO:tensorflow:global_step/sec: 450.179\n",
      "INFO:tensorflow:loss = 0.7240974, step = 4901 (0.223 sec)\n",
      "INFO:tensorflow:Saving checkpoints for 5000 into /tmp/tmp82cam76c/model.ckpt.\n",
      "INFO:tensorflow:Loss for final step: 1.3500726.\n",
      "INFO:tensorflow:Starting evaluation at 2018-03-02-16:29:09\n",
      "INFO:tensorflow:Restoring parameters from /tmp/tmp82cam76c/model.ckpt-5000\n",
      "INFO:tensorflow:Finished evaluation at 2018-03-02-16:29:21\n",
      "INFO:tensorflow:Saving dict for global step 5000: accuracy = 0.9998454, average_loss = 0.09054926, global_step = 5000, loss = 0.9054926\n",
      "\n",
      " {'accuracy': 0.9998454, 'global_step': 5000, 'loss': 0.9054926, 'average_loss': 0.09054926}\n"
     ]
    }
   ],
   "source": [
    "# and train model again\n",
    "classifier, y_true, y_pred = stf.classifier_estimator(model_lin=True)"
   ]
  },
  {
   "cell_type": "markdown",
   "metadata": {},
   "source": [
    "### By changing (increasing parameters) the accuracy has been improved from 0.99799013 to 0.9998454"
   ]
  },
  {
   "cell_type": "code",
   "execution_count": null,
   "metadata": {
    "collapsed": true
   },
   "outputs": [],
   "source": []
  }
 ],
 "metadata": {
  "kernelspec": {
   "display_name": "Python 3",
   "language": "python",
   "name": "python3"
  },
  "language_info": {
   "codemirror_mode": {
    "name": "ipython",
    "version": 3
   },
   "file_extension": ".py",
   "mimetype": "text/x-python",
   "name": "python",
   "nbconvert_exporter": "python",
   "pygments_lexer": "ipython3",
   "version": "3.5.4"
  }
 },
 "nbformat": 4,
 "nbformat_minor": 2
}
