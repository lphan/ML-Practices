{
 "cells": [
  {
   "cell_type": "code",
   "execution_count": 1,
   "metadata": {},
   "outputs": [
    {
     "name": "stderr",
     "output_type": "stream",
     "text": [
      "Using TensorFlow backend.\n"
     ]
    },
    {
     "name": "stdout",
     "output_type": "stream",
     "text": [
      "local_kwargs {'data_path_1': '6_ITA/data/italy_earthquakes_from_2016-08-24_to_2016-11-30.csv', 'data_path_2': '6_ITA/data/clustered_italy_earthquakes_from_2016-08-24_to_2016-11-30.csv', 'data_path_3': '', 'drop_obj_col': False, 'nan_drop_col': False, 'nan_drop_row': False, 'nan_zero': False, 'nan_mean': True, 'nan_mean_neighbors': False}\n"
     ]
    }
   ],
   "source": [
    "from Starts.startmodtf import *"
   ]
  },
  {
   "cell_type": "code",
   "execution_count": 2,
   "metadata": {},
   "outputs": [
    {
     "data": {
      "text/html": [
       "<div>\n",
       "<style>\n",
       "    .dataframe thead tr:only-child th {\n",
       "        text-align: right;\n",
       "    }\n",
       "\n",
       "    .dataframe thead th {\n",
       "        text-align: left;\n",
       "    }\n",
       "\n",
       "    .dataframe tbody tr th {\n",
       "        vertical-align: top;\n",
       "    }\n",
       "</style>\n",
       "<table border=\"1\" class=\"dataframe\">\n",
       "  <thead>\n",
       "    <tr style=\"text-align: right;\">\n",
       "      <th></th>\n",
       "      <th>Latitude</th>\n",
       "      <th>Longitude</th>\n",
       "      <th>Depth/Km</th>\n",
       "      <th>Magnitude</th>\n",
       "      <th>Clusters</th>\n",
       "    </tr>\n",
       "  </thead>\n",
       "  <tbody>\n",
       "    <tr>\n",
       "      <th>0</th>\n",
       "      <td>42.6983</td>\n",
       "      <td>13.2335</td>\n",
       "      <td>8.1</td>\n",
       "      <td>6.0</td>\n",
       "      <td>3</td>\n",
       "    </tr>\n",
       "    <tr>\n",
       "      <th>1</th>\n",
       "      <td>42.7123</td>\n",
       "      <td>13.2533</td>\n",
       "      <td>9.0</td>\n",
       "      <td>4.5</td>\n",
       "      <td>3</td>\n",
       "    </tr>\n",
       "    <tr>\n",
       "      <th>2</th>\n",
       "      <td>42.7647</td>\n",
       "      <td>13.1723</td>\n",
       "      <td>9.7</td>\n",
       "      <td>3.8</td>\n",
       "      <td>3</td>\n",
       "    </tr>\n",
       "    <tr>\n",
       "      <th>3</th>\n",
       "      <td>42.7803</td>\n",
       "      <td>13.1683</td>\n",
       "      <td>9.7</td>\n",
       "      <td>3.9</td>\n",
       "      <td>3</td>\n",
       "    </tr>\n",
       "    <tr>\n",
       "      <th>4</th>\n",
       "      <td>42.7798</td>\n",
       "      <td>13.1575</td>\n",
       "      <td>9.7</td>\n",
       "      <td>3.6</td>\n",
       "      <td>3</td>\n",
       "    </tr>\n",
       "  </tbody>\n",
       "</table>\n",
       "</div>"
      ],
      "text/plain": [
       "   Latitude  Longitude  Depth/Km  Magnitude  Clusters\n",
       "0   42.6983    13.2335       8.1        6.0         3\n",
       "1   42.7123    13.2533       9.0        4.5         3\n",
       "2   42.7647    13.1723       9.7        3.8         3\n",
       "3   42.7803    13.1683       9.7        3.9         3\n",
       "4   42.7798    13.1575       9.7        3.6         3"
      ]
     },
     "execution_count": 2,
     "metadata": {},
     "output_type": "execute_result"
    }
   ],
   "source": [
    "# test_data = StartML.convert_time_series(test_data, 'Time')\n",
    "data = nonan_data.drop(['Time'], axis=1)\n",
    "data.head()"
   ]
  },
  {
   "cell_type": "code",
   "execution_count": 3,
   "metadata": {},
   "outputs": [
    {
     "data": {
      "text/plain": [
       "<Starts.startmodtf.StartModTF at 0x7f382618d4e0>"
      ]
     },
     "execution_count": 3,
     "metadata": {},
     "output_type": "execute_result"
    }
   ],
   "source": [
    "# init data with target_label = Clusters\n",
    "stf = StartModTF(data, label='Clusters')\n",
    "stf"
   ]
  },
  {
   "cell_type": "code",
   "execution_count": 4,
   "metadata": {},
   "outputs": [
    {
     "name": "stdout",
     "output_type": "stream",
     "text": [
      "\n",
      "Hidden_units: [10, 10] \n",
      "\n",
      "Optimizer: Adagrad \n",
      "\n",
      "Activation_function: relu \n",
      "\n",
      "Learning_Rate: 0.001 \n",
      "\n",
      "Training_Steps: 1000 \n",
      "\n",
      "Batch_Size: 10 \n",
      "\n",
      "Number_of_epochs: relu \n",
      "\n",
      "Feature_Scaling: False \n",
      "\n"
     ]
    }
   ],
   "source": [
    "stf.info_parameters()"
   ]
  },
  {
   "cell_type": "code",
   "execution_count": 5,
   "metadata": {
    "scrolled": false
   },
   "outputs": [
    {
     "name": "stdout",
     "output_type": "stream",
     "text": [
      "INFO:tensorflow:Using default config.\n",
      "WARNING:tensorflow:Using temporary folder as model directory: /tmp/tmpf8goyeik\n",
      "INFO:tensorflow:Using config: {'_model_dir': '/tmp/tmpf8goyeik', '_tf_random_seed': None, '_save_summary_steps': 100, '_save_checkpoints_steps': None, '_save_checkpoints_secs': 600, '_session_config': None, '_keep_checkpoint_max': 5, '_keep_checkpoint_every_n_hours': 10000, '_log_step_count_steps': 100, '_service': None, '_cluster_spec': <tensorflow.python.training.server_lib.ClusterSpec object at 0x7f382618dd68>, '_task_type': 'worker', '_task_id': 0, '_global_id_in_cluster': 0, '_master': '', '_evaluation_master': '', '_is_chief': True, '_num_ps_replicas': 0, '_num_worker_replicas': 1}\n",
      "INFO:tensorflow:Calling model_fn.\n",
      "INFO:tensorflow:Done calling model_fn.\n",
      "INFO:tensorflow:Create CheckpointSaverHook.\n",
      "INFO:tensorflow:Graph was finalized.\n",
      "INFO:tensorflow:Running local_init_op.\n",
      "INFO:tensorflow:Done running local_init_op.\n",
      "INFO:tensorflow:Saving checkpoints for 1 into /tmp/tmpf8goyeik/model.ckpt.\n",
      "INFO:tensorflow:loss = 13.8629, step = 1\n",
      "INFO:tensorflow:global_step/sec: 298.614\n",
      "INFO:tensorflow:loss = 4.30232, step = 101 (0.338 sec)\n",
      "INFO:tensorflow:global_step/sec: 447.635\n",
      "INFO:tensorflow:loss = 3.55292, step = 201 (0.236 sec)\n",
      "INFO:tensorflow:global_step/sec: 342.007\n",
      "INFO:tensorflow:loss = 5.63238, step = 301 (0.290 sec)\n",
      "INFO:tensorflow:global_step/sec: 316.171\n",
      "INFO:tensorflow:loss = 4.13148, step = 401 (0.308 sec)\n",
      "INFO:tensorflow:global_step/sec: 452.245\n",
      "INFO:tensorflow:loss = 2.33673, step = 501 (0.220 sec)\n",
      "INFO:tensorflow:global_step/sec: 422.153\n",
      "INFO:tensorflow:loss = 3.19232, step = 601 (0.237 sec)\n",
      "INFO:tensorflow:Saving checkpoints for 647 into /tmp/tmpf8goyeik/model.ckpt.\n",
      "INFO:tensorflow:Loss for final step: 1.46723.\n",
      "INFO:tensorflow:Calling model_fn.\n",
      "INFO:tensorflow:Done calling model_fn.\n",
      "INFO:tensorflow:Starting evaluation at 2018-04-18-04:29:46\n",
      "INFO:tensorflow:Graph was finalized.\n",
      "INFO:tensorflow:Restoring parameters from /tmp/tmpf8goyeik/model.ckpt-647\n",
      "INFO:tensorflow:Running local_init_op.\n",
      "INFO:tensorflow:Done running local_init_op.\n",
      "INFO:tensorflow:Finished evaluation at 2018-04-18-04:29:48\n",
      "INFO:tensorflow:Saving dict for global step 647: accuracy = 0.952845, average_loss = 0.220538, global_step = 647, loss = 2.2047\n",
      "\n",
      " {'accuracy': 0.9528448, 'average_loss': 0.22053801, 'loss': 2.2046983, 'global_step': 647}\n"
     ]
    }
   ],
   "source": [
    "# classify data based on label = 'Clusters' and save the results into y_pred and compute accuracy of model\n",
    "classifier, y_true, y_pred = stf.classifier_estimator(model_lin=True)"
   ]
  },
  {
   "cell_type": "code",
   "execution_count": 6,
   "metadata": {},
   "outputs": [
    {
     "data": {
      "text/plain": [
       "<tensorflow.python.estimator.canned.linear.LinearClassifier at 0x7f382618deb8>"
      ]
     },
     "execution_count": 6,
     "metadata": {},
     "output_type": "execute_result"
    }
   ],
   "source": [
    "classifier"
   ]
  },
  {
   "cell_type": "code",
   "execution_count": 7,
   "metadata": {},
   "outputs": [
    {
     "name": "stdout",
     "output_type": "stream",
     "text": [
      "INFO:tensorflow:Calling model_fn.\n",
      "INFO:tensorflow:Done calling model_fn.\n",
      "INFO:tensorflow:Graph was finalized.\n",
      "INFO:tensorflow:Restoring parameters from /tmp/tmpf8goyeik/model.ckpt-647\n",
      "INFO:tensorflow:Running local_init_op.\n",
      "INFO:tensorflow:Done running local_init_op.\n",
      "Classification Report: \n",
      "              precision    recall  f1-score   support\n",
      "\n",
      "          0       1.00      1.00      1.00       764\n",
      "          1       1.00      0.99      0.99       253\n",
      "          2       0.89      1.00      0.94       518\n",
      "          3       1.00      0.24      0.39        83\n",
      "\n",
      "avg / total       0.96      0.96      0.95      1618\n",
      "\n",
      "Confusion Matrix: \n",
      " [[764   0   0   0]\n",
      " [  0 250   3   0]\n",
      " [  0   0 518   0]\n",
      " [  0   0  63  20]]\n",
      "\n",
      "Accuracy: \n",
      " 0.959208899876\n",
      "\n",
      "Mean_Squared_Error: \n",
      " 0.0407911001236\n"
     ]
    }
   ],
   "source": [
    "# Convert the predicted value y_pred and show the metrics_report\n",
    "final_pred = [pred['class_ids'][0] for pred in list(y_pred)]\n",
    "StartMod.metrics_report(y_true, final_pred)"
   ]
  },
  {
   "cell_type": "code",
   "execution_count": 8,
   "metadata": {},
   "outputs": [],
   "source": [
    "# Predict on new_data 'new_x_true'\n",
    "# pred_input_func = StartModTF.pred_input_fn(test_features=new_x_true, batch_size=len(new_x_true))\n",
    "# y_predict = classifier.predict(input_fn=pred_input_func)"
   ]
  },
  {
   "cell_type": "code",
   "execution_count": 9,
   "metadata": {},
   "outputs": [
    {
     "name": "stdout",
     "output_type": "stream",
     "text": [
      "\n",
      "Hidden_units: [10, 10, 10] \n",
      "\n",
      "Optimizer: Adam \n",
      "\n",
      "Activation_function: sigmoid \n",
      "\n",
      "Learning_Rate: 0.0001 \n",
      "\n",
      "Training_Steps: 5000 \n",
      "\n",
      "Batch_Size: 10 \n",
      "\n",
      "Number_of_epochs: sigmoid \n",
      "\n",
      "Feature_Scaling: True \n",
      "\n"
     ]
    }
   ],
   "source": [
    "# Update parameters \n",
    "new_param={'hidden_units':[10,10,10], 'optimizer':'Adam', 'activation_fn':'sigmoid', 'learning_rate': 0.0001,\n",
    "           'steps':5000, 'batch_size':10, 'num_epochs':10, 'feature_scl':True}\n",
    "stf.update_parameters=new_param\n",
    "stf.info_parameters()"
   ]
  },
  {
   "cell_type": "code",
   "execution_count": 10,
   "metadata": {
    "scrolled": false
   },
   "outputs": [
    {
     "name": "stderr",
     "output_type": "stream",
     "text": [
      "/usr/lib64/python3.6/site-packages/pandas/core/frame.py:2450: SettingWithCopyWarning: \n",
      "A value is trying to be set on a copy of a slice from a DataFrame.\n",
      "Try using .loc[row_indexer,col_indexer] = value instead\n",
      "\n",
      "See the caveats in the documentation: http://pandas.pydata.org/pandas-docs/stable/indexing.html#indexing-view-versus-copy\n",
      "  self[k1] = value[k2]\n"
     ]
    },
    {
     "name": "stdout",
     "output_type": "stream",
     "text": [
      "INFO:tensorflow:Using default config.\n",
      "WARNING:tensorflow:Using temporary folder as model directory: /tmp/tmp7q7mwv41\n",
      "INFO:tensorflow:Using config: {'_model_dir': '/tmp/tmp7q7mwv41', '_tf_random_seed': None, '_save_summary_steps': 100, '_save_checkpoints_steps': None, '_save_checkpoints_secs': 600, '_session_config': None, '_keep_checkpoint_max': 5, '_keep_checkpoint_every_n_hours': 10000, '_log_step_count_steps': 100, '_service': None, '_cluster_spec': <tensorflow.python.training.server_lib.ClusterSpec object at 0x7f381e6e1860>, '_task_type': 'worker', '_task_id': 0, '_global_id_in_cluster': 0, '_master': '', '_evaluation_master': '', '_is_chief': True, '_num_ps_replicas': 0, '_num_worker_replicas': 1}\n",
      "INFO:tensorflow:Calling model_fn.\n",
      "INFO:tensorflow:Done calling model_fn.\n",
      "INFO:tensorflow:Create CheckpointSaverHook.\n",
      "INFO:tensorflow:Graph was finalized.\n",
      "INFO:tensorflow:Running local_init_op.\n",
      "INFO:tensorflow:Done running local_init_op.\n",
      "INFO:tensorflow:Saving checkpoints for 1 into /tmp/tmp7q7mwv41/model.ckpt.\n",
      "INFO:tensorflow:loss = 13.8629, step = 1\n",
      "INFO:tensorflow:global_step/sec: 421.651\n",
      "INFO:tensorflow:loss = 4.18248, step = 101 (0.240 sec)\n",
      "INFO:tensorflow:global_step/sec: 475.527\n",
      "INFO:tensorflow:loss = 5.24144, step = 201 (0.215 sec)\n",
      "INFO:tensorflow:global_step/sec: 454.99\n",
      "INFO:tensorflow:loss = 4.56505, step = 301 (0.221 sec)\n",
      "INFO:tensorflow:global_step/sec: 439.502\n",
      "INFO:tensorflow:loss = 5.00249, step = 401 (0.228 sec)\n",
      "INFO:tensorflow:global_step/sec: 446.306\n",
      "INFO:tensorflow:loss = 3.9054, step = 501 (0.217 sec)\n",
      "INFO:tensorflow:global_step/sec: 302.685\n",
      "INFO:tensorflow:loss = 3.40929, step = 601 (0.332 sec)\n",
      "INFO:tensorflow:global_step/sec: 269.426\n",
      "INFO:tensorflow:loss = 4.14918, step = 701 (0.374 sec)\n",
      "INFO:tensorflow:global_step/sec: 298.965\n",
      "INFO:tensorflow:loss = 4.24046, step = 801 (0.331 sec)\n",
      "INFO:tensorflow:global_step/sec: 435.951\n",
      "INFO:tensorflow:loss = 2.57443, step = 901 (0.239 sec)\n",
      "INFO:tensorflow:global_step/sec: 363.967\n",
      "INFO:tensorflow:loss = 2.63405, step = 1001 (0.271 sec)\n",
      "INFO:tensorflow:global_step/sec: 418.993\n",
      "INFO:tensorflow:loss = 2.21805, step = 1101 (0.234 sec)\n",
      "INFO:tensorflow:global_step/sec: 421.004\n",
      "INFO:tensorflow:loss = 1.03991, step = 1201 (0.238 sec)\n",
      "INFO:tensorflow:global_step/sec: 479.951\n",
      "INFO:tensorflow:loss = 3.01464, step = 1301 (0.208 sec)\n",
      "INFO:tensorflow:global_step/sec: 284.386\n",
      "INFO:tensorflow:loss = 1.67233, step = 1401 (0.349 sec)\n",
      "INFO:tensorflow:global_step/sec: 520.454\n",
      "INFO:tensorflow:loss = 1.25871, step = 1501 (0.191 sec)\n",
      "INFO:tensorflow:global_step/sec: 361.671\n",
      "INFO:tensorflow:loss = 1.86703, step = 1601 (0.277 sec)\n",
      "INFO:tensorflow:global_step/sec: 529.106\n",
      "INFO:tensorflow:loss = 1.57568, step = 1701 (0.195 sec)\n",
      "INFO:tensorflow:global_step/sec: 432.585\n",
      "INFO:tensorflow:loss = 1.46916, step = 1801 (0.228 sec)\n",
      "INFO:tensorflow:global_step/sec: 385.822\n",
      "INFO:tensorflow:loss = 2.76776, step = 1901 (0.274 sec)\n",
      "INFO:tensorflow:global_step/sec: 377.017\n",
      "INFO:tensorflow:loss = 1.23168, step = 2001 (0.256 sec)\n",
      "INFO:tensorflow:global_step/sec: 347.318\n",
      "INFO:tensorflow:loss = 1.53746, step = 2101 (0.305 sec)\n",
      "INFO:tensorflow:global_step/sec: 260.365\n",
      "INFO:tensorflow:loss = 1.59506, step = 2201 (0.366 sec)\n",
      "INFO:tensorflow:global_step/sec: 414.757\n",
      "INFO:tensorflow:loss = 0.868455, step = 2301 (0.236 sec)\n",
      "INFO:tensorflow:global_step/sec: 426.082\n",
      "INFO:tensorflow:loss = 1.27502, step = 2401 (0.271 sec)\n",
      "INFO:tensorflow:global_step/sec: 304.623\n",
      "INFO:tensorflow:loss = 1.22449, step = 2501 (0.301 sec)\n",
      "INFO:tensorflow:global_step/sec: 234.659\n",
      "INFO:tensorflow:loss = 0.864234, step = 2601 (0.420 sec)\n",
      "INFO:tensorflow:global_step/sec: 408.322\n",
      "INFO:tensorflow:loss = 1.98452, step = 2701 (0.243 sec)\n",
      "INFO:tensorflow:global_step/sec: 376.079\n",
      "INFO:tensorflow:loss = 1.52247, step = 2801 (0.272 sec)\n",
      "INFO:tensorflow:global_step/sec: 411.502\n",
      "INFO:tensorflow:loss = 1.2425, step = 2901 (0.240 sec)\n",
      "INFO:tensorflow:global_step/sec: 454.522\n",
      "INFO:tensorflow:loss = 1.16836, step = 3001 (0.230 sec)\n",
      "INFO:tensorflow:global_step/sec: 438.88\n",
      "INFO:tensorflow:loss = 1.60736, step = 3101 (0.216 sec)\n",
      "INFO:tensorflow:global_step/sec: 614.358\n",
      "INFO:tensorflow:loss = 1.96839, step = 3201 (0.161 sec)\n",
      "INFO:tensorflow:global_step/sec: 431.804\n",
      "INFO:tensorflow:loss = 0.895472, step = 3301 (0.240 sec)\n",
      "INFO:tensorflow:global_step/sec: 500.11\n",
      "INFO:tensorflow:loss = 1.45574, step = 3401 (0.203 sec)\n",
      "INFO:tensorflow:global_step/sec: 317.277\n",
      "INFO:tensorflow:loss = 1.58479, step = 3501 (0.303 sec)\n",
      "INFO:tensorflow:global_step/sec: 367.912\n",
      "INFO:tensorflow:loss = 1.2226, step = 3601 (0.277 sec)\n",
      "INFO:tensorflow:global_step/sec: 477.377\n",
      "INFO:tensorflow:loss = 1.00754, step = 3701 (0.208 sec)\n",
      "INFO:tensorflow:global_step/sec: 461.968\n",
      "INFO:tensorflow:loss = 1.03472, step = 3801 (0.214 sec)\n",
      "INFO:tensorflow:global_step/sec: 440.901\n",
      "INFO:tensorflow:loss = 1.30721, step = 3901 (0.226 sec)\n",
      "INFO:tensorflow:global_step/sec: 369.661\n",
      "INFO:tensorflow:loss = 0.830118, step = 4001 (0.275 sec)\n",
      "INFO:tensorflow:global_step/sec: 292.992\n",
      "INFO:tensorflow:loss = 0.887582, step = 4101 (0.346 sec)\n",
      "INFO:tensorflow:global_step/sec: 301.838\n",
      "INFO:tensorflow:loss = 1.05748, step = 4201 (0.320 sec)\n",
      "INFO:tensorflow:global_step/sec: 258.832\n",
      "INFO:tensorflow:loss = 1.02012, step = 4301 (0.392 sec)\n",
      "INFO:tensorflow:global_step/sec: 367.604\n",
      "INFO:tensorflow:loss = 1.11641, step = 4401 (0.273 sec)\n",
      "INFO:tensorflow:global_step/sec: 309.418\n",
      "INFO:tensorflow:loss = 1.14271, step = 4501 (0.316 sec)\n",
      "INFO:tensorflow:global_step/sec: 330.149\n",
      "INFO:tensorflow:loss = 1.13663, step = 4601 (0.322 sec)\n",
      "INFO:tensorflow:global_step/sec: 413.28\n",
      "INFO:tensorflow:loss = 1.32027, step = 4701 (0.226 sec)\n",
      "INFO:tensorflow:global_step/sec: 602.555\n",
      "INFO:tensorflow:loss = 0.812405, step = 4801 (0.177 sec)\n",
      "INFO:tensorflow:global_step/sec: 429.574\n",
      "INFO:tensorflow:loss = 1.1825, step = 4901 (0.227 sec)\n",
      "INFO:tensorflow:Saving checkpoints for 5000 into /tmp/tmp7q7mwv41/model.ckpt.\n",
      "INFO:tensorflow:Loss for final step: 0.667276.\n",
      "INFO:tensorflow:Calling model_fn.\n",
      "INFO:tensorflow:Done calling model_fn.\n",
      "INFO:tensorflow:Starting evaluation at 2018-04-18-04:30:04\n",
      "INFO:tensorflow:Graph was finalized.\n",
      "INFO:tensorflow:Restoring parameters from /tmp/tmp7q7mwv41/model.ckpt-5000\n",
      "INFO:tensorflow:Running local_init_op.\n",
      "INFO:tensorflow:Done running local_init_op.\n",
      "INFO:tensorflow:Finished evaluation at 2018-04-18-04:30:18\n",
      "INFO:tensorflow:Saving dict for global step 5000: accuracy = 0.999845, average_loss = 0.0913039, global_step = 5000, loss = 0.913039\n",
      "\n",
      " {'accuracy': 0.99984539, 'average_loss': 0.091303915, 'loss': 0.91303915, 'global_step': 5000}\n"
     ]
    }
   ],
   "source": [
    "# and train model again\n",
    "classifier, y_true, y_pred = stf.classifier_estimator(model_lin=True)"
   ]
  },
  {
   "cell_type": "markdown",
   "metadata": {},
   "source": [
    "### By changing (increasing parameters) the accuracy has been improved from 0.9528448 to 0.9998454"
   ]
  },
  {
   "cell_type": "code",
   "execution_count": null,
   "metadata": {},
   "outputs": [],
   "source": []
  }
 ],
 "metadata": {
  "kernelspec": {
   "display_name": "Python 3",
   "language": "python",
   "name": "python3"
  },
  "language_info": {
   "codemirror_mode": {
    "name": "ipython",
    "version": 3
   },
   "file_extension": ".py",
   "mimetype": "text/x-python",
   "name": "python",
   "nbconvert_exporter": "python",
   "pygments_lexer": "ipython3",
   "version": "3.6.5"
  }
 },
 "nbformat": 4,
 "nbformat_minor": 2
}
