{
 "cells": [
  {
   "cell_type": "markdown",
   "metadata": {},
   "source": [
    "### Question: what is the average duration of a marriage between 2006 and 2015?"
   ]
  },
  {
   "cell_type": "code",
   "execution_count": 1,
   "metadata": {},
   "outputs": [
    {
     "name": "stdout",
     "output_type": "stream",
     "text": [
      "local_kwargs {'data_path_1': '10_EY/marriages_1950_2015.csv', 'data_path_2': '10_EY/marriages_groupby_age2015.csv', 'data_path_3': '10_EY/marriages_groupby_de_1994_2015.csv', 'drop_obj_col': False, 'nan_drop_col': False, 'nan_drop_row': False, 'nan_zero': False, 'nan_mean': True, 'nan_mean_neighbors': False}\n"
     ]
    }
   ],
   "source": [
    "from Starts.startmodskl import *\n",
    "from Starts.startvis import *\n",
    "%matplotlib inline\n",
    "rcParams['figure.figsize'] = 15, 6\n",
    "divorces_groupby_dur_2006_2015 = pd.read_csv('10_EY/divorces_groupby_dur_2006_2015.csv')\n",
    "marriages_divorces_1950_2015 = pd.read_csv('10_EY/marriages_divorces_1950_2015.csv')\n",
    "\n",
    "# divorces_groupby_dur_2006_2015.set_index('Ehedauer', inplace=True)\n",
    "marriages_divorces_1950_2015.set_index('Jahr', inplace=True)"
   ]
  },
  {
   "cell_type": "code",
   "execution_count": 2,
   "metadata": {},
   "outputs": [
    {
     "data": {
      "text/html": [
       "<div>\n",
       "<style>\n",
       "    .dataframe thead tr:only-child th {\n",
       "        text-align: right;\n",
       "    }\n",
       "\n",
       "    .dataframe thead th {\n",
       "        text-align: left;\n",
       "    }\n",
       "\n",
       "    .dataframe tbody tr th {\n",
       "        vertical-align: top;\n",
       "    }\n",
       "</style>\n",
       "<table border=\"1\" class=\"dataframe\">\n",
       "  <thead>\n",
       "    <tr style=\"text-align: right;\">\n",
       "      <th></th>\n",
       "      <th>Eheschließungen</th>\n",
       "      <th>Eheschließungen je 1000 Einwohner</th>\n",
       "      <th>Ehescheidungen</th>\n",
       "    </tr>\n",
       "  </thead>\n",
       "  <tbody>\n",
       "    <tr>\n",
       "      <th>count</th>\n",
       "      <td>10.000000</td>\n",
       "      <td>10.000000</td>\n",
       "      <td>10.000000</td>\n",
       "    </tr>\n",
       "    <tr>\n",
       "      <th>mean</th>\n",
       "      <td>380510.500000</td>\n",
       "      <td>4.670000</td>\n",
       "      <td>180894.600000</td>\n",
       "    </tr>\n",
       "    <tr>\n",
       "      <th>std</th>\n",
       "      <td>8916.370939</td>\n",
       "      <td>0.133749</td>\n",
       "      <td>10635.669139</td>\n",
       "    </tr>\n",
       "    <tr>\n",
       "      <th>min</th>\n",
       "      <td>368922.000000</td>\n",
       "      <td>4.500000</td>\n",
       "      <td>163335.000000</td>\n",
       "    </tr>\n",
       "    <tr>\n",
       "      <th>25%</th>\n",
       "      <td>374524.500000</td>\n",
       "      <td>4.600000</td>\n",
       "      <td>172161.500000</td>\n",
       "    </tr>\n",
       "    <tr>\n",
       "      <th>50%</th>\n",
       "      <td>378127.500000</td>\n",
       "      <td>4.650000</td>\n",
       "      <td>186422.000000</td>\n",
       "    </tr>\n",
       "    <tr>\n",
       "      <th>75%</th>\n",
       "      <td>384975.750000</td>\n",
       "      <td>4.775000</td>\n",
       "      <td>187498.000000</td>\n",
       "    </tr>\n",
       "    <tr>\n",
       "      <th>max</th>\n",
       "      <td>400115.000000</td>\n",
       "      <td>4.900000</td>\n",
       "      <td>191948.000000</td>\n",
       "    </tr>\n",
       "  </tbody>\n",
       "</table>\n",
       "</div>"
      ],
      "text/plain": [
       "       Eheschließungen  Eheschließungen je 1000 Einwohner  Ehescheidungen\n",
       "count        10.000000                          10.000000       10.000000\n",
       "mean     380510.500000                           4.670000   180894.600000\n",
       "std        8916.370939                           0.133749    10635.669139\n",
       "min      368922.000000                           4.500000   163335.000000\n",
       "25%      374524.500000                           4.600000   172161.500000\n",
       "50%      378127.500000                           4.650000   186422.000000\n",
       "75%      384975.750000                           4.775000   187498.000000\n",
       "max      400115.000000                           4.900000   191948.000000"
      ]
     },
     "execution_count": 2,
     "metadata": {},
     "output_type": "execute_result"
    }
   ],
   "source": [
    "marriages_divorces_1950_2015.index = pd.to_datetime(marriages_divorces_1950_2015.index, format='%Y')\n",
    "marriages_divorces_1950_2015['2006':'2015'].describe()"
   ]
  },
  {
   "cell_type": "code",
   "execution_count": 3,
   "metadata": {},
   "outputs": [
    {
     "data": {
      "text/plain": [
       "Index(['Ehedauer', '2006', '2007', '2008', '2009', '2010', '2011', '2012',\n",
       "       '2013', '2014', '2015'],\n",
       "      dtype='object')"
      ]
     },
     "execution_count": 3,
     "metadata": {},
     "output_type": "execute_result"
    }
   ],
   "source": [
    "divorces_groupby_dur_2006_2015.columns"
   ]
  },
  {
   "cell_type": "code",
   "execution_count": 4,
   "metadata": {},
   "outputs": [
    {
     "data": {
      "text/plain": [
       "<matplotlib.axes._subplots.AxesSubplot at 0x7f319609ab70>"
      ]
     },
     "execution_count": 4,
     "metadata": {},
     "output_type": "execute_result"
    },
    {
     "data": {
      "image/png": "[encoded data removed]",
      "text/plain": [
       "<matplotlib.figure.Figure at 0x7f31dc419908>"
      ]
     },
     "metadata": {},
     "output_type": "display_data"
    }
   ],
   "source": [
    "divorces_groupby_dur_2006_2015['2006'].plot(kind='bar')"
   ]
  },
  {
   "cell_type": "code",
   "execution_count": 5,
   "metadata": {},
   "outputs": [
    {
     "data": {
      "text/plain": [
       "<matplotlib.axes._subplots.AxesSubplot at 0x7f3195eee198>"
      ]
     },
     "execution_count": 5,
     "metadata": {},
     "output_type": "execute_result"
    },
    {
     "data": {
      "image/png": "[encoded data removed]",
      "text/plain": [
       "<matplotlib.figure.Figure at 0x7f3196089400>"
      ]
     },
     "metadata": {},
     "output_type": "display_data"
    }
   ],
   "source": [
    "divorces_groupby_dur_2006_2015['2015'].plot(kind='bar')"
   ]
  },
  {
   "cell_type": "code",
   "execution_count": 6,
   "metadata": {},
   "outputs": [
    {
     "data": {
      "text/plain": [
       "16.942323807927597"
      ]
     },
     "execution_count": 6,
     "metadata": {},
     "output_type": "execute_result"
    }
   ],
   "source": [
    "# Test calculation in 2006\n",
    "divorces2016 = divorces_groupby_dur_2006_2015['2006'].mode()\n",
    "sum(divorces2016)\n",
    "average_2016 = sum([(i*v/sum(divorces2016)) for i, v in enumerate(divorces2016)])\n",
    "average_2016"
   ]
  },
  {
   "cell_type": "code",
   "execution_count": 7,
   "metadata": {},
   "outputs": [
    {
     "name": "stdout",
     "output_type": "stream",
     "text": [
      "2006 16.9423238079\n",
      "2007 16.9476297896\n",
      "2008 16.9006293371\n",
      "2009 16.8724013411\n",
      "2010 16.7656411382\n",
      "2011 16.6948358559\n",
      "2012 16.7099756066\n",
      "2013 16.7118522313\n",
      "2014 16.7661959458\n",
      "2015 16.8918908991\n"
     ]
    }
   ],
   "source": [
    "years = ['2006', '2007', '2008', '2009', '2010', '2011', '2012', '2013', '2014', '2015']\n",
    "average_duration_2006_2015 = []\n",
    "for y in years:\n",
    "    divorces = divorces_groupby_dur_2006_2015[y].mode()\n",
    "    print (y, sum([(i*v/sum(divorces)) for i, v in enumerate(divorces)]))\n",
    "    average_duration_2006_2015.append(sum([(i*v/sum(divorces)) for i, v in enumerate(divorces)]))"
   ]
  },
  {
   "cell_type": "code",
   "execution_count": 8,
   "metadata": {},
   "outputs": [
    {
     "name": "stdout",
     "output_type": "stream",
     "text": [
      "Average duration of a marriage between 2006 and 2015:  16.8203375953  years\n"
     ]
    }
   ],
   "source": [
    "print(\"Average duration of a marriage between 2006 and 2015: \", np.mean(average_duration_2006_2015), \" years\")"
   ]
  },
  {
   "cell_type": "markdown",
   "metadata": {},
   "source": [
    "### Question: is there a significant decrease in the duration of a marriage in 2006-2015?"
   ]
  },
  {
   "cell_type": "code",
   "execution_count": 10,
   "metadata": {},
   "outputs": [
    {
     "data": {
      "text/plain": [
       "<matplotlib.axes._subplots.AxesSubplot at 0x7f3195e4d1d0>"
      ]
     },
     "execution_count": 10,
     "metadata": {},
     "output_type": "execute_result"
    },
    {
     "data": {
      "image/png": "[encoded data removed]",
      "text/plain": [
       "<matplotlib.figure.Figure at 0x7f3195e250b8>"
      ]
     },
     "metadata": {},
     "output_type": "display_data"
    }
   ],
   "source": [
    "average_duration = pd.DataFrame(average_duration_2006_2015, index=years, columns=['AverageDuration'])\n",
    "average_duration.plot()"
   ]
  },
  {
   "cell_type": "code",
   "execution_count": 11,
   "metadata": {},
   "outputs": [
    {
     "data": {
      "text/html": [
       "<div>\n",
       "<style>\n",
       "    .dataframe thead tr:only-child th {\n",
       "        text-align: right;\n",
       "    }\n",
       "\n",
       "    .dataframe thead th {\n",
       "        text-align: left;\n",
       "    }\n",
       "\n",
       "    .dataframe tbody tr th {\n",
       "        vertical-align: top;\n",
       "    }\n",
       "</style>\n",
       "<table border=\"1\" class=\"dataframe\">\n",
       "  <thead>\n",
       "    <tr style=\"text-align: right;\">\n",
       "      <th></th>\n",
       "      <th>AverageDuration</th>\n",
       "    </tr>\n",
       "  </thead>\n",
       "  <tbody>\n",
       "    <tr>\n",
       "      <th>2006</th>\n",
       "      <td>NaN</td>\n",
       "    </tr>\n",
       "    <tr>\n",
       "      <th>2007</th>\n",
       "      <td>0.005306</td>\n",
       "    </tr>\n",
       "    <tr>\n",
       "      <th>2008</th>\n",
       "      <td>-0.047000</td>\n",
       "    </tr>\n",
       "    <tr>\n",
       "      <th>2009</th>\n",
       "      <td>-0.028228</td>\n",
       "    </tr>\n",
       "    <tr>\n",
       "      <th>2010</th>\n",
       "      <td>-0.106760</td>\n",
       "    </tr>\n",
       "    <tr>\n",
       "      <th>2011</th>\n",
       "      <td>-0.070805</td>\n",
       "    </tr>\n",
       "    <tr>\n",
       "      <th>2012</th>\n",
       "      <td>0.015140</td>\n",
       "    </tr>\n",
       "    <tr>\n",
       "      <th>2013</th>\n",
       "      <td>0.001877</td>\n",
       "    </tr>\n",
       "    <tr>\n",
       "      <th>2014</th>\n",
       "      <td>0.054344</td>\n",
       "    </tr>\n",
       "    <tr>\n",
       "      <th>2015</th>\n",
       "      <td>0.125695</td>\n",
       "    </tr>\n",
       "  </tbody>\n",
       "</table>\n",
       "</div>"
      ],
      "text/plain": [
       "      AverageDuration\n",
       "2006              NaN\n",
       "2007         0.005306\n",
       "2008        -0.047000\n",
       "2009        -0.028228\n",
       "2010        -0.106760\n",
       "2011        -0.070805\n",
       "2012         0.015140\n",
       "2013         0.001877\n",
       "2014         0.054344\n",
       "2015         0.125695"
      ]
     },
     "execution_count": 11,
     "metadata": {},
     "output_type": "execute_result"
    }
   ],
   "source": [
    "# Variance between years from 2006 to 2015\n",
    "average_duration.diff()"
   ]
  },
  {
   "cell_type": "markdown",
   "metadata": {},
   "source": [
    "### Answer: yes from 2007 to 2011, there is significant descreasing in the duration of a marriage"
   ]
  }
 ],
 "metadata": {
  "kernelspec": {
   "display_name": "Python 3",
   "language": "python",
   "name": "python3"
  },
  "language_info": {
   "codemirror_mode": {
    "name": "ipython",
    "version": 3
   },
   "file_extension": ".py",
   "mimetype": "text/x-python",
   "name": "python",
   "nbconvert_exporter": "python",
   "pygments_lexer": "ipython3",
   "version": "3.6.4"
  }
 },
 "nbformat": 4,
 "nbformat_minor": 2
}
