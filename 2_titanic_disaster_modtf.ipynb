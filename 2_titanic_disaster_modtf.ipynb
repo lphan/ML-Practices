{
 "cells": [
  {
   "cell_type": "markdown",
   "metadata": {},
   "source": [
    "### Try Model: Tensor Flow Neural Network"
   ]
  },
  {
   "cell_type": "code",
   "execution_count": 1,
   "metadata": {},
   "outputs": [
    {
     "name": "stdout",
     "output_type": "stream",
     "text": [
      "local_kwargs {'nan_drop_col': False, 'drop_obj_col': False, 'data_path_3': '2_Titanic/data/test.csv', 'nan_mean_neighbors': False, 'data_path_1': '2_Titanic/data/train.csv', 'nan_zero': False, 'nan_drop_row': False, 'data_path_2': '2_Titanic/data/titanic_no_nan.csv', 'nan_mean': True}\n"
     ]
    },
    {
     "name": "stderr",
     "output_type": "stream",
     "text": [
      "Using TensorFlow backend.\n"
     ]
    }
   ],
   "source": [
    "from Starts.startmodskl import *\n",
    "from Starts.startmodtf import *"
   ]
  },
  {
   "cell_type": "code",
   "execution_count": 2,
   "metadata": {},
   "outputs": [
    {
     "data": {
      "text/html": [
       "<div>\n",
       "<style scoped>\n",
       "    .dataframe tbody tr th:only-of-type {\n",
       "        vertical-align: middle;\n",
       "    }\n",
       "\n",
       "    .dataframe tbody tr th {\n",
       "        vertical-align: top;\n",
       "    }\n",
       "\n",
       "    .dataframe thead th {\n",
       "        text-align: right;\n",
       "    }\n",
       "</style>\n",
       "<table border=\"1\" class=\"dataframe\">\n",
       "  <thead>\n",
       "    <tr style=\"text-align: right;\">\n",
       "      <th></th>\n",
       "      <th>Survived</th>\n",
       "      <th>Pclass</th>\n",
       "      <th>Sex</th>\n",
       "      <th>Age</th>\n",
       "      <th>Fare</th>\n",
       "      <th>Title</th>\n",
       "      <th>FamilySize</th>\n",
       "    </tr>\n",
       "  </thead>\n",
       "  <tbody>\n",
       "    <tr>\n",
       "      <th>0</th>\n",
       "      <td>0</td>\n",
       "      <td>3</td>\n",
       "      <td>1</td>\n",
       "      <td>26.000000</td>\n",
       "      <td>20.575</td>\n",
       "      <td>5</td>\n",
       "      <td>3</td>\n",
       "    </tr>\n",
       "    <tr>\n",
       "      <th>1</th>\n",
       "      <td>0</td>\n",
       "      <td>3</td>\n",
       "      <td>0</td>\n",
       "      <td>9.000000</td>\n",
       "      <td>27.900</td>\n",
       "      <td>4</td>\n",
       "      <td>5</td>\n",
       "    </tr>\n",
       "    <tr>\n",
       "      <th>2</th>\n",
       "      <td>0</td>\n",
       "      <td>3</td>\n",
       "      <td>1</td>\n",
       "      <td>29.699118</td>\n",
       "      <td>7.750</td>\n",
       "      <td>5</td>\n",
       "      <td>0</td>\n",
       "    </tr>\n",
       "    <tr>\n",
       "      <th>3</th>\n",
       "      <td>0</td>\n",
       "      <td>2</td>\n",
       "      <td>1</td>\n",
       "      <td>36.000000</td>\n",
       "      <td>12.875</td>\n",
       "      <td>5</td>\n",
       "      <td>0</td>\n",
       "    </tr>\n",
       "    <tr>\n",
       "      <th>4</th>\n",
       "      <td>1</td>\n",
       "      <td>2</td>\n",
       "      <td>0</td>\n",
       "      <td>50.000000</td>\n",
       "      <td>10.500</td>\n",
       "      <td>4</td>\n",
       "      <td>0</td>\n",
       "    </tr>\n",
       "  </tbody>\n",
       "</table>\n",
       "</div>"
      ],
      "text/plain": [
       "   Survived  Pclass  Sex        Age    Fare  Title  FamilySize\n",
       "0         0       3    1  26.000000  20.575      5           3\n",
       "1         0       3    0   9.000000  27.900      4           5\n",
       "2         0       3    1  29.699118   7.750      5           0\n",
       "3         0       2    1  36.000000  12.875      5           0\n",
       "4         1       2    0  50.000000  10.500      4           0"
      ]
     },
     "execution_count": 2,
     "metadata": {},
     "output_type": "execute_result"
    }
   ],
   "source": [
    "nonan_data.head()"
   ]
  },
  {
   "cell_type": "code",
   "execution_count": 3,
   "metadata": {},
   "outputs": [
    {
     "name": "stdout",
     "output_type": "stream",
     "text": [
      "Epoch 1/1\n",
      "712/712 [==============================] - 0s 622us/step - loss: 0.6903 - acc: 0.6138\n"
     ]
    }
   ],
   "source": [
    "stf = StartModTF(nonan_data)\n",
    "# Try method Keras Tensorflow to predict the Survivors (column 'Survived')\n",
    "model, y_true, y_pred = stf.keras_sequential(nonan_data, 'Survived', hidden_layers=2)"
   ]
  },
  {
   "cell_type": "code",
   "execution_count": 4,
   "metadata": {},
   "outputs": [
    {
     "data": {
      "text/plain": [
       "(179, 179)"
      ]
     },
     "execution_count": 4,
     "metadata": {},
     "output_type": "execute_result"
    }
   ],
   "source": [
    "# Convert predicted value by rounding it (>0.5 will be considered as 1 else 0)\n",
    "y_pred = np.array([1 if item>0.5 else 0 for item in y_pred])\n",
    "\n",
    "# Compare the predicted value with true_value\n",
    "len(y_true), len(y_pred)"
   ]
  },
  {
   "cell_type": "code",
   "execution_count": 5,
   "metadata": {},
   "outputs": [
    {
     "data": {
      "text/plain": [
       "array([[110,   0],\n",
       "       [ 69,   0]])"
      ]
     },
     "execution_count": 5,
     "metadata": {},
     "output_type": "execute_result"
    }
   ],
   "source": [
    "confusion_matrix(y_true, y_pred)"
   ]
  },
  {
   "cell_type": "markdown",
   "metadata": {},
   "source": [
    "### Result: \n",
    "#### the correct predicted result 110\n",
    "#### the wrong predicted result 69"
   ]
  },
  {
   "cell_type": "code",
   "execution_count": 6,
   "metadata": {},
   "outputs": [
    {
     "name": "stdout",
     "output_type": "stream",
     "text": [
      "Epoch 1/10\n",
      "712/712 [==============================] - 0s 478us/step - loss: 0.6883 - acc: 0.6110\n",
      "Epoch 2/10\n",
      "712/712 [==============================] - 0s 356us/step - loss: 0.6492 - acc: 0.6362\n",
      "Epoch 3/10\n",
      "712/712 [==============================] - 0s 345us/step - loss: 0.5925 - acc: 0.6924\n",
      "Epoch 4/10\n",
      "712/712 [==============================] - 0s 458us/step - loss: 0.5697 - acc: 0.7008\n",
      "Epoch 5/10\n",
      "712/712 [==============================] - 0s 314us/step - loss: 0.5487 - acc: 0.7149\n",
      "Epoch 6/10\n",
      "712/712 [==============================] - 0s 337us/step - loss: 0.5221 - acc: 0.7444\n",
      "Epoch 7/10\n",
      "712/712 [==============================] - 0s 278us/step - loss: 0.4877 - acc: 0.7542\n",
      "Epoch 8/10\n",
      "712/712 [==============================] - 0s 245us/step - loss: 0.4163 - acc: 0.8258\n",
      "Epoch 9/10\n",
      "712/712 [==============================] - 0s 347us/step - loss: 0.3014 - acc: 0.9059\n",
      "Epoch 10/10\n",
      "712/712 [==============================] - 0s 463us/step - loss: 0.2004 - acc: 0.9607\n"
     ]
    }
   ],
   "source": [
    "# update parameters\n",
    "new_param={'hidden_units':[10,10,10], 'optimizer':'Adam', 'activation_fn':'sigmoid', 'learning_rate': 0.0001,\n",
    "           'steps':2000, 'batch_size':10, 'num_epochs':10, 'feature_scl':True}\n",
    "stf.update_parameters=new_param\n",
    "model, y_true, y_pred = stf.keras_sequential(nonan_data, 'Survived', hidden_layers=2)"
   ]
  },
  {
   "cell_type": "code",
   "execution_count": 7,
   "metadata": {},
   "outputs": [
    {
     "data": {
      "text/plain": [
       "array([[109,   1],\n",
       "       [  1,  68]])"
      ]
     },
     "execution_count": 7,
     "metadata": {},
     "output_type": "execute_result"
    }
   ],
   "source": [
    "# Convert predicted value by rounding it (>0.5 will be considered as 1 else 0)\n",
    "y_pred = np.array([1 if item>0.5 else 0 for item in y_pred])\n",
    "confusion_matrix(y_true, y_pred)"
   ]
  },
  {
   "cell_type": "markdown",
   "metadata": {},
   "source": [
    "### Result: \n",
    "#### the correct predicted result 177\n",
    "#### the wrong predicted result 2"
   ]
  }
 ],
 "metadata": {
  "kernelspec": {
   "display_name": "Python 3",
   "language": "python",
   "name": "python3"
  },
  "language_info": {
   "codemirror_mode": {
    "name": "ipython",
    "version": 3
   },
   "file_extension": ".py",
   "mimetype": "text/x-python",
   "name": "python",
   "nbconvert_exporter": "python",
   "pygments_lexer": "ipython3",
   "version": "3.5.4"
  }
 },
 "nbformat": 4,
 "nbformat_minor": 2
}
