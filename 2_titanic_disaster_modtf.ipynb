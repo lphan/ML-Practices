{
 "cells": [
  {
   "cell_type": "markdown",
   "metadata": {},
   "source": [
    "### Try Model: Tensor Flow Neural Network"
   ]
  },
  {
   "cell_type": "code",
   "execution_count": 1,
   "metadata": {},
   "outputs": [
    {
     "name": "stdout",
     "output_type": "stream",
     "text": [
      "local_kwargs {'drop_obj_col': False, 'data_path_2': '2_Titanic/data/titanic_no_nan.csv', 'data_path_3': '2_Titanic/data/test.csv', 'nan_mean_neighbors': False, 'nan_zero': False, 'nan_mean': True, 'nan_drop_row': False, 'data_path_1': '2_Titanic/data/train.csv', 'nan_drop_col': False}\n"
     ]
    },
    {
     "name": "stderr",
     "output_type": "stream",
     "text": [
      "Using TensorFlow backend.\n"
     ]
    }
   ],
   "source": [
    "from Starts.startmodskl import *\n",
    "from Starts.startmodtf import *"
   ]
  },
  {
   "cell_type": "code",
   "execution_count": 2,
   "metadata": {},
   "outputs": [
    {
     "data": {
      "text/html": [
       "<div>\n",
       "<style scoped>\n",
       "    .dataframe tbody tr th:only-of-type {\n",
       "        vertical-align: middle;\n",
       "    }\n",
       "\n",
       "    .dataframe tbody tr th {\n",
       "        vertical-align: top;\n",
       "    }\n",
       "\n",
       "    .dataframe thead th {\n",
       "        text-align: right;\n",
       "    }\n",
       "</style>\n",
       "<table border=\"1\" class=\"dataframe\">\n",
       "  <thead>\n",
       "    <tr style=\"text-align: right;\">\n",
       "      <th></th>\n",
       "      <th>Survived</th>\n",
       "      <th>Pclass</th>\n",
       "      <th>Sex</th>\n",
       "      <th>Age</th>\n",
       "      <th>Ticket</th>\n",
       "      <th>Fare</th>\n",
       "      <th>Title</th>\n",
       "      <th>FamilySize</th>\n",
       "    </tr>\n",
       "  </thead>\n",
       "  <tbody>\n",
       "    <tr>\n",
       "      <th>0</th>\n",
       "      <td>0</td>\n",
       "      <td>3</td>\n",
       "      <td>1</td>\n",
       "      <td>49.0</td>\n",
       "      <td>574</td>\n",
       "      <td>0.0000</td>\n",
       "      <td>5</td>\n",
       "      <td>0</td>\n",
       "    </tr>\n",
       "    <tr>\n",
       "      <th>1</th>\n",
       "      <td>1</td>\n",
       "      <td>2</td>\n",
       "      <td>0</td>\n",
       "      <td>7.0</td>\n",
       "      <td>571</td>\n",
       "      <td>26.2500</td>\n",
       "      <td>4</td>\n",
       "      <td>2</td>\n",
       "    </tr>\n",
       "    <tr>\n",
       "      <th>2</th>\n",
       "      <td>0</td>\n",
       "      <td>3</td>\n",
       "      <td>1</td>\n",
       "      <td>33.0</td>\n",
       "      <td>378</td>\n",
       "      <td>8.6625</td>\n",
       "      <td>5</td>\n",
       "      <td>0</td>\n",
       "    </tr>\n",
       "    <tr>\n",
       "      <th>3</th>\n",
       "      <td>0</td>\n",
       "      <td>3</td>\n",
       "      <td>1</td>\n",
       "      <td>24.0</td>\n",
       "      <td>519</td>\n",
       "      <td>24.1500</td>\n",
       "      <td>5</td>\n",
       "      <td>2</td>\n",
       "    </tr>\n",
       "    <tr>\n",
       "      <th>4</th>\n",
       "      <td>1</td>\n",
       "      <td>1</td>\n",
       "      <td>0</td>\n",
       "      <td>30.0</td>\n",
       "      <td>0</td>\n",
       "      <td>86.5000</td>\n",
       "      <td>4</td>\n",
       "      <td>0</td>\n",
       "    </tr>\n",
       "  </tbody>\n",
       "</table>\n",
       "</div>"
      ],
      "text/plain": [
       "   Survived  Pclass  Sex   Age  Ticket     Fare  Title  FamilySize\n",
       "0         0       3    1  49.0     574   0.0000      5           0\n",
       "1         1       2    0   7.0     571  26.2500      4           2\n",
       "2         0       3    1  33.0     378   8.6625      5           0\n",
       "3         0       3    1  24.0     519  24.1500      5           2\n",
       "4         1       1    0  30.0       0  86.5000      4           0"
      ]
     },
     "execution_count": 2,
     "metadata": {},
     "output_type": "execute_result"
    }
   ],
   "source": [
    "nonan_data.head()"
   ]
  },
  {
   "cell_type": "code",
   "execution_count": 3,
   "metadata": {},
   "outputs": [
    {
     "name": "stdout",
     "output_type": "stream",
     "text": [
      "Epoch 1/1\n",
      "712/712 [==============================] - 0s 623us/step - loss: 0.6720 - acc: 0.6096\n"
     ]
    }
   ],
   "source": [
    "stf = StartModTF(nonan_data)\n",
    "# Try method Keras Tensorflow to predict the Survivors (column 'Survived')\n",
    "model, y_true, y_pred = stf.keras_sequential(nonan_data, 'Survived', hidden_layers=2)"
   ]
  },
  {
   "cell_type": "code",
   "execution_count": 4,
   "metadata": {},
   "outputs": [
    {
     "data": {
      "text/plain": [
       "(179, 179)"
      ]
     },
     "execution_count": 4,
     "metadata": {},
     "output_type": "execute_result"
    }
   ],
   "source": [
    "# Convert predicted value by rounding it (>0.5 will be considered as 1 else 0)\n",
    "y_pred = np.array([1 if item>0.5 else 0 for item in y_pred])\n",
    "\n",
    "# Compare the predicted value with true_value\n",
    "len(y_true), len(y_pred)"
   ]
  },
  {
   "cell_type": "code",
   "execution_count": 5,
   "metadata": {},
   "outputs": [
    {
     "data": {
      "text/plain": [
       "array([[115,   0],\n",
       "       [ 64,   0]])"
      ]
     },
     "execution_count": 5,
     "metadata": {},
     "output_type": "execute_result"
    }
   ],
   "source": [
    "confusion_matrix(y_true, y_pred)"
   ]
  },
  {
   "cell_type": "markdown",
   "metadata": {},
   "source": [
    "### Result: \n",
    "#### the correct predicted result 115\n",
    "#### the wrong predicted result 64"
   ]
  },
  {
   "cell_type": "code",
   "execution_count": 6,
   "metadata": {},
   "outputs": [
    {
     "name": "stdout",
     "output_type": "stream",
     "text": [
      "Epoch 1/10\n",
      "712/712 [==============================] - 0s 456us/step - loss: 0.6810 - acc: 0.6081\n",
      "Epoch 2/10\n",
      "712/712 [==============================] - 0s 317us/step - loss: 0.6432 - acc: 0.6180\n",
      "Epoch 3/10\n",
      "712/712 [==============================] - 0s 320us/step - loss: 0.6239 - acc: 0.6896\n",
      "Epoch 4/10\n",
      "712/712 [==============================] - 0s 383us/step - loss: 0.6096 - acc: 0.6966\n",
      "Epoch 5/10\n",
      "712/712 [==============================] - 0s 390us/step - loss: 0.5938 - acc: 0.7135\n",
      "Epoch 6/10\n",
      "712/712 [==============================] - 0s 402us/step - loss: 0.5919 - acc: 0.7135\n",
      "Epoch 7/10\n",
      "712/712 [==============================] - 0s 206us/step - loss: 0.5720 - acc: 0.7331\n",
      "Epoch 8/10\n",
      "712/712 [==============================] - 0s 262us/step - loss: 0.5892 - acc: 0.6994\n",
      "Epoch 9/10\n",
      "712/712 [==============================] - 0s 278us/step - loss: 0.5631 - acc: 0.7233\n",
      "Epoch 10/10\n",
      "712/712 [==============================] - 0s 266us/step - loss: 0.5517 - acc: 0.7191\n"
     ]
    }
   ],
   "source": [
    "# update parameters\n",
    "new_param={'hidden_units':[10,10,10], 'optimizer':'Adam', 'activation_fn':'sigmoid', 'learning_rate': 0.0001,\n",
    "           'steps':2000, 'batch_size':10, 'num_epochs':10, 'feature_scl':True}\n",
    "stf.update_parameters=new_param\n",
    "model, y_true, y_pred = stf.keras_sequential(nonan_data, 'Survived', hidden_layers=2)"
   ]
  },
  {
   "cell_type": "code",
   "execution_count": 7,
   "metadata": {},
   "outputs": [
    {
     "data": {
      "text/plain": [
       "array([[105,  10],\n",
       "       [ 32,  32]])"
      ]
     },
     "execution_count": 7,
     "metadata": {},
     "output_type": "execute_result"
    }
   ],
   "source": [
    "# Convert predicted value by rounding it (>0.5 will be considered as 1 else 0)\n",
    "y_pred = np.array([1 if item>0.5 else 0 for item in y_pred])\n",
    "confusion_matrix(y_true, y_pred)"
   ]
  },
  {
   "cell_type": "markdown",
   "metadata": {},
   "source": [
    "### Result: \n",
    "#### the correct predicted result 177 -> 137\n",
    "#### the wrong predicted result 2 -> 42 \n",
    "\n",
    "### Result has been changed (getting worse) without any impact from code, so data preprocessing has major impact on final result. In our case, the feature 'Ticket' was not removed during preprocess phase (NaN processing) and included into data. \n",
    "\n",
    "### Conclusion: unnecessary feature might be removed before building model."
   ]
  }
 ],
 "metadata": {
  "kernelspec": {
   "display_name": "Python 3",
   "language": "python",
   "name": "python3"
  },
  "language_info": {
   "codemirror_mode": {
    "name": "ipython",
    "version": 3
   },
   "file_extension": ".py",
   "mimetype": "text/x-python",
   "name": "python",
   "nbconvert_exporter": "python",
   "pygments_lexer": "ipython3",
   "version": "3.5.4"
  }
 },
 "nbformat": 4,
 "nbformat_minor": 2
}
