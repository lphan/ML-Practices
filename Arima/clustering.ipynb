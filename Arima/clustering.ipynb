{
 "cells": [
  {
   "cell_type": "markdown",
   "metadata": {},
   "source": [
    "## Classficiation the water levels in 3 levels using Clustering K-means method "
   ]
  },
  {
   "cell_type": "code",
   "execution_count": 118,
   "metadata": {},
   "outputs": [
    {
     "data": {
      "text/plain": [
       "DatetimeIndex(['1993-12-01 00:00:00', '1993-12-01 00:15:00',\n",
       "               '1993-12-01 00:30:00', '1993-12-01 00:45:00',\n",
       "               '1993-12-01 01:00:00', '1993-12-01 01:15:00',\n",
       "               '1993-12-01 01:30:00', '1993-12-01 01:45:00',\n",
       "               '1993-12-01 02:00:00', '1993-12-01 02:15:00',\n",
       "               ...\n",
       "               '2016-06-30 05:15:00', '2016-06-30 05:30:00',\n",
       "               '2016-06-30 05:45:00', '2016-06-30 06:00:00',\n",
       "               '2016-06-30 06:15:00', '2016-06-30 06:30:00',\n",
       "               '2016-06-30 06:45:00', '2016-06-30 07:00:00',\n",
       "               '2016-06-30 07:15:00', '2016-06-30 07:30:00'],\n",
       "              dtype='datetime64[ns]', name='datetime', length=17043, freq=None)"
      ]
     },
     "execution_count": 118,
     "metadata": {},
     "output_type": "execute_result"
    }
   ],
   "source": [
    "from params import *\n",
    "%matplotlib inline\n",
    "ts.index"
   ]
  },
  {
   "cell_type": "code",
   "execution_count": 119,
   "metadata": {},
   "outputs": [
    {
     "data": {
      "text/plain": [
       "array([1, 1, 1, ..., 0, 0, 0], dtype=int32)"
      ]
     },
     "execution_count": 119,
     "metadata": {},
     "output_type": "execute_result"
    }
   ],
   "source": [
    "from sklearn.cluster import KMeans\n",
    "# Predefine the number of clusters = 3 as 3 water levels\n",
    "kmeans = KMeans(n_clusters = 3, init = 'k-means++', random_state = 0)\n",
    "y_kmeans = kmeans.fit_predict(hw)\n",
    "y_kmeans"
   ]
  },
  {
   "cell_type": "code",
   "execution_count": 120,
   "metadata": {},
   "outputs": [
    {
     "data": {
      "text/plain": [
       "(358, 599)"
      ]
     },
     "execution_count": 120,
     "metadata": {},
     "output_type": "execute_result"
    }
   ],
   "source": [
    "ts.index[y_kmeans == 0]\n",
    "min(ts[y_kmeans == 0]), max(ts[y_kmeans == 0])"
   ]
  },
  {
   "cell_type": "code",
   "execution_count": 121,
   "metadata": {},
   "outputs": [
    {
     "data": {
      "text/plain": [
       "(121, 357)"
      ]
     },
     "execution_count": 121,
     "metadata": {},
     "output_type": "execute_result"
    }
   ],
   "source": [
    "ts.index[y_kmeans == 1]\n",
    "min(ts[y_kmeans == 1]), max(ts[y_kmeans == 1])"
   ]
  },
  {
   "cell_type": "code",
   "execution_count": 122,
   "metadata": {},
   "outputs": [
    {
     "data": {
      "text/plain": [
       "(600, 948)"
      ]
     },
     "execution_count": 122,
     "metadata": {},
     "output_type": "execute_result"
    }
   ],
   "source": [
    "ts.index[y_kmeans == 2]\n",
    "\n",
    "min(ts[y_kmeans == 2]), max(ts[y_kmeans == 2])"
   ]
  },
  {
   "cell_type": "code",
   "execution_count": 117,
   "metadata": {},
   "outputs": [
    {
     "data": {
      "text/plain": [
       "<matplotlib.legend.Legend at 0x7f8e6d49d860>"
      ]
     },
     "execution_count": 117,
     "metadata": {},
     "output_type": "execute_result"
    },
    {
     "data": {
      "image/png": "[encoded data removed]",
      "text/plain": [
       "<matplotlib.figure.Figure at 0x7f8e6d6c4da0>"
      ]
     },
     "metadata": {},
     "output_type": "display_data"
    }
   ],
   "source": [
    "plt.title(\"Classify the high water in 3 levels\")\n",
    "ts[y_kmeans == 0].plot(c = 'yellow', label = 'Cluster 1 (Warning)')\n",
    "ts[y_kmeans == 1].plot(c = 'green', label = 'Cluster 2 (Safe)')\n",
    "ts[y_kmeans == 2].plot(c = 'red', label = 'Cluster 3 (Alarm)')\n",
    "plt.xlabel('Timing (in Years) from 0:00 to 23:45')\n",
    "plt.ylabel('Water Level in (cm)')\n",
    "plt.legend()"
   ]
  }
 ],
 "metadata": {
  "kernelspec": {
   "display_name": "Python 3",
   "language": "python",
   "name": "python3"
  },
  "language_info": {
   "codemirror_mode": {
    "name": "ipython",
    "version": 3
   },
   "file_extension": ".py",
   "mimetype": "text/x-python",
   "name": "python",
   "nbconvert_exporter": "python",
   "pygments_lexer": "ipython3",
   "version": "3.5.4"
  }
 },
 "nbformat": 4,
 "nbformat_minor": 2
}
