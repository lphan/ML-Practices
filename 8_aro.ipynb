{
 "cells": [
  {
   "cell_type": "code",
   "execution_count": 1,
   "metadata": {},
   "outputs": [
    {
     "name": "stdout",
     "output_type": "stream",
     "text": [
      "local_kwargs {'nan_mean_neighbors': False, 'drop_obj_col': False, 'nan_drop_row': False, 'nan_drop_col': False, 'data_path_1': '8_ARO/data1.csv', 'data_path_3': '', 'data_path_2': '8_ARO/data2.json', 'nan_zero': False, 'nan_mean': True}\n"
     ]
    }
   ],
   "source": [
    "from Starts.startml import *\n",
    "%matplotlib inline"
   ]
  },
  {
   "cell_type": "code",
   "execution_count": 2,
   "metadata": {},
   "outputs": [
    {
     "name": "stdout",
     "output_type": "stream",
     "text": [
      "-4.798978 -4.798978\n",
      "14.0 14.0 25000\n",
      "[0. 1. 2. 3. 4. 5.] 0.05284\n"
     ]
    }
   ],
   "source": [
    "print(train_data['overdue'].mean(), np.mean(train_data['overdue'].values))\n",
    "print(train_data['sla'].median(), np.median(train_data['sla'].values), len(train_data))\n",
    "print(np.unique(train_data['type'].values), len(train_data[train_data['type']==2])/ len(train_data))"
   ]
  },
  {
   "cell_type": "code",
   "execution_count": 3,
   "metadata": {
    "collapsed": true
   },
   "outputs": [],
   "source": [
    "train_data.columns, nonan_data.columns\n",
    "arundo = nonan_data.merge(train_data, how='left', on=['id'])"
   ]
  },
  {
   "cell_type": "code",
   "execution_count": 4,
   "metadata": {},
   "outputs": [
    {
     "name": "stdout",
     "output_type": "stream",
     "text": [
      "509\n",
      "526\n",
      "506\n",
      "623\n"
     ]
    }
   ],
   "source": [
    "nonan_data = StartML.convert_time_series(nonan_data, 'created', format=False)\n",
    "# nonan_data['created'] = pd.to_datetime(nonan_data['created'], unit='ms')\n",
    "# nonan_data = nonan_data.set_index('created')\n",
    "# nonan_data = nonan_data.sort_index()\n",
    "\n",
    "print(len(nonan_data['2013-03-04':'2013-03-10']))\n",
    "print(len(nonan_data['2013-07-15':'2013-07-21']))\n",
    "print(len(nonan_data['2013-09-02':'2013-09-08']))\n",
    "print(len(nonan_data['2013-08-12':'2013-08-18']))"
   ]
  },
  {
   "cell_type": "code",
   "execution_count": 5,
   "metadata": {},
   "outputs": [
    {
     "name": "stdout",
     "output_type": "stream",
     "text": [
      "6 4 25000 25000\n"
     ]
    }
   ],
   "source": [
    "print(len(train_data.columns), len(nonan_data.columns), len(train_data), len(nonan_data))"
   ]
  },
  {
   "cell_type": "code",
   "execution_count": 6,
   "metadata": {},
   "outputs": [
    {
     "data": {
      "text/html": [
       "<div>\n",
       "<style scoped>\n",
       "    .dataframe tbody tr th:only-of-type {\n",
       "        vertical-align: middle;\n",
       "    }\n",
       "\n",
       "    .dataframe tbody tr th {\n",
       "        vertical-align: top;\n",
       "    }\n",
       "\n",
       "    .dataframe thead th {\n",
       "        text-align: right;\n",
       "    }\n",
       "</style>\n",
       "<table border=\"1\" class=\"dataframe\">\n",
       "  <thead>\n",
       "    <tr style=\"text-align: right;\">\n",
       "      <th></th>\n",
       "      <th>id</th>\n",
       "      <th>sla</th>\n",
       "      <th>overdue</th>\n",
       "      <th>x</th>\n",
       "      <th>y</th>\n",
       "      <th>type</th>\n",
       "    </tr>\n",
       "  </thead>\n",
       "  <tbody>\n",
       "    <tr>\n",
       "      <th>0</th>\n",
       "      <td>101000879701</td>\n",
       "      <td>10.0</td>\n",
       "      <td>-8.98</td>\n",
       "      <td>3105443.57</td>\n",
       "      <td>13832598.28</td>\n",
       "      <td>3.0</td>\n",
       "    </tr>\n",
       "    <tr>\n",
       "      <th>1</th>\n",
       "      <td>11682872-101001143202</td>\n",
       "      <td>14.0</td>\n",
       "      <td>-7.79</td>\n",
       "      <td>3047695.62</td>\n",
       "      <td>13826869.96</td>\n",
       "      <td>3.0</td>\n",
       "    </tr>\n",
       "    <tr>\n",
       "      <th>2</th>\n",
       "      <td>101001090815</td>\n",
       "      <td>10.0</td>\n",
       "      <td>-8.59</td>\n",
       "      <td>3078170.34</td>\n",
       "      <td>13820368.28</td>\n",
       "      <td>3.0</td>\n",
       "    </tr>\n",
       "    <tr>\n",
       "      <th>3</th>\n",
       "      <td>11594791-101000891316</td>\n",
       "      <td>15.0</td>\n",
       "      <td>-14.89</td>\n",
       "      <td>3041615.31</td>\n",
       "      <td>13820936.90</td>\n",
       "      <td>3.0</td>\n",
       "    </tr>\n",
       "    <tr>\n",
       "      <th>4</th>\n",
       "      <td>101001002655</td>\n",
       "      <td>4.0</td>\n",
       "      <td>4.57</td>\n",
       "      <td>3041051.24</td>\n",
       "      <td>13824386.21</td>\n",
       "      <td>3.0</td>\n",
       "    </tr>\n",
       "  </tbody>\n",
       "</table>\n",
       "</div>"
      ],
      "text/plain": [
       "                      id   sla  overdue           x            y  type\n",
       "0           101000879701  10.0    -8.98  3105443.57  13832598.28   3.0\n",
       "1  11682872-101001143202  14.0    -7.79  3047695.62  13826869.96   3.0\n",
       "2           101001090815  10.0    -8.59  3078170.34  13820368.28   3.0\n",
       "3  11594791-101000891316  15.0   -14.89  3041615.31  13820936.90   3.0\n",
       "4           101001002655   4.0     4.57  3041051.24  13824386.21   3.0"
      ]
     },
     "execution_count": 6,
     "metadata": {},
     "output_type": "execute_result"
    }
   ],
   "source": [
    "train_data.head()"
   ]
  },
  {
   "cell_type": "code",
   "execution_count": 7,
   "metadata": {},
   "outputs": [
    {
     "data": {
      "text/html": [
       "<div>\n",
       "<style scoped>\n",
       "    .dataframe tbody tr th:only-of-type {\n",
       "        vertical-align: middle;\n",
       "    }\n",
       "\n",
       "    .dataframe tbody tr th {\n",
       "        vertical-align: top;\n",
       "    }\n",
       "\n",
       "    .dataframe thead th {\n",
       "        text-align: right;\n",
       "    }\n",
       "</style>\n",
       "<table border=\"1\" class=\"dataframe\">\n",
       "  <thead>\n",
       "    <tr style=\"text-align: right;\">\n",
       "      <th></th>\n",
       "      <th>district</th>\n",
       "      <th>id</th>\n",
       "      <th>id2</th>\n",
       "      <th>key</th>\n",
       "    </tr>\n",
       "    <tr>\n",
       "      <th>created</th>\n",
       "      <th></th>\n",
       "      <th></th>\n",
       "      <th></th>\n",
       "      <th></th>\n",
       "    </tr>\n",
       "  </thead>\n",
       "  <tbody>\n",
       "    <tr>\n",
       "      <th>2013-01-01 08:26:29</th>\n",
       "      <td>C</td>\n",
       "      <td>101000874001</td>\n",
       "      <td>0690420070016</td>\n",
       "      <td>492F</td>\n",
       "    </tr>\n",
       "    <tr>\n",
       "      <th>2013-01-01 09:03:21</th>\n",
       "      <td>I</td>\n",
       "      <td>11587257-101000874009</td>\n",
       "      <td>0731430060005</td>\n",
       "      <td>494Y</td>\n",
       "    </tr>\n",
       "    <tr>\n",
       "      <th>2013-01-01 10:00:58</th>\n",
       "      <td>B</td>\n",
       "      <td>101000874025</td>\n",
       "      <td>0931670000537</td>\n",
       "      <td>375J</td>\n",
       "    </tr>\n",
       "    <tr>\n",
       "      <th>2013-01-01 10:24:31</th>\n",
       "      <td>D</td>\n",
       "      <td>11587271-101000874033</td>\n",
       "      <td>1220790000001</td>\n",
       "      <td>573D</td>\n",
       "    </tr>\n",
       "    <tr>\n",
       "      <th>2013-01-01 10:59:03</th>\n",
       "      <td>A</td>\n",
       "      <td>101000874044</td>\n",
       "      <td>0772810070057</td>\n",
       "      <td>450U</td>\n",
       "    </tr>\n",
       "  </tbody>\n",
       "</table>\n",
       "</div>"
      ],
      "text/plain": [
       "                    district                     id            id2   key\n",
       "created                                                                 \n",
       "2013-01-01 08:26:29        C           101000874001  0690420070016  492F\n",
       "2013-01-01 09:03:21        I  11587257-101000874009  0731430060005  494Y\n",
       "2013-01-01 10:00:58        B           101000874025  0931670000537  375J\n",
       "2013-01-01 10:24:31        D  11587271-101000874033  1220790000001  573D\n",
       "2013-01-01 10:59:03        A           101000874044  0772810070057  450U"
      ]
     },
     "execution_count": 7,
     "metadata": {},
     "output_type": "execute_result"
    }
   ],
   "source": [
    "nonan_data.head()"
   ]
  },
  {
   "cell_type": "code",
   "execution_count": 8,
   "metadata": {},
   "outputs": [],
   "source": [
    "StartML.convert_time_series(arundo, 'created', format=False)\n",
    "arundo['day'] = [t.weekday() for t in arundo.index]    \n",
    "# arundo['created'] = pd.to_datetime(arundo['created'], unit='ms')\n",
    "# arundo = arundo.set_index('created')\n",
    "# arundo = arundo.sort_index()"
   ]
  },
  {
   "cell_type": "code",
   "execution_count": 9,
   "metadata": {},
   "outputs": [
    {
     "data": {
      "text/plain": [
       "DatetimeIndex(['2013-01-07 15:17:10', '2013-09-28 11:28:36',\n",
       "               '2013-08-12 06:59:41', '2013-01-18 13:51:53',\n",
       "               '2013-05-13 16:35:05', '2013-04-22 13:22:48',\n",
       "               '2013-02-08 13:16:15', '2013-09-20 16:26:37',\n",
       "               '2013-05-24 10:41:58', '2013-06-11 09:59:40',\n",
       "               ...\n",
       "               '2013-06-24 11:28:10', '2013-03-05 12:31:26',\n",
       "               '2013-04-24 15:57:09', '2013-10-23 09:18:09',\n",
       "               '2013-09-13 02:47:02', '2013-06-21 14:28:00',\n",
       "               '2013-02-15 15:31:39', '2013-06-27 17:47:59',\n",
       "               '2013-09-27 14:13:14', '2013-09-03 17:46:00'],\n",
       "              dtype='datetime64[ns]', name='created', length=25000, freq=None)"
      ]
     },
     "execution_count": 9,
     "metadata": {},
     "output_type": "execute_result"
    }
   ],
   "source": [
    "arundo.index"
   ]
  },
  {
   "cell_type": "code",
   "execution_count": 10,
   "metadata": {},
   "outputs": [
    {
     "data": {
      "text/plain": [
       "<matplotlib.axes._subplots.AxesSubplot at 0x7f793d0e8f28>"
      ]
     },
     "execution_count": 10,
     "metadata": {},
     "output_type": "execute_result"
    },
    {
     "data": {
      "image/png": "[encoded data removed]",
      "text/plain": [
       "<matplotlib.figure.Figure at 0x7f793d0e8a20>"
      ]
     },
     "metadata": {},
     "output_type": "display_data"
    }
   ],
   "source": [
    "arundo['2013-01']['overdue'].plot()\n",
    "arundo['2013-02']['overdue'].plot()\n",
    "arundo['2013-03']['overdue'].plot()\n",
    "arundo['2013-04']['overdue'].plot()\n",
    "arundo['2013-05']['overdue'].plot()\n",
    "arundo['2013-06']['overdue'].plot()\n",
    "arundo['2013-07']['overdue'].plot()\n",
    "arundo['2013-08']['overdue'].plot()\n",
    "arundo['2013-09']['overdue'].plot()\n",
    "arundo['2013-10']['overdue'].plot()\n",
    "arundo['2013-11']['overdue'].plot()\n",
    "arundo['2013-12']['overdue'].plot()"
   ]
  },
  {
   "cell_type": "code",
   "execution_count": 11,
   "metadata": {},
   "outputs": [
    {
     "data": {
      "text/plain": [
       "<matplotlib.axes._subplots.AxesSubplot at 0x7f793d0e1d30>"
      ]
     },
     "execution_count": 11,
     "metadata": {},
     "output_type": "execute_result"
    },
    {
     "data": {
      "image/png": "[encoded data removed]",
      "text/plain": [
       "<matplotlib.figure.Figure at 0x7f793d0e3cc0>"
      ]
     },
     "metadata": {},
     "output_type": "display_data"
    }
   ],
   "source": [
    "# '2013-03-04':'2013-03-10'\n",
    "arundo['2013-12-01':'2013-12-31']['overdue'].plot()"
   ]
  },
  {
   "cell_type": "code",
   "execution_count": 12,
   "metadata": {},
   "outputs": [
    {
     "data": {
      "text/plain": [
       "created\n",
       "2013-12-17 09:50:41     -9.80\n",
       "2013-12-13 09:10:56    -13.57\n",
       "2013-12-10 12:53:29   -179.99\n",
       "2013-12-04 01:30:43     -4.36\n",
       "2013-12-17 10:48:46     -1.83\n",
       "2013-12-17 02:43:26      4.41\n",
       "2013-12-10 11:22:25     -4.16\n",
       "2013-12-30 15:09:43    -34.18\n",
       "2013-12-12 00:47:41      0.36\n",
       "2013-12-27 13:56:02    -39.19\n",
       "2013-12-03 17:33:56      0.63\n",
       "2013-12-10 08:21:05    -19.84\n",
       "2013-12-17 11:39:11     -1.99\n",
       "2013-12-12 16:10:57    -13.28\n",
       "2013-12-10 17:05:06     -6.08\n",
       "2013-12-10 07:38:12    -23.91\n",
       "2013-12-09 17:02:23     -7.07\n",
       "2013-12-31 13:04:47    -18.15\n",
       "2013-12-12 18:10:56   -203.75\n",
       "2013-12-17 10:23:25    -28.14\n",
       "2013-12-07 13:00:02     -2.80\n",
       "2013-12-19 09:55:08    -34.85\n",
       "2013-12-09 16:18:52     -6.30\n",
       "2013-12-06 13:37:23    -56.07\n",
       "2013-12-27 10:38:43     -5.98\n",
       "2013-12-18 13:08:30    -13.00\n",
       "2013-12-31 02:27:53     -5.89\n",
       "2013-12-05 15:52:56     -8.20\n",
       "2013-12-14 17:37:52     -0.13\n",
       "2013-12-30 12:45:42     -7.91\n",
       "                        ...  \n",
       "2013-12-26 09:47:50     -0.85\n",
       "2013-12-18 17:27:50    -13.05\n",
       "2013-12-16 11:14:02     -2.82\n",
       "2013-12-09 14:49:47     17.94\n",
       "2013-12-16 12:35:42    -13.16\n",
       "2013-12-04 01:37:31     -3.42\n",
       "2013-12-10 16:45:24   -171.26\n",
       "2013-12-04 10:04:16     -8.83\n",
       "2013-12-14 15:10:31    -28.23\n",
       "2013-12-11 14:17:53    -12.35\n",
       "2013-12-12 08:55:57     -5.98\n",
       "2013-12-10 14:46:35   -167.24\n",
       "2013-12-06 08:02:22     -2.80\n",
       "2013-12-24 15:19:33    -14.96\n",
       "2013-12-13 08:37:06    -14.75\n",
       "2013-12-09 15:07:27     -2.99\n",
       "2013-12-05 18:29:59      0.98\n",
       "2013-12-13 09:52:33    -13.86\n",
       "2013-12-13 11:13:01      7.00\n",
       "2013-12-31 09:21:08     -4.00\n",
       "2013-12-13 13:55:07    -12.11\n",
       "2013-12-14 14:41:27    -14.94\n",
       "2013-12-12 09:12:56     -0.63\n",
       "2013-12-16 15:56:29     -2.03\n",
       "2013-12-05 06:49:55      3.31\n",
       "2013-12-10 12:34:07      1.76\n",
       "2013-12-30 09:09:44     -0.92\n",
       "2013-12-23 10:43:16     -8.90\n",
       "2013-12-31 14:56:59     -0.28\n",
       "2013-12-23 11:22:33      0.16\n",
       "Name: overdue, Length: 2040, dtype: float64"
      ]
     },
     "execution_count": 12,
     "metadata": {},
     "output_type": "execute_result"
    }
   ],
   "source": [
    "arundo['2013-12-01':'2013-12-31']['overdue']"
   ]
  },
  {
   "cell_type": "code",
   "execution_count": 13,
   "metadata": {},
   "outputs": [
    {
     "data": {
      "text/plain": [
       "-501.04"
      ]
     },
     "execution_count": 13,
     "metadata": {},
     "output_type": "execute_result"
    }
   ],
   "source": [
    "min(arundo['2013-12-01':'2013-12-31']['overdue'])"
   ]
  },
  {
   "cell_type": "code",
   "execution_count": 14,
   "metadata": {},
   "outputs": [
    {
     "data": {
      "text/plain": [
       "array([[Timestamp('2013-12-16 15:43:26'), 'overdue']], dtype=object)"
      ]
     },
     "execution_count": 14,
     "metadata": {},
     "output_type": "execute_result"
    }
   ],
   "source": [
    "StartML.lookup_value(arundo, -501.04)"
   ]
  },
  {
   "cell_type": "code",
   "execution_count": 15,
   "metadata": {},
   "outputs": [
    {
     "data": {
      "text/plain": [
       "-501.04"
      ]
     },
     "execution_count": 15,
     "metadata": {},
     "output_type": "execute_result"
    }
   ],
   "source": [
    "min(arundo['2013-12-16']['overdue'])"
   ]
  },
  {
   "cell_type": "code",
   "execution_count": 16,
   "metadata": {},
   "outputs": [
    {
     "data": {
      "text/plain": [
       "{0: DatetimeIndex(['2013-01-07 15:17:10', '2013-08-12 06:59:41',\n",
       "                '2013-05-13 16:35:05', '2013-04-22 13:22:48',\n",
       "                '2013-01-14 14:54:26', '2013-11-25 14:19:31',\n",
       "                '2013-06-24 16:14:26', '2013-03-11 16:17:12',\n",
       "                '2013-05-06 01:41:22', '2013-01-28 09:55:51',\n",
       "                ...\n",
       "                '2013-03-11 10:06:02', '2013-12-23 11:22:33',\n",
       "                '2013-10-07 10:33:26', '2013-08-19 16:54:53',\n",
       "                '2013-08-26 08:21:41', '2013-06-17 09:58:22',\n",
       "                '2013-01-07 18:54:54', '2013-11-04 17:16:29',\n",
       "                '2013-11-11 09:56:37', '2013-06-24 11:28:10'],\n",
       "               dtype='datetime64[ns]', name='created', length=4921, freq=None),\n",
       " 1: DatetimeIndex(['2013-06-11 09:59:40', '2013-10-01 15:44:59',\n",
       "                '2013-06-25 12:45:25', '2013-01-29 16:24:20',\n",
       "                '2013-12-17 09:50:41', '2013-09-17 11:46:17',\n",
       "                '2013-09-10 13:21:36', '2013-03-19 10:25:42',\n",
       "                '2013-05-28 07:42:54', '2013-01-08 16:40:51',\n",
       "                ...\n",
       "                '2013-10-22 15:52:32', '2013-02-19 11:11:08',\n",
       "                '2013-02-19 09:29:53', '2013-04-02 08:04:45',\n",
       "                '2013-08-27 10:25:15', '2013-02-19 11:56:20',\n",
       "                '2013-04-02 22:21:18', '2013-05-21 15:57:49',\n",
       "                '2013-03-05 12:31:26', '2013-09-03 17:46:00'],\n",
       "               dtype='datetime64[ns]', name='created', length=4820, freq=None),\n",
       " 2: DatetimeIndex(['2013-09-18 18:11:24', '2013-05-29 16:43:22',\n",
       "                '2013-11-06 07:21:16', '2013-02-06 14:58:32',\n",
       "                '2013-05-15 08:24:31', '2013-06-19 20:46:25',\n",
       "                '2013-06-19 14:15:06', '2013-01-30 12:59:00',\n",
       "                '2013-07-10 13:42:49', '2013-08-21 01:31:08',\n",
       "                ...\n",
       "                '2013-05-29 08:06:28', '2013-06-19 15:25:46',\n",
       "                '2013-10-02 09:26:53', '2013-05-29 09:54:52',\n",
       "                '2013-01-30 11:56:40', '2013-06-12 12:41:01',\n",
       "                '2013-10-16 10:56:14', '2013-10-30 08:13:32',\n",
       "                '2013-04-24 15:57:09', '2013-10-23 09:18:09'],\n",
       "               dtype='datetime64[ns]', name='created', length=4064, freq=None),\n",
       " 3: DatetimeIndex(['2013-08-01 20:40:30', '2013-01-03 16:25:12',\n",
       "                '2013-01-03 09:49:41', '2013-03-21 18:02:49',\n",
       "                '2013-03-21 16:32:03', '2013-03-28 07:27:34',\n",
       "                '2013-06-13 10:15:45', '2013-08-08 11:48:26',\n",
       "                '2013-04-25 18:28:07', '2013-08-15 12:10:26',\n",
       "                ...\n",
       "                '2013-12-05 06:49:55', '2013-04-04 07:03:45',\n",
       "                '2013-08-08 14:41:11', '2013-08-22 08:19:42',\n",
       "                '2013-07-11 15:45:53', '2013-08-08 14:12:58',\n",
       "                '2013-08-01 13:02:56', '2013-08-08 07:42:54',\n",
       "                '2013-02-07 15:20:29', '2013-06-27 17:47:59'],\n",
       "               dtype='datetime64[ns]', name='created', length=4246, freq=None),\n",
       " 4: DatetimeIndex(['2013-01-18 13:51:53', '2013-02-08 13:16:15',\n",
       "                '2013-09-20 16:26:37', '2013-05-24 10:41:58',\n",
       "                '2013-10-25 19:50:10', '2013-07-19 15:50:14',\n",
       "                '2013-11-01 14:27:25', '2013-12-13 09:10:56',\n",
       "                '2013-05-31 18:42:25', '2013-07-26 23:08:15',\n",
       "                ...\n",
       "                '2013-09-27 08:38:38', '2013-06-07 10:30:34',\n",
       "                '2013-11-15 10:19:01', '2013-04-12 12:18:54',\n",
       "                '2013-08-23 10:57:14', '2013-04-19 14:43:25',\n",
       "                '2013-09-13 02:47:02', '2013-06-21 14:28:00',\n",
       "                '2013-02-15 15:31:39', '2013-09-27 14:13:14'],\n",
       "               dtype='datetime64[ns]', name='created', length=4191, freq=None),\n",
       " 5: DatetimeIndex(['2013-09-28 11:28:36', '2013-09-07 17:56:06',\n",
       "                '2013-04-27 12:38:54', '2013-11-09 10:38:06',\n",
       "                '2013-11-23 20:19:47', '2013-01-26 11:17:43',\n",
       "                '2013-03-30 09:21:09', '2013-09-21 08:36:21',\n",
       "                '2013-04-20 09:21:14', '2013-07-27 10:36:16',\n",
       "                ...\n",
       "                '2013-12-14 14:41:27', '2013-01-19 11:18:17',\n",
       "                '2013-03-16 09:40:29', '2013-03-16 13:21:53',\n",
       "                '2013-04-27 17:02:13', '2013-10-12 12:01:28',\n",
       "                '2013-09-14 19:52:25', '2013-03-30 00:44:01',\n",
       "                '2013-11-09 12:04:29', '2013-11-30 17:38:23'],\n",
       "               dtype='datetime64[ns]', name='created', length=1610, freq=None),\n",
       " 6: DatetimeIndex(['2013-03-17 08:25:52', '2013-08-18 13:34:41',\n",
       "                '2013-10-20 09:08:20', '2013-03-10 10:48:16',\n",
       "                '2013-06-23 16:10:24', '2013-02-24 12:16:02',\n",
       "                '2013-08-11 10:36:05', '2013-09-22 11:34:25',\n",
       "                '2013-02-17 14:50:18', '2013-02-24 12:49:07',\n",
       "                ...\n",
       "                '2013-07-28 15:46:08', '2013-07-21 21:31:57',\n",
       "                '2013-07-21 17:10:27', '2013-03-24 20:55:58',\n",
       "                '2013-11-03 00:31:20', '2013-03-03 15:21:15',\n",
       "                '2013-04-14 19:19:02', '2013-09-08 13:05:25',\n",
       "                '2013-09-08 09:38:09', '2013-11-03 12:38:25'],\n",
       "               dtype='datetime64[ns]', name='created', length=1148, freq=None)}"
      ]
     },
     "execution_count": 16,
     "metadata": {},
     "output_type": "execute_result"
    }
   ],
   "source": [
    "grouped = arundo.groupby(['day'])  \n",
    "arundo.groupby(['day']).groups"
   ]
  },
  {
   "cell_type": "code",
   "execution_count": 17,
   "metadata": {},
   "outputs": [
    {
     "data": {
      "text/plain": [
       "day\n",
       "0    -4.413410\n",
       "1    -3.808284\n",
       "2    -3.825404\n",
       "3    -1.377711\n",
       "4    -6.304658\n",
       "5    -9.960528\n",
       "6   -13.976185\n",
       "Name: overdue, dtype: float64"
      ]
     },
     "execution_count": 17,
     "metadata": {},
     "output_type": "execute_result"
    }
   ],
   "source": [
    "grouped['overdue'].agg(np.mean)"
   ]
  },
  {
   "cell_type": "code",
   "execution_count": 18,
   "metadata": {},
   "outputs": [
    {
     "data": {
      "text/plain": [
       "(39, 25000)"
      ]
     },
     "execution_count": 18,
     "metadata": {},
     "output_type": "execute_result"
    }
   ],
   "source": [
    "len(arundo[arundo['district']=='Unknown']), len(arundo)"
   ]
  },
  {
   "cell_type": "code",
   "execution_count": 19,
   "metadata": {
    "collapsed": true
   },
   "outputs": [],
   "source": [
    "arundo = arundo.drop(arundo[arundo['district']=='Unknown'].index)"
   ]
  },
  {
   "cell_type": "code",
   "execution_count": 20,
   "metadata": {},
   "outputs": [
    {
     "data": {
      "text/plain": [
       "24961"
      ]
     },
     "execution_count": 20,
     "metadata": {},
     "output_type": "execute_result"
    }
   ],
   "source": [
    "len(arundo)"
   ]
  },
  {
   "cell_type": "code",
   "execution_count": 21,
   "metadata": {},
   "outputs": [
    {
     "data": {
      "text/plain": [
       "(3110040.0742802364, 13835838.319422746)"
      ]
     },
     "execution_count": 21,
     "metadata": {},
     "output_type": "execute_result"
    }
   ],
   "source": [
    "mean_dat_x = arundo['x'].mean()\n",
    "mean_dat_y = arundo['y'].mean()\n",
    "mean_dat_x, mean_dat_y"
   ]
  },
  {
   "cell_type": "code",
   "execution_count": 22,
   "metadata": {},
   "outputs": [
    {
     "data": {
      "text/plain": [
       "array(['C', 'F', 'J', 'K', 'D', 'E', 'B', 'A', 'G', 'I', 'H'],\n",
       "      dtype=object)"
      ]
     },
     "execution_count": 22,
     "metadata": {},
     "output_type": "execute_result"
    }
   ],
   "source": [
    "arundo.head()\n",
    "arundo['district'].unique()"
   ]
  },
  {
   "cell_type": "code",
   "execution_count": 23,
   "metadata": {
    "collapsed": true
   },
   "outputs": [],
   "source": [
    "ad = arundo[['district','x', 'y']]"
   ]
  },
  {
   "cell_type": "code",
   "execution_count": 24,
   "metadata": {},
   "outputs": [
    {
     "name": "stdout",
     "output_type": "stream",
     "text": [
      "3110040.0742802364 4607.0842802361585 69643.97571976343\n",
      "3110040.0742802364 100411.49428023631 14134.984280236531\n",
      "3110040.0742802364 51364.38428023644 4878.960829763673\n",
      "3110040.0742802364 31927.154280236457 8564.582419763785\n"
     ]
    }
   ],
   "source": [
    "print(mean_dat_x, abs(mean_dat_x-min(sorted(ad[ad['district']=='D']['x']))), abs(mean_dat_x-max(sorted(ad[ad['district']=='D']['x']))))\n",
    "print(mean_dat_x, abs(mean_dat_x-min(sorted(ad[ad['district']=='A']['x']))), abs(mean_dat_x-max(sorted(ad[ad['district']=='A']['x']))))\n",
    "print(mean_dat_x, abs(mean_dat_x-min(sorted(ad[ad['district']=='K']['x']))), abs(mean_dat_x-(max(sorted(ad[ad['district']=='K']['x'])))))\n",
    "print(mean_dat_x, abs(mean_dat_x-min(sorted(ad[ad['district']=='C']['x']))), abs(mean_dat_x-max(sorted(ad[ad['district']=='C']['x']))))"
   ]
  },
  {
   "cell_type": "code",
   "execution_count": 25,
   "metadata": {},
   "outputs": [
    {
     "name": "stdout",
     "output_type": "stream",
     "text": [
      "13835838.319422746 58298.09942274541 5049.024747254327\n",
      "13835838.319422746 12469.340577254072 80865.75057725422\n",
      "13835838.319422746 63718.40844275057 14930.69031274505\n",
      "13835838.319422746 29254.650502745062 43042.02009725571\n"
     ]
    }
   ],
   "source": [
    "print(mean_dat_y, abs(mean_dat_y-min(ad[ad['district']=='D']['y'])), abs(mean_dat_y-max(ad[ad['district']=='D']['y'])))\n",
    "print(mean_dat_y, abs(mean_dat_y-min(ad[ad['district']=='A']['y'])), abs(mean_dat_y-max(ad[ad['district']=='A']['y'])))\n",
    "print(mean_dat_y, abs(mean_dat_y-min(ad[ad['district']=='K']['y'])), abs(mean_dat_y-max(ad[ad['district']=='K']['y'])))\n",
    "print(mean_dat_y, abs(mean_dat_y-min(ad[ad['district']=='C']['y'])), abs(mean_dat_y-max(ad[ad['district']=='C']['y'])))"
   ]
  },
  {
   "cell_type": "code",
   "execution_count": null,
   "metadata": {
    "collapsed": true
   },
   "outputs": [],
   "source": []
  }
 ],
 "metadata": {
  "kernelspec": {
   "display_name": "Python 3",
   "language": "python",
   "name": "python3"
  },
  "language_info": {
   "codemirror_mode": {
    "name": "ipython",
    "version": 3
   },
   "file_extension": ".py",
   "mimetype": "text/x-python",
   "name": "python",
   "nbconvert_exporter": "python",
   "pygments_lexer": "ipython3",
   "version": "3.5.4"
  }
 },
 "nbformat": 4,
 "nbformat_minor": 2
}
