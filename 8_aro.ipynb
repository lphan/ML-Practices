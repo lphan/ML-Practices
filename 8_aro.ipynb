{
 "cells": [
  {
   "cell_type": "code",
   "execution_count": 1,
   "metadata": {},
   "outputs": [
    {
     "name": "stdout",
     "output_type": "stream",
     "text": [
      "local_kwargs {'nan_mean': True, 'nan_zero': False, 'data_path_2': '8_ARO/data2.json', 'nan_drop_row': False, 'nan_mean_neighbors': False, 'data_path_3': '', 'data_path_1': '8_ARO/data1.csv', 'drop_obj_col': False, 'nan_drop_col': False}\n"
     ]
    }
   ],
   "source": [
    "from Starts.startml import *"
   ]
  },
  {
   "cell_type": "code",
   "execution_count": 2,
   "metadata": {},
   "outputs": [
    {
     "name": "stdout",
     "output_type": "stream",
     "text": [
      "-4.798978 -4.798978\n",
      "14.0 14.0 25000\n",
      "[0. 1. 2. 3. 4. 5.] 0.05284\n"
     ]
    }
   ],
   "source": [
    "print(train_data['overdue'].mean(), np.mean(train_data['overdue'].values))\n",
    "print(train_data['sla'].median(), np.median(train_data['sla'].values), len(train_data))\n",
    "print(np.unique(train_data['type'].values), len(train_data[train_data['type']==2])/ len(train_data))"
   ]
  },
  {
   "cell_type": "code",
   "execution_count": 3,
   "metadata": {
    "collapsed": true
   },
   "outputs": [],
   "source": [
    "train_data.columns, nonan_data.columns\n",
    "arundo = nonan_data.merge(train_data, how='left', on=['id'])"
   ]
  },
  {
   "cell_type": "code",
   "execution_count": 4,
   "metadata": {},
   "outputs": [
    {
     "name": "stdout",
     "output_type": "stream",
     "text": [
      "509\n",
      "526\n",
      "506\n",
      "623\n"
     ]
    }
   ],
   "source": [
    "nonan_data['created'] = pd.to_datetime(nonan_data['created'], unit='ms')\n",
    "nonan_data = nonan_data.set_index('created')\n",
    "nonan_data = nonan_data.sort_index()\n",
    "\n",
    "print(len(nonan_data['2013-03-04':'2013-03-10']))\n",
    "print(len(nonan_data['2013-07-15':'2013-07-21']))\n",
    "print(len(nonan_data['2013-09-02':'2013-09-08']))\n",
    "print(len(nonan_data['2013-08-12':'2013-08-18']))"
   ]
  },
  {
   "cell_type": "code",
   "execution_count": 5,
   "metadata": {},
   "outputs": [
    {
     "name": "stdout",
     "output_type": "stream",
     "text": [
      "6 4 25000 25000\n"
     ]
    }
   ],
   "source": [
    "print(len(train_data.columns), len(nonan_data.columns), len(train_data), len(nonan_data))"
   ]
  },
  {
   "cell_type": "code",
   "execution_count": 6,
   "metadata": {},
   "outputs": [
    {
     "data": {
      "text/html": [
       "<div>\n",
       "<style scoped>\n",
       "    .dataframe tbody tr th:only-of-type {\n",
       "        vertical-align: middle;\n",
       "    }\n",
       "\n",
       "    .dataframe tbody tr th {\n",
       "        vertical-align: top;\n",
       "    }\n",
       "\n",
       "    .dataframe thead th {\n",
       "        text-align: right;\n",
       "    }\n",
       "</style>\n",
       "<table border=\"1\" class=\"dataframe\">\n",
       "  <thead>\n",
       "    <tr style=\"text-align: right;\">\n",
       "      <th></th>\n",
       "      <th>id</th>\n",
       "      <th>sla</th>\n",
       "      <th>overdue</th>\n",
       "      <th>x</th>\n",
       "      <th>y</th>\n",
       "      <th>type</th>\n",
       "    </tr>\n",
       "  </thead>\n",
       "  <tbody>\n",
       "    <tr>\n",
       "      <th>0</th>\n",
       "      <td>101000879701</td>\n",
       "      <td>10.0</td>\n",
       "      <td>-8.98</td>\n",
       "      <td>3105443.57</td>\n",
       "      <td>13832598.28</td>\n",
       "      <td>3.0</td>\n",
       "    </tr>\n",
       "    <tr>\n",
       "      <th>1</th>\n",
       "      <td>11682872-101001143202</td>\n",
       "      <td>14.0</td>\n",
       "      <td>-7.79</td>\n",
       "      <td>3047695.62</td>\n",
       "      <td>13826869.96</td>\n",
       "      <td>3.0</td>\n",
       "    </tr>\n",
       "    <tr>\n",
       "      <th>2</th>\n",
       "      <td>101001090815</td>\n",
       "      <td>10.0</td>\n",
       "      <td>-8.59</td>\n",
       "      <td>3078170.34</td>\n",
       "      <td>13820368.28</td>\n",
       "      <td>3.0</td>\n",
       "    </tr>\n",
       "    <tr>\n",
       "      <th>3</th>\n",
       "      <td>11594791-101000891316</td>\n",
       "      <td>15.0</td>\n",
       "      <td>-14.89</td>\n",
       "      <td>3041615.31</td>\n",
       "      <td>13820936.90</td>\n",
       "      <td>3.0</td>\n",
       "    </tr>\n",
       "    <tr>\n",
       "      <th>4</th>\n",
       "      <td>101001002655</td>\n",
       "      <td>4.0</td>\n",
       "      <td>4.57</td>\n",
       "      <td>3041051.24</td>\n",
       "      <td>13824386.21</td>\n",
       "      <td>3.0</td>\n",
       "    </tr>\n",
       "  </tbody>\n",
       "</table>\n",
       "</div>"
      ],
      "text/plain": [
       "                      id   sla  overdue           x            y  type\n",
       "0           101000879701  10.0    -8.98  3105443.57  13832598.28   3.0\n",
       "1  11682872-101001143202  14.0    -7.79  3047695.62  13826869.96   3.0\n",
       "2           101001090815  10.0    -8.59  3078170.34  13820368.28   3.0\n",
       "3  11594791-101000891316  15.0   -14.89  3041615.31  13820936.90   3.0\n",
       "4           101001002655   4.0     4.57  3041051.24  13824386.21   3.0"
      ]
     },
     "execution_count": 6,
     "metadata": {},
     "output_type": "execute_result"
    }
   ],
   "source": [
    "train_data.head()"
   ]
  },
  {
   "cell_type": "code",
   "execution_count": 7,
   "metadata": {},
   "outputs": [
    {
     "data": {
      "text/html": [
       "<div>\n",
       "<style scoped>\n",
       "    .dataframe tbody tr th:only-of-type {\n",
       "        vertical-align: middle;\n",
       "    }\n",
       "\n",
       "    .dataframe tbody tr th {\n",
       "        vertical-align: top;\n",
       "    }\n",
       "\n",
       "    .dataframe thead th {\n",
       "        text-align: right;\n",
       "    }\n",
       "</style>\n",
       "<table border=\"1\" class=\"dataframe\">\n",
       "  <thead>\n",
       "    <tr style=\"text-align: right;\">\n",
       "      <th></th>\n",
       "      <th>district</th>\n",
       "      <th>id</th>\n",
       "      <th>id2</th>\n",
       "      <th>key</th>\n",
       "    </tr>\n",
       "    <tr>\n",
       "      <th>created</th>\n",
       "      <th></th>\n",
       "      <th></th>\n",
       "      <th></th>\n",
       "      <th></th>\n",
       "    </tr>\n",
       "  </thead>\n",
       "  <tbody>\n",
       "    <tr>\n",
       "      <th>2013-01-01 08:26:29</th>\n",
       "      <td>C</td>\n",
       "      <td>101000874001</td>\n",
       "      <td>0690420070016</td>\n",
       "      <td>492F</td>\n",
       "    </tr>\n",
       "    <tr>\n",
       "      <th>2013-01-01 09:03:21</th>\n",
       "      <td>I</td>\n",
       "      <td>11587257-101000874009</td>\n",
       "      <td>0731430060005</td>\n",
       "      <td>494Y</td>\n",
       "    </tr>\n",
       "    <tr>\n",
       "      <th>2013-01-01 10:00:58</th>\n",
       "      <td>B</td>\n",
       "      <td>101000874025</td>\n",
       "      <td>0931670000537</td>\n",
       "      <td>375J</td>\n",
       "    </tr>\n",
       "    <tr>\n",
       "      <th>2013-01-01 10:24:31</th>\n",
       "      <td>D</td>\n",
       "      <td>11587271-101000874033</td>\n",
       "      <td>1220790000001</td>\n",
       "      <td>573D</td>\n",
       "    </tr>\n",
       "    <tr>\n",
       "      <th>2013-01-01 10:59:03</th>\n",
       "      <td>A</td>\n",
       "      <td>101000874044</td>\n",
       "      <td>0772810070057</td>\n",
       "      <td>450U</td>\n",
       "    </tr>\n",
       "  </tbody>\n",
       "</table>\n",
       "</div>"
      ],
      "text/plain": [
       "                    district                     id            id2   key\n",
       "created                                                                 \n",
       "2013-01-01 08:26:29        C           101000874001  0690420070016  492F\n",
       "2013-01-01 09:03:21        I  11587257-101000874009  0731430060005  494Y\n",
       "2013-01-01 10:00:58        B           101000874025  0931670000537  375J\n",
       "2013-01-01 10:24:31        D  11587271-101000874033  1220790000001  573D\n",
       "2013-01-01 10:59:03        A           101000874044  0772810070057  450U"
      ]
     },
     "execution_count": 7,
     "metadata": {},
     "output_type": "execute_result"
    }
   ],
   "source": [
    "nonan_data.head()"
   ]
  },
  {
   "cell_type": "code",
   "execution_count": 8,
   "metadata": {},
   "outputs": [],
   "source": [
    "arundo['created'] = pd.to_datetime(arundo['created'], unit='ms')\n",
    "arundo = arundo.set_index('created')\n",
    "arundo = arundo.sort_index()"
   ]
  },
  {
   "cell_type": "code",
   "execution_count": 9,
   "metadata": {},
   "outputs": [
    {
     "data": {
      "text/plain": [
       "DatetimeIndex(['2013-01-01 08:26:29', '2013-01-01 09:03:21',\n",
       "               '2013-01-01 10:00:58', '2013-01-01 10:24:31',\n",
       "               '2013-01-01 10:59:03', '2013-01-01 11:10:13',\n",
       "               '2013-01-01 12:50:42', '2013-01-01 13:09:30',\n",
       "               '2013-01-01 13:23:06', '2013-01-01 14:22:07',\n",
       "               ...\n",
       "               '2013-12-31 16:24:34', '2013-12-31 16:29:29',\n",
       "               '2013-12-31 16:36:19', '2013-12-31 17:16:36',\n",
       "               '2013-12-31 17:28:07', '2013-12-31 17:30:16',\n",
       "               '2013-12-31 18:28:30', '2013-12-31 18:44:42',\n",
       "               '2013-12-31 19:07:42', '2013-12-31 20:29:42'],\n",
       "              dtype='datetime64[ns]', name='created', length=25000, freq=None)"
      ]
     },
     "execution_count": 9,
     "metadata": {},
     "output_type": "execute_result"
    }
   ],
   "source": [
    "arundo.index"
   ]
  },
  {
   "cell_type": "code",
   "execution_count": 10,
   "metadata": {
    "collapsed": true
   },
   "outputs": [],
   "source": [
    "%matplotlib inline"
   ]
  },
  {
   "cell_type": "code",
   "execution_count": 11,
   "metadata": {},
   "outputs": [
    {
     "data": {
      "text/plain": [
       "<matplotlib.axes._subplots.AxesSubplot at 0x7efd87302ba8>"
      ]
     },
     "execution_count": 11,
     "metadata": {},
     "output_type": "execute_result"
    },
    {
     "data": {
      "image/png": "[encoded data removed]",
      "text/plain": [
       "<matplotlib.figure.Figure at 0x7efd87373550>"
      ]
     },
     "metadata": {},
     "output_type": "display_data"
    }
   ],
   "source": [
    "arundo['2013-01']['overdue'].plot()\n",
    "arundo['2013-02']['overdue'].plot()\n",
    "arundo['2013-03']['overdue'].plot()\n",
    "arundo['2013-04']['overdue'].plot()\n",
    "arundo['2013-05']['overdue'].plot()\n",
    "arundo['2013-06']['overdue'].plot()\n",
    "arundo['2013-07']['overdue'].plot()\n",
    "arundo['2013-08']['overdue'].plot()\n",
    "arundo['2013-09']['overdue'].plot()\n",
    "arundo['2013-10']['overdue'].plot()\n",
    "arundo['2013-11']['overdue'].plot()\n",
    "arundo['2013-12']['overdue'].plot()"
   ]
  },
  {
   "cell_type": "code",
   "execution_count": 12,
   "metadata": {},
   "outputs": [
    {
     "data": {
      "text/plain": [
       "<matplotlib.axes._subplots.AxesSubplot at 0x7efd872fdf98>"
      ]
     },
     "execution_count": 12,
     "metadata": {},
     "output_type": "execute_result"
    },
    {
     "data": {
      "image/png": "[encoded data removed]",
      "text/plain": [
       "<matplotlib.figure.Figure at 0x7efd872fd940>"
      ]
     },
     "metadata": {},
     "output_type": "display_data"
    }
   ],
   "source": [
    "# '2013-03-04':'2013-03-10'\n",
    "arundo['2013-12-01':'2013-12-31']['overdue'].plot()"
   ]
  },
  {
   "cell_type": "code",
   "execution_count": 28,
   "metadata": {},
   "outputs": [
    {
     "data": {
      "text/plain": [
       "created\n",
       "2013-12-01 15:45:35     -6.15\n",
       "2013-12-01 15:54:31     -1.21\n",
       "2013-12-01 16:09:00    -12.00\n",
       "2013-12-01 16:17:30     -1.09\n",
       "2013-12-01 16:21:24     -2.97\n",
       "2013-12-01 16:26:37    -13.00\n",
       "2013-12-01 16:28:47    -38.19\n",
       "2013-12-01 17:40:07     -3.31\n",
       "2013-12-01 17:43:21     -1.11\n",
       "2013-12-01 17:51:23   -162.08\n",
       "2013-12-01 18:02:24   -151.33\n",
       "2013-12-01 18:46:54     -9.98\n",
       "2013-12-01 20:35:45     -8.48\n",
       "2013-12-01 21:42:20   -180.00\n",
       "2013-12-01 22:24:37     -9.30\n",
       "2013-12-02 01:55:58     -1.75\n",
       "2013-12-02 06:32:04     -1.74\n",
       "2013-12-02 07:07:34     -0.96\n",
       "2013-12-02 07:44:44      0.94\n",
       "2013-12-02 07:58:43     -9.99\n",
       "2013-12-02 08:08:45   -150.78\n",
       "2013-12-02 08:16:17     -0.70\n",
       "2013-12-02 08:17:11    -29.92\n",
       "2013-12-02 08:22:21     -6.03\n",
       "2013-12-02 08:22:29     -6.88\n",
       "2013-12-02 08:33:16     -2.71\n",
       "2013-12-02 08:36:54     -6.05\n",
       "2013-12-02 08:45:54     17.02\n",
       "2013-12-02 08:56:28     -2.79\n",
       "2013-12-02 08:56:31     -8.76\n",
       "                        ...  \n",
       "2013-12-31 11:51:15     -2.58\n",
       "2013-12-31 12:15:17     -1.80\n",
       "2013-12-31 13:04:30     -6.24\n",
       "2013-12-31 13:04:47    -18.15\n",
       "2013-12-31 13:05:00     -1.87\n",
       "2013-12-31 13:06:32     -4.16\n",
       "2013-12-31 13:07:59   -224.99\n",
       "2013-12-31 13:21:30    118.10\n",
       "2013-12-31 13:22:18     -0.08\n",
       "2013-12-31 13:58:24     -0.24\n",
       "2013-12-31 14:09:09     -0.24\n",
       "2013-12-31 14:12:39     -5.09\n",
       "2013-12-31 14:22:25     -2.89\n",
       "2013-12-31 14:31:14    -12.93\n",
       "2013-12-31 14:48:27     -1.14\n",
       "2013-12-31 14:56:59     -0.28\n",
       "2013-12-31 15:17:25      0.00\n",
       "2013-12-31 15:24:46     -2.95\n",
       "2013-12-31 16:08:29     -4.09\n",
       "2013-12-31 16:11:52     -6.09\n",
       "2013-12-31 16:24:34     -6.20\n",
       "2013-12-31 16:29:29    -19.08\n",
       "2013-12-31 16:36:19      1.85\n",
       "2013-12-31 17:16:36     -0.01\n",
       "2013-12-31 17:28:07    -30.39\n",
       "2013-12-31 17:30:16     -0.29\n",
       "2013-12-31 18:28:30     -5.55\n",
       "2013-12-31 18:44:42    -29.93\n",
       "2013-12-31 19:07:42    -13.05\n",
       "2013-12-31 20:29:42    -11.57\n",
       "Name: overdue, Length: 2039, dtype: float64"
      ]
     },
     "execution_count": 28,
     "metadata": {},
     "output_type": "execute_result"
    }
   ],
   "source": [
    "arundo['2013-12-01':'2013-12-31']['overdue']"
   ]
  },
  {
   "cell_type": "code",
   "execution_count": 29,
   "metadata": {},
   "outputs": [
    {
     "data": {
      "text/plain": [
       "-501.04"
      ]
     },
     "execution_count": 29,
     "metadata": {},
     "output_type": "execute_result"
    }
   ],
   "source": [
    "min(arundo['2013-12-01':'2013-12-31']['overdue'])"
   ]
  },
  {
   "cell_type": "code",
   "execution_count": 30,
   "metadata": {},
   "outputs": [
    {
     "data": {
      "text/plain": [
       "array([[Timestamp('2013-12-16 15:43:26'), 'overdue']], dtype=object)"
      ]
     },
     "execution_count": 30,
     "metadata": {},
     "output_type": "execute_result"
    }
   ],
   "source": [
    "StartML.lookup_value(arundo, -501.04)"
   ]
  },
  {
   "cell_type": "code",
   "execution_count": 33,
   "metadata": {},
   "outputs": [
    {
     "data": {
      "text/plain": [
       "-501.04"
      ]
     },
     "execution_count": 33,
     "metadata": {},
     "output_type": "execute_result"
    }
   ],
   "source": [
    "min(arundo['2013-12-16']['overdue'])"
   ]
  },
  {
   "cell_type": "code",
   "execution_count": 34,
   "metadata": {},
   "outputs": [
    {
     "data": {
      "text/plain": [
       "(0, 24961)"
      ]
     },
     "execution_count": 34,
     "metadata": {},
     "output_type": "execute_result"
    }
   ],
   "source": [
    "len(arundo[arundo['district']=='Unknown']), len(arundo)"
   ]
  },
  {
   "cell_type": "code",
   "execution_count": 35,
   "metadata": {
    "collapsed": true
   },
   "outputs": [],
   "source": [
    "arundo = arundo.drop(arundo[arundo['district']=='Unknown'].index)"
   ]
  },
  {
   "cell_type": "code",
   "execution_count": 36,
   "metadata": {},
   "outputs": [
    {
     "data": {
      "text/plain": [
       "24961"
      ]
     },
     "execution_count": 36,
     "metadata": {},
     "output_type": "execute_result"
    }
   ],
   "source": [
    "len(arundo)"
   ]
  },
  {
   "cell_type": "code",
   "execution_count": 37,
   "metadata": {},
   "outputs": [
    {
     "data": {
      "text/plain": [
       "(3110040.0742802364, 13835838.319422746)"
      ]
     },
     "execution_count": 37,
     "metadata": {},
     "output_type": "execute_result"
    }
   ],
   "source": [
    "mean_dat_x = arundo['x'].mean()\n",
    "mean_dat_y = arundo['y'].mean()\n",
    "mean_dat_x, mean_dat_y"
   ]
  },
  {
   "cell_type": "code",
   "execution_count": 38,
   "metadata": {},
   "outputs": [
    {
     "data": {
      "text/plain": [
       "array(['C', 'I', 'B', 'D', 'A', 'J', 'H', 'K', 'E', 'F', 'G'],\n",
       "      dtype=object)"
      ]
     },
     "execution_count": 38,
     "metadata": {},
     "output_type": "execute_result"
    }
   ],
   "source": [
    "arundo.head()\n",
    "arundo['district'].unique()"
   ]
  },
  {
   "cell_type": "code",
   "execution_count": 39,
   "metadata": {
    "collapsed": true
   },
   "outputs": [],
   "source": [
    "ad = arundo[['district','x', 'y']]"
   ]
  },
  {
   "cell_type": "code",
   "execution_count": 40,
   "metadata": {},
   "outputs": [
    {
     "name": "stdout",
     "output_type": "stream",
     "text": [
      "3110040.0742802364 4607.0842802361585 69643.97571976343\n",
      "3110040.0742802364 100411.49428023631 14134.984280236531\n",
      "3110040.0742802364 51364.38428023644 4878.960829763673\n",
      "3110040.0742802364 31927.154280236457 8564.582419763785\n"
     ]
    }
   ],
   "source": [
    "print(mean_dat_x, abs(mean_dat_x-min(sorted(ad[ad['district']=='D']['x']))), abs(mean_dat_x-max(sorted(ad[ad['district']=='D']['x']))))\n",
    "print(mean_dat_x, abs(mean_dat_x-min(sorted(ad[ad['district']=='A']['x']))), abs(mean_dat_x-max(sorted(ad[ad['district']=='A']['x']))))\n",
    "print(mean_dat_x, abs(mean_dat_x-min(sorted(ad[ad['district']=='K']['x']))), abs(mean_dat_x-(max(sorted(ad[ad['district']=='K']['x'])))))\n",
    "print(mean_dat_x, abs(mean_dat_x-min(sorted(ad[ad['district']=='C']['x']))), abs(mean_dat_x-max(sorted(ad[ad['district']=='C']['x']))))"
   ]
  },
  {
   "cell_type": "code",
   "execution_count": 41,
   "metadata": {},
   "outputs": [
    {
     "name": "stdout",
     "output_type": "stream",
     "text": [
      "13835838.319422746 58298.09942274541 5049.024747254327\n",
      "13835838.319422746 12469.340577254072 80865.75057725422\n",
      "13835838.319422746 63718.40844275057 14930.69031274505\n",
      "13835838.319422746 29254.650502745062 43042.02009725571\n"
     ]
    }
   ],
   "source": [
    "print(mean_dat_y, abs(mean_dat_y-min(ad[ad['district']=='D']['y'])), abs(mean_dat_y-max(ad[ad['district']=='D']['y'])))\n",
    "print(mean_dat_y, abs(mean_dat_y-min(ad[ad['district']=='A']['y'])), abs(mean_dat_y-max(ad[ad['district']=='A']['y'])))\n",
    "print(mean_dat_y, abs(mean_dat_y-min(ad[ad['district']=='K']['y'])), abs(mean_dat_y-max(ad[ad['district']=='K']['y'])))\n",
    "print(mean_dat_y, abs(mean_dat_y-min(ad[ad['district']=='C']['y'])), abs(mean_dat_y-max(ad[ad['district']=='C']['y'])))"
   ]
  },
  {
   "cell_type": "code",
   "execution_count": null,
   "metadata": {
    "collapsed": true
   },
   "outputs": [],
   "source": []
  }
 ],
 "metadata": {
  "kernelspec": {
   "display_name": "Python 3",
   "language": "python",
   "name": "python3"
  },
  "language_info": {
   "codemirror_mode": {
    "name": "ipython",
    "version": 3
   },
   "file_extension": ".py",
   "mimetype": "text/x-python",
   "name": "python",
   "nbconvert_exporter": "python",
   "pygments_lexer": "ipython3",
   "version": "3.5.4"
  }
 },
 "nbformat": 4,
 "nbformat_minor": 2
}
