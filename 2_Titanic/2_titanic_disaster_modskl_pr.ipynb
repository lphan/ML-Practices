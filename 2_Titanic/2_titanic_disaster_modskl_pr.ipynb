{
 "cells": [
  {
   "cell_type": "markdown",
   "metadata": {},
   "source": [
    "### Analyse data Titanic Disaster\n",
    "\n",
    "### Try Model: Linear Regression"
   ]
  },
  {
   "cell_type": "code",
   "execution_count": 1,
   "metadata": {},
   "outputs": [
    {
     "name": "stdout",
     "output_type": "stream",
     "text": [
      "local_kwargs {'data_path': './data/train.csv, ./data/titanic_no_nan.csv ,./data/test.csv', 'drop_obj_col': False, 'nan_drop_col': False, 'nan_drop_row': False, 'nan_zero': False, 'nan_mean': True, 'nan_mean_neighbors': False}\n"
     ]
    }
   ],
   "source": [
    "# setup absolute path to location of package Starts and config-file \n",
    "from inspect import getsourcefile\n",
    "import os.path as path, sys\n",
    "current_dir = path.dirname(path.abspath(getsourcefile(lambda:0)))\n",
    "sys.path.insert(0, current_dir[:current_dir.rfind(path.sep)])\n",
    "\n",
    "# import package Starts\n",
    "from Starts.startmodskl import *"
   ]
  },
  {
   "cell_type": "code",
   "execution_count": 2,
   "metadata": {},
   "outputs": [
    {
     "data": {
      "text/html": [
       "<div>\n",
       "<style>\n",
       "    .dataframe thead tr:only-child th {\n",
       "        text-align: right;\n",
       "    }\n",
       "\n",
       "    .dataframe thead th {\n",
       "        text-align: left;\n",
       "    }\n",
       "\n",
       "    .dataframe tbody tr th {\n",
       "        vertical-align: top;\n",
       "    }\n",
       "</style>\n",
       "<table border=\"1\" class=\"dataframe\">\n",
       "  <thead>\n",
       "    <tr style=\"text-align: right;\">\n",
       "      <th></th>\n",
       "      <th>Survived</th>\n",
       "      <th>Pclass</th>\n",
       "      <th>Sex</th>\n",
       "      <th>Age</th>\n",
       "      <th>Ticket</th>\n",
       "      <th>Fare</th>\n",
       "      <th>Title</th>\n",
       "      <th>FamilySize</th>\n",
       "    </tr>\n",
       "  </thead>\n",
       "  <tbody>\n",
       "    <tr>\n",
       "      <th>0</th>\n",
       "      <td>1</td>\n",
       "      <td>3</td>\n",
       "      <td>1</td>\n",
       "      <td>21.000000</td>\n",
       "      <td>401</td>\n",
       "      <td>7.7958</td>\n",
       "      <td>5</td>\n",
       "      <td>0</td>\n",
       "    </tr>\n",
       "    <tr>\n",
       "      <th>1</th>\n",
       "      <td>1</td>\n",
       "      <td>3</td>\n",
       "      <td>0</td>\n",
       "      <td>5.000000</td>\n",
       "      <td>329</td>\n",
       "      <td>31.3875</td>\n",
       "      <td>4</td>\n",
       "      <td>6</td>\n",
       "    </tr>\n",
       "    <tr>\n",
       "      <th>2</th>\n",
       "      <td>0</td>\n",
       "      <td>3</td>\n",
       "      <td>1</td>\n",
       "      <td>29.000000</td>\n",
       "      <td>315</td>\n",
       "      <td>7.0458</td>\n",
       "      <td>5</td>\n",
       "      <td>1</td>\n",
       "    </tr>\n",
       "    <tr>\n",
       "      <th>3</th>\n",
       "      <td>1</td>\n",
       "      <td>1</td>\n",
       "      <td>0</td>\n",
       "      <td>16.000000</td>\n",
       "      <td>591</td>\n",
       "      <td>39.4000</td>\n",
       "      <td>4</td>\n",
       "      <td>1</td>\n",
       "    </tr>\n",
       "    <tr>\n",
       "      <th>4</th>\n",
       "      <td>0</td>\n",
       "      <td>3</td>\n",
       "      <td>1</td>\n",
       "      <td>29.699118</td>\n",
       "      <td>568</td>\n",
       "      <td>69.5500</td>\n",
       "      <td>5</td>\n",
       "      <td>10</td>\n",
       "    </tr>\n",
       "  </tbody>\n",
       "</table>\n",
       "</div>"
      ],
      "text/plain": [
       "   Survived  Pclass  Sex        Age  Ticket     Fare  Title  FamilySize\n",
       "0         1       3    1  21.000000     401   7.7958      5           0\n",
       "1         1       3    0   5.000000     329  31.3875      4           6\n",
       "2         0       3    1  29.000000     315   7.0458      5           1\n",
       "3         1       1    0  16.000000     591  39.4000      4           1\n",
       "4         0       3    1  29.699118     568  69.5500      5          10"
      ]
     },
     "execution_count": 2,
     "metadata": {},
     "output_type": "execute_result"
    }
   ],
   "source": [
    "nonan_data = data[1]\n",
    "nonan_data.head()"
   ]
  },
  {
   "cell_type": "code",
   "execution_count": 3,
   "metadata": {},
   "outputs": [
    {
     "name": "stdout",
     "output_type": "stream",
     "text": [
      "Calculating coefficients:  [ -1.11746706e-16  -6.85964211e+08  -3.13123006e+08   1.56853238e+07\n",
      "  -1.33262381e+08   7.32725153e+07   1.23909623e+08   3.63258982e+08\n",
      "  -3.58037946e+07   4.40597075e+08   1.87532801e-02  -1.54593550e-02\n",
      "   5.34850964e-02   1.70943760e-02  -1.04230765e-01  -5.13019214e+09\n",
      "  -9.58247371e+06   8.14126176e+07  -4.47636250e+07  -7.56988330e+07\n",
      "  -2.21922078e+08  -6.53497862e-04   1.80302832e-02   1.61392087e-01\n",
      "   1.44796189e-02  -2.76152085e-02   4.76372321e-02  -5.69377409e-02\n",
      "  -7.33180937e-03  -2.31287879e-02  -2.55654055e-02   2.27312668e-01\n",
      "  -7.83824168e-02  -1.60117745e-02  -7.34687448e-02  -3.83033454e-02\n",
      "  -3.38987149e+07   1.42042130e-01  -4.04616594e-02  -4.01094556e-02\n",
      "   4.12458330e-02  -4.15430069e-02  -2.80000865e-02   7.21202894e+08\n",
      "   2.73615122e-02  -3.49593163e-02   3.48611362e-02  -2.29042768e-02\n",
      "   4.52608168e-02  -2.57178545e-02   5.45412302e-02   3.46457958e-03\n",
      "  -2.88774371e-02   2.43690014e-02   2.89255232e-02  -5.10237217e-02\n",
      "   1.60413384e-02   1.94187462e-02   1.90477669e-02   9.98221040e-02\n",
      "  -3.93982530e-02  -1.92794800e-02  -9.36481953e-02   4.83393222e-02\n",
      "  -2.05430054e+09  -1.56853238e+07   1.33262381e+08  -7.32725152e+07\n",
      "  -1.23909623e+08  -3.63258982e+08  -1.07690692e-02   2.82418132e-02\n",
      "  -1.96948051e-02   3.13696265e-02  -5.16423583e-03   2.03728080e-02\n",
      "  -6.24082088e-02  -5.94419241e-02   1.22260749e-02   2.49366164e-02\n",
      "  -6.88090920e-03   4.85224128e-02   1.42449141e-02   9.64641571e-04\n",
      "  -2.60908008e-02  -2.53868103e-03   4.49676812e-03  -6.65218830e-02\n",
      "  -6.53934479e-03   2.44206190e-03  -5.23991585e-02   6.28066063e-02\n",
      "   1.56260729e-02  -6.56058788e-02  -5.55008650e-02   5.46926260e-03\n",
      "   1.18445039e-01   4.28241491e-03  -8.69023800e-03   1.68716908e-03\n",
      "   2.25052834e-02   1.97577104e-02  -3.65257263e-02   3.34600508e-02\n",
      "  -1.75503790e-02  -4.74395156e-02   3.90152037e-02   1.37615204e-02\n",
      "   6.07074201e-02  -4.05489206e-02   8.51583481e-03  -6.90957904e-03\n",
      "  -4.26936150e-03  -2.90347934e-02  -1.91064477e-01   1.09338760e-03\n",
      "   9.52839851e-03  -6.03151321e-03   3.94723415e-02   1.28040910e-02]\n"
     ]
    },
    {
     "name": "stderr",
     "output_type": "stream",
     "text": [
      "/usr/lib64/python3.6/site-packages/matplotlib/axes/_axes.py:545: UserWarning: No labelled objects found. Use label='...' kwarg on individual plots.\n",
      "  warnings.warn(\"No labelled objects found. \"\n"
     ]
    },
    {
     "data": {
      "image/png": "[encoded data removed]",
      "text/plain": [
       "<matplotlib.figure.Figure at 0x7fe1924cc6d8>"
      ]
     },
     "metadata": {},
     "output_type": "display_data"
    },
    {
     "data": {
      "text/plain": [
       "PolynomialFeatures(degree=3, include_bias=True, interaction_only=False)"
      ]
     },
     "execution_count": 3,
     "metadata": {},
     "output_type": "execute_result"
    }
   ],
   "source": [
    "# Choose method Polynomial Linear Regression to predict the Survivors\n",
    "regressor_poly, y_true, y_pred = StartModSKL.regression_linear(nonan_data, 'Survived', poly=True)\n",
    "\n",
    "regressor_poly"
   ]
  },
  {
   "cell_type": "code",
   "execution_count": null,
   "metadata": {},
   "outputs": [],
   "source": [
    "# Convert predicted value by rounding it (>0.5 will be considered as 1 else 0)\n",
    "y_pred = np.array([np.round(item) for item in y_pred ])\n",
    "\n",
    "# Compare the predicted value with true_value\n",
    "len(y_true), len(y_pred)"
   ]
  },
  {
   "cell_type": "code",
   "execution_count": 5,
   "metadata": {},
   "outputs": [
    {
     "data": {
      "text/plain": [
       "array([[102,  13],\n",
       "       [ 15,  49]])"
      ]
     },
     "execution_count": 5,
     "metadata": {},
     "output_type": "execute_result"
    }
   ],
   "source": [
    "confusion_matrix(y_true, y_pred)"
   ]
  },
  {
   "cell_type": "markdown",
   "metadata": {},
   "source": [
    "### Result: \n",
    "#### the correct predicted result 151 \n",
    "#### the wrong predicted result 28"
   ]
  }
 ],
 "metadata": {
  "kernelspec": {
   "display_name": "Python 3",
   "language": "python",
   "name": "python3"
  },
  "language_info": {
   "codemirror_mode": {
    "name": "ipython",
    "version": 3
   },
   "file_extension": ".py",
   "mimetype": "text/x-python",
   "name": "python",
   "nbconvert_exporter": "python",
   "pygments_lexer": "ipython3",
   "version": "3.6.5"
  }
 },
 "nbformat": 4,
 "nbformat_minor": 2
}
