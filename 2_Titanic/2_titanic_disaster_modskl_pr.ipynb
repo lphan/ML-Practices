{
 "cells": [
  {
   "cell_type": "markdown",
   "metadata": {},
   "source": [
    "### Analyse data Titanic Disaster\n",
    "\n",
    "### Model: Polynomial Linear Regression"
   ]
  },
  {
   "cell_type": "code",
   "execution_count": 1,
   "metadata": {},
   "outputs": [
    {
     "name": "stdout",
     "output_type": "stream",
     "text": [
      "local_kwargs {'data_path': './data/train.csv, ./data/titanic_no_nan.csv ,./data/test.csv', 'drop_obj_col': False, 'nan_drop_col': False, 'nan_drop_row': False, 'nan_zero': False, 'nan_mean': True, 'nan_mean_neighbors': False}\n"
     ]
    }
   ],
   "source": [
    "# setup absolute path to location of package Starts and config-file \n",
    "from inspect import getsourcefile\n",
    "import os.path as path, sys\n",
    "current_dir = path.dirname(path.abspath(getsourcefile(lambda:0)))\n",
    "sys.path.insert(0, current_dir[:current_dir.rfind(path.sep)])\n",
    "\n",
    "# import package Starts\n",
    "from Starts.startmodskl import *"
   ]
  },
  {
   "cell_type": "code",
   "execution_count": 2,
   "metadata": {},
   "outputs": [
    {
     "data": {
      "text/html": [
       "<div>\n",
       "<style>\n",
       "    .dataframe thead tr:only-child th {\n",
       "        text-align: right;\n",
       "    }\n",
       "\n",
       "    .dataframe thead th {\n",
       "        text-align: left;\n",
       "    }\n",
       "\n",
       "    .dataframe tbody tr th {\n",
       "        vertical-align: top;\n",
       "    }\n",
       "</style>\n",
       "<table border=\"1\" class=\"dataframe\">\n",
       "  <thead>\n",
       "    <tr style=\"text-align: right;\">\n",
       "      <th></th>\n",
       "      <th>Survived</th>\n",
       "      <th>Pclass</th>\n",
       "      <th>Sex</th>\n",
       "      <th>Age</th>\n",
       "      <th>Ticket</th>\n",
       "      <th>Fare</th>\n",
       "      <th>Title</th>\n",
       "      <th>FamilySize</th>\n",
       "    </tr>\n",
       "  </thead>\n",
       "  <tbody>\n",
       "    <tr>\n",
       "      <th>0</th>\n",
       "      <td>0</td>\n",
       "      <td>3</td>\n",
       "      <td>1</td>\n",
       "      <td>29.699118</td>\n",
       "      <td>199</td>\n",
       "      <td>7.2292</td>\n",
       "      <td>5</td>\n",
       "      <td>0</td>\n",
       "    </tr>\n",
       "    <tr>\n",
       "      <th>1</th>\n",
       "      <td>1</td>\n",
       "      <td>3</td>\n",
       "      <td>0</td>\n",
       "      <td>0.750000</td>\n",
       "      <td>194</td>\n",
       "      <td>19.2583</td>\n",
       "      <td>4</td>\n",
       "      <td>3</td>\n",
       "    </tr>\n",
       "    <tr>\n",
       "      <th>2</th>\n",
       "      <td>0</td>\n",
       "      <td>3</td>\n",
       "      <td>1</td>\n",
       "      <td>29.699118</td>\n",
       "      <td>487</td>\n",
       "      <td>6.8583</td>\n",
       "      <td>5</td>\n",
       "      <td>0</td>\n",
       "    </tr>\n",
       "    <tr>\n",
       "      <th>3</th>\n",
       "      <td>1</td>\n",
       "      <td>1</td>\n",
       "      <td>1</td>\n",
       "      <td>36.000000</td>\n",
       "      <td>33</td>\n",
       "      <td>120.0000</td>\n",
       "      <td>5</td>\n",
       "      <td>3</td>\n",
       "    </tr>\n",
       "    <tr>\n",
       "      <th>4</th>\n",
       "      <td>0</td>\n",
       "      <td>2</td>\n",
       "      <td>1</td>\n",
       "      <td>29.699118</td>\n",
       "      <td>629</td>\n",
       "      <td>15.0500</td>\n",
       "      <td>5</td>\n",
       "      <td>0</td>\n",
       "    </tr>\n",
       "  </tbody>\n",
       "</table>\n",
       "</div>"
      ],
      "text/plain": [
       "   Survived  Pclass  Sex        Age  Ticket      Fare  Title  FamilySize\n",
       "0         0       3    1  29.699118     199    7.2292      5           0\n",
       "1         1       3    0   0.750000     194   19.2583      4           3\n",
       "2         0       3    1  29.699118     487    6.8583      5           0\n",
       "3         1       1    1  36.000000      33  120.0000      5           3\n",
       "4         0       2    1  29.699118     629   15.0500      5           0"
      ]
     },
     "execution_count": 2,
     "metadata": {},
     "output_type": "execute_result"
    }
   ],
   "source": [
    "nonan_data = idata[1]\n",
    "nonan_data.head()"
   ]
  },
  {
   "cell_type": "code",
   "execution_count": 6,
   "metadata": {},
   "outputs": [
    {
     "name": "stdout",
     "output_type": "stream",
     "text": [
      "Calculating coefficients:  [ -4.82779168e-16  -5.15173211e+09   1.17091215e+09  -6.55415258e+07\n",
      "  -9.42013984e+07   4.46842909e+07   1.60995406e+08   3.56078756e+08\n",
      "   8.49342679e+09  -1.96505115e+09   6.87401910e-02  -6.18863375e-02\n",
      "   2.09178837e-01   3.14509510e-02  -2.38226563e-02   1.65249966e+10\n",
      "   4.00406111e+07   5.75494925e+07  -2.72985148e+07  -9.83552695e+07\n",
      "  -2.17535536e+08  -1.50063292e-02  -1.49455643e-02   2.73634357e-01\n",
      "   5.69089864e-02  -5.08752528e-02   1.20997268e-02  -1.00351762e-01\n",
      "   1.73879101e-02  -9.61997237e-02   7.43611486e-02   1.38895572e-01\n",
      "  -8.69400696e-02  -1.07264519e-02  -6.31775856e-02  -4.04250622e-03\n",
      "   7.82908763e+09   1.05992794e-01  -1.44088268e-03  -4.98770475e-02\n",
      "   1.24607682e-01  -1.82849169e-03   7.35730231e-02  -3.21654559e+09\n",
      "  -1.39671564e-02   9.66072083e-04  -1.87201500e-02   2.59169340e-02\n",
      "   2.43306160e-03  -8.52012634e-03   3.21054459e-03   1.40277386e-01\n",
      "  -8.41116905e-03  -2.73216963e-02   2.59954929e-02  -2.35347748e-02\n",
      "   1.91743374e-02  -7.80239701e-02   1.11615419e-01   1.20013356e-02\n",
      "  -6.78944588e-03  -8.09343345e-03  -1.34023428e-02  -4.03175354e-02\n",
      "   6.49896980e+09   6.55415258e+07   9.42013983e+07  -4.46842907e+07\n",
      "  -1.60995406e+08  -3.56078756e+08  -5.28430939e-03   1.87313557e-02\n",
      "  -5.99145889e-02   3.41391563e-02   2.85973549e-02   1.44174099e-02\n",
      "  -4.58312035e-02  -4.08110619e-02  -7.72643089e-03   1.45759583e-02\n",
      "   1.06585145e-01   7.99846649e-03  -4.74166870e-03  -5.29918671e-02\n",
      "  -1.40810013e-02   3.80277634e-03   5.43737411e-03  -2.29482651e-02\n",
      "  -4.51600552e-02  -8.67223740e-03  -2.84905434e-02  -2.14996338e-02\n",
      "   1.41005516e-02  -3.56459618e-02  -1.61695480e-02   3.50065231e-02\n",
      "   3.07261944e-02   1.25085115e-02  -6.08710051e-02  -3.13472748e-03\n",
      "   3.19545269e-02  -3.36500406e-02  -3.20448875e-02   7.32975006e-02\n",
      "   3.45115662e-02  -1.55057907e-02  -8.72172415e-02  -5.44089079e-03\n",
      "   3.05304527e-02   2.92253494e-02   6.83891773e-03   1.03753805e-02\n",
      "   1.83877945e-02  -3.65567207e-02  -1.25552654e-01  -3.73885632e-02\n",
      "   1.15494728e-02   1.69575214e-02   3.01976204e-02   1.54361725e-02]\n"
     ]
    },
    {
     "name": "stderr",
     "output_type": "stream",
     "text": [
      "/usr/lib64/python3.6/site-packages/matplotlib/axes/_axes.py:545: UserWarning: No labelled objects found. Use label='...' kwarg on individual plots.\n",
      "  warnings.warn(\"No labelled objects found. \"\n"
     ]
    },
    {
     "data": {
      "image/png": "[encoded data removed]",
      "text/plain": [
       "<matplotlib.figure.Figure at 0x7f5b7d7350f0>"
      ]
     },
     "metadata": {},
     "output_type": "display_data"
    },
    {
     "data": {
      "text/plain": [
       "PolynomialFeatures(degree=3, include_bias=True, interaction_only=False)"
      ]
     },
     "execution_count": 6,
     "metadata": {},
     "output_type": "execute_result"
    }
   ],
   "source": [
    "# Choose method Polynomial Linear Regression to predict the Survivors\n",
    "regressor_poly, y_true, y_pred = StartModSKL.regression_linear(nonan_data, dependent_label='Survived', poly=True,\n",
    "                                                              regularization=False)\n",
    "\n",
    "regressor_poly"
   ]
  },
  {
   "cell_type": "code",
   "execution_count": 10,
   "metadata": {},
   "outputs": [
    {
     "data": {
      "text/plain": [
       "(179, 179)"
      ]
     },
     "execution_count": 10,
     "metadata": {},
     "output_type": "execute_result"
    }
   ],
   "source": [
    "# Convert predicted value by rounding it (>0.5 will be considered as 1 else 0)\n",
    "# y_pred = np.array([np.round(item) for item in y_pred ])\n",
    "y_pred = np.array([1 if item>0.5 else 0 for item in y_pred ])\n",
    "\n",
    "# Compare the predicted value with true_value\n",
    "len(y_true), len(y_pred)"
   ]
  },
  {
   "cell_type": "code",
   "execution_count": 11,
   "metadata": {},
   "outputs": [
    {
     "data": {
      "text/plain": [
       "array([[96, 16],\n",
       "       [22, 45]])"
      ]
     },
     "execution_count": 11,
     "metadata": {},
     "output_type": "execute_result"
    }
   ],
   "source": [
    "confusion_matrix(y_true, y_pred)"
   ]
  },
  {
   "cell_type": "markdown",
   "metadata": {},
   "source": [
    "### Result: \n",
    "#### the correct predicted result 141 \n",
    "#### the wrong predicted result 38"
   ]
  }
 ],
 "metadata": {
  "kernelspec": {
   "display_name": "Python 3",
   "language": "python",
   "name": "python3"
  },
  "language_info": {
   "codemirror_mode": {
    "name": "ipython",
    "version": 3
   },
   "file_extension": ".py",
   "mimetype": "text/x-python",
   "name": "python",
   "nbconvert_exporter": "python",
   "pygments_lexer": "ipython3",
   "version": "3.6.5"
  }
 },
 "nbformat": 4,
 "nbformat_minor": 2
}
