{
 "cells": [
  {
   "cell_type": "code",
   "execution_count": 1,
   "metadata": {},
   "outputs": [
    {
     "data": {
      "text/plain": [
       "{'StartMod.feature_engineering(data)': '\\n        Source:\\n            https://triangleinequality.wordpress.com/2013/09/08/basic-feature-engineering-with-the-titanic-data/\\n\\n        renew data with new_feature which has the attributes_new_feature\\n        :param data:\\n        :param old_feature:\\n        :param new_feature:\\n        :param attributes_new_feature:\\n        :return: data (with new feature)\\n        ',\n",
       " 'StartMod.feature_engineering_merge_cols(data)': '\\n        Merge many features into one new_feature (column)\\n        :param data:\\n        :param features: list of the merging features\\n        :param new_feature: name of merged new_feature\\n        :return: data (with new column feature)\\n        ',\n",
       " 'StartMod.split_data': '\\n        split data for regression methods\\n\\n        Source:\\n            http://scikit-learn.org/stable/modules/generated/sklearn.model_selection.train_test_split.html\\n\\n        :param data: Pandas-DataFrame\\n        :param dependent_label: categorical label\\n        :param test_size: (default is 0.2)\\n        :param random_state: (default is 0)\\n        :param type_pd: (default is Pandas Dataframe)\\n        :param split: (default is True)\\n        :return: x_train, x_test, y_train, y_test (default type Pandas DataFrame)\\n        ',\n",
       " 'info_help_StartMod': 'StartMod'}"
      ]
     },
     "execution_count": 1,
     "metadata": {},
     "output_type": "execute_result"
    }
   ],
   "source": [
    "from startmod import *\n",
    "info_mod"
   ]
  },
  {
   "cell_type": "code",
   "execution_count": 2,
   "metadata": {
    "collapsed": true
   },
   "outputs": [],
   "source": [
    "from startmod import *\n",
    "attributes=['Mrs', 'Mr', 'Master', 'Miss', 'Major', 'Dr', 'Ms', 'Capt']\n",
    "train_data = StartMod.feature_engineering(train_data, old_feature='Name', new_feature='Title', attributes_new_feature=attributes, \n",
    "                                          rm=True)"
   ]
  },
  {
   "cell_type": "code",
   "execution_count": 3,
   "metadata": {},
   "outputs": [
    {
     "data": {
      "text/plain": [
       "[('PassengerId', 0, dtype('int64')),\n",
       " ('Survived', 1, dtype('int64')),\n",
       " ('Pclass', 2, dtype('int64')),\n",
       " ('Sex', 3, dtype('O')),\n",
       " ('Age', 4, dtype('float64')),\n",
       " ('Fare', 5, dtype('float64')),\n",
       " ('Title', 6, dtype('O')),\n",
       " ('FamilySize', 7, dtype('int64'))]"
      ]
     },
     "execution_count": 3,
     "metadata": {},
     "output_type": "execute_result"
    }
   ],
   "source": [
    "train_data = StartMod.feature_engineering_merge_cols(train_data, ['SibSp', 'Parch'], 'FamilySize')\n",
    "train_data = StartMod.feature_selection(train_data, ['Ticket', 'Cabin', 'Embarked'])\n",
    "StartMod.idx_columns(train_data)"
   ]
  },
  {
   "cell_type": "code",
   "execution_count": 4,
   "metadata": {},
   "outputs": [
    {
     "data": {
      "text/plain": [
       "['Age', 'Title']"
      ]
     },
     "execution_count": 4,
     "metadata": {},
     "output_type": "execute_result"
    }
   ],
   "source": [
    "StartMod.nan_columns(train_data)"
   ]
  },
  {
   "cell_type": "code",
   "execution_count": 5,
   "metadata": {
    "collapsed": true
   },
   "outputs": [],
   "source": [
    "train_data = StartMod.process_nan_simply(train_data, nan_column='Title')"
   ]
  },
  {
   "cell_type": "code",
   "execution_count": 6,
   "metadata": {},
   "outputs": [
    {
     "data": {
      "text/plain": [
       "['Age']"
      ]
     },
     "execution_count": 6,
     "metadata": {},
     "output_type": "execute_result"
    }
   ],
   "source": [
    "StartMod.nan_columns(train_data)"
   ]
  },
  {
   "cell_type": "code",
   "execution_count": 7,
   "metadata": {
    "collapsed": true
   },
   "outputs": [],
   "source": [
    "train_data = StartMod.process_nan_columns(train_data)"
   ]
  },
  {
   "cell_type": "code",
   "execution_count": 8,
   "metadata": {},
   "outputs": [
    {
     "data": {
      "text/plain": [
       "(['PassengerId', 'Survived', 'Pclass', 'Age', 'Fare', 'FamilySize'],\n",
       " ['Sex', 'Title'])"
      ]
     },
     "execution_count": 8,
     "metadata": {},
     "output_type": "execute_result"
    }
   ],
   "source": [
    "non_obj_features, obj_features = StartMod.feature_columns(train_data)\n",
    "non_obj_features, obj_features"
   ]
  },
  {
   "cell_type": "code",
   "execution_count": 9,
   "metadata": {},
   "outputs": [
    {
     "data": {
      "text/plain": [
       "[]"
      ]
     },
     "execution_count": 9,
     "metadata": {},
     "output_type": "execute_result"
    }
   ],
   "source": [
    "StartMod.nan_columns(train_data)"
   ]
  },
  {
   "cell_type": "code",
   "execution_count": 10,
   "metadata": {},
   "outputs": [
    {
     "data": {
      "text/html": [
       "<div>\n",
       "<style scoped>\n",
       "    .dataframe tbody tr th:only-of-type {\n",
       "        vertical-align: middle;\n",
       "    }\n",
       "\n",
       "    .dataframe tbody tr th {\n",
       "        vertical-align: top;\n",
       "    }\n",
       "\n",
       "    .dataframe thead th {\n",
       "        text-align: right;\n",
       "    }\n",
       "</style>\n",
       "<table border=\"1\" class=\"dataframe\">\n",
       "  <thead>\n",
       "    <tr style=\"text-align: right;\">\n",
       "      <th></th>\n",
       "      <th>PassengerId</th>\n",
       "      <th>Survived</th>\n",
       "      <th>Pclass</th>\n",
       "      <th>Sex</th>\n",
       "      <th>Age</th>\n",
       "      <th>Fare</th>\n",
       "      <th>Title</th>\n",
       "      <th>FamilySize</th>\n",
       "    </tr>\n",
       "  </thead>\n",
       "  <tbody>\n",
       "    <tr>\n",
       "      <th>0</th>\n",
       "      <td>1</td>\n",
       "      <td>0</td>\n",
       "      <td>3</td>\n",
       "      <td>1</td>\n",
       "      <td>22.0</td>\n",
       "      <td>7.2500</td>\n",
       "      <td>5</td>\n",
       "      <td>1</td>\n",
       "    </tr>\n",
       "    <tr>\n",
       "      <th>1</th>\n",
       "      <td>2</td>\n",
       "      <td>1</td>\n",
       "      <td>1</td>\n",
       "      <td>0</td>\n",
       "      <td>38.0</td>\n",
       "      <td>71.2833</td>\n",
       "      <td>6</td>\n",
       "      <td>1</td>\n",
       "    </tr>\n",
       "    <tr>\n",
       "      <th>2</th>\n",
       "      <td>3</td>\n",
       "      <td>1</td>\n",
       "      <td>3</td>\n",
       "      <td>0</td>\n",
       "      <td>26.0</td>\n",
       "      <td>7.9250</td>\n",
       "      <td>4</td>\n",
       "      <td>0</td>\n",
       "    </tr>\n",
       "    <tr>\n",
       "      <th>3</th>\n",
       "      <td>4</td>\n",
       "      <td>1</td>\n",
       "      <td>1</td>\n",
       "      <td>0</td>\n",
       "      <td>35.0</td>\n",
       "      <td>53.1000</td>\n",
       "      <td>6</td>\n",
       "      <td>1</td>\n",
       "    </tr>\n",
       "    <tr>\n",
       "      <th>4</th>\n",
       "      <td>5</td>\n",
       "      <td>0</td>\n",
       "      <td>3</td>\n",
       "      <td>1</td>\n",
       "      <td>35.0</td>\n",
       "      <td>8.0500</td>\n",
       "      <td>5</td>\n",
       "      <td>0</td>\n",
       "    </tr>\n",
       "  </tbody>\n",
       "</table>\n",
       "</div>"
      ],
      "text/plain": [
       "   PassengerId  Survived  Pclass  Sex   Age     Fare  Title  FamilySize\n",
       "0            1         0       3    1  22.0   7.2500      5           1\n",
       "1            2         1       1    0  38.0  71.2833      6           1\n",
       "2            3         1       3    0  26.0   7.9250      4           0\n",
       "3            4         1       1    0  35.0  53.1000      6           1\n",
       "4            5         0       3    1  35.0   8.0500      5           0"
      ]
     },
     "execution_count": 10,
     "metadata": {},
     "output_type": "execute_result"
    }
   ],
   "source": [
    "# label encode column 'Sex' and 'Title' \n",
    "train_data = StartMod.encode_label_column(train_data, label_columns=['Title', 'Sex'], one_hot=False)\n",
    "train_data.head()"
   ]
  },
  {
   "cell_type": "code",
   "execution_count": 11,
   "metadata": {},
   "outputs": [
    {
     "data": {
      "text/plain": [
       "[('Survived', 0, dtype('int64')),\n",
       " ('Pclass', 1, dtype('int64')),\n",
       " ('Sex', 2, dtype('int64')),\n",
       " ('Age', 3, dtype('float64')),\n",
       " ('Fare', 4, dtype('float64')),\n",
       " ('Title', 5, dtype('int64')),\n",
       " ('FamilySize', 6, dtype('int64'))]"
      ]
     },
     "execution_count": 11,
     "metadata": {},
     "output_type": "execute_result"
    }
   ],
   "source": [
    "train_data = train_data.drop('PassengerId', axis=1)\n",
    "StartMod.idx_columns(train_data)"
   ]
  },
  {
   "cell_type": "code",
   "execution_count": 12,
   "metadata": {
    "collapsed": true
   },
   "outputs": [],
   "source": [
    "from sklearn.utils import shuffle\n",
    "train_data = shuffle(train_data)\n",
    "train_data.to_csv('data/titanic_no_nan.csv', index=False)"
   ]
  }
 ],
 "metadata": {
  "kernelspec": {
   "display_name": "Python 3",
   "language": "python",
   "name": "python3"
  },
  "language_info": {
   "codemirror_mode": {
    "name": "ipython",
    "version": 3
   },
   "file_extension": ".py",
   "mimetype": "text/x-python",
   "name": "python",
   "nbconvert_exporter": "python",
   "pygments_lexer": "ipython3",
   "version": "3.5.4"
  }
 },
 "nbformat": 4,
 "nbformat_minor": 2
}
