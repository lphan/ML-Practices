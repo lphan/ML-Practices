{
 "cells": [
  {
   "cell_type": "markdown",
   "metadata": {},
   "source": [
    "### Analyse data Titanic Disaster\n",
    "\n",
    "### Try Model: Tensor Flow Neural Network"
   ]
  },
  {
   "cell_type": "code",
   "execution_count": 1,
   "metadata": {},
   "outputs": [
    {
     "name": "stdout",
     "output_type": "stream",
     "text": [
      "local_kwargs {'data_path': './data/train.csv, ./data/titanic_no_nan.csv ,./data/test.csv', 'drop_obj_col': False, 'nan_drop_col': False, 'nan_drop_row': False, 'nan_zero': False, 'nan_mean': True, 'nan_mean_neighbors': False}\n"
     ]
    },
    {
     "name": "stderr",
     "output_type": "stream",
     "text": [
      "Using TensorFlow backend.\n"
     ]
    }
   ],
   "source": [
    "# setup absolute path to location of package Starts and config-file \n",
    "from inspect import getsourcefile\n",
    "import os.path as path, sys\n",
    "current_dir = path.dirname(path.abspath(getsourcefile(lambda:0)))\n",
    "sys.path.insert(0, current_dir[:current_dir.rfind(path.sep)])\n",
    "\n",
    "# import package Starts\n",
    "from Starts.startmodskl import *\n",
    "from Starts.startmodtf import *"
   ]
  },
  {
   "cell_type": "code",
   "execution_count": 2,
   "metadata": {},
   "outputs": [
    {
     "data": {
      "text/html": [
       "<div>\n",
       "<style>\n",
       "    .dataframe thead tr:only-child th {\n",
       "        text-align: right;\n",
       "    }\n",
       "\n",
       "    .dataframe thead th {\n",
       "        text-align: left;\n",
       "    }\n",
       "\n",
       "    .dataframe tbody tr th {\n",
       "        vertical-align: top;\n",
       "    }\n",
       "</style>\n",
       "<table border=\"1\" class=\"dataframe\">\n",
       "  <thead>\n",
       "    <tr style=\"text-align: right;\">\n",
       "      <th></th>\n",
       "      <th>Survived</th>\n",
       "      <th>Pclass</th>\n",
       "      <th>Sex</th>\n",
       "      <th>Age</th>\n",
       "      <th>Ticket</th>\n",
       "      <th>Fare</th>\n",
       "      <th>Title</th>\n",
       "      <th>FamilySize</th>\n",
       "    </tr>\n",
       "  </thead>\n",
       "  <tbody>\n",
       "    <tr>\n",
       "      <th>0</th>\n",
       "      <td>0</td>\n",
       "      <td>3</td>\n",
       "      <td>1</td>\n",
       "      <td>29.699118</td>\n",
       "      <td>199</td>\n",
       "      <td>7.2292</td>\n",
       "      <td>5</td>\n",
       "      <td>0</td>\n",
       "    </tr>\n",
       "    <tr>\n",
       "      <th>1</th>\n",
       "      <td>1</td>\n",
       "      <td>3</td>\n",
       "      <td>0</td>\n",
       "      <td>0.750000</td>\n",
       "      <td>194</td>\n",
       "      <td>19.2583</td>\n",
       "      <td>4</td>\n",
       "      <td>3</td>\n",
       "    </tr>\n",
       "    <tr>\n",
       "      <th>2</th>\n",
       "      <td>0</td>\n",
       "      <td>3</td>\n",
       "      <td>1</td>\n",
       "      <td>29.699118</td>\n",
       "      <td>487</td>\n",
       "      <td>6.8583</td>\n",
       "      <td>5</td>\n",
       "      <td>0</td>\n",
       "    </tr>\n",
       "    <tr>\n",
       "      <th>3</th>\n",
       "      <td>1</td>\n",
       "      <td>1</td>\n",
       "      <td>1</td>\n",
       "      <td>36.000000</td>\n",
       "      <td>33</td>\n",
       "      <td>120.0000</td>\n",
       "      <td>5</td>\n",
       "      <td>3</td>\n",
       "    </tr>\n",
       "    <tr>\n",
       "      <th>4</th>\n",
       "      <td>0</td>\n",
       "      <td>2</td>\n",
       "      <td>1</td>\n",
       "      <td>29.699118</td>\n",
       "      <td>629</td>\n",
       "      <td>15.0500</td>\n",
       "      <td>5</td>\n",
       "      <td>0</td>\n",
       "    </tr>\n",
       "  </tbody>\n",
       "</table>\n",
       "</div>"
      ],
      "text/plain": [
       "   Survived  Pclass  Sex        Age  Ticket      Fare  Title  FamilySize\n",
       "0         0       3    1  29.699118     199    7.2292      5           0\n",
       "1         1       3    0   0.750000     194   19.2583      4           3\n",
       "2         0       3    1  29.699118     487    6.8583      5           0\n",
       "3         1       1    1  36.000000      33  120.0000      5           3\n",
       "4         0       2    1  29.699118     629   15.0500      5           0"
      ]
     },
     "execution_count": 2,
     "metadata": {},
     "output_type": "execute_result"
    }
   ],
   "source": [
    "nonan_data = idata[1]\n",
    "nonan_data.head()"
   ]
  },
  {
   "cell_type": "code",
   "execution_count": 3,
   "metadata": {},
   "outputs": [
    {
     "data": {
      "text/plain": [
       "8"
      ]
     },
     "execution_count": 3,
     "metadata": {},
     "output_type": "execute_result"
    }
   ],
   "source": [
    "len(nonan_data.columns)"
   ]
  },
  {
   "cell_type": "code",
   "execution_count": 4,
   "metadata": {},
   "outputs": [
    {
     "data": {
      "text/plain": [
       "2"
      ]
     },
     "execution_count": 4,
     "metadata": {},
     "output_type": "execute_result"
    }
   ],
   "source": [
    "len(np.unique(nonan_data['Survived'].values))"
   ]
  },
  {
   "cell_type": "code",
   "execution_count": 5,
   "metadata": {},
   "outputs": [
    {
     "data": {
      "text/plain": [
       "<Starts.startmodtf.StartModTFANN at 0x7f3ce0e01e10>"
      ]
     },
     "execution_count": 5,
     "metadata": {},
     "output_type": "execute_result"
    }
   ],
   "source": [
    "stf = StartModTFANN(n_classes=len(np.unique(nonan_data['Survived'].values)), dependent_label='Survived')\n",
    "stf"
   ]
  },
  {
   "cell_type": "code",
   "execution_count": 6,
   "metadata": {},
   "outputs": [
    {
     "name": "stdout",
     "output_type": "stream",
     "text": [
      "\n",
      "Input_units: 7 \n",
      "\n",
      "Hidden_units: [2, 1] \n",
      "\n",
      "Output_units: 1 \n",
      "\n",
      "Optimizer: Adam \n",
      "\n",
      "Activation_function: relu \n",
      "\n",
      "Learning_Rate: 0.0001 \n",
      "\n",
      "Training_Steps: 2000 \n",
      "\n",
      "Batch_Size: 10 \n",
      "\n",
      "Number_of_epochs: 5 \n",
      "\n",
      "Feature_Scaling: True \n",
      "\n",
      "Loss_function: binary_crossentropy \n",
      "\n",
      "Drop_out: 0.2 \n",
      "\n",
      "Recurrent_drop_out: 0.5 \n",
      "\n",
      "Bias_Initializer: random_uniform \n",
      "\n",
      "Depth_wise_Initializer: random_uniform \n",
      "\n",
      "Seed: 10 \n",
      "\n"
     ]
    }
   ],
   "source": [
    "# Setup neural network parameters\n",
    "input_dim = len(nonan_data.columns)\n",
    "\n",
    "new_param={'input_units': len(nonan_data.columns)-1, 'hidden_units':[2,1], 'output_units':1, 'optimizer':'Adam', \n",
    "           'activation_fn':'relu', 'learning_rate': 0.0001, 'steps':2000, 'batch_size':10, \n",
    "           'num_epochs': 5, 'feature_scl':True, 'loss_fn':'binary_crossentropy', \n",
    "           'drop_out':0.2, 'rec_drop_out':0.5, 'bias_initializer': 'random_uniform', \n",
    "           'depth_wise_initializer': 'random_uniform', 'seed': 10}\n",
    "\n",
    "stf.update_parameters=new_param\n",
    "stf.info_parameters()"
   ]
  },
  {
   "cell_type": "code",
   "execution_count": 7,
   "metadata": {
    "scrolled": false
   },
   "outputs": [
    {
     "name": "stdout",
     "output_type": "stream",
     "text": [
      "(712, 7) (712,)\n",
      "Epoch 1/5\n",
      "712/712 [==============================] - 0s 607us/step - loss: 0.6909 - acc: 0.6138\n",
      "Epoch 2/5\n",
      "712/712 [==============================] - 0s 253us/step - loss: 0.6868 - acc: 0.6138\n",
      "Epoch 3/5\n",
      "712/712 [==============================] - 0s 258us/step - loss: 0.6834 - acc: 0.6138\n",
      "Epoch 4/5\n",
      "712/712 [==============================] - 0s 290us/step - loss: 0.6804 - acc: 0.6138\n",
      "Epoch 5/5\n",
      "712/712 [==============================] - 0s 258us/step - loss: 0.6781 - acc: 0.6138\n",
      "712/712 [==============================] - 0s 115us/step\n",
      "\n",
      "Model <keras.models.Sequential object at 0x7f3ce0e019e8>: Scores: 67.69%, Accuracy: 61.38%\n"
     ]
    }
   ],
   "source": [
    "# Try method Keras Tensorflow to predict the Survivors (column 'Survived')\n",
    "model, y_eval, y_pred = stf.keras_sequential(data=nonan_data)"
   ]
  },
  {
   "cell_type": "code",
   "execution_count": 8,
   "metadata": {},
   "outputs": [],
   "source": [
    "# x_train.shape, x_eval.shape, y_train.shape, y_eval.shape"
   ]
  },
  {
   "cell_type": "code",
   "execution_count": 9,
   "metadata": {},
   "outputs": [
    {
     "data": {
      "text/plain": [
       "(179, 179)"
      ]
     },
     "execution_count": 9,
     "metadata": {},
     "output_type": "execute_result"
    }
   ],
   "source": [
    "# Convert predicted value by rounding it (>0.5 will be considered as 1 else 0)\n",
    "y_pred = np.array([1 if item>0.5 else 0 for item in y_pred])\n",
    "\n",
    "# Compare the predicted value with true_value\n",
    "len(y_eval), len(y_pred)"
   ]
  },
  {
   "cell_type": "code",
   "execution_count": 10,
   "metadata": {},
   "outputs": [
    {
     "data": {
      "text/plain": [
       "array([[112,   0],\n",
       "       [ 67,   0]])"
      ]
     },
     "execution_count": 10,
     "metadata": {},
     "output_type": "execute_result"
    }
   ],
   "source": [
    "confusion_matrix(y_eval, y_pred)"
   ]
  },
  {
   "cell_type": "markdown",
   "metadata": {},
   "source": [
    "### Result: \n",
    "#### the correct predicted result 112\n",
    "#### the wrong predicted result 67"
   ]
  },
  {
   "cell_type": "code",
   "execution_count": 11,
   "metadata": {},
   "outputs": [
    {
     "name": "stdout",
     "output_type": "stream",
     "text": [
      "\n",
      "Input_units: 7 \n",
      "\n",
      "Hidden_units: [10, 10, 10] \n",
      "\n",
      "Output_units: 1 \n",
      "\n",
      "Optimizer: Adam \n",
      "\n",
      "Activation_function: relu \n",
      "\n",
      "Learning_Rate: 0.0001 \n",
      "\n",
      "Training_Steps: 2000 \n",
      "\n",
      "Batch_Size: 10 \n",
      "\n",
      "Number_of_epochs: 20 \n",
      "\n",
      "Feature_Scaling: True \n",
      "\n",
      "Loss_function: binary_crossentropy \n",
      "\n",
      "Drop_out: 0.5 \n",
      "\n",
      "Recurrent_drop_out: 0.6 \n",
      "\n",
      "Bias_Initializer: random_uniform \n",
      "\n",
      "Depth_wise_Initializer: random_uniform \n",
      "\n",
      "Seed: 10 \n",
      "\n"
     ]
    }
   ],
   "source": [
    "# update parameters by adding more units in hidden layer and second hidden layer\n",
    "new_param={'input_units': len(nonan_data.columns)-1, 'hidden_units':[10, 10, 10], 'output_units':1, \n",
    "           'optimizer':'Adam', 'activation_fn':'relu', 'learning_rate': 0.0001,\n",
    "           'steps': 2000, 'batch_size': 10, 'num_epochs': 20, 'feature_scl': True, \n",
    "           'loss_fn':'binary_crossentropy', 'drop_out': 0.5, 'rec_drop_out': 0.6, \n",
    "           'bias_initializer': 'random_uniform', 'depth_wise_initializer': 'random_uniform', 'seed': 10}\n",
    "\n",
    "stf.update_parameters=new_param\n",
    "stf.info_parameters()"
   ]
  },
  {
   "cell_type": "code",
   "execution_count": 12,
   "metadata": {},
   "outputs": [
    {
     "data": {
      "text/plain": [
       "Index(['Survived', 'Pclass', 'Sex', 'Age', 'Ticket', 'Fare', 'Title',\n",
       "       'FamilySize'],\n",
       "      dtype='object')"
      ]
     },
     "execution_count": 12,
     "metadata": {},
     "output_type": "execute_result"
    }
   ],
   "source": [
    "nonan_data.columns"
   ]
  },
  {
   "cell_type": "code",
   "execution_count": 13,
   "metadata": {},
   "outputs": [
    {
     "data": {
      "text/html": [
       "<div>\n",
       "<style>\n",
       "    .dataframe thead tr:only-child th {\n",
       "        text-align: right;\n",
       "    }\n",
       "\n",
       "    .dataframe thead th {\n",
       "        text-align: left;\n",
       "    }\n",
       "\n",
       "    .dataframe tbody tr th {\n",
       "        vertical-align: top;\n",
       "    }\n",
       "</style>\n",
       "<table border=\"1\" class=\"dataframe\">\n",
       "  <thead>\n",
       "    <tr style=\"text-align: right;\">\n",
       "      <th></th>\n",
       "      <th>Survived</th>\n",
       "      <th>Pclass</th>\n",
       "      <th>Sex</th>\n",
       "      <th>Age</th>\n",
       "      <th>Ticket</th>\n",
       "      <th>Fare</th>\n",
       "      <th>Title</th>\n",
       "      <th>FamilySize</th>\n",
       "    </tr>\n",
       "  </thead>\n",
       "  <tbody>\n",
       "    <tr>\n",
       "      <th>0</th>\n",
       "      <td>0</td>\n",
       "      <td>3</td>\n",
       "      <td>1</td>\n",
       "      <td>29.699118</td>\n",
       "      <td>199</td>\n",
       "      <td>7.2292</td>\n",
       "      <td>5</td>\n",
       "      <td>0</td>\n",
       "    </tr>\n",
       "    <tr>\n",
       "      <th>1</th>\n",
       "      <td>1</td>\n",
       "      <td>3</td>\n",
       "      <td>0</td>\n",
       "      <td>0.750000</td>\n",
       "      <td>194</td>\n",
       "      <td>19.2583</td>\n",
       "      <td>4</td>\n",
       "      <td>3</td>\n",
       "    </tr>\n",
       "    <tr>\n",
       "      <th>2</th>\n",
       "      <td>0</td>\n",
       "      <td>3</td>\n",
       "      <td>1</td>\n",
       "      <td>29.699118</td>\n",
       "      <td>487</td>\n",
       "      <td>6.8583</td>\n",
       "      <td>5</td>\n",
       "      <td>0</td>\n",
       "    </tr>\n",
       "    <tr>\n",
       "      <th>3</th>\n",
       "      <td>1</td>\n",
       "      <td>1</td>\n",
       "      <td>1</td>\n",
       "      <td>36.000000</td>\n",
       "      <td>33</td>\n",
       "      <td>120.0000</td>\n",
       "      <td>5</td>\n",
       "      <td>3</td>\n",
       "    </tr>\n",
       "    <tr>\n",
       "      <th>4</th>\n",
       "      <td>0</td>\n",
       "      <td>2</td>\n",
       "      <td>1</td>\n",
       "      <td>29.699118</td>\n",
       "      <td>629</td>\n",
       "      <td>15.0500</td>\n",
       "      <td>5</td>\n",
       "      <td>0</td>\n",
       "    </tr>\n",
       "  </tbody>\n",
       "</table>\n",
       "</div>"
      ],
      "text/plain": [
       "   Survived  Pclass  Sex        Age  Ticket      Fare  Title  FamilySize\n",
       "0         0       3    1  29.699118     199    7.2292      5           0\n",
       "1         1       3    0   0.750000     194   19.2583      4           3\n",
       "2         0       3    1  29.699118     487    6.8583      5           0\n",
       "3         1       1    1  36.000000      33  120.0000      5           3\n",
       "4         0       2    1  29.699118     629   15.0500      5           0"
      ]
     },
     "execution_count": 13,
     "metadata": {},
     "output_type": "execute_result"
    }
   ],
   "source": [
    "nonan_data.head()"
   ]
  },
  {
   "cell_type": "code",
   "execution_count": 14,
   "metadata": {},
   "outputs": [
    {
     "name": "stdout",
     "output_type": "stream",
     "text": [
      "(712, 7) (712,)\n",
      "Epoch 1/20\n",
      "712/712 [==============================] - 1s 929us/step - loss: 0.6868 - acc: 0.5969\n",
      "Epoch 2/20\n",
      "712/712 [==============================] - 0s 396us/step - loss: 0.6494 - acc: 0.6138\n",
      "Epoch 3/20\n",
      "712/712 [==============================] - 0s 260us/step - loss: 0.6404 - acc: 0.6222\n",
      "Epoch 4/20\n",
      "712/712 [==============================] - 0s 263us/step - loss: 0.6280 - acc: 0.6713\n",
      "Epoch 5/20\n",
      "712/712 [==============================] - 0s 223us/step - loss: 0.6130 - acc: 0.6980\n",
      "Epoch 6/20\n",
      "712/712 [==============================] - 0s 322us/step - loss: 0.6161 - acc: 0.6966\n",
      "Epoch 7/20\n",
      "712/712 [==============================] - 0s 272us/step - loss: 0.6040 - acc: 0.6952\n",
      "Epoch 8/20\n",
      "712/712 [==============================] - 0s 247us/step - loss: 0.6043 - acc: 0.7065\n",
      "Epoch 9/20\n",
      "712/712 [==============================] - 0s 307us/step - loss: 0.6002 - acc: 0.7008\n",
      "Epoch 10/20\n",
      "712/712 [==============================] - 0s 292us/step - loss: 0.6001 - acc: 0.7079\n",
      "Epoch 11/20\n",
      "712/712 [==============================] - 0s 280us/step - loss: 0.5986 - acc: 0.6994\n",
      "Epoch 12/20\n",
      "712/712 [==============================] - 0s 299us/step - loss: 0.5942 - acc: 0.7008\n",
      "Epoch 13/20\n",
      "712/712 [==============================] - 0s 280us/step - loss: 0.5906 - acc: 0.7008\n",
      "Epoch 14/20\n",
      "712/712 [==============================] - 0s 384us/step - loss: 0.5879 - acc: 0.6952\n",
      "Epoch 15/20\n",
      "712/712 [==============================] - 0s 378us/step - loss: 0.5905 - acc: 0.7065\n",
      "Epoch 16/20\n",
      "712/712 [==============================] - 0s 349us/step - loss: 0.5793 - acc: 0.7093\n",
      "Epoch 17/20\n",
      "712/712 [==============================] - 0s 356us/step - loss: 0.5825 - acc: 0.6980\n",
      "Epoch 18/20\n",
      "712/712 [==============================] - 0s 274us/step - loss: 0.5769 - acc: 0.7107\n",
      "Epoch 19/20\n",
      "712/712 [==============================] - 0s 288us/step - loss: 0.5730 - acc: 0.7177\n",
      "Epoch 20/20\n",
      "712/712 [==============================] - 0s 289us/step - loss: 0.5708 - acc: 0.7163\n",
      "712/712 [==============================] - 0s 136us/step\n",
      "\n",
      "Model <keras.models.Sequential object at 0x7f3cdddf6e80>: Scores: 55.82%, Accuracy: 72.61%\n"
     ]
    }
   ],
   "source": [
    "model, y_true, y_pred = stf.keras_sequential(data=nonan_data)"
   ]
  },
  {
   "cell_type": "code",
   "execution_count": 15,
   "metadata": {},
   "outputs": [
    {
     "data": {
      "text/plain": [
       "array([[98, 14],\n",
       "       [34, 33]])"
      ]
     },
     "execution_count": 15,
     "metadata": {},
     "output_type": "execute_result"
    }
   ],
   "source": [
    "# Convert predicted value by rounding it (>0.5 will be considered as 1 else 0)\n",
    "y_pred = np.array([1 if item>0.5 else 0 for item in y_pred])\n",
    "confusion_matrix(y_true, y_pred)"
   ]
  },
  {
   "cell_type": "markdown",
   "metadata": {},
   "source": [
    "### Result: \n",
    "#### the correct predicted result 131\n",
    "#### the wrong predicted result 48\n",
    "#### the accuracy has been improved from 61.38% to 72.61%\n",
    "\n",
    "#### Notice: unnecessary feature (e.g. 'Ticket') might be removed before building model to improve the result overall"
   ]
  },
  {
   "cell_type": "code",
   "execution_count": null,
   "metadata": {},
   "outputs": [],
   "source": []
  }
 ],
 "metadata": {
  "kernelspec": {
   "display_name": "Python 3",
   "language": "python",
   "name": "python3"
  },
  "language_info": {
   "codemirror_mode": {
    "name": "ipython",
    "version": 3
   },
   "file_extension": ".py",
   "mimetype": "text/x-python",
   "name": "python",
   "nbconvert_exporter": "python",
   "pygments_lexer": "ipython3",
   "version": "3.6.5"
  }
 },
 "nbformat": 4,
 "nbformat_minor": 2
}
