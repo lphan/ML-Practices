{
 "cells": [
  {
   "cell_type": "markdown",
   "metadata": {},
   "source": [
    "### Try Model: Tensor Flow Neural Network"
   ]
  },
  {
   "cell_type": "code",
   "execution_count": 1,
   "metadata": {},
   "outputs": [
    {
     "name": "stdout",
     "output_type": "stream",
     "text": [
      "local_kwargs {'data_path_1': './data/train.csv', 'data_path_2': './data/titanic_no_nan.csv', 'data_path_3': './data/test.csv', 'drop_obj_col': False, 'nan_drop_col': False, 'nan_drop_row': False, 'nan_zero': False, 'nan_mean': True, 'nan_mean_neighbors': False}\n"
     ]
    },
    {
     "name": "stderr",
     "output_type": "stream",
     "text": [
      "Using TensorFlow backend.\n"
     ]
    }
   ],
   "source": [
    "# setup absolute path to location of package Starts and config-file \n",
    "from inspect import getsourcefile\n",
    "import os.path as path, sys\n",
    "current_dir = path.dirname(path.abspath(getsourcefile(lambda:0)))\n",
    "sys.path.insert(0, current_dir[:current_dir.rfind(path.sep)])\n",
    "\n",
    "# import package Starts\n",
    "from Starts.startmodskl import *\n",
    "from Starts.startmodtf import *"
   ]
  },
  {
   "cell_type": "code",
   "execution_count": 2,
   "metadata": {},
   "outputs": [
    {
     "data": {
      "text/html": [
       "<div>\n",
       "<style>\n",
       "    .dataframe thead tr:only-child th {\n",
       "        text-align: right;\n",
       "    }\n",
       "\n",
       "    .dataframe thead th {\n",
       "        text-align: left;\n",
       "    }\n",
       "\n",
       "    .dataframe tbody tr th {\n",
       "        vertical-align: top;\n",
       "    }\n",
       "</style>\n",
       "<table border=\"1\" class=\"dataframe\">\n",
       "  <thead>\n",
       "    <tr style=\"text-align: right;\">\n",
       "      <th></th>\n",
       "      <th>Survived</th>\n",
       "      <th>Pclass</th>\n",
       "      <th>Sex</th>\n",
       "      <th>Age</th>\n",
       "      <th>Ticket</th>\n",
       "      <th>Fare</th>\n",
       "      <th>Title</th>\n",
       "      <th>FamilySize</th>\n",
       "    </tr>\n",
       "  </thead>\n",
       "  <tbody>\n",
       "    <tr>\n",
       "      <th>0</th>\n",
       "      <td>1</td>\n",
       "      <td>2</td>\n",
       "      <td>0</td>\n",
       "      <td>29.000000</td>\n",
       "      <td>553</td>\n",
       "      <td>10.500</td>\n",
       "      <td>6</td>\n",
       "      <td>0</td>\n",
       "    </tr>\n",
       "    <tr>\n",
       "      <th>1</th>\n",
       "      <td>0</td>\n",
       "      <td>2</td>\n",
       "      <td>1</td>\n",
       "      <td>23.000000</td>\n",
       "      <td>119</td>\n",
       "      <td>13.000</td>\n",
       "      <td>5</td>\n",
       "      <td>0</td>\n",
       "    </tr>\n",
       "    <tr>\n",
       "      <th>2</th>\n",
       "      <td>0</td>\n",
       "      <td>3</td>\n",
       "      <td>1</td>\n",
       "      <td>28.000000</td>\n",
       "      <td>306</td>\n",
       "      <td>9.500</td>\n",
       "      <td>5</td>\n",
       "      <td>0</td>\n",
       "    </tr>\n",
       "    <tr>\n",
       "      <th>3</th>\n",
       "      <td>0</td>\n",
       "      <td>3</td>\n",
       "      <td>1</td>\n",
       "      <td>20.000000</td>\n",
       "      <td>500</td>\n",
       "      <td>9.225</td>\n",
       "      <td>5</td>\n",
       "      <td>0</td>\n",
       "    </tr>\n",
       "    <tr>\n",
       "      <th>4</th>\n",
       "      <td>0</td>\n",
       "      <td>1</td>\n",
       "      <td>1</td>\n",
       "      <td>29.699118</td>\n",
       "      <td>13</td>\n",
       "      <td>0.000</td>\n",
       "      <td>5</td>\n",
       "      <td>0</td>\n",
       "    </tr>\n",
       "  </tbody>\n",
       "</table>\n",
       "</div>"
      ],
      "text/plain": [
       "   Survived  Pclass  Sex        Age  Ticket    Fare  Title  FamilySize\n",
       "0         1       2    0  29.000000     553  10.500      6           0\n",
       "1         0       2    1  23.000000     119  13.000      5           0\n",
       "2         0       3    1  28.000000     306   9.500      5           0\n",
       "3         0       3    1  20.000000     500   9.225      5           0\n",
       "4         0       1    1  29.699118      13   0.000      5           0"
      ]
     },
     "execution_count": 2,
     "metadata": {},
     "output_type": "execute_result"
    }
   ],
   "source": [
    "nonan_data.head()"
   ]
  },
  {
   "cell_type": "code",
   "execution_count": 3,
   "metadata": {},
   "outputs": [
    {
     "name": "stdout",
     "output_type": "stream",
     "text": [
      "Epoch 1/1\n",
      "712/712 [==============================] - 1s 1ms/step - loss: 0.6818 - acc: 0.6208\n"
     ]
    }
   ],
   "source": [
    "stf = StartModTF(nonan_data)\n",
    "# Try method Keras Tensorflow to predict the Survivors (column 'Survived')\n",
    "model, y_true, y_pred = stf.keras_sequential(nonan_data, 'Survived', hidden_layers=2)"
   ]
  },
  {
   "cell_type": "code",
   "execution_count": 4,
   "metadata": {},
   "outputs": [
    {
     "data": {
      "text/plain": [
       "(179, 179)"
      ]
     },
     "execution_count": 4,
     "metadata": {},
     "output_type": "execute_result"
    }
   ],
   "source": [
    "# Convert predicted value by rounding it (>0.5 will be considered as 1 else 0)\n",
    "y_pred = np.array([1 if item>0.5 else 0 for item in y_pred])\n",
    "\n",
    "# Compare the predicted value with true_value\n",
    "len(y_true), len(y_pred)"
   ]
  },
  {
   "cell_type": "code",
   "execution_count": 5,
   "metadata": {},
   "outputs": [
    {
     "data": {
      "text/plain": [
       "array([[105,   2],\n",
       "       [ 72,   0]])"
      ]
     },
     "execution_count": 5,
     "metadata": {},
     "output_type": "execute_result"
    }
   ],
   "source": [
    "confusion_matrix(y_true, y_pred)"
   ]
  },
  {
   "cell_type": "markdown",
   "metadata": {},
   "source": [
    "### Result: \n",
    "#### the correct predicted result 105\n",
    "#### the wrong predicted result 74"
   ]
  },
  {
   "cell_type": "code",
   "execution_count": 6,
   "metadata": {},
   "outputs": [
    {
     "name": "stdout",
     "output_type": "stream",
     "text": [
      "Epoch 1/10\n",
      "712/712 [==============================] - 0s 428us/step - loss: 0.6794 - acc: 0.6208\n",
      "Epoch 2/10\n",
      "712/712 [==============================] - 0s 140us/step - loss: 0.6408 - acc: 0.6208\n",
      "Epoch 3/10\n",
      "712/712 [==============================] - 0s 144us/step - loss: 0.6335 - acc: 0.6208\n",
      "Epoch 4/10\n",
      "712/712 [==============================] - 0s 137us/step - loss: 0.6258 - acc: 0.6208\n",
      "Epoch 5/10\n",
      "712/712 [==============================] - 0s 141us/step - loss: 0.6192 - acc: 0.6208\n",
      "Epoch 6/10\n",
      "712/712 [==============================] - 0s 167us/step - loss: 0.6124 - acc: 0.6433\n",
      "Epoch 7/10\n",
      "712/712 [==============================] - 0s 178us/step - loss: 0.6042 - acc: 0.7121\n",
      "Epoch 8/10\n",
      "712/712 [==============================] - 0s 137us/step - loss: 0.5929 - acc: 0.7177\n",
      "Epoch 9/10\n",
      "712/712 [==============================] - 0s 142us/step - loss: 0.5845 - acc: 0.7247\n",
      "Epoch 10/10\n",
      "712/712 [==============================] - 0s 157us/step - loss: 0.5735 - acc: 0.7261\n"
     ]
    }
   ],
   "source": [
    "# update parameters\n",
    "new_param={'hidden_units':[10,10,10], 'optimizer':'Adam', 'activation_fn':'sigmoid', 'learning_rate': 0.0001,\n",
    "           'steps':2000, 'batch_size':10, 'num_epochs':10, 'feature_scl':True}\n",
    "stf.update_parameters=new_param\n",
    "model, y_true, y_pred = stf.keras_sequential(nonan_data, 'Survived', hidden_layers=2)"
   ]
  },
  {
   "cell_type": "code",
   "execution_count": 7,
   "metadata": {},
   "outputs": [
    {
     "data": {
      "text/plain": [
       "array([[93, 14],\n",
       "       [37, 35]])"
      ]
     },
     "execution_count": 7,
     "metadata": {},
     "output_type": "execute_result"
    }
   ],
   "source": [
    "# Convert predicted value by rounding it (>0.5 will be considered as 1 else 0)\n",
    "y_pred = np.array([1 if item>0.5 else 0 for item in y_pred])\n",
    "confusion_matrix(y_true, y_pred)"
   ]
  },
  {
   "cell_type": "markdown",
   "metadata": {},
   "source": [
    "### Result: \n",
    "#### the correct predicted result 128\n",
    "#### the wrong predicted result 51 \n",
    "\n",
    "### Result has been changed (getting worse) without any impact from code, so data preprocessing has major impact on final result. In our case, the feature 'Ticket' was not removed during preprocess phase (NaN processing) and included into data. \n",
    "\n",
    "### Conclusion: unnecessary feature might be removed before building model."
   ]
  }
 ],
 "metadata": {
  "kernelspec": {
   "display_name": "Python 3",
   "language": "python",
   "name": "python3"
  },
  "language_info": {
   "codemirror_mode": {
    "name": "ipython",
    "version": 3
   },
   "file_extension": ".py",
   "mimetype": "text/x-python",
   "name": "python",
   "nbconvert_exporter": "python",
   "pygments_lexer": "ipython3",
   "version": "3.6.5"
  }
 },
 "nbformat": 4,
 "nbformat_minor": 2
}
