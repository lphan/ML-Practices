{
 "cells": [
  {
   "cell_type": "markdown",
   "metadata": {},
   "source": [
    "### Analyse data Titanic Disaster\n",
    "\n",
    "### Try Model: Tensor Flow Neural Network"
   ]
  },
  {
   "cell_type": "code",
   "execution_count": 1,
   "metadata": {},
   "outputs": [
    {
     "name": "stdout",
     "output_type": "stream",
     "text": [
      "local_kwargs {'data_path': './data/train.csv, ./data/titanic_no_nan.csv ,./data/test.csv', 'drop_obj_col': False, 'nan_drop_col': False, 'nan_drop_row': False, 'nan_zero': False, 'nan_mean': True, 'nan_mean_neighbors': False}\n"
     ]
    },
    {
     "name": "stderr",
     "output_type": "stream",
     "text": [
      "Using TensorFlow backend.\n"
     ]
    }
   ],
   "source": [
    "# setup absolute path to location of package Starts and config-file \n",
    "from inspect import getsourcefile\n",
    "import os.path as path, sys\n",
    "current_dir = path.dirname(path.abspath(getsourcefile(lambda:0)))\n",
    "sys.path.insert(0, current_dir[:current_dir.rfind(path.sep)])\n",
    "\n",
    "# import package Starts\n",
    "from Starts.startmodskl import *\n",
    "from Starts.startmodtf import *"
   ]
  },
  {
   "cell_type": "code",
   "execution_count": 2,
   "metadata": {},
   "outputs": [
    {
     "data": {
      "text/html": [
       "<div>\n",
       "<style>\n",
       "    .dataframe thead tr:only-child th {\n",
       "        text-align: right;\n",
       "    }\n",
       "\n",
       "    .dataframe thead th {\n",
       "        text-align: left;\n",
       "    }\n",
       "\n",
       "    .dataframe tbody tr th {\n",
       "        vertical-align: top;\n",
       "    }\n",
       "</style>\n",
       "<table border=\"1\" class=\"dataframe\">\n",
       "  <thead>\n",
       "    <tr style=\"text-align: right;\">\n",
       "      <th></th>\n",
       "      <th>Survived</th>\n",
       "      <th>Pclass</th>\n",
       "      <th>Sex</th>\n",
       "      <th>Age</th>\n",
       "      <th>Ticket</th>\n",
       "      <th>Fare</th>\n",
       "      <th>Title</th>\n",
       "      <th>FamilySize</th>\n",
       "    </tr>\n",
       "  </thead>\n",
       "  <tbody>\n",
       "    <tr>\n",
       "      <th>0</th>\n",
       "      <td>1</td>\n",
       "      <td>3</td>\n",
       "      <td>1</td>\n",
       "      <td>21.000000</td>\n",
       "      <td>401</td>\n",
       "      <td>7.7958</td>\n",
       "      <td>5</td>\n",
       "      <td>0</td>\n",
       "    </tr>\n",
       "    <tr>\n",
       "      <th>1</th>\n",
       "      <td>1</td>\n",
       "      <td>3</td>\n",
       "      <td>0</td>\n",
       "      <td>5.000000</td>\n",
       "      <td>329</td>\n",
       "      <td>31.3875</td>\n",
       "      <td>4</td>\n",
       "      <td>6</td>\n",
       "    </tr>\n",
       "    <tr>\n",
       "      <th>2</th>\n",
       "      <td>0</td>\n",
       "      <td>3</td>\n",
       "      <td>1</td>\n",
       "      <td>29.000000</td>\n",
       "      <td>315</td>\n",
       "      <td>7.0458</td>\n",
       "      <td>5</td>\n",
       "      <td>1</td>\n",
       "    </tr>\n",
       "    <tr>\n",
       "      <th>3</th>\n",
       "      <td>1</td>\n",
       "      <td>1</td>\n",
       "      <td>0</td>\n",
       "      <td>16.000000</td>\n",
       "      <td>591</td>\n",
       "      <td>39.4000</td>\n",
       "      <td>4</td>\n",
       "      <td>1</td>\n",
       "    </tr>\n",
       "    <tr>\n",
       "      <th>4</th>\n",
       "      <td>0</td>\n",
       "      <td>3</td>\n",
       "      <td>1</td>\n",
       "      <td>29.699118</td>\n",
       "      <td>568</td>\n",
       "      <td>69.5500</td>\n",
       "      <td>5</td>\n",
       "      <td>10</td>\n",
       "    </tr>\n",
       "  </tbody>\n",
       "</table>\n",
       "</div>"
      ],
      "text/plain": [
       "   Survived  Pclass  Sex        Age  Ticket     Fare  Title  FamilySize\n",
       "0         1       3    1  21.000000     401   7.7958      5           0\n",
       "1         1       3    0   5.000000     329  31.3875      4           6\n",
       "2         0       3    1  29.000000     315   7.0458      5           1\n",
       "3         1       1    0  16.000000     591  39.4000      4           1\n",
       "4         0       3    1  29.699118     568  69.5500      5          10"
      ]
     },
     "execution_count": 2,
     "metadata": {},
     "output_type": "execute_result"
    }
   ],
   "source": [
    "nonan_data = data[1]\n",
    "nonan_data.head()"
   ]
  },
  {
   "cell_type": "code",
   "execution_count": 3,
   "metadata": {},
   "outputs": [
    {
     "data": {
      "text/plain": [
       "8"
      ]
     },
     "execution_count": 3,
     "metadata": {},
     "output_type": "execute_result"
    }
   ],
   "source": [
    "len(nonan_data.columns)"
   ]
  },
  {
   "cell_type": "code",
   "execution_count": 4,
   "metadata": {},
   "outputs": [
    {
     "data": {
      "text/plain": [
       "{'StartModTF.(data)': '\\n        tbd\\n\\n        References:\\n            https://github.com/tensorflow/models/tree/master/samples/cookbook/regression\\n\\n        :param data: Pandas-DataFrame\\n        :return:\\n        ',\n",
       " 'info_help_StartModTF': 'StartModTF'}"
      ]
     },
     "execution_count": 4,
     "metadata": {},
     "output_type": "execute_result"
    }
   ],
   "source": [
    "stf = StartModTFANN(nonan_data, label='Survived')\n",
    "stf.info_help()"
   ]
  },
  {
   "cell_type": "code",
   "execution_count": 5,
   "metadata": {},
   "outputs": [
    {
     "name": "stdout",
     "output_type": "stream",
     "text": [
      "\n",
      "Hidden_units: [10, 10] \n",
      "\n",
      "Optimizer: Adagrad \n",
      "\n",
      "Activation_function: relu \n",
      "\n",
      "Learning_Rate: 0.001 \n",
      "\n",
      "Training_Steps: 1000 \n",
      "\n",
      "Batch_Size: 10 \n",
      "\n",
      "Number_of_epochs: 1 \n",
      "\n",
      "Feature_Scaling: False \n",
      "\n",
      "Loss_function: mean_squared_error \n",
      "\n",
      "Drop_out: 0.2 \n",
      "\n",
      "Recurrent_drop_out: 0.2 \n",
      "\n"
     ]
    }
   ],
   "source": [
    "stf.info_parameters()"
   ]
  },
  {
   "cell_type": "code",
   "execution_count": 6,
   "metadata": {},
   "outputs": [
    {
     "name": "stdout",
     "output_type": "stream",
     "text": [
      "\n",
      "Hidden_units: [8, 2, 1] \n",
      "\n",
      "Optimizer: Adam \n",
      "\n",
      "Activation_function: sigmoid \n",
      "\n",
      "Learning_Rate: 0.0001 \n",
      "\n",
      "Training_Steps: 2000 \n",
      "\n",
      "Batch_Size: 10 \n",
      "\n",
      "Number_of_epochs: 2 \n",
      "\n",
      "Feature_Scaling: True \n",
      "\n",
      "Loss_function: binary_crossentropy \n",
      "\n",
      "Drop_out: 0.2 \n",
      "\n",
      "Recurrent_drop_out: 0.5 \n",
      "\n"
     ]
    }
   ],
   "source": [
    "# Setup neural network parameters\n",
    "input_dim = len(nonan_data.columns)\n",
    "new_param={'hidden_units':[input_dim,2,1], 'optimizer':'Adam', 'activation_fn':'sigmoid', 'learning_rate': 0.0001,\n",
    "           'steps':2000, 'batch_size':10, 'num_epochs':2, 'feature_scl':True, 'loss_fn':'binary_crossentropy', \n",
    "           'drop_out':0.2, 'rec_drop_out':0.5}\n",
    "stf.update_parameters=new_param\n",
    "stf.info_parameters()"
   ]
  },
  {
   "cell_type": "code",
   "execution_count": 7,
   "metadata": {},
   "outputs": [
    {
     "name": "stdout",
     "output_type": "stream",
     "text": [
      "(712, 8) (712,)\n",
      "Epoch 1/2\n",
      "712/712 [==============================] - 0s 493us/step - loss: 0.6900 - acc: 0.5871\n",
      "Epoch 2/2\n",
      "712/712 [==============================] - 0s 279us/step - loss: 0.6769 - acc: 0.6152\n",
      "712/712 [==============================] - 0s 71us/step\n",
      "\n",
      "Model <keras.models.Sequential object at 0x7fdbfe3689e8>: Scores: 66.65%, Accuracy: 61.52%\n"
     ]
    }
   ],
   "source": [
    "# Try method Keras Tensorflow to predict the Survivors (column 'Survived')\n",
    "model, y_eval, y_pred = stf.keras_sequential()"
   ]
  },
  {
   "cell_type": "code",
   "execution_count": 8,
   "metadata": {},
   "outputs": [
    {
     "data": {
      "text/plain": [
       "(179, 179)"
      ]
     },
     "execution_count": 8,
     "metadata": {},
     "output_type": "execute_result"
    }
   ],
   "source": [
    "# Convert predicted value by rounding it (>0.5 will be considered as 1 else 0)\n",
    "y_pred = np.array([1 if item>0.5 else 0 for item in y_pred])\n",
    "\n",
    "# Compare the predicted value with true_value\n",
    "len(y_eval), len(y_pred)"
   ]
  },
  {
   "cell_type": "code",
   "execution_count": 9,
   "metadata": {},
   "outputs": [
    {
     "data": {
      "text/plain": [
       "array([[111,   0],\n",
       "       [ 68,   0]])"
      ]
     },
     "execution_count": 9,
     "metadata": {},
     "output_type": "execute_result"
    }
   ],
   "source": [
    "confusion_matrix(y_eval, y_pred)"
   ]
  },
  {
   "cell_type": "markdown",
   "metadata": {},
   "source": [
    "### Result: \n",
    "#### the correct predicted result 115\n",
    "#### the wrong predicted result 64"
   ]
  },
  {
   "cell_type": "code",
   "execution_count": 10,
   "metadata": {},
   "outputs": [
    {
     "name": "stdout",
     "output_type": "stream",
     "text": [
      "\n",
      "Hidden_units: [8, 10, 5, 1] \n",
      "\n",
      "Optimizer: Adam \n",
      "\n",
      "Activation_function: sigmoid \n",
      "\n",
      "Learning_Rate: 0.0001 \n",
      "\n",
      "Training_Steps: 2000 \n",
      "\n",
      "Batch_Size: 10 \n",
      "\n",
      "Number_of_epochs: 10 \n",
      "\n",
      "Feature_Scaling: True \n",
      "\n",
      "Loss_function: binary_crossentropy \n",
      "\n",
      "Drop_out: 0.2 \n",
      "\n",
      "Recurrent_drop_out: 0.5 \n",
      "\n"
     ]
    }
   ],
   "source": [
    "# update parameters by adding more units in hidden layer and second hidden layer\n",
    "new_param={'hidden_units':[input_dim,10,5, 1], 'optimizer':'Adam', 'activation_fn':'sigmoid', 'learning_rate': 0.0001,\n",
    "           'steps':2000, 'batch_size':10, 'num_epochs':10, 'feature_scl':True, 'loss_fn':'binary_crossentropy', \n",
    "           'drop_out':0.2, 'rec_drop_out':0.5}\n",
    "stf.update_parameters=new_param\n",
    "stf.info_parameters()"
   ]
  },
  {
   "cell_type": "code",
   "execution_count": 11,
   "metadata": {},
   "outputs": [
    {
     "name": "stdout",
     "output_type": "stream",
     "text": [
      "(712, 8) (712,)\n",
      "Epoch 1/10\n",
      "712/712 [==============================] - 1s 751us/step - loss: 0.6908 - acc: 0.5871\n",
      "Epoch 2/10\n",
      "712/712 [==============================] - 0s 249us/step - loss: 0.6804 - acc: 0.6152\n",
      "Epoch 3/10\n",
      "712/712 [==============================] - 0s 307us/step - loss: 0.6560 - acc: 0.6152\n",
      "Epoch 4/10\n",
      "712/712 [==============================] - 0s 266us/step - loss: 0.6298 - acc: 0.6152\n",
      "Epoch 5/10\n",
      "712/712 [==============================] - 0s 246us/step - loss: 0.6142 - acc: 0.6152\n",
      "Epoch 6/10\n",
      "712/712 [==============================] - 0s 209us/step - loss: 0.5970 - acc: 0.6952\n",
      "Epoch 7/10\n",
      "712/712 [==============================] - 0s 291us/step - loss: 0.5754 - acc: 0.7163\n",
      "Epoch 8/10\n",
      "712/712 [==============================] - 0s 302us/step - loss: 0.5674 - acc: 0.7275\n",
      "Epoch 9/10\n",
      "712/712 [==============================] - 0s 259us/step - loss: 0.5214 - acc: 0.7500\n",
      "Epoch 10/10\n",
      "712/712 [==============================] - 0s 255us/step - loss: 0.4585 - acc: 0.7935\n",
      "712/712 [==============================] - 0s 111us/step\n",
      "\n",
      "Model <keras.models.Sequential object at 0x7fdbfe368438>: Scores: 40.79%, Accuracy: 88.90%\n"
     ]
    }
   ],
   "source": [
    "model, y_true, y_pred = stf.keras_sequential()"
   ]
  },
  {
   "cell_type": "code",
   "execution_count": 12,
   "metadata": {},
   "outputs": [
    {
     "data": {
      "text/plain": [
       "array([[102,   9],\n",
       "       [  9,  59]])"
      ]
     },
     "execution_count": 12,
     "metadata": {},
     "output_type": "execute_result"
    }
   ],
   "source": [
    "# Convert predicted value by rounding it (>0.5 will be considered as 1 else 0)\n",
    "y_pred = np.array([1 if item>0.5 else 0 for item in y_pred])\n",
    "confusion_matrix(y_true, y_pred)"
   ]
  },
  {
   "cell_type": "markdown",
   "metadata": {},
   "source": [
    "### Result: \n",
    "#### the correct predicted result 162\n",
    "#### the wrong predicted result 17\n",
    "#### the accuracy has been improved from 61.52% to 89.33%\n",
    "\n",
    "#### Notice: unnecessary feature (e.g. 'Ticket') might be removed before building model to improve the result overall"
   ]
  }
 ],
 "metadata": {
  "kernelspec": {
   "display_name": "Python 3",
   "language": "python",
   "name": "python3"
  },
  "language_info": {
   "codemirror_mode": {
    "name": "ipython",
    "version": 3
   },
   "file_extension": ".py",
   "mimetype": "text/x-python",
   "name": "python",
   "nbconvert_exporter": "python",
   "pygments_lexer": "ipython3",
   "version": "3.6.5"
  }
 },
 "nbformat": 4,
 "nbformat_minor": 2
}
