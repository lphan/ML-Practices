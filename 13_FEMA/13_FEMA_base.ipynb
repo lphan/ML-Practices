{
 "cells": [
  {
   "cell_type": "markdown",
   "metadata": {},
   "source": [
    "### Analyse FEMA Federal Emergencies and Disasters from 1953 to present"
   ]
  },
  {
   "cell_type": "code",
   "execution_count": 1,
   "metadata": {},
   "outputs": [
    {
     "name": "stdout",
     "output_type": "stream",
     "text": [
      "local_kwargs {'data_path_1': './data/federal-emergencies-and-disasters-1953-present/database.csv', 'data_path_2': './data/firefighter-fatalities/database.csv', 'data_path_3': '', 'drop_obj_col': False, 'nan_drop_col': False, 'nan_drop_row': False, 'nan_zero': False, 'nan_mean': True, 'nan_mean_neighbors': False}\n"
     ]
    }
   ],
   "source": [
    "# setup absolute path to location of package Starts and config-file \n",
    "from inspect import getsourcefile\n",
    "import os.path as path, sys\n",
    "current_dir = path.dirname(path.abspath(getsourcefile(lambda:0)))\n",
    "sys.path.insert(0, current_dir[:current_dir.rfind(path.sep)])\n",
    "\n",
    "from Starts.startml import *\n",
    "from Starts.startvis import *\n",
    "from Starts.startspk import *\n",
    "import matplotlib as plt\n",
    "%matplotlib inline\n",
    "rcParams['figure.figsize'] = 20, 6"
   ]
  },
  {
   "cell_type": "code",
   "execution_count": 2,
   "metadata": {},
   "outputs": [],
   "source": [
    "disasters = train_data\n",
    "firefighters = test_data"
   ]
  },
  {
   "cell_type": "code",
   "execution_count": 3,
   "metadata": {},
   "outputs": [
    {
     "data": {
      "text/html": [
       "<div>\n",
       "<style>\n",
       "    .dataframe thead tr:only-child th {\n",
       "        text-align: right;\n",
       "    }\n",
       "\n",
       "    .dataframe thead th {\n",
       "        text-align: left;\n",
       "    }\n",
       "\n",
       "    .dataframe tbody tr th {\n",
       "        vertical-align: top;\n",
       "    }\n",
       "</style>\n",
       "<table border=\"1\" class=\"dataframe\">\n",
       "  <thead>\n",
       "    <tr style=\"text-align: right;\">\n",
       "      <th></th>\n",
       "      <th>Declaration Number</th>\n",
       "      <th>Declaration Type</th>\n",
       "      <th>Declaration Date</th>\n",
       "      <th>State</th>\n",
       "      <th>County</th>\n",
       "      <th>Disaster Type</th>\n",
       "      <th>Disaster Title</th>\n",
       "      <th>Start Date</th>\n",
       "      <th>End Date</th>\n",
       "      <th>Close Date</th>\n",
       "      <th>Individual Assistance Program</th>\n",
       "      <th>Individuals &amp; Households Program</th>\n",
       "      <th>Public Assistance Program</th>\n",
       "      <th>Hazard Mitigation Program</th>\n",
       "    </tr>\n",
       "  </thead>\n",
       "  <tbody>\n",
       "    <tr>\n",
       "      <th>0</th>\n",
       "      <td>DR-1</td>\n",
       "      <td>Disaster</td>\n",
       "      <td>05/02/1953</td>\n",
       "      <td>GA</td>\n",
       "      <td>NaN</td>\n",
       "      <td>Tornado</td>\n",
       "      <td>Tornado</td>\n",
       "      <td>05/02/1953</td>\n",
       "      <td>05/02/1953</td>\n",
       "      <td>06/01/1954</td>\n",
       "      <td>Yes</td>\n",
       "      <td>No</td>\n",
       "      <td>Yes</td>\n",
       "      <td>Yes</td>\n",
       "    </tr>\n",
       "    <tr>\n",
       "      <th>1</th>\n",
       "      <td>DR-2</td>\n",
       "      <td>Disaster</td>\n",
       "      <td>05/15/1953</td>\n",
       "      <td>TX</td>\n",
       "      <td>NaN</td>\n",
       "      <td>Tornado</td>\n",
       "      <td>Tornado and Heavy Rainfall</td>\n",
       "      <td>05/15/1953</td>\n",
       "      <td>05/15/1953</td>\n",
       "      <td>01/01/1958</td>\n",
       "      <td>Yes</td>\n",
       "      <td>No</td>\n",
       "      <td>Yes</td>\n",
       "      <td>Yes</td>\n",
       "    </tr>\n",
       "    <tr>\n",
       "      <th>2</th>\n",
       "      <td>DR-3</td>\n",
       "      <td>Disaster</td>\n",
       "      <td>05/29/1953</td>\n",
       "      <td>LA</td>\n",
       "      <td>NaN</td>\n",
       "      <td>Flood</td>\n",
       "      <td>Flood</td>\n",
       "      <td>05/29/1953</td>\n",
       "      <td>05/29/1953</td>\n",
       "      <td>02/01/1960</td>\n",
       "      <td>Yes</td>\n",
       "      <td>No</td>\n",
       "      <td>Yes</td>\n",
       "      <td>Yes</td>\n",
       "    </tr>\n",
       "    <tr>\n",
       "      <th>3</th>\n",
       "      <td>DR-4</td>\n",
       "      <td>Disaster</td>\n",
       "      <td>06/02/1953</td>\n",
       "      <td>MI</td>\n",
       "      <td>NaN</td>\n",
       "      <td>Tornado</td>\n",
       "      <td>Tornado</td>\n",
       "      <td>06/02/1953</td>\n",
       "      <td>06/02/1953</td>\n",
       "      <td>02/01/1956</td>\n",
       "      <td>Yes</td>\n",
       "      <td>No</td>\n",
       "      <td>Yes</td>\n",
       "      <td>Yes</td>\n",
       "    </tr>\n",
       "    <tr>\n",
       "      <th>4</th>\n",
       "      <td>DR-5</td>\n",
       "      <td>Disaster</td>\n",
       "      <td>06/06/1953</td>\n",
       "      <td>MT</td>\n",
       "      <td>NaN</td>\n",
       "      <td>Flood</td>\n",
       "      <td>Floods</td>\n",
       "      <td>06/06/1953</td>\n",
       "      <td>06/06/1953</td>\n",
       "      <td>12/01/1955</td>\n",
       "      <td>Yes</td>\n",
       "      <td>No</td>\n",
       "      <td>Yes</td>\n",
       "      <td>Yes</td>\n",
       "    </tr>\n",
       "  </tbody>\n",
       "</table>\n",
       "</div>"
      ],
      "text/plain": [
       "  Declaration Number Declaration Type Declaration Date State County  \\\n",
       "0               DR-1         Disaster       05/02/1953    GA    NaN   \n",
       "1               DR-2         Disaster       05/15/1953    TX    NaN   \n",
       "2               DR-3         Disaster       05/29/1953    LA    NaN   \n",
       "3               DR-4         Disaster       06/02/1953    MI    NaN   \n",
       "4               DR-5         Disaster       06/06/1953    MT    NaN   \n",
       "\n",
       "  Disaster Type              Disaster Title  Start Date    End Date  \\\n",
       "0       Tornado                     Tornado  05/02/1953  05/02/1953   \n",
       "1       Tornado  Tornado and Heavy Rainfall  05/15/1953  05/15/1953   \n",
       "2         Flood                       Flood  05/29/1953  05/29/1953   \n",
       "3       Tornado                     Tornado  06/02/1953  06/02/1953   \n",
       "4         Flood                      Floods  06/06/1953  06/06/1953   \n",
       "\n",
       "   Close Date Individual Assistance Program Individuals & Households Program  \\\n",
       "0  06/01/1954                           Yes                               No   \n",
       "1  01/01/1958                           Yes                               No   \n",
       "2  02/01/1960                           Yes                               No   \n",
       "3  02/01/1956                           Yes                               No   \n",
       "4  12/01/1955                           Yes                               No   \n",
       "\n",
       "  Public Assistance Program Hazard Mitigation Program  \n",
       "0                       Yes                       Yes  \n",
       "1                       Yes                       Yes  \n",
       "2                       Yes                       Yes  \n",
       "3                       Yes                       Yes  \n",
       "4                       Yes                       Yes  "
      ]
     },
     "execution_count": 3,
     "metadata": {},
     "output_type": "execute_result"
    }
   ],
   "source": [
    "disasters.head()"
   ]
  },
  {
   "cell_type": "code",
   "execution_count": 4,
   "metadata": {},
   "outputs": [
    {
     "data": {
      "text/plain": [
       "[('GA', 1406),\n",
       " ('TX', 3842),\n",
       " ('LA', 1393),\n",
       " ('MI', 589),\n",
       " ('MT', 393),\n",
       " ('MA', 347),\n",
       " ('IA', 1471),\n",
       " ('NH', 248),\n",
       " ('FL', 1512),\n",
       " ('AK', 155),\n",
       " ('MS', 1277),\n",
       " ('CA', 1017),\n",
       " ('NV', 138),\n",
       " ('SD', 960),\n",
       " ('WV', 1063),\n",
       " ('RI', 89),\n",
       " ('ME', 371),\n",
       " ('CT', 193),\n",
       " ('NY', 1223),\n",
       " ('NM', 336),\n",
       " ('NC', 1312),\n",
       " ('SC', 520),\n",
       " ('IN', 1235),\n",
       " ('HI', 64),\n",
       " ('CO', 480),\n",
       " ('KS', 1261),\n",
       " ('OK', 1882),\n",
       " ('PA', 1081),\n",
       " ('NJ', 517),\n",
       " ('OR', 358),\n",
       " ('WA', 656),\n",
       " ('ID', 210),\n",
       " ('OH', 1050),\n",
       " ('PR', 1121),\n",
       " ('KY', 2026),\n",
       " ('VA', 1982),\n",
       " ('MO', 2263),\n",
       " ('AR', 1282),\n",
       " ('IL', 1036),\n",
       " ('ND', 1112),\n",
       " ('MN', 1190),\n",
       " ('NE', 1053),\n",
       " ('AL', 1207),\n",
       " ('DE', 44),\n",
       " ('MD', 393),\n",
       " ('GU', 14),\n",
       " ('TN', 1208),\n",
       " ('FM', 31),\n",
       " ('WY', 67),\n",
       " ('VT', 250),\n",
       " ('VI', 55),\n",
       " ('WI', 670),\n",
       " ('AS', 55),\n",
       " ('AZ', 210),\n",
       " ('PW', 6),\n",
       " ('MP', 32),\n",
       " ('UT', 148),\n",
       " ('MH', 61),\n",
       " ('DC', 20)]"
      ]
     },
     "execution_count": 4,
     "metadata": {},
     "output_type": "execute_result"
    }
   ],
   "source": [
    "# Number of Disasters at every state\n",
    "disaster_states = disasters['State'].unique()\n",
    "sta_dis=[(st, len(disasters[disasters['State']==st])) for st in disaster_states]\n",
    "sta_dis"
   ]
  },
  {
   "cell_type": "code",
   "execution_count": 5,
   "metadata": {},
   "outputs": [
    {
     "data": {
      "text/plain": [
       "[('Tornado', 1412),\n",
       " ('Flood', 9317),\n",
       " ('Fire', 2647),\n",
       " ('Other', 297),\n",
       " ('Earthquake', 105),\n",
       " ('Hurricane', 8764),\n",
       " ('Volcano', 50),\n",
       " ('Storm', 16250),\n",
       " ('Chemical', 18),\n",
       " ('Typhoon', 119),\n",
       " ('Drought', 1292),\n",
       " ('Dam/Levee Break', 6),\n",
       " ('Snow', 3565),\n",
       " ('Ice', 1970),\n",
       " ('Winter', 301),\n",
       " ('Water', 42),\n",
       " ('Mud/Landslide', 10),\n",
       " ('Human Cause', 6),\n",
       " ('Terrorism', 5),\n",
       " ('Tsunami', 9)]"
      ]
     },
     "execution_count": 5,
     "metadata": {},
     "output_type": "execute_result"
    }
   ],
   "source": [
    "# Total number of disasters happened\n",
    "disaster_types = disasters['Disaster Type'].unique()\n",
    "plt_dis=[(dis, len(disasters[disasters['Disaster Type']==dis])) for dis in disaster_types]\n",
    "plt_dis"
   ]
  },
  {
   "cell_type": "code",
   "execution_count": 37,
   "metadata": {
    "scrolled": true
   },
   "outputs": [
    {
     "data": {
      "text/html": [
       "<div>\n",
       "<style>\n",
       "    .dataframe thead tr:only-child th {\n",
       "        text-align: right;\n",
       "    }\n",
       "\n",
       "    .dataframe thead th {\n",
       "        text-align: left;\n",
       "    }\n",
       "\n",
       "    .dataframe tbody tr th {\n",
       "        vertical-align: top;\n",
       "    }\n",
       "</style>\n",
       "<table border=\"1\" class=\"dataframe\">\n",
       "  <thead>\n",
       "    <tr style=\"text-align: right;\">\n",
       "      <th></th>\n",
       "      <th>Tornado</th>\n",
       "      <th>Flood</th>\n",
       "      <th>Fire</th>\n",
       "      <th>Other</th>\n",
       "      <th>Earthquake</th>\n",
       "      <th>Hurricane</th>\n",
       "      <th>Volcano</th>\n",
       "      <th>Storm</th>\n",
       "      <th>Chemical</th>\n",
       "      <th>Typhoon</th>\n",
       "      <th>Drought</th>\n",
       "      <th>Dam/Levee Break</th>\n",
       "      <th>Snow</th>\n",
       "      <th>Ice</th>\n",
       "      <th>Winter</th>\n",
       "      <th>Water</th>\n",
       "      <th>Mud/Landslide</th>\n",
       "      <th>Human Cause</th>\n",
       "      <th>Terrorism</th>\n",
       "      <th>Tsunami</th>\n",
       "    </tr>\n",
       "  </thead>\n",
       "  <tbody>\n",
       "    <tr>\n",
       "      <th>0</th>\n",
       "      <td>1412</td>\n",
       "      <td>9317</td>\n",
       "      <td>2647</td>\n",
       "      <td>297</td>\n",
       "      <td>105</td>\n",
       "      <td>8764</td>\n",
       "      <td>50</td>\n",
       "      <td>16250</td>\n",
       "      <td>18</td>\n",
       "      <td>119</td>\n",
       "      <td>1292</td>\n",
       "      <td>6</td>\n",
       "      <td>3565</td>\n",
       "      <td>1970</td>\n",
       "      <td>301</td>\n",
       "      <td>42</td>\n",
       "      <td>10</td>\n",
       "      <td>6</td>\n",
       "      <td>5</td>\n",
       "      <td>9</td>\n",
       "    </tr>\n",
       "  </tbody>\n",
       "</table>\n",
       "</div>"
      ],
      "text/plain": [
       "   Tornado  Flood  Fire  Other  Earthquake  Hurricane  Volcano  Storm  \\\n",
       "0     1412   9317  2647    297         105       8764       50  16250   \n",
       "\n",
       "   Chemical  Typhoon  Drought  Dam/Levee Break  Snow   Ice  Winter  Water  \\\n",
       "0        18      119     1292                6  3565  1970     301     42   \n",
       "\n",
       "   Mud/Landslide  Human Cause  Terrorism  Tsunami  \n",
       "0             10            6          5        9  "
      ]
     },
     "execution_count": 37,
     "metadata": {},
     "output_type": "execute_result"
    }
   ],
   "source": [
    "x = [d[0] for d in plt_dis]\n",
    "y = tuple([d[1] for d in plt_dis])\n",
    "df = pd.DataFrame.from_records([y], columns=x)\n",
    "df"
   ]
  },
  {
   "cell_type": "code",
   "execution_count": 38,
   "metadata": {},
   "outputs": [
    {
     "data": {
      "text/plain": [
       "(0    Storm\n",
       " dtype: object, array([16250]))"
      ]
     },
     "execution_count": 38,
     "metadata": {},
     "output_type": "execute_result"
    }
   ],
   "source": [
    "# The disaster with the most occurrences\n",
    "df.idxmax(axis=1), df['Storm'].values"
   ]
  },
  {
   "cell_type": "code",
   "execution_count": 39,
   "metadata": {},
   "outputs": [
    {
     "data": {
      "text/plain": [
       "(0    Terrorism\n",
       " dtype: object, array([5]))"
      ]
     },
     "execution_count": 39,
     "metadata": {},
     "output_type": "execute_result"
    }
   ],
   "source": [
    "# The disaster with the least occurrences\n",
    "df.idxmin(axis=1), df['Terrorism'].values"
   ]
  },
  {
   "cell_type": "code",
   "execution_count": 44,
   "metadata": {},
   "outputs": [
    {
     "data": {
      "text/plain": [
       "(array([ 0,  1,  2,  3,  4,  5,  6,  7,  8,  9, 10, 11, 12, 13, 14, 15, 16,\n",
       "        17, 18, 19]), <a list of 20 Text xticklabel objects>)"
      ]
     },
     "execution_count": 44,
     "metadata": {},
     "output_type": "execute_result"
    },
    {
     "data": {
      "image/png": "[encoded data removed]",
      "text/plain": [
       "<matplotlib.figure.Figure at 0x7fee77d9f0f0>"
      ]
     },
     "metadata": {},
     "output_type": "display_data"
    }
   ],
   "source": [
    "# Visual all disasters\n",
    "df2 = pd.DataFrame(data=plt_dis, columns=['Disaster Type', 'Occurrences'])\n",
    "df2.plot(x='Disaster Type', y='Occurrences', figsize=(15,5), kind='bar')\n",
    "plt.xticks(rotation=45)"
   ]
  },
  {
   "cell_type": "code",
   "execution_count": null,
   "metadata": {},
   "outputs": [],
   "source": []
  }
 ],
 "metadata": {
  "kernelspec": {
   "display_name": "Python 3",
   "language": "python",
   "name": "python3"
  },
  "language_info": {
   "codemirror_mode": {
    "name": "ipython",
    "version": 3
   },
   "file_extension": ".py",
   "mimetype": "text/x-python",
   "name": "python",
   "nbconvert_exporter": "python",
   "pygments_lexer": "ipython3",
   "version": "3.6.5"
  }
 },
 "nbformat": 4,
 "nbformat_minor": 2
}
