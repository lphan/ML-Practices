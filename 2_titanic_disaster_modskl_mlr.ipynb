{
 "cells": [
  {
   "cell_type": "markdown",
   "metadata": {},
   "source": [
    "### Try Model: Multiple Linear Regression"
   ]
  },
  {
   "cell_type": "code",
   "execution_count": 1,
   "metadata": {},
   "outputs": [
    {
     "name": "stdout",
     "output_type": "stream",
     "text": [
      "local_kwargs {'nan_mean_neighbors': False, 'data_path_2': '2_Titanic/data/titanic_no_nan.csv', 'nan_mean': True, 'data_path_1': '2_Titanic/data/train.csv', 'nan_drop_row': False, 'nan_zero': False, 'drop_obj_col': False, 'data_path_3': '2_Titanic/data/test.csv', 'nan_drop_col': False}\n"
     ]
    }
   ],
   "source": [
    "from Starts.startmodskl import *"
   ]
  },
  {
   "cell_type": "code",
   "execution_count": 2,
   "metadata": {},
   "outputs": [
    {
     "data": {
      "text/html": [
       "<div>\n",
       "<style scoped>\n",
       "    .dataframe tbody tr th:only-of-type {\n",
       "        vertical-align: middle;\n",
       "    }\n",
       "\n",
       "    .dataframe tbody tr th {\n",
       "        vertical-align: top;\n",
       "    }\n",
       "\n",
       "    .dataframe thead th {\n",
       "        text-align: right;\n",
       "    }\n",
       "</style>\n",
       "<table border=\"1\" class=\"dataframe\">\n",
       "  <thead>\n",
       "    <tr style=\"text-align: right;\">\n",
       "      <th></th>\n",
       "      <th>Survived</th>\n",
       "      <th>Pclass</th>\n",
       "      <th>Sex</th>\n",
       "      <th>Age</th>\n",
       "      <th>Ticket</th>\n",
       "      <th>Fare</th>\n",
       "      <th>Title</th>\n",
       "      <th>FamilySize</th>\n",
       "    </tr>\n",
       "  </thead>\n",
       "  <tbody>\n",
       "    <tr>\n",
       "      <th>0</th>\n",
       "      <td>0</td>\n",
       "      <td>3</td>\n",
       "      <td>1</td>\n",
       "      <td>49.0</td>\n",
       "      <td>574</td>\n",
       "      <td>0.0000</td>\n",
       "      <td>5</td>\n",
       "      <td>0</td>\n",
       "    </tr>\n",
       "    <tr>\n",
       "      <th>1</th>\n",
       "      <td>1</td>\n",
       "      <td>2</td>\n",
       "      <td>0</td>\n",
       "      <td>7.0</td>\n",
       "      <td>571</td>\n",
       "      <td>26.2500</td>\n",
       "      <td>4</td>\n",
       "      <td>2</td>\n",
       "    </tr>\n",
       "    <tr>\n",
       "      <th>2</th>\n",
       "      <td>0</td>\n",
       "      <td>3</td>\n",
       "      <td>1</td>\n",
       "      <td>33.0</td>\n",
       "      <td>378</td>\n",
       "      <td>8.6625</td>\n",
       "      <td>5</td>\n",
       "      <td>0</td>\n",
       "    </tr>\n",
       "    <tr>\n",
       "      <th>3</th>\n",
       "      <td>0</td>\n",
       "      <td>3</td>\n",
       "      <td>1</td>\n",
       "      <td>24.0</td>\n",
       "      <td>519</td>\n",
       "      <td>24.1500</td>\n",
       "      <td>5</td>\n",
       "      <td>2</td>\n",
       "    </tr>\n",
       "    <tr>\n",
       "      <th>4</th>\n",
       "      <td>1</td>\n",
       "      <td>1</td>\n",
       "      <td>0</td>\n",
       "      <td>30.0</td>\n",
       "      <td>0</td>\n",
       "      <td>86.5000</td>\n",
       "      <td>4</td>\n",
       "      <td>0</td>\n",
       "    </tr>\n",
       "  </tbody>\n",
       "</table>\n",
       "</div>"
      ],
      "text/plain": [
       "   Survived  Pclass  Sex   Age  Ticket     Fare  Title  FamilySize\n",
       "0         0       3    1  49.0     574   0.0000      5           0\n",
       "1         1       2    0   7.0     571  26.2500      4           2\n",
       "2         0       3    1  33.0     378   8.6625      5           0\n",
       "3         0       3    1  24.0     519  24.1500      5           2\n",
       "4         1       1    0  30.0       0  86.5000      4           0"
      ]
     },
     "execution_count": 2,
     "metadata": {},
     "output_type": "execute_result"
    }
   ],
   "source": [
    "nonan_data.head()"
   ]
  },
  {
   "cell_type": "code",
   "execution_count": 3,
   "metadata": {
    "scrolled": false
   },
   "outputs": [
    {
     "name": "stdout",
     "output_type": "stream",
     "text": [
      "Index(['Survived', 'Pclass', 'Sex', 'Age', 'Ticket', 'Fare', 'Title',\n",
      "       'FamilySize'],\n",
      "      dtype='object')\n",
      "\n",
      "RSquared:  0.5352544351130721\n",
      "\n",
      "Adj_RSquared:  0.5315743231739223\n",
      "\n",
      "                             OLS Regression Results                            \n",
      "==============================================================================\n",
      "Dep. Variable:                      y   R-squared:                       0.535\n",
      "Model:                            OLS   Adj. R-squared:                  0.532\n",
      "Method:                 Least Squares   F-statistic:                     145.4\n",
      "Date:                Fri, 02 Mar 2018   Prob (F-statistic):          2.13e-142\n",
      "Time:                        16:50:39   Log-Likelihood:                -496.32\n",
      "No. Observations:                 891   AIC:                             1007.\n",
      "Df Residuals:                     884   BIC:                             1040.\n",
      "Df Model:                           7                                         \n",
      "Covariance Type:            nonrobust                                         \n",
      "==============================================================================\n",
      "                 coef    std err          t      P>|t|      [0.025      0.975]\n",
      "------------------------------------------------------------------------------\n",
      "x1             0.0197      0.020      1.003      0.316      -0.019       0.058\n",
      "x2            -0.4459      0.031    -14.610      0.000      -0.506      -0.386\n",
      "x3            -0.0007      0.001     -0.592      0.554      -0.003       0.002\n",
      "x4            -0.0001   7.65e-05     -1.493      0.136      -0.000     3.6e-05\n",
      "x5             0.0025      0.000      7.268      0.000       0.002       0.003\n",
      "x6             0.1233      0.012     10.037      0.000       0.099       0.147\n",
      "x7            -0.0179      0.010     -1.869      0.062      -0.037       0.001\n",
      "==============================================================================\n",
      "Omnibus:                       54.027   Durbin-Watson:                   1.966\n",
      "Prob(Omnibus):                  0.000   Jarque-Bera (JB):               62.725\n",
      "Skew:                           0.644   Prob(JB):                     2.40e-14\n",
      "Kurtosis:                       2.828   Cond. No.                         864.\n",
      "==============================================================================\n",
      "\n",
      "Warnings:\n",
      "[1] Standard Errors assume that the covariance matrix of the errors is correctly specified.\n",
      "\n",
      "Remove column:  Pclass\n",
      "Index(['Survived', 'Sex', 'Age', 'Ticket', 'Fare', 'Title', 'FamilySize'], dtype='object')\n",
      "RSquared:  0.5347257300517935\n",
      "Adj_RSquared:  0.5315713282216361\n",
      "\n",
      "                             OLS Regression Results                            \n",
      "==============================================================================\n",
      "Dep. Variable:                      y   R-squared:                       0.535\n",
      "Model:                            OLS   Adj. R-squared:                  0.532\n",
      "Method:                 Least Squares   F-statistic:                     169.5\n",
      "Date:                Fri, 02 Mar 2018   Prob (F-statistic):          2.59e-143\n",
      "Time:                        16:50:39   Log-Likelihood:                -496.83\n",
      "No. Observations:                 891   AIC:                             1006.\n",
      "Df Residuals:                     885   BIC:                             1034.\n",
      "Df Model:                           6                                         \n",
      "Covariance Type:            nonrobust                                         \n",
      "==============================================================================\n",
      "                 coef    std err          t      P>|t|      [0.025      0.975]\n",
      "------------------------------------------------------------------------------\n",
      "x1            -0.4393      0.030    -14.738      0.000      -0.498      -0.381\n",
      "x2            -0.0009      0.001     -0.790      0.429      -0.003       0.001\n",
      "x3         -7.998e-05   6.85e-05     -1.168      0.243      -0.000    5.44e-05\n",
      "x4             0.0023      0.000      7.712      0.000       0.002       0.003\n",
      "x5             0.1311      0.010     13.795      0.000       0.112       0.150\n",
      "x6            -0.0152      0.009     -1.657      0.098      -0.033       0.003\n",
      "==============================================================================\n",
      "Omnibus:                       55.155   Durbin-Watson:                   1.962\n",
      "Prob(Omnibus):                  0.000   Jarque-Bera (JB):               64.310\n",
      "Skew:                           0.653   Prob(JB):                     1.08e-14\n",
      "Kurtosis:                       2.834   Cond. No.                         834.\n",
      "==============================================================================\n",
      "\n",
      "Warnings:\n",
      "[1] Standard Errors assume that the covariance matrix of the errors is correctly specified.\n",
      "\n",
      "Remove column:  Ticket\n",
      "Index(['Survived', 'Sex', 'Age', 'Fare', 'Title', 'FamilySize'], dtype='object')\n",
      "RSquared:  0.5340087048223664\n",
      "Adj_RSquared:  0.531378957106917\n",
      "\n",
      "                             OLS Regression Results                            \n",
      "==============================================================================\n",
      "Dep. Variable:                      y   R-squared:                       0.534\n",
      "Model:                            OLS   Adj. R-squared:                  0.531\n",
      "Method:                 Least Squares   F-statistic:                     203.1\n",
      "Date:                Fri, 02 Mar 2018   Prob (F-statistic):          3.40e-144\n",
      "Time:                        16:50:39   Log-Likelihood:                -497.51\n",
      "No. Observations:                 891   AIC:                             1005.\n",
      "Df Residuals:                     886   BIC:                             1029.\n",
      "Df Model:                           5                                         \n",
      "Covariance Type:            nonrobust                                         \n",
      "==============================================================================\n",
      "                 coef    std err          t      P>|t|      [0.025      0.975]\n",
      "------------------------------------------------------------------------------\n",
      "x1            -0.4447      0.029    -15.104      0.000      -0.503      -0.387\n",
      "x2            -0.0009      0.001     -0.769      0.442      -0.003       0.001\n",
      "x3             0.0023      0.000      7.687      0.000       0.002       0.003\n",
      "x4             0.1266      0.009     14.575      0.000       0.110       0.144\n",
      "x5            -0.0168      0.009     -1.849      0.065      -0.035       0.001\n",
      "==============================================================================\n",
      "Omnibus:                       55.453   Durbin-Watson:                   1.967\n",
      "Prob(Omnibus):                  0.000   Jarque-Bera (JB):               64.558\n",
      "Skew:                           0.653   Prob(JB):                     9.58e-15\n",
      "Kurtosis:                       2.815   Cond. No.                         130.\n",
      "==============================================================================\n",
      "\n",
      "Warnings:\n",
      "[1] Standard Errors assume that the covariance matrix of the errors is correctly specified.\n",
      "\n",
      "Remove column:  Fare\n",
      "Index(['Survived', 'Sex', 'Age', 'Title', 'FamilySize'], dtype='object')\n",
      "RSquared:  0.5029264068944801\n",
      "Adj_RSquared:  0.5006848123370709\n",
      "\n",
      "                             OLS Regression Results                            \n",
      "==============================================================================\n",
      "Dep. Variable:                      y   R-squared:                       0.503\n",
      "Model:                            OLS   Adj. R-squared:                  0.501\n",
      "Method:                 Least Squares   F-statistic:                     224.4\n",
      "Date:                Fri, 02 Mar 2018   Prob (F-statistic):          5.16e-133\n",
      "Time:                        16:50:39   Log-Likelihood:                -526.28\n",
      "No. Observations:                 891   AIC:                             1061.\n",
      "Df Residuals:                     887   BIC:                             1080.\n",
      "Df Model:                           4                                         \n",
      "Covariance Type:            nonrobust                                         \n",
      "==============================================================================\n",
      "                 coef    std err          t      P>|t|      [0.025      0.975]\n",
      "------------------------------------------------------------------------------\n",
      "x1            -0.4742      0.030    -15.737      0.000      -0.533      -0.415\n",
      "x2             0.0008      0.001      0.631      0.529      -0.002       0.003\n",
      "x3             0.1317      0.009     14.730      0.000       0.114       0.149\n",
      "x4             0.0013      0.009      0.148      0.882      -0.016       0.019\n",
      "==============================================================================\n",
      "Omnibus:                       48.669   Durbin-Watson:                   2.009\n",
      "Prob(Omnibus):                  0.000   Jarque-Bera (JB):               55.158\n",
      "Skew:                           0.600   Prob(JB):                     1.05e-12\n",
      "Kurtosis:                       2.784   Cond. No.                         67.8\n",
      "==============================================================================\n",
      "\n",
      "Warnings:\n",
      "[1] Standard Errors assume that the covariance matrix of the errors is correctly specified.\n",
      "\n",
      "Remove column:  Sex\n",
      "Index(['Survived', 'Age', 'Title', 'FamilySize'], dtype='object')\n",
      "RSquared:  0.36414850408952437\n",
      "Adj_RSquared:  0.3620003571438809\n",
      "\n",
      "                             OLS Regression Results                            \n",
      "==============================================================================\n",
      "Dep. Variable:                      y   R-squared:                       0.364\n",
      "Model:                            OLS   Adj. R-squared:                  0.362\n",
      "Method:                 Least Squares   F-statistic:                     169.5\n",
      "Date:                Fri, 02 Mar 2018   Prob (F-statistic):           7.05e-87\n",
      "Time:                        16:50:39   Log-Likelihood:                -635.97\n",
      "No. Observations:                 891   AIC:                             1278.\n",
      "Df Residuals:                     888   BIC:                             1292.\n",
      "Df Model:                           3                                         \n",
      "Covariance Type:            nonrobust                                         \n",
      "==============================================================================\n",
      "                 coef    std err          t      P>|t|      [0.025      0.975]\n",
      "------------------------------------------------------------------------------\n",
      "x1            -0.0010      0.001     -0.735      0.463      -0.004       0.002\n",
      "x2             0.0787      0.009      8.406      0.000       0.060       0.097\n",
      "x3             0.0167      0.010      1.641      0.101      -0.003       0.037\n",
      "==============================================================================\n",
      "Omnibus:                       32.019   Durbin-Watson:                   2.018\n",
      "Prob(Omnibus):                  0.000   Jarque-Bera (JB):              139.995\n",
      "Skew:                           0.485   Prob(JB):                     3.99e-31\n",
      "Kurtosis:                       1.317   Cond. No.                         22.4\n",
      "==============================================================================\n",
      "\n",
      "Warnings:\n",
      "[1] Standard Errors assume that the covariance matrix of the errors is correctly specified.\n"
     ]
    }
   ],
   "source": [
    "# proceed feature_selection to choose and keep the features which have the most impact and remove the unnecessary data\n",
    "nonan_data = StartMod.feature_selection(nonan_data, ['Pclass', 'Ticket', 'Fare', 'Sex'], dependent_label='Survived', rm=False)"
   ]
  },
  {
   "cell_type": "markdown",
   "metadata": {},
   "source": [
    "#### Since we attempt to keep R_Squared close as 1 as possible. By removing features 'Ticket', 'Pclass', R_Squared are not nearly changed but removing the features 'Fare' and 'Sex', R_Squared decreased strongly. So we decide to remove the features 'Ticket' and 'Pclass' because these features have very small impact on dataset and also reduce the unnecessary data processing"
   ]
  },
  {
   "cell_type": "code",
   "execution_count": 4,
   "metadata": {},
   "outputs": [
    {
     "data": {
      "text/html": [
       "<div>\n",
       "<style scoped>\n",
       "    .dataframe tbody tr th:only-of-type {\n",
       "        vertical-align: middle;\n",
       "    }\n",
       "\n",
       "    .dataframe tbody tr th {\n",
       "        vertical-align: top;\n",
       "    }\n",
       "\n",
       "    .dataframe thead th {\n",
       "        text-align: right;\n",
       "    }\n",
       "</style>\n",
       "<table border=\"1\" class=\"dataframe\">\n",
       "  <thead>\n",
       "    <tr style=\"text-align: right;\">\n",
       "      <th></th>\n",
       "      <th>Survived</th>\n",
       "      <th>Sex</th>\n",
       "      <th>Age</th>\n",
       "      <th>Fare</th>\n",
       "      <th>Title</th>\n",
       "      <th>FamilySize</th>\n",
       "    </tr>\n",
       "  </thead>\n",
       "  <tbody>\n",
       "    <tr>\n",
       "      <th>0</th>\n",
       "      <td>0</td>\n",
       "      <td>1</td>\n",
       "      <td>49.0</td>\n",
       "      <td>0.0000</td>\n",
       "      <td>5</td>\n",
       "      <td>0</td>\n",
       "    </tr>\n",
       "    <tr>\n",
       "      <th>1</th>\n",
       "      <td>1</td>\n",
       "      <td>0</td>\n",
       "      <td>7.0</td>\n",
       "      <td>26.2500</td>\n",
       "      <td>4</td>\n",
       "      <td>2</td>\n",
       "    </tr>\n",
       "    <tr>\n",
       "      <th>2</th>\n",
       "      <td>0</td>\n",
       "      <td>1</td>\n",
       "      <td>33.0</td>\n",
       "      <td>8.6625</td>\n",
       "      <td>5</td>\n",
       "      <td>0</td>\n",
       "    </tr>\n",
       "    <tr>\n",
       "      <th>3</th>\n",
       "      <td>0</td>\n",
       "      <td>1</td>\n",
       "      <td>24.0</td>\n",
       "      <td>24.1500</td>\n",
       "      <td>5</td>\n",
       "      <td>2</td>\n",
       "    </tr>\n",
       "    <tr>\n",
       "      <th>4</th>\n",
       "      <td>1</td>\n",
       "      <td>0</td>\n",
       "      <td>30.0</td>\n",
       "      <td>86.5000</td>\n",
       "      <td>4</td>\n",
       "      <td>0</td>\n",
       "    </tr>\n",
       "  </tbody>\n",
       "</table>\n",
       "</div>"
      ],
      "text/plain": [
       "   Survived  Sex   Age     Fare  Title  FamilySize\n",
       "0         0    1  49.0   0.0000      5           0\n",
       "1         1    0   7.0  26.2500      4           2\n",
       "2         0    1  33.0   8.6625      5           0\n",
       "3         0    1  24.0  24.1500      5           2\n",
       "4         1    0  30.0  86.5000      4           0"
      ]
     },
     "execution_count": 4,
     "metadata": {},
     "output_type": "execute_result"
    }
   ],
   "source": [
    "func = lambda col: nonan_data.drop(col, axis=1)\n",
    "nonan_data = func(['Pclass', 'Ticket'])\n",
    "nonan_data.head()"
   ]
  },
  {
   "cell_type": "code",
   "execution_count": 5,
   "metadata": {},
   "outputs": [
    {
     "name": "stdout",
     "output_type": "stream",
     "text": [
      "x_value is optimal with p_value:  0.0456494393379287\n",
      "\n",
      "R_Squared:  0.346316387836776\n",
      "\n",
      "Adjusted_R_Squared:  0.34262326008444133\n",
      "\n",
      "Summary:                              OLS Regression Results                            \n",
      "==============================================================================\n",
      "Dep. Variable:                      y   R-squared:                       0.346\n",
      "Model:                            OLS   Adj. R-squared:                  0.343\n",
      "Method:                 Least Squares   F-statistic:                     93.77\n",
      "Date:                Fri, 02 Mar 2018   Prob (F-statistic):           2.88e-79\n",
      "Time:                        16:50:39   Log-Likelihood:                -432.57\n",
      "No. Observations:                 891   AIC:                             877.1\n",
      "Df Residuals:                     885   BIC:                             905.9\n",
      "Df Model:                           5                                         \n",
      "Covariance Type:            nonrobust                                         \n",
      "==============================================================================\n",
      "                 coef    std err          t      P>|t|      [0.025      0.975]\n",
      "------------------------------------------------------------------------------\n",
      "const          0.9399      0.080     11.786      0.000       0.783       1.096\n",
      "x1            -0.5438      0.029    -18.981      0.000      -0.600      -0.488\n",
      "x2            -0.0024      0.001     -2.132      0.033      -0.005      -0.000\n",
      "x3             0.0019      0.000      6.953      0.000       0.001       0.002\n",
      "x4            -0.0313      0.016     -2.001      0.046      -0.062      -0.001\n",
      "x5            -0.0483      0.009     -5.442      0.000      -0.066      -0.031\n",
      "==============================================================================\n",
      "Omnibus:                       33.133   Durbin-Watson:                   1.982\n",
      "Prob(Omnibus):                  0.000   Jarque-Bera (JB):               36.224\n",
      "Skew:                           0.494   Prob(JB):                     1.36e-08\n",
      "Kurtosis:                       2.995   Cond. No.                         384.\n",
      "==============================================================================\n",
      "\n",
      "Warnings:\n",
      "[1] Standard Errors assume that the covariance matrix of the errors is correctly specified.\n"
     ]
    },
    {
     "data": {
      "image/png": "[encoded data removed]",
      "text/plain": [
       "<matplotlib.figure.Figure at 0x7fd2d34997b8>"
      ]
     },
     "metadata": {},
     "output_type": "display_data"
    },
    {
     "data": {
      "image/png": "[encoded data removed]",
      "text/plain": [
       "<matplotlib.figure.Figure at 0x7fd2d084cf28>"
      ]
     },
     "metadata": {},
     "output_type": "display_data"
    }
   ],
   "source": [
    "regressor, y_true, y_pred = StartModSKL.regression_multi_linear(nonan_data, 'Survived')"
   ]
  },
  {
   "cell_type": "code",
   "execution_count": 6,
   "metadata": {},
   "outputs": [
    {
     "data": {
      "text/plain": [
       "(True, True)"
      ]
     },
     "execution_count": 6,
     "metadata": {},
     "output_type": "execute_result"
    }
   ],
   "source": [
    "(y_pred > 1).any(), (y_pred < 0).any()"
   ]
  },
  {
   "cell_type": "code",
   "execution_count": 7,
   "metadata": {},
   "outputs": [
    {
     "data": {
      "text/plain": [
       "(179, 179)"
      ]
     },
     "execution_count": 7,
     "metadata": {},
     "output_type": "execute_result"
    }
   ],
   "source": [
    "# Since this is regression model, we expect to have many numeric values.\n",
    "# Convert the predicted value by rounding it (>0.5 will be considered as 1 else 0)\n",
    "y_pred = np.array([1 if item > 0.5 else 0 for item in y_pred ])\n",
    "len(y_true), len(y_pred)"
   ]
  },
  {
   "cell_type": "code",
   "execution_count": 8,
   "metadata": {},
   "outputs": [
    {
     "name": "stdout",
     "output_type": "stream",
     "text": [
      "Classification Report: \n",
      "              precision    recall  f1-score   support\n",
      "\n",
      "          0       0.82      0.88      0.85       115\n",
      "          1       0.75      0.66      0.70        64\n",
      "\n",
      "avg / total       0.80      0.80      0.80       179\n",
      "\n",
      "Confusion Matrix: \n",
      " [[101  14]\n",
      " [ 22  42]]\n",
      "\n",
      "Accuracy: \n",
      " 0.7988826815642458\n"
     ]
    }
   ],
   "source": [
    "StartMod.metrics_report(y_true, y_pred)"
   ]
  },
  {
   "cell_type": "markdown",
   "metadata": {},
   "source": [
    "### Result: \n",
    "#### the correct predicted result 143, \n",
    "#### the wrong predicted result 36"
   ]
  }
 ],
 "metadata": {
  "kernelspec": {
   "display_name": "Python 3",
   "language": "python",
   "name": "python3"
  },
  "language_info": {
   "codemirror_mode": {
    "name": "ipython",
    "version": 3
   },
   "file_extension": ".py",
   "mimetype": "text/x-python",
   "name": "python",
   "nbconvert_exporter": "python",
   "pygments_lexer": "ipython3",
   "version": "3.5.4"
  }
 },
 "nbformat": 4,
 "nbformat_minor": 2
}
