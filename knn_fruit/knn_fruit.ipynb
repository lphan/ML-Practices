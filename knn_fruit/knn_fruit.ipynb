{
 "cells": [
  {
   "cell_type": "code",
   "execution_count": 1,
   "metadata": {},
   "outputs": [
    {
     "name": "stdout",
     "output_type": "stream",
     "text": [
      "Index(['Color', 'Radius (cm)', 'Weight (grams)', 'Fruit (class)'], dtype='object')\n",
      "<class 'numpy.ndarray'>\n",
      "Confusion matrix\n",
      " [[0 1 0]\n",
      " [0 3 0]\n",
      " [0 0 3]]\n",
      "Predicted value y_pred [1 1 1 2 2 2 1]\n",
      "Actual value y_test [1 1 0 2 2 2 1]\n"
     ]
    }
   ],
   "source": [
    "# -*- coding: utf-8 -*-\n",
    "\"\"\"\n",
    "Created on Mon Dec 11 18:30:49 2017\n",
    "\n",
    "@author: lphan\n",
    "\"\"\"\n",
    "import pandas as pd\n",
    "import numpy as np\n",
    "import matplotlib.pyplot as plt\n",
    "\n",
    "dataset = pd.read_csv('dataset.csv')\n",
    "print (dataset.columns)\n",
    "# replace 0-value by numpy NaN\n",
    "dataset = dataset.replace(0, np.NaN)\n",
    "\n",
    "# importing the dataset\n",
    "X = dataset.iloc[:, :-1].values\n",
    "y = dataset.iloc[:, 3].values\n",
    "\n",
    "# Data preprocessing:\n",
    "# replace the missing data (value 0.0) with mean value of all other existing data\n",
    "from sklearn.preprocessing import Imputer\n",
    "\n",
    "imputer = Imputer(missing_values = 'NaN', strategy = 'mean', axis = 0)\n",
    "imputer = imputer.fit(X[:, 1:3])\n",
    "\n",
    "X[:, 1:3] = imputer.transform(X[:, 1:3])\n",
    "\n",
    "# encoding categorical data (this case: color in column 0)\n",
    "# encoding the independent variable \n",
    "from sklearn.preprocessing import LabelEncoder, OneHotEncoder\n",
    "labelencoder_X = LabelEncoder()\n",
    "X[:, 0] = labelencoder_X.fit_transform(X[:, 0])\n",
    "\n",
    "onehotencoder = OneHotEncoder(categorical_features= [0])\n",
    "X = onehotencoder.fit_transform(X).toarray()\n",
    "\n",
    "# encoding the dependent variable\n",
    "labelencoder_y = LabelEncoder()\n",
    "y = labelencoder_y.fit_transform(y)\n",
    "\n",
    "# splitting the dataset into the training set and test set\n",
    "# from sklearn.cross_validation import train_test_split (deprecated)\n",
    "from sklearn.model_selection import train_test_split\n",
    "X_train, X_test, y_train, y_test = train_test_split(X, y, test_size=0.2, random_state = 0)\n",
    "\n",
    "# Feature scaling - Normalization\n",
    "from sklearn.preprocessing import StandardScaler\n",
    "sc_X = StandardScaler()\n",
    "X_train = sc_X.fit_transform(X_train)\n",
    "X_test = sc_X.transform(X_test)\n",
    "\n",
    "X_vis = X_train[:, 3:5]\n",
    "print (type(X_vis))\n",
    "\n",
    "# Fitting to the training set using k-NN with k=3\n",
    "from sklearn.neighbors import KNeighborsClassifier\n",
    "classifier = KNeighborsClassifier(n_neighbors=3, metric='euclidean', p=2)\n",
    "classifier.fit(X_train, y_train)\n",
    "\n",
    "# Predicting the test set results\n",
    "y_pred = classifier.predict(X_test)\n",
    "\n",
    "# Find total errors/ correct by using confusion matrix\n",
    "from sklearn.metrics import confusion_matrix\n",
    "cm = confusion_matrix(y_test, y_pred)\n",
    "\n",
    "print (\"Confusion matrix\\n\", cm)\n",
    "print (\"Predicted value y_pred\", y_pred)\n",
    "print (\"Actual value y_test\", y_test)\n"
   ]
  },
  {
   "cell_type": "code",
   "execution_count": 2,
   "metadata": {},
   "outputs": [
    {
     "name": "stdout",
     "output_type": "stream",
     "text": [
      "[[ 1.64750894 -0.36115756 -1.26491106 -0.17956959  0.15577048]\n",
      " [-0.60697698 -0.36115756  0.79056942 -0.52041043 -0.97767191]\n",
      " [ 1.64750894 -0.36115756 -1.26491106  0.95656654 -0.00614986]\n",
      " [-0.60697698  2.76887462 -1.26491106 -0.52041043 -0.81575157]\n",
      " [-0.60697698 -0.36115756  0.79056942 -0.97486489 -0.84813564]]\n",
      "Predicted value for input set k=3 [0 1 0 0 1]\n",
      "Predicted value for input set k=1 [0 1 2 0 1]\n"
     ]
    }
   ],
   "source": [
    "# ------------- Predicting the input set with k=1 -------------------------\n",
    "classifier_k1 = KNeighborsClassifier(n_neighbors=1, metric='euclidean', p=2)\n",
    "classifier_k1.fit(X_train, y_train)\n",
    "\n",
    "# Mission: classify the inputdata into the right labels using above classifier k=1 & k=3 & visualize them \n",
    "inputdata = pd.read_csv('classify_data.txt', sep='\\s+', \n",
    "                        names=['Color', 'Radius (cm)', 'Weight (grams)'])\n",
    "\n",
    "# importing data into object\n",
    "X_input = inputdata.iloc[:, [0,1,2]].values\n",
    "\n",
    "# preprocessing data\n",
    "labelencoder_X_input = LabelEncoder()\n",
    "X_input[:, 0] = labelencoder_X_input.fit_transform(X_input[:, 0])\n",
    "\n",
    "# onehotencoder = OneHotEncoder(categorical_features= [0])\n",
    "X_input = onehotencoder.fit_transform(X_input).toarray()\n",
    "\n",
    "# feature scaling \n",
    "X_input = sc_X.transform(X_input)\n",
    "\n",
    "print (X_input)\n",
    "\n",
    "# Predicting the input set results\n",
    "y_pred_input_k3 = classifier.predict(X_input)\n",
    "print (\"Predicted value for input set k=3\", y_pred_input_k3)\n",
    "\n",
    "y_pred_input_k1 = classifier_k1.predict(X_input)\n",
    "print (\"Predicted value for input set k=1\", y_pred_input_k1)"
   ]
  },
  {
   "cell_type": "code",
   "execution_count": 1,
   "metadata": {},
   "outputs": [],
   "source": [
    "# Code part from Udemy course \n",
    "# Visualising the Test set results\n",
    "# from matplotlib.colors import ListedColormap\n",
    "# X_set, y_set = X_test, y_test\n",
    "# X1, X2 = np.meshgrid(np.arange(start = X_set[:, 0].min() - 1, stop = X_set[:, 0].max() + 1, step = 0.01),\n",
    "#                      np.arange(start = X_set[:, 1].min() - 1, stop = X_set[:, 1].max() + 1, step = 0.01))\n",
    "# plt.contourf(X1, X2, classifier.predict(np.array([X1.ravel(), X2.ravel()]).T).reshape(X1.shape),\n",
    "#              alpha = 0.75, cmap = ListedColormap(('red', 'green', 'blue')))\n",
    "# plt.xlim(X1.min(), X1.max())\n",
    "# plt.ylim(X2.min(), X2.max())\n",
    "# for i, j in enumerate(np.unique(y_set)):\n",
    "#     plt.scatter(X_set[y_set == j, 0], X_set[y_set == j, 1],\n",
    "#                 c = ListedColormap(('red', 'green', 'blue'))(i), label = j)\n",
    "# plt.title('KNN (Fruit Classification) ')\n",
    "# plt.xlabel('Radius')\n",
    "# plt.ylabel('Weight')\n",
    "# plt.legend()\n",
    "# plt.show()\n"
   ]
  },
  {
   "cell_type": "code",
   "execution_count": null,
   "metadata": {
    "collapsed": true
   },
   "outputs": [],
   "source": []
  }
 ],
 "metadata": {
  "kernelspec": {
   "display_name": "Python 3",
   "language": "python",
   "name": "python3"
  },
  "language_info": {
   "codemirror_mode": {
    "name": "ipython",
    "version": 3
   },
   "file_extension": ".py",
   "mimetype": "text/x-python",
   "name": "python",
   "nbconvert_exporter": "python",
   "pygments_lexer": "ipython3",
   "version": "3.5.4"
  }
 },
 "nbformat": 4,
 "nbformat_minor": 2
}
