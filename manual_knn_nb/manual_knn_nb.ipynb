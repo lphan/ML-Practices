{
 "cells": [
  {
   "cell_type": "code",
   "execution_count": 1,
   "metadata": {
    "collapsed": true
   },
   "outputs": [],
   "source": [
    "import pandas as pd\n",
    "import numpy as np\n",
    "import math"
   ]
  },
  {
   "cell_type": "code",
   "execution_count": 2,
   "metadata": {},
   "outputs": [
    {
     "name": "stdout",
     "output_type": "stream",
     "text": [
      "x[1] = (9, 6)\n",
      "x[2] = (6, 3)\n",
      "x[3] = (4, 7)\n",
      "x[4] = (4, 3)\n",
      "x[5] = (5, 4)\n",
      "x[6] = (9, 7)\n",
      "x[7] = (5, 7)\n",
      "x[8] = (8, 4)\n",
      "x[9] = (6, 6)\n",
      "x[10] = (4, 8)\n",
      "(4, 8)\n"
     ]
    }
   ],
   "source": [
    "# Input data points from 1 to 10\n",
    "points = [(9,6), (6,3), (4,7), (4,3), (5,4), (9,7), (5,7), (8,4), (6,6), (4,8)]\n",
    "\n",
    "# calculate distance between all points x1,..........,x10 to x11\n",
    "for i in range(len(points)):\n",
    "    print ('x[{}] = {}'.format(i+1, points[i]))\n",
    "print (points[len(points)-1])\n",
    "\n",
    "x11 = (7,4)"
   ]
  },
  {
   "cell_type": "code",
   "execution_count": 3,
   "metadata": {},
   "outputs": [
    {
     "name": "stdout",
     "output_type": "stream",
     "text": [
      "(1, 2.8284271247461903)\n",
      "(2, 1.4142135623730951)\n",
      "(3, 4.242640687119285)\n",
      "(4, 3.1622776601683795)\n",
      "(5, 2.0)\n",
      "(6, 3.605551275463989)\n",
      "(7, 3.605551275463989)\n",
      "(8, 1.0)\n",
      "(9, 2.23606797749979)\n",
      "(10, 5.0)\n",
      "-------\n",
      "--- (2, 1.4142135623730951)\n",
      "(2, 1.4142135623730951)\n",
      "--- (8, 1.0)\n",
      "(8, 1.0)\n"
     ]
    },
    {
     "data": {
      "text/plain": [
       "(8, 1.0)"
      ]
     },
     "execution_count": 3,
     "metadata": {},
     "output_type": "execute_result"
    }
   ],
   "source": [
    "e_dist = []\n",
    "for i in range(len(points)):\n",
    "    tmp = (x11[0]-points[i][0])**2 + (x11[1]-points[i][1])**2\n",
    "    e_dist.append((i+1,math.sqrt(tmp)))\n",
    "\n",
    "\n",
    "for item in e_dist:\n",
    "    print (item)\n",
    "print (\"-------\")\n",
    "\n",
    "# with k1, find the closest (nearest) neighbor\n",
    "min_k1 = e_dist[0]\n",
    "for i in range(len(e_dist)-1):\n",
    "     if min_k1[1] > e_dist[i][1]:\n",
    "        print (\"---\", e_dist[i])        \n",
    "        min_k1 = e_dist[i]        \n",
    "        print (min_k1)\n",
    "\n",
    "min_k1  "
   ]
  },
  {
   "cell_type": "markdown",
   "metadata": {},
   "source": [
    "Conclusion: with k=1, node 8 is nearest neighbor of node 11 and since node 8 was classified to class c2, so node 11 will be classified to class c2."
   ]
  },
  {
   "cell_type": "code",
   "execution_count": 4,
   "metadata": {},
   "outputs": [
    {
     "data": {
      "text/plain": [
       "[(8, 1.0),\n",
       " (2, 1.4142135623730951),\n",
       " (5, 2.0),\n",
       " (9, 2.23606797749979),\n",
       " (1, 2.8284271247461903)]"
      ]
     },
     "execution_count": 4,
     "metadata": {},
     "output_type": "execute_result"
    }
   ],
   "source": [
    "# with k=5, find the 5 nearest neighbors\n",
    "min_k5 = e_dist[0]\n",
    "k5 = []\n",
    "for i in range(5):\n",
    "    for j in range(len(e_dist)):\n",
    "        if (min_k5[1] > e_dist[j][1] and e_dist[j] not in k5):\n",
    "            min_k5 = e_dist[j]        \n",
    "            #print (min_k5)    \n",
    "    k5.append(min_k5)\n",
    "    min_k5 = e_dist[0]\n",
    "\n",
    "k5"
   ]
  },
  {
   "cell_type": "markdown",
   "metadata": {
    "collapsed": true
   },
   "source": [
    "Conclusion: with k=5, there are 3 nodes 1, 2, 5 belong to class c1 and 2 nodes 8, 9 belong to class c2.\n",
    "therefore, node 11 belongs to class c1"
   ]
  },
  {
   "cell_type": "code",
   "execution_count": 5,
   "metadata": {},
   "outputs": [
    {
     "name": "stdout",
     "output_type": "stream",
     "text": [
      "x11 is classified to c1\n",
      "6.242640687119286\n",
      "3.23606797749979\n"
     ]
    }
   ],
   "source": [
    "k5_weight = [(item[0], 1/item[1]) for item in k5]\n",
    "k5_weight\n",
    "\n",
    "weight_c1 = [item for item in k5 if item[0] in range(1,7)]\n",
    "weight_c2 = [item for item in k5 if item[0] in range(7,11)]\n",
    "sum_weight_c1 = sum([item[1] for item in weight_c1])\n",
    "sum_weight_c2 = sum([item[1] for item in weight_c2])\n",
    "\n",
    "if (sum_weight_c1 > sum_weight_c2):\n",
    "    print (\"x11 is classified to c1\")\n",
    "    print (sum_weight_c1)\n",
    "    print (sum_weight_c2)\n",
    "else:\n",
    "    print (\"x11 is classified to c2\")\n",
    "    print (sum_weight_c1)\n",
    "    print (sum_weight_c2)\n",
    "    \n",
    "# print (weight_c1)\n",
    "# print (weight_c2)"
   ]
  },
  {
   "cell_type": "code",
   "execution_count": 6,
   "metadata": {},
   "outputs": [
    {
     "data": {
      "text/html": [
       "<div>\n",
       "<style scoped>\n",
       "    .dataframe tbody tr th:only-of-type {\n",
       "        vertical-align: middle;\n",
       "    }\n",
       "\n",
       "    .dataframe tbody tr th {\n",
       "        vertical-align: top;\n",
       "    }\n",
       "\n",
       "    .dataframe thead th {\n",
       "        text-align: right;\n",
       "    }\n",
       "</style>\n",
       "<table border=\"1\" class=\"dataframe\">\n",
       "  <thead>\n",
       "    <tr style=\"text-align: right;\">\n",
       "      <th></th>\n",
       "      <th>Outlook</th>\n",
       "      <th>Temperature</th>\n",
       "      <th>Humidity</th>\n",
       "      <th>Wind</th>\n",
       "      <th>PlayTennis</th>\n",
       "    </tr>\n",
       "  </thead>\n",
       "  <tbody>\n",
       "    <tr>\n",
       "      <th>0</th>\n",
       "      <td>Sunny</td>\n",
       "      <td>Cool</td>\n",
       "      <td>High</td>\n",
       "      <td>Weak</td>\n",
       "      <td>No</td>\n",
       "    </tr>\n",
       "    <tr>\n",
       "      <th>1</th>\n",
       "      <td>Sunny</td>\n",
       "      <td>Cool</td>\n",
       "      <td>High</td>\n",
       "      <td>Strong</td>\n",
       "      <td>No</td>\n",
       "    </tr>\n",
       "    <tr>\n",
       "      <th>2</th>\n",
       "      <td>Sunny</td>\n",
       "      <td>Cool</td>\n",
       "      <td>Normal</td>\n",
       "      <td>Strong</td>\n",
       "      <td>Yes</td>\n",
       "    </tr>\n",
       "    <tr>\n",
       "      <th>3</th>\n",
       "      <td>Rain</td>\n",
       "      <td>Mild</td>\n",
       "      <td>High</td>\n",
       "      <td>Weak</td>\n",
       "      <td>Yes</td>\n",
       "    </tr>\n",
       "    <tr>\n",
       "      <th>4</th>\n",
       "      <td>Sunny</td>\n",
       "      <td>Mild</td>\n",
       "      <td>Normal</td>\n",
       "      <td>Strong</td>\n",
       "      <td>Yes</td>\n",
       "    </tr>\n",
       "    <tr>\n",
       "      <th>5</th>\n",
       "      <td>Overcast</td>\n",
       "      <td>Cool</td>\n",
       "      <td>Normal</td>\n",
       "      <td>Strong</td>\n",
       "      <td>Yes</td>\n",
       "    </tr>\n",
       "    <tr>\n",
       "      <th>6</th>\n",
       "      <td>Sunny</td>\n",
       "      <td>Cool</td>\n",
       "      <td>High</td>\n",
       "      <td>Weak</td>\n",
       "      <td>No</td>\n",
       "    </tr>\n",
       "    <tr>\n",
       "      <th>7</th>\n",
       "      <td>Overcast</td>\n",
       "      <td>Hot</td>\n",
       "      <td>High</td>\n",
       "      <td>Strong</td>\n",
       "      <td>Yes</td>\n",
       "    </tr>\n",
       "    <tr>\n",
       "      <th>8</th>\n",
       "      <td>Overcast</td>\n",
       "      <td>Hot</td>\n",
       "      <td>High</td>\n",
       "      <td>Weak</td>\n",
       "      <td>Yes</td>\n",
       "    </tr>\n",
       "    <tr>\n",
       "      <th>9</th>\n",
       "      <td>Rain</td>\n",
       "      <td>Mild</td>\n",
       "      <td>High</td>\n",
       "      <td>Weak</td>\n",
       "      <td>Yes</td>\n",
       "    </tr>\n",
       "    <tr>\n",
       "      <th>10</th>\n",
       "      <td>Rain</td>\n",
       "      <td>Mild</td>\n",
       "      <td>Normal</td>\n",
       "      <td>Weak</td>\n",
       "      <td>Yes</td>\n",
       "    </tr>\n",
       "    <tr>\n",
       "      <th>11</th>\n",
       "      <td>Rain</td>\n",
       "      <td>Cool</td>\n",
       "      <td>Normal</td>\n",
       "      <td>Strong</td>\n",
       "      <td>No</td>\n",
       "    </tr>\n",
       "    <tr>\n",
       "      <th>12</th>\n",
       "      <td>Overcast</td>\n",
       "      <td>Hot</td>\n",
       "      <td>Normal</td>\n",
       "      <td>Weak</td>\n",
       "      <td>Yes</td>\n",
       "    </tr>\n",
       "    <tr>\n",
       "      <th>13</th>\n",
       "      <td>Rain</td>\n",
       "      <td>Mild</td>\n",
       "      <td>High</td>\n",
       "      <td>Strong</td>\n",
       "      <td>No</td>\n",
       "    </tr>\n",
       "  </tbody>\n",
       "</table>\n",
       "</div>"
      ],
      "text/plain": [
       "     Outlook Temperature Humidity    Wind PlayTennis\n",
       "0      Sunny        Cool     High    Weak         No\n",
       "1      Sunny        Cool     High  Strong         No\n",
       "2      Sunny        Cool   Normal  Strong        Yes\n",
       "3       Rain        Mild     High    Weak        Yes\n",
       "4      Sunny        Mild   Normal  Strong        Yes\n",
       "5   Overcast        Cool   Normal  Strong        Yes\n",
       "6      Sunny        Cool     High    Weak         No\n",
       "7   Overcast         Hot     High  Strong        Yes\n",
       "8   Overcast         Hot     High    Weak        Yes\n",
       "9       Rain        Mild     High    Weak        Yes\n",
       "10      Rain        Mild   Normal    Weak        Yes\n",
       "11      Rain        Cool   Normal  Strong         No\n",
       "12  Overcast         Hot   Normal    Weak        Yes\n",
       "13      Rain        Mild     High  Strong         No"
      ]
     },
     "execution_count": 6,
     "metadata": {},
     "output_type": "execute_result"
    }
   ],
   "source": [
    "dataset = pd.read_csv('dataset.txt', sep='\\s+', names=['Outlook', 'Temperature', 'Humidity', 'Wind', 'PlayTennis'])\n",
    "dataset"
   ]
  },
  {
   "cell_type": "code",
   "execution_count": 7,
   "metadata": {},
   "outputs": [
    {
     "name": "stdout",
     "output_type": "stream",
     "text": [
      "\n",
      " ------ Play Tennis ------ \n",
      "total yes 9\n",
      "total no 5\n",
      "prob_Yes,  0.6428571428571429\n",
      "prob_No,  0.35714285714285715\n",
      "\n",
      " ------ Outlook Overcast  ------ \n",
      "4\n",
      "0\n",
      "prob_Yes,  0.4444444444444444\n",
      "prob_No,  0.0\n",
      "\n",
      " ------ Temperature cool  ------ \n",
      "2\n",
      "4\n",
      "prob_Yes,  0.2222222222222222\n",
      "prob_No,  0.8\n",
      "\n",
      " ------ Humidity high ------ \n",
      "4\n",
      "4\n",
      "prob_Yes,  0.4444444444444444\n",
      "prob_No,  0.8\n",
      "\n",
      " ------ Wind weak ------ \n",
      "5\n",
      "2\n",
      "prob_Yes,  0.5555555555555556\n",
      "prob_No,  0.4\n"
     ]
    }
   ],
   "source": [
    "# P_ol_overcast = len([item for item in dataset['Outlook'].values if item=='Overcast']) / len(dataset['Outlook'].values)\n",
    "# P_te_cool = len([item for item in dataset['Temperature'].values if item=='Cool']) / len(dataset['Temperature'].values)\n",
    "# P_hu_high = len([item for item in dataset['Humidity'].values if item=='High']) / len(dataset['Humidity'].values)\n",
    "# P_wi_weak = len([item for item in dataset['Wind'].values if item=='Weak']) / len(dataset['Wind'].values)\n",
    "\n",
    "play_tennis_yes = len([item for item in dataset['PlayTennis'].values if item=='Yes'])\n",
    "play_tennis_no = len([item for item in dataset['PlayTennis'].values if item=='No']) \n",
    "total_playtennis = len(dataset['PlayTennis'].values)\n",
    "P_pl_yes =  play_tennis_yes / total_playtennis\n",
    "P_pl_no = play_tennis_no / total_playtennis\n",
    "\n",
    "overcast_yes = len([item for item in dataset[['Outlook','PlayTennis']].values if (item[0] == 'Overcast' and item[1] == 'Yes')])\n",
    "overcast_no = len([item for item in dataset[['Outlook','PlayTennis']].values if (item[0] == 'Overcast' and item[1] == 'No')]) \n",
    "P_overcast_yes =  overcast_yes / play_tennis_yes\n",
    "P_overcast_no = overcast_no / play_tennis_no\n",
    "\n",
    "cool_yes = len([item for item in dataset[['Temperature','PlayTennis']].values if (item[0] == 'Cool' and item[1] == 'Yes')])\n",
    "cool_no = len([item for item in dataset[['Temperature','PlayTennis']].values if (item[0] == 'Cool' and item[1] == 'No')])\n",
    "P_cool_yes = cool_yes / play_tennis_yes\n",
    "P_cool_no = cool_no / play_tennis_no\n",
    "\n",
    "high_yes = len([item for item in dataset[['Humidity','PlayTennis']].values if (item[0] == 'High' and item[1] == 'Yes')])\n",
    "high_no = len([item for item in dataset[['Humidity','PlayTennis']].values if (item[0] == 'High' and item[1] == 'No')])\n",
    "P_high_yes =  high_yes / play_tennis_yes\n",
    "P_high_no =  high_no / play_tennis_no \n",
    "\n",
    "weak_yes = len([item for item in dataset[['Wind','PlayTennis']].values if (item[0] == 'Weak' and item[1] == 'Yes')])\n",
    "weak_no = len([item for item in dataset[['Wind','PlayTennis']].values if (item[0] == 'Weak' and item[1] == 'No')])\n",
    "P_weak_yes = weak_yes / play_tennis_yes\n",
    "P_weak_no = weak_no / play_tennis_no\n",
    "\n",
    "print (\"\\n ------ Play Tennis ------ \")\n",
    "print (\"total yes\", play_tennis_yes)\n",
    "print (\"total no\", play_tennis_no)\n",
    "print (\"prob_Yes, \", P_pl_yes)\n",
    "print (\"prob_No, \", P_pl_no)\n",
    "\n",
    "print (\"\\n ------ Outlook Overcast  ------ \")\n",
    "print (overcast_yes)\n",
    "print (overcast_no)\n",
    "print (\"prob_Yes, \", P_overcast_yes)\n",
    "print (\"prob_No, \", P_overcast_no)\n",
    "\n",
    "print (\"\\n ------ Temperature cool  ------ \")\n",
    "print (cool_yes)\n",
    "print (cool_no)\n",
    "print (\"prob_Yes, \", P_cool_yes)\n",
    "print (\"prob_No, \", P_cool_no)\n",
    "\n",
    "print (\"\\n ------ Humidity high ------ \")\n",
    "print (high_yes)\n",
    "print (high_no)\n",
    "print (\"prob_Yes, \", P_high_yes)\n",
    "print (\"prob_No, \", P_high_no)\n",
    "\n",
    "print (\"\\n ------ Wind weak ------ \")\n",
    "print (weak_yes)\n",
    "print (weak_no)\n",
    "print (\"prob_Yes, \", P_weak_yes)\n",
    "print (\"prob_No, \", P_weak_no)\n",
    "\n"
   ]
  },
  {
   "cell_type": "code",
   "execution_count": 8,
   "metadata": {},
   "outputs": [
    {
     "name": "stdout",
     "output_type": "stream",
     "text": [
      "d15 playtennis-YES with probability 0.01567705271408975\n",
      "while probability NO is 0.0\n"
     ]
    }
   ],
   "source": [
    "d15_yes = P_pl_yes*P_overcast_yes*P_cool_yes*P_high_yes*P_weak_yes\n",
    "d15_no = P_pl_no*P_overcast_no*P_cool_no*P_high_no*P_weak_no\n",
    "\n",
    "if d15_yes > d15_no:    \n",
    "    print (\"d15 playtennis-YES with probability\", d15_yes)\n",
    "    print (\"while probability NO is\", d15_no)\n",
    "else:\n",
    "    print (\"d15 playtennis-NO with probability\", d15_no)\n",
    "    print (\"while probability YES is\", d16_yes)\n"
   ]
  },
  {
   "cell_type": "code",
   "execution_count": 9,
   "metadata": {},
   "outputs": [
    {
     "name": "stdout",
     "output_type": "stream",
     "text": [
      "d16 playtennis-NO with probability 0.09142857142857146\n",
      "while probability YES is 0.03527336860670194\n"
     ]
    }
   ],
   "source": [
    "d16_yes = P_pl_yes*P_cool_yes*P_high_yes*P_weak_yes\n",
    "d16_no = P_pl_no*P_cool_no*P_high_no*P_weak_no\n",
    "\n",
    "if d16_yes > d16_no:    \n",
    "    print (\"d16 playtennis-YES with probability\", d16_yes)\n",
    "    print (\"while probability NO is\", d16_no)\n",
    "else:\n",
    "    print (\"d16 playtennis-NO with probability\", d16_no)\n",
    "    print (\"while probability YES is\", d16_yes)\n"
   ]
  },
  {
   "cell_type": "markdown",
   "metadata": {},
   "source": [
    "Conclusion: \n",
    "    In task 1, probability to play tennis is higher while probability not to play tennis is 0 since probability with overcast and not playing tennis is 0.\n",
    "    In task 2, by removing probability with overcast, the probability not to play tennis is increasing and dominating value and change decision not to playtennis."
   ]
  },
  {
   "cell_type": "code",
   "execution_count": null,
   "metadata": {
    "collapsed": true
   },
   "outputs": [],
   "source": []
  }
 ],
 "metadata": {
  "kernelspec": {
   "display_name": "Python 3",
   "language": "python",
   "name": "python3"
  },
  "language_info": {
   "codemirror_mode": {
    "name": "ipython",
    "version": 3
   },
   "file_extension": ".py",
   "mimetype": "text/x-python",
   "name": "python",
   "nbconvert_exporter": "python",
   "pygments_lexer": "ipython3",
   "version": "3.5.4"
  }
 },
 "nbformat": 4,
 "nbformat_minor": 2
}
